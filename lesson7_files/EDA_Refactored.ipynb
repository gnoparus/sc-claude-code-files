{
 "cells": [
  {
   "cell_type": "markdown",
   "metadata": {},
   "source": [
    "# E-commerce Business Analytics Dashboard\n",
    "\n",
    "## Executive Summary\n",
    "This notebook provides a comprehensive analysis of e-commerce business performance, focusing on revenue trends, customer behavior, operational efficiency, and market insights. The analysis is designed to support data-driven business decisions through configurable metrics and visualizations.\n",
    "\n",
    "## Business Objectives\n",
    "- **Revenue Analysis**: Track revenue growth, seasonal trends, and performance drivers\n",
    "- **Product Performance**: Identify top-performing categories and optimize product mix\n",
    "- **Geographic Insights**: Understand regional market opportunities and expansion potential\n",
    "- **Customer Experience**: Measure satisfaction and operational efficiency\n",
    "- **Operational Excellence**: Monitor fulfillment rates and delivery performance"
   ]
  },
  {
   "cell_type": "markdown",
   "metadata": {},
   "source": [
    "## Table of Contents\n",
    "1. [Data Loading & Configuration](#data-loading--configuration)\n",
    "2. [Data Preparation & Transformation](#data-preparation--transformation)\n",
    "3. [Revenue Analysis](#revenue-analysis)\n",
    "4. [Product Category Performance](#product-category-performance)\n",
    "5. [Geographic Market Analysis](#geographic-market-analysis)\n",
    "6. [Customer Experience Analysis](#customer-experience-analysis)\n",
    "7. [Operational Performance](#operational-performance)\n",
    "8. [Summary & Key Insights](#summary--key-insights)"
   ]
  },
  {
   "cell_type": "markdown",
   "metadata": {},
   "source": [
    "## Configuration\n",
    "\n",
    "### Analysis Period Configuration\n",
    "Set the time periods for analysis. The default configuration compares 2023 performance against 2022 baseline."
   ]
  },
  {
   "cell_type": "code",
   "execution_count": 1,
   "metadata": {},
   "outputs": [
    {
     "name": "stdout",
     "output_type": "stream",
     "text": [
      "Analysis Configuration:\n",
      "Current Period: 2023 (Months 1-12)\n",
      "Comparison Period: 2022 (Months 1-12)\n",
      "Data Source: ecommerce_data\n"
     ]
    }
   ],
   "source": [
    "# Analysis Configuration\n",
    "ANALYSIS_CONFIG = {\n",
    "    'current_year': 2023,\n",
    "    'comparison_year': 2022,\n",
    "    'current_start_month': 1,\n",
    "    'current_end_month': 12,\n",
    "    'comparison_start_month': 1,\n",
    "    'comparison_end_month': 12,\n",
    "    'data_path': 'ecommerce_data'\n",
    "}\n",
    "\n",
    "# Display configuration\n",
    "print(\"Analysis Configuration:\")\n",
    "print(f\"Current Period: {ANALYSIS_CONFIG['current_year']} (Months {ANALYSIS_CONFIG['current_start_month']}-{ANALYSIS_CONFIG['current_end_month']})\")\n",
    "print(f\"Comparison Period: {ANALYSIS_CONFIG['comparison_year']} (Months {ANALYSIS_CONFIG['comparison_start_month']}-{ANALYSIS_CONFIG['comparison_end_month']})\")\n",
    "print(f\"Data Source: {ANALYSIS_CONFIG['data_path']}\")"
   ]
  },
  {
   "cell_type": "markdown",
   "metadata": {},
   "source": [
    "## Data Loading & Configuration\n",
    "\n",
    "### Import Libraries and Modules"
   ]
  },
  {
   "cell_type": "code",
   "execution_count": 2,
   "metadata": {},
   "outputs": [
    {
     "name": "stdout",
     "output_type": "stream",
     "text": [
      "Libraries and modules loaded successfully\n"
     ]
    }
   ],
   "source": [
    "# Standard libraries\n",
    "import pandas as pd\n",
    "import numpy as np\n",
    "import matplotlib.pyplot as plt\n",
    "import seaborn as sns\n",
    "import plotly.express as px\n",
    "import plotly.graph_objects as go\n",
    "from plotly.subplots import make_subplots\n",
    "\n",
    "# Custom modules\n",
    "from data_loader import (\n",
    "    load_datasets, \n",
    "    clean_and_prepare_data, \n",
    "    create_sales_dataset, \n",
    "    filter_data_by_date_range,\n",
    "    add_product_categories,\n",
    "    add_customer_geography,\n",
    "    add_review_data,\n",
    "    get_data_summary\n",
    ")\n",
    "\n",
    "from business_metrics import (\n",
    "    calculate_revenue_metrics,\n",
    "    calculate_growth_metrics,\n",
    "    calculate_monthly_trends,\n",
    "    calculate_product_category_metrics,\n",
    "    calculate_geographic_metrics,\n",
    "    calculate_customer_experience_metrics,\n",
    "    calculate_operational_metrics,\n",
    "    generate_metrics_summary\n",
    ")\n",
    "\n",
    "# Visualization configuration\n",
    "plt.style.use('seaborn-v0_8')\n",
    "sns.set_palette(\"husl\")\n",
    "\n",
    "# Business color scheme\n",
    "BUSINESS_COLORS = {\n",
    "    'primary': '#1f77b4',      # Professional blue\n",
    "    'success': '#2ca02c',      # Growth green\n",
    "    'warning': '#ff7f0e',      # Alert orange\n",
    "    'danger': '#d62728',       # Decline red\n",
    "    'info': '#17a2b8',         # Information teal\n",
    "    'neutral': '#6c757d'       # Neutral gray\n",
    "}\n",
    "\n",
    "print(\"Libraries and modules loaded successfully\")"
   ]
  },
  {
   "cell_type": "markdown",
   "metadata": {},
   "source": [
    "### Load Raw Data"
   ]
  },
  {
   "cell_type": "code",
   "execution_count": 3,
   "metadata": {},
   "outputs": [
    {
     "name": "stdout",
     "output_type": "stream",
     "text": [
      "Loading e-commerce datasets...\n",
      "Loaded orders: 10000 rows, 8 columns\n",
      "Loaded order_items: 16047 rows, 7 columns\n",
      "Loaded products: 6000 rows, 9 columns\n",
      "Loaded customers: 8000 rows, 5 columns\n",
      "Loaded reviews: 6571 rows, 7 columns\n",
      "\n",
      "Dataset Overview:\n",
      "Orders: 10,000 rows × 8 columns\n",
      "Order_Items: 16,047 rows × 7 columns\n",
      "Products: 6,000 rows × 9 columns\n",
      "Customers: 8,000 rows × 5 columns\n",
      "Reviews: 6,571 rows × 7 columns\n"
     ]
    }
   ],
   "source": [
    "# Load all datasets\n",
    "print(\"Loading e-commerce datasets...\")\n",
    "datasets = load_datasets(ANALYSIS_CONFIG['data_path'])\n",
    "\n",
    "# Display dataset overview\n",
    "print(\"\\nDataset Overview:\")\n",
    "for name, df in datasets.items():\n",
    "    print(f\"{name.title()}: {df.shape[0]:,} rows × {df.shape[1]} columns\")"
   ]
  },
  {
   "cell_type": "markdown",
   "metadata": {},
   "source": [
    "### Data Dictionary\n",
    "\n",
    "**Key Business Terms and Data Definitions:**\n",
    "\n",
    "**Orders Data:**\n",
    "- `order_id`: Unique identifier for each order\n",
    "- `customer_id`: Unique identifier for each customer\n",
    "- `order_status`: Current status (delivered, shipped, canceled, etc.)\n",
    "- `order_purchase_timestamp`: When the order was placed\n",
    "- `order_delivered_customer_date`: When delivered to customer\n",
    "\n",
    "**Order Items Data:**\n",
    "- `price`: Item price in USD\n",
    "- `freight_value`: Shipping cost in USD\n",
    "- `product_id`: Unique product identifier\n",
    "\n",
    "**Products Data:**\n",
    "- `product_category_name`: Product category classification\n",
    "- `product_weight_g`: Product weight in grams\n",
    "\n",
    "**Customer Data:**\n",
    "- `customer_state`: State/region location\n",
    "- `customer_city`: City location\n",
    "\n",
    "**Reviews Data:**\n",
    "- `review_score`: Customer rating (1-5 stars)\n",
    "- `review_creation_date`: When review was submitted\n",
    "\n",
    "**Calculated Metrics:**\n",
    "- `Average Order Value (AOV)`: Total revenue ÷ number of orders\n",
    "- `Delivery Speed`: Days from purchase to delivery\n",
    "- `Satisfaction Rate`: Percentage of 4-5 star reviews"
   ]
  },
  {
   "cell_type": "markdown",
   "metadata": {},
   "source": [
    "## Data Preparation & Transformation\n",
    "\n",
    "### Clean and Process Raw Data"
   ]
  },
  {
   "cell_type": "code",
   "execution_count": 4,
   "metadata": {},
   "outputs": [
    {
     "name": "stdout",
     "output_type": "stream",
     "text": [
      "Cleaning and preparing datasets...\n",
      "Data cleaning completed successfully\n",
      "\n",
      "Data Quality Summary:\n",
      "Orders: 0.8% missing values\n",
      "Order_Items: 0.0% missing values\n",
      "Products: 0.0% missing values\n",
      "Customers: 0.0% missing values\n",
      "Reviews: 15.6% missing values\n"
     ]
    }
   ],
   "source": [
    "# Clean and prepare all datasets\n",
    "print(\"Cleaning and preparing datasets...\")\n",
    "clean_datasets = clean_and_prepare_data(datasets)\n",
    "\n",
    "# Extract individual datasets for easier reference\n",
    "orders_df = clean_datasets['orders']\n",
    "order_items_df = clean_datasets['order_items']\n",
    "products_df = clean_datasets['products']\n",
    "customers_df = clean_datasets['customers']\n",
    "reviews_df = clean_datasets['reviews']\n",
    "\n",
    "print(\"Data cleaning completed successfully\")\n",
    "\n",
    "# Display data quality summary\n",
    "print(\"\\nData Quality Summary:\")\n",
    "for name, df in clean_datasets.items():\n",
    "    missing_pct = (df.isnull().sum().sum() / (df.shape[0] * df.shape[1])) * 100\n",
    "    print(f\"{name.title()}: {missing_pct:.1f}% missing values\")"
   ]
  },
  {
   "cell_type": "markdown",
   "metadata": {},
   "source": [
    "### Create Consolidated Sales Dataset"
   ]
  },
  {
   "cell_type": "code",
   "execution_count": 5,
   "metadata": {},
   "outputs": [
    {
     "name": "stdout",
     "output_type": "stream",
     "text": [
      "Creating consolidated sales dataset...\n",
      "Consolidated dataset created: 15,095 records\n",
      "Date range: 2021-12-31 to 2024-01-01\n"
     ]
    }
   ],
   "source": [
    "# Create base sales dataset (delivered orders only)\n",
    "print(\"Creating consolidated sales dataset...\")\n",
    "sales_df = create_sales_dataset(clean_datasets, order_status_filter='delivered')\n",
    "\n",
    "# Add product categories\n",
    "sales_df = add_product_categories(sales_df, products_df)\n",
    "\n",
    "# Add customer geography\n",
    "sales_df = add_customer_geography(sales_df, orders_df, customers_df)\n",
    "\n",
    "# Add review data\n",
    "sales_df = add_review_data(sales_df, reviews_df)\n",
    "\n",
    "print(f\"Consolidated dataset created: {sales_df.shape[0]:,} records\")\n",
    "print(f\"Date range: {sales_df['order_purchase_timestamp'].min().strftime('%Y-%m-%d')} to {sales_df['order_purchase_timestamp'].max().strftime('%Y-%m-%d')}\")"
   ]
  },
  {
   "cell_type": "markdown",
   "metadata": {},
   "source": [
    "### Filter Data by Analysis Periods"
   ]
  },
  {
   "cell_type": "code",
   "execution_count": 6,
   "metadata": {},
   "outputs": [
    {
     "name": "stdout",
     "output_type": "stream",
     "text": [
      "Current period dataset: 7,448 records\n",
      "Comparison period dataset: 7,641 records\n",
      "\n",
      "Current Period Sample:\n"
     ]
    },
    {
     "data": {
      "text/html": [
       "<div>\n",
       "<style scoped>\n",
       "    .dataframe tbody tr th:only-of-type {\n",
       "        vertical-align: middle;\n",
       "    }\n",
       "\n",
       "    .dataframe tbody tr th {\n",
       "        vertical-align: top;\n",
       "    }\n",
       "\n",
       "    .dataframe thead th {\n",
       "        text-align: right;\n",
       "    }\n",
       "</style>\n",
       "<table border=\"1\" class=\"dataframe\">\n",
       "  <thead>\n",
       "    <tr style=\"text-align: right;\">\n",
       "      <th></th>\n",
       "      <th>order_id</th>\n",
       "      <th>product_category_name</th>\n",
       "      <th>price</th>\n",
       "      <th>customer_state</th>\n",
       "      <th>review_score</th>\n",
       "    </tr>\n",
       "  </thead>\n",
       "  <tbody>\n",
       "    <tr>\n",
       "      <th>0</th>\n",
       "      <td>ord_5fa044951857e02fd1347b47</td>\n",
       "      <td>grocery_gourmet_food</td>\n",
       "      <td>111.91</td>\n",
       "      <td>TN</td>\n",
       "      <td>5.0</td>\n",
       "    </tr>\n",
       "    <tr>\n",
       "      <th>1</th>\n",
       "      <td>ord_5fa044951857e02fd1347b47</td>\n",
       "      <td>electronics</td>\n",
       "      <td>878.42</td>\n",
       "      <td>TN</td>\n",
       "      <td>5.0</td>\n",
       "    </tr>\n",
       "    <tr>\n",
       "      <th>5</th>\n",
       "      <td>ord_43b53981d951f855231d09ec</td>\n",
       "      <td>sports_outdoors</td>\n",
       "      <td>749.83</td>\n",
       "      <td>FL</td>\n",
       "      <td>5.0</td>\n",
       "    </tr>\n",
       "    <tr>\n",
       "      <th>6</th>\n",
       "      <td>ord_e60b1e267fd32d93c4d0745b</td>\n",
       "      <td>home_garden</td>\n",
       "      <td>361.54</td>\n",
       "      <td>PA</td>\n",
       "      <td>5.0</td>\n",
       "    </tr>\n",
       "    <tr>\n",
       "      <th>7</th>\n",
       "      <td>ord_e60b1e267fd32d93c4d0745b</td>\n",
       "      <td>grocery_gourmet_food</td>\n",
       "      <td>25.59</td>\n",
       "      <td>PA</td>\n",
       "      <td>5.0</td>\n",
       "    </tr>\n",
       "  </tbody>\n",
       "</table>\n",
       "</div>"
      ],
      "text/plain": [
       "                       order_id product_category_name   price customer_state  \\\n",
       "0  ord_5fa044951857e02fd1347b47  grocery_gourmet_food  111.91             TN   \n",
       "1  ord_5fa044951857e02fd1347b47           electronics  878.42             TN   \n",
       "5  ord_43b53981d951f855231d09ec       sports_outdoors  749.83             FL   \n",
       "6  ord_e60b1e267fd32d93c4d0745b           home_garden  361.54             PA   \n",
       "7  ord_e60b1e267fd32d93c4d0745b  grocery_gourmet_food   25.59             PA   \n",
       "\n",
       "   review_score  \n",
       "0           5.0  \n",
       "1           5.0  \n",
       "5           5.0  \n",
       "6           5.0  \n",
       "7           5.0  "
      ]
     },
     "metadata": {},
     "output_type": "display_data"
    }
   ],
   "source": [
    "# Filter data for current analysis period\n",
    "current_period_df = filter_data_by_date_range(\n",
    "    sales_df,\n",
    "    start_year=ANALYSIS_CONFIG['current_year'],\n",
    "    end_year=ANALYSIS_CONFIG['current_year'],\n",
    "    start_month=ANALYSIS_CONFIG['current_start_month'],\n",
    "    end_month=ANALYSIS_CONFIG['current_end_month']\n",
    ")\n",
    "\n",
    "# Filter data for comparison period\n",
    "comparison_period_df = filter_data_by_date_range(\n",
    "    sales_df,\n",
    "    start_year=ANALYSIS_CONFIG['comparison_year'],\n",
    "    end_year=ANALYSIS_CONFIG['comparison_year'],\n",
    "    start_month=ANALYSIS_CONFIG['comparison_start_month'],\n",
    "    end_month=ANALYSIS_CONFIG['comparison_end_month']\n",
    ")\n",
    "\n",
    "print(f\"Current period dataset: {current_period_df.shape[0]:,} records\")\n",
    "print(f\"Comparison period dataset: {comparison_period_df.shape[0]:,} records\")\n",
    "\n",
    "# Display sample of current period data\n",
    "print(\"\\nCurrent Period Sample:\")\n",
    "display(current_period_df[['order_id', 'product_category_name', 'price', 'customer_state', 'review_score']].head())"
   ]
  },
  {
   "cell_type": "markdown",
   "metadata": {},
   "source": [
    "## Revenue Analysis\n",
    "\n",
    "### Overall Revenue Performance"
   ]
  },
  {
   "cell_type": "code",
   "execution_count": 7,
   "metadata": {},
   "outputs": [
    {
     "name": "stdout",
     "output_type": "stream",
     "text": [
      "REVENUE PERFORMANCE SUMMARY\n",
      "==================================================\n",
      "Current Period (2023):\n",
      "  Total Revenue: $3,360,294.74\n",
      "  Total Orders: 4,635\n",
      "  Average Order Value: $724.98\n",
      "  Average Items per Order: 1.6\n",
      "\n",
      "Comparison Period (2022):\n",
      "  Total Revenue: $3,445,076.96\n",
      "  Total Orders: 4,749\n",
      "  Average Order Value: $725.43\n",
      "\n",
      "YEAR-OVER-YEAR GROWTH:\n",
      "  Revenue Growth: -2.46%\n",
      "  Order Growth: -2.40%\n",
      "  AOV Growth: -0.06%\n"
     ]
    }
   ],
   "source": [
    "# Calculate revenue metrics for both periods\n",
    "current_metrics = calculate_revenue_metrics(current_period_df)\n",
    "comparison_metrics = calculate_revenue_metrics(comparison_period_df)\n",
    "growth_metrics = calculate_growth_metrics(current_period_df, comparison_period_df)\n",
    "\n",
    "# Display key metrics\n",
    "print(\"REVENUE PERFORMANCE SUMMARY\")\n",
    "print(\"=\" * 50)\n",
    "print(f\"Current Period ({ANALYSIS_CONFIG['current_year']}):\")\n",
    "print(f\"  Total Revenue: ${current_metrics['total_revenue']:,.2f}\")\n",
    "print(f\"  Total Orders: {current_metrics['total_orders']:,}\")\n",
    "print(f\"  Average Order Value: ${current_metrics['avg_order_value']:,.2f}\")\n",
    "print(f\"  Average Items per Order: {current_metrics['avg_items_per_order']:.1f}\")\n",
    "\n",
    "print(f\"\\nComparison Period ({ANALYSIS_CONFIG['comparison_year']}):\")\n",
    "print(f\"  Total Revenue: ${comparison_metrics['total_revenue']:,.2f}\")\n",
    "print(f\"  Total Orders: {comparison_metrics['total_orders']:,}\")\n",
    "print(f\"  Average Order Value: ${comparison_metrics['avg_order_value']:,.2f}\")\n",
    "\n",
    "print(f\"\\nYEAR-OVER-YEAR GROWTH:\")\n",
    "print(f\"  Revenue Growth: {growth_metrics['revenue_growth_pct']:+.2f}%\")\n",
    "print(f\"  Order Growth: {growth_metrics['order_growth_pct']:+.2f}%\")\n",
    "print(f\"  AOV Growth: {growth_metrics['aov_growth_pct']:+.2f}%\")"
   ]
  },
  {
   "cell_type": "markdown",
   "metadata": {},
   "source": [
    "### Monthly Revenue Trends"
   ]
  },
  {
   "cell_type": "code",
   "execution_count": 8,
   "metadata": {},
   "outputs": [
    {
     "data": {
      "application/vnd.plotly.v1+json": {
       "config": {
        "plotlyServerURL": "https://plot.ly"
       },
       "data": [
        {
         "line": {
          "color": "#1f77b4",
          "width": 3
         },
         "marker": {
          "size": 8
         },
         "mode": "lines+markers",
         "name": "Monthly Revenue",
         "type": "scatter",
         "x": {
          "bdata": "AQAAAAIAAAADAAAABAAAAAUAAAAGAAAABwAAAAgAAAAJAAAACgAAAAsAAAAMAAAA",
          "dtype": "i4"
         },
         "y": {
          "bdata": "uB6F691iEUGPwvUoWuQQQUjhehTLbhFBXI/C9RT7DkFxPQrXj2QSQRSuR+GapRFB9ihcj0UUEkFmZmZm1n4RQZqZmZnEihJBMzMzM5G5D0EK16Nw960PQYXrUbg9CRBB",
          "dtype": "f8"
         }
        }
       ],
       "layout": {
        "height": 400,
        "hovermode": "x unified",
        "template": {
         "data": {
          "bar": [
           {
            "error_x": {
             "color": "#2a3f5f"
            },
            "error_y": {
             "color": "#2a3f5f"
            },
            "marker": {
             "line": {
              "color": "white",
              "width": 0.5
             },
             "pattern": {
              "fillmode": "overlay",
              "size": 10,
              "solidity": 0.2
             }
            },
            "type": "bar"
           }
          ],
          "barpolar": [
           {
            "marker": {
             "line": {
              "color": "white",
              "width": 0.5
             },
             "pattern": {
              "fillmode": "overlay",
              "size": 10,
              "solidity": 0.2
             }
            },
            "type": "barpolar"
           }
          ],
          "carpet": [
           {
            "aaxis": {
             "endlinecolor": "#2a3f5f",
             "gridcolor": "#C8D4E3",
             "linecolor": "#C8D4E3",
             "minorgridcolor": "#C8D4E3",
             "startlinecolor": "#2a3f5f"
            },
            "baxis": {
             "endlinecolor": "#2a3f5f",
             "gridcolor": "#C8D4E3",
             "linecolor": "#C8D4E3",
             "minorgridcolor": "#C8D4E3",
             "startlinecolor": "#2a3f5f"
            },
            "type": "carpet"
           }
          ],
          "choropleth": [
           {
            "colorbar": {
             "outlinewidth": 0,
             "ticks": ""
            },
            "type": "choropleth"
           }
          ],
          "contour": [
           {
            "colorbar": {
             "outlinewidth": 0,
             "ticks": ""
            },
            "colorscale": [
             [
              0,
              "#0d0887"
             ],
             [
              0.1111111111111111,
              "#46039f"
             ],
             [
              0.2222222222222222,
              "#7201a8"
             ],
             [
              0.3333333333333333,
              "#9c179e"
             ],
             [
              0.4444444444444444,
              "#bd3786"
             ],
             [
              0.5555555555555556,
              "#d8576b"
             ],
             [
              0.6666666666666666,
              "#ed7953"
             ],
             [
              0.7777777777777778,
              "#fb9f3a"
             ],
             [
              0.8888888888888888,
              "#fdca26"
             ],
             [
              1,
              "#f0f921"
             ]
            ],
            "type": "contour"
           }
          ],
          "contourcarpet": [
           {
            "colorbar": {
             "outlinewidth": 0,
             "ticks": ""
            },
            "type": "contourcarpet"
           }
          ],
          "heatmap": [
           {
            "colorbar": {
             "outlinewidth": 0,
             "ticks": ""
            },
            "colorscale": [
             [
              0,
              "#0d0887"
             ],
             [
              0.1111111111111111,
              "#46039f"
             ],
             [
              0.2222222222222222,
              "#7201a8"
             ],
             [
              0.3333333333333333,
              "#9c179e"
             ],
             [
              0.4444444444444444,
              "#bd3786"
             ],
             [
              0.5555555555555556,
              "#d8576b"
             ],
             [
              0.6666666666666666,
              "#ed7953"
             ],
             [
              0.7777777777777778,
              "#fb9f3a"
             ],
             [
              0.8888888888888888,
              "#fdca26"
             ],
             [
              1,
              "#f0f921"
             ]
            ],
            "type": "heatmap"
           }
          ],
          "histogram": [
           {
            "marker": {
             "pattern": {
              "fillmode": "overlay",
              "size": 10,
              "solidity": 0.2
             }
            },
            "type": "histogram"
           }
          ],
          "histogram2d": [
           {
            "colorbar": {
             "outlinewidth": 0,
             "ticks": ""
            },
            "colorscale": [
             [
              0,
              "#0d0887"
             ],
             [
              0.1111111111111111,
              "#46039f"
             ],
             [
              0.2222222222222222,
              "#7201a8"
             ],
             [
              0.3333333333333333,
              "#9c179e"
             ],
             [
              0.4444444444444444,
              "#bd3786"
             ],
             [
              0.5555555555555556,
              "#d8576b"
             ],
             [
              0.6666666666666666,
              "#ed7953"
             ],
             [
              0.7777777777777778,
              "#fb9f3a"
             ],
             [
              0.8888888888888888,
              "#fdca26"
             ],
             [
              1,
              "#f0f921"
             ]
            ],
            "type": "histogram2d"
           }
          ],
          "histogram2dcontour": [
           {
            "colorbar": {
             "outlinewidth": 0,
             "ticks": ""
            },
            "colorscale": [
             [
              0,
              "#0d0887"
             ],
             [
              0.1111111111111111,
              "#46039f"
             ],
             [
              0.2222222222222222,
              "#7201a8"
             ],
             [
              0.3333333333333333,
              "#9c179e"
             ],
             [
              0.4444444444444444,
              "#bd3786"
             ],
             [
              0.5555555555555556,
              "#d8576b"
             ],
             [
              0.6666666666666666,
              "#ed7953"
             ],
             [
              0.7777777777777778,
              "#fb9f3a"
             ],
             [
              0.8888888888888888,
              "#fdca26"
             ],
             [
              1,
              "#f0f921"
             ]
            ],
            "type": "histogram2dcontour"
           }
          ],
          "mesh3d": [
           {
            "colorbar": {
             "outlinewidth": 0,
             "ticks": ""
            },
            "type": "mesh3d"
           }
          ],
          "parcoords": [
           {
            "line": {
             "colorbar": {
              "outlinewidth": 0,
              "ticks": ""
             }
            },
            "type": "parcoords"
           }
          ],
          "pie": [
           {
            "automargin": true,
            "type": "pie"
           }
          ],
          "scatter": [
           {
            "fillpattern": {
             "fillmode": "overlay",
             "size": 10,
             "solidity": 0.2
            },
            "type": "scatter"
           }
          ],
          "scatter3d": [
           {
            "line": {
             "colorbar": {
              "outlinewidth": 0,
              "ticks": ""
             }
            },
            "marker": {
             "colorbar": {
              "outlinewidth": 0,
              "ticks": ""
             }
            },
            "type": "scatter3d"
           }
          ],
          "scattercarpet": [
           {
            "marker": {
             "colorbar": {
              "outlinewidth": 0,
              "ticks": ""
             }
            },
            "type": "scattercarpet"
           }
          ],
          "scattergeo": [
           {
            "marker": {
             "colorbar": {
              "outlinewidth": 0,
              "ticks": ""
             }
            },
            "type": "scattergeo"
           }
          ],
          "scattergl": [
           {
            "marker": {
             "colorbar": {
              "outlinewidth": 0,
              "ticks": ""
             }
            },
            "type": "scattergl"
           }
          ],
          "scattermap": [
           {
            "marker": {
             "colorbar": {
              "outlinewidth": 0,
              "ticks": ""
             }
            },
            "type": "scattermap"
           }
          ],
          "scattermapbox": [
           {
            "marker": {
             "colorbar": {
              "outlinewidth": 0,
              "ticks": ""
             }
            },
            "type": "scattermapbox"
           }
          ],
          "scatterpolar": [
           {
            "marker": {
             "colorbar": {
              "outlinewidth": 0,
              "ticks": ""
             }
            },
            "type": "scatterpolar"
           }
          ],
          "scatterpolargl": [
           {
            "marker": {
             "colorbar": {
              "outlinewidth": 0,
              "ticks": ""
             }
            },
            "type": "scatterpolargl"
           }
          ],
          "scatterternary": [
           {
            "marker": {
             "colorbar": {
              "outlinewidth": 0,
              "ticks": ""
             }
            },
            "type": "scatterternary"
           }
          ],
          "surface": [
           {
            "colorbar": {
             "outlinewidth": 0,
             "ticks": ""
            },
            "colorscale": [
             [
              0,
              "#0d0887"
             ],
             [
              0.1111111111111111,
              "#46039f"
             ],
             [
              0.2222222222222222,
              "#7201a8"
             ],
             [
              0.3333333333333333,
              "#9c179e"
             ],
             [
              0.4444444444444444,
              "#bd3786"
             ],
             [
              0.5555555555555556,
              "#d8576b"
             ],
             [
              0.6666666666666666,
              "#ed7953"
             ],
             [
              0.7777777777777778,
              "#fb9f3a"
             ],
             [
              0.8888888888888888,
              "#fdca26"
             ],
             [
              1,
              "#f0f921"
             ]
            ],
            "type": "surface"
           }
          ],
          "table": [
           {
            "cells": {
             "fill": {
              "color": "#EBF0F8"
             },
             "line": {
              "color": "white"
             }
            },
            "header": {
             "fill": {
              "color": "#C8D4E3"
             },
             "line": {
              "color": "white"
             }
            },
            "type": "table"
           }
          ]
         },
         "layout": {
          "annotationdefaults": {
           "arrowcolor": "#2a3f5f",
           "arrowhead": 0,
           "arrowwidth": 1
          },
          "autotypenumbers": "strict",
          "coloraxis": {
           "colorbar": {
            "outlinewidth": 0,
            "ticks": ""
           }
          },
          "colorscale": {
           "diverging": [
            [
             0,
             "#8e0152"
            ],
            [
             0.1,
             "#c51b7d"
            ],
            [
             0.2,
             "#de77ae"
            ],
            [
             0.3,
             "#f1b6da"
            ],
            [
             0.4,
             "#fde0ef"
            ],
            [
             0.5,
             "#f7f7f7"
            ],
            [
             0.6,
             "#e6f5d0"
            ],
            [
             0.7,
             "#b8e186"
            ],
            [
             0.8,
             "#7fbc41"
            ],
            [
             0.9,
             "#4d9221"
            ],
            [
             1,
             "#276419"
            ]
           ],
           "sequential": [
            [
             0,
             "#0d0887"
            ],
            [
             0.1111111111111111,
             "#46039f"
            ],
            [
             0.2222222222222222,
             "#7201a8"
            ],
            [
             0.3333333333333333,
             "#9c179e"
            ],
            [
             0.4444444444444444,
             "#bd3786"
            ],
            [
             0.5555555555555556,
             "#d8576b"
            ],
            [
             0.6666666666666666,
             "#ed7953"
            ],
            [
             0.7777777777777778,
             "#fb9f3a"
            ],
            [
             0.8888888888888888,
             "#fdca26"
            ],
            [
             1,
             "#f0f921"
            ]
           ],
           "sequentialminus": [
            [
             0,
             "#0d0887"
            ],
            [
             0.1111111111111111,
             "#46039f"
            ],
            [
             0.2222222222222222,
             "#7201a8"
            ],
            [
             0.3333333333333333,
             "#9c179e"
            ],
            [
             0.4444444444444444,
             "#bd3786"
            ],
            [
             0.5555555555555556,
             "#d8576b"
            ],
            [
             0.6666666666666666,
             "#ed7953"
            ],
            [
             0.7777777777777778,
             "#fb9f3a"
            ],
            [
             0.8888888888888888,
             "#fdca26"
            ],
            [
             1,
             "#f0f921"
            ]
           ]
          },
          "colorway": [
           "#636efa",
           "#EF553B",
           "#00cc96",
           "#ab63fa",
           "#FFA15A",
           "#19d3f3",
           "#FF6692",
           "#B6E880",
           "#FF97FF",
           "#FECB52"
          ],
          "font": {
           "color": "#2a3f5f"
          },
          "geo": {
           "bgcolor": "white",
           "lakecolor": "white",
           "landcolor": "white",
           "showlakes": true,
           "showland": true,
           "subunitcolor": "#C8D4E3"
          },
          "hoverlabel": {
           "align": "left"
          },
          "hovermode": "closest",
          "mapbox": {
           "style": "light"
          },
          "paper_bgcolor": "white",
          "plot_bgcolor": "white",
          "polar": {
           "angularaxis": {
            "gridcolor": "#EBF0F8",
            "linecolor": "#EBF0F8",
            "ticks": ""
           },
           "bgcolor": "white",
           "radialaxis": {
            "gridcolor": "#EBF0F8",
            "linecolor": "#EBF0F8",
            "ticks": ""
           }
          },
          "scene": {
           "xaxis": {
            "backgroundcolor": "white",
            "gridcolor": "#DFE8F3",
            "gridwidth": 2,
            "linecolor": "#EBF0F8",
            "showbackground": true,
            "ticks": "",
            "zerolinecolor": "#EBF0F8"
           },
           "yaxis": {
            "backgroundcolor": "white",
            "gridcolor": "#DFE8F3",
            "gridwidth": 2,
            "linecolor": "#EBF0F8",
            "showbackground": true,
            "ticks": "",
            "zerolinecolor": "#EBF0F8"
           },
           "zaxis": {
            "backgroundcolor": "white",
            "gridcolor": "#DFE8F3",
            "gridwidth": 2,
            "linecolor": "#EBF0F8",
            "showbackground": true,
            "ticks": "",
            "zerolinecolor": "#EBF0F8"
           }
          },
          "shapedefaults": {
           "line": {
            "color": "#2a3f5f"
           }
          },
          "ternary": {
           "aaxis": {
            "gridcolor": "#DFE8F3",
            "linecolor": "#A2B1C6",
            "ticks": ""
           },
           "baxis": {
            "gridcolor": "#DFE8F3",
            "linecolor": "#A2B1C6",
            "ticks": ""
           },
           "bgcolor": "white",
           "caxis": {
            "gridcolor": "#DFE8F3",
            "linecolor": "#A2B1C6",
            "ticks": ""
           }
          },
          "title": {
           "x": 0.05
          },
          "xaxis": {
           "automargin": true,
           "gridcolor": "#EBF0F8",
           "linecolor": "#EBF0F8",
           "ticks": "",
           "title": {
            "standoff": 15
           },
           "zerolinecolor": "#EBF0F8",
           "zerolinewidth": 2
          },
          "yaxis": {
           "automargin": true,
           "gridcolor": "#EBF0F8",
           "linecolor": "#EBF0F8",
           "ticks": "",
           "title": {
            "standoff": 15
           },
           "zerolinecolor": "#EBF0F8",
           "zerolinewidth": 2
          }
         }
        },
        "title": {
         "text": "Monthly Revenue Trend - 2023"
        },
        "xaxis": {
         "title": {
          "text": "Month"
         }
        },
        "yaxis": {
         "tickformat": "$,.0f",
         "title": {
          "text": "Revenue (USD)"
         }
        }
       }
      }
     },
     "metadata": {},
     "output_type": "display_data"
    },
    {
     "name": "stdout",
     "output_type": "stream",
     "text": [
      "MONTHLY GROWTH RATES:\n",
      "  Month 2: -2.84%\n",
      "  Month 3: +3.20%\n",
      "  Month 4: -11.14%\n",
      "  Month 5: +18.74%\n",
      "  Month 6: -4.06%\n",
      "  Month 7: +2.45%\n",
      "  Month 8: -3.23%\n",
      "  Month 9: +5.98%\n",
      "  Month 10: -14.45%\n",
      "  Month 11: -0.14%\n",
      "  Month 12: +1.24%\n"
     ]
    }
   ],
   "source": [
    "# Calculate monthly trends for current year\n",
    "monthly_trends = calculate_monthly_trends(current_period_df, year_filter=ANALYSIS_CONFIG['current_year'])\n",
    "\n",
    "# Create monthly revenue trend visualization\n",
    "fig = go.Figure()\n",
    "\n",
    "# Add revenue line\n",
    "fig.add_trace(go.Scatter(\n",
    "    x=monthly_trends['month'],\n",
    "    y=monthly_trends['total_revenue'],\n",
    "    mode='lines+markers',\n",
    "    name='Monthly Revenue',\n",
    "    line=dict(color=BUSINESS_COLORS['primary'], width=3),\n",
    "    marker=dict(size=8)\n",
    "))\n",
    "\n",
    "# Update layout\n",
    "fig.update_layout(\n",
    "    title=f'Monthly Revenue Trend - {ANALYSIS_CONFIG[\"current_year\"]}',\n",
    "    xaxis_title='Month',\n",
    "    yaxis_title='Revenue (USD)',\n",
    "    yaxis_tickformat='$,.0f',\n",
    "    hovermode='x unified',\n",
    "    template='plotly_white',\n",
    "    height=400\n",
    ")\n",
    "\n",
    "fig.show()\n",
    "\n",
    "# Display monthly growth rates\n",
    "print(\"MONTHLY GROWTH RATES:\")\n",
    "for _, row in monthly_trends.iterrows():\n",
    "    growth = row['revenue_mom_growth']\n",
    "    if pd.notna(growth):\n",
    "        print(f\"  Month {int(row['month'])}: {growth:+.2f}%\")"
   ]
  },
  {
   "cell_type": "markdown",
   "metadata": {},
   "source": [
    "### Revenue Distribution Analysis"
   ]
  },
  {
   "cell_type": "code",
   "execution_count": 9,
   "metadata": {},
   "outputs": [
    {
     "data": {
      "image/png": "[encoded data removed]",
      "text/plain": [
       "<Figure size 1500x600 with 2 Axes>"
      ]
     },
     "metadata": {},
     "output_type": "display_data"
    },
    {
     "name": "stdout",
     "output_type": "stream",
     "text": [
      "ORDER VALUE PERCENTILES:\n",
      "  25th percentile: $154.89\n",
      "  50th percentile: $456.52\n",
      "  75th percentile: $1111.76\n",
      "  90th percentile: $1754.53\n",
      "  95th percentile: $2173.75\n"
     ]
    }
   ],
   "source": [
    "# Calculate order value distribution\n",
    "order_values = current_period_df.groupby('order_id')['price'].sum()\n",
    "\n",
    "# Create revenue distribution visualization\n",
    "fig, (ax1, ax2) = plt.subplots(1, 2, figsize=(15, 6))\n",
    "\n",
    "# Histogram of order values\n",
    "ax1.hist(order_values, bins=50, color=BUSINESS_COLORS['primary'], alpha=0.7, edgecolor='white')\n",
    "ax1.set_title('Order Value Distribution', fontsize=14, fontweight='bold')\n",
    "ax1.set_xlabel('Order Value (USD)')\n",
    "ax1.set_ylabel('Number of Orders')\n",
    "ax1.grid(True, alpha=0.3)\n",
    "\n",
    "# Box plot of order values\n",
    "ax2.boxplot(order_values, vert=True, patch_artist=True, \n",
    "            boxprops=dict(facecolor=BUSINESS_COLORS['primary'], alpha=0.7))\n",
    "ax2.set_title('Order Value Distribution Summary', fontsize=14, fontweight='bold')\n",
    "ax2.set_ylabel('Order Value (USD)')\n",
    "ax2.grid(True, alpha=0.3)\n",
    "\n",
    "plt.tight_layout()\n",
    "plt.show()\n",
    "\n",
    "# Display percentile information\n",
    "percentiles = [25, 50, 75, 90, 95]\n",
    "print(\"ORDER VALUE PERCENTILES:\")\n",
    "for p in percentiles:\n",
    "    value = np.percentile(order_values, p)\n",
    "    print(f\"  {p}th percentile: ${value:.2f}\")"
   ]
  },
  {
   "cell_type": "code",
   "execution_count": 10,
   "metadata": {},
   "outputs": [
    {
     "name": "stdout",
     "output_type": "stream",
     "text": [
      "REVENUE PERFORMANCE DASHBOARD\n",
      "==================================================\n"
     ]
    },
    {
     "data": {
      "application/vnd.plotly.v1+json": {
       "config": {
        "plotlyServerURL": "https://plot.ly"
       },
       "data": [
        {
         "marker": {
          "color": [
           "#d62728",
           "#d62728",
           "#d62728"
          ]
         },
         "text": [
          "-2.5%",
          "-2.4%",
          "-0.1%"
         ],
         "textposition": "outside",
         "type": "bar",
         "x": [
          "Revenue Growth",
          "Order Growth",
          "AOV Growth"
         ],
         "xaxis": "x",
         "y": [
          -2.4609673741512057,
          -2.4005053695514844,
          -0.06194909597497408
         ],
         "yaxis": "y"
        },
        {
         "marker": {
          "color": "#1f77b4"
         },
         "name": "Monthly Revenue",
         "type": "bar",
         "x": {
          "bdata": "AQAAAAIAAAADAAAABAAAAAUAAAAGAAAABwAAAAgAAAAJAAAACgAAAAsAAAAMAAAA",
          "dtype": "i4"
         },
         "xaxis": "x2",
         "y": {
          "bdata": "uB6F691iEUGPwvUoWuQQQUjhehTLbhFBXI/C9RT7DkFxPQrXj2QSQRSuR+GapRFB9ihcj0UUEkFmZmZm1n4RQZqZmZnEihJBMzMzM5G5D0EK16Nw960PQYXrUbg9CRBB",
          "dtype": "f8"
         },
         "yaxis": "y2"
        },
        {
         "line": {
          "color": "#ff7f0e",
          "width": 3
         },
         "mode": "lines",
         "name": "Trend",
         "type": "scatter",
         "x": {
          "bdata": "AQAAAAIAAAADAAAABAAAAAUAAAAGAAAABwAAAAgAAAAJAAAACgAAAAsAAAAMAAAA",
          "dtype": "i4"
         },
         "xaxis": "x2",
         "y": {
          "bdata": "uB6F691iEUGPwvUoWuQQQUjhehTLbhFBXI/C9RT7DkFxPQrXj2QSQRSuR+GapRFB9ihcj0UUEkFmZmZm1n4RQZqZmZnEihJBMzMzM5G5D0EK16Nw960PQYXrUbg9CRBB",
          "dtype": "f8"
         },
         "yaxis": "y2"
        },
        {
         "marker": {
          "color": "#17a2b8"
         },
         "name": "Order Values",
         "nbinsx": 30,
         "opacity": 0.7,
         "type": "histogram",
         "x": {
          "bdata": "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",
          "dtype": "f8"
         },
         "xaxis": "x3",
         "yaxis": "y3"
        },
        {
         "marker": {
          "color": [
           "#2ca02c",
           "#2ca02c",
           "#2ca02c",
           "#2ca02c"
          ]
         },
         "text": [
          "100%",
          "100%",
          "93%",
          "100%"
         ],
         "textposition": "outside",
         "type": "bar",
         "x": [
          "Revenue Target Achievement",
          "AOV Performance",
          "Order Volume Performance",
          "Revenue per Customer"
         ],
         "xaxis": "x4",
         "y": [
          100,
          100,
          92.7,
          100
         ],
         "yaxis": "y4"
        }
       ],
       "layout": {
        "annotations": [
         {
          "font": {
           "size": 16
          },
          "showarrow": false,
          "text": "Revenue vs Order Growth",
          "x": 0.225,
          "xanchor": "center",
          "xref": "paper",
          "y": 1,
          "yanchor": "bottom",
          "yref": "paper"
         },
         {
          "font": {
           "size": 16
          },
          "showarrow": false,
          "text": "Monthly Revenue Breakdown",
          "x": 0.775,
          "xanchor": "center",
          "xref": "paper",
          "y": 1,
          "yanchor": "bottom",
          "yref": "paper"
         },
         {
          "font": {
           "size": 16
          },
          "showarrow": false,
          "text": "Order Value Distribution",
          "x": 0.225,
          "xanchor": "center",
          "xref": "paper",
          "y": 0.375,
          "yanchor": "bottom",
          "yref": "paper"
         },
         {
          "font": {
           "size": 16
          },
          "showarrow": false,
          "text": "Revenue Performance Indicators",
          "x": 0.775,
          "xanchor": "center",
          "xref": "paper",
          "y": 0.375,
          "yanchor": "bottom",
          "yref": "paper"
         }
        ],
        "height": 700,
        "showlegend": false,
        "template": {
         "data": {
          "bar": [
           {
            "error_x": {
             "color": "#2a3f5f"
            },
            "error_y": {
             "color": "#2a3f5f"
            },
            "marker": {
             "line": {
              "color": "white",
              "width": 0.5
             },
             "pattern": {
              "fillmode": "overlay",
              "size": 10,
              "solidity": 0.2
             }
            },
            "type": "bar"
           }
          ],
          "barpolar": [
           {
            "marker": {
             "line": {
              "color": "white",
              "width": 0.5
             },
             "pattern": {
              "fillmode": "overlay",
              "size": 10,
              "solidity": 0.2
             }
            },
            "type": "barpolar"
           }
          ],
          "carpet": [
           {
            "aaxis": {
             "endlinecolor": "#2a3f5f",
             "gridcolor": "#C8D4E3",
             "linecolor": "#C8D4E3",
             "minorgridcolor": "#C8D4E3",
             "startlinecolor": "#2a3f5f"
            },
            "baxis": {
             "endlinecolor": "#2a3f5f",
             "gridcolor": "#C8D4E3",
             "linecolor": "#C8D4E3",
             "minorgridcolor": "#C8D4E3",
             "startlinecolor": "#2a3f5f"
            },
            "type": "carpet"
           }
          ],
          "choropleth": [
           {
            "colorbar": {
             "outlinewidth": 0,
             "ticks": ""
            },
            "type": "choropleth"
           }
          ],
          "contour": [
           {
            "colorbar": {
             "outlinewidth": 0,
             "ticks": ""
            },
            "colorscale": [
             [
              0,
              "#0d0887"
             ],
             [
              0.1111111111111111,
              "#46039f"
             ],
             [
              0.2222222222222222,
              "#7201a8"
             ],
             [
              0.3333333333333333,
              "#9c179e"
             ],
             [
              0.4444444444444444,
              "#bd3786"
             ],
             [
              0.5555555555555556,
              "#d8576b"
             ],
             [
              0.6666666666666666,
              "#ed7953"
             ],
             [
              0.7777777777777778,
              "#fb9f3a"
             ],
             [
              0.8888888888888888,
              "#fdca26"
             ],
             [
              1,
              "#f0f921"
             ]
            ],
            "type": "contour"
           }
          ],
          "contourcarpet": [
           {
            "colorbar": {
             "outlinewidth": 0,
             "ticks": ""
            },
            "type": "contourcarpet"
           }
          ],
          "heatmap": [
           {
            "colorbar": {
             "outlinewidth": 0,
             "ticks": ""
            },
            "colorscale": [
             [
              0,
              "#0d0887"
             ],
             [
              0.1111111111111111,
              "#46039f"
             ],
             [
              0.2222222222222222,
              "#7201a8"
             ],
             [
              0.3333333333333333,
              "#9c179e"
             ],
             [
              0.4444444444444444,
              "#bd3786"
             ],
             [
              0.5555555555555556,
              "#d8576b"
             ],
             [
              0.6666666666666666,
              "#ed7953"
             ],
             [
              0.7777777777777778,
              "#fb9f3a"
             ],
             [
              0.8888888888888888,
              "#fdca26"
             ],
             [
              1,
              "#f0f921"
             ]
            ],
            "type": "heatmap"
           }
          ],
          "histogram": [
           {
            "marker": {
             "pattern": {
              "fillmode": "overlay",
              "size": 10,
              "solidity": 0.2
             }
            },
            "type": "histogram"
           }
          ],
          "histogram2d": [
           {
            "colorbar": {
             "outlinewidth": 0,
             "ticks": ""
            },
            "colorscale": [
             [
              0,
              "#0d0887"
             ],
             [
              0.1111111111111111,
              "#46039f"
             ],
             [
              0.2222222222222222,
              "#7201a8"
             ],
             [
              0.3333333333333333,
              "#9c179e"
             ],
             [
              0.4444444444444444,
              "#bd3786"
             ],
             [
              0.5555555555555556,
              "#d8576b"
             ],
             [
              0.6666666666666666,
              "#ed7953"
             ],
             [
              0.7777777777777778,
              "#fb9f3a"
             ],
             [
              0.8888888888888888,
              "#fdca26"
             ],
             [
              1,
              "#f0f921"
             ]
            ],
            "type": "histogram2d"
           }
          ],
          "histogram2dcontour": [
           {
            "colorbar": {
             "outlinewidth": 0,
             "ticks": ""
            },
            "colorscale": [
             [
              0,
              "#0d0887"
             ],
             [
              0.1111111111111111,
              "#46039f"
             ],
             [
              0.2222222222222222,
              "#7201a8"
             ],
             [
              0.3333333333333333,
              "#9c179e"
             ],
             [
              0.4444444444444444,
              "#bd3786"
             ],
             [
              0.5555555555555556,
              "#d8576b"
             ],
             [
              0.6666666666666666,
              "#ed7953"
             ],
             [
              0.7777777777777778,
              "#fb9f3a"
             ],
             [
              0.8888888888888888,
              "#fdca26"
             ],
             [
              1,
              "#f0f921"
             ]
            ],
            "type": "histogram2dcontour"
           }
          ],
          "mesh3d": [
           {
            "colorbar": {
             "outlinewidth": 0,
             "ticks": ""
            },
            "type": "mesh3d"
           }
          ],
          "parcoords": [
           {
            "line": {
             "colorbar": {
              "outlinewidth": 0,
              "ticks": ""
             }
            },
            "type": "parcoords"
           }
          ],
          "pie": [
           {
            "automargin": true,
            "type": "pie"
           }
          ],
          "scatter": [
           {
            "fillpattern": {
             "fillmode": "overlay",
             "size": 10,
             "solidity": 0.2
            },
            "type": "scatter"
           }
          ],
          "scatter3d": [
           {
            "line": {
             "colorbar": {
              "outlinewidth": 0,
              "ticks": ""
             }
            },
            "marker": {
             "colorbar": {
              "outlinewidth": 0,
              "ticks": ""
             }
            },
            "type": "scatter3d"
           }
          ],
          "scattercarpet": [
           {
            "marker": {
             "colorbar": {
              "outlinewidth": 0,
              "ticks": ""
             }
            },
            "type": "scattercarpet"
           }
          ],
          "scattergeo": [
           {
            "marker": {
             "colorbar": {
              "outlinewidth": 0,
              "ticks": ""
             }
            },
            "type": "scattergeo"
           }
          ],
          "scattergl": [
           {
            "marker": {
             "colorbar": {
              "outlinewidth": 0,
              "ticks": ""
             }
            },
            "type": "scattergl"
           }
          ],
          "scattermap": [
           {
            "marker": {
             "colorbar": {
              "outlinewidth": 0,
              "ticks": ""
             }
            },
            "type": "scattermap"
           }
          ],
          "scattermapbox": [
           {
            "marker": {
             "colorbar": {
              "outlinewidth": 0,
              "ticks": ""
             }
            },
            "type": "scattermapbox"
           }
          ],
          "scatterpolar": [
           {
            "marker": {
             "colorbar": {
              "outlinewidth": 0,
              "ticks": ""
             }
            },
            "type": "scatterpolar"
           }
          ],
          "scatterpolargl": [
           {
            "marker": {
             "colorbar": {
              "outlinewidth": 0,
              "ticks": ""
             }
            },
            "type": "scatterpolargl"
           }
          ],
          "scatterternary": [
           {
            "marker": {
             "colorbar": {
              "outlinewidth": 0,
              "ticks": ""
             }
            },
            "type": "scatterternary"
           }
          ],
          "surface": [
           {
            "colorbar": {
             "outlinewidth": 0,
             "ticks": ""
            },
            "colorscale": [
             [
              0,
              "#0d0887"
             ],
             [
              0.1111111111111111,
              "#46039f"
             ],
             [
              0.2222222222222222,
              "#7201a8"
             ],
             [
              0.3333333333333333,
              "#9c179e"
             ],
             [
              0.4444444444444444,
              "#bd3786"
             ],
             [
              0.5555555555555556,
              "#d8576b"
             ],
             [
              0.6666666666666666,
              "#ed7953"
             ],
             [
              0.7777777777777778,
              "#fb9f3a"
             ],
             [
              0.8888888888888888,
              "#fdca26"
             ],
             [
              1,
              "#f0f921"
             ]
            ],
            "type": "surface"
           }
          ],
          "table": [
           {
            "cells": {
             "fill": {
              "color": "#EBF0F8"
             },
             "line": {
              "color": "white"
             }
            },
            "header": {
             "fill": {
              "color": "#C8D4E3"
             },
             "line": {
              "color": "white"
             }
            },
            "type": "table"
           }
          ]
         },
         "layout": {
          "annotationdefaults": {
           "arrowcolor": "#2a3f5f",
           "arrowhead": 0,
           "arrowwidth": 1
          },
          "autotypenumbers": "strict",
          "coloraxis": {
           "colorbar": {
            "outlinewidth": 0,
            "ticks": ""
           }
          },
          "colorscale": {
           "diverging": [
            [
             0,
             "#8e0152"
            ],
            [
             0.1,
             "#c51b7d"
            ],
            [
             0.2,
             "#de77ae"
            ],
            [
             0.3,
             "#f1b6da"
            ],
            [
             0.4,
             "#fde0ef"
            ],
            [
             0.5,
             "#f7f7f7"
            ],
            [
             0.6,
             "#e6f5d0"
            ],
            [
             0.7,
             "#b8e186"
            ],
            [
             0.8,
             "#7fbc41"
            ],
            [
             0.9,
             "#4d9221"
            ],
            [
             1,
             "#276419"
            ]
           ],
           "sequential": [
            [
             0,
             "#0d0887"
            ],
            [
             0.1111111111111111,
             "#46039f"
            ],
            [
             0.2222222222222222,
             "#7201a8"
            ],
            [
             0.3333333333333333,
             "#9c179e"
            ],
            [
             0.4444444444444444,
             "#bd3786"
            ],
            [
             0.5555555555555556,
             "#d8576b"
            ],
            [
             0.6666666666666666,
             "#ed7953"
            ],
            [
             0.7777777777777778,
             "#fb9f3a"
            ],
            [
             0.8888888888888888,
             "#fdca26"
            ],
            [
             1,
             "#f0f921"
            ]
           ],
           "sequentialminus": [
            [
             0,
             "#0d0887"
            ],
            [
             0.1111111111111111,
             "#46039f"
            ],
            [
             0.2222222222222222,
             "#7201a8"
            ],
            [
             0.3333333333333333,
             "#9c179e"
            ],
            [
             0.4444444444444444,
             "#bd3786"
            ],
            [
             0.5555555555555556,
             "#d8576b"
            ],
            [
             0.6666666666666666,
             "#ed7953"
            ],
            [
             0.7777777777777778,
             "#fb9f3a"
            ],
            [
             0.8888888888888888,
             "#fdca26"
            ],
            [
             1,
             "#f0f921"
            ]
           ]
          },
          "colorway": [
           "#636efa",
           "#EF553B",
           "#00cc96",
           "#ab63fa",
           "#FFA15A",
           "#19d3f3",
           "#FF6692",
           "#B6E880",
           "#FF97FF",
           "#FECB52"
          ],
          "font": {
           "color": "#2a3f5f"
          },
          "geo": {
           "bgcolor": "white",
           "lakecolor": "white",
           "landcolor": "white",
           "showlakes": true,
           "showland": true,
           "subunitcolor": "#C8D4E3"
          },
          "hoverlabel": {
           "align": "left"
          },
          "hovermode": "closest",
          "mapbox": {
           "style": "light"
          },
          "paper_bgcolor": "white",
          "plot_bgcolor": "white",
          "polar": {
           "angularaxis": {
            "gridcolor": "#EBF0F8",
            "linecolor": "#EBF0F8",
            "ticks": ""
           },
           "bgcolor": "white",
           "radialaxis": {
            "gridcolor": "#EBF0F8",
            "linecolor": "#EBF0F8",
            "ticks": ""
           }
          },
          "scene": {
           "xaxis": {
            "backgroundcolor": "white",
            "gridcolor": "#DFE8F3",
            "gridwidth": 2,
            "linecolor": "#EBF0F8",
            "showbackground": true,
            "ticks": "",
            "zerolinecolor": "#EBF0F8"
           },
           "yaxis": {
            "backgroundcolor": "white",
            "gridcolor": "#DFE8F3",
            "gridwidth": 2,
            "linecolor": "#EBF0F8",
            "showbackground": true,
            "ticks": "",
            "zerolinecolor": "#EBF0F8"
           },
           "zaxis": {
            "backgroundcolor": "white",
            "gridcolor": "#DFE8F3",
            "gridwidth": 2,
            "linecolor": "#EBF0F8",
            "showbackground": true,
            "ticks": "",
            "zerolinecolor": "#EBF0F8"
           }
          },
          "shapedefaults": {
           "line": {
            "color": "#2a3f5f"
           }
          },
          "ternary": {
           "aaxis": {
            "gridcolor": "#DFE8F3",
            "linecolor": "#A2B1C6",
            "ticks": ""
           },
           "baxis": {
            "gridcolor": "#DFE8F3",
            "linecolor": "#A2B1C6",
            "ticks": ""
           },
           "bgcolor": "white",
           "caxis": {
            "gridcolor": "#DFE8F3",
            "linecolor": "#A2B1C6",
            "ticks": ""
           }
          },
          "title": {
           "x": 0.05
          },
          "xaxis": {
           "automargin": true,
           "gridcolor": "#EBF0F8",
           "linecolor": "#EBF0F8",
           "ticks": "",
           "title": {
            "standoff": 15
           },
           "zerolinecolor": "#EBF0F8",
           "zerolinewidth": 2
          },
          "yaxis": {
           "automargin": true,
           "gridcolor": "#EBF0F8",
           "linecolor": "#EBF0F8",
           "ticks": "",
           "title": {
            "standoff": 15
           },
           "zerolinecolor": "#EBF0F8",
           "zerolinewidth": 2
          }
         }
        },
        "title": {
         "text": "Revenue Performance Dashboard - 2023"
        },
        "xaxis": {
         "anchor": "y",
         "domain": [
          0,
          0.45
         ]
        },
        "xaxis2": {
         "anchor": "y2",
         "domain": [
          0.55,
          1
         ]
        },
        "xaxis3": {
         "anchor": "y3",
         "domain": [
          0,
          0.45
         ],
         "title": {
          "text": "Order Value ($)"
         }
        },
        "xaxis4": {
         "anchor": "y4",
         "domain": [
          0.55,
          1
         ]
        },
        "yaxis": {
         "anchor": "x",
         "domain": [
          0.625,
          1
         ],
         "title": {
          "text": "Growth %"
         }
        },
        "yaxis2": {
         "anchor": "x2",
         "domain": [
          0.625,
          1
         ],
         "title": {
          "text": "Revenue ($)"
         }
        },
        "yaxis3": {
         "anchor": "x3",
         "domain": [
          0,
          0.375
         ]
        },
        "yaxis4": {
         "anchor": "x4",
         "domain": [
          0,
          0.375
         ],
         "title": {
          "text": "Performance %"
         }
        }
       }
      }
     },
     "metadata": {},
     "output_type": "display_data"
    },
    {
     "name": "stdout",
     "output_type": "stream",
     "text": [
      "\n",
      "REVENUE PERFORMANCE INSIGHTS:\n",
      "==================================================\n",
      "⚠ GROWTH: Negative growth requires immediate strategic attention\n",
      "→ AOV: Average Order Value decreased by $0.45 - focus on upselling\n",
      "⚠ TREND: Declining monthly trend needs intervention\n",
      "\n",
      "KEY METRICS:\n",
      "  • Total Revenue: $3,360,294.74\n",
      "  • YoY Growth: -2.5%\n",
      "  • Average Order Value: $724.98\n",
      "  • Revenue per Customer: $950.85\n"
     ]
    }
   ],
   "source": [
    "# Create comprehensive revenue performance dashboard\n",
    "print(\"REVENUE PERFORMANCE DASHBOARD\")\n",
    "print(\"=\" * 50)\n",
    "\n",
    "# Create revenue performance dashboard\n",
    "fig = make_subplots(\n",
    "    rows=2, cols=2,\n",
    "    subplot_titles=('Revenue vs Order Growth', 'Monthly Revenue Breakdown', \n",
    "                   'Order Value Distribution', 'Revenue Performance Indicators'),\n",
    "    specs=[[{\"type\": \"scatter\"}, {\"type\": \"bar\"}],\n",
    "           [{\"type\": \"histogram\"}, {\"type\": \"bar\"}]]\n",
    ")\n",
    "\n",
    "# 1. Revenue vs Order Growth comparison\n",
    "growth_comparison = {\n",
    "    'Revenue Growth': growth_metrics['revenue_growth_pct'],\n",
    "    'Order Growth': growth_metrics['order_growth_pct'],\n",
    "    'AOV Growth': growth_metrics['aov_growth_pct']\n",
    "}\n",
    "\n",
    "fig.add_trace(go.Bar(\n",
    "    x=list(growth_comparison.keys()),\n",
    "    y=list(growth_comparison.values()),\n",
    "    marker_color=[BUSINESS_COLORS['success'] if v >= 0 else BUSINESS_COLORS['danger'] \n",
    "                  for v in growth_comparison.values()],\n",
    "    text=[f'{v:+.1f}%' for v in growth_comparison.values()],\n",
    "    textposition='outside'\n",
    "), row=1, col=1)\n",
    "\n",
    "# 2. Monthly revenue breakdown with trend\n",
    "fig.add_trace(go.Bar(\n",
    "    x=monthly_trends['month'],\n",
    "    y=monthly_trends['total_revenue'],\n",
    "    marker_color=BUSINESS_COLORS['primary'],\n",
    "    name='Monthly Revenue'\n",
    "), row=1, col=2)\n",
    "\n",
    "# Add trend line\n",
    "fig.add_trace(go.Scatter(\n",
    "    x=monthly_trends['month'],\n",
    "    y=monthly_trends['total_revenue'],\n",
    "    mode='lines',\n",
    "    line=dict(color=BUSINESS_COLORS['warning'], width=3),\n",
    "    name='Trend'\n",
    "), row=1, col=2)\n",
    "\n",
    "# 3. Order value distribution histogram\n",
    "order_values = current_period_df.groupby('order_id')['price'].sum()\n",
    "fig.add_trace(go.Histogram(\n",
    "    x=order_values,\n",
    "    nbinsx=30,\n",
    "    marker_color=BUSINESS_COLORS['info'],\n",
    "    opacity=0.7,\n",
    "    name='Order Values'\n",
    "), row=2, col=1)\n",
    "\n",
    "# 4. Key revenue performance indicators\n",
    "revenue_kpis = {\n",
    "    'Revenue Target Achievement': min(100, current_metrics['total_revenue'] / 1000000 * 100),  # Assuming $1M target\n",
    "    'AOV Performance': min(100, current_metrics['avg_order_value'] / 150 * 100),  # Assuming $150 target AOV\n",
    "    'Order Volume Performance': min(100, current_metrics['total_orders'] / 5000 * 100),  # Assuming 5K orders target\n",
    "    'Revenue per Customer': min(100, current_metrics['total_revenue'] / current_period_df['customer_id'].nunique() / 200 * 100)  # $200 target per customer\n",
    "}\n",
    "\n",
    "fig.add_trace(go.Bar(\n",
    "    x=list(revenue_kpis.keys()),\n",
    "    y=list(revenue_kpis.values()),\n",
    "    marker_color=[BUSINESS_COLORS['success'] if v >= 80 else \n",
    "                  BUSINESS_COLORS['warning'] if v >= 60 else \n",
    "                  BUSINESS_COLORS['danger'] for v in revenue_kpis.values()],\n",
    "    text=[f'{v:.0f}%' for v in revenue_kpis.values()],\n",
    "    textposition='outside'\n",
    "), row=2, col=2)\n",
    "\n",
    "# Update layout\n",
    "fig.update_layout(\n",
    "    title_text=f\"Revenue Performance Dashboard - {ANALYSIS_CONFIG['current_year']}\",\n",
    "    template='plotly_white',\n",
    "    height=700,\n",
    "    showlegend=False\n",
    ")\n",
    "\n",
    "# Update axis labels\n",
    "fig.update_yaxes(title_text=\"Growth %\", row=1, col=1)\n",
    "fig.update_yaxes(title_text=\"Revenue ($)\", row=1, col=2)\n",
    "fig.update_xaxes(title_text=\"Order Value ($)\", row=2, col=1)\n",
    "fig.update_yaxes(title_text=\"Performance %\", row=2, col=2)\n",
    "\n",
    "fig.show()\n",
    "\n",
    "# Revenue performance insights\n",
    "print(\"\\nREVENUE PERFORMANCE INSIGHTS:\")\n",
    "print(\"=\" * 50)\n",
    "\n",
    "# Growth analysis\n",
    "if growth_metrics['revenue_growth_pct'] > 10:\n",
    "    print(\"✓ GROWTH: Strong revenue growth indicates successful business expansion\")\n",
    "elif growth_metrics['revenue_growth_pct'] > 0:\n",
    "    print(\"→ GROWTH: Positive growth - look for acceleration opportunities\")\n",
    "else:\n",
    "    print(\"⚠ GROWTH: Negative growth requires immediate strategic attention\")\n",
    "\n",
    "# AOV analysis\n",
    "if current_metrics['avg_order_value'] > comparison_metrics['avg_order_value']:\n",
    "    aov_change = current_metrics['avg_order_value'] - comparison_metrics['avg_order_value']\n",
    "    print(f\"✓ AOV: Average Order Value increased by ${aov_change:.2f}\")\n",
    "else:\n",
    "    aov_change = comparison_metrics['avg_order_value'] - current_metrics['avg_order_value']\n",
    "    print(f\"→ AOV: Average Order Value decreased by ${aov_change:.2f} - focus on upselling\")\n",
    "\n",
    "# Monthly trend analysis\n",
    "revenue_trend = monthly_trends['revenue_mom_growth'].mean()\n",
    "if revenue_trend > 5:\n",
    "    print(\"✓ TREND: Strong monthly revenue growth momentum\")\n",
    "elif revenue_trend > 0:\n",
    "    print(\"→ TREND: Positive monthly trend - maintain momentum\")\n",
    "else:\n",
    "    print(\"⚠ TREND: Declining monthly trend needs intervention\")\n",
    "\n",
    "print(f\"\\nKEY METRICS:\")\n",
    "print(f\"  • Total Revenue: ${current_metrics['total_revenue']:,.2f}\")\n",
    "print(f\"  • YoY Growth: {growth_metrics['revenue_growth_pct']:+.1f}%\")\n",
    "print(f\"  • Average Order Value: ${current_metrics['avg_order_value']:.2f}\")\n",
    "print(f\"  • Revenue per Customer: ${current_metrics['total_revenue'] / current_period_df['customer_id'].nunique():.2f}\")"
   ]
  },
  {
   "cell_type": "markdown",
   "metadata": {},
   "source": [
    "## Product Category Performance\n",
    "\n",
    "### Data Structure Check"
   ]
  },
  {
   "cell_type": "code",
   "execution_count": 11,
   "metadata": {},
   "outputs": [
    {
     "name": "stdout",
     "output_type": "stream",
     "text": [
      "DEBUGGING DATA STRUCTURE:\n",
      "Products DataFrame columns: ['product_id', 'product_category_name', 'product_name_length', 'product_description_length', 'product_photos_qty', 'product_weight_g', 'product_length_cm', 'product_height_cm', 'product_width_cm']\n",
      "Current period DataFrame columns: ['order_id', 'order_item_id', 'product_id', 'price', 'freight_value', 'order_status', 'order_purchase_timestamp', 'order_delivered_customer_date', 'purchase_year', 'purchase_month', 'customer_id', 'delivery_days', 'delivery_speed_category', 'product_category_name', 'customer_state', 'customer_city', 'customer_zip_code_prefix', 'review_score', 'review_creation_date']\n",
      "Products DataFrame shape: (6000, 9)\n",
      "Current period DataFrame shape: (7448, 19)\n",
      "Product categories found: 13 unique categories\n",
      "Sample categories: ['books_media' 'grocery_gourmet_food' 'electronics' 'sports_outdoors'\n",
      " 'home_garden']\n",
      "Categories in current period data: 13 unique\n",
      "Product IDs - Sales: 4286, Catalog: 6000, Overlap: 4286\n"
     ]
    }
   ],
   "source": [
    "# Debug: Check data structure before category analysis\n",
    "print(\"DEBUGGING DATA STRUCTURE:\")\n",
    "print(f\"Products DataFrame columns: {list(products_df.columns)}\")\n",
    "print(f\"Current period DataFrame columns: {list(current_period_df.columns)}\")\n",
    "print(f\"Products DataFrame shape: {products_df.shape}\")\n",
    "print(f\"Current period DataFrame shape: {current_period_df.shape}\")\n",
    "\n",
    "# Check if product_category_name exists in either dataset\n",
    "if 'product_category_name' in products_df.columns:\n",
    "    print(f\"Product categories found: {products_df['product_category_name'].nunique()} unique categories\")\n",
    "    print(f\"Sample categories: {products_df['product_category_name'].unique()[:5]}\")\n",
    "else:\n",
    "    print(\"WARNING: product_category_name not found in products_df\")\n",
    "\n",
    "if 'product_category_name' in current_period_df.columns:\n",
    "    print(f\"Categories in current period data: {current_period_df['product_category_name'].nunique()} unique\")\n",
    "else:\n",
    "    print(\"WARNING: product_category_name not found in current_period_df\")\n",
    "\n",
    "# Check product_id presence and overlap\n",
    "if 'product_id' in products_df.columns and 'product_id' in current_period_df.columns:\n",
    "    products_in_sales = current_period_df['product_id'].nunique()\n",
    "    products_in_catalog = products_df['product_id'].nunique()\n",
    "    overlap = len(set(current_period_df['product_id']) & set(products_df['product_id']))\n",
    "    print(f\"Product IDs - Sales: {products_in_sales}, Catalog: {products_in_catalog}, Overlap: {overlap}\")"
   ]
  },
  {
   "cell_type": "code",
   "execution_count": 12,
   "metadata": {},
   "outputs": [
    {
     "name": "stdout",
     "output_type": "stream",
     "text": [
      "Product category already exists in sales data, using existing categories\n",
      "TOP PRODUCT CATEGORIES BY REVENUE:\n",
      "==================================================\n",
      "Electronics               $1,401,359.21 (41.7%)\n",
      "Home_Garden               $862,653.27 (25.7%)\n",
      "Sports_Outdoors           $278,845.32 ( 8.3%)\n",
      "Automotive                $247,707.10 ( 7.4%)\n",
      "Clothing_Shoes_Jewelry    $232,745.04 ( 6.9%)\n",
      "Toys_Games                $ 70,163.64 ( 2.1%)\n",
      "Health_Personal_Care      $ 65,370.27 ( 1.9%)\n",
      "Tools_Home_Improvement    $ 54,280.33 ( 1.6%)\n",
      "Beauty_Personal_Care      $ 49,213.30 ( 1.5%)\n",
      "Books_Media               $ 38,559.08 ( 1.1%)\n"
     ]
    },
    {
     "data": {
      "application/vnd.plotly.v1+json": {
       "config": {
        "plotlyServerURL": "https://plot.ly"
       },
       "data": [
        {
         "marker": {
          "color": "#1f77b4"
         },
         "orientation": "h",
         "text": [
          "$1,401,359",
          "$862,653",
          "$278,845",
          "$247,707",
          "$232,745",
          "$70,164",
          "$65,370",
          "$54,280",
          "$49,213",
          "$38,559"
         ],
         "textposition": "outside",
         "type": "bar",
         "x": {
          "bdata": "XI/CNQ9iNUGkcD2KelMqQXsUrkf1BBFBzczMzNg8DkEfhetRSGkMQdejcD06IfFAPQrXo0jr70D2KFyPCoHqQJqZmZmpB+hA9ihcj+LT4kA=",
          "dtype": "f8"
         },
         "y": [
          "Electronics",
          "Home_Garden",
          "Sports_Outdoors",
          "Automotive",
          "Clothing_Shoes_Jewelry",
          "Toys_Games",
          "Health_Personal_Care",
          "Tools_Home_Improvement",
          "Beauty_Personal_Care",
          "Books_Media"
         ]
        }
       ],
       "layout": {
        "height": 500,
        "margin": {
         "l": 200
        },
        "template": {
         "data": {
          "bar": [
           {
            "error_x": {
             "color": "#2a3f5f"
            },
            "error_y": {
             "color": "#2a3f5f"
            },
            "marker": {
             "line": {
              "color": "white",
              "width": 0.5
             },
             "pattern": {
              "fillmode": "overlay",
              "size": 10,
              "solidity": 0.2
             }
            },
            "type": "bar"
           }
          ],
          "barpolar": [
           {
            "marker": {
             "line": {
              "color": "white",
              "width": 0.5
             },
             "pattern": {
              "fillmode": "overlay",
              "size": 10,
              "solidity": 0.2
             }
            },
            "type": "barpolar"
           }
          ],
          "carpet": [
           {
            "aaxis": {
             "endlinecolor": "#2a3f5f",
             "gridcolor": "#C8D4E3",
             "linecolor": "#C8D4E3",
             "minorgridcolor": "#C8D4E3",
             "startlinecolor": "#2a3f5f"
            },
            "baxis": {
             "endlinecolor": "#2a3f5f",
             "gridcolor": "#C8D4E3",
             "linecolor": "#C8D4E3",
             "minorgridcolor": "#C8D4E3",
             "startlinecolor": "#2a3f5f"
            },
            "type": "carpet"
           }
          ],
          "choropleth": [
           {
            "colorbar": {
             "outlinewidth": 0,
             "ticks": ""
            },
            "type": "choropleth"
           }
          ],
          "contour": [
           {
            "colorbar": {
             "outlinewidth": 0,
             "ticks": ""
            },
            "colorscale": [
             [
              0,
              "#0d0887"
             ],
             [
              0.1111111111111111,
              "#46039f"
             ],
             [
              0.2222222222222222,
              "#7201a8"
             ],
             [
              0.3333333333333333,
              "#9c179e"
             ],
             [
              0.4444444444444444,
              "#bd3786"
             ],
             [
              0.5555555555555556,
              "#d8576b"
             ],
             [
              0.6666666666666666,
              "#ed7953"
             ],
             [
              0.7777777777777778,
              "#fb9f3a"
             ],
             [
              0.8888888888888888,
              "#fdca26"
             ],
             [
              1,
              "#f0f921"
             ]
            ],
            "type": "contour"
           }
          ],
          "contourcarpet": [
           {
            "colorbar": {
             "outlinewidth": 0,
             "ticks": ""
            },
            "type": "contourcarpet"
           }
          ],
          "heatmap": [
           {
            "colorbar": {
             "outlinewidth": 0,
             "ticks": ""
            },
            "colorscale": [
             [
              0,
              "#0d0887"
             ],
             [
              0.1111111111111111,
              "#46039f"
             ],
             [
              0.2222222222222222,
              "#7201a8"
             ],
             [
              0.3333333333333333,
              "#9c179e"
             ],
             [
              0.4444444444444444,
              "#bd3786"
             ],
             [
              0.5555555555555556,
              "#d8576b"
             ],
             [
              0.6666666666666666,
              "#ed7953"
             ],
             [
              0.7777777777777778,
              "#fb9f3a"
             ],
             [
              0.8888888888888888,
              "#fdca26"
             ],
             [
              1,
              "#f0f921"
             ]
            ],
            "type": "heatmap"
           }
          ],
          "histogram": [
           {
            "marker": {
             "pattern": {
              "fillmode": "overlay",
              "size": 10,
              "solidity": 0.2
             }
            },
            "type": "histogram"
           }
          ],
          "histogram2d": [
           {
            "colorbar": {
             "outlinewidth": 0,
             "ticks": ""
            },
            "colorscale": [
             [
              0,
              "#0d0887"
             ],
             [
              0.1111111111111111,
              "#46039f"
             ],
             [
              0.2222222222222222,
              "#7201a8"
             ],
             [
              0.3333333333333333,
              "#9c179e"
             ],
             [
              0.4444444444444444,
              "#bd3786"
             ],
             [
              0.5555555555555556,
              "#d8576b"
             ],
             [
              0.6666666666666666,
              "#ed7953"
             ],
             [
              0.7777777777777778,
              "#fb9f3a"
             ],
             [
              0.8888888888888888,
              "#fdca26"
             ],
             [
              1,
              "#f0f921"
             ]
            ],
            "type": "histogram2d"
           }
          ],
          "histogram2dcontour": [
           {
            "colorbar": {
             "outlinewidth": 0,
             "ticks": ""
            },
            "colorscale": [
             [
              0,
              "#0d0887"
             ],
             [
              0.1111111111111111,
              "#46039f"
             ],
             [
              0.2222222222222222,
              "#7201a8"
             ],
             [
              0.3333333333333333,
              "#9c179e"
             ],
             [
              0.4444444444444444,
              "#bd3786"
             ],
             [
              0.5555555555555556,
              "#d8576b"
             ],
             [
              0.6666666666666666,
              "#ed7953"
             ],
             [
              0.7777777777777778,
              "#fb9f3a"
             ],
             [
              0.8888888888888888,
              "#fdca26"
             ],
             [
              1,
              "#f0f921"
             ]
            ],
            "type": "histogram2dcontour"
           }
          ],
          "mesh3d": [
           {
            "colorbar": {
             "outlinewidth": 0,
             "ticks": ""
            },
            "type": "mesh3d"
           }
          ],
          "parcoords": [
           {
            "line": {
             "colorbar": {
              "outlinewidth": 0,
              "ticks": ""
             }
            },
            "type": "parcoords"
           }
          ],
          "pie": [
           {
            "automargin": true,
            "type": "pie"
           }
          ],
          "scatter": [
           {
            "fillpattern": {
             "fillmode": "overlay",
             "size": 10,
             "solidity": 0.2
            },
            "type": "scatter"
           }
          ],
          "scatter3d": [
           {
            "line": {
             "colorbar": {
              "outlinewidth": 0,
              "ticks": ""
             }
            },
            "marker": {
             "colorbar": {
              "outlinewidth": 0,
              "ticks": ""
             }
            },
            "type": "scatter3d"
           }
          ],
          "scattercarpet": [
           {
            "marker": {
             "colorbar": {
              "outlinewidth": 0,
              "ticks": ""
             }
            },
            "type": "scattercarpet"
           }
          ],
          "scattergeo": [
           {
            "marker": {
             "colorbar": {
              "outlinewidth": 0,
              "ticks": ""
             }
            },
            "type": "scattergeo"
           }
          ],
          "scattergl": [
           {
            "marker": {
             "colorbar": {
              "outlinewidth": 0,
              "ticks": ""
             }
            },
            "type": "scattergl"
           }
          ],
          "scattermap": [
           {
            "marker": {
             "colorbar": {
              "outlinewidth": 0,
              "ticks": ""
             }
            },
            "type": "scattermap"
           }
          ],
          "scattermapbox": [
           {
            "marker": {
             "colorbar": {
              "outlinewidth": 0,
              "ticks": ""
             }
            },
            "type": "scattermapbox"
           }
          ],
          "scatterpolar": [
           {
            "marker": {
             "colorbar": {
              "outlinewidth": 0,
              "ticks": ""
             }
            },
            "type": "scatterpolar"
           }
          ],
          "scatterpolargl": [
           {
            "marker": {
             "colorbar": {
              "outlinewidth": 0,
              "ticks": ""
             }
            },
            "type": "scatterpolargl"
           }
          ],
          "scatterternary": [
           {
            "marker": {
             "colorbar": {
              "outlinewidth": 0,
              "ticks": ""
             }
            },
            "type": "scatterternary"
           }
          ],
          "surface": [
           {
            "colorbar": {
             "outlinewidth": 0,
             "ticks": ""
            },
            "colorscale": [
             [
              0,
              "#0d0887"
             ],
             [
              0.1111111111111111,
              "#46039f"
             ],
             [
              0.2222222222222222,
              "#7201a8"
             ],
             [
              0.3333333333333333,
              "#9c179e"
             ],
             [
              0.4444444444444444,
              "#bd3786"
             ],
             [
              0.5555555555555556,
              "#d8576b"
             ],
             [
              0.6666666666666666,
              "#ed7953"
             ],
             [
              0.7777777777777778,
              "#fb9f3a"
             ],
             [
              0.8888888888888888,
              "#fdca26"
             ],
             [
              1,
              "#f0f921"
             ]
            ],
            "type": "surface"
           }
          ],
          "table": [
           {
            "cells": {
             "fill": {
              "color": "#EBF0F8"
             },
             "line": {
              "color": "white"
             }
            },
            "header": {
             "fill": {
              "color": "#C8D4E3"
             },
             "line": {
              "color": "white"
             }
            },
            "type": "table"
           }
          ]
         },
         "layout": {
          "annotationdefaults": {
           "arrowcolor": "#2a3f5f",
           "arrowhead": 0,
           "arrowwidth": 1
          },
          "autotypenumbers": "strict",
          "coloraxis": {
           "colorbar": {
            "outlinewidth": 0,
            "ticks": ""
           }
          },
          "colorscale": {
           "diverging": [
            [
             0,
             "#8e0152"
            ],
            [
             0.1,
             "#c51b7d"
            ],
            [
             0.2,
             "#de77ae"
            ],
            [
             0.3,
             "#f1b6da"
            ],
            [
             0.4,
             "#fde0ef"
            ],
            [
             0.5,
             "#f7f7f7"
            ],
            [
             0.6,
             "#e6f5d0"
            ],
            [
             0.7,
             "#b8e186"
            ],
            [
             0.8,
             "#7fbc41"
            ],
            [
             0.9,
             "#4d9221"
            ],
            [
             1,
             "#276419"
            ]
           ],
           "sequential": [
            [
             0,
             "#0d0887"
            ],
            [
             0.1111111111111111,
             "#46039f"
            ],
            [
             0.2222222222222222,
             "#7201a8"
            ],
            [
             0.3333333333333333,
             "#9c179e"
            ],
            [
             0.4444444444444444,
             "#bd3786"
            ],
            [
             0.5555555555555556,
             "#d8576b"
            ],
            [
             0.6666666666666666,
             "#ed7953"
            ],
            [
             0.7777777777777778,
             "#fb9f3a"
            ],
            [
             0.8888888888888888,
             "#fdca26"
            ],
            [
             1,
             "#f0f921"
            ]
           ],
           "sequentialminus": [
            [
             0,
             "#0d0887"
            ],
            [
             0.1111111111111111,
             "#46039f"
            ],
            [
             0.2222222222222222,
             "#7201a8"
            ],
            [
             0.3333333333333333,
             "#9c179e"
            ],
            [
             0.4444444444444444,
             "#bd3786"
            ],
            [
             0.5555555555555556,
             "#d8576b"
            ],
            [
             0.6666666666666666,
             "#ed7953"
            ],
            [
             0.7777777777777778,
             "#fb9f3a"
            ],
            [
             0.8888888888888888,
             "#fdca26"
            ],
            [
             1,
             "#f0f921"
            ]
           ]
          },
          "colorway": [
           "#636efa",
           "#EF553B",
           "#00cc96",
           "#ab63fa",
           "#FFA15A",
           "#19d3f3",
           "#FF6692",
           "#B6E880",
           "#FF97FF",
           "#FECB52"
          ],
          "font": {
           "color": "#2a3f5f"
          },
          "geo": {
           "bgcolor": "white",
           "lakecolor": "white",
           "landcolor": "white",
           "showlakes": true,
           "showland": true,
           "subunitcolor": "#C8D4E3"
          },
          "hoverlabel": {
           "align": "left"
          },
          "hovermode": "closest",
          "mapbox": {
           "style": "light"
          },
          "paper_bgcolor": "white",
          "plot_bgcolor": "white",
          "polar": {
           "angularaxis": {
            "gridcolor": "#EBF0F8",
            "linecolor": "#EBF0F8",
            "ticks": ""
           },
           "bgcolor": "white",
           "radialaxis": {
            "gridcolor": "#EBF0F8",
            "linecolor": "#EBF0F8",
            "ticks": ""
           }
          },
          "scene": {
           "xaxis": {
            "backgroundcolor": "white",
            "gridcolor": "#DFE8F3",
            "gridwidth": 2,
            "linecolor": "#EBF0F8",
            "showbackground": true,
            "ticks": "",
            "zerolinecolor": "#EBF0F8"
           },
           "yaxis": {
            "backgroundcolor": "white",
            "gridcolor": "#DFE8F3",
            "gridwidth": 2,
            "linecolor": "#EBF0F8",
            "showbackground": true,
            "ticks": "",
            "zerolinecolor": "#EBF0F8"
           },
           "zaxis": {
            "backgroundcolor": "white",
            "gridcolor": "#DFE8F3",
            "gridwidth": 2,
            "linecolor": "#EBF0F8",
            "showbackground": true,
            "ticks": "",
            "zerolinecolor": "#EBF0F8"
           }
          },
          "shapedefaults": {
           "line": {
            "color": "#2a3f5f"
           }
          },
          "ternary": {
           "aaxis": {
            "gridcolor": "#DFE8F3",
            "linecolor": "#A2B1C6",
            "ticks": ""
           },
           "baxis": {
            "gridcolor": "#DFE8F3",
            "linecolor": "#A2B1C6",
            "ticks": ""
           },
           "bgcolor": "white",
           "caxis": {
            "gridcolor": "#DFE8F3",
            "linecolor": "#A2B1C6",
            "ticks": ""
           }
          },
          "title": {
           "x": 0.05
          },
          "xaxis": {
           "automargin": true,
           "gridcolor": "#EBF0F8",
           "linecolor": "#EBF0F8",
           "ticks": "",
           "title": {
            "standoff": 15
           },
           "zerolinecolor": "#EBF0F8",
           "zerolinewidth": 2
          },
          "yaxis": {
           "automargin": true,
           "gridcolor": "#EBF0F8",
           "linecolor": "#EBF0F8",
           "ticks": "",
           "title": {
            "standoff": 15
           },
           "zerolinecolor": "#EBF0F8",
           "zerolinewidth": 2
          }
         }
        },
        "title": {
         "text": "Top 10 Product Categories by Revenue - 2023"
        },
        "xaxis": {
         "title": {
          "text": "Revenue (USD)"
         }
        },
        "yaxis": {
         "categoryorder": "total ascending",
         "title": {
          "text": "Product Category"
         }
        }
       }
      }
     },
     "metadata": {},
     "output_type": "display_data"
    }
   ],
   "source": [
    "# Calculate category metrics for current period\n",
    "category_metrics = calculate_product_category_metrics(current_period_df, products_df)\n",
    "\n",
    "# Check if we got valid results\n",
    "if category_metrics.empty:\n",
    "    print(\"ERROR: No category metrics calculated. Check data structure above.\")\n",
    "    # Create a fallback analysis without categories\n",
    "    print(\"\\nFALLBACK: Analyzing without product categories\")\n",
    "    print(f\"Total revenue (all products): ${current_period_df['price'].sum():,.2f}\")\n",
    "    print(f\"Total products sold: {current_period_df['product_id'].nunique():,}\")\n",
    "else:\n",
    "    # Display top categories\n",
    "    print(\"TOP PRODUCT CATEGORIES BY REVENUE:\")\n",
    "    print(\"=\" * 50)\n",
    "    for idx, row in category_metrics.head(10).iterrows():\n",
    "        print(f\"{row['product_category_name'].title():25} ${row['total_revenue']:>10,.2f} ({row['revenue_share_pct']:4.1f}%)\")\n",
    "    \n",
    "    # Create category revenue visualization\n",
    "    top_categories = category_metrics.head(10)\n",
    "    \n",
    "    fig = go.Figure(data=[\n",
    "        go.Bar(\n",
    "            y=top_categories['product_category_name'].str.title(),\n",
    "            x=top_categories['total_revenue'],\n",
    "            orientation='h',\n",
    "            marker_color=BUSINESS_COLORS['primary'],\n",
    "            text=[f'${x:,.0f}' for x in top_categories['total_revenue']],\n",
    "            textposition='outside'\n",
    "        )\n",
    "    ])\n",
    "    \n",
    "    fig.update_layout(\n",
    "        title=f'Top 10 Product Categories by Revenue - {ANALYSIS_CONFIG[\"current_year\"]}',\n",
    "        xaxis_title='Revenue (USD)',\n",
    "        yaxis_title='Product Category',\n",
    "        yaxis={'categoryorder': 'total ascending'},\n",
    "        template='plotly_white',\n",
    "        height=500,\n",
    "        margin=dict(l=200)\n",
    "    )\n",
    "    \n",
    "    fig.show()"
   ]
  },
  {
   "cell_type": "markdown",
   "metadata": {},
   "source": [
    "### Category Performance Metrics"
   ]
  },
  {
   "cell_type": "code",
   "execution_count": 13,
   "metadata": {},
   "outputs": [
    {
     "name": "stdout",
     "output_type": "stream",
     "text": [
      "Review score already exists in sales data, using existing data\n",
      "OPERATIONAL PERFORMANCE SUMMARY\n",
      "==================================================\n",
      "Delivery Success Rate: 93.9%\n",
      "Cancellation Rate: 1.4%\n",
      "Fulfillment Rate: 96.9%\n"
     ]
    },
    {
     "data": {
      "application/vnd.plotly.v1+json": {
       "config": {
        "plotlyServerURL": "https://plot.ly"
       },
       "data": [
        {
         "domain": {
          "x": [
           0,
           0.45
          ],
          "y": [
           0.625,
           1
          ]
         },
         "labels": [
          "delivered",
          "shipped",
          "canceled",
          "processing",
          "pending",
          "returned"
         ],
         "marker": {
          "colors": [
           "#2ca02c",
           "#ff7f0e",
           "#d62728",
           "#17a2b8"
          ]
         },
         "textinfo": "label+percent",
         "type": "pie",
         "values": [
          93.88,
          2.97,
          1.35,
          1.2,
          0.38999999999999996,
          0.21
         ]
        },
        {
         "line": {
          "color": "#1f77b4",
          "width": 3
         },
         "marker": {
          "size": 8
         },
         "mode": "lines+markers",
         "name": "Avg Delivery Days",
         "type": "scatter",
         "x": {
          "bdata": "AQAAAAIAAAADAAAABAAAAAUAAAAGAAAABwAAAAgAAAAJAAAACgAAAAsAAAAMAAAA",
          "dtype": "i4"
         },
         "xaxis": "x",
         "y": {
          "bdata": "pN++DpwzIEDgAhe4wAUgQLI+NNaHxh5AiYiIiIgIH0BwnjUB51kfQKoHjbzzNyBASugWk3o7IEB1Nn1s98MfQCivobyGAiBAm0aTlIcJIEAXwyYthk0gQOYfoRMoRyBA",
          "dtype": "f8"
         },
         "yaxis": "y"
        },
        {
         "marker": {
          "color": [
           "#2ca02c",
           "#17a2b8",
           "#1f77b4",
           "#ff7f0e"
          ]
         },
         "text": [
          "7.2%",
          "74.1%",
          "96.9%",
          "86.4%"
         ],
         "textposition": "outside",
         "type": "bar",
         "x": [
          "On-Time Delivery",
          "Customer Satisfaction",
          "Order Fulfillment",
          "Quality Score"
         ],
         "xaxis": "x2",
         "y": [
          7.162891046386193,
          74.13394919168591,
          96.85000000000001,
          86.39197459584295
         ],
         "yaxis": "y2"
        },
        {
         "marker": {
          "color": "#2ca02c"
         },
         "text": [
          "4.21",
          "4.07",
          "4.11"
         ],
         "textposition": "outside",
         "type": "bar",
         "x": [
          "1-3 days",
          "4-7 days",
          "8+ days"
         ],
         "xaxis": "x3",
         "y": [
          4.2076502732240435,
          4.068562722194007,
          4.105557497378539
         ],
         "yaxis": "y3"
        }
       ],
       "layout": {
        "annotations": [
         {
          "font": {
           "size": 16
          },
          "showarrow": false,
          "text": "Order Status Distribution",
          "x": 0.225,
          "xanchor": "center",
          "xref": "paper",
          "y": 1,
          "yanchor": "bottom",
          "yref": "paper"
         },
         {
          "font": {
           "size": 16
          },
          "showarrow": false,
          "text": "Delivery Performance Over Time",
          "x": 0.775,
          "xanchor": "center",
          "xref": "paper",
          "y": 1,
          "yanchor": "bottom",
          "yref": "paper"
         },
         {
          "font": {
           "size": 16
          },
          "showarrow": false,
          "text": "Fulfillment Efficiency",
          "x": 0.225,
          "xanchor": "center",
          "xref": "paper",
          "y": 0.375,
          "yanchor": "bottom",
          "yref": "paper"
         },
         {
          "font": {
           "size": 16
          },
          "showarrow": false,
          "text": "Customer Service Metrics",
          "x": 0.775,
          "xanchor": "center",
          "xref": "paper",
          "y": 0.375,
          "yanchor": "bottom",
          "yref": "paper"
         }
        ],
        "height": 600,
        "showlegend": false,
        "template": {
         "data": {
          "bar": [
           {
            "error_x": {
             "color": "#2a3f5f"
            },
            "error_y": {
             "color": "#2a3f5f"
            },
            "marker": {
             "line": {
              "color": "white",
              "width": 0.5
             },
             "pattern": {
              "fillmode": "overlay",
              "size": 10,
              "solidity": 0.2
             }
            },
            "type": "bar"
           }
          ],
          "barpolar": [
           {
            "marker": {
             "line": {
              "color": "white",
              "width": 0.5
             },
             "pattern": {
              "fillmode": "overlay",
              "size": 10,
              "solidity": 0.2
             }
            },
            "type": "barpolar"
           }
          ],
          "carpet": [
           {
            "aaxis": {
             "endlinecolor": "#2a3f5f",
             "gridcolor": "#C8D4E3",
             "linecolor": "#C8D4E3",
             "minorgridcolor": "#C8D4E3",
             "startlinecolor": "#2a3f5f"
            },
            "baxis": {
             "endlinecolor": "#2a3f5f",
             "gridcolor": "#C8D4E3",
             "linecolor": "#C8D4E3",
             "minorgridcolor": "#C8D4E3",
             "startlinecolor": "#2a3f5f"
            },
            "type": "carpet"
           }
          ],
          "choropleth": [
           {
            "colorbar": {
             "outlinewidth": 0,
             "ticks": ""
            },
            "type": "choropleth"
           }
          ],
          "contour": [
           {
            "colorbar": {
             "outlinewidth": 0,
             "ticks": ""
            },
            "colorscale": [
             [
              0,
              "#0d0887"
             ],
             [
              0.1111111111111111,
              "#46039f"
             ],
             [
              0.2222222222222222,
              "#7201a8"
             ],
             [
              0.3333333333333333,
              "#9c179e"
             ],
             [
              0.4444444444444444,
              "#bd3786"
             ],
             [
              0.5555555555555556,
              "#d8576b"
             ],
             [
              0.6666666666666666,
              "#ed7953"
             ],
             [
              0.7777777777777778,
              "#fb9f3a"
             ],
             [
              0.8888888888888888,
              "#fdca26"
             ],
             [
              1,
              "#f0f921"
             ]
            ],
            "type": "contour"
           }
          ],
          "contourcarpet": [
           {
            "colorbar": {
             "outlinewidth": 0,
             "ticks": ""
            },
            "type": "contourcarpet"
           }
          ],
          "heatmap": [
           {
            "colorbar": {
             "outlinewidth": 0,
             "ticks": ""
            },
            "colorscale": [
             [
              0,
              "#0d0887"
             ],
             [
              0.1111111111111111,
              "#46039f"
             ],
             [
              0.2222222222222222,
              "#7201a8"
             ],
             [
              0.3333333333333333,
              "#9c179e"
             ],
             [
              0.4444444444444444,
              "#bd3786"
             ],
             [
              0.5555555555555556,
              "#d8576b"
             ],
             [
              0.6666666666666666,
              "#ed7953"
             ],
             [
              0.7777777777777778,
              "#fb9f3a"
             ],
             [
              0.8888888888888888,
              "#fdca26"
             ],
             [
              1,
              "#f0f921"
             ]
            ],
            "type": "heatmap"
           }
          ],
          "histogram": [
           {
            "marker": {
             "pattern": {
              "fillmode": "overlay",
              "size": 10,
              "solidity": 0.2
             }
            },
            "type": "histogram"
           }
          ],
          "histogram2d": [
           {
            "colorbar": {
             "outlinewidth": 0,
             "ticks": ""
            },
            "colorscale": [
             [
              0,
              "#0d0887"
             ],
             [
              0.1111111111111111,
              "#46039f"
             ],
             [
              0.2222222222222222,
              "#7201a8"
             ],
             [
              0.3333333333333333,
              "#9c179e"
             ],
             [
              0.4444444444444444,
              "#bd3786"
             ],
             [
              0.5555555555555556,
              "#d8576b"
             ],
             [
              0.6666666666666666,
              "#ed7953"
             ],
             [
              0.7777777777777778,
              "#fb9f3a"
             ],
             [
              0.8888888888888888,
              "#fdca26"
             ],
             [
              1,
              "#f0f921"
             ]
            ],
            "type": "histogram2d"
           }
          ],
          "histogram2dcontour": [
           {
            "colorbar": {
             "outlinewidth": 0,
             "ticks": ""
            },
            "colorscale": [
             [
              0,
              "#0d0887"
             ],
             [
              0.1111111111111111,
              "#46039f"
             ],
             [
              0.2222222222222222,
              "#7201a8"
             ],
             [
              0.3333333333333333,
              "#9c179e"
             ],
             [
              0.4444444444444444,
              "#bd3786"
             ],
             [
              0.5555555555555556,
              "#d8576b"
             ],
             [
              0.6666666666666666,
              "#ed7953"
             ],
             [
              0.7777777777777778,
              "#fb9f3a"
             ],
             [
              0.8888888888888888,
              "#fdca26"
             ],
             [
              1,
              "#f0f921"
             ]
            ],
            "type": "histogram2dcontour"
           }
          ],
          "mesh3d": [
           {
            "colorbar": {
             "outlinewidth": 0,
             "ticks": ""
            },
            "type": "mesh3d"
           }
          ],
          "parcoords": [
           {
            "line": {
             "colorbar": {
              "outlinewidth": 0,
              "ticks": ""
             }
            },
            "type": "parcoords"
           }
          ],
          "pie": [
           {
            "automargin": true,
            "type": "pie"
           }
          ],
          "scatter": [
           {
            "fillpattern": {
             "fillmode": "overlay",
             "size": 10,
             "solidity": 0.2
            },
            "type": "scatter"
           }
          ],
          "scatter3d": [
           {
            "line": {
             "colorbar": {
              "outlinewidth": 0,
              "ticks": ""
             }
            },
            "marker": {
             "colorbar": {
              "outlinewidth": 0,
              "ticks": ""
             }
            },
            "type": "scatter3d"
           }
          ],
          "scattercarpet": [
           {
            "marker": {
             "colorbar": {
              "outlinewidth": 0,
              "ticks": ""
             }
            },
            "type": "scattercarpet"
           }
          ],
          "scattergeo": [
           {
            "marker": {
             "colorbar": {
              "outlinewidth": 0,
              "ticks": ""
             }
            },
            "type": "scattergeo"
           }
          ],
          "scattergl": [
           {
            "marker": {
             "colorbar": {
              "outlinewidth": 0,
              "ticks": ""
             }
            },
            "type": "scattergl"
           }
          ],
          "scattermap": [
           {
            "marker": {
             "colorbar": {
              "outlinewidth": 0,
              "ticks": ""
             }
            },
            "type": "scattermap"
           }
          ],
          "scattermapbox": [
           {
            "marker": {
             "colorbar": {
              "outlinewidth": 0,
              "ticks": ""
             }
            },
            "type": "scattermapbox"
           }
          ],
          "scatterpolar": [
           {
            "marker": {
             "colorbar": {
              "outlinewidth": 0,
              "ticks": ""
             }
            },
            "type": "scatterpolar"
           }
          ],
          "scatterpolargl": [
           {
            "marker": {
             "colorbar": {
              "outlinewidth": 0,
              "ticks": ""
             }
            },
            "type": "scatterpolargl"
           }
          ],
          "scatterternary": [
           {
            "marker": {
             "colorbar": {
              "outlinewidth": 0,
              "ticks": ""
             }
            },
            "type": "scatterternary"
           }
          ],
          "surface": [
           {
            "colorbar": {
             "outlinewidth": 0,
             "ticks": ""
            },
            "colorscale": [
             [
              0,
              "#0d0887"
             ],
             [
              0.1111111111111111,
              "#46039f"
             ],
             [
              0.2222222222222222,
              "#7201a8"
             ],
             [
              0.3333333333333333,
              "#9c179e"
             ],
             [
              0.4444444444444444,
              "#bd3786"
             ],
             [
              0.5555555555555556,
              "#d8576b"
             ],
             [
              0.6666666666666666,
              "#ed7953"
             ],
             [
              0.7777777777777778,
              "#fb9f3a"
             ],
             [
              0.8888888888888888,
              "#fdca26"
             ],
             [
              1,
              "#f0f921"
             ]
            ],
            "type": "surface"
           }
          ],
          "table": [
           {
            "cells": {
             "fill": {
              "color": "#EBF0F8"
             },
             "line": {
              "color": "white"
             }
            },
            "header": {
             "fill": {
              "color": "#C8D4E3"
             },
             "line": {
              "color": "white"
             }
            },
            "type": "table"
           }
          ]
         },
         "layout": {
          "annotationdefaults": {
           "arrowcolor": "#2a3f5f",
           "arrowhead": 0,
           "arrowwidth": 1
          },
          "autotypenumbers": "strict",
          "coloraxis": {
           "colorbar": {
            "outlinewidth": 0,
            "ticks": ""
           }
          },
          "colorscale": {
           "diverging": [
            [
             0,
             "#8e0152"
            ],
            [
             0.1,
             "#c51b7d"
            ],
            [
             0.2,
             "#de77ae"
            ],
            [
             0.3,
             "#f1b6da"
            ],
            [
             0.4,
             "#fde0ef"
            ],
            [
             0.5,
             "#f7f7f7"
            ],
            [
             0.6,
             "#e6f5d0"
            ],
            [
             0.7,
             "#b8e186"
            ],
            [
             0.8,
             "#7fbc41"
            ],
            [
             0.9,
             "#4d9221"
            ],
            [
             1,
             "#276419"
            ]
           ],
           "sequential": [
            [
             0,
             "#0d0887"
            ],
            [
             0.1111111111111111,
             "#46039f"
            ],
            [
             0.2222222222222222,
             "#7201a8"
            ],
            [
             0.3333333333333333,
             "#9c179e"
            ],
            [
             0.4444444444444444,
             "#bd3786"
            ],
            [
             0.5555555555555556,
             "#d8576b"
            ],
            [
             0.6666666666666666,
             "#ed7953"
            ],
            [
             0.7777777777777778,
             "#fb9f3a"
            ],
            [
             0.8888888888888888,
             "#fdca26"
            ],
            [
             1,
             "#f0f921"
            ]
           ],
           "sequentialminus": [
            [
             0,
             "#0d0887"
            ],
            [
             0.1111111111111111,
             "#46039f"
            ],
            [
             0.2222222222222222,
             "#7201a8"
            ],
            [
             0.3333333333333333,
             "#9c179e"
            ],
            [
             0.4444444444444444,
             "#bd3786"
            ],
            [
             0.5555555555555556,
             "#d8576b"
            ],
            [
             0.6666666666666666,
             "#ed7953"
            ],
            [
             0.7777777777777778,
             "#fb9f3a"
            ],
            [
             0.8888888888888888,
             "#fdca26"
            ],
            [
             1,
             "#f0f921"
            ]
           ]
          },
          "colorway": [
           "#636efa",
           "#EF553B",
           "#00cc96",
           "#ab63fa",
           "#FFA15A",
           "#19d3f3",
           "#FF6692",
           "#B6E880",
           "#FF97FF",
           "#FECB52"
          ],
          "font": {
           "color": "#2a3f5f"
          },
          "geo": {
           "bgcolor": "white",
           "lakecolor": "white",
           "landcolor": "white",
           "showlakes": true,
           "showland": true,
           "subunitcolor": "#C8D4E3"
          },
          "hoverlabel": {
           "align": "left"
          },
          "hovermode": "closest",
          "mapbox": {
           "style": "light"
          },
          "paper_bgcolor": "white",
          "plot_bgcolor": "white",
          "polar": {
           "angularaxis": {
            "gridcolor": "#EBF0F8",
            "linecolor": "#EBF0F8",
            "ticks": ""
           },
           "bgcolor": "white",
           "radialaxis": {
            "gridcolor": "#EBF0F8",
            "linecolor": "#EBF0F8",
            "ticks": ""
           }
          },
          "scene": {
           "xaxis": {
            "backgroundcolor": "white",
            "gridcolor": "#DFE8F3",
            "gridwidth": 2,
            "linecolor": "#EBF0F8",
            "showbackground": true,
            "ticks": "",
            "zerolinecolor": "#EBF0F8"
           },
           "yaxis": {
            "backgroundcolor": "white",
            "gridcolor": "#DFE8F3",
            "gridwidth": 2,
            "linecolor": "#EBF0F8",
            "showbackground": true,
            "ticks": "",
            "zerolinecolor": "#EBF0F8"
           },
           "zaxis": {
            "backgroundcolor": "white",
            "gridcolor": "#DFE8F3",
            "gridwidth": 2,
            "linecolor": "#EBF0F8",
            "showbackground": true,
            "ticks": "",
            "zerolinecolor": "#EBF0F8"
           }
          },
          "shapedefaults": {
           "line": {
            "color": "#2a3f5f"
           }
          },
          "ternary": {
           "aaxis": {
            "gridcolor": "#DFE8F3",
            "linecolor": "#A2B1C6",
            "ticks": ""
           },
           "baxis": {
            "gridcolor": "#DFE8F3",
            "linecolor": "#A2B1C6",
            "ticks": ""
           },
           "bgcolor": "white",
           "caxis": {
            "gridcolor": "#DFE8F3",
            "linecolor": "#A2B1C6",
            "ticks": ""
           }
          },
          "title": {
           "x": 0.05
          },
          "xaxis": {
           "automargin": true,
           "gridcolor": "#EBF0F8",
           "linecolor": "#EBF0F8",
           "ticks": "",
           "title": {
            "standoff": 15
           },
           "zerolinecolor": "#EBF0F8",
           "zerolinewidth": 2
          },
          "yaxis": {
           "automargin": true,
           "gridcolor": "#EBF0F8",
           "linecolor": "#EBF0F8",
           "ticks": "",
           "title": {
            "standoff": 15
           },
           "zerolinecolor": "#EBF0F8",
           "zerolinewidth": 2
          }
         }
        },
        "title": {
         "text": "Operational Performance Dashboard - 2023"
        },
        "xaxis": {
         "anchor": "y",
         "domain": [
          0.55,
          1
         ]
        },
        "xaxis2": {
         "anchor": "y2",
         "domain": [
          0,
          0.45
         ]
        },
        "xaxis3": {
         "anchor": "y3",
         "domain": [
          0.55,
          1
         ]
        },
        "yaxis": {
         "anchor": "x",
         "domain": [
          0.625,
          1
         ],
         "title": {
          "text": "Days"
         }
        },
        "yaxis2": {
         "anchor": "x2",
         "domain": [
          0,
          0.375
         ],
         "title": {
          "text": "Percentage (%)"
         }
        },
        "yaxis3": {
         "anchor": "x3",
         "domain": [
          0,
          0.375
         ],
         "title": {
          "text": "Review Score"
         }
        }
       }
      }
     },
     "metadata": {},
     "output_type": "display_data"
    },
    {
     "name": "stdout",
     "output_type": "stream",
     "text": [
      "\n",
      "KEY OPERATIONAL INSIGHTS:\n",
      "==================================================\n",
      "⚠ LOGISTICS: Delivery times exceed 1 week - optimization needed\n",
      "→ OPPORTUNITY: Good satisfaction - focus on consistency\n",
      "✓ FULFILLMENT: Excellent order fulfillment rate\n"
     ]
    }
   ],
   "source": [
    "# Create operational performance dashboard\n",
    "operational_metrics = calculate_operational_metrics(current_period_df, orders_df)\n",
    "cx_metrics = calculate_customer_experience_metrics(current_period_df, reviews_df)\n",
    "\n",
    "print(\"OPERATIONAL PERFORMANCE SUMMARY\")\n",
    "print(\"=\" * 50)\n",
    "if 'delivery_rate_pct' in operational_metrics:\n",
    "    print(f\"Delivery Success Rate: {operational_metrics['delivery_rate_pct']:.1f}%\")\n",
    "if 'cancellation_rate_pct' in operational_metrics:\n",
    "    print(f\"Cancellation Rate: {operational_metrics['cancellation_rate_pct']:.1f}%\")\n",
    "if 'fulfillment_rate_pct' in operational_metrics:\n",
    "    print(f\"Fulfillment Rate: {operational_metrics['fulfillment_rate_pct']:.1f}%\")\n",
    "\n",
    "# Create operational performance dashboard\n",
    "fig = make_subplots(\n",
    "    rows=2, cols=2,\n",
    "    subplot_titles=('Order Status Distribution', 'Delivery Performance Over Time', \n",
    "                   'Fulfillment Efficiency', 'Customer Service Metrics'),\n",
    "    specs=[[{\"type\": \"pie\"}, {\"type\": \"scatter\"}],\n",
    "           [{\"type\": \"bar\"}, {\"type\": \"bar\"}]]\n",
    ")\n",
    "\n",
    "# Order status distribution pie chart\n",
    "if 'order_status_distribution' in operational_metrics:\n",
    "    status_labels = list(operational_metrics['order_status_distribution'].keys())\n",
    "    status_values = [v * 100 for v in operational_metrics['order_status_distribution'].values()]\n",
    "    \n",
    "    fig.add_trace(go.Pie(\n",
    "        labels=status_labels,\n",
    "        values=status_values,\n",
    "        textinfo='label+percent',\n",
    "        marker_colors=[BUSINESS_COLORS['success'], BUSINESS_COLORS['warning'], \n",
    "                      BUSINESS_COLORS['danger'], BUSINESS_COLORS['info']]\n",
    "    ), row=1, col=1)\n",
    "\n",
    "# Delivery performance over time (monthly trend)\n",
    "monthly_delivery_data = current_period_df.groupby(current_period_df['order_purchase_timestamp'].dt.month).agg({\n",
    "    'delivery_days': 'mean',\n",
    "    'order_id': 'count'\n",
    "}).reset_index()\n",
    "monthly_delivery_data.columns = ['month', 'avg_delivery_days', 'order_count']\n",
    "\n",
    "fig.add_trace(go.Scatter(\n",
    "    x=monthly_delivery_data['month'],\n",
    "    y=monthly_delivery_data['avg_delivery_days'],\n",
    "    mode='lines+markers',\n",
    "    name='Avg Delivery Days',\n",
    "    line=dict(color=BUSINESS_COLORS['primary'], width=3),\n",
    "    marker=dict(size=8)\n",
    "), row=1, col=2)\n",
    "\n",
    "# Fulfillment efficiency metrics\n",
    "efficiency_metrics = {\n",
    "    'On-Time Delivery': cx_metrics.get('fast_delivery_rate_pct', 0),\n",
    "    'Customer Satisfaction': cx_metrics.get('satisfaction_rate_pct', 0),\n",
    "    'Order Fulfillment': operational_metrics.get('fulfillment_rate_pct', 0),\n",
    "    'Quality Score': (cx_metrics.get('satisfaction_rate_pct', 0) + \n",
    "                     (100 - operational_metrics.get('cancellation_rate_pct', 0))) / 2\n",
    "}\n",
    "\n",
    "fig.add_trace(go.Bar(\n",
    "    x=list(efficiency_metrics.keys()),\n",
    "    y=list(efficiency_metrics.values()),\n",
    "    marker_color=[BUSINESS_COLORS['success'], BUSINESS_COLORS['info'], \n",
    "                  BUSINESS_COLORS['primary'], BUSINESS_COLORS['warning']],\n",
    "    text=[f'{v:.1f}%' for v in efficiency_metrics.values()],\n",
    "    textposition='outside'\n",
    "), row=2, col=1)\n",
    "\n",
    "# Customer service performance by delivery speed category\n",
    "if 'delivery_speed_vs_satisfaction' in cx_metrics:\n",
    "    speed_categories = list(cx_metrics['delivery_speed_vs_satisfaction']['mean'].keys())\n",
    "    satisfaction_scores = list(cx_metrics['delivery_speed_vs_satisfaction']['mean'].values())\n",
    "    \n",
    "    fig.add_trace(go.Bar(\n",
    "        x=speed_categories,\n",
    "        y=satisfaction_scores,\n",
    "        marker_color=BUSINESS_COLORS['success'],\n",
    "        text=[f'{v:.2f}' for v in satisfaction_scores],\n",
    "        textposition='outside'\n",
    "    ), row=2, col=2)\n",
    "\n",
    "fig.update_layout(\n",
    "    title_text=f\"Operational Performance Dashboard - {ANALYSIS_CONFIG['current_year']}\",\n",
    "    template='plotly_white',\n",
    "    height=600,\n",
    "    showlegend=False\n",
    ")\n",
    "\n",
    "# Update y-axis labels\n",
    "fig.update_yaxes(title_text=\"Days\", row=1, col=2)\n",
    "fig.update_yaxes(title_text=\"Percentage (%)\", row=2, col=1)\n",
    "fig.update_yaxes(title_text=\"Review Score\", row=2, col=2)\n",
    "\n",
    "fig.show()\n",
    "\n",
    "# Display key operational insights\n",
    "print(\"\\nKEY OPERATIONAL INSIGHTS:\")\n",
    "print(\"=\" * 50)\n",
    "avg_delivery = cx_metrics.get('avg_delivery_days', 0)\n",
    "if avg_delivery > 7:\n",
    "    print(\"⚠ LOGISTICS: Delivery times exceed 1 week - optimization needed\")\n",
    "elif avg_delivery > 5:\n",
    "    print(\"→ EFFICIENCY: Delivery times are acceptable but can be improved\")\n",
    "else:\n",
    "    print(\"✓ LOGISTICS: Excellent delivery performance\")\n",
    "\n",
    "satisfaction_rate = cx_metrics.get('satisfaction_rate_pct', 0)\n",
    "if satisfaction_rate > 80:\n",
    "    print(\"✓ SATISFACTION: High customer satisfaction indicates strong operations\")\n",
    "elif satisfaction_rate > 70:\n",
    "    print(\"→ OPPORTUNITY: Good satisfaction - focus on consistency\")\n",
    "else:\n",
    "    print(\"⚠ PRIORITY: Low satisfaction requires immediate operational improvements\")\n",
    "\n",
    "fulfillment_rate = operational_metrics.get('fulfillment_rate_pct', 0)\n",
    "if fulfillment_rate > 95:\n",
    "    print(\"✓ FULFILLMENT: Excellent order fulfillment rate\")\n",
    "elif fulfillment_rate > 90:\n",
    "    print(\"→ EFFICIENCY: Good fulfillment - monitor for trends\")\n",
    "else:\n",
    "    print(\"⚠ OPERATIONS: Low fulfillment rate needs attention\")"
   ]
  },
  {
   "cell_type": "code",
   "execution_count": 14,
   "metadata": {},
   "outputs": [
    {
     "name": "stdout",
     "output_type": "stream",
     "text": [
      "OPERATIONAL PERFORMANCE SUMMARY\n",
      "==================================================\n",
      "Delivery Success Rate: 93.9%\n",
      "Cancellation Rate: 1.4%\n",
      "Fulfillment Rate: 96.9%\n"
     ]
    },
    {
     "data": {
      "application/vnd.plotly.v1+json": {
       "config": {
        "plotlyServerURL": "https://plot.ly"
       },
       "data": [
        {
         "domain": {
          "x": [
           0,
           0.45
          ],
          "y": [
           0.625,
           1
          ]
         },
         "labels": [
          "delivered",
          "shipped",
          "canceled",
          "processing",
          "pending",
          "returned"
         ],
         "marker": {
          "colors": [
           "#2ca02c",
           "#ff7f0e",
           "#d62728",
           "#17a2b8"
          ]
         },
         "textinfo": "label+percent",
         "type": "pie",
         "values": [
          93.88,
          2.97,
          1.35,
          1.2,
          0.38999999999999996,
          0.21
         ]
        },
        {
         "line": {
          "color": "#1f77b4",
          "width": 3
         },
         "marker": {
          "size": 8
         },
         "mode": "lines+markers",
         "name": "Avg Delivery Days",
         "type": "scatter",
         "x": {
          "bdata": "AQAAAAIAAAADAAAABAAAAAUAAAAGAAAABwAAAAgAAAAJAAAACgAAAAsAAAAMAAAA",
          "dtype": "i4"
         },
         "xaxis": "x",
         "y": {
          "bdata": "pN++DpwzIEDgAhe4wAUgQLI+NNaHxh5AiYiIiIgIH0BwnjUB51kfQKoHjbzzNyBASugWk3o7IEB1Nn1s98MfQCivobyGAiBAm0aTlIcJIEAXwyYthk0gQOYfoRMoRyBA",
          "dtype": "f8"
         },
         "yaxis": "y"
        },
        {
         "marker": {
          "color": [
           "#2ca02c",
           "#17a2b8",
           "#1f77b4",
           "#ff7f0e"
          ]
         },
         "text": [
          "7.2%",
          "74.1%",
          "96.9%",
          "86.4%"
         ],
         "textposition": "outside",
         "type": "bar",
         "x": [
          "On-Time Delivery",
          "Customer Satisfaction",
          "Order Fulfillment",
          "Quality Score"
         ],
         "xaxis": "x2",
         "y": [
          7.162891046386193,
          74.13394919168591,
          96.85000000000001,
          86.39197459584295
         ],
         "yaxis": "y2"
        },
        {
         "marker": {
          "color": "#2ca02c"
         },
         "text": [
          "4.21",
          "4.07",
          "4.11"
         ],
         "textposition": "outside",
         "type": "bar",
         "x": [
          "1-3 days",
          "4-7 days",
          "8+ days"
         ],
         "xaxis": "x3",
         "y": [
          4.2076502732240435,
          4.068562722194007,
          4.105557497378539
         ],
         "yaxis": "y3"
        }
       ],
       "layout": {
        "annotations": [
         {
          "font": {
           "size": 16
          },
          "showarrow": false,
          "text": "Order Status Distribution",
          "x": 0.225,
          "xanchor": "center",
          "xref": "paper",
          "y": 1,
          "yanchor": "bottom",
          "yref": "paper"
         },
         {
          "font": {
           "size": 16
          },
          "showarrow": false,
          "text": "Delivery Performance Over Time",
          "x": 0.775,
          "xanchor": "center",
          "xref": "paper",
          "y": 1,
          "yanchor": "bottom",
          "yref": "paper"
         },
         {
          "font": {
           "size": 16
          },
          "showarrow": false,
          "text": "Fulfillment Efficiency",
          "x": 0.225,
          "xanchor": "center",
          "xref": "paper",
          "y": 0.375,
          "yanchor": "bottom",
          "yref": "paper"
         },
         {
          "font": {
           "size": 16
          },
          "showarrow": false,
          "text": "Customer Service Metrics",
          "x": 0.775,
          "xanchor": "center",
          "xref": "paper",
          "y": 0.375,
          "yanchor": "bottom",
          "yref": "paper"
         }
        ],
        "height": 600,
        "showlegend": false,
        "template": {
         "data": {
          "bar": [
           {
            "error_x": {
             "color": "#2a3f5f"
            },
            "error_y": {
             "color": "#2a3f5f"
            },
            "marker": {
             "line": {
              "color": "white",
              "width": 0.5
             },
             "pattern": {
              "fillmode": "overlay",
              "size": 10,
              "solidity": 0.2
             }
            },
            "type": "bar"
           }
          ],
          "barpolar": [
           {
            "marker": {
             "line": {
              "color": "white",
              "width": 0.5
             },
             "pattern": {
              "fillmode": "overlay",
              "size": 10,
              "solidity": 0.2
             }
            },
            "type": "barpolar"
           }
          ],
          "carpet": [
           {
            "aaxis": {
             "endlinecolor": "#2a3f5f",
             "gridcolor": "#C8D4E3",
             "linecolor": "#C8D4E3",
             "minorgridcolor": "#C8D4E3",
             "startlinecolor": "#2a3f5f"
            },
            "baxis": {
             "endlinecolor": "#2a3f5f",
             "gridcolor": "#C8D4E3",
             "linecolor": "#C8D4E3",
             "minorgridcolor": "#C8D4E3",
             "startlinecolor": "#2a3f5f"
            },
            "type": "carpet"
           }
          ],
          "choropleth": [
           {
            "colorbar": {
             "outlinewidth": 0,
             "ticks": ""
            },
            "type": "choropleth"
           }
          ],
          "contour": [
           {
            "colorbar": {
             "outlinewidth": 0,
             "ticks": ""
            },
            "colorscale": [
             [
              0,
              "#0d0887"
             ],
             [
              0.1111111111111111,
              "#46039f"
             ],
             [
              0.2222222222222222,
              "#7201a8"
             ],
             [
              0.3333333333333333,
              "#9c179e"
             ],
             [
              0.4444444444444444,
              "#bd3786"
             ],
             [
              0.5555555555555556,
              "#d8576b"
             ],
             [
              0.6666666666666666,
              "#ed7953"
             ],
             [
              0.7777777777777778,
              "#fb9f3a"
             ],
             [
              0.8888888888888888,
              "#fdca26"
             ],
             [
              1,
              "#f0f921"
             ]
            ],
            "type": "contour"
           }
          ],
          "contourcarpet": [
           {
            "colorbar": {
             "outlinewidth": 0,
             "ticks": ""
            },
            "type": "contourcarpet"
           }
          ],
          "heatmap": [
           {
            "colorbar": {
             "outlinewidth": 0,
             "ticks": ""
            },
            "colorscale": [
             [
              0,
              "#0d0887"
             ],
             [
              0.1111111111111111,
              "#46039f"
             ],
             [
              0.2222222222222222,
              "#7201a8"
             ],
             [
              0.3333333333333333,
              "#9c179e"
             ],
             [
              0.4444444444444444,
              "#bd3786"
             ],
             [
              0.5555555555555556,
              "#d8576b"
             ],
             [
              0.6666666666666666,
              "#ed7953"
             ],
             [
              0.7777777777777778,
              "#fb9f3a"
             ],
             [
              0.8888888888888888,
              "#fdca26"
             ],
             [
              1,
              "#f0f921"
             ]
            ],
            "type": "heatmap"
           }
          ],
          "histogram": [
           {
            "marker": {
             "pattern": {
              "fillmode": "overlay",
              "size": 10,
              "solidity": 0.2
             }
            },
            "type": "histogram"
           }
          ],
          "histogram2d": [
           {
            "colorbar": {
             "outlinewidth": 0,
             "ticks": ""
            },
            "colorscale": [
             [
              0,
              "#0d0887"
             ],
             [
              0.1111111111111111,
              "#46039f"
             ],
             [
              0.2222222222222222,
              "#7201a8"
             ],
             [
              0.3333333333333333,
              "#9c179e"
             ],
             [
              0.4444444444444444,
              "#bd3786"
             ],
             [
              0.5555555555555556,
              "#d8576b"
             ],
             [
              0.6666666666666666,
              "#ed7953"
             ],
             [
              0.7777777777777778,
              "#fb9f3a"
             ],
             [
              0.8888888888888888,
              "#fdca26"
             ],
             [
              1,
              "#f0f921"
             ]
            ],
            "type": "histogram2d"
           }
          ],
          "histogram2dcontour": [
           {
            "colorbar": {
             "outlinewidth": 0,
             "ticks": ""
            },
            "colorscale": [
             [
              0,
              "#0d0887"
             ],
             [
              0.1111111111111111,
              "#46039f"
             ],
             [
              0.2222222222222222,
              "#7201a8"
             ],
             [
              0.3333333333333333,
              "#9c179e"
             ],
             [
              0.4444444444444444,
              "#bd3786"
             ],
             [
              0.5555555555555556,
              "#d8576b"
             ],
             [
              0.6666666666666666,
              "#ed7953"
             ],
             [
              0.7777777777777778,
              "#fb9f3a"
             ],
             [
              0.8888888888888888,
              "#fdca26"
             ],
             [
              1,
              "#f0f921"
             ]
            ],
            "type": "histogram2dcontour"
           }
          ],
          "mesh3d": [
           {
            "colorbar": {
             "outlinewidth": 0,
             "ticks": ""
            },
            "type": "mesh3d"
           }
          ],
          "parcoords": [
           {
            "line": {
             "colorbar": {
              "outlinewidth": 0,
              "ticks": ""
             }
            },
            "type": "parcoords"
           }
          ],
          "pie": [
           {
            "automargin": true,
            "type": "pie"
           }
          ],
          "scatter": [
           {
            "fillpattern": {
             "fillmode": "overlay",
             "size": 10,
             "solidity": 0.2
            },
            "type": "scatter"
           }
          ],
          "scatter3d": [
           {
            "line": {
             "colorbar": {
              "outlinewidth": 0,
              "ticks": ""
             }
            },
            "marker": {
             "colorbar": {
              "outlinewidth": 0,
              "ticks": ""
             }
            },
            "type": "scatter3d"
           }
          ],
          "scattercarpet": [
           {
            "marker": {
             "colorbar": {
              "outlinewidth": 0,
              "ticks": ""
             }
            },
            "type": "scattercarpet"
           }
          ],
          "scattergeo": [
           {
            "marker": {
             "colorbar": {
              "outlinewidth": 0,
              "ticks": ""
             }
            },
            "type": "scattergeo"
           }
          ],
          "scattergl": [
           {
            "marker": {
             "colorbar": {
              "outlinewidth": 0,
              "ticks": ""
             }
            },
            "type": "scattergl"
           }
          ],
          "scattermap": [
           {
            "marker": {
             "colorbar": {
              "outlinewidth": 0,
              "ticks": ""
             }
            },
            "type": "scattermap"
           }
          ],
          "scattermapbox": [
           {
            "marker": {
             "colorbar": {
              "outlinewidth": 0,
              "ticks": ""
             }
            },
            "type": "scattermapbox"
           }
          ],
          "scatterpolar": [
           {
            "marker": {
             "colorbar": {
              "outlinewidth": 0,
              "ticks": ""
             }
            },
            "type": "scatterpolar"
           }
          ],
          "scatterpolargl": [
           {
            "marker": {
             "colorbar": {
              "outlinewidth": 0,
              "ticks": ""
             }
            },
            "type": "scatterpolargl"
           }
          ],
          "scatterternary": [
           {
            "marker": {
             "colorbar": {
              "outlinewidth": 0,
              "ticks": ""
             }
            },
            "type": "scatterternary"
           }
          ],
          "surface": [
           {
            "colorbar": {
             "outlinewidth": 0,
             "ticks": ""
            },
            "colorscale": [
             [
              0,
              "#0d0887"
             ],
             [
              0.1111111111111111,
              "#46039f"
             ],
             [
              0.2222222222222222,
              "#7201a8"
             ],
             [
              0.3333333333333333,
              "#9c179e"
             ],
             [
              0.4444444444444444,
              "#bd3786"
             ],
             [
              0.5555555555555556,
              "#d8576b"
             ],
             [
              0.6666666666666666,
              "#ed7953"
             ],
             [
              0.7777777777777778,
              "#fb9f3a"
             ],
             [
              0.8888888888888888,
              "#fdca26"
             ],
             [
              1,
              "#f0f921"
             ]
            ],
            "type": "surface"
           }
          ],
          "table": [
           {
            "cells": {
             "fill": {
              "color": "#EBF0F8"
             },
             "line": {
              "color": "white"
             }
            },
            "header": {
             "fill": {
              "color": "#C8D4E3"
             },
             "line": {
              "color": "white"
             }
            },
            "type": "table"
           }
          ]
         },
         "layout": {
          "annotationdefaults": {
           "arrowcolor": "#2a3f5f",
           "arrowhead": 0,
           "arrowwidth": 1
          },
          "autotypenumbers": "strict",
          "coloraxis": {
           "colorbar": {
            "outlinewidth": 0,
            "ticks": ""
           }
          },
          "colorscale": {
           "diverging": [
            [
             0,
             "#8e0152"
            ],
            [
             0.1,
             "#c51b7d"
            ],
            [
             0.2,
             "#de77ae"
            ],
            [
             0.3,
             "#f1b6da"
            ],
            [
             0.4,
             "#fde0ef"
            ],
            [
             0.5,
             "#f7f7f7"
            ],
            [
             0.6,
             "#e6f5d0"
            ],
            [
             0.7,
             "#b8e186"
            ],
            [
             0.8,
             "#7fbc41"
            ],
            [
             0.9,
             "#4d9221"
            ],
            [
             1,
             "#276419"
            ]
           ],
           "sequential": [
            [
             0,
             "#0d0887"
            ],
            [
             0.1111111111111111,
             "#46039f"
            ],
            [
             0.2222222222222222,
             "#7201a8"
            ],
            [
             0.3333333333333333,
             "#9c179e"
            ],
            [
             0.4444444444444444,
             "#bd3786"
            ],
            [
             0.5555555555555556,
             "#d8576b"
            ],
            [
             0.6666666666666666,
             "#ed7953"
            ],
            [
             0.7777777777777778,
             "#fb9f3a"
            ],
            [
             0.8888888888888888,
             "#fdca26"
            ],
            [
             1,
             "#f0f921"
            ]
           ],
           "sequentialminus": [
            [
             0,
             "#0d0887"
            ],
            [
             0.1111111111111111,
             "#46039f"
            ],
            [
             0.2222222222222222,
             "#7201a8"
            ],
            [
             0.3333333333333333,
             "#9c179e"
            ],
            [
             0.4444444444444444,
             "#bd3786"
            ],
            [
             0.5555555555555556,
             "#d8576b"
            ],
            [
             0.6666666666666666,
             "#ed7953"
            ],
            [
             0.7777777777777778,
             "#fb9f3a"
            ],
            [
             0.8888888888888888,
             "#fdca26"
            ],
            [
             1,
             "#f0f921"
            ]
           ]
          },
          "colorway": [
           "#636efa",
           "#EF553B",
           "#00cc96",
           "#ab63fa",
           "#FFA15A",
           "#19d3f3",
           "#FF6692",
           "#B6E880",
           "#FF97FF",
           "#FECB52"
          ],
          "font": {
           "color": "#2a3f5f"
          },
          "geo": {
           "bgcolor": "white",
           "lakecolor": "white",
           "landcolor": "white",
           "showlakes": true,
           "showland": true,
           "subunitcolor": "#C8D4E3"
          },
          "hoverlabel": {
           "align": "left"
          },
          "hovermode": "closest",
          "mapbox": {
           "style": "light"
          },
          "paper_bgcolor": "white",
          "plot_bgcolor": "white",
          "polar": {
           "angularaxis": {
            "gridcolor": "#EBF0F8",
            "linecolor": "#EBF0F8",
            "ticks": ""
           },
           "bgcolor": "white",
           "radialaxis": {
            "gridcolor": "#EBF0F8",
            "linecolor": "#EBF0F8",
            "ticks": ""
           }
          },
          "scene": {
           "xaxis": {
            "backgroundcolor": "white",
            "gridcolor": "#DFE8F3",
            "gridwidth": 2,
            "linecolor": "#EBF0F8",
            "showbackground": true,
            "ticks": "",
            "zerolinecolor": "#EBF0F8"
           },
           "yaxis": {
            "backgroundcolor": "white",
            "gridcolor": "#DFE8F3",
            "gridwidth": 2,
            "linecolor": "#EBF0F8",
            "showbackground": true,
            "ticks": "",
            "zerolinecolor": "#EBF0F8"
           },
           "zaxis": {
            "backgroundcolor": "white",
            "gridcolor": "#DFE8F3",
            "gridwidth": 2,
            "linecolor": "#EBF0F8",
            "showbackground": true,
            "ticks": "",
            "zerolinecolor": "#EBF0F8"
           }
          },
          "shapedefaults": {
           "line": {
            "color": "#2a3f5f"
           }
          },
          "ternary": {
           "aaxis": {
            "gridcolor": "#DFE8F3",
            "linecolor": "#A2B1C6",
            "ticks": ""
           },
           "baxis": {
            "gridcolor": "#DFE8F3",
            "linecolor": "#A2B1C6",
            "ticks": ""
           },
           "bgcolor": "white",
           "caxis": {
            "gridcolor": "#DFE8F3",
            "linecolor": "#A2B1C6",
            "ticks": ""
           }
          },
          "title": {
           "x": 0.05
          },
          "xaxis": {
           "automargin": true,
           "gridcolor": "#EBF0F8",
           "linecolor": "#EBF0F8",
           "ticks": "",
           "title": {
            "standoff": 15
           },
           "zerolinecolor": "#EBF0F8",
           "zerolinewidth": 2
          },
          "yaxis": {
           "automargin": true,
           "gridcolor": "#EBF0F8",
           "linecolor": "#EBF0F8",
           "ticks": "",
           "title": {
            "standoff": 15
           },
           "zerolinecolor": "#EBF0F8",
           "zerolinewidth": 2
          }
         }
        },
        "title": {
         "text": "Operational Performance Dashboard - 2023"
        },
        "xaxis": {
         "anchor": "y",
         "domain": [
          0.55,
          1
         ]
        },
        "xaxis2": {
         "anchor": "y2",
         "domain": [
          0,
          0.45
         ]
        },
        "xaxis3": {
         "anchor": "y3",
         "domain": [
          0.55,
          1
         ]
        },
        "yaxis": {
         "anchor": "x",
         "domain": [
          0.625,
          1
         ],
         "title": {
          "text": "Days"
         }
        },
        "yaxis2": {
         "anchor": "x2",
         "domain": [
          0,
          0.375
         ],
         "title": {
          "text": "Percentage (%)"
         }
        },
        "yaxis3": {
         "anchor": "x3",
         "domain": [
          0,
          0.375
         ],
         "title": {
          "text": "Review Score"
         }
        }
       }
      }
     },
     "metadata": {},
     "output_type": "display_data"
    },
    {
     "name": "stdout",
     "output_type": "stream",
     "text": [
      "\n",
      "KEY OPERATIONAL INSIGHTS:\n",
      "==================================================\n",
      "⚠ LOGISTICS: Delivery times exceed 1 week - optimization needed\n",
      "→ OPPORTUNITY: Good satisfaction - focus on consistency\n",
      "✓ FULFILLMENT: Excellent order fulfillment rate\n"
     ]
    }
   ],
   "source": [
    "# Create operational performance dashboard\n",
    "operational_metrics = calculate_operational_metrics(current_period_df, orders_df)\n",
    "\n",
    "print(\"OPERATIONAL PERFORMANCE SUMMARY\")\n",
    "print(\"=\" * 50)\n",
    "if 'delivery_rate_pct' in operational_metrics:\n",
    "    print(f\"Delivery Success Rate: {operational_metrics['delivery_rate_pct']:.1f}%\")\n",
    "if 'cancellation_rate_pct' in operational_metrics:\n",
    "    print(f\"Cancellation Rate: {operational_metrics['cancellation_rate_pct']:.1f}%\")\n",
    "if 'fulfillment_rate_pct' in operational_metrics:\n",
    "    print(f\"Fulfillment Rate: {operational_metrics['fulfillment_rate_pct']:.1f}%\")\n",
    "\n",
    "# Create operational performance dashboard\n",
    "fig = make_subplots(\n",
    "    rows=2, cols=2,\n",
    "    subplot_titles=('Order Status Distribution', 'Delivery Performance Over Time', \n",
    "                   'Fulfillment Efficiency', 'Customer Service Metrics'),\n",
    "    specs=[[{\"type\": \"pie\"}, {\"type\": \"scatter\"}],\n",
    "           [{\"type\": \"bar\"}, {\"type\": \"bar\"}]]\n",
    ")\n",
    "\n",
    "# Order status distribution pie chart\n",
    "if 'order_status_distribution' in operational_metrics:\n",
    "    status_labels = list(operational_metrics['order_status_distribution'].keys())\n",
    "    status_values = [v * 100 for v in operational_metrics['order_status_distribution'].values()]\n",
    "    \n",
    "    fig.add_trace(go.Pie(\n",
    "        labels=status_labels,\n",
    "        values=status_values,\n",
    "        textinfo='label+percent',\n",
    "        marker_colors=[BUSINESS_COLORS['success'], BUSINESS_COLORS['warning'], \n",
    "                      BUSINESS_COLORS['danger'], BUSINESS_COLORS['info']]\n",
    "    ), row=1, col=1)\n",
    "\n",
    "# Delivery performance over time (monthly trend)\n",
    "monthly_delivery_data = current_period_df.groupby(current_period_df['order_purchase_timestamp'].dt.month).agg({\n",
    "    'delivery_days': 'mean',\n",
    "    'order_id': 'count'\n",
    "}).reset_index()\n",
    "monthly_delivery_data.columns = ['month', 'avg_delivery_days', 'order_count']\n",
    "\n",
    "fig.add_trace(go.Scatter(\n",
    "    x=monthly_delivery_data['month'],\n",
    "    y=monthly_delivery_data['avg_delivery_days'],\n",
    "    mode='lines+markers',\n",
    "    name='Avg Delivery Days',\n",
    "    line=dict(color=BUSINESS_COLORS['primary'], width=3),\n",
    "    marker=dict(size=8)\n",
    "), row=1, col=2)\n",
    "\n",
    "# Fulfillment efficiency metrics\n",
    "efficiency_metrics = {\n",
    "    'On-Time Delivery': cx_metrics.get('fast_delivery_rate_pct', 0),\n",
    "    'Customer Satisfaction': cx_metrics.get('satisfaction_rate_pct', 0),\n",
    "    'Order Fulfillment': operational_metrics.get('fulfillment_rate_pct', 0),\n",
    "    'Quality Score': (cx_metrics.get('satisfaction_rate_pct', 0) + \n",
    "                     (100 - operational_metrics.get('cancellation_rate_pct', 0))) / 2\n",
    "}\n",
    "\n",
    "fig.add_trace(go.Bar(\n",
    "    x=list(efficiency_metrics.keys()),\n",
    "    y=list(efficiency_metrics.values()),\n",
    "    marker_color=[BUSINESS_COLORS['success'], BUSINESS_COLORS['info'], \n",
    "                  BUSINESS_COLORS['primary'], BUSINESS_COLORS['warning']],\n",
    "    text=[f'{v:.1f}%' for v in efficiency_metrics.values()],\n",
    "    textposition='outside'\n",
    "), row=2, col=1)\n",
    "\n",
    "# Customer service performance by delivery speed category\n",
    "if 'delivery_speed_vs_satisfaction' in cx_metrics:\n",
    "    speed_categories = list(cx_metrics['delivery_speed_vs_satisfaction']['mean'].keys())\n",
    "    satisfaction_scores = list(cx_metrics['delivery_speed_vs_satisfaction']['mean'].values())\n",
    "    \n",
    "    fig.add_trace(go.Bar(\n",
    "        x=speed_categories,\n",
    "        y=satisfaction_scores,\n",
    "        marker_color=BUSINESS_COLORS['success'],\n",
    "        text=[f'{v:.2f}' for v in satisfaction_scores],\n",
    "        textposition='outside'\n",
    "    ), row=2, col=2)\n",
    "\n",
    "fig.update_layout(\n",
    "    title_text=f\"Operational Performance Dashboard - {ANALYSIS_CONFIG['current_year']}\",\n",
    "    template='plotly_white',\n",
    "    height=600,\n",
    "    showlegend=False\n",
    ")\n",
    "\n",
    "# Update y-axis labels\n",
    "fig.update_yaxes(title_text=\"Days\", row=1, col=2)\n",
    "fig.update_yaxes(title_text=\"Percentage (%)\", row=2, col=1)\n",
    "fig.update_yaxes(title_text=\"Review Score\", row=2, col=2)\n",
    "\n",
    "fig.show()\n",
    "\n",
    "# Display key operational insights\n",
    "print(\"\\nKEY OPERATIONAL INSIGHTS:\")\n",
    "print(\"=\" * 50)\n",
    "avg_delivery = cx_metrics.get('avg_delivery_days', 0)\n",
    "if avg_delivery > 7:\n",
    "    print(\"⚠ LOGISTICS: Delivery times exceed 1 week - optimization needed\")\n",
    "elif avg_delivery > 5:\n",
    "    print(\"→ EFFICIENCY: Delivery times are acceptable but can be improved\")\n",
    "else:\n",
    "    print(\"✓ LOGISTICS: Excellent delivery performance\")\n",
    "\n",
    "satisfaction_rate = cx_metrics.get('satisfaction_rate_pct', 0)\n",
    "if satisfaction_rate > 80:\n",
    "    print(\"✓ SATISFACTION: High customer satisfaction indicates strong operations\")\n",
    "elif satisfaction_rate > 70:\n",
    "    print(\"→ OPPORTUNITY: Good satisfaction - focus on consistency\")\n",
    "else:\n",
    "    print(\"⚠ PRIORITY: Low satisfaction requires immediate operational improvements\")\n",
    "\n",
    "fulfillment_rate = operational_metrics.get('fulfillment_rate_pct', 0)\n",
    "if fulfillment_rate > 95:\n",
    "    print(\"✓ FULFILLMENT: Excellent order fulfillment rate\")\n",
    "elif fulfillment_rate > 90:\n",
    "    print(\"→ EFFICIENCY: Good fulfillment - monitor for trends\")\n",
    "else:\n",
    "    print(\"⚠ OPERATIONS: Low fulfillment rate needs attention\")"
   ]
  },
  {
   "cell_type": "markdown",
   "metadata": {},
   "source": [
    "## Geographic Market Analysis\n",
    "\n",
    "### Revenue by State"
   ]
  },
  {
   "cell_type": "code",
   "execution_count": 15,
   "metadata": {},
   "outputs": [
    {
     "name": "stdout",
     "output_type": "stream",
     "text": [
      "Geographic data already exists in sales data, using existing data\n",
      "TOP STATES BY REVENUE:\n",
      "==================================================\n",
      "CA  $537,880.74 (16.0%) |  582 customers\n",
      "TX  $403,303.49 (12.0%) |  438 customers\n",
      "FL  $310,195.84 ( 9.2%) |  332 customers\n",
      "NY  $253,111.85 ( 7.5%) |  286 customers\n",
      "IL  $185,930.89 ( 5.5%) |  190 customers\n",
      "PA  $173,260.68 ( 5.2%) |  172 customers\n",
      "OH  $157,619.72 ( 4.7%) |  151 customers\n",
      "GA  $146,414.65 ( 4.4%) |  145 customers\n",
      "MI  $132,325.60 ( 3.9%) |  164 customers\n",
      "NC  $128,314.74 ( 3.8%) |  135 customers\n"
     ]
    },
    {
     "data": {
      "application/vnd.plotly.v1+json": {
       "config": {
        "plotlyServerURL": "https://plot.ly"
       },
       "data": [
        {
         "coloraxis": "coloraxis",
         "customdata": {
          "bdata": "AAAAAAAIiEAAAAAAADCCQJqZmZmZ24VAAAAAAACIgUAAAAAAAGB7QDMzMzMzd4ZAAAAAAADwekAAAAAAAMB0QEjhehSufYZAAAAAAAAAeEAAAAAAAOBxQDMzMzMzmYRAAAAAAABAcEAAAAAAAMBnQClcj8L1WIZAAAAAAAAgbEAAAAAAAIBlQGZmZmZmEIhAAAAAAAAAaUAAAAAAAOBiQM3MzMzMoIhAAAAAAADAZ0AAAAAAACBiQM3MzMzMFIhAAAAAAABAakAAAAAAAIBkQClcj8L1sINAAAAAAAAgZkAAAAAAAOBgQOxRuB6Fp4ZAAAAAAADAY0AAAAAAAABeQMP1KFyPNIlAAAAAAACAYkAAAAAAAIBaQB+F61G4OIZAAAAAAADgYEAAAAAAAMBaQLgehetR3odAAAAAAABAYEAAAAAAAEBZQMP1KFyPEIhAAAAAAAAgYUAAAAAAAIBaQNejcD0Ks4VAAAAAAADAXEAAAAAAAMBUQJqZmZmZjYdAAAAAAACAWkAAAAAAAABUQFyPwvUocIlAAAAAAABAWUAAAAAAAEBTQBSuR+F6rodAAAAAAADAWEAAAAAAAMBTQHE9Ctej8IdAAAAAAADAWEAAAAAAAABUQArXo3A92odA",
          "dtype": "f8",
          "shape": "20, 3"
         },
         "geo": "geo",
         "hovertemplate": "customer_state=%{location}<br>total_orders=%{customdata[0]}<br>unique_customers=%{customdata[1]}<br>avg_order_value=%{customdata[2]}<br>Revenue (USD)=%{z}<extra></extra>",
         "locationmode": "USA-states",
         "locations": [
          "CA",
          "TX",
          "FL",
          "NY",
          "IL",
          "PA",
          "OH",
          "GA",
          "MI",
          "NC",
          "NJ",
          "VA",
          "MA",
          "AZ",
          "WA",
          "MD",
          "IN",
          "MO",
          "WI",
          "TN"
         ],
         "name": "",
         "type": "choropleth",
         "z": {
          "bdata": "rkfhejFqIEFcj8L1nZ0YQcP1KFzP7hJBzczMzL7lDkHsUbgeV7IGQQrXo3BlJgVBKVyPwp09A0EzMzMzdd8BQc3MzMwsJwBBcT0K16tT/0Bcj8L12Bz/QHE9CtePsflASOF6FHIs+UBmZmZm0nD4QIXrUbiqOfdAFK5H4TYp9UAUrkfh2hD1QDMzMzOzr/JA9ihcjx6E8kDsUbgezXLyQA==",
          "dtype": "f8"
         }
        }
       ],
       "layout": {
        "coloraxis": {
         "colorbar": {
          "title": {
           "text": "Revenue (USD)"
          }
         },
         "colorscale": [
          [
           0,
           "rgb(247,251,255)"
          ],
          [
           0.125,
           "rgb(222,235,247)"
          ],
          [
           0.25,
           "rgb(198,219,239)"
          ],
          [
           0.375,
           "rgb(158,202,225)"
          ],
          [
           0.5,
           "rgb(107,174,214)"
          ],
          [
           0.625,
           "rgb(66,146,198)"
          ],
          [
           0.75,
           "rgb(33,113,181)"
          ],
          [
           0.875,
           "rgb(8,81,156)"
          ],
          [
           1,
           "rgb(8,48,107)"
          ]
         ]
        },
        "geo": {
         "center": {},
         "domain": {
          "x": [
           0,
           1
          ],
          "y": [
           0,
           1
          ]
         },
         "scope": "usa"
        },
        "height": 500,
        "legend": {
         "tracegroupgap": 0
        },
        "template": {
         "data": {
          "bar": [
           {
            "error_x": {
             "color": "#2a3f5f"
            },
            "error_y": {
             "color": "#2a3f5f"
            },
            "marker": {
             "line": {
              "color": "white",
              "width": 0.5
             },
             "pattern": {
              "fillmode": "overlay",
              "size": 10,
              "solidity": 0.2
             }
            },
            "type": "bar"
           }
          ],
          "barpolar": [
           {
            "marker": {
             "line": {
              "color": "white",
              "width": 0.5
             },
             "pattern": {
              "fillmode": "overlay",
              "size": 10,
              "solidity": 0.2
             }
            },
            "type": "barpolar"
           }
          ],
          "carpet": [
           {
            "aaxis": {
             "endlinecolor": "#2a3f5f",
             "gridcolor": "#C8D4E3",
             "linecolor": "#C8D4E3",
             "minorgridcolor": "#C8D4E3",
             "startlinecolor": "#2a3f5f"
            },
            "baxis": {
             "endlinecolor": "#2a3f5f",
             "gridcolor": "#C8D4E3",
             "linecolor": "#C8D4E3",
             "minorgridcolor": "#C8D4E3",
             "startlinecolor": "#2a3f5f"
            },
            "type": "carpet"
           }
          ],
          "choropleth": [
           {
            "colorbar": {
             "outlinewidth": 0,
             "ticks": ""
            },
            "type": "choropleth"
           }
          ],
          "contour": [
           {
            "colorbar": {
             "outlinewidth": 0,
             "ticks": ""
            },
            "colorscale": [
             [
              0,
              "#0d0887"
             ],
             [
              0.1111111111111111,
              "#46039f"
             ],
             [
              0.2222222222222222,
              "#7201a8"
             ],
             [
              0.3333333333333333,
              "#9c179e"
             ],
             [
              0.4444444444444444,
              "#bd3786"
             ],
             [
              0.5555555555555556,
              "#d8576b"
             ],
             [
              0.6666666666666666,
              "#ed7953"
             ],
             [
              0.7777777777777778,
              "#fb9f3a"
             ],
             [
              0.8888888888888888,
              "#fdca26"
             ],
             [
              1,
              "#f0f921"
             ]
            ],
            "type": "contour"
           }
          ],
          "contourcarpet": [
           {
            "colorbar": {
             "outlinewidth": 0,
             "ticks": ""
            },
            "type": "contourcarpet"
           }
          ],
          "heatmap": [
           {
            "colorbar": {
             "outlinewidth": 0,
             "ticks": ""
            },
            "colorscale": [
             [
              0,
              "#0d0887"
             ],
             [
              0.1111111111111111,
              "#46039f"
             ],
             [
              0.2222222222222222,
              "#7201a8"
             ],
             [
              0.3333333333333333,
              "#9c179e"
             ],
             [
              0.4444444444444444,
              "#bd3786"
             ],
             [
              0.5555555555555556,
              "#d8576b"
             ],
             [
              0.6666666666666666,
              "#ed7953"
             ],
             [
              0.7777777777777778,
              "#fb9f3a"
             ],
             [
              0.8888888888888888,
              "#fdca26"
             ],
             [
              1,
              "#f0f921"
             ]
            ],
            "type": "heatmap"
           }
          ],
          "histogram": [
           {
            "marker": {
             "pattern": {
              "fillmode": "overlay",
              "size": 10,
              "solidity": 0.2
             }
            },
            "type": "histogram"
           }
          ],
          "histogram2d": [
           {
            "colorbar": {
             "outlinewidth": 0,
             "ticks": ""
            },
            "colorscale": [
             [
              0,
              "#0d0887"
             ],
             [
              0.1111111111111111,
              "#46039f"
             ],
             [
              0.2222222222222222,
              "#7201a8"
             ],
             [
              0.3333333333333333,
              "#9c179e"
             ],
             [
              0.4444444444444444,
              "#bd3786"
             ],
             [
              0.5555555555555556,
              "#d8576b"
             ],
             [
              0.6666666666666666,
              "#ed7953"
             ],
             [
              0.7777777777777778,
              "#fb9f3a"
             ],
             [
              0.8888888888888888,
              "#fdca26"
             ],
             [
              1,
              "#f0f921"
             ]
            ],
            "type": "histogram2d"
           }
          ],
          "histogram2dcontour": [
           {
            "colorbar": {
             "outlinewidth": 0,
             "ticks": ""
            },
            "colorscale": [
             [
              0,
              "#0d0887"
             ],
             [
              0.1111111111111111,
              "#46039f"
             ],
             [
              0.2222222222222222,
              "#7201a8"
             ],
             [
              0.3333333333333333,
              "#9c179e"
             ],
             [
              0.4444444444444444,
              "#bd3786"
             ],
             [
              0.5555555555555556,
              "#d8576b"
             ],
             [
              0.6666666666666666,
              "#ed7953"
             ],
             [
              0.7777777777777778,
              "#fb9f3a"
             ],
             [
              0.8888888888888888,
              "#fdca26"
             ],
             [
              1,
              "#f0f921"
             ]
            ],
            "type": "histogram2dcontour"
           }
          ],
          "mesh3d": [
           {
            "colorbar": {
             "outlinewidth": 0,
             "ticks": ""
            },
            "type": "mesh3d"
           }
          ],
          "parcoords": [
           {
            "line": {
             "colorbar": {
              "outlinewidth": 0,
              "ticks": ""
             }
            },
            "type": "parcoords"
           }
          ],
          "pie": [
           {
            "automargin": true,
            "type": "pie"
           }
          ],
          "scatter": [
           {
            "fillpattern": {
             "fillmode": "overlay",
             "size": 10,
             "solidity": 0.2
            },
            "type": "scatter"
           }
          ],
          "scatter3d": [
           {
            "line": {
             "colorbar": {
              "outlinewidth": 0,
              "ticks": ""
             }
            },
            "marker": {
             "colorbar": {
              "outlinewidth": 0,
              "ticks": ""
             }
            },
            "type": "scatter3d"
           }
          ],
          "scattercarpet": [
           {
            "marker": {
             "colorbar": {
              "outlinewidth": 0,
              "ticks": ""
             }
            },
            "type": "scattercarpet"
           }
          ],
          "scattergeo": [
           {
            "marker": {
             "colorbar": {
              "outlinewidth": 0,
              "ticks": ""
             }
            },
            "type": "scattergeo"
           }
          ],
          "scattergl": [
           {
            "marker": {
             "colorbar": {
              "outlinewidth": 0,
              "ticks": ""
             }
            },
            "type": "scattergl"
           }
          ],
          "scattermap": [
           {
            "marker": {
             "colorbar": {
              "outlinewidth": 0,
              "ticks": ""
             }
            },
            "type": "scattermap"
           }
          ],
          "scattermapbox": [
           {
            "marker": {
             "colorbar": {
              "outlinewidth": 0,
              "ticks": ""
             }
            },
            "type": "scattermapbox"
           }
          ],
          "scatterpolar": [
           {
            "marker": {
             "colorbar": {
              "outlinewidth": 0,
              "ticks": ""
             }
            },
            "type": "scatterpolar"
           }
          ],
          "scatterpolargl": [
           {
            "marker": {
             "colorbar": {
              "outlinewidth": 0,
              "ticks": ""
             }
            },
            "type": "scatterpolargl"
           }
          ],
          "scatterternary": [
           {
            "marker": {
             "colorbar": {
              "outlinewidth": 0,
              "ticks": ""
             }
            },
            "type": "scatterternary"
           }
          ],
          "surface": [
           {
            "colorbar": {
             "outlinewidth": 0,
             "ticks": ""
            },
            "colorscale": [
             [
              0,
              "#0d0887"
             ],
             [
              0.1111111111111111,
              "#46039f"
             ],
             [
              0.2222222222222222,
              "#7201a8"
             ],
             [
              0.3333333333333333,
              "#9c179e"
             ],
             [
              0.4444444444444444,
              "#bd3786"
             ],
             [
              0.5555555555555556,
              "#d8576b"
             ],
             [
              0.6666666666666666,
              "#ed7953"
             ],
             [
              0.7777777777777778,
              "#fb9f3a"
             ],
             [
              0.8888888888888888,
              "#fdca26"
             ],
             [
              1,
              "#f0f921"
             ]
            ],
            "type": "surface"
           }
          ],
          "table": [
           {
            "cells": {
             "fill": {
              "color": "#EBF0F8"
             },
             "line": {
              "color": "white"
             }
            },
            "header": {
             "fill": {
              "color": "#C8D4E3"
             },
             "line": {
              "color": "white"
             }
            },
            "type": "table"
           }
          ]
         },
         "layout": {
          "annotationdefaults": {
           "arrowcolor": "#2a3f5f",
           "arrowhead": 0,
           "arrowwidth": 1
          },
          "autotypenumbers": "strict",
          "coloraxis": {
           "colorbar": {
            "outlinewidth": 0,
            "ticks": ""
           }
          },
          "colorscale": {
           "diverging": [
            [
             0,
             "#8e0152"
            ],
            [
             0.1,
             "#c51b7d"
            ],
            [
             0.2,
             "#de77ae"
            ],
            [
             0.3,
             "#f1b6da"
            ],
            [
             0.4,
             "#fde0ef"
            ],
            [
             0.5,
             "#f7f7f7"
            ],
            [
             0.6,
             "#e6f5d0"
            ],
            [
             0.7,
             "#b8e186"
            ],
            [
             0.8,
             "#7fbc41"
            ],
            [
             0.9,
             "#4d9221"
            ],
            [
             1,
             "#276419"
            ]
           ],
           "sequential": [
            [
             0,
             "#0d0887"
            ],
            [
             0.1111111111111111,
             "#46039f"
            ],
            [
             0.2222222222222222,
             "#7201a8"
            ],
            [
             0.3333333333333333,
             "#9c179e"
            ],
            [
             0.4444444444444444,
             "#bd3786"
            ],
            [
             0.5555555555555556,
             "#d8576b"
            ],
            [
             0.6666666666666666,
             "#ed7953"
            ],
            [
             0.7777777777777778,
             "#fb9f3a"
            ],
            [
             0.8888888888888888,
             "#fdca26"
            ],
            [
             1,
             "#f0f921"
            ]
           ],
           "sequentialminus": [
            [
             0,
             "#0d0887"
            ],
            [
             0.1111111111111111,
             "#46039f"
            ],
            [
             0.2222222222222222,
             "#7201a8"
            ],
            [
             0.3333333333333333,
             "#9c179e"
            ],
            [
             0.4444444444444444,
             "#bd3786"
            ],
            [
             0.5555555555555556,
             "#d8576b"
            ],
            [
             0.6666666666666666,
             "#ed7953"
            ],
            [
             0.7777777777777778,
             "#fb9f3a"
            ],
            [
             0.8888888888888888,
             "#fdca26"
            ],
            [
             1,
             "#f0f921"
            ]
           ]
          },
          "colorway": [
           "#636efa",
           "#EF553B",
           "#00cc96",
           "#ab63fa",
           "#FFA15A",
           "#19d3f3",
           "#FF6692",
           "#B6E880",
           "#FF97FF",
           "#FECB52"
          ],
          "font": {
           "color": "#2a3f5f"
          },
          "geo": {
           "bgcolor": "white",
           "lakecolor": "white",
           "landcolor": "white",
           "showlakes": true,
           "showland": true,
           "subunitcolor": "#C8D4E3"
          },
          "hoverlabel": {
           "align": "left"
          },
          "hovermode": "closest",
          "mapbox": {
           "style": "light"
          },
          "paper_bgcolor": "white",
          "plot_bgcolor": "white",
          "polar": {
           "angularaxis": {
            "gridcolor": "#EBF0F8",
            "linecolor": "#EBF0F8",
            "ticks": ""
           },
           "bgcolor": "white",
           "radialaxis": {
            "gridcolor": "#EBF0F8",
            "linecolor": "#EBF0F8",
            "ticks": ""
           }
          },
          "scene": {
           "xaxis": {
            "backgroundcolor": "white",
            "gridcolor": "#DFE8F3",
            "gridwidth": 2,
            "linecolor": "#EBF0F8",
            "showbackground": true,
            "ticks": "",
            "zerolinecolor": "#EBF0F8"
           },
           "yaxis": {
            "backgroundcolor": "white",
            "gridcolor": "#DFE8F3",
            "gridwidth": 2,
            "linecolor": "#EBF0F8",
            "showbackground": true,
            "ticks": "",
            "zerolinecolor": "#EBF0F8"
           },
           "zaxis": {
            "backgroundcolor": "white",
            "gridcolor": "#DFE8F3",
            "gridwidth": 2,
            "linecolor": "#EBF0F8",
            "showbackground": true,
            "ticks": "",
            "zerolinecolor": "#EBF0F8"
           }
          },
          "shapedefaults": {
           "line": {
            "color": "#2a3f5f"
           }
          },
          "ternary": {
           "aaxis": {
            "gridcolor": "#DFE8F3",
            "linecolor": "#A2B1C6",
            "ticks": ""
           },
           "baxis": {
            "gridcolor": "#DFE8F3",
            "linecolor": "#A2B1C6",
            "ticks": ""
           },
           "bgcolor": "white",
           "caxis": {
            "gridcolor": "#DFE8F3",
            "linecolor": "#A2B1C6",
            "ticks": ""
           }
          },
          "title": {
           "x": 0.05
          },
          "xaxis": {
           "automargin": true,
           "gridcolor": "#EBF0F8",
           "linecolor": "#EBF0F8",
           "ticks": "",
           "title": {
            "standoff": 15
           },
           "zerolinecolor": "#EBF0F8",
           "zerolinewidth": 2
          },
          "yaxis": {
           "automargin": true,
           "gridcolor": "#EBF0F8",
           "linecolor": "#EBF0F8",
           "ticks": "",
           "title": {
            "standoff": 15
           },
           "zerolinecolor": "#EBF0F8",
           "zerolinewidth": 2
          }
         }
        },
        "title": {
         "text": "Revenue by State - 2023"
        }
       }
      }
     },
     "metadata": {},
     "output_type": "display_data"
    },
    {
     "data": {
      "application/vnd.plotly.v1+json": {
       "config": {
        "plotlyServerURL": "https://plot.ly"
       },
       "data": [
        {
         "marker": {
          "color": "#1f77b4"
         },
         "orientation": "h",
         "text": [
          "$537,881",
          "$403,303",
          "$310,196",
          "$253,112",
          "$185,931",
          "$173,261",
          "$157,620",
          "$146,415",
          "$132,326",
          "$128,315",
          "$127,438",
          "$105,241",
          "$103,111",
          "$100,109",
          "$95,131"
         ],
         "textposition": "outside",
         "type": "bar",
         "x": {
          "bdata": "rkfhejFqIEFcj8L1nZ0YQcP1KFzP7hJBzczMzL7lDkHsUbgeV7IGQQrXo3BlJgVBKVyPwp09A0EzMzMzdd8BQc3MzMwsJwBBcT0K16tT/0Bcj8L12Bz/QHE9CtePsflASOF6FHIs+UBmZmZm0nD4QIXrUbiqOfdA",
          "dtype": "f8"
         },
         "y": [
          "CA",
          "TX",
          "FL",
          "NY",
          "IL",
          "PA",
          "OH",
          "GA",
          "MI",
          "NC",
          "NJ",
          "VA",
          "MA",
          "AZ",
          "WA"
         ]
        }
       ],
       "layout": {
        "height": 500,
        "template": {
         "data": {
          "bar": [
           {
            "error_x": {
             "color": "#2a3f5f"
            },
            "error_y": {
             "color": "#2a3f5f"
            },
            "marker": {
             "line": {
              "color": "white",
              "width": 0.5
             },
             "pattern": {
              "fillmode": "overlay",
              "size": 10,
              "solidity": 0.2
             }
            },
            "type": "bar"
           }
          ],
          "barpolar": [
           {
            "marker": {
             "line": {
              "color": "white",
              "width": 0.5
             },
             "pattern": {
              "fillmode": "overlay",
              "size": 10,
              "solidity": 0.2
             }
            },
            "type": "barpolar"
           }
          ],
          "carpet": [
           {
            "aaxis": {
             "endlinecolor": "#2a3f5f",
             "gridcolor": "#C8D4E3",
             "linecolor": "#C8D4E3",
             "minorgridcolor": "#C8D4E3",
             "startlinecolor": "#2a3f5f"
            },
            "baxis": {
             "endlinecolor": "#2a3f5f",
             "gridcolor": "#C8D4E3",
             "linecolor": "#C8D4E3",
             "minorgridcolor": "#C8D4E3",
             "startlinecolor": "#2a3f5f"
            },
            "type": "carpet"
           }
          ],
          "choropleth": [
           {
            "colorbar": {
             "outlinewidth": 0,
             "ticks": ""
            },
            "type": "choropleth"
           }
          ],
          "contour": [
           {
            "colorbar": {
             "outlinewidth": 0,
             "ticks": ""
            },
            "colorscale": [
             [
              0,
              "#0d0887"
             ],
             [
              0.1111111111111111,
              "#46039f"
             ],
             [
              0.2222222222222222,
              "#7201a8"
             ],
             [
              0.3333333333333333,
              "#9c179e"
             ],
             [
              0.4444444444444444,
              "#bd3786"
             ],
             [
              0.5555555555555556,
              "#d8576b"
             ],
             [
              0.6666666666666666,
              "#ed7953"
             ],
             [
              0.7777777777777778,
              "#fb9f3a"
             ],
             [
              0.8888888888888888,
              "#fdca26"
             ],
             [
              1,
              "#f0f921"
             ]
            ],
            "type": "contour"
           }
          ],
          "contourcarpet": [
           {
            "colorbar": {
             "outlinewidth": 0,
             "ticks": ""
            },
            "type": "contourcarpet"
           }
          ],
          "heatmap": [
           {
            "colorbar": {
             "outlinewidth": 0,
             "ticks": ""
            },
            "colorscale": [
             [
              0,
              "#0d0887"
             ],
             [
              0.1111111111111111,
              "#46039f"
             ],
             [
              0.2222222222222222,
              "#7201a8"
             ],
             [
              0.3333333333333333,
              "#9c179e"
             ],
             [
              0.4444444444444444,
              "#bd3786"
             ],
             [
              0.5555555555555556,
              "#d8576b"
             ],
             [
              0.6666666666666666,
              "#ed7953"
             ],
             [
              0.7777777777777778,
              "#fb9f3a"
             ],
             [
              0.8888888888888888,
              "#fdca26"
             ],
             [
              1,
              "#f0f921"
             ]
            ],
            "type": "heatmap"
           }
          ],
          "histogram": [
           {
            "marker": {
             "pattern": {
              "fillmode": "overlay",
              "size": 10,
              "solidity": 0.2
             }
            },
            "type": "histogram"
           }
          ],
          "histogram2d": [
           {
            "colorbar": {
             "outlinewidth": 0,
             "ticks": ""
            },
            "colorscale": [
             [
              0,
              "#0d0887"
             ],
             [
              0.1111111111111111,
              "#46039f"
             ],
             [
              0.2222222222222222,
              "#7201a8"
             ],
             [
              0.3333333333333333,
              "#9c179e"
             ],
             [
              0.4444444444444444,
              "#bd3786"
             ],
             [
              0.5555555555555556,
              "#d8576b"
             ],
             [
              0.6666666666666666,
              "#ed7953"
             ],
             [
              0.7777777777777778,
              "#fb9f3a"
             ],
             [
              0.8888888888888888,
              "#fdca26"
             ],
             [
              1,
              "#f0f921"
             ]
            ],
            "type": "histogram2d"
           }
          ],
          "histogram2dcontour": [
           {
            "colorbar": {
             "outlinewidth": 0,
             "ticks": ""
            },
            "colorscale": [
             [
              0,
              "#0d0887"
             ],
             [
              0.1111111111111111,
              "#46039f"
             ],
             [
              0.2222222222222222,
              "#7201a8"
             ],
             [
              0.3333333333333333,
              "#9c179e"
             ],
             [
              0.4444444444444444,
              "#bd3786"
             ],
             [
              0.5555555555555556,
              "#d8576b"
             ],
             [
              0.6666666666666666,
              "#ed7953"
             ],
             [
              0.7777777777777778,
              "#fb9f3a"
             ],
             [
              0.8888888888888888,
              "#fdca26"
             ],
             [
              1,
              "#f0f921"
             ]
            ],
            "type": "histogram2dcontour"
           }
          ],
          "mesh3d": [
           {
            "colorbar": {
             "outlinewidth": 0,
             "ticks": ""
            },
            "type": "mesh3d"
           }
          ],
          "parcoords": [
           {
            "line": {
             "colorbar": {
              "outlinewidth": 0,
              "ticks": ""
             }
            },
            "type": "parcoords"
           }
          ],
          "pie": [
           {
            "automargin": true,
            "type": "pie"
           }
          ],
          "scatter": [
           {
            "fillpattern": {
             "fillmode": "overlay",
             "size": 10,
             "solidity": 0.2
            },
            "type": "scatter"
           }
          ],
          "scatter3d": [
           {
            "line": {
             "colorbar": {
              "outlinewidth": 0,
              "ticks": ""
             }
            },
            "marker": {
             "colorbar": {
              "outlinewidth": 0,
              "ticks": ""
             }
            },
            "type": "scatter3d"
           }
          ],
          "scattercarpet": [
           {
            "marker": {
             "colorbar": {
              "outlinewidth": 0,
              "ticks": ""
             }
            },
            "type": "scattercarpet"
           }
          ],
          "scattergeo": [
           {
            "marker": {
             "colorbar": {
              "outlinewidth": 0,
              "ticks": ""
             }
            },
            "type": "scattergeo"
           }
          ],
          "scattergl": [
           {
            "marker": {
             "colorbar": {
              "outlinewidth": 0,
              "ticks": ""
             }
            },
            "type": "scattergl"
           }
          ],
          "scattermap": [
           {
            "marker": {
             "colorbar": {
              "outlinewidth": 0,
              "ticks": ""
             }
            },
            "type": "scattermap"
           }
          ],
          "scattermapbox": [
           {
            "marker": {
             "colorbar": {
              "outlinewidth": 0,
              "ticks": ""
             }
            },
            "type": "scattermapbox"
           }
          ],
          "scatterpolar": [
           {
            "marker": {
             "colorbar": {
              "outlinewidth": 0,
              "ticks": ""
             }
            },
            "type": "scatterpolar"
           }
          ],
          "scatterpolargl": [
           {
            "marker": {
             "colorbar": {
              "outlinewidth": 0,
              "ticks": ""
             }
            },
            "type": "scatterpolargl"
           }
          ],
          "scatterternary": [
           {
            "marker": {
             "colorbar": {
              "outlinewidth": 0,
              "ticks": ""
             }
            },
            "type": "scatterternary"
           }
          ],
          "surface": [
           {
            "colorbar": {
             "outlinewidth": 0,
             "ticks": ""
            },
            "colorscale": [
             [
              0,
              "#0d0887"
             ],
             [
              0.1111111111111111,
              "#46039f"
             ],
             [
              0.2222222222222222,
              "#7201a8"
             ],
             [
              0.3333333333333333,
              "#9c179e"
             ],
             [
              0.4444444444444444,
              "#bd3786"
             ],
             [
              0.5555555555555556,
              "#d8576b"
             ],
             [
              0.6666666666666666,
              "#ed7953"
             ],
             [
              0.7777777777777778,
              "#fb9f3a"
             ],
             [
              0.8888888888888888,
              "#fdca26"
             ],
             [
              1,
              "#f0f921"
             ]
            ],
            "type": "surface"
           }
          ],
          "table": [
           {
            "cells": {
             "fill": {
              "color": "#EBF0F8"
             },
             "line": {
              "color": "white"
             }
            },
            "header": {
             "fill": {
              "color": "#C8D4E3"
             },
             "line": {
              "color": "white"
             }
            },
            "type": "table"
           }
          ]
         },
         "layout": {
          "annotationdefaults": {
           "arrowcolor": "#2a3f5f",
           "arrowhead": 0,
           "arrowwidth": 1
          },
          "autotypenumbers": "strict",
          "coloraxis": {
           "colorbar": {
            "outlinewidth": 0,
            "ticks": ""
           }
          },
          "colorscale": {
           "diverging": [
            [
             0,
             "#8e0152"
            ],
            [
             0.1,
             "#c51b7d"
            ],
            [
             0.2,
             "#de77ae"
            ],
            [
             0.3,
             "#f1b6da"
            ],
            [
             0.4,
             "#fde0ef"
            ],
            [
             0.5,
             "#f7f7f7"
            ],
            [
             0.6,
             "#e6f5d0"
            ],
            [
             0.7,
             "#b8e186"
            ],
            [
             0.8,
             "#7fbc41"
            ],
            [
             0.9,
             "#4d9221"
            ],
            [
             1,
             "#276419"
            ]
           ],
           "sequential": [
            [
             0,
             "#0d0887"
            ],
            [
             0.1111111111111111,
             "#46039f"
            ],
            [
             0.2222222222222222,
             "#7201a8"
            ],
            [
             0.3333333333333333,
             "#9c179e"
            ],
            [
             0.4444444444444444,
             "#bd3786"
            ],
            [
             0.5555555555555556,
             "#d8576b"
            ],
            [
             0.6666666666666666,
             "#ed7953"
            ],
            [
             0.7777777777777778,
             "#fb9f3a"
            ],
            [
             0.8888888888888888,
             "#fdca26"
            ],
            [
             1,
             "#f0f921"
            ]
           ],
           "sequentialminus": [
            [
             0,
             "#0d0887"
            ],
            [
             0.1111111111111111,
             "#46039f"
            ],
            [
             0.2222222222222222,
             "#7201a8"
            ],
            [
             0.3333333333333333,
             "#9c179e"
            ],
            [
             0.4444444444444444,
             "#bd3786"
            ],
            [
             0.5555555555555556,
             "#d8576b"
            ],
            [
             0.6666666666666666,
             "#ed7953"
            ],
            [
             0.7777777777777778,
             "#fb9f3a"
            ],
            [
             0.8888888888888888,
             "#fdca26"
            ],
            [
             1,
             "#f0f921"
            ]
           ]
          },
          "colorway": [
           "#636efa",
           "#EF553B",
           "#00cc96",
           "#ab63fa",
           "#FFA15A",
           "#19d3f3",
           "#FF6692",
           "#B6E880",
           "#FF97FF",
           "#FECB52"
          ],
          "font": {
           "color": "#2a3f5f"
          },
          "geo": {
           "bgcolor": "white",
           "lakecolor": "white",
           "landcolor": "white",
           "showlakes": true,
           "showland": true,
           "subunitcolor": "#C8D4E3"
          },
          "hoverlabel": {
           "align": "left"
          },
          "hovermode": "closest",
          "mapbox": {
           "style": "light"
          },
          "paper_bgcolor": "white",
          "plot_bgcolor": "white",
          "polar": {
           "angularaxis": {
            "gridcolor": "#EBF0F8",
            "linecolor": "#EBF0F8",
            "ticks": ""
           },
           "bgcolor": "white",
           "radialaxis": {
            "gridcolor": "#EBF0F8",
            "linecolor": "#EBF0F8",
            "ticks": ""
           }
          },
          "scene": {
           "xaxis": {
            "backgroundcolor": "white",
            "gridcolor": "#DFE8F3",
            "gridwidth": 2,
            "linecolor": "#EBF0F8",
            "showbackground": true,
            "ticks": "",
            "zerolinecolor": "#EBF0F8"
           },
           "yaxis": {
            "backgroundcolor": "white",
            "gridcolor": "#DFE8F3",
            "gridwidth": 2,
            "linecolor": "#EBF0F8",
            "showbackground": true,
            "ticks": "",
            "zerolinecolor": "#EBF0F8"
           },
           "zaxis": {
            "backgroundcolor": "white",
            "gridcolor": "#DFE8F3",
            "gridwidth": 2,
            "linecolor": "#EBF0F8",
            "showbackground": true,
            "ticks": "",
            "zerolinecolor": "#EBF0F8"
           }
          },
          "shapedefaults": {
           "line": {
            "color": "#2a3f5f"
           }
          },
          "ternary": {
           "aaxis": {
            "gridcolor": "#DFE8F3",
            "linecolor": "#A2B1C6",
            "ticks": ""
           },
           "baxis": {
            "gridcolor": "#DFE8F3",
            "linecolor": "#A2B1C6",
            "ticks": ""
           },
           "bgcolor": "white",
           "caxis": {
            "gridcolor": "#DFE8F3",
            "linecolor": "#A2B1C6",
            "ticks": ""
           }
          },
          "title": {
           "x": 0.05
          },
          "xaxis": {
           "automargin": true,
           "gridcolor": "#EBF0F8",
           "linecolor": "#EBF0F8",
           "ticks": "",
           "title": {
            "standoff": 15
           },
           "zerolinecolor": "#EBF0F8",
           "zerolinewidth": 2
          },
          "yaxis": {
           "automargin": true,
           "gridcolor": "#EBF0F8",
           "linecolor": "#EBF0F8",
           "ticks": "",
           "title": {
            "standoff": 15
           },
           "zerolinecolor": "#EBF0F8",
           "zerolinewidth": 2
          }
         }
        },
        "title": {
         "text": "Top 15 States by Revenue - 2023"
        },
        "xaxis": {
         "title": {
          "text": "Revenue (USD)"
         }
        },
        "yaxis": {
         "categoryorder": "total ascending",
         "title": {
          "text": "State"
         }
        }
       }
      }
     },
     "metadata": {},
     "output_type": "display_data"
    }
   ],
   "source": [
    "# Calculate geographic metrics\n",
    "state_metrics = calculate_geographic_metrics(\n",
    "    current_period_df, orders_df, customers_df, geographic_level='state'\n",
    ")\n",
    "\n",
    "if not state_metrics.empty:\n",
    "    print(\"TOP STATES BY REVENUE:\")\n",
    "    print(\"=\" * 50)\n",
    "    for idx, row in state_metrics.head(10).iterrows():\n",
    "        print(f\"{row['customer_state']:3} ${row['total_revenue']:>10,.2f} ({row['revenue_share_pct']:4.1f}%) | {row['unique_customers']:>4,} customers\")\n",
    "\n",
    "    # Create geographic revenue map\n",
    "    fig = px.choropleth(\n",
    "        state_metrics,\n",
    "        locations='customer_state',\n",
    "        color='total_revenue',\n",
    "        locationmode='USA-states',\n",
    "        scope='usa',\n",
    "        title=f'Revenue by State - {ANALYSIS_CONFIG[\"current_year\"]}',\n",
    "        color_continuous_scale='Blues',\n",
    "        labels={'total_revenue': 'Revenue (USD)'},\n",
    "        hover_data=['total_orders', 'unique_customers', 'avg_order_value']\n",
    "    )\n",
    "\n",
    "    fig.update_layout(\n",
    "        template='plotly_white',\n",
    "        height=500\n",
    "    )\n",
    "\n",
    "    fig.show()\n",
    "    \n",
    "    # Top states bar chart\n",
    "    top_states = state_metrics.head(15)\n",
    "    \n",
    "    fig = go.Figure(data=[\n",
    "        go.Bar(\n",
    "            x=top_states['total_revenue'],\n",
    "            y=top_states['customer_state'],\n",
    "            orientation='h',\n",
    "            marker_color=BUSINESS_COLORS['primary'],\n",
    "            text=[f'${x:,.0f}' for x in top_states['total_revenue']],\n",
    "            textposition='outside'\n",
    "        )\n",
    "    ])\n",
    "    \n",
    "    fig.update_layout(\n",
    "        title=f'Top 15 States by Revenue - {ANALYSIS_CONFIG[\"current_year\"]}',\n",
    "        xaxis_title='Revenue (USD)',\n",
    "        yaxis_title='State',\n",
    "        yaxis={'categoryorder': 'total ascending'},\n",
    "        template='plotly_white',\n",
    "        height=500\n",
    "    )\n",
    "    \n",
    "    fig.show()\n",
    "else:\n",
    "    print(\"Geographic data not available for analysis\")"
   ]
  },
  {
   "cell_type": "markdown",
   "metadata": {},
   "source": [
    "## Customer Experience Analysis\n",
    "\n",
    "### Customer Satisfaction Metrics"
   ]
  },
  {
   "cell_type": "code",
   "execution_count": 16,
   "metadata": {},
   "outputs": [
    {
     "name": "stdout",
     "output_type": "stream",
     "text": [
      "Review score already exists in sales data, using existing data\n",
      "CUSTOMER EXPERIENCE SUMMARY\n",
      "==================================================\n",
      "Average Review Score: 4.10/5.0\n",
      "Satisfaction Rate (4-5 stars): 74.1%\n",
      "Average Delivery Time: 8.0 days\n",
      "Fast Delivery Rate (≤3 days): 7.2%\n"
     ]
    },
    {
     "data": {
      "application/vnd.plotly.v1+json": {
       "config": {
        "plotlyServerURL": "https://plot.ly"
       },
       "data": [
        {
         "marker": {
          "color": "#2ca02c"
         },
         "name": "Review Distribution",
         "type": "bar",
         "x": [
          5,
          4,
          3,
          2,
          1
         ],
         "xaxis": "x",
         "y": [
          49.86528098537336,
          24.268668206312547,
          15.35796766743649,
          6.889915319476521,
          3.6181678214010775
         ],
         "yaxis": "y"
        },
        {
         "domain": {
          "x": [
           0.55,
           1
          ],
          "y": [
           0.625,
           1
          ]
         },
         "labels": [
          "8+ days",
          "4-7 days",
          "1-3 days"
         ],
         "name": "Delivery Speed",
         "type": "pie",
         "values": [
          55.577130528586835,
          37.259978425026965,
          7.162891046386193
         ]
        },
        {
         "marker": {
          "color": "#17a2b8"
         },
         "name": "Avg Review Score",
         "type": "bar",
         "x": [
          "1-3 days",
          "4-7 days",
          "8+ days"
         ],
         "xaxis": "x2",
         "y": [
          4.2076502732240435,
          4.068562722194007,
          4.105557497378539
         ],
         "yaxis": "y2"
        }
       ],
       "layout": {
        "annotations": [
         {
          "font": {
           "size": 16
          },
          "showarrow": false,
          "text": "Review Score Distribution",
          "x": 0.225,
          "xanchor": "center",
          "xref": "paper",
          "y": 1,
          "yanchor": "bottom",
          "yref": "paper"
         },
         {
          "font": {
           "size": 16
          },
          "showarrow": false,
          "text": "Delivery Speed Distribution",
          "x": 0.775,
          "xanchor": "center",
          "xref": "paper",
          "y": 1,
          "yanchor": "bottom",
          "yref": "paper"
         },
         {
          "font": {
           "size": 16
          },
          "showarrow": false,
          "text": "Delivery vs Satisfaction",
          "x": 0.225,
          "xanchor": "center",
          "xref": "paper",
          "y": 0.375,
          "yanchor": "bottom",
          "yref": "paper"
         },
         {
          "font": {
           "size": 16
          },
          "showarrow": false,
          "text": "Monthly Satisfaction Trend",
          "x": 0.775,
          "xanchor": "center",
          "xref": "paper",
          "y": 0.375,
          "yanchor": "bottom",
          "yref": "paper"
         }
        ],
        "height": 600,
        "showlegend": false,
        "template": {
         "data": {
          "bar": [
           {
            "error_x": {
             "color": "#2a3f5f"
            },
            "error_y": {
             "color": "#2a3f5f"
            },
            "marker": {
             "line": {
              "color": "white",
              "width": 0.5
             },
             "pattern": {
              "fillmode": "overlay",
              "size": 10,
              "solidity": 0.2
             }
            },
            "type": "bar"
           }
          ],
          "barpolar": [
           {
            "marker": {
             "line": {
              "color": "white",
              "width": 0.5
             },
             "pattern": {
              "fillmode": "overlay",
              "size": 10,
              "solidity": 0.2
             }
            },
            "type": "barpolar"
           }
          ],
          "carpet": [
           {
            "aaxis": {
             "endlinecolor": "#2a3f5f",
             "gridcolor": "#C8D4E3",
             "linecolor": "#C8D4E3",
             "minorgridcolor": "#C8D4E3",
             "startlinecolor": "#2a3f5f"
            },
            "baxis": {
             "endlinecolor": "#2a3f5f",
             "gridcolor": "#C8D4E3",
             "linecolor": "#C8D4E3",
             "minorgridcolor": "#C8D4E3",
             "startlinecolor": "#2a3f5f"
            },
            "type": "carpet"
           }
          ],
          "choropleth": [
           {
            "colorbar": {
             "outlinewidth": 0,
             "ticks": ""
            },
            "type": "choropleth"
           }
          ],
          "contour": [
           {
            "colorbar": {
             "outlinewidth": 0,
             "ticks": ""
            },
            "colorscale": [
             [
              0,
              "#0d0887"
             ],
             [
              0.1111111111111111,
              "#46039f"
             ],
             [
              0.2222222222222222,
              "#7201a8"
             ],
             [
              0.3333333333333333,
              "#9c179e"
             ],
             [
              0.4444444444444444,
              "#bd3786"
             ],
             [
              0.5555555555555556,
              "#d8576b"
             ],
             [
              0.6666666666666666,
              "#ed7953"
             ],
             [
              0.7777777777777778,
              "#fb9f3a"
             ],
             [
              0.8888888888888888,
              "#fdca26"
             ],
             [
              1,
              "#f0f921"
             ]
            ],
            "type": "contour"
           }
          ],
          "contourcarpet": [
           {
            "colorbar": {
             "outlinewidth": 0,
             "ticks": ""
            },
            "type": "contourcarpet"
           }
          ],
          "heatmap": [
           {
            "colorbar": {
             "outlinewidth": 0,
             "ticks": ""
            },
            "colorscale": [
             [
              0,
              "#0d0887"
             ],
             [
              0.1111111111111111,
              "#46039f"
             ],
             [
              0.2222222222222222,
              "#7201a8"
             ],
             [
              0.3333333333333333,
              "#9c179e"
             ],
             [
              0.4444444444444444,
              "#bd3786"
             ],
             [
              0.5555555555555556,
              "#d8576b"
             ],
             [
              0.6666666666666666,
              "#ed7953"
             ],
             [
              0.7777777777777778,
              "#fb9f3a"
             ],
             [
              0.8888888888888888,
              "#fdca26"
             ],
             [
              1,
              "#f0f921"
             ]
            ],
            "type": "heatmap"
           }
          ],
          "histogram": [
           {
            "marker": {
             "pattern": {
              "fillmode": "overlay",
              "size": 10,
              "solidity": 0.2
             }
            },
            "type": "histogram"
           }
          ],
          "histogram2d": [
           {
            "colorbar": {
             "outlinewidth": 0,
             "ticks": ""
            },
            "colorscale": [
             [
              0,
              "#0d0887"
             ],
             [
              0.1111111111111111,
              "#46039f"
             ],
             [
              0.2222222222222222,
              "#7201a8"
             ],
             [
              0.3333333333333333,
              "#9c179e"
             ],
             [
              0.4444444444444444,
              "#bd3786"
             ],
             [
              0.5555555555555556,
              "#d8576b"
             ],
             [
              0.6666666666666666,
              "#ed7953"
             ],
             [
              0.7777777777777778,
              "#fb9f3a"
             ],
             [
              0.8888888888888888,
              "#fdca26"
             ],
             [
              1,
              "#f0f921"
             ]
            ],
            "type": "histogram2d"
           }
          ],
          "histogram2dcontour": [
           {
            "colorbar": {
             "outlinewidth": 0,
             "ticks": ""
            },
            "colorscale": [
             [
              0,
              "#0d0887"
             ],
             [
              0.1111111111111111,
              "#46039f"
             ],
             [
              0.2222222222222222,
              "#7201a8"
             ],
             [
              0.3333333333333333,
              "#9c179e"
             ],
             [
              0.4444444444444444,
              "#bd3786"
             ],
             [
              0.5555555555555556,
              "#d8576b"
             ],
             [
              0.6666666666666666,
              "#ed7953"
             ],
             [
              0.7777777777777778,
              "#fb9f3a"
             ],
             [
              0.8888888888888888,
              "#fdca26"
             ],
             [
              1,
              "#f0f921"
             ]
            ],
            "type": "histogram2dcontour"
           }
          ],
          "mesh3d": [
           {
            "colorbar": {
             "outlinewidth": 0,
             "ticks": ""
            },
            "type": "mesh3d"
           }
          ],
          "parcoords": [
           {
            "line": {
             "colorbar": {
              "outlinewidth": 0,
              "ticks": ""
             }
            },
            "type": "parcoords"
           }
          ],
          "pie": [
           {
            "automargin": true,
            "type": "pie"
           }
          ],
          "scatter": [
           {
            "fillpattern": {
             "fillmode": "overlay",
             "size": 10,
             "solidity": 0.2
            },
            "type": "scatter"
           }
          ],
          "scatter3d": [
           {
            "line": {
             "colorbar": {
              "outlinewidth": 0,
              "ticks": ""
             }
            },
            "marker": {
             "colorbar": {
              "outlinewidth": 0,
              "ticks": ""
             }
            },
            "type": "scatter3d"
           }
          ],
          "scattercarpet": [
           {
            "marker": {
             "colorbar": {
              "outlinewidth": 0,
              "ticks": ""
             }
            },
            "type": "scattercarpet"
           }
          ],
          "scattergeo": [
           {
            "marker": {
             "colorbar": {
              "outlinewidth": 0,
              "ticks": ""
             }
            },
            "type": "scattergeo"
           }
          ],
          "scattergl": [
           {
            "marker": {
             "colorbar": {
              "outlinewidth": 0,
              "ticks": ""
             }
            },
            "type": "scattergl"
           }
          ],
          "scattermap": [
           {
            "marker": {
             "colorbar": {
              "outlinewidth": 0,
              "ticks": ""
             }
            },
            "type": "scattermap"
           }
          ],
          "scattermapbox": [
           {
            "marker": {
             "colorbar": {
              "outlinewidth": 0,
              "ticks": ""
             }
            },
            "type": "scattermapbox"
           }
          ],
          "scatterpolar": [
           {
            "marker": {
             "colorbar": {
              "outlinewidth": 0,
              "ticks": ""
             }
            },
            "type": "scatterpolar"
           }
          ],
          "scatterpolargl": [
           {
            "marker": {
             "colorbar": {
              "outlinewidth": 0,
              "ticks": ""
             }
            },
            "type": "scatterpolargl"
           }
          ],
          "scatterternary": [
           {
            "marker": {
             "colorbar": {
              "outlinewidth": 0,
              "ticks": ""
             }
            },
            "type": "scatterternary"
           }
          ],
          "surface": [
           {
            "colorbar": {
             "outlinewidth": 0,
             "ticks": ""
            },
            "colorscale": [
             [
              0,
              "#0d0887"
             ],
             [
              0.1111111111111111,
              "#46039f"
             ],
             [
              0.2222222222222222,
              "#7201a8"
             ],
             [
              0.3333333333333333,
              "#9c179e"
             ],
             [
              0.4444444444444444,
              "#bd3786"
             ],
             [
              0.5555555555555556,
              "#d8576b"
             ],
             [
              0.6666666666666666,
              "#ed7953"
             ],
             [
              0.7777777777777778,
              "#fb9f3a"
             ],
             [
              0.8888888888888888,
              "#fdca26"
             ],
             [
              1,
              "#f0f921"
             ]
            ],
            "type": "surface"
           }
          ],
          "table": [
           {
            "cells": {
             "fill": {
              "color": "#EBF0F8"
             },
             "line": {
              "color": "white"
             }
            },
            "header": {
             "fill": {
              "color": "#C8D4E3"
             },
             "line": {
              "color": "white"
             }
            },
            "type": "table"
           }
          ]
         },
         "layout": {
          "annotationdefaults": {
           "arrowcolor": "#2a3f5f",
           "arrowhead": 0,
           "arrowwidth": 1
          },
          "autotypenumbers": "strict",
          "coloraxis": {
           "colorbar": {
            "outlinewidth": 0,
            "ticks": ""
           }
          },
          "colorscale": {
           "diverging": [
            [
             0,
             "#8e0152"
            ],
            [
             0.1,
             "#c51b7d"
            ],
            [
             0.2,
             "#de77ae"
            ],
            [
             0.3,
             "#f1b6da"
            ],
            [
             0.4,
             "#fde0ef"
            ],
            [
             0.5,
             "#f7f7f7"
            ],
            [
             0.6,
             "#e6f5d0"
            ],
            [
             0.7,
             "#b8e186"
            ],
            [
             0.8,
             "#7fbc41"
            ],
            [
             0.9,
             "#4d9221"
            ],
            [
             1,
             "#276419"
            ]
           ],
           "sequential": [
            [
             0,
             "#0d0887"
            ],
            [
             0.1111111111111111,
             "#46039f"
            ],
            [
             0.2222222222222222,
             "#7201a8"
            ],
            [
             0.3333333333333333,
             "#9c179e"
            ],
            [
             0.4444444444444444,
             "#bd3786"
            ],
            [
             0.5555555555555556,
             "#d8576b"
            ],
            [
             0.6666666666666666,
             "#ed7953"
            ],
            [
             0.7777777777777778,
             "#fb9f3a"
            ],
            [
             0.8888888888888888,
             "#fdca26"
            ],
            [
             1,
             "#f0f921"
            ]
           ],
           "sequentialminus": [
            [
             0,
             "#0d0887"
            ],
            [
             0.1111111111111111,
             "#46039f"
            ],
            [
             0.2222222222222222,
             "#7201a8"
            ],
            [
             0.3333333333333333,
             "#9c179e"
            ],
            [
             0.4444444444444444,
             "#bd3786"
            ],
            [
             0.5555555555555556,
             "#d8576b"
            ],
            [
             0.6666666666666666,
             "#ed7953"
            ],
            [
             0.7777777777777778,
             "#fb9f3a"
            ],
            [
             0.8888888888888888,
             "#fdca26"
            ],
            [
             1,
             "#f0f921"
            ]
           ]
          },
          "colorway": [
           "#636efa",
           "#EF553B",
           "#00cc96",
           "#ab63fa",
           "#FFA15A",
           "#19d3f3",
           "#FF6692",
           "#B6E880",
           "#FF97FF",
           "#FECB52"
          ],
          "font": {
           "color": "#2a3f5f"
          },
          "geo": {
           "bgcolor": "white",
           "lakecolor": "white",
           "landcolor": "white",
           "showlakes": true,
           "showland": true,
           "subunitcolor": "#C8D4E3"
          },
          "hoverlabel": {
           "align": "left"
          },
          "hovermode": "closest",
          "mapbox": {
           "style": "light"
          },
          "paper_bgcolor": "white",
          "plot_bgcolor": "white",
          "polar": {
           "angularaxis": {
            "gridcolor": "#EBF0F8",
            "linecolor": "#EBF0F8",
            "ticks": ""
           },
           "bgcolor": "white",
           "radialaxis": {
            "gridcolor": "#EBF0F8",
            "linecolor": "#EBF0F8",
            "ticks": ""
           }
          },
          "scene": {
           "xaxis": {
            "backgroundcolor": "white",
            "gridcolor": "#DFE8F3",
            "gridwidth": 2,
            "linecolor": "#EBF0F8",
            "showbackground": true,
            "ticks": "",
            "zerolinecolor": "#EBF0F8"
           },
           "yaxis": {
            "backgroundcolor": "white",
            "gridcolor": "#DFE8F3",
            "gridwidth": 2,
            "linecolor": "#EBF0F8",
            "showbackground": true,
            "ticks": "",
            "zerolinecolor": "#EBF0F8"
           },
           "zaxis": {
            "backgroundcolor": "white",
            "gridcolor": "#DFE8F3",
            "gridwidth": 2,
            "linecolor": "#EBF0F8",
            "showbackground": true,
            "ticks": "",
            "zerolinecolor": "#EBF0F8"
           }
          },
          "shapedefaults": {
           "line": {
            "color": "#2a3f5f"
           }
          },
          "ternary": {
           "aaxis": {
            "gridcolor": "#DFE8F3",
            "linecolor": "#A2B1C6",
            "ticks": ""
           },
           "baxis": {
            "gridcolor": "#DFE8F3",
            "linecolor": "#A2B1C6",
            "ticks": ""
           },
           "bgcolor": "white",
           "caxis": {
            "gridcolor": "#DFE8F3",
            "linecolor": "#A2B1C6",
            "ticks": ""
           }
          },
          "title": {
           "x": 0.05
          },
          "xaxis": {
           "automargin": true,
           "gridcolor": "#EBF0F8",
           "linecolor": "#EBF0F8",
           "ticks": "",
           "title": {
            "standoff": 15
           },
           "zerolinecolor": "#EBF0F8",
           "zerolinewidth": 2
          },
          "yaxis": {
           "automargin": true,
           "gridcolor": "#EBF0F8",
           "linecolor": "#EBF0F8",
           "ticks": "",
           "title": {
            "standoff": 15
           },
           "zerolinecolor": "#EBF0F8",
           "zerolinewidth": 2
          }
         }
        },
        "title": {
         "text": "Customer Experience Dashboard - 2023"
        },
        "xaxis": {
         "anchor": "y",
         "domain": [
          0,
          0.45
         ]
        },
        "xaxis2": {
         "anchor": "y2",
         "domain": [
          0,
          0.45
         ]
        },
        "xaxis3": {
         "anchor": "y3",
         "domain": [
          0.55,
          1
         ]
        },
        "yaxis": {
         "anchor": "x",
         "domain": [
          0.625,
          1
         ]
        },
        "yaxis2": {
         "anchor": "x2",
         "domain": [
          0,
          0.375
         ]
        },
        "yaxis3": {
         "anchor": "x3",
         "domain": [
          0,
          0.375
         ]
        }
       }
      }
     },
     "metadata": {},
     "output_type": "display_data"
    }
   ],
   "source": [
    "# Calculate customer experience metrics\n",
    "cx_metrics = calculate_customer_experience_metrics(current_period_df, reviews_df)\n",
    "\n",
    "print(\"CUSTOMER EXPERIENCE SUMMARY\")\n",
    "print(\"=\" * 50)\n",
    "if 'avg_review_score' in cx_metrics:\n",
    "    print(f\"Average Review Score: {cx_metrics['avg_review_score']:.2f}/5.0\")\n",
    "    print(f\"Satisfaction Rate (4-5 stars): {cx_metrics['satisfaction_rate_pct']:.1f}%\")\n",
    "\n",
    "if 'avg_delivery_days' in cx_metrics:\n",
    "    print(f\"Average Delivery Time: {cx_metrics['avg_delivery_days']:.1f} days\")\n",
    "    if 'fast_delivery_rate_pct' in cx_metrics:\n",
    "        print(f\"Fast Delivery Rate (≤3 days): {cx_metrics['fast_delivery_rate_pct']:.1f}%\")\n",
    "\n",
    "# Create customer experience dashboard\n",
    "fig = make_subplots(\n",
    "    rows=2, cols=2,\n",
    "    subplot_titles=('Review Score Distribution', 'Delivery Speed Distribution', \n",
    "                   'Delivery vs Satisfaction', 'Monthly Satisfaction Trend'),\n",
    "    specs=[[{\"type\": \"bar\"}, {\"type\": \"pie\"}],\n",
    "           [{\"type\": \"bar\"}, {\"type\": \"scatter\"}]]\n",
    ")\n",
    "\n",
    "# Review score distribution\n",
    "if 'review_score_distribution' in cx_metrics:\n",
    "    scores = list(cx_metrics['review_score_distribution'].keys())\n",
    "    percentages = [v * 100 for v in cx_metrics['review_score_distribution'].values()]\n",
    "    \n",
    "    fig.add_trace(go.Bar(\n",
    "        x=scores,\n",
    "        y=percentages,\n",
    "        marker_color=BUSINESS_COLORS['success'],\n",
    "        name='Review Distribution'\n",
    "    ), row=1, col=1)\n",
    "\n",
    "# Delivery speed distribution\n",
    "if 'delivery_speed_distribution' in cx_metrics:\n",
    "    speed_labels = list(cx_metrics['delivery_speed_distribution'].keys())\n",
    "    speed_values = [v * 100 for v in cx_metrics['delivery_speed_distribution'].values()]\n",
    "    \n",
    "    fig.add_trace(go.Pie(\n",
    "        labels=speed_labels,\n",
    "        values=speed_values,\n",
    "        name='Delivery Speed'\n",
    "    ), row=1, col=2)\n",
    "\n",
    "# Delivery speed vs satisfaction\n",
    "if 'delivery_speed_vs_satisfaction' in cx_metrics:\n",
    "    speed_sat_data = cx_metrics['delivery_speed_vs_satisfaction']['mean']\n",
    "    categories = list(speed_sat_data.keys())\n",
    "    satisfaction = list(speed_sat_data.values())\n",
    "    \n",
    "    fig.add_trace(go.Bar(\n",
    "        x=categories,\n",
    "        y=satisfaction,\n",
    "        marker_color=BUSINESS_COLORS['info'],\n",
    "        name='Avg Review Score'\n",
    "    ), row=2, col=1)\n",
    "\n",
    "fig.update_layout(\n",
    "    title_text=f\"Customer Experience Dashboard - {ANALYSIS_CONFIG['current_year']}\",\n",
    "    template='plotly_white',\n",
    "    height=600,\n",
    "    showlegend=False\n",
    ")\n",
    "\n",
    "fig.show()"
   ]
  },
  {
   "cell_type": "markdown",
   "metadata": {},
   "source": [
    "### Review Score Analysis"
   ]
  },
  {
   "cell_type": "code",
   "execution_count": 17,
   "metadata": {},
   "outputs": [
    {
     "name": "stdout",
     "output_type": "stream",
     "text": [
      "CUSTOMER SEGMENTATION ANALYSIS\n",
      "==================================================\n",
      "Total Customers Analyzed: 3,534\n",
      "Customer Lifetime Value Range: $5.40 - $6703.77\n"
     ]
    },
    {
     "name": "stderr",
     "output_type": "stream",
     "text": [
      "/var/folders/bx/r1d6g3hx7_5b_0_hswxy4hxc0000gn/T/ipykernel_96194/848126662.py:24: FutureWarning:\n",
      "\n",
      "The default of observed=False is deprecated and will be changed to True in a future version of pandas. Pass observed=False to retain current behavior or observed=True to adopt the future default and silence this warning.\n",
      "\n"
     ]
    },
    {
     "data": {
      "application/vnd.plotly.v1+json": {
       "config": {
        "plotlyServerURL": "https://plot.ly"
       },
       "data": [
        {
         "marker": {
          "color": "#1f77b4"
         },
         "name": "Customer Spending",
         "nbinsx": 25,
         "opacity": 0.7,
         "type": "histogram",
         "x": {
          "bdata": "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",
          "dtype": "f8"
         },
         "xaxis": "x",
         "yaxis": "y"
        },
        {
         "hovertemplate": "%{text}<extra></extra>",
         "marker": {
          "color": {
           "bdata": "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",
           "dtype": "f8"
          },
          "colorbar": {
           "title": {
            "text": "Avg Review Score"
           }
          },
          "colorscale": [
           [
            0,
            "#440154"
           ],
           [
            0.1111111111111111,
            "#482878"
           ],
           [
            0.2222222222222222,
            "#3e4989"
           ],
           [
            0.3333333333333333,
            "#31688e"
           ],
           [
            0.4444444444444444,
            "#26828e"
           ],
           [
            0.5555555555555556,
            "#1f9e89"
           ],
           [
            0.6666666666666666,
            "#35b779"
           ],
           [
            0.7777777777777778,
            "#6ece58"
           ],
           [
            0.8888888888888888,
            "#b5de2b"
           ],
           [
            1,
            "#fde725"
           ]
          ],
          "showscale": true,
          "size": 8
         },
         "mode": "markers",
         "name": "Customers",
         "text": [
          "Customer: cust_004b3a243b4d868f2ea9daf1<br>Orders: 2<br>Spent: $1326.79<br>Avg Review: 5.0",
          "Customer: cust_004dfe375f38ef0b8b749730<br>Orders: 1<br>Spent: $1452.02<br>Avg Review: 5.0",
          "Customer: cust_0070590771c2c4cad73f6faa<br>Orders: 1<br>Spent: $125.29<br>Avg Review: 5.0",
          "Customer: cust_007381f8aecfed15a967db30<br>Orders: 1<br>Spent: $91.39<br>Avg Review: nan",
          "Customer: cust_0082dd86f522b41c90abae6f<br>Orders: 1<br>Spent: $1847.5<br>Avg Review: 5.0",
          "Customer: cust_00a7e70c663109c25e637702<br>Orders: 1<br>Spent: $13.6<br>Avg Review: 5.0",
          "Customer: cust_00af73f9f63494ac27562147<br>Orders: 2<br>Spent: $4440.22<br>Avg Review: 4.0",
          "Customer: cust_00b2e79a2b782fba79973bd7<br>Orders: 1<br>Spent: $117.97<br>Avg Review: 5.0",
          "Customer: cust_00c48a786044d16fad9e577e<br>Orders: 1<br>Spent: $2258.76<br>Avg Review: 4.0",
          "Customer: cust_00c62dcdc8691551ee08c80b<br>Orders: 2<br>Spent: $2172.57<br>Avg Review: 5.0",
          "Customer: cust_00c8a542004dfc66883f8e2f<br>Orders: 1<br>Spent: $1525.21<br>Avg Review: 5.0",
          "Customer: cust_00ce071dfca86d6b13cfb7e8<br>Orders: 1<br>Spent: $1107.62<br>Avg Review: 5.0",
          "Customer: cust_00cf5a32cf1449296e61453c<br>Orders: 2<br>Spent: $1512.19<br>Avg Review: 5.0",
          "Customer: cust_00e429675e496c5302f95175<br>Orders: 1<br>Spent: $492.85<br>Avg Review: 2.0",
          "Customer: cust_01061e04122f9efdbd215d9f<br>Orders: 1<br>Spent: $1786.34<br>Avg Review: 5.0",
          "Customer: cust_011558a4d59f0af4e4f4237e<br>Orders: 1<br>Spent: $172.77<br>Avg Review: 5.0",
          "Customer: cust_01344885ea6325ea0c00b16f<br>Orders: 2<br>Spent: $792.93<br>Avg Review: nan",
          "Customer: cust_0137974c7b0a186ebd9d56dc<br>Orders: 1<br>Spent: $1650.65<br>Avg Review: nan",
          "Customer: cust_013906e42e77365fbf06eb6b<br>Orders: 1<br>Spent: $332.7<br>Avg Review: 5.0",
          "Customer: cust_0149593940b8e887e9588c3f<br>Orders: 1<br>Spent: $641.21<br>Avg Review: 5.0",
          "Customer: cust_014c2bbd96fbc4810de2a295<br>Orders: 1<br>Spent: $2176.78<br>Avg Review: nan",
          "Customer: cust_016804a75c1da8be624c221a<br>Orders: 1<br>Spent: $98.8<br>Avg Review: nan",
          "Customer: cust_01a1377d317f31b1c64b6c9c<br>Orders: 1<br>Spent: $1793.31<br>Avg Review: nan",
          "Customer: cust_01cd8956e1b1bfb5c94e8d94<br>Orders: 2<br>Spent: $1859.27<br>Avg Review: 4.0",
          "Customer: cust_01d33baa6e684c4d07d28a7a<br>Orders: 3<br>Spent: $512.49<br>Avg Review: 2.0",
          "Customer: cust_01d7a076a7df20bf3778380a<br>Orders: 1<br>Spent: $140.8<br>Avg Review: nan",
          "Customer: cust_01d922247148657f388000d4<br>Orders: 2<br>Spent: $1559.47<br>Avg Review: 3.5",
          "Customer: cust_01e766be205708dbf4fff06f<br>Orders: 2<br>Spent: $1648.81<br>Avg Review: 2.0",
          "Customer: cust_01eee1f05ebf5d7b0bad981f<br>Orders: 2<br>Spent: $475.83<br>Avg Review: 4.0",
          "Customer: cust_0231378e64ae8c09a12b62f7<br>Orders: 1<br>Spent: $148.71<br>Avg Review: 5.0",
          "Customer: cust_02539378a1d3422f2be1b555<br>Orders: 1<br>Spent: $325.33<br>Avg Review: 2.0",
          "Customer: cust_027147cdf201326d085e1b5b<br>Orders: 1<br>Spent: $1247.73<br>Avg Review: nan",
          "Customer: cust_027513aaba62f2ca3323214b<br>Orders: 1<br>Spent: $2494.64<br>Avg Review: 5.0",
          "Customer: cust_02796c02c3eb768fa7370784<br>Orders: 1<br>Spent: $561.67<br>Avg Review: 4.0",
          "Customer: cust_027b0a004fc22cb0e6b07ff1<br>Orders: 2<br>Spent: $3815.52<br>Avg Review: 5.0",
          "Customer: cust_028c90403a2a4631923ffb0d<br>Orders: 1<br>Spent: $396.19<br>Avg Review: 5.0",
          "Customer: cust_028d0c542a6ba1d7bddf1ced<br>Orders: 1<br>Spent: $724.03<br>Avg Review: nan",
          "Customer: cust_029b7e2bca635219e9f452eb<br>Orders: 1<br>Spent: $1528.05<br>Avg Review: nan",
          "Customer: cust_029fbe478d3c475c35fba938<br>Orders: 1<br>Spent: $406.38<br>Avg Review: 5.0",
          "Customer: cust_02a536b0ad4bbf734dbedec3<br>Orders: 1<br>Spent: $89.74<br>Avg Review: nan",
          "Customer: cust_02cf4762408aee6538ca1ab6<br>Orders: 1<br>Spent: $1103.06<br>Avg Review: nan",
          "Customer: cust_02ea3a55b0e178d23a10cf2c<br>Orders: 2<br>Spent: $1443.05<br>Avg Review: 4.0",
          "Customer: cust_02feb40e5e6b1294a1221230<br>Orders: 1<br>Spent: $2044.2<br>Avg Review: 3.0",
          "Customer: cust_0312ea2021ed8a5099ce1bc0<br>Orders: 2<br>Spent: $2668.98<br>Avg Review: nan",
          "Customer: cust_035a7bfe90ac8cf3b39f089f<br>Orders: 1<br>Spent: $220.0<br>Avg Review: nan",
          "Customer: cust_0363dc580f3c6f7cbe801882<br>Orders: 1<br>Spent: $155.49<br>Avg Review: 3.0",
          "Customer: cust_039603d576e0eeca3ae4d85f<br>Orders: 1<br>Spent: $91.29<br>Avg Review: 5.0",
          "Customer: cust_03ac54c65a75d4f1eee4a6a1<br>Orders: 1<br>Spent: $271.41<br>Avg Review: nan",
          "Customer: cust_03b233e60c5f96b3af356bc1<br>Orders: 1<br>Spent: $2176.29<br>Avg Review: 5.0",
          "Customer: cust_03bf794e90a93c40a45b2999<br>Orders: 1<br>Spent: $1046.55<br>Avg Review: 3.0",
          "Customer: cust_03cb19bba6fab2fe7926190d<br>Orders: 1<br>Spent: $258.65<br>Avg Review: 5.0",
          "Customer: cust_04045fe4c7fad913ce861063<br>Orders: 2<br>Spent: $929.54<br>Avg Review: 3.0",
          "Customer: cust_040c8b7d295e40dea5d69fe8<br>Orders: 1<br>Spent: $320.27<br>Avg Review: nan",
          "Customer: cust_0413562ebf091854d67b90df<br>Orders: 1<br>Spent: $224.18<br>Avg Review: 4.0",
          "Customer: cust_0415493a4569b238370fe815<br>Orders: 2<br>Spent: $430.53<br>Avg Review: 1.0",
          "Customer: cust_0454a7639dd252e8e0379640<br>Orders: 1<br>Spent: $804.59<br>Avg Review: 4.0",
          "Customer: cust_0454b63ece342861859c62fa<br>Orders: 1<br>Spent: $580.27<br>Avg Review: 5.0",
          "Customer: cust_046d3fd4914861e1740741f5<br>Orders: 3<br>Spent: $1048.74<br>Avg Review: 3.0",
          "Customer: cust_04799f7f66568ef16b5898ec<br>Orders: 1<br>Spent: $410.16<br>Avg Review: nan",
          "Customer: cust_0479a580f88191116108f8a0<br>Orders: 1<br>Spent: $1226.76<br>Avg Review: 5.0",
          "Customer: cust_047ea95a65df0f0a597b6150<br>Orders: 2<br>Spent: $964.36<br>Avg Review: 4.0",
          "Customer: cust_048836edfc78ea90c2cd35eb<br>Orders: 1<br>Spent: $284.2<br>Avg Review: 5.0",
          "Customer: cust_04a5125376e0eedf9e9bfeaa<br>Orders: 1<br>Spent: $396.33<br>Avg Review: nan",
          "Customer: cust_04a91fbd3aaf6764df68e736<br>Orders: 2<br>Spent: $546.84<br>Avg Review: 4.0",
          "Customer: cust_04b05deafe16e752d30ea3ff<br>Orders: 1<br>Spent: $4532.77<br>Avg Review: 4.0",
          "Customer: cust_04b5b123d7908a94ee0e725b<br>Orders: 1<br>Spent: $2263.18<br>Avg Review: nan",
          "Customer: cust_04c5f3d18a6b5574a3d12129<br>Orders: 2<br>Spent: $1285.88<br>Avg Review: 4.0",
          "Customer: cust_04cb0d19cbac14f823b23ad8<br>Orders: 1<br>Spent: $1204.74<br>Avg Review: nan",
          "Customer: cust_04cd98796a232b6e21e970f3<br>Orders: 2<br>Spent: $2949.44<br>Avg Review: 5.0",
          "Customer: cust_04dd4017a8c223d08f282568<br>Orders: 1<br>Spent: $252.34<br>Avg Review: 5.0",
          "Customer: cust_04e70929b4f373384204aef5<br>Orders: 1<br>Spent: $10.19<br>Avg Review: 5.0",
          "Customer: cust_04e73f98eba21c53961fbf80<br>Orders: 1<br>Spent: $221.66<br>Avg Review: 5.0",
          "Customer: cust_04e81eadd29ea84f8ec907f4<br>Orders: 3<br>Spent: $647.95<br>Avg Review: 4.0",
          "Customer: cust_04f80d7ddd0166211d4bfc04<br>Orders: 1<br>Spent: $427.98<br>Avg Review: 5.0",
          "Customer: cust_0526085ab694d4224cd404b0<br>Orders: 1<br>Spent: $858.43<br>Avg Review: nan",
          "Customer: cust_0528e7d3c388c10385761834<br>Orders: 1<br>Spent: $50.72<br>Avg Review: 5.0",
          "Customer: cust_052e6252b9a032063ec68e20<br>Orders: 1<br>Spent: $47.71<br>Avg Review: nan",
          "Customer: cust_054c795615be1d2c175d9016<br>Orders: 1<br>Spent: $1900.85<br>Avg Review: 3.0",
          "Customer: cust_055bbf5427e3793f48f8c0fe<br>Orders: 1<br>Spent: $863.53<br>Avg Review: 3.0",
          "Customer: cust_055c7276e2b13176bff5a50f<br>Orders: 2<br>Spent: $1515.12<br>Avg Review: 5.0",
          "Customer: cust_057a8ecbfb6cab568f368f02<br>Orders: 2<br>Spent: $1919.33<br>Avg Review: 5.0",
          "Customer: cust_05ad7379854ea2c29af09414<br>Orders: 1<br>Spent: $1788.58<br>Avg Review: nan",
          "Customer: cust_05b001f109bba94ae4d815f2<br>Orders: 1<br>Spent: $2316.66<br>Avg Review: 5.0",
          "Customer: cust_05b874dede95ca94e73e87eb<br>Orders: 1<br>Spent: $1054.11<br>Avg Review: nan",
          "Customer: cust_05b90afc52d23ef28b8c7366<br>Orders: 2<br>Spent: $1289.53<br>Avg Review: 3.0",
          "Customer: cust_05bdc2c6044216694299b31d<br>Orders: 1<br>Spent: $29.23<br>Avg Review: 5.0",
          "Customer: cust_05bfd0a73fb859dd32701186<br>Orders: 1<br>Spent: $2717.44<br>Avg Review: 3.0",
          "Customer: cust_05c7514ca049264cffabf999<br>Orders: 1<br>Spent: $69.82<br>Avg Review: 3.0",
          "Customer: cust_05e2e2a8f022050fbb99d193<br>Orders: 1<br>Spent: $1421.12<br>Avg Review: 4.0",
          "Customer: cust_05ed5d56497667f06bd6f2db<br>Orders: 1<br>Spent: $149.6<br>Avg Review: 5.0",
          "Customer: cust_05edad604a6d5debe0378400<br>Orders: 1<br>Spent: $596.41<br>Avg Review: 5.0",
          "Customer: cust_06109ad2f2f2c9400f39fa50<br>Orders: 1<br>Spent: $96.05<br>Avg Review: 5.0",
          "Customer: cust_062db30df1e47d78899fe4e4<br>Orders: 1<br>Spent: $274.46<br>Avg Review: 4.0",
          "Customer: cust_063c9258a8d49de4cd067cf1<br>Orders: 1<br>Spent: $599.75<br>Avg Review: nan",
          "Customer: cust_064b1366bb7b7cffa17d680a<br>Orders: 1<br>Spent: $154.14<br>Avg Review: 5.0",
          "Customer: cust_0692ca6f536056533830b93a<br>Orders: 1<br>Spent: $426.77<br>Avg Review: nan",
          "Customer: cust_06a59085b57e09f1d492ee13<br>Orders: 2<br>Spent: $1320.18<br>Avg Review: 5.0",
          "Customer: cust_06c5cecaa7feaff1ccbba4c5<br>Orders: 1<br>Spent: $198.48<br>Avg Review: nan",
          "Customer: cust_06caf075fab764ae20c7cab7<br>Orders: 1<br>Spent: $70.02<br>Avg Review: 4.0",
          "Customer: cust_06d004e5e00e4a5290a8974c<br>Orders: 2<br>Spent: $3627.93<br>Avg Review: 5.0",
          "Customer: cust_06d0f1d615484c71dd5a37fa<br>Orders: 1<br>Spent: $168.44<br>Avg Review: 4.0",
          "Customer: cust_06d6f78d49404e80e187e6dd<br>Orders: 2<br>Spent: $102.01<br>Avg Review: 4.0",
          "Customer: cust_06fbbe36d5c96bb1630878b8<br>Orders: 1<br>Spent: $290.22<br>Avg Review: nan",
          "Customer: cust_06fd989985ff9a4b959b6951<br>Orders: 1<br>Spent: $1594.37<br>Avg Review: nan",
          "Customer: cust_06ff0f4c37303e17cbdb22df<br>Orders: 1<br>Spent: $232.33<br>Avg Review: nan",
          "Customer: cust_06ff738adfa51ac562cf8f72<br>Orders: 1<br>Spent: $459.91<br>Avg Review: nan",
          "Customer: cust_07069aeb16b78be1dfec82ff<br>Orders: 2<br>Spent: $1529.36<br>Avg Review: 3.0",
          "Customer: cust_0709e2adb87ee200f5a5fda0<br>Orders: 1<br>Spent: $1973.27<br>Avg Review: 5.0",
          "Customer: cust_072610aa32e033f17aacd3c6<br>Orders: 1<br>Spent: $1191.37<br>Avg Review: 5.0",
          "Customer: cust_07364176074a4b86c4ba2e2c<br>Orders: 1<br>Spent: $183.6<br>Avg Review: 4.0",
          "Customer: cust_075463ea3607daa093bfac16<br>Orders: 1<br>Spent: $779.36<br>Avg Review: nan",
          "Customer: cust_07812e3a1dbb61d34a5f434d<br>Orders: 1<br>Spent: $280.82<br>Avg Review: 4.0",
          "Customer: cust_0793e8269973bdd43de31901<br>Orders: 1<br>Spent: $243.62<br>Avg Review: 4.0",
          "Customer: cust_079762d3342aa0db408bac05<br>Orders: 2<br>Spent: $811.23<br>Avg Review: 5.0",
          "Customer: cust_07c6603672f4a0f0f6821122<br>Orders: 2<br>Spent: $696.71<br>Avg Review: 4.0",
          "Customer: cust_07d95d31f325792dbf2301d3<br>Orders: 1<br>Spent: $639.58<br>Avg Review: 4.0",
          "Customer: cust_07e3aedb8c88e2c6dbb9a05a<br>Orders: 2<br>Spent: $646.59<br>Avg Review: 4.0",
          "Customer: cust_07e9721405f25cf230f9239d<br>Orders: 1<br>Spent: $705.78<br>Avg Review: 5.0",
          "Customer: cust_07ea75a4a09a5570ac036542<br>Orders: 1<br>Spent: $102.18<br>Avg Review: nan",
          "Customer: cust_0806f4848fe99c5bb3be8bd0<br>Orders: 1<br>Spent: $1126.49<br>Avg Review: 5.0",
          "Customer: cust_0816a1d68f8f76f3d38d4840<br>Orders: 2<br>Spent: $330.9<br>Avg Review: 4.0",
          "Customer: cust_0828017f5c8ef0a39107bd33<br>Orders: 1<br>Spent: $153.12<br>Avg Review: nan",
          "Customer: cust_08598dd6a794393265d966e0<br>Orders: 3<br>Spent: $1848.71<br>Avg Review: 5.0",
          "Customer: cust_085fd5f9e40d463ae5b764c1<br>Orders: 1<br>Spent: $1216.94<br>Avg Review: nan",
          "Customer: cust_089171812b0f6cddf8dccfb7<br>Orders: 2<br>Spent: $2583.42<br>Avg Review: 4.0",
          "Customer: cust_0894409c7df64d480d14a774<br>Orders: 2<br>Spent: $456.12<br>Avg Review: 5.0",
          "Customer: cust_089a63f947174d50e3974855<br>Orders: 1<br>Spent: $313.25<br>Avg Review: 4.0",
          "Customer: cust_08a440a5631d20a2f7831020<br>Orders: 1<br>Spent: $117.99<br>Avg Review: 3.0",
          "Customer: cust_08ddbf68e0b0ab7a36672e9d<br>Orders: 1<br>Spent: $62.93<br>Avg Review: 3.0",
          "Customer: cust_08e999bcde856e75a5248a87<br>Orders: 1<br>Spent: $49.42<br>Avg Review: nan",
          "Customer: cust_08ec6e831dc7046f1991e751<br>Orders: 1<br>Spent: $381.81<br>Avg Review: 3.0",
          "Customer: cust_08ed2bf70709732cd73a0110<br>Orders: 1<br>Spent: $286.69<br>Avg Review: 4.0",
          "Customer: cust_08f89b3deea373a97065e9f0<br>Orders: 2<br>Spent: $3788.75<br>Avg Review: nan",
          "Customer: cust_08f8f4c0bf50ee3c7a1a66e7<br>Orders: 2<br>Spent: $271.0<br>Avg Review: 5.0",
          "Customer: cust_08fb3d5713824f5068c3d7d5<br>Orders: 1<br>Spent: $24.49<br>Avg Review: nan",
          "Customer: cust_08fba7e26aa32341e759f04f<br>Orders: 2<br>Spent: $470.73<br>Avg Review: nan",
          "Customer: cust_0902bf6f9c69c2076dd65494<br>Orders: 1<br>Spent: $382.17<br>Avg Review: nan",
          "Customer: cust_090fa85fbe1df21b73b27506<br>Orders: 1<br>Spent: $420.67<br>Avg Review: 4.0",
          "Customer: cust_091d556e26c7e92b9a629446<br>Orders: 1<br>Spent: $61.99<br>Avg Review: 4.0",
          "Customer: cust_0921371e6484a0955c416cc4<br>Orders: 2<br>Spent: $2968.65<br>Avg Review: 3.0",
          "Customer: cust_09245052d31b396b9e25d2d7<br>Orders: 2<br>Spent: $1914.15<br>Avg Review: 5.0",
          "Customer: cust_0933c24c80d285ece3a02599<br>Orders: 1<br>Spent: $183.45<br>Avg Review: 5.0",
          "Customer: cust_0936c26236a161c40f119002<br>Orders: 1<br>Spent: $1357.22<br>Avg Review: 3.0",
          "Customer: cust_093d59676805f241afc26f03<br>Orders: 1<br>Spent: $603.45<br>Avg Review: nan",
          "Customer: cust_09609a4b18a3b20148242c38<br>Orders: 2<br>Spent: $457.5<br>Avg Review: 5.0",
          "Customer: cust_0966898041795cf095a4dac8<br>Orders: 2<br>Spent: $2178.22<br>Avg Review: 4.3",
          "Customer: cust_09866ec0fe1bf241fc273e12<br>Orders: 2<br>Spent: $696.15<br>Avg Review: 5.0",
          "Customer: cust_09920b8d5bb14075c3cfe8ef<br>Orders: 2<br>Spent: $355.28<br>Avg Review: 3.0",
          "Customer: cust_09eebfaea21df7cb3d774c09<br>Orders: 1<br>Spent: $204.44<br>Avg Review: 5.0",
          "Customer: cust_09f40b6a5976d3817cd72b81<br>Orders: 1<br>Spent: $109.18<br>Avg Review: 4.0",
          "Customer: cust_09f85a321c2173b503e9fef8<br>Orders: 1<br>Spent: $286.79<br>Avg Review: 3.0",
          "Customer: cust_09fd78c9a918155a73e09111<br>Orders: 2<br>Spent: $706.4<br>Avg Review: 4.0",
          "Customer: cust_0a0a647f895e6f1b2c3bb25a<br>Orders: 1<br>Spent: $980.24<br>Avg Review: nan",
          "Customer: cust_0a1251a7a18dcc478dd5d6fb<br>Orders: 1<br>Spent: $124.63<br>Avg Review: 3.0",
          "Customer: cust_0a3982679843477a40e609ee<br>Orders: 1<br>Spent: $91.1<br>Avg Review: 4.0",
          "Customer: cust_0a3a2dff4070784c9ec79088<br>Orders: 2<br>Spent: $224.53<br>Avg Review: 3.3",
          "Customer: cust_0a3fa2d0fe07b5527624f72b<br>Orders: 1<br>Spent: $936.34<br>Avg Review: 3.0",
          "Customer: cust_0a4d71f058d7a5088f534772<br>Orders: 1<br>Spent: $1288.02<br>Avg Review: 3.0",
          "Customer: cust_0a56969d99b34273455497b8<br>Orders: 1<br>Spent: $613.67<br>Avg Review: 5.0",
          "Customer: cust_0a8350d22555846fbe97cec8<br>Orders: 1<br>Spent: $105.08<br>Avg Review: 4.0",
          "Customer: cust_0a89b42539a6839549971009<br>Orders: 1<br>Spent: $1993.52<br>Avg Review: 2.0",
          "Customer: cust_0a9261530b2058ebfde5bb41<br>Orders: 1<br>Spent: $1289.86<br>Avg Review: 5.0",
          "Customer: cust_0a9c2eb9ddaeccd5b0f300a0<br>Orders: 1<br>Spent: $4073.77<br>Avg Review: nan",
          "Customer: cust_0aa60476ac5583d7dd76a20d<br>Orders: 1<br>Spent: $603.2<br>Avg Review: 5.0",
          "Customer: cust_0ab00c8e41bc95566149f665<br>Orders: 1<br>Spent: $1358.36<br>Avg Review: 5.0",
          "Customer: cust_0ab72b67f8cd6b4619a389e3<br>Orders: 1<br>Spent: $170.06<br>Avg Review: 5.0",
          "Customer: cust_0ade99c74dd5599b7600359a<br>Orders: 2<br>Spent: $3088.11<br>Avg Review: 4.0",
          "Customer: cust_0ae055a65b77c4780ed6c4ba<br>Orders: 2<br>Spent: $604.11<br>Avg Review: 5.0",
          "Customer: cust_0aecd91cf405c31064471126<br>Orders: 1<br>Spent: $283.74<br>Avg Review: 4.0",
          "Customer: cust_0b1519d56e121b18b580fee1<br>Orders: 1<br>Spent: $90.42<br>Avg Review: 5.0",
          "Customer: cust_0b4110772ceddcc0fe6d1fbf<br>Orders: 1<br>Spent: $2333.53<br>Avg Review: nan",
          "Customer: cust_0b41ead7f5ac2cf2bd2259e8<br>Orders: 1<br>Spent: $771.2<br>Avg Review: nan",
          "Customer: cust_0b58c84ce08a402caa320611<br>Orders: 1<br>Spent: $559.62<br>Avg Review: nan",
          "Customer: cust_0b59d379e72ea332e42135e1<br>Orders: 1<br>Spent: $1136.66<br>Avg Review: 5.0",
          "Customer: cust_0b9993af8d850a63a9830508<br>Orders: 1<br>Spent: $1761.51<br>Avg Review: nan",
          "Customer: cust_0bb154c4b6a2386e29180de3<br>Orders: 1<br>Spent: $157.99<br>Avg Review: 5.0",
          "Customer: cust_0bbf2e08bb4386953f39f2db<br>Orders: 1<br>Spent: $690.02<br>Avg Review: 3.0",
          "Customer: cust_0c0a89069a2b12b4bf4de2a7<br>Orders: 1<br>Spent: $647.27<br>Avg Review: 5.0",
          "Customer: cust_0c0be29f1e99d3153c4aaa30<br>Orders: 1<br>Spent: $936.66<br>Avg Review: 4.0",
          "Customer: cust_0c1e15b4148d5e663fdf8f7e<br>Orders: 1<br>Spent: $736.02<br>Avg Review: 5.0",
          "Customer: cust_0c37fd697bafd3d2eb11878b<br>Orders: 1<br>Spent: $67.52<br>Avg Review: nan",
          "Customer: cust_0c60fa792fcda4804b56e351<br>Orders: 1<br>Spent: $109.43<br>Avg Review: nan",
          "Customer: cust_0c8c529544ff3f2e26cfe03b<br>Orders: 2<br>Spent: $1501.61<br>Avg Review: 4.0",
          "Customer: cust_0c8d742dbb87c3565e23fdec<br>Orders: 1<br>Spent: $94.93<br>Avg Review: 5.0",
          "Customer: cust_0c9f9796dd4a78cd5074a666<br>Orders: 2<br>Spent: $606.84<br>Avg Review: 4.5",
          "Customer: cust_0caa76dc460c0e7890e41aa1<br>Orders: 1<br>Spent: $1801.85<br>Avg Review: 5.0",
          "Customer: cust_0cb11a88d34f841bf05af571<br>Orders: 1<br>Spent: $2969.74<br>Avg Review: 1.0",
          "Customer: cust_0ce6e8c30c0e00311ffc3750<br>Orders: 1<br>Spent: $62.08<br>Avg Review: 4.0",
          "Customer: cust_0ce9203fc653e27c7287ad9c<br>Orders: 1<br>Spent: $209.21<br>Avg Review: 4.0",
          "Customer: cust_0cf9979d1bdf444b9b13cef2<br>Orders: 1<br>Spent: $66.26<br>Avg Review: nan",
          "Customer: cust_0cfb415a656daa4d12d436b7<br>Orders: 2<br>Spent: $1639.99<br>Avg Review: 3.0",
          "Customer: cust_0cfd62d08c7d8a7790b62f4f<br>Orders: 1<br>Spent: $733.38<br>Avg Review: nan",
          "Customer: cust_0d08291ce29591e5325d7ace<br>Orders: 1<br>Spent: $65.47<br>Avg Review: 4.0",
          "Customer: cust_0d237bd7fb62cd2f72415876<br>Orders: 2<br>Spent: $866.04<br>Avg Review: 2.0",
          "Customer: cust_0d2f19c3ea14e1369b857d00<br>Orders: 2<br>Spent: $5025.59<br>Avg Review: 5.0",
          "Customer: cust_0d381b34ac11021e227f2d37<br>Orders: 1<br>Spent: $580.47<br>Avg Review: 4.0",
          "Customer: cust_0d3f8f565c65f6b706da853e<br>Orders: 2<br>Spent: $2504.45<br>Avg Review: 5.0",
          "Customer: cust_0d44dc5ee20c737afb5d0881<br>Orders: 1<br>Spent: $1642.69<br>Avg Review: 5.0",
          "Customer: cust_0d56772032c135e880fc30b4<br>Orders: 1<br>Spent: $1914.33<br>Avg Review: 5.0",
          "Customer: cust_0d58c558a493f981d6fffc5b<br>Orders: 2<br>Spent: $2053.25<br>Avg Review: 3.0",
          "Customer: cust_0d58e32dc2b379f7eef8ac1d<br>Orders: 1<br>Spent: $2492.63<br>Avg Review: 5.0",
          "Customer: cust_0d5f5c5d5583c6f0bc1b4e44<br>Orders: 1<br>Spent: $1588.95<br>Avg Review: 4.0",
          "Customer: cust_0d64b4d1cc4f7fcc5bbc867e<br>Orders: 1<br>Spent: $448.75<br>Avg Review: 5.0",
          "Customer: cust_0d66c3217cf107bff38d91b7<br>Orders: 1<br>Spent: $1549.87<br>Avg Review: 5.0",
          "Customer: cust_0d6d4445c4999e53e6fb90a6<br>Orders: 1<br>Spent: $246.44<br>Avg Review: 4.0",
          "Customer: cust_0d85086c51bdc87d9616e025<br>Orders: 1<br>Spent: $1960.94<br>Avg Review: 4.0",
          "Customer: cust_0d87561633082eaa9346de9b<br>Orders: 1<br>Spent: $211.52<br>Avg Review: nan",
          "Customer: cust_0d8c056059f5bd68da7f178f<br>Orders: 1<br>Spent: $2315.74<br>Avg Review: 5.0",
          "Customer: cust_0d934127ff7523a1743c0638<br>Orders: 1<br>Spent: $626.26<br>Avg Review: nan",
          "Customer: cust_0da046fca4da8980bd4690bf<br>Orders: 1<br>Spent: $573.25<br>Avg Review: 4.0",
          "Customer: cust_0dde7b8d051e53ef1fa2d7b1<br>Orders: 1<br>Spent: $626.76<br>Avg Review: 2.0",
          "Customer: cust_0de6bc8d5019d98026d1bdba<br>Orders: 1<br>Spent: $35.48<br>Avg Review: 3.0",
          "Customer: cust_0de6d15dc8b89ea3b3f81760<br>Orders: 1<br>Spent: $175.92<br>Avg Review: 5.0",
          "Customer: cust_0df203418d3f4da258b43494<br>Orders: 1<br>Spent: $2650.97<br>Avg Review: 2.0",
          "Customer: cust_0e050493640fb32481d11baa<br>Orders: 1<br>Spent: $102.46<br>Avg Review: nan",
          "Customer: cust_0e0bdfda6bdcffc20ab6959e<br>Orders: 1<br>Spent: $405.88<br>Avg Review: 5.0",
          "Customer: cust_0e3079b317dc1bbc62ccbaf7<br>Orders: 2<br>Spent: $1866.46<br>Avg Review: 4.5",
          "Customer: cust_0e3286283c4b2b9628ce8a1b<br>Orders: 1<br>Spent: $685.74<br>Avg Review: nan",
          "Customer: cust_0e6ff1677c774593e548dfed<br>Orders: 2<br>Spent: $1445.27<br>Avg Review: 5.0",
          "Customer: cust_0e8a0071cc5edfbf38712511<br>Orders: 1<br>Spent: $30.73<br>Avg Review: 3.0",
          "Customer: cust_0e8ba466090ff2d8c20c8bad<br>Orders: 1<br>Spent: $373.85<br>Avg Review: 4.0",
          "Customer: cust_0e8c327607c6eb9c59a07485<br>Orders: 1<br>Spent: $326.86<br>Avg Review: 3.0",
          "Customer: cust_0e912d913a8d4e419f1273a4<br>Orders: 2<br>Spent: $222.96<br>Avg Review: 5.0",
          "Customer: cust_0e97e2c72f327e58220f5c91<br>Orders: 1<br>Spent: $992.57<br>Avg Review: 4.0",
          "Customer: cust_0e9ee07050454654eee4737b<br>Orders: 1<br>Spent: $1913.03<br>Avg Review: 4.0",
          "Customer: cust_0eca6721fd3fa776575b4224<br>Orders: 3<br>Spent: $2064.33<br>Avg Review: 3.0",
          "Customer: cust_0ee407359eed31da9343645e<br>Orders: 1<br>Spent: $2357.3<br>Avg Review: 4.0",
          "Customer: cust_0ee964869219cf5039833488<br>Orders: 1<br>Spent: $95.03<br>Avg Review: 5.0",
          "Customer: cust_0f0a364e5dd2d6d8f928a4bb<br>Orders: 1<br>Spent: $1355.35<br>Avg Review: nan",
          "Customer: cust_0f18a9d2a2b3ee2a8f33d5cf<br>Orders: 1<br>Spent: $583.56<br>Avg Review: nan",
          "Customer: cust_0f7e2b704a71b892720ed519<br>Orders: 1<br>Spent: $22.63<br>Avg Review: 5.0",
          "Customer: cust_0f9bafd3672b8eb2053a539f<br>Orders: 1<br>Spent: $204.06<br>Avg Review: 4.0",
          "Customer: cust_0faddad9cabffb9cc9ad7d5f<br>Orders: 1<br>Spent: $47.05<br>Avg Review: 2.0",
          "Customer: cust_0fd4b76cd1a755fcd0ec4944<br>Orders: 1<br>Spent: $355.46<br>Avg Review: nan",
          "Customer: cust_0fe52bc0ea7757419eaaa8f3<br>Orders: 1<br>Spent: $2172.11<br>Avg Review: nan",
          "Customer: cust_0fefada379461e6ad55a88b0<br>Orders: 2<br>Spent: $2589.86<br>Avg Review: 4.7",
          "Customer: cust_0fff20d07fd71fd90dd2b2b1<br>Orders: 1<br>Spent: $737.19<br>Avg Review: 4.0",
          "Customer: cust_0fff49950fec996cb7a3638d<br>Orders: 3<br>Spent: $3280.84<br>Avg Review: 4.6",
          "Customer: cust_106303180ca1dd508ea2ff7a<br>Orders: 1<br>Spent: $93.24<br>Avg Review: 4.0",
          "Customer: cust_1069cacd247a7f16b06ceffd<br>Orders: 2<br>Spent: $1486.27<br>Avg Review: 5.0",
          "Customer: cust_107550de0b3f94609de91ae2<br>Orders: 1<br>Spent: $166.06<br>Avg Review: 5.0",
          "Customer: cust_1081fa40c9e8842c4fd85333<br>Orders: 2<br>Spent: $1740.59<br>Avg Review: 5.0",
          "Customer: cust_1083c08d7773c57f3f694a02<br>Orders: 1<br>Spent: $189.31<br>Avg Review: 5.0",
          "Customer: cust_108ef377a7609311fddf8962<br>Orders: 1<br>Spent: $137.35<br>Avg Review: 5.0",
          "Customer: cust_108f40b11f3306868d4cb3a7<br>Orders: 1<br>Spent: $1304.29<br>Avg Review: 2.0",
          "Customer: cust_10912f939481985f36834a2d<br>Orders: 1<br>Spent: $130.04<br>Avg Review: 4.0",
          "Customer: cust_10a296919e37ae694979121f<br>Orders: 1<br>Spent: $1312.7<br>Avg Review: 5.0",
          "Customer: cust_10a652724018e1bf6ad1da1e<br>Orders: 2<br>Spent: $1517.11<br>Avg Review: 4.5",
          "Customer: cust_10a9d20bd3c482a3ec1e220b<br>Orders: 1<br>Spent: $1090.31<br>Avg Review: nan",
          "Customer: cust_10af41c07991ff842b9a65ca<br>Orders: 1<br>Spent: $2173.12<br>Avg Review: nan",
          "Customer: cust_10b7f32201c26d7269f2b7d4<br>Orders: 1<br>Spent: $308.93<br>Avg Review: nan",
          "Customer: cust_10bc82454cbaeec6db482c94<br>Orders: 1<br>Spent: $288.56<br>Avg Review: 4.0",
          "Customer: cust_10bd39b1a6e6ef9da6d74687<br>Orders: 1<br>Spent: $143.57<br>Avg Review: nan",
          "Customer: cust_10c7041da34c2a82211985c4<br>Orders: 1<br>Spent: $143.23<br>Avg Review: 5.0",
          "Customer: cust_1111c54422c7bc0d6ca4769f<br>Orders: 2<br>Spent: $2084.01<br>Avg Review: 4.5",
          "Customer: cust_1114752f133b25f8ac8fd654<br>Orders: 2<br>Spent: $1371.39<br>Avg Review: 5.0",
          "Customer: cust_112eaf21b65bf6dfbed1bf17<br>Orders: 2<br>Spent: $1088.43<br>Avg Review: 4.2",
          "Customer: cust_112f9fb1149c1ea9ead41ae6<br>Orders: 1<br>Spent: $441.56<br>Avg Review: 3.0",
          "Customer: cust_1141c2dcaddc58a634c174c6<br>Orders: 1<br>Spent: $259.96<br>Avg Review: nan",
          "Customer: cust_1144fbbd1a3d610493bd56cb<br>Orders: 1<br>Spent: $246.59<br>Avg Review: 4.0",
          "Customer: cust_116f4d4ac780cfe04738e65f<br>Orders: 2<br>Spent: $1424.74<br>Avg Review: 5.0",
          "Customer: cust_1180c555eaae61cf984c24d0<br>Orders: 1<br>Spent: $1429.16<br>Avg Review: nan",
          "Customer: cust_1185bffff4e6cffcee406b99<br>Orders: 1<br>Spent: $118.91<br>Avg Review: nan",
          "Customer: cust_11b237cf5fc468ac371116c7<br>Orders: 1<br>Spent: $452.21<br>Avg Review: 5.0",
          "Customer: cust_11bcbef740ce44f6febe1184<br>Orders: 1<br>Spent: $72.15<br>Avg Review: 5.0",
          "Customer: cust_11d9c1e9ee2ce7c3ed4217c3<br>Orders: 1<br>Spent: $47.02<br>Avg Review: 5.0",
          "Customer: cust_11db95b4ced0dc1f1624461a<br>Orders: 1<br>Spent: $1185.37<br>Avg Review: 4.0",
          "Customer: cust_11de91ff2c89240113fe8d06<br>Orders: 1<br>Spent: $356.64<br>Avg Review: 3.0",
          "Customer: cust_11e13231f809a6d977b1e913<br>Orders: 1<br>Spent: $154.28<br>Avg Review: nan",
          "Customer: cust_11fc700ac1194fff75618e1d<br>Orders: 1<br>Spent: $692.52<br>Avg Review: 5.0",
          "Customer: cust_11ff0195f021511ee48cd229<br>Orders: 2<br>Spent: $293.74<br>Avg Review: 4.8",
          "Customer: cust_12098a4658a8e872a3b80a75<br>Orders: 3<br>Spent: $3005.45<br>Avg Review: 3.7",
          "Customer: cust_122786981190b62334c842d6<br>Orders: 1<br>Spent: $298.59<br>Avg Review: 5.0",
          "Customer: cust_123d1fb68b54937183058e54<br>Orders: 1<br>Spent: $338.74<br>Avg Review: nan",
          "Customer: cust_124bb5efd0fda353bbf08181<br>Orders: 1<br>Spent: $204.02<br>Avg Review: 5.0",
          "Customer: cust_12517bb90c7852ece49a5046<br>Orders: 1<br>Spent: $50.54<br>Avg Review: 5.0",
          "Customer: cust_125e0fc2aa57ed3ec5dcb90c<br>Orders: 1<br>Spent: $49.8<br>Avg Review: 5.0",
          "Customer: cust_127a2a1ab7ab038196cbd907<br>Orders: 1<br>Spent: $106.42<br>Avg Review: 5.0",
          "Customer: cust_128ddc5ebcc7dce1c2105ef6<br>Orders: 1<br>Spent: $2751.15<br>Avg Review: 5.0",
          "Customer: cust_1290d45c7e203434e5c56c0d<br>Orders: 1<br>Spent: $210.68<br>Avg Review: nan",
          "Customer: cust_12940d40c2786bd8b5dde78f<br>Orders: 2<br>Spent: $131.1<br>Avg Review: 4.5",
          "Customer: cust_12be857217d26c7e727752f5<br>Orders: 1<br>Spent: $88.87<br>Avg Review: 5.0",
          "Customer: cust_12c01c79c3eda6c37e9dfd88<br>Orders: 2<br>Spent: $4082.44<br>Avg Review: 2.6",
          "Customer: cust_12ce96d195b12bf9bcf74ffd<br>Orders: 2<br>Spent: $1385.97<br>Avg Review: 4.7",
          "Customer: cust_12d6453da29237e27be7030a<br>Orders: 1<br>Spent: $1122.35<br>Avg Review: 5.0",
          "Customer: cust_12d794eb760acbc242287d61<br>Orders: 1<br>Spent: $1958.1<br>Avg Review: 2.0",
          "Customer: cust_12f3bb93080b629df2857200<br>Orders: 2<br>Spent: $1214.35<br>Avg Review: 5.0",
          "Customer: cust_12fb570153eecd88c47d565d<br>Orders: 1<br>Spent: $882.48<br>Avg Review: 5.0",
          "Customer: cust_13252193b8f8fe26bd9f86d9<br>Orders: 1<br>Spent: $97.21<br>Avg Review: 3.0",
          "Customer: cust_1348d382d6cc742ccd26a84a<br>Orders: 1<br>Spent: $929.9<br>Avg Review: 5.0",
          "Customer: cust_136ea3b39cef751794a994bd<br>Orders: 1<br>Spent: $126.77<br>Avg Review: 1.0",
          "Customer: cust_136f8a81a8b7b669f059c223<br>Orders: 1<br>Spent: $1258.07<br>Avg Review: 4.0",
          "Customer: cust_13b59656440402d7f3c6de99<br>Orders: 2<br>Spent: $2711.43<br>Avg Review: 4.0",
          "Customer: cust_13f154e6c3e9909b6bdfb362<br>Orders: 1<br>Spent: $75.69<br>Avg Review: 5.0",
          "Customer: cust_13fecf30edf058941df55684<br>Orders: 1<br>Spent: $237.03<br>Avg Review: nan",
          "Customer: cust_14066e18b67e3df008dc9116<br>Orders: 1<br>Spent: $621.95<br>Avg Review: 3.0",
          "Customer: cust_140b1f1c2668b00f5d3bb602<br>Orders: 1<br>Spent: $149.03<br>Avg Review: 5.0",
          "Customer: cust_142988e963f06761a2111031<br>Orders: 1<br>Spent: $480.82<br>Avg Review: 4.0",
          "Customer: cust_142dfb975c40f89bf0e2d560<br>Orders: 1<br>Spent: $130.14<br>Avg Review: 3.0",
          "Customer: cust_142eeadeb2112abcb0fb26e8<br>Orders: 1<br>Spent: $33.13<br>Avg Review: 5.0",
          "Customer: cust_142f5f24493d4f0d19f25efe<br>Orders: 1<br>Spent: $2137.09<br>Avg Review: nan",
          "Customer: cust_1441e0ee46bf17a274aa41df<br>Orders: 1<br>Spent: $19.62<br>Avg Review: nan",
          "Customer: cust_144974c2d46b798e8801895b<br>Orders: 3<br>Spent: $1129.85<br>Avg Review: 4.3",
          "Customer: cust_145e5fbdcc7ed2f1d3c29257<br>Orders: 2<br>Spent: $2333.6<br>Avg Review: 4.2",
          "Customer: cust_149f979bd67c0e21612989d3<br>Orders: 1<br>Spent: $1566.1<br>Avg Review: 5.0",
          "Customer: cust_14a7a895d809e66ffb3fb78c<br>Orders: 1<br>Spent: $380.04<br>Avg Review: 5.0",
          "Customer: cust_14be70fc3117b86c52b675b6<br>Orders: 1<br>Spent: $77.98<br>Avg Review: nan",
          "Customer: cust_14e97fb39cafc80a63008a93<br>Orders: 3<br>Spent: $2730.68<br>Avg Review: 4.1",
          "Customer: cust_1511b4b8c85241ad6896b790<br>Orders: 2<br>Spent: $2412.27<br>Avg Review: 2.0",
          "Customer: cust_152008d9553ed117f47be170<br>Orders: 1<br>Spent: $667.22<br>Avg Review: nan",
          "Customer: cust_153bead30dd6bdbed2bc0f0d<br>Orders: 3<br>Spent: $2866.59<br>Avg Review: 2.0",
          "Customer: cust_153f1640b4a706153549a159<br>Orders: 2<br>Spent: $2003.97<br>Avg Review: 4.0",
          "Customer: cust_1545d529e4171fdd29fa9f5f<br>Orders: 2<br>Spent: $2380.87<br>Avg Review: 5.0",
          "Customer: cust_155426db766a4434c6bff246<br>Orders: 2<br>Spent: $2014.63<br>Avg Review: 5.0",
          "Customer: cust_1554882de1c71f49aad14f5c<br>Orders: 1<br>Spent: $235.32<br>Avg Review: 3.0",
          "Customer: cust_1572a7718e0c446584d4b0c1<br>Orders: 1<br>Spent: $199.59<br>Avg Review: 5.0",
          "Customer: cust_159743e7b65237b59d776cb1<br>Orders: 1<br>Spent: $310.2<br>Avg Review: nan",
          "Customer: cust_15ab9f02dee46fe4c9baffce<br>Orders: 1<br>Spent: $1961.21<br>Avg Review: nan",
          "Customer: cust_15b08457966cd3e9ac70d6a2<br>Orders: 2<br>Spent: $3211.05<br>Avg Review: 4.6",
          "Customer: cust_15cc671a3d1c512a5d522d53<br>Orders: 2<br>Spent: $368.25<br>Avg Review: 4.5",
          "Customer: cust_15cc882325639b29f2e0f0cc<br>Orders: 2<br>Spent: $2086.69<br>Avg Review: 5.0",
          "Customer: cust_15d6d249dec2a507d561ec6f<br>Orders: 1<br>Spent: $156.7<br>Avg Review: 4.0",
          "Customer: cust_15d8cfcccfd969f9379e4793<br>Orders: 2<br>Spent: $1964.66<br>Avg Review: 3.0",
          "Customer: cust_15f00eb5c3610da8febb2b45<br>Orders: 1<br>Spent: $26.44<br>Avg Review: nan",
          "Customer: cust_1601038152e5f8d9b7432e9e<br>Orders: 1<br>Spent: $523.61<br>Avg Review: nan",
          "Customer: cust_161b6298cafefa1dcda115c1<br>Orders: 2<br>Spent: $1589.64<br>Avg Review: nan",
          "Customer: cust_1622377c3b5c795796e41abf<br>Orders: 1<br>Spent: $2139.0<br>Avg Review: 4.0",
          "Customer: cust_162d61d785fd69c712952afe<br>Orders: 1<br>Spent: $1148.19<br>Avg Review: nan",
          "Customer: cust_1662144ab73d97e58a77b3f9<br>Orders: 1<br>Spent: $1666.88<br>Avg Review: 5.0",
          "Customer: cust_16647fc26705fa80ec0aa9cf<br>Orders: 1<br>Spent: $381.67<br>Avg Review: 5.0",
          "Customer: cust_1669b484ec0455a72608879f<br>Orders: 2<br>Spent: $576.79<br>Avg Review: 5.0",
          "Customer: cust_1675045eb84f2daaf320b1b4<br>Orders: 2<br>Spent: $1392.56<br>Avg Review: 4.7",
          "Customer: cust_167ddf2ba403e25666410cc2<br>Orders: 1<br>Spent: $1266.84<br>Avg Review: 4.0",
          "Customer: cust_168f55a116a31763b0177224<br>Orders: 1<br>Spent: $273.45<br>Avg Review: 4.0",
          "Customer: cust_169217a5cdf2319b79e1f67c<br>Orders: 1<br>Spent: $205.86<br>Avg Review: 4.0",
          "Customer: cust_16bc6bc7c528670f66e34577<br>Orders: 1<br>Spent: $303.32<br>Avg Review: nan",
          "Customer: cust_16c116444fbe6119f602f32f<br>Orders: 3<br>Spent: $2243.37<br>Avg Review: 3.0",
          "Customer: cust_16e13240024521259ef7558c<br>Orders: 3<br>Spent: $1879.53<br>Avg Review: 4.2",
          "Customer: cust_16e1e055d80cc99d2b2c3fdf<br>Orders: 2<br>Spent: $411.24<br>Avg Review: 2.0",
          "Customer: cust_171ed391f0e45e109778b70c<br>Orders: 1<br>Spent: $512.78<br>Avg Review: 5.0",
          "Customer: cust_1721b9e4a33e8cc4a9f431b5<br>Orders: 1<br>Spent: $421.45<br>Avg Review: 4.0",
          "Customer: cust_1724357fab761aab63ffe75a<br>Orders: 1<br>Spent: $1083.68<br>Avg Review: nan",
          "Customer: cust_17271aad4a07e55fcc8aaeee<br>Orders: 2<br>Spent: $979.85<br>Avg Review: 2.5",
          "Customer: cust_1730c76b22f463152636f1af<br>Orders: 1<br>Spent: $151.32<br>Avg Review: 5.0",
          "Customer: cust_17431016755a83626e25aeec<br>Orders: 1<br>Spent: $177.96<br>Avg Review: 5.0",
          "Customer: cust_174edefb817dcd41c5d7a07a<br>Orders: 2<br>Spent: $3035.84<br>Avg Review: 5.0",
          "Customer: cust_17602e4296a8e4a7f37ca8b5<br>Orders: 1<br>Spent: $33.62<br>Avg Review: 3.0",
          "Customer: cust_177170138b0b8bd58e929f94<br>Orders: 1<br>Spent: $174.68<br>Avg Review: nan",
          "Customer: cust_17caf172871f4593fe61ce69<br>Orders: 2<br>Spent: $544.39<br>Avg Review: 3.5",
          "Customer: cust_17d9b0f43a7309f0925823ec<br>Orders: 1<br>Spent: $93.88<br>Avg Review: 5.0",
          "Customer: cust_17e20f7d53092a036ec33745<br>Orders: 1<br>Spent: $787.54<br>Avg Review: 4.0",
          "Customer: cust_17eba6db77f0a940677fe775<br>Orders: 1<br>Spent: $662.56<br>Avg Review: 5.0",
          "Customer: cust_18143ea68f6b865651d94719<br>Orders: 2<br>Spent: $2119.42<br>Avg Review: 1.7",
          "Customer: cust_1819c2ad0371822f8f7fa376<br>Orders: 2<br>Spent: $936.66<br>Avg Review: 5.0",
          "Customer: cust_181a7e886ac304e7951148bc<br>Orders: 1<br>Spent: $773.56<br>Avg Review: 5.0",
          "Customer: cust_181d290663adc46e0d2731ca<br>Orders: 1<br>Spent: $2109.27<br>Avg Review: nan",
          "Customer: cust_18218bb72bfd4302cc09e367<br>Orders: 2<br>Spent: $2411.23<br>Avg Review: 5.0",
          "Customer: cust_18242172cf87077a8cd32822<br>Orders: 1<br>Spent: $662.77<br>Avg Review: 5.0",
          "Customer: cust_182de051a73b64f078559521<br>Orders: 1<br>Spent: $1788.21<br>Avg Review: 5.0",
          "Customer: cust_18426615b6a8d710f2dc630b<br>Orders: 2<br>Spent: $1427.41<br>Avg Review: 5.0",
          "Customer: cust_18449c496cc63e3fe359132a<br>Orders: 1<br>Spent: $82.06<br>Avg Review: 3.0",
          "Customer: cust_185e3eb76155898123b0ee6c<br>Orders: 2<br>Spent: $1536.03<br>Avg Review: 5.0",
          "Customer: cust_185ff563ec45e974a1672cbf<br>Orders: 2<br>Spent: $299.65<br>Avg Review: 4.5",
          "Customer: cust_18770a22a58b5f1d15ce88ba<br>Orders: 1<br>Spent: $99.01<br>Avg Review: 5.0",
          "Customer: cust_189614c3356810b44bc49ab2<br>Orders: 1<br>Spent: $730.77<br>Avg Review: 4.0",
          "Customer: cust_18974831c3df379e50310416<br>Orders: 1<br>Spent: $268.2<br>Avg Review: 5.0",
          "Customer: cust_18a2415c7a68e3145a76f4e6<br>Orders: 1<br>Spent: $21.61<br>Avg Review: 3.0",
          "Customer: cust_18d39f563b62725b18136d54<br>Orders: 1<br>Spent: $93.74<br>Avg Review: 4.0",
          "Customer: cust_18da91392a02ac9a41bd61e0<br>Orders: 1<br>Spent: $2534.63<br>Avg Review: 5.0",
          "Customer: cust_18dbf2b3b61c18608b996d2a<br>Orders: 1<br>Spent: $411.77<br>Avg Review: 1.0",
          "Customer: cust_18ecc24f3d262062d2378254<br>Orders: 1<br>Spent: $204.89<br>Avg Review: 5.0",
          "Customer: cust_18f1e07373a7e7e5e46d8d6b<br>Orders: 1<br>Spent: $407.45<br>Avg Review: 5.0",
          "Customer: cust_190eb52e5d1ad6942b44f072<br>Orders: 2<br>Spent: $1209.76<br>Avg Review: 3.5",
          "Customer: cust_1940b5bfce1265e7cda2c825<br>Orders: 1<br>Spent: $545.38<br>Avg Review: 5.0",
          "Customer: cust_195bf5c86974c17a90ecbda9<br>Orders: 1<br>Spent: $60.45<br>Avg Review: 3.0",
          "Customer: cust_197264760cf8f89149cd5ad9<br>Orders: 1<br>Spent: $2307.06<br>Avg Review: 2.0",
          "Customer: cust_1977b17957661aaddb6bffde<br>Orders: 2<br>Spent: $2132.41<br>Avg Review: 5.0",
          "Customer: cust_198972508bf83fb702953e71<br>Orders: 1<br>Spent: $257.87<br>Avg Review: 5.0",
          "Customer: cust_19a5f15345b7eb2cc7748b19<br>Orders: 1<br>Spent: $229.09<br>Avg Review: 3.0",
          "Customer: cust_19f5fe9e5a9b65261f7e8131<br>Orders: 2<br>Spent: $1439.67<br>Avg Review: 5.0",
          "Customer: cust_19f76728d834389d402882f3<br>Orders: 1<br>Spent: $147.81<br>Avg Review: 4.0",
          "Customer: cust_1a08f3349d9f40ba17d7f3c6<br>Orders: 1<br>Spent: $506.96<br>Avg Review: 3.0",
          "Customer: cust_1a2180f5c3d905c69d85473e<br>Orders: 1<br>Spent: $584.77<br>Avg Review: nan",
          "Customer: cust_1a2ddaebc35688ae31465580<br>Orders: 2<br>Spent: $223.01<br>Avg Review: 3.0",
          "Customer: cust_1a3311d39d38048e91ed3545<br>Orders: 1<br>Spent: $2228.0<br>Avg Review: 5.0",
          "Customer: cust_1a35f70e5621ca64eadbd57b<br>Orders: 1<br>Spent: $283.03<br>Avg Review: 4.0",
          "Customer: cust_1a370e30c7b30efd43df6dc9<br>Orders: 2<br>Spent: $284.45<br>Avg Review: nan",
          "Customer: cust_1a5172596860fdab23e87204<br>Orders: 2<br>Spent: $1900.28<br>Avg Review: 5.0",
          "Customer: cust_1a566321904e0c9b2e07ccaf<br>Orders: 1<br>Spent: $1074.35<br>Avg Review: 5.0",
          "Customer: cust_1a7202231d2d507b9cfb7d07<br>Orders: 3<br>Spent: $3674.78<br>Avg Review: 3.0",
          "Customer: cust_1a73fdde8c202eb0b8bfcd92<br>Orders: 1<br>Spent: $27.12<br>Avg Review: 5.0",
          "Customer: cust_1a8943882e8d4684e6bd3487<br>Orders: 1<br>Spent: $705.03<br>Avg Review: 5.0",
          "Customer: cust_1a90be2c41efeec83740d038<br>Orders: 3<br>Spent: $1080.23<br>Avg Review: 5.0",
          "Customer: cust_1a9273cf3da8c3dc6f0b7b2f<br>Orders: 2<br>Spent: $1154.96<br>Avg Review: 3.0",
          "Customer: cust_1a9c51df4733ea3e79b5a701<br>Orders: 1<br>Spent: $239.62<br>Avg Review: 5.0",
          "Customer: cust_1ac8aade86482badbaeb2681<br>Orders: 1<br>Spent: $513.16<br>Avg Review: nan",
          "Customer: cust_1aceac535fba717a43e9e89a<br>Orders: 1<br>Spent: $147.94<br>Avg Review: 4.0",
          "Customer: cust_1b1351baaa68fad95a97557f<br>Orders: 3<br>Spent: $3314.25<br>Avg Review: 4.7",
          "Customer: cust_1b353b22766d5ed38f5ae85a<br>Orders: 2<br>Spent: $802.32<br>Avg Review: 5.0",
          "Customer: cust_1b3c1bb9c261feb6c8880496<br>Orders: 1<br>Spent: $2109.2<br>Avg Review: 2.0",
          "Customer: cust_1b41baa16b4d0886e88fd39f<br>Orders: 1<br>Spent: $615.61<br>Avg Review: 4.0",
          "Customer: cust_1b4b0d6681eb1b3743844f1a<br>Orders: 1<br>Spent: $860.75<br>Avg Review: 5.0",
          "Customer: cust_1b4b5d428c277934b7be7ca4<br>Orders: 1<br>Spent: $1337.93<br>Avg Review: 3.0",
          "Customer: cust_1b5ae1fc1326b86016c5f082<br>Orders: 1<br>Spent: $264.29<br>Avg Review: 2.0",
          "Customer: cust_1b5b151bb5511c6a6d1ea2ad<br>Orders: 2<br>Spent: $2661.71<br>Avg Review: 3.0",
          "Customer: cust_1b6f96d34376e723b26e09d1<br>Orders: 3<br>Spent: $1247.8<br>Avg Review: 5.0",
          "Customer: cust_1b82e2c753ddab75e0b9e0c6<br>Orders: 2<br>Spent: $4004.88<br>Avg Review: 5.0",
          "Customer: cust_1bb3d0e3013947dfa6e0bf41<br>Orders: 4<br>Spent: $1145.19<br>Avg Review: 3.8",
          "Customer: cust_1bd96555240f01f3fa11602a<br>Orders: 3<br>Spent: $3209.9<br>Avg Review: 4.8",
          "Customer: cust_1bfa79ae5894c197350d46c0<br>Orders: 1<br>Spent: $3036.14<br>Avg Review: 5.0",
          "Customer: cust_1bfc7ef831a855d684f31dbc<br>Orders: 1<br>Spent: $238.11<br>Avg Review: 5.0",
          "Customer: cust_1c159cf8be26a236a69e92ce<br>Orders: 1<br>Spent: $1511.65<br>Avg Review: 1.0",
          "Customer: cust_1c195cca560ac80008a6278e<br>Orders: 1<br>Spent: $2518.18<br>Avg Review: 3.0",
          "Customer: cust_1c2fbb26dca7b7edfc0a8963<br>Orders: 1<br>Spent: $110.79<br>Avg Review: 4.0",
          "Customer: cust_1c37b48ee63ac2e28692952b<br>Orders: 1<br>Spent: $1334.13<br>Avg Review: 5.0",
          "Customer: cust_1c5262aa58a2ce22ff2f6ab2<br>Orders: 2<br>Spent: $348.49<br>Avg Review: 4.0",
          "Customer: cust_1c57e1dcbab93b58c3febfff<br>Orders: 1<br>Spent: $236.0<br>Avg Review: nan",
          "Customer: cust_1c589a446cd03f1dc4bbc750<br>Orders: 1<br>Spent: $130.19<br>Avg Review: 5.0",
          "Customer: cust_1c5ce5c3e9c254de3e1be29b<br>Orders: 2<br>Spent: $2093.32<br>Avg Review: 4.0",
          "Customer: cust_1c7c88d5df6756e0b97ef192<br>Orders: 1<br>Spent: $1597.96<br>Avg Review: nan",
          "Customer: cust_1c8cc5c3ca126bb90dc99249<br>Orders: 1<br>Spent: $99.68<br>Avg Review: nan",
          "Customer: cust_1c9bc1a45caad08cc65987af<br>Orders: 1<br>Spent: $585.25<br>Avg Review: 3.0",
          "Customer: cust_1cd48797aefe9e45012e0d2c<br>Orders: 2<br>Spent: $2739.97<br>Avg Review: 3.2",
          "Customer: cust_1cdab4434610ec3e82335678<br>Orders: 1<br>Spent: $81.98<br>Avg Review: 5.0",
          "Customer: cust_1cde1cdf1be2998e2f4187ee<br>Orders: 1<br>Spent: $875.73<br>Avg Review: nan",
          "Customer: cust_1cf79970f896c73eeeed35b4<br>Orders: 1<br>Spent: $1336.98<br>Avg Review: nan",
          "Customer: cust_1cfa3fdc390eb96d2b287916<br>Orders: 1<br>Spent: $257.52<br>Avg Review: 5.0",
          "Customer: cust_1cfaf5795f90a43b707d81e7<br>Orders: 1<br>Spent: $1248.44<br>Avg Review: 5.0",
          "Customer: cust_1d0178a9c079cc83082bc96d<br>Orders: 1<br>Spent: $1040.55<br>Avg Review: 5.0",
          "Customer: cust_1d152900a6a030d3d0038a7c<br>Orders: 1<br>Spent: $144.77<br>Avg Review: nan",
          "Customer: cust_1d19f6c3abb829684542c642<br>Orders: 1<br>Spent: $2002.78<br>Avg Review: 5.0",
          "Customer: cust_1d382e5e817e7f713ca6a6ef<br>Orders: 1<br>Spent: $1159.86<br>Avg Review: nan",
          "Customer: cust_1d3e9c375078af39efb4555f<br>Orders: 1<br>Spent: $154.56<br>Avg Review: 4.0",
          "Customer: cust_1d417e6d3776b796d4ba9157<br>Orders: 1<br>Spent: $1200.65<br>Avg Review: nan",
          "Customer: cust_1d4c91da637c71ef44a8c7bd<br>Orders: 1<br>Spent: $72.76<br>Avg Review: 4.0",
          "Customer: cust_1d598bb076be8a9a922d34c0<br>Orders: 1<br>Spent: $71.56<br>Avg Review: 5.0",
          "Customer: cust_1d74bdc2876875f7ab864696<br>Orders: 2<br>Spent: $4386.59<br>Avg Review: 5.0",
          "Customer: cust_1d8b133b948929e1aff516f2<br>Orders: 1<br>Spent: $69.87<br>Avg Review: 4.0",
          "Customer: cust_1dc4ac3540da375ed12b6d14<br>Orders: 2<br>Spent: $1971.32<br>Avg Review: 1.0",
          "Customer: cust_1dcd7b8a97131e3f4e204d56<br>Orders: 1<br>Spent: $626.96<br>Avg Review: nan",
          "Customer: cust_1de2c58afb869d41e9492697<br>Orders: 1<br>Spent: $298.22<br>Avg Review: nan",
          "Customer: cust_1df650a768712c2af79d6763<br>Orders: 2<br>Spent: $2692.26<br>Avg Review: 3.0",
          "Customer: cust_1e0c536cfcf65e51a73e9ca1<br>Orders: 1<br>Spent: $62.01<br>Avg Review: 3.0",
          "Customer: cust_1e0f52a8bbc498b8f671621e<br>Orders: 1<br>Spent: $97.26<br>Avg Review: 3.0",
          "Customer: cust_1e111ad63b0b27fc5899f261<br>Orders: 1<br>Spent: $310.94<br>Avg Review: nan",
          "Customer: cust_1e1a722ceb323d9ce7b3c7c0<br>Orders: 1<br>Spent: $1643.97<br>Avg Review: 4.0",
          "Customer: cust_1e288efc465b1859a4c6a019<br>Orders: 3<br>Spent: $3320.34<br>Avg Review: 4.7",
          "Customer: cust_1e40037db7e5f64a150acd8e<br>Orders: 1<br>Spent: $925.93<br>Avg Review: 5.0",
          "Customer: cust_1e63b8cb53243709c5c3f2e2<br>Orders: 1<br>Spent: $1739.59<br>Avg Review: 5.0",
          "Customer: cust_1e6462e8853fc9127ed537a7<br>Orders: 3<br>Spent: $2984.21<br>Avg Review: 4.0",
          "Customer: cust_1e64e65003fcce84c608a607<br>Orders: 1<br>Spent: $1039.22<br>Avg Review: 5.0",
          "Customer: cust_1e9eddeffeeb032ca8c7ccf3<br>Orders: 3<br>Spent: $1431.59<br>Avg Review: nan",
          "Customer: cust_1ec44cc116eb7b31124bd4d8<br>Orders: 3<br>Spent: $1595.63<br>Avg Review: 4.6",
          "Customer: cust_1eef9418d46f4906727ec753<br>Orders: 2<br>Spent: $660.21<br>Avg Review: 4.0",
          "Customer: cust_1ef699a7b05147319d6da6ba<br>Orders: 1<br>Spent: $10.72<br>Avg Review: 2.0",
          "Customer: cust_1efeb36e6d913015bc046e9d<br>Orders: 1<br>Spent: $1248.73<br>Avg Review: 5.0",
          "Customer: cust_1f14bab3f92722fcb72f6245<br>Orders: 2<br>Spent: $625.89<br>Avg Review: 5.0",
          "Customer: cust_1f19fd1addec4d321fb7dd53<br>Orders: 2<br>Spent: $1884.27<br>Avg Review: 4.7",
          "Customer: cust_1f39510fafed6c9a642f7e4b<br>Orders: 1<br>Spent: $536.37<br>Avg Review: 5.0",
          "Customer: cust_1f3dad4dc2c9543cb803599e<br>Orders: 1<br>Spent: $2309.27<br>Avg Review: 3.0",
          "Customer: cust_1f4044d58f165a689a06f5b1<br>Orders: 1<br>Spent: $1341.4<br>Avg Review: 5.0",
          "Customer: cust_1f5ca515bc0f152b6996ab97<br>Orders: 2<br>Spent: $1903.02<br>Avg Review: 3.7",
          "Customer: cust_1f6005be440b879aecc894c8<br>Orders: 1<br>Spent: $256.08<br>Avg Review: 3.0",
          "Customer: cust_1f6c1eb293215592e330204b<br>Orders: 2<br>Spent: $2098.43<br>Avg Review: 3.7",
          "Customer: cust_1f79a8fca7c293227a48616f<br>Orders: 1<br>Spent: $53.33<br>Avg Review: 4.0",
          "Customer: cust_1f7bc3c0572034fa5dca2b2f<br>Orders: 1<br>Spent: $139.1<br>Avg Review: 5.0",
          "Customer: cust_1f7e3c46cd09c14adc080366<br>Orders: 1<br>Spent: $75.42<br>Avg Review: 5.0",
          "Customer: cust_1f94c0f6818785e5391c7cee<br>Orders: 1<br>Spent: $179.92<br>Avg Review: nan",
          "Customer: cust_1f9d9219f85fd146c0d2f466<br>Orders: 1<br>Spent: $430.29<br>Avg Review: 4.0",
          "Customer: cust_1f9fc85fb25d79b9bd4bea21<br>Orders: 3<br>Spent: $2392.2<br>Avg Review: 4.8",
          "Customer: cust_1fae9a3b39486e2acba7873a<br>Orders: 1<br>Spent: $701.0<br>Avg Review: 5.0",
          "Customer: cust_1fb456e382dcf78aa466a49f<br>Orders: 1<br>Spent: $400.49<br>Avg Review: 4.0",
          "Customer: cust_1fc73d040072bdcefa0641a1<br>Orders: 1<br>Spent: $942.72<br>Avg Review: 5.0",
          "Customer: cust_1fd2f3820721229c9b8e3b73<br>Orders: 1<br>Spent: $1189.47<br>Avg Review: 3.0",
          "Customer: cust_1fff455ea80e9232c7a6840e<br>Orders: 1<br>Spent: $284.33<br>Avg Review: 4.0",
          "Customer: cust_2007b5586e9d07fee83c5b09<br>Orders: 1<br>Spent: $1775.71<br>Avg Review: nan",
          "Customer: cust_2020bc19790e2c5ab0e2f865<br>Orders: 1<br>Spent: $115.33<br>Avg Review: 4.0",
          "Customer: cust_20236e9cd21270a110e41a74<br>Orders: 1<br>Spent: $163.48<br>Avg Review: 5.0",
          "Customer: cust_202d10f9a5eb5c42908ee195<br>Orders: 2<br>Spent: $348.5<br>Avg Review: 4.5",
          "Customer: cust_203176172342b3d82f0cca2f<br>Orders: 2<br>Spent: $3843.33<br>Avg Review: 4.0",
          "Customer: cust_20393176317878f43e3bd3b6<br>Orders: 1<br>Spent: $1137.83<br>Avg Review: nan",
          "Customer: cust_203d0135c08667b05d2954e4<br>Orders: 2<br>Spent: $332.17<br>Avg Review: nan",
          "Customer: cust_203da6d586afa95941ca4aa9<br>Orders: 1<br>Spent: $1417.58<br>Avg Review: 5.0",
          "Customer: cust_2040f670435365448ceb51d2<br>Orders: 1<br>Spent: $720.05<br>Avg Review: nan",
          "Customer: cust_2042065a99cfd15473592b10<br>Orders: 3<br>Spent: $5661.89<br>Avg Review: 4.6",
          "Customer: cust_20525fcc021ae46ce785a15a<br>Orders: 3<br>Spent: $3334.67<br>Avg Review: 5.0",
          "Customer: cust_2062dac2ad758b5e67fe65b1<br>Orders: 3<br>Spent: $964.1<br>Avg Review: 2.5",
          "Customer: cust_206953c6f026f04ef985d206<br>Orders: 1<br>Spent: $346.32<br>Avg Review: 5.0",
          "Customer: cust_206f3e0f8d375412c029d94b<br>Orders: 1<br>Spent: $300.94<br>Avg Review: nan",
          "Customer: cust_2094e33b32d859e66d108fe0<br>Orders: 1<br>Spent: $670.25<br>Avg Review: nan",
          "Customer: cust_20dfa64f88a7ddf3b8b3a257<br>Orders: 2<br>Spent: $2091.82<br>Avg Review: 5.0",
          "Customer: cust_20e5c0c6665348323607f1ee<br>Orders: 1<br>Spent: $263.95<br>Avg Review: 3.0",
          "Customer: cust_20ea3a3020360ad06a501f5c<br>Orders: 1<br>Spent: $113.59<br>Avg Review: nan",
          "Customer: cust_20f11cb310cd85c7033feabd<br>Orders: 1<br>Spent: $191.31<br>Avg Review: nan",
          "Customer: cust_20f3e006fa16398bef6df6cb<br>Orders: 1<br>Spent: $580.54<br>Avg Review: nan",
          "Customer: cust_210a60281d935000b91e5b52<br>Orders: 2<br>Spent: $2826.46<br>Avg Review: 5.0",
          "Customer: cust_21232eccc897d5028a5a594d<br>Orders: 2<br>Spent: $508.12<br>Avg Review: nan",
          "Customer: cust_2139295b20210ca91fc8072c<br>Orders: 1<br>Spent: $226.24<br>Avg Review: nan",
          "Customer: cust_2163fd2c6d2420d996df4785<br>Orders: 3<br>Spent: $2023.34<br>Avg Review: 5.0",
          "Customer: cust_2173625d231d2d9c6e8991a6<br>Orders: 1<br>Spent: $162.73<br>Avg Review: 3.0",
          "Customer: cust_2180a3dabdbe314068d3478c<br>Orders: 1<br>Spent: $1073.64<br>Avg Review: 5.0",
          "Customer: cust_2189de6ae9693ef1c5804a80<br>Orders: 2<br>Spent: $1665.17<br>Avg Review: 3.0",
          "Customer: cust_218efc041601b0b785e2674e<br>Orders: 1<br>Spent: $491.78<br>Avg Review: 3.0",
          "Customer: cust_2191fd1076c8fbf09aa23ec5<br>Orders: 1<br>Spent: $55.68<br>Avg Review: 5.0",
          "Customer: cust_219811f93c5dbbe2f3b14eb8<br>Orders: 2<br>Spent: $1294.15<br>Avg Review: 5.0",
          "Customer: cust_219a6eba9a1bdb71ecb24b35<br>Orders: 2<br>Spent: $450.38<br>Avg Review: 4.0",
          "Customer: cust_21aac3bd373b437b1d3cff51<br>Orders: 1<br>Spent: $82.2<br>Avg Review: nan",
          "Customer: cust_21adad4d96135bd302f2992f<br>Orders: 1<br>Spent: $49.19<br>Avg Review: 5.0",
          "Customer: cust_21c1d9248ffad21e083b17a6<br>Orders: 1<br>Spent: $1776.39<br>Avg Review: 4.0",
          "Customer: cust_21c8a741a03c58b895152598<br>Orders: 1<br>Spent: $111.33<br>Avg Review: 5.0",
          "Customer: cust_21cdf7e88ead2cd0d1bc2a8c<br>Orders: 2<br>Spent: $1312.15<br>Avg Review: 3.7",
          "Customer: cust_21d269663836822d5fc2f1ed<br>Orders: 2<br>Spent: $472.12<br>Avg Review: 4.5",
          "Customer: cust_21e9805e375ef3d1b4bfa10b<br>Orders: 1<br>Spent: $504.25<br>Avg Review: 3.0",
          "Customer: cust_21f4c7d8a0b73e220977466b<br>Orders: 1<br>Spent: $455.89<br>Avg Review: 4.0",
          "Customer: cust_221079b8f33cc48ddc7b9f17<br>Orders: 1<br>Spent: $1034.6<br>Avg Review: nan",
          "Customer: cust_221dda316d2f4e319adb092d<br>Orders: 2<br>Spent: $3230.93<br>Avg Review: 2.0",
          "Customer: cust_225dd156a111f495f6c58e01<br>Orders: 1<br>Spent: $629.2<br>Avg Review: 5.0",
          "Customer: cust_2260813318c1a03798a3fa00<br>Orders: 1<br>Spent: $862.94<br>Avg Review: nan",
          "Customer: cust_22703086c33063e0f849d00d<br>Orders: 1<br>Spent: $188.38<br>Avg Review: 4.0",
          "Customer: cust_227403221973e64eed85a597<br>Orders: 1<br>Spent: $107.73<br>Avg Review: 5.0",
          "Customer: cust_22961687009ad9e5ce2ca4fb<br>Orders: 1<br>Spent: $349.35<br>Avg Review: 5.0",
          "Customer: cust_229a50d753a4ea31c250222f<br>Orders: 1<br>Spent: $1298.26<br>Avg Review: 5.0",
          "Customer: cust_22d056cdc7dbb4d5e7b69df6<br>Orders: 2<br>Spent: $592.93<br>Avg Review: 5.0",
          "Customer: cust_22dc0627ba734ca8a34c94d4<br>Orders: 1<br>Spent: $91.44<br>Avg Review: 5.0",
          "Customer: cust_2305be3bd83190a1ffbc65f9<br>Orders: 1<br>Spent: $455.5<br>Avg Review: nan",
          "Customer: cust_230d4692855421de2396916e<br>Orders: 1<br>Spent: $166.5<br>Avg Review: 2.0",
          "Customer: cust_230de6ef818ccc7a0302acf3<br>Orders: 2<br>Spent: $2966.91<br>Avg Review: 4.5",
          "Customer: cust_231169f51355ddfc7a87fd33<br>Orders: 2<br>Spent: $2748.89<br>Avg Review: 5.0",
          "Customer: cust_2334b550ebbd44ce60e6d3c8<br>Orders: 1<br>Spent: $89.44<br>Avg Review: nan",
          "Customer: cust_23454fa06a5e6dd5c8a077b1<br>Orders: 1<br>Spent: $93.97<br>Avg Review: 5.0",
          "Customer: cust_23584d902933d7efcc3f0177<br>Orders: 1<br>Spent: $160.48<br>Avg Review: nan",
          "Customer: cust_23692c1009c3f133f986e216<br>Orders: 1<br>Spent: $99.03<br>Avg Review: 5.0",
          "Customer: cust_236aa8b201b623de8b8bb947<br>Orders: 1<br>Spent: $435.16<br>Avg Review: 5.0",
          "Customer: cust_2399216c2d404f7d823fb0ad<br>Orders: 1<br>Spent: $24.93<br>Avg Review: 5.0",
          "Customer: cust_23d351e25283927031d0ab61<br>Orders: 1<br>Spent: $751.26<br>Avg Review: 4.0",
          "Customer: cust_23e1120a5dd4d8ed3996d753<br>Orders: 1<br>Spent: $160.62<br>Avg Review: 5.0",
          "Customer: cust_2400ce1bc08a3d1a7ef436aa<br>Orders: 1<br>Spent: $14.12<br>Avg Review: 4.0",
          "Customer: cust_242885213864d9ba98358c73<br>Orders: 1<br>Spent: $1778.98<br>Avg Review: nan",
          "Customer: cust_24378ecc29ec3c7c147abed9<br>Orders: 1<br>Spent: $1307.53<br>Avg Review: 5.0",
          "Customer: cust_244ec32afe7657c312507b22<br>Orders: 1<br>Spent: $784.78<br>Avg Review: 3.0",
          "Customer: cust_2468eb10412e99bbc33853f2<br>Orders: 1<br>Spent: $198.42<br>Avg Review: 4.0",
          "Customer: cust_248a051ac5f4e7215bf64aa9<br>Orders: 1<br>Spent: $145.82<br>Avg Review: 4.0",
          "Customer: cust_248b090aa7bb53268c39194b<br>Orders: 1<br>Spent: $507.87<br>Avg Review: 3.0",
          "Customer: cust_24afaef5104f9f40329ddb27<br>Orders: 1<br>Spent: $874.05<br>Avg Review: 1.0",
          "Customer: cust_24eae0cf0dee1697573c461d<br>Orders: 2<br>Spent: $1583.14<br>Avg Review: 4.5",
          "Customer: cust_24fed2769f2015ba1466eab0<br>Orders: 1<br>Spent: $1542.87<br>Avg Review: 4.0",
          "Customer: cust_25114fd7c7a6721375ba02b5<br>Orders: 2<br>Spent: $1721.5<br>Avg Review: nan",
          "Customer: cust_251580541b054db1f321fb5e<br>Orders: 1<br>Spent: $415.84<br>Avg Review: 5.0",
          "Customer: cust_25168647976bdc33e3c3f88f<br>Orders: 1<br>Spent: $197.41<br>Avg Review: 4.0",
          "Customer: cust_25168ed2c2ce66ccef2f43e6<br>Orders: 1<br>Spent: $196.94<br>Avg Review: nan",
          "Customer: cust_252152b35bd6206d769c5161<br>Orders: 1<br>Spent: $1506.53<br>Avg Review: 4.0",
          "Customer: cust_25469b8d86fc699c79382428<br>Orders: 1<br>Spent: $1245.67<br>Avg Review: 4.0",
          "Customer: cust_255e651652c85e0e4a26edfd<br>Orders: 2<br>Spent: $890.87<br>Avg Review: 4.3",
          "Customer: cust_2562d6d4f002207be567aa71<br>Orders: 1<br>Spent: $607.03<br>Avg Review: nan",
          "Customer: cust_2587881ef198e725421cd56d<br>Orders: 1<br>Spent: $1258.24<br>Avg Review: 5.0",
          "Customer: cust_25b0fcc2916f6c709619f33f<br>Orders: 2<br>Spent: $1237.4<br>Avg Review: 4.3",
          "Customer: cust_25b124f49e5379dc707dd41e<br>Orders: 1<br>Spent: $70.66<br>Avg Review: nan",
          "Customer: cust_25b46b16d6e8fd907c0d6c58<br>Orders: 1<br>Spent: $403.21<br>Avg Review: nan",
          "Customer: cust_25d5b8c02089700912d0fe2c<br>Orders: 1<br>Spent: $1571.72<br>Avg Review: 5.0",
          "Customer: cust_25e3dc2220de1e2fb2bc8d40<br>Orders: 1<br>Spent: $417.74<br>Avg Review: 5.0",
          "Customer: cust_25e6ec6f60926e31a05c93ce<br>Orders: 1<br>Spent: $1118.63<br>Avg Review: 5.0",
          "Customer: cust_25f40ef9bf03a5b2a1a55182<br>Orders: 4<br>Spent: $4129.62<br>Avg Review: 4.2",
          "Customer: cust_261681af5ea0cd686b0caccb<br>Orders: 1<br>Spent: $497.71<br>Avg Review: nan",
          "Customer: cust_261f057764af1a560ca98e0c<br>Orders: 2<br>Spent: $1077.15<br>Avg Review: 5.0",
          "Customer: cust_26275a121db56f117ca7d360<br>Orders: 1<br>Spent: $1959.1<br>Avg Review: nan",
          "Customer: cust_26326482087267356c9fd7be<br>Orders: 2<br>Spent: $742.73<br>Avg Review: nan",
          "Customer: cust_2638ee29e62df462669315aa<br>Orders: 1<br>Spent: $233.4<br>Avg Review: 5.0",
          "Customer: cust_266b0870dc8ee0d99c7b79a3<br>Orders: 2<br>Spent: $290.12<br>Avg Review: 5.0",
          "Customer: cust_266f0053c1db68c9e3e9fa14<br>Orders: 1<br>Spent: $1278.57<br>Avg Review: 5.0",
          "Customer: cust_268e2bc8097007824c305ecb<br>Orders: 1<br>Spent: $1140.8<br>Avg Review: 3.0",
          "Customer: cust_269dfb1213526124d0508964<br>Orders: 1<br>Spent: $2053.19<br>Avg Review: 5.0",
          "Customer: cust_26a4f6a538b64d41088e0b40<br>Orders: 1<br>Spent: $295.92<br>Avg Review: 5.0",
          "Customer: cust_26ae82374a4b718abd2beddf<br>Orders: 1<br>Spent: $684.99<br>Avg Review: nan",
          "Customer: cust_26b6a38939a1eec9586a1143<br>Orders: 2<br>Spent: $1795.45<br>Avg Review: 4.0",
          "Customer: cust_26bcdcde96a0fbf122c2f1df<br>Orders: 1<br>Spent: $257.18<br>Avg Review: nan",
          "Customer: cust_26d07feccff1ea2dcced45e7<br>Orders: 1<br>Spent: $266.77<br>Avg Review: 5.0",
          "Customer: cust_26d4486bff65a759cef49547<br>Orders: 1<br>Spent: $788.74<br>Avg Review: 4.0",
          "Customer: cust_26d8c7353528c63a7b5ff576<br>Orders: 1<br>Spent: $241.29<br>Avg Review: 3.0",
          "Customer: cust_26e2759908f51904c1e17e49<br>Orders: 1<br>Spent: $140.05<br>Avg Review: 5.0",
          "Customer: cust_26ed6d2b3492a4d84b4cfd54<br>Orders: 1<br>Spent: $2141.7<br>Avg Review: 5.0",
          "Customer: cust_26ee697529d273328e4fd900<br>Orders: 1<br>Spent: $17.68<br>Avg Review: 2.0",
          "Customer: cust_26f45e62a3873dc2766664a8<br>Orders: 1<br>Spent: $156.94<br>Avg Review: nan",
          "Customer: cust_2760578f3b7cf643d2dce41d<br>Orders: 1<br>Spent: $2228.06<br>Avg Review: 2.0",
          "Customer: cust_278dea9d5208d00a7217554e<br>Orders: 1<br>Spent: $696.12<br>Avg Review: 4.0",
          "Customer: cust_27b290d486a6ec958867d4de<br>Orders: 2<br>Spent: $2398.92<br>Avg Review: 3.0",
          "Customer: cust_27e93e4147cb0bb3fb0e48b1<br>Orders: 1<br>Spent: $16.3<br>Avg Review: 5.0",
          "Customer: cust_27eb91381d5a3fe533608083<br>Orders: 1<br>Spent: $141.79<br>Avg Review: nan",
          "Customer: cust_27f8323d1f14d7f8da322198<br>Orders: 1<br>Spent: $450.53<br>Avg Review: nan",
          "Customer: cust_280652b648a9a871b6c9d0de<br>Orders: 2<br>Spent: $1783.57<br>Avg Review: 5.0",
          "Customer: cust_280906d2c94cafaed2d39038<br>Orders: 1<br>Spent: $39.94<br>Avg Review: 5.0",
          "Customer: cust_28197f6a663cb27435b2b64b<br>Orders: 2<br>Spent: $1041.46<br>Avg Review: 3.0",
          "Customer: cust_281a88ab94024ae51834bf9c<br>Orders: 2<br>Spent: $3087.73<br>Avg Review: 3.3",
          "Customer: cust_2823c721eb516ff93ebfa3a2<br>Orders: 1<br>Spent: $119.72<br>Avg Review: 4.0",
          "Customer: cust_282d6458916116f5c572a575<br>Orders: 2<br>Spent: $2139.13<br>Avg Review: 4.0",
          "Customer: cust_2846c946254c7f9428776aed<br>Orders: 1<br>Spent: $411.7<br>Avg Review: 4.0",
          "Customer: cust_2851e179f04b6eb5436b77c7<br>Orders: 1<br>Spent: $67.02<br>Avg Review: 3.0",
          "Customer: cust_28673918334b2f5fbafb4164<br>Orders: 3<br>Spent: $2554.72<br>Avg Review: 5.0",
          "Customer: cust_2876f1b7a0fda90b8bef6c5e<br>Orders: 1<br>Spent: $85.73<br>Avg Review: 4.0",
          "Customer: cust_287fefa1017b3592d63e633b<br>Orders: 1<br>Spent: $481.73<br>Avg Review: nan",
          "Customer: cust_28858cfb3f7de50346006bc5<br>Orders: 1<br>Spent: $689.07<br>Avg Review: 5.0",
          "Customer: cust_289af2fbb764ec2488ba4f4a<br>Orders: 1<br>Spent: $468.68<br>Avg Review: 2.0",
          "Customer: cust_28b60fd839249b109e1586b4<br>Orders: 2<br>Spent: $533.3<br>Avg Review: nan",
          "Customer: cust_28f1c743fb9137fc6fc17c44<br>Orders: 1<br>Spent: $51.23<br>Avg Review: 5.0",
          "Customer: cust_28f63399cc4d3fb11f2fcea6<br>Orders: 1<br>Spent: $1353.96<br>Avg Review: nan",
          "Customer: cust_290e2a6a228a943bc8bbe08d<br>Orders: 2<br>Spent: $1622.76<br>Avg Review: 1.0",
          "Customer: cust_29166e93e2e1b2e40df8ad95<br>Orders: 3<br>Spent: $923.23<br>Avg Review: 4.0",
          "Customer: cust_291df8905d4211d64ba5b8c6<br>Orders: 2<br>Spent: $345.42<br>Avg Review: 5.0",
          "Customer: cust_2949b7f298a789b20b68f556<br>Orders: 2<br>Spent: $864.34<br>Avg Review: 4.0",
          "Customer: cust_295df55277755029810d4c17<br>Orders: 2<br>Spent: $4545.1<br>Avg Review: 5.0",
          "Customer: cust_2960d2fbc59bc54290b75452<br>Orders: 3<br>Spent: $833.25<br>Avg Review: 4.5",
          "Customer: cust_296868ba865317d047ae0609<br>Orders: 1<br>Spent: $167.64<br>Avg Review: nan",
          "Customer: cust_296cad4cfe05ebb713d97f09<br>Orders: 1<br>Spent: $963.75<br>Avg Review: nan",
          "Customer: cust_2982ff4a523ef580b83037dd<br>Orders: 1<br>Spent: $245.35<br>Avg Review: 5.0",
          "Customer: cust_298cb1d821e5321db2984393<br>Orders: 1<br>Spent: $59.27<br>Avg Review: nan",
          "Customer: cust_29ad094f2fbe92bf037908c4<br>Orders: 1<br>Spent: $116.84<br>Avg Review: nan",
          "Customer: cust_29c979105d2d08b17e301f2d<br>Orders: 1<br>Spent: $83.05<br>Avg Review: nan",
          "Customer: cust_29e7c97af37aa8249f108c4f<br>Orders: 1<br>Spent: $137.32<br>Avg Review: 5.0",
          "Customer: cust_29e952291e0627d8aac134b1<br>Orders: 1<br>Spent: $870.22<br>Avg Review: 4.0",
          "Customer: cust_29ebd1878297eee9a2e53652<br>Orders: 2<br>Spent: $550.42<br>Avg Review: 3.5",
          "Customer: cust_2a05932d03222002d8e8c0e3<br>Orders: 3<br>Spent: $1366.06<br>Avg Review: 4.0",
          "Customer: cust_2a0d94d4e864054a162866bc<br>Orders: 1<br>Spent: $403.57<br>Avg Review: 3.0",
          "Customer: cust_2a22a0cef687d4648a565f6b<br>Orders: 2<br>Spent: $3139.8<br>Avg Review: nan",
          "Customer: cust_2a4545a813bc65505a09c4e2<br>Orders: 1<br>Spent: $1069.06<br>Avg Review: nan",
          "Customer: cust_2a62434817f1aba871a30c6e<br>Orders: 1<br>Spent: $3208.85<br>Avg Review: 5.0",
          "Customer: cust_2a77b64a17df1290cb6eba26<br>Orders: 1<br>Spent: $1693.24<br>Avg Review: 5.0",
          "Customer: cust_2a8dd7a74878e2c172fa49ac<br>Orders: 1<br>Spent: $83.74<br>Avg Review: 5.0",
          "Customer: cust_2a95ff9e2af9c7c8dc01cc7c<br>Orders: 2<br>Spent: $1579.03<br>Avg Review: 5.0",
          "Customer: cust_2a98da0f3b657d1ab9c458d4<br>Orders: 2<br>Spent: $2559.26<br>Avg Review: 5.0",
          "Customer: cust_2aae6ab02788ec03b13203bd<br>Orders: 1<br>Spent: $155.2<br>Avg Review: 5.0",
          "Customer: cust_2ad236c15416e6ace12e9b9f<br>Orders: 1<br>Spent: $499.16<br>Avg Review: nan",
          "Customer: cust_2aec13322f4da8ee70aac252<br>Orders: 3<br>Spent: $4057.98<br>Avg Review: 2.7",
          "Customer: cust_2b020679c1fc9cde0a904b34<br>Orders: 2<br>Spent: $1715.8<br>Avg Review: 4.5",
          "Customer: cust_2b03da2d983eb20f6387a9be<br>Orders: 1<br>Spent: $91.49<br>Avg Review: 5.0",
          "Customer: cust_2b1186428bc1c4cce15881b8<br>Orders: 1<br>Spent: $42.03<br>Avg Review: 5.0",
          "Customer: cust_2b1723cbdb5021fc7bfd8d3a<br>Orders: 1<br>Spent: $444.36<br>Avg Review: 5.0",
          "Customer: cust_2b2ea02eb42f979336a43b18<br>Orders: 2<br>Spent: $1026.96<br>Avg Review: 5.0",
          "Customer: cust_2b343a512aec55c39da34ccc<br>Orders: 1<br>Spent: $1079.35<br>Avg Review: 5.0",
          "Customer: cust_2b38851daf2c7390db13a47b<br>Orders: 1<br>Spent: $1862.4<br>Avg Review: 4.0",
          "Customer: cust_2b56b27cb918d32e69fd0756<br>Orders: 1<br>Spent: $2210.34<br>Avg Review: 5.0",
          "Customer: cust_2b59e93389d6170305f069f4<br>Orders: 1<br>Spent: $226.33<br>Avg Review: 2.0",
          "Customer: cust_2b61bfd933ca3b27c217c133<br>Orders: 1<br>Spent: $85.4<br>Avg Review: 5.0",
          "Customer: cust_2b783d5527be530982645cdc<br>Orders: 4<br>Spent: $2355.17<br>Avg Review: 3.0",
          "Customer: cust_2b7ed8452afda8c11b482b95<br>Orders: 1<br>Spent: $107.67<br>Avg Review: nan",
          "Customer: cust_2b8d260091f4aca28facc5cc<br>Orders: 3<br>Spent: $2336.3<br>Avg Review: 3.8",
          "Customer: cust_2b998e2f064dea9eb4f82caf<br>Orders: 3<br>Spent: $2554.28<br>Avg Review: 4.5",
          "Customer: cust_2b9c2bdb6318f4ed3e762225<br>Orders: 1<br>Spent: $209.54<br>Avg Review: 5.0",
          "Customer: cust_2bb0084c4279253aecbf6049<br>Orders: 2<br>Spent: $1888.45<br>Avg Review: 4.3",
          "Customer: cust_2bba0ed54cabfcbd946bf39f<br>Orders: 4<br>Spent: $5431.76<br>Avg Review: 4.7",
          "Customer: cust_2bbbc72e3d07979f6ce879dc<br>Orders: 2<br>Spent: $496.27<br>Avg Review: 5.0",
          "Customer: cust_2bd1c09db4d1c74c9c48dde8<br>Orders: 1<br>Spent: $29.77<br>Avg Review: nan",
          "Customer: cust_2bdb3afadba0038d1cc06e91<br>Orders: 1<br>Spent: $127.2<br>Avg Review: 4.0",
          "Customer: cust_2bf2e934fbeec89654b86540<br>Orders: 1<br>Spent: $176.93<br>Avg Review: 4.0",
          "Customer: cust_2c0ce07f21560203f83245dd<br>Orders: 1<br>Spent: $759.11<br>Avg Review: nan",
          "Customer: cust_2c284963ceb926193a399594<br>Orders: 2<br>Spent: $3737.11<br>Avg Review: 4.8",
          "Customer: cust_2c2ace257e1d5c11079af45c<br>Orders: 1<br>Spent: $425.85<br>Avg Review: 5.0",
          "Customer: cust_2c37ffe139224f797267b108<br>Orders: 1<br>Spent: $422.4<br>Avg Review: 5.0",
          "Customer: cust_2c3962bcf40d0de71bf4ede7<br>Orders: 3<br>Spent: $4037.82<br>Avg Review: 3.2",
          "Customer: cust_2c54f0f934305830506d24d8<br>Orders: 1<br>Spent: $111.61<br>Avg Review: nan",
          "Customer: cust_2c586a375acd5ad5b621c300<br>Orders: 2<br>Spent: $229.33<br>Avg Review: 4.0",
          "Customer: cust_2c58bf204b850ad7cf66601b<br>Orders: 2<br>Spent: $2752.91<br>Avg Review: 3.7",
          "Customer: cust_2c5ff120a5ec79a8a69a94e7<br>Orders: 1<br>Spent: $1640.87<br>Avg Review: 5.0",
          "Customer: cust_2c6b8ea6ccdfaefc95ee4bcb<br>Orders: 1<br>Spent: $1950.84<br>Avg Review: 5.0",
          "Customer: cust_2caa1cccb77f685296e599ae<br>Orders: 3<br>Spent: $1007.32<br>Avg Review: nan",
          "Customer: cust_2caab07a754b3170b36e200a<br>Orders: 2<br>Spent: $1752.62<br>Avg Review: 2.7",
          "Customer: cust_2cd25482a0629dbf89ddc800<br>Orders: 1<br>Spent: $252.08<br>Avg Review: 5.0",
          "Customer: cust_2ce6fc159942b52cf4dcb95a<br>Orders: 1<br>Spent: $246.06<br>Avg Review: nan",
          "Customer: cust_2d0a8b59504deca5e7297769<br>Orders: 1<br>Spent: $1040.11<br>Avg Review: 5.0",
          "Customer: cust_2d0f5c9adce858f79deb582c<br>Orders: 1<br>Spent: $769.72<br>Avg Review: nan",
          "Customer: cust_2d36e4b647be13c15df550af<br>Orders: 1<br>Spent: $990.33<br>Avg Review: 5.0",
          "Customer: cust_2d3736d63cd97aeca663f948<br>Orders: 2<br>Spent: $1412.61<br>Avg Review: 5.0",
          "Customer: cust_2d3f3d1a50c0c412ee8a68eb<br>Orders: 1<br>Spent: $1199.25<br>Avg Review: 5.0",
          "Customer: cust_2d45c77f743d20c1a5ed7d69<br>Orders: 2<br>Spent: $2611.37<br>Avg Review: 5.0",
          "Customer: cust_2d4cf279667600232b191f56<br>Orders: 1<br>Spent: $114.8<br>Avg Review: nan",
          "Customer: cust_2d9692eb101d291d216e9b47<br>Orders: 1<br>Spent: $2177.91<br>Avg Review: 5.0",
          "Customer: cust_2d96f03c50ba735c63c733ac<br>Orders: 2<br>Spent: $2534.87<br>Avg Review: 4.0",
          "Customer: cust_2d9740dd20bcdaeed17acc6c<br>Orders: 1<br>Spent: $1854.0<br>Avg Review: nan",
          "Customer: cust_2da960a35794cb38ad1b025d<br>Orders: 1<br>Spent: $19.32<br>Avg Review: nan",
          "Customer: cust_2ded25276561ac60b91ff297<br>Orders: 2<br>Spent: $1144.81<br>Avg Review: nan",
          "Customer: cust_2df04ba2421321f95653345e<br>Orders: 1<br>Spent: $1571.09<br>Avg Review: 4.0",
          "Customer: cust_2df4572d2d8392786f062c09<br>Orders: 1<br>Spent: $324.12<br>Avg Review: nan",
          "Customer: cust_2dfeb6f9f1628bdb83f49b99<br>Orders: 1<br>Spent: $1232.01<br>Avg Review: 5.0",
          "Customer: cust_2e03bf68bd2cf45018200e41<br>Orders: 1<br>Spent: $181.39<br>Avg Review: 2.0",
          "Customer: cust_2e1be7c0d2877c29930c4d2c<br>Orders: 1<br>Spent: $2421.64<br>Avg Review: 5.0",
          "Customer: cust_2e1dfae6898b3f598e60c158<br>Orders: 1<br>Spent: $289.23<br>Avg Review: 2.0",
          "Customer: cust_2e35e177ae8f78a36e3c85d6<br>Orders: 1<br>Spent: $55.94<br>Avg Review: 5.0",
          "Customer: cust_2e3fe5afce5a497897564f28<br>Orders: 1<br>Spent: $288.0<br>Avg Review: nan",
          "Customer: cust_2e4e79751ee096f6ae179ebf<br>Orders: 2<br>Spent: $2921.65<br>Avg Review: 4.6",
          "Customer: cust_2e4ef384ad7ffe9d768097ae<br>Orders: 2<br>Spent: $929.32<br>Avg Review: 2.0",
          "Customer: cust_2e5a55786b6d53f14b25fbdf<br>Orders: 1<br>Spent: $139.41<br>Avg Review: 5.0",
          "Customer: cust_2e7077ac442262b6f79a855d<br>Orders: 1<br>Spent: $905.16<br>Avg Review: nan",
          "Customer: cust_2e72260073afc99974d5be2a<br>Orders: 2<br>Spent: $1236.68<br>Avg Review: 3.0",
          "Customer: cust_2e7d99c5babcd2f027c4042b<br>Orders: 3<br>Spent: $3812.1<br>Avg Review: 3.8",
          "Customer: cust_2ea19371e75bb3e92f4c300b<br>Orders: 1<br>Spent: $514.38<br>Avg Review: 4.0",
          "Customer: cust_2ecfd4b68e01da85265876f8<br>Orders: 1<br>Spent: $659.61<br>Avg Review: 4.0",
          "Customer: cust_2ed52f1e2c36046d37e2bb34<br>Orders: 1<br>Spent: $2243.93<br>Avg Review: 5.0",
          "Customer: cust_2f25b26335bd9c30ef566bff<br>Orders: 1<br>Spent: $97.34<br>Avg Review: 5.0",
          "Customer: cust_2f3fe6f959e298b94b138477<br>Orders: 1<br>Spent: $168.54<br>Avg Review: 5.0",
          "Customer: cust_2f558c2c5c96c98b73cff139<br>Orders: 1<br>Spent: $285.45<br>Avg Review: nan",
          "Customer: cust_2f6ddb2df56310f886ca557f<br>Orders: 1<br>Spent: $863.06<br>Avg Review: 4.0",
          "Customer: cust_2f712f0330da677f3b77af91<br>Orders: 1<br>Spent: $156.66<br>Avg Review: nan",
          "Customer: cust_2f854cd8568a9d5d0b878f11<br>Orders: 2<br>Spent: $1494.71<br>Avg Review: 3.3",
          "Customer: cust_2f8f16e7cd62d2c69d4c6163<br>Orders: 2<br>Spent: $638.78<br>Avg Review: 3.0",
          "Customer: cust_2f961526e91466ea5c9309a7<br>Orders: 1<br>Spent: $855.67<br>Avg Review: 3.0",
          "Customer: cust_2fb0113c4a538faa3aa4e976<br>Orders: 1<br>Spent: $237.78<br>Avg Review: nan",
          "Customer: cust_2fb9caac975ebf92c89bae5c<br>Orders: 1<br>Spent: $210.72<br>Avg Review: 4.0",
          "Customer: cust_2fdbbf07ea00e95240a860a2<br>Orders: 3<br>Spent: $1373.27<br>Avg Review: 5.0",
          "Customer: cust_2ffda834bacce979f8fb8ba2<br>Orders: 2<br>Spent: $188.59<br>Avg Review: 3.0",
          "Customer: cust_3017c9d1cff788cc536bba9c<br>Orders: 1<br>Spent: $86.1<br>Avg Review: 5.0",
          "Customer: cust_305ef53c189044c5a1645cd7<br>Orders: 1<br>Spent: $641.88<br>Avg Review: nan",
          "Customer: cust_306e87362647825399326d5c<br>Orders: 2<br>Spent: $364.36<br>Avg Review: 5.0",
          "Customer: cust_30911ec794f1430974df3f07<br>Orders: 1<br>Spent: $150.0<br>Avg Review: 5.0",
          "Customer: cust_30d7ba6ac1bad60c62e96855<br>Orders: 1<br>Spent: $700.73<br>Avg Review: 2.0",
          "Customer: cust_30d8d07b2668d6d4a362b1e5<br>Orders: 1<br>Spent: $427.6<br>Avg Review: nan",
          "Customer: cust_311bc7c268e9676d68fe8406<br>Orders: 1<br>Spent: $143.93<br>Avg Review: 3.0",
          "Customer: cust_311f42941095eadf1b1aff52<br>Orders: 3<br>Spent: $1168.35<br>Avg Review: 4.5",
          "Customer: cust_31231c506e937cdf50a2e683<br>Orders: 2<br>Spent: $1775.83<br>Avg Review: 5.0",
          "Customer: cust_31282fad0ae1c52210e0512e<br>Orders: 1<br>Spent: $341.65<br>Avg Review: 5.0",
          "Customer: cust_3138882dbe8feb40b84cb695<br>Orders: 1<br>Spent: $1797.61<br>Avg Review: 5.0",
          "Customer: cust_31462a469b6b23c2103addf0<br>Orders: 1<br>Spent: $804.5<br>Avg Review: 1.0",
          "Customer: cust_316d2d7e6cd9901048c2672e<br>Orders: 1<br>Spent: $1338.48<br>Avg Review: 5.0",
          "Customer: cust_316ef77e2074e75ccb31b364<br>Orders: 1<br>Spent: $184.23<br>Avg Review: 4.0",
          "Customer: cust_31b73a74445b47c5c1a5142b<br>Orders: 1<br>Spent: $686.24<br>Avg Review: 2.0",
          "Customer: cust_31bc2a2500fe3d4e712fbd3e<br>Orders: 1<br>Spent: $397.06<br>Avg Review: 4.0",
          "Customer: cust_31cb1db906c157e6e5e63b45<br>Orders: 2<br>Spent: $2715.16<br>Avg Review: 3.0",
          "Customer: cust_31cfb11fb962f84d98fd1917<br>Orders: 1<br>Spent: $298.22<br>Avg Review: nan",
          "Customer: cust_31d7802d18574c7aab547b31<br>Orders: 1<br>Spent: $68.32<br>Avg Review: nan",
          "Customer: cust_31fa5e987ecacaa7d0f9f1fa<br>Orders: 2<br>Spent: $1814.21<br>Avg Review: 2.0",
          "Customer: cust_31fe9a3b12bd485e61cf6787<br>Orders: 1<br>Spent: $72.48<br>Avg Review: 4.0",
          "Customer: cust_32168569bdaaae28d1dc8c5b<br>Orders: 1<br>Spent: $76.52<br>Avg Review: 2.0",
          "Customer: cust_3218928e80e9c9a85d0bf7f0<br>Orders: 1<br>Spent: $358.0<br>Avg Review: nan",
          "Customer: cust_321c534dc934504ef619a7a0<br>Orders: 2<br>Spent: $1679.69<br>Avg Review: 5.0",
          "Customer: cust_321d53bac5f2a12144117360<br>Orders: 1<br>Spent: $2088.79<br>Avg Review: nan",
          "Customer: cust_3227f80647cbf6b3308e592b<br>Orders: 1<br>Spent: $222.75<br>Avg Review: nan",
          "Customer: cust_322faf08c7ea240544224526<br>Orders: 1<br>Spent: $2777.21<br>Avg Review: 5.0",
          "Customer: cust_32390a0f1b9433810a825efc<br>Orders: 1<br>Spent: $483.06<br>Avg Review: nan",
          "Customer: cust_32755d5c01f157c0d807e77b<br>Orders: 1<br>Spent: $680.92<br>Avg Review: 4.0",
          "Customer: cust_32b244845476e1a9c24ccd44<br>Orders: 1<br>Spent: $105.18<br>Avg Review: nan",
          "Customer: cust_32b83c66d62a80f3b73a3bda<br>Orders: 2<br>Spent: $3210.64<br>Avg Review: 5.0",
          "Customer: cust_32e236e1ce04e6b2913a6e45<br>Orders: 1<br>Spent: $51.91<br>Avg Review: 3.0",
          "Customer: cust_32e5d47fc5e48574a3396196<br>Orders: 1<br>Spent: $13.24<br>Avg Review: 5.0",
          "Customer: cust_32e7dc1c420f005e02f6c7a0<br>Orders: 1<br>Spent: $184.89<br>Avg Review: 3.0",
          "Customer: cust_3300c86101142a096da4715c<br>Orders: 1<br>Spent: $1996.64<br>Avg Review: 5.0",
          "Customer: cust_330c8ba5597239a732534448<br>Orders: 1<br>Spent: $2435.91<br>Avg Review: 5.0",
          "Customer: cust_331989e053c1ccc9411af1aa<br>Orders: 1<br>Spent: $77.6<br>Avg Review: nan",
          "Customer: cust_3319f4c0373d35c6888c470d<br>Orders: 1<br>Spent: $937.73<br>Avg Review: nan",
          "Customer: cust_3324e25120a4328132e98aef<br>Orders: 1<br>Spent: $597.02<br>Avg Review: nan",
          "Customer: cust_332e65f5e54aac3cce361b74<br>Orders: 2<br>Spent: $488.35<br>Avg Review: 2.0",
          "Customer: cust_3331038677f8b3b5e8983810<br>Orders: 1<br>Spent: $880.0<br>Avg Review: 5.0",
          "Customer: cust_3334e5ac96ec85525375debe<br>Orders: 1<br>Spent: $339.0<br>Avg Review: 5.0",
          "Customer: cust_3355c89b96667f86a0b5b794<br>Orders: 1<br>Spent: $156.92<br>Avg Review: 5.0",
          "Customer: cust_3369b90495470a201ebf72f0<br>Orders: 1<br>Spent: $375.03<br>Avg Review: 3.0",
          "Customer: cust_3376676148c98ede135ee835<br>Orders: 1<br>Spent: $199.92<br>Avg Review: 5.0",
          "Customer: cust_33bdd4f5b0a28b86c6cf7f12<br>Orders: 1<br>Spent: $306.97<br>Avg Review: 1.0",
          "Customer: cust_33ccbae969d6682c82a95762<br>Orders: 1<br>Spent: $1918.22<br>Avg Review: 5.0",
          "Customer: cust_33f5e35b3ab1f46759441422<br>Orders: 3<br>Spent: $2736.44<br>Avg Review: 5.0",
          "Customer: cust_33f8923bc3636c6476dc1086<br>Orders: 2<br>Spent: $538.72<br>Avg Review: 5.0",
          "Customer: cust_340824e8b5bef85e154dd2f1<br>Orders: 1<br>Spent: $231.06<br>Avg Review: 5.0",
          "Customer: cust_340ad6e4b737cf7ab4a06c14<br>Orders: 1<br>Spent: $112.59<br>Avg Review: nan",
          "Customer: cust_34168f2667739455d4f241c9<br>Orders: 1<br>Spent: $1139.89<br>Avg Review: 5.0",
          "Customer: cust_341f526b3e294dd33e539e96<br>Orders: 2<br>Spent: $2276.51<br>Avg Review: 5.0",
          "Customer: cust_34326ca7cf03a1b1d499bd22<br>Orders: 1<br>Spent: $1663.43<br>Avg Review: 2.0",
          "Customer: cust_345038b3e8aec05ea029458c<br>Orders: 1<br>Spent: $530.25<br>Avg Review: nan",
          "Customer: cust_34a06b0599a18756a3679a9f<br>Orders: 1<br>Spent: $404.92<br>Avg Review: 5.0",
          "Customer: cust_34bad5cecf4b547941bcf9f8<br>Orders: 1<br>Spent: $1729.0<br>Avg Review: 3.0",
          "Customer: cust_34c32811c017bb0045734750<br>Orders: 2<br>Spent: $305.82<br>Avg Review: 4.0",
          "Customer: cust_34e45adafca7e50192fc46dc<br>Orders: 3<br>Spent: $2214.26<br>Avg Review: 3.0",
          "Customer: cust_34f9702b7ad1e47d1ea32ed3<br>Orders: 2<br>Spent: $1670.85<br>Avg Review: 4.3",
          "Customer: cust_3504c72ff5e7894db468680b<br>Orders: 2<br>Spent: $2331.81<br>Avg Review: 4.8",
          "Customer: cust_350ca571d3bdb195e95116b5<br>Orders: 1<br>Spent: $748.14<br>Avg Review: 5.0",
          "Customer: cust_3528a540bff434ae0db2d2c4<br>Orders: 2<br>Spent: $1097.84<br>Avg Review: 5.0",
          "Customer: cust_3537e9d9e712f284aed9ad02<br>Orders: 1<br>Spent: $263.14<br>Avg Review: 4.0",
          "Customer: cust_354a9c4d478ed05d0fc60689<br>Orders: 1<br>Spent: $245.83<br>Avg Review: nan",
          "Customer: cust_355019af1d2b92ed233b0f8e<br>Orders: 2<br>Spent: $2001.1<br>Avg Review: nan",
          "Customer: cust_357bc23c3c257ce40545e626<br>Orders: 1<br>Spent: $1250.08<br>Avg Review: 4.0",
          "Customer: cust_3588172605147e1445686209<br>Orders: 1<br>Spent: $406.94<br>Avg Review: 5.0",
          "Customer: cust_35ceb91ea2d21d1dbc6ec4d7<br>Orders: 1<br>Spent: $130.02<br>Avg Review: 5.0",
          "Customer: cust_35d047dcdfc778e8b6bdf558<br>Orders: 2<br>Spent: $875.1<br>Avg Review: 4.3",
          "Customer: cust_35d9fcbe92046ca4b087149b<br>Orders: 1<br>Spent: $1239.82<br>Avg Review: 4.0",
          "Customer: cust_35e814e90e68ce7ef06c8b91<br>Orders: 1<br>Spent: $166.9<br>Avg Review: 5.0",
          "Customer: cust_35e9d06b9929b8f3fefbcc2a<br>Orders: 3<br>Spent: $3111.87<br>Avg Review: 3.6",
          "Customer: cust_35eb6c04e66465d2e316d02d<br>Orders: 1<br>Spent: $856.0<br>Avg Review: nan",
          "Customer: cust_35fdb43ee9d2e62cf17d2579<br>Orders: 1<br>Spent: $105.27<br>Avg Review: 5.0",
          "Customer: cust_360c42787dc2f2481a17d541<br>Orders: 2<br>Spent: $1218.83<br>Avg Review: 4.3",
          "Customer: cust_360fe9083f28c4b92d8fac01<br>Orders: 1<br>Spent: $1020.95<br>Avg Review: 5.0",
          "Customer: cust_36447e784180240116bb6613<br>Orders: 1<br>Spent: $614.45<br>Avg Review: nan",
          "Customer: cust_3652b1413d7bb1f50d1fbf29<br>Orders: 1<br>Spent: $314.96<br>Avg Review: 3.0",
          "Customer: cust_36672df910d08c2b3ad89ebd<br>Orders: 1<br>Spent: $383.71<br>Avg Review: 4.0",
          "Customer: cust_36692854e980a79f53f202e4<br>Orders: 2<br>Spent: $2208.07<br>Avg Review: 2.5",
          "Customer: cust_36d02b0363c9026a5b6a77e5<br>Orders: 1<br>Spent: $958.46<br>Avg Review: nan",
          "Customer: cust_36d308ef04e86ebe19a28c7b<br>Orders: 1<br>Spent: $182.99<br>Avg Review: 5.0",
          "Customer: cust_36e2cf74f7c654645290e859<br>Orders: 2<br>Spent: $934.14<br>Avg Review: 5.0",
          "Customer: cust_370723dbff6303c13ed12fd0<br>Orders: 2<br>Spent: $6703.77<br>Avg Review: nan",
          "Customer: cust_373575febb6cf018d4cc40c5<br>Orders: 1<br>Spent: $1118.85<br>Avg Review: nan",
          "Customer: cust_373dfcc65b1d0782c404bebb<br>Orders: 1<br>Spent: $197.14<br>Avg Review: 4.0",
          "Customer: cust_374c7685fa36f8a629e15895<br>Orders: 1<br>Spent: $1208.37<br>Avg Review: 1.0",
          "Customer: cust_374f453e2f6c6307c00adc22<br>Orders: 1<br>Spent: $559.96<br>Avg Review: nan",
          "Customer: cust_3753eeb1ecbe3ca909f582fe<br>Orders: 1<br>Spent: $1061.51<br>Avg Review: 4.0",
          "Customer: cust_375ade171881c9e44387474f<br>Orders: 2<br>Spent: $1432.39<br>Avg Review: 5.0",
          "Customer: cust_376f98b9a343cc298a0ed953<br>Orders: 1<br>Spent: $149.16<br>Avg Review: 5.0",
          "Customer: cust_377a1b574d187254334dd7f4<br>Orders: 1<br>Spent: $916.57<br>Avg Review: 5.0",
          "Customer: cust_37848a881541bc991c6eb768<br>Orders: 1<br>Spent: $72.75<br>Avg Review: 5.0",
          "Customer: cust_37980bebed8e7412c1b9081f<br>Orders: 1<br>Spent: $840.04<br>Avg Review: 1.0",
          "Customer: cust_379f9b39379d397606b4fe0d<br>Orders: 1<br>Spent: $408.26<br>Avg Review: 5.0",
          "Customer: cust_37a38f31826ccbbf51a1ce03<br>Orders: 3<br>Spent: $2121.06<br>Avg Review: nan",
          "Customer: cust_37abd617e8411b2a52ff5c2e<br>Orders: 1<br>Spent: $999.72<br>Avg Review: 5.0",
          "Customer: cust_37ae47204bd02598ad39297c<br>Orders: 1<br>Spent: $50.29<br>Avg Review: nan",
          "Customer: cust_37c398427dfec98a0f10da75<br>Orders: 1<br>Spent: $81.5<br>Avg Review: 1.0",
          "Customer: cust_37c9cbe956cc0b29a6c5ee4a<br>Orders: 1<br>Spent: $510.01<br>Avg Review: 1.0",
          "Customer: cust_37cc4fba71b204b41018bc3d<br>Orders: 1<br>Spent: $71.63<br>Avg Review: 5.0",
          "Customer: cust_37d52a4d3e40d9640bda99e3<br>Orders: 1<br>Spent: $185.84<br>Avg Review: 4.0",
          "Customer: cust_37d9ba6e20d5e0f230d35d69<br>Orders: 1<br>Spent: $3500.41<br>Avg Review: 2.0",
          "Customer: cust_381ab487441fa372d7d5d228<br>Orders: 1<br>Spent: $142.77<br>Avg Review: 5.0",
          "Customer: cust_383989292fcd00dce874eed2<br>Orders: 1<br>Spent: $713.52<br>Avg Review: nan",
          "Customer: cust_3871e704d6c5a29baade8e23<br>Orders: 1<br>Spent: $790.13<br>Avg Review: 1.0",
          "Customer: cust_389b9d0e1ccc8369d784f9a1<br>Orders: 1<br>Spent: $831.72<br>Avg Review: 5.0",
          "Customer: cust_38ab7086f424f5459040c755<br>Orders: 1<br>Spent: $1046.29<br>Avg Review: nan",
          "Customer: cust_38ac3d50e90cc6acc8052b03<br>Orders: 1<br>Spent: $76.25<br>Avg Review: 5.0",
          "Customer: cust_38b783857173957fdf137798<br>Orders: 2<br>Spent: $2606.61<br>Avg Review: nan",
          "Customer: cust_38c6b951d5b8bfbe05afb491<br>Orders: 2<br>Spent: $1440.14<br>Avg Review: 4.5",
          "Customer: cust_38dba328124fb06f822673a2<br>Orders: 1<br>Spent: $1862.21<br>Avg Review: 5.0",
          "Customer: cust_393f94c778320e9a831674a5<br>Orders: 1<br>Spent: $648.23<br>Avg Review: nan",
          "Customer: cust_39518eadbccced97f710f33a<br>Orders: 1<br>Spent: $169.25<br>Avg Review: 5.0",
          "Customer: cust_3993295072e8874b73364c05<br>Orders: 1<br>Spent: $378.74<br>Avg Review: 4.0",
          "Customer: cust_3995a132160295306ded6e9e<br>Orders: 2<br>Spent: $533.8<br>Avg Review: 5.0",
          "Customer: cust_39a67b92be544483529c2f45<br>Orders: 1<br>Spent: $546.05<br>Avg Review: 5.0",
          "Customer: cust_39c5aa8334fc2b8bc9f2c517<br>Orders: 1<br>Spent: $355.09<br>Avg Review: 5.0",
          "Customer: cust_39e6e4cf22c7d1f69a78d685<br>Orders: 2<br>Spent: $2443.32<br>Avg Review: 3.0",
          "Customer: cust_39ec1fe6d137c774db325f24<br>Orders: 2<br>Spent: $207.67<br>Avg Review: 5.0",
          "Customer: cust_39f18bf426fc5c99653b90a4<br>Orders: 1<br>Spent: $362.9<br>Avg Review: 4.0",
          "Customer: cust_3a286e929f936d062a47c18a<br>Orders: 1<br>Spent: $193.57<br>Avg Review: 5.0",
          "Customer: cust_3a2abdb2d98eaa2d6be0d434<br>Orders: 1<br>Spent: $136.71<br>Avg Review: 5.0",
          "Customer: cust_3a615b5dc02abe54291a50fb<br>Orders: 1<br>Spent: $1478.63<br>Avg Review: nan",
          "Customer: cust_3a6cb5878ceb11bbcaf77c73<br>Orders: 1<br>Spent: $226.66<br>Avg Review: 5.0",
          "Customer: cust_3a724693d6ec77ac3f3185a9<br>Orders: 1<br>Spent: $57.12<br>Avg Review: 5.0",
          "Customer: cust_3a7700fc647332bcdd4ad11b<br>Orders: 1<br>Spent: $1133.27<br>Avg Review: nan",
          "Customer: cust_3a906c8ae54074cfe436ac9d<br>Orders: 1<br>Spent: $2032.65<br>Avg Review: 2.0",
          "Customer: cust_3a94cee9567406b4c7cee2a0<br>Orders: 1<br>Spent: $57.73<br>Avg Review: 3.0",
          "Customer: cust_3aaac029d425754136a75739<br>Orders: 2<br>Spent: $1140.1<br>Avg Review: 5.0",
          "Customer: cust_3abf1dfc8b0c7641a7951141<br>Orders: 1<br>Spent: $890.66<br>Avg Review: nan",
          "Customer: cust_3ac12ba83818c9c1b90d8b8b<br>Orders: 1<br>Spent: $461.48<br>Avg Review: 2.0",
          "Customer: cust_3aca943c0f54c34bea721c3c<br>Orders: 1<br>Spent: $1638.48<br>Avg Review: nan",
          "Customer: cust_3b036578a0bcabd6c27ba5f3<br>Orders: 1<br>Spent: $641.5<br>Avg Review: 2.0",
          "Customer: cust_3b11b9de2ed49fd625a4e881<br>Orders: 2<br>Spent: $990.73<br>Avg Review: 4.3",
          "Customer: cust_3b49ddfa00ba322105000448<br>Orders: 2<br>Spent: $256.06<br>Avg Review: 3.5",
          "Customer: cust_3b68beefad286b04c5f0ce96<br>Orders: 1<br>Spent: $615.9<br>Avg Review: nan",
          "Customer: cust_3ba8455830d4a6347003edf7<br>Orders: 1<br>Spent: $37.63<br>Avg Review: 4.0",
          "Customer: cust_3bb38261f46e02e800795857<br>Orders: 2<br>Spent: $1296.44<br>Avg Review: 5.0",
          "Customer: cust_3bbf471e2672820812b6b23c<br>Orders: 2<br>Spent: $696.24<br>Avg Review: 4.0",
          "Customer: cust_3bce24645b692353f2b3239d<br>Orders: 1<br>Spent: $522.17<br>Avg Review: 4.0",
          "Customer: cust_3be29d59ec48d65e292615a2<br>Orders: 1<br>Spent: $982.76<br>Avg Review: nan",
          "Customer: cust_3bf8ea2ce127a0cc42f7f0af<br>Orders: 1<br>Spent: $1129.61<br>Avg Review: nan",
          "Customer: cust_3c2cd4d54351a7360de42c4a<br>Orders: 1<br>Spent: $2044.81<br>Avg Review: nan",
          "Customer: cust_3c2fa2bfcee5b29fdc38a10b<br>Orders: 1<br>Spent: $828.6<br>Avg Review: nan",
          "Customer: cust_3c46baf833c9954d908279d8<br>Orders: 1<br>Spent: $708.19<br>Avg Review: 5.0",
          "Customer: cust_3c4d27cbdfa3317ec10eb444<br>Orders: 1<br>Spent: $113.69<br>Avg Review: 5.0",
          "Customer: cust_3c56ff5fd6f8b6a07ffbc91a<br>Orders: 1<br>Spent: $857.86<br>Avg Review: 5.0",
          "Customer: cust_3c5a3e15d3581ae2d0e526e7<br>Orders: 2<br>Spent: $1359.46<br>Avg Review: 4.0",
          "Customer: cust_3c5e54843dddf2826baa0563<br>Orders: 1<br>Spent: $1499.22<br>Avg Review: nan",
          "Customer: cust_3c71c6f0a1473c000b728e8c<br>Orders: 1<br>Spent: $2311.83<br>Avg Review: 2.0",
          "Customer: cust_3c8319c2ae67fdaac8d9e22a<br>Orders: 1<br>Spent: $150.38<br>Avg Review: 4.0",
          "Customer: cust_3c8da25ea030c5d6eb781842<br>Orders: 1<br>Spent: $111.01<br>Avg Review: nan",
          "Customer: cust_3c9877240028c7ee428c9906<br>Orders: 1<br>Spent: $40.57<br>Avg Review: 5.0",
          "Customer: cust_3cb085b865a0d3f0b975fc8b<br>Orders: 1<br>Spent: $1001.75<br>Avg Review: nan",
          "Customer: cust_3cb3c27457c05f67b0ff3181<br>Orders: 1<br>Spent: $1225.68<br>Avg Review: 4.0",
          "Customer: cust_3cc18f53ebd5ca3a1f5e80e4<br>Orders: 1<br>Spent: $26.21<br>Avg Review: 4.0",
          "Customer: cust_3cce9ec5b7739cff7d562a54<br>Orders: 1<br>Spent: $175.47<br>Avg Review: 5.0",
          "Customer: cust_3ce9717e9f4410bda9e3adb9<br>Orders: 1<br>Spent: $70.99<br>Avg Review: nan",
          "Customer: cust_3cf173ba0797c7e88e4f6425<br>Orders: 1<br>Spent: $475.44<br>Avg Review: nan",
          "Customer: cust_3d19ed2ae815a6be06f144d9<br>Orders: 2<br>Spent: $2380.64<br>Avg Review: 3.3",
          "Customer: cust_3d334f30b3c8f7b3aca45502<br>Orders: 1<br>Spent: $344.97<br>Avg Review: 3.0",
          "Customer: cust_3d48b6458abdc9034c746d7e<br>Orders: 1<br>Spent: $162.55<br>Avg Review: nan",
          "Customer: cust_3d7e4fe943c7ab23a443509f<br>Orders: 1<br>Spent: $309.32<br>Avg Review: nan",
          "Customer: cust_3d90cab390b5fabe067bd0d9<br>Orders: 1<br>Spent: $553.03<br>Avg Review: nan",
          "Customer: cust_3d9acc73cd0412a34ee9734a<br>Orders: 1<br>Spent: $97.25<br>Avg Review: nan",
          "Customer: cust_3dc53c89ec6e800fce714681<br>Orders: 1<br>Spent: $169.16<br>Avg Review: nan",
          "Customer: cust_3dc61dd3cd6d46a7a694d9c4<br>Orders: 1<br>Spent: $1601.77<br>Avg Review: 3.0",
          "Customer: cust_3dcfeccd305bfdd9b31d4361<br>Orders: 1<br>Spent: $142.42<br>Avg Review: 3.0",
          "Customer: cust_3ded48b4ef7ffeb6b14f1b76<br>Orders: 1<br>Spent: $152.3<br>Avg Review: nan",
          "Customer: cust_3e0d51159ee2f772bc14d602<br>Orders: 1<br>Spent: $156.99<br>Avg Review: 5.0",
          "Customer: cust_3e2778b8ecbc1dc1cedbb8e4<br>Orders: 1<br>Spent: $45.22<br>Avg Review: 5.0",
          "Customer: cust_3e30d2291e5adda4eff293d6<br>Orders: 1<br>Spent: $195.82<br>Avg Review: 4.0",
          "Customer: cust_3e49638d8c67ff6edfa5b3bf<br>Orders: 1<br>Spent: $53.78<br>Avg Review: nan",
          "Customer: cust_3e4cdf93b78662284e2d57a9<br>Orders: 1<br>Spent: $63.55<br>Avg Review: 4.0",
          "Customer: cust_3e4d0846eab46b3c08550a48<br>Orders: 1<br>Spent: $1743.03<br>Avg Review: 5.0",
          "Customer: cust_3e4d96c426607591317bbb7e<br>Orders: 1<br>Spent: $680.23<br>Avg Review: 5.0",
          "Customer: cust_3e66dce4f087dad2b387b4c4<br>Orders: 1<br>Spent: $519.11<br>Avg Review: nan",
          "Customer: cust_3e749e7526ae54da049ddf25<br>Orders: 1<br>Spent: $323.96<br>Avg Review: 4.0",
          "Customer: cust_3e8018158ddfb6649301a8bf<br>Orders: 3<br>Spent: $2671.14<br>Avg Review: 3.5",
          "Customer: cust_3e82788a290123d3c8733f5b<br>Orders: 1<br>Spent: $445.53<br>Avg Review: 5.0",
          "Customer: cust_3e84ce3c46d14be446a43940<br>Orders: 1<br>Spent: $988.91<br>Avg Review: 4.0",
          "Customer: cust_3e8cc9d155e6a79d41511616<br>Orders: 1<br>Spent: $323.06<br>Avg Review: 4.0",
          "Customer: cust_3e8d83d15712ec159093868f<br>Orders: 3<br>Spent: $1902.53<br>Avg Review: 5.0",
          "Customer: cust_3ea2dee7c50baff14863cc83<br>Orders: 1<br>Spent: $2618.54<br>Avg Review: nan",
          "Customer: cust_3ebe5a7397e2d897bcabeb4e<br>Orders: 1<br>Spent: $181.84<br>Avg Review: 5.0",
          "Customer: cust_3ed92cbb47181d806345b093<br>Orders: 1<br>Spent: $12.07<br>Avg Review: 3.0",
          "Customer: cust_3ee77856d856fd766a61ce48<br>Orders: 1<br>Spent: $683.08<br>Avg Review: 5.0",
          "Customer: cust_3f1379899e6dcf232ff516b1<br>Orders: 1<br>Spent: $561.63<br>Avg Review: nan",
          "Customer: cust_3f6651871726ca31f1536a6b<br>Orders: 1<br>Spent: $250.28<br>Avg Review: 5.0",
          "Customer: cust_3fb88617d624c25111595700<br>Orders: 1<br>Spent: $1658.73<br>Avg Review: 5.0",
          "Customer: cust_3fb9ec47908b58fb8ecfde23<br>Orders: 1<br>Spent: $31.62<br>Avg Review: 5.0",
          "Customer: cust_3fce5483787e4ab2fd9613bc<br>Orders: 1<br>Spent: $81.74<br>Avg Review: 5.0",
          "Customer: cust_3fec4b90444759007e9489dc<br>Orders: 1<br>Spent: $281.67<br>Avg Review: nan",
          "Customer: cust_40042ea8acab36b2bee26d14<br>Orders: 1<br>Spent: $182.55<br>Avg Review: nan",
          "Customer: cust_4008d138aacd4cca48d402e4<br>Orders: 1<br>Spent: $150.79<br>Avg Review: nan",
          "Customer: cust_403b3de94003f874a63c8b53<br>Orders: 1<br>Spent: $480.8<br>Avg Review: 4.0",
          "Customer: cust_4040ea402561893e8634cff5<br>Orders: 1<br>Spent: $394.41<br>Avg Review: 3.0",
          "Customer: cust_4058c18816faa5950759a6b1<br>Orders: 1<br>Spent: $743.86<br>Avg Review: 5.0",
          "Customer: cust_4062951469481baa42bfdbdd<br>Orders: 1<br>Spent: $2776.84<br>Avg Review: nan",
          "Customer: cust_406750adf947c02bf360b1d5<br>Orders: 2<br>Spent: $561.24<br>Avg Review: 4.0",
          "Customer: cust_407560925d5ea49889f1b4a9<br>Orders: 1<br>Spent: $1764.57<br>Avg Review: 5.0",
          "Customer: cust_408b25b61a528640e4fe7adb<br>Orders: 1<br>Spent: $138.91<br>Avg Review: nan",
          "Customer: cust_409ad38720d48d51ca9219f1<br>Orders: 1<br>Spent: $358.41<br>Avg Review: nan",
          "Customer: cust_40ba024e3f5befdc78a20d8d<br>Orders: 1<br>Spent: $1522.13<br>Avg Review: 4.0",
          "Customer: cust_40badf9ccdf8a1d9200aca14<br>Orders: 1<br>Spent: $594.18<br>Avg Review: nan",
          "Customer: cust_40cd1693f822e919d5ff45ab<br>Orders: 1<br>Spent: $220.97<br>Avg Review: 4.0",
          "Customer: cust_40d1de85175ecbd9e6af1bc2<br>Orders: 2<br>Spent: $1297.26<br>Avg Review: 2.0",
          "Customer: cust_40ddbc4ab6b0f1a8969f7286<br>Orders: 1<br>Spent: $112.9<br>Avg Review: 5.0",
          "Customer: cust_4113698f42f4db6b398bd03d<br>Orders: 1<br>Spent: $662.94<br>Avg Review: 4.0",
          "Customer: cust_41138238f7931d4b884a2b12<br>Orders: 2<br>Spent: $1547.96<br>Avg Review: 4.5",
          "Customer: cust_412330146287437d9ca4bfc7<br>Orders: 1<br>Spent: $36.99<br>Avg Review: 5.0",
          "Customer: cust_4150499af50dd9621f3087e5<br>Orders: 1<br>Spent: $80.28<br>Avg Review: 5.0",
          "Customer: cust_415aa6a7de72821cecde659d<br>Orders: 1<br>Spent: $44.09<br>Avg Review: 4.0",
          "Customer: cust_415e7b61fd51400359579ec3<br>Orders: 1<br>Spent: $1480.27<br>Avg Review: 5.0",
          "Customer: cust_416484080b1a6577b3b1db6e<br>Orders: 1<br>Spent: $91.86<br>Avg Review: nan",
          "Customer: cust_416ecf3a642ba50b014fd3cc<br>Orders: 4<br>Spent: $1959.63<br>Avg Review: 4.5",
          "Customer: cust_41719c8a003c97deec42a443<br>Orders: 1<br>Spent: $311.51<br>Avg Review: 5.0",
          "Customer: cust_418d5d2bbda53b3c742daf05<br>Orders: 1<br>Spent: $150.2<br>Avg Review: nan",
          "Customer: cust_41937f84b7dc1edb42295878<br>Orders: 1<br>Spent: $187.04<br>Avg Review: 5.0",
          "Customer: cust_4193d13c860610c34348fbc0<br>Orders: 1<br>Spent: $916.39<br>Avg Review: 2.0",
          "Customer: cust_41949d76b08ef85d63c355b4<br>Orders: 4<br>Spent: $5083.47<br>Avg Review: 3.3",
          "Customer: cust_41a06afcab2c679bb0785b1f<br>Orders: 1<br>Spent: $201.14<br>Avg Review: 4.0",
          "Customer: cust_41a8771eb41a5b8c6e2a76bb<br>Orders: 2<br>Spent: $368.55<br>Avg Review: 5.0",
          "Customer: cust_420065d1b64ff20cb47d675c<br>Orders: 2<br>Spent: $379.14<br>Avg Review: 4.0",
          "Customer: cust_424ad753f51675d6ea15456a<br>Orders: 1<br>Spent: $1232.59<br>Avg Review: 5.0",
          "Customer: cust_424d3c15c618dc47ad2328ae<br>Orders: 1<br>Spent: $269.39<br>Avg Review: 5.0",
          "Customer: cust_424dd73dad3e58d029b1e1f1<br>Orders: 2<br>Spent: $2235.33<br>Avg Review: 3.0",
          "Customer: cust_42678e4f849e5dcea69f2e18<br>Orders: 1<br>Spent: $1557.9<br>Avg Review: 5.0",
          "Customer: cust_429a5abc5d54b80c74107200<br>Orders: 1<br>Spent: $92.85<br>Avg Review: 5.0",
          "Customer: cust_42a6a6f45d8a8d2ed8f95228<br>Orders: 1<br>Spent: $73.64<br>Avg Review: 5.0",
          "Customer: cust_42bc0af145695cb74481eb1d<br>Orders: 2<br>Spent: $1158.82<br>Avg Review: 4.7",
          "Customer: cust_42cf22257a68d4cf4a3674a0<br>Orders: 1<br>Spent: $152.3<br>Avg Review: 4.0",
          "Customer: cust_42d4d5f3d2a1fb345a4fb331<br>Orders: 1<br>Spent: $1465.15<br>Avg Review: 2.0",
          "Customer: cust_4323122235ab89f0365f9c89<br>Orders: 1<br>Spent: $2583.81<br>Avg Review: 5.0",
          "Customer: cust_43a2430c6e8e2df2db49bc28<br>Orders: 1<br>Spent: $1823.96<br>Avg Review: 5.0",
          "Customer: cust_43a93b279219e2af0768a097<br>Orders: 1<br>Spent: $120.5<br>Avg Review: nan",
          "Customer: cust_43b193851463a579a5652a0e<br>Orders: 1<br>Spent: $192.95<br>Avg Review: nan",
          "Customer: cust_43db9b067dfae3bb63d6edea<br>Orders: 1<br>Spent: $1503.75<br>Avg Review: nan",
          "Customer: cust_43dbf26761187d41d82243c0<br>Orders: 1<br>Spent: $18.56<br>Avg Review: 3.0",
          "Customer: cust_43f55abb1b68211924e7de8e<br>Orders: 3<br>Spent: $3520.81<br>Avg Review: 5.0",
          "Customer: cust_43fd3341897878d1f4325ea1<br>Orders: 2<br>Spent: $861.99<br>Avg Review: 1.7",
          "Customer: cust_44040ae8bd131722e7adb1d3<br>Orders: 2<br>Spent: $1141.77<br>Avg Review: 2.0",
          "Customer: cust_4405ee4af789c549b8d82496<br>Orders: 1<br>Spent: $1523.43<br>Avg Review: 2.0",
          "Customer: cust_4411a8bf3f2e43a5f857b64a<br>Orders: 1<br>Spent: $3531.88<br>Avg Review: 5.0",
          "Customer: cust_4429dd0ecf5ca153689c8054<br>Orders: 1<br>Spent: $1186.69<br>Avg Review: 4.0",
          "Customer: cust_443c511c9a9dc797bb66568b<br>Orders: 1<br>Spent: $1809.96<br>Avg Review: nan",
          "Customer: cust_446554cc6cfe1ba9d43b7f19<br>Orders: 1<br>Spent: $946.08<br>Avg Review: nan",
          "Customer: cust_44784209ef05f6102ab388f8<br>Orders: 1<br>Spent: $86.35<br>Avg Review: nan",
          "Customer: cust_448470653a261765a2b02e79<br>Orders: 1<br>Spent: $760.8<br>Avg Review: 4.0",
          "Customer: cust_44895ec30876e37d0c559d22<br>Orders: 1<br>Spent: $773.34<br>Avg Review: 3.0",
          "Customer: cust_44b631eb36a26d6d04207338<br>Orders: 2<br>Spent: $2179.58<br>Avg Review: 4.4",
          "Customer: cust_44bc57d91a65457313090ebf<br>Orders: 1<br>Spent: $1184.05<br>Avg Review: 5.0",
          "Customer: cust_44d02655568a329f6ffe1bd0<br>Orders: 1<br>Spent: $86.45<br>Avg Review: nan",
          "Customer: cust_44eda2079546c344ebe78a19<br>Orders: 2<br>Spent: $350.48<br>Avg Review: 4.0",
          "Customer: cust_44fc955095b01bf345e14e85<br>Orders: 2<br>Spent: $2698.14<br>Avg Review: 3.5",
          "Customer: cust_45009c7d9ab42778e035937a<br>Orders: 1<br>Spent: $177.94<br>Avg Review: 3.0",
          "Customer: cust_451bf87b500163d366cfe4cd<br>Orders: 1<br>Spent: $646.63<br>Avg Review: 3.0",
          "Customer: cust_453d328da65363c8293ea40e<br>Orders: 1<br>Spent: $623.28<br>Avg Review: 5.0",
          "Customer: cust_454467d2950c7803c53487a9<br>Orders: 1<br>Spent: $410.39<br>Avg Review: 5.0",
          "Customer: cust_454a18a86ca908ddb5904743<br>Orders: 1<br>Spent: $1142.58<br>Avg Review: 2.0",
          "Customer: cust_454d89d658cf8fa23d6a4900<br>Orders: 1<br>Spent: $1511.68<br>Avg Review: 5.0",
          "Customer: cust_4553ee5a172f766fcb09c979<br>Orders: 1<br>Spent: $168.63<br>Avg Review: 5.0",
          "Customer: cust_457f2ca235f2eebfdf8a5d5a<br>Orders: 2<br>Spent: $3470.08<br>Avg Review: 3.8",
          "Customer: cust_45946b4676bdb3017f20db6f<br>Orders: 1<br>Spent: $1063.62<br>Avg Review: 3.0",
          "Customer: cust_45b4163da599ed7030efffdc<br>Orders: 1<br>Spent: $680.13<br>Avg Review: 5.0",
          "Customer: cust_45c4ebdcbb749c0b98515fc7<br>Orders: 1<br>Spent: $1192.6<br>Avg Review: nan",
          "Customer: cust_45dcbb688be6af72506e6713<br>Orders: 2<br>Spent: $1176.69<br>Avg Review: 5.0",
          "Customer: cust_45e7d0643034b635b2621139<br>Orders: 1<br>Spent: $133.17<br>Avg Review: 3.0",
          "Customer: cust_46027dbca1cf5bc21adb633c<br>Orders: 3<br>Spent: $2310.32<br>Avg Review: 5.0",
          "Customer: cust_46125c220cdad87765c9f613<br>Orders: 1<br>Spent: $224.06<br>Avg Review: 5.0",
          "Customer: cust_4615d2abed95988aa51fc1f9<br>Orders: 1<br>Spent: $93.17<br>Avg Review: nan",
          "Customer: cust_4636cf036f253d4f5e9b4a5f<br>Orders: 1<br>Spent: $96.63<br>Avg Review: 4.0",
          "Customer: cust_4651e7d67ca26435a53ed02a<br>Orders: 1<br>Spent: $229.63<br>Avg Review: nan",
          "Customer: cust_466b2c1f5846a51b673ed0af<br>Orders: 1<br>Spent: $1071.74<br>Avg Review: 5.0",
          "Customer: cust_466e6a4434042d3c7afa18ce<br>Orders: 2<br>Spent: $1246.12<br>Avg Review: nan",
          "Customer: cust_467224ce0b095ca5dd081a06<br>Orders: 1<br>Spent: $1005.96<br>Avg Review: 4.0",
          "Customer: cust_467c28ac77a4e225384ecd07<br>Orders: 1<br>Spent: $487.86<br>Avg Review: 5.0",
          "Customer: cust_468707ae588f09eadecbb4e5<br>Orders: 2<br>Spent: $305.12<br>Avg Review: 3.5",
          "Customer: cust_4689e21bf1ba952b8859b0b6<br>Orders: 1<br>Spent: $91.26<br>Avg Review: nan",
          "Customer: cust_4691b278178d9b7e86b54e06<br>Orders: 1<br>Spent: $760.58<br>Avg Review: nan",
          "Customer: cust_469c50e66197e162c125f169<br>Orders: 1<br>Spent: $171.47<br>Avg Review: 5.0",
          "Customer: cust_46abe537bfcf4979a20faed5<br>Orders: 1<br>Spent: $847.3<br>Avg Review: 5.0",
          "Customer: cust_46b9086a813fff4a0f013fd5<br>Orders: 1<br>Spent: $863.33<br>Avg Review: 4.0",
          "Customer: cust_46c717cb150c42db3133132f<br>Orders: 2<br>Spent: $1495.92<br>Avg Review: 5.0",
          "Customer: cust_46d106d2312a8585ca423963<br>Orders: 1<br>Spent: $963.51<br>Avg Review: nan",
          "Customer: cust_46e02e92cdc0defb55b8fa4f<br>Orders: 1<br>Spent: $669.2<br>Avg Review: nan",
          "Customer: cust_46e652e8ea24cf9f61ca0ca7<br>Orders: 1<br>Spent: $171.03<br>Avg Review: 1.0",
          "Customer: cust_4752e142b5e63f44280b7609<br>Orders: 1<br>Spent: $4036.15<br>Avg Review: 3.0",
          "Customer: cust_476baf2c3ccafff900cfbbf2<br>Orders: 2<br>Spent: $167.73<br>Avg Review: 2.0",
          "Customer: cust_477b2a0a8b15570db140b54c<br>Orders: 2<br>Spent: $778.53<br>Avg Review: 4.7",
          "Customer: cust_478122dbb477c688a9783631<br>Orders: 1<br>Spent: $47.09<br>Avg Review: nan",
          "Customer: cust_479f37d5aa7b15cecfa67719<br>Orders: 1<br>Spent: $73.58<br>Avg Review: nan",
          "Customer: cust_47adb1ead3ac1c9f55f6d9f7<br>Orders: 1<br>Spent: $1829.26<br>Avg Review: nan",
          "Customer: cust_47bf7907bcf52c5263ad17e8<br>Orders: 3<br>Spent: $2976.41<br>Avg Review: 5.0",
          "Customer: cust_47c048c2ce41b357d00e0713<br>Orders: 1<br>Spent: $1389.82<br>Avg Review: nan",
          "Customer: cust_47d8a48479c09538d9c655df<br>Orders: 3<br>Spent: $546.25<br>Avg Review: 5.0",
          "Customer: cust_47f00a4495107ffbf004b2c9<br>Orders: 1<br>Spent: $1379.38<br>Avg Review: 3.0",
          "Customer: cust_4809d651c23a365d46845558<br>Orders: 1<br>Spent: $147.7<br>Avg Review: 5.0",
          "Customer: cust_480aefc512c982eb6f3c6895<br>Orders: 1<br>Spent: $1273.73<br>Avg Review: 4.0",
          "Customer: cust_480df4cf3f4709f90503592d<br>Orders: 2<br>Spent: $432.29<br>Avg Review: nan",
          "Customer: cust_480ede826665034c0cf9026e<br>Orders: 2<br>Spent: $102.67<br>Avg Review: 3.0",
          "Customer: cust_4817ea8875bf03fe6b47414d<br>Orders: 1<br>Spent: $260.95<br>Avg Review: 5.0",
          "Customer: cust_483fefebb2be18c3c9de606d<br>Orders: 1<br>Spent: $419.07<br>Avg Review: 5.0",
          "Customer: cust_484b814b4cd22869ca76abb2<br>Orders: 1<br>Spent: $670.35<br>Avg Review: 5.0",
          "Customer: cust_48541c01b27809453990bcb9<br>Orders: 2<br>Spent: $1008.43<br>Avg Review: 4.0",
          "Customer: cust_48588762458d7fa1ca43f6e9<br>Orders: 1<br>Spent: $1999.82<br>Avg Review: 3.0",
          "Customer: cust_4879fa6c0b15e58af2fd8359<br>Orders: 1<br>Spent: $154.7<br>Avg Review: 5.0",
          "Customer: cust_487df7fbb3fd0d6ee3d22af1<br>Orders: 1<br>Spent: $301.88<br>Avg Review: nan",
          "Customer: cust_4885ddc8b1f8bdbeae7e110e<br>Orders: 1<br>Spent: $401.53<br>Avg Review: nan",
          "Customer: cust_489ec6cdcf8d4365b54b6132<br>Orders: 1<br>Spent: $18.52<br>Avg Review: 5.0",
          "Customer: cust_48dafa78f192391da8e30ca4<br>Orders: 1<br>Spent: $1212.39<br>Avg Review: 4.0",
          "Customer: cust_48e654c2083e0caa3ed1f7ce<br>Orders: 1<br>Spent: $102.31<br>Avg Review: nan",
          "Customer: cust_48f6dbe38b570b4c765b61d5<br>Orders: 1<br>Spent: $1661.09<br>Avg Review: 3.0",
          "Customer: cust_490362ccd6f6e13103730fc9<br>Orders: 1<br>Spent: $531.41<br>Avg Review: nan",
          "Customer: cust_49201e6c8c542a5409d2bb4e<br>Orders: 2<br>Spent: $1533.06<br>Avg Review: 4.0",
          "Customer: cust_49773c6ad6c6b9fe50307d4a<br>Orders: 1<br>Spent: $2708.93<br>Avg Review: 5.0",
          "Customer: cust_4986b77956e79a6608985ac8<br>Orders: 1<br>Spent: $82.52<br>Avg Review: 5.0",
          "Customer: cust_499179679ae4e7321443e30a<br>Orders: 1<br>Spent: $548.14<br>Avg Review: 5.0",
          "Customer: cust_4992f3fc0341390ab093f4a3<br>Orders: 1<br>Spent: $1207.62<br>Avg Review: nan",
          "Customer: cust_49a1a2751153f9f4e95d372b<br>Orders: 1<br>Spent: $2058.76<br>Avg Review: 1.0",
          "Customer: cust_49ca6aef2ac7b42d8684b1cc<br>Orders: 1<br>Spent: $765.35<br>Avg Review: 5.0",
          "Customer: cust_49d5a8e9a4bfa63a1f64f555<br>Orders: 1<br>Spent: $82.39<br>Avg Review: 4.0",
          "Customer: cust_49d9a84b048d55487a29741f<br>Orders: 1<br>Spent: $561.15<br>Avg Review: 5.0",
          "Customer: cust_49e9bdfae7b3063b0b08680e<br>Orders: 1<br>Spent: $418.78<br>Avg Review: 3.0",
          "Customer: cust_49ed953958af840cd6580ec2<br>Orders: 1<br>Spent: $300.1<br>Avg Review: 5.0",
          "Customer: cust_49f4c49790cdf04be5ade2fa<br>Orders: 1<br>Spent: $1376.27<br>Avg Review: 1.0",
          "Customer: cust_49fc2205a3b3b01bf882bb7e<br>Orders: 1<br>Spent: $652.55<br>Avg Review: 5.0",
          "Customer: cust_4a091a50dae07ddfd115fe82<br>Orders: 1<br>Spent: $1890.36<br>Avg Review: 5.0",
          "Customer: cust_4a358ad72cb436fc165d7a7e<br>Orders: 1<br>Spent: $607.94<br>Avg Review: 5.0",
          "Customer: cust_4a3a615c491486d543016ecb<br>Orders: 1<br>Spent: $366.73<br>Avg Review: 5.0",
          "Customer: cust_4a44b537ec527b1a78721354<br>Orders: 1<br>Spent: $145.42<br>Avg Review: 5.0",
          "Customer: cust_4a458c00da825f874ec10964<br>Orders: 1<br>Spent: $844.89<br>Avg Review: 1.0",
          "Customer: cust_4a62b03d8e7abb2320ef8362<br>Orders: 1<br>Spent: $373.57<br>Avg Review: 5.0",
          "Customer: cust_4a65217ff604a28dfae146ae<br>Orders: 3<br>Spent: $2566.56<br>Avg Review: 4.7",
          "Customer: cust_4aa3a77563379533ab16532d<br>Orders: 3<br>Spent: $1375.32<br>Avg Review: 5.0",
          "Customer: cust_4aac5cabc88ac95b8e784c9b<br>Orders: 1<br>Spent: $1669.76<br>Avg Review: nan",
          "Customer: cust_4ac9d04846c16e373c70a102<br>Orders: 1<br>Spent: $1360.4<br>Avg Review: nan",
          "Customer: cust_4acd0196900a817df74c45f9<br>Orders: 1<br>Spent: $4367.13<br>Avg Review: nan",
          "Customer: cust_4ae06401badf5eaae5fd7a64<br>Orders: 2<br>Spent: $1502.82<br>Avg Review: 4.0",
          "Customer: cust_4ae1bc8f2e111b25566aba48<br>Orders: 2<br>Spent: $895.37<br>Avg Review: nan",
          "Customer: cust_4aea37987bb438da06e84187<br>Orders: 1<br>Spent: $153.65<br>Avg Review: 5.0",
          "Customer: cust_4af75bb849b462e36a93e0b3<br>Orders: 2<br>Spent: $2786.83<br>Avg Review: 4.4",
          "Customer: cust_4af92dfd89170c24387223e0<br>Orders: 2<br>Spent: $1023.72<br>Avg Review: 5.0",
          "Customer: cust_4b20ea3e9d43ca391487a772<br>Orders: 3<br>Spent: $998.12<br>Avg Review: 4.5",
          "Customer: cust_4b2edb6f6fb84c4ff9cebc23<br>Orders: 1<br>Spent: $149.47<br>Avg Review: nan",
          "Customer: cust_4b42c511a21574223201bb27<br>Orders: 1<br>Spent: $1420.97<br>Avg Review: 4.0",
          "Customer: cust_4b45952903729818e7e3d484<br>Orders: 3<br>Spent: $1178.38<br>Avg Review: 3.8",
          "Customer: cust_4b4b9c9871d3cb924dca58b3<br>Orders: 1<br>Spent: $1454.3<br>Avg Review: 1.0",
          "Customer: cust_4b4c59690600e61d869069d0<br>Orders: 1<br>Spent: $518.12<br>Avg Review: 4.0",
          "Customer: cust_4b5bc03306c0d9998c39ce53<br>Orders: 1<br>Spent: $97.06<br>Avg Review: nan",
          "Customer: cust_4b7dc38de587689052c61e42<br>Orders: 2<br>Spent: $1237.24<br>Avg Review: nan",
          "Customer: cust_4b935f35b717db02b9c1f53c<br>Orders: 1<br>Spent: $1737.47<br>Avg Review: 4.0",
          "Customer: cust_4bb1c4bca1c83fb292e93480<br>Orders: 1<br>Spent: $62.99<br>Avg Review: nan",
          "Customer: cust_4bb321df9a9e2573fcccbb2e<br>Orders: 1<br>Spent: $15.61<br>Avg Review: 5.0",
          "Customer: cust_4bc0b615afd37e5f223a8ccd<br>Orders: 2<br>Spent: $1129.42<br>Avg Review: 4.2",
          "Customer: cust_4bffab379f86e8fd4accebc6<br>Orders: 1<br>Spent: $1111.67<br>Avg Review: nan",
          "Customer: cust_4c1015bfb4d2cce59e5b7d88<br>Orders: 1<br>Spent: $389.69<br>Avg Review: 4.0",
          "Customer: cust_4c1fce66d09a2f4d518f8b41<br>Orders: 1<br>Spent: $21.63<br>Avg Review: 4.0",
          "Customer: cust_4c213443259e280595b59d5f<br>Orders: 1<br>Spent: $94.51<br>Avg Review: nan",
          "Customer: cust_4c28a66edd38ffa27c5eeddd<br>Orders: 1<br>Spent: $552.31<br>Avg Review: 5.0",
          "Customer: cust_4c2ffa7e1fc7880bd9cbe53b<br>Orders: 1<br>Spent: $62.01<br>Avg Review: nan",
          "Customer: cust_4c4d0138235796a954fdd77c<br>Orders: 2<br>Spent: $298.44<br>Avg Review: 4.0",
          "Customer: cust_4c5c6dda075310daf1dd3cf6<br>Orders: 1<br>Spent: $452.26<br>Avg Review: nan",
          "Customer: cust_4c9de8f56db4addd0b954d1d<br>Orders: 1<br>Spent: $205.4<br>Avg Review: 5.0",
          "Customer: cust_4cc67a70fffe2a9276e20b65<br>Orders: 1<br>Spent: $223.47<br>Avg Review: 5.0",
          "Customer: cust_4cccb84142268031a35440b1<br>Orders: 2<br>Spent: $1177.52<br>Avg Review: 4.0",
          "Customer: cust_4cdcfbebcc0437cf52721bfa<br>Orders: 1<br>Spent: $1211.48<br>Avg Review: 5.0",
          "Customer: cust_4cf422ce31d24df3d7e2f53a<br>Orders: 1<br>Spent: $139.45<br>Avg Review: 4.0",
          "Customer: cust_4d287f5a3494e8ab669220d7<br>Orders: 2<br>Spent: $716.53<br>Avg Review: 4.3",
          "Customer: cust_4d28f6e1b428b285fcc7e99e<br>Orders: 1<br>Spent: $449.73<br>Avg Review: nan",
          "Customer: cust_4d2b627afaaa2392f2239042<br>Orders: 3<br>Spent: $2884.35<br>Avg Review: 3.0",
          "Customer: cust_4d599b91c00a8ac601c01d79<br>Orders: 1<br>Spent: $3192.47<br>Avg Review: 5.0",
          "Customer: cust_4d6e3970e9e0a96b0c0971eb<br>Orders: 1<br>Spent: $2218.2<br>Avg Review: 4.0",
          "Customer: cust_4d79ebd61af9fc0f64092482<br>Orders: 1<br>Spent: $981.85<br>Avg Review: 5.0",
          "Customer: cust_4d81222deca51cc65e6096ed<br>Orders: 2<br>Spent: $3264.64<br>Avg Review: 3.3",
          "Customer: cust_4d8443cd383db2ae29273952<br>Orders: 1<br>Spent: $716.27<br>Avg Review: 5.0",
          "Customer: cust_4d9553127f3e45f9546ba5e0<br>Orders: 2<br>Spent: $808.7<br>Avg Review: 4.0",
          "Customer: cust_4da7fc6ec05c3777696e0c41<br>Orders: 1<br>Spent: $514.24<br>Avg Review: 4.0",
          "Customer: cust_4dc905ea16b96bee28c5bf88<br>Orders: 1<br>Spent: $151.2<br>Avg Review: 3.0",
          "Customer: cust_4dd2dd92c4fe5d5c3deff34d<br>Orders: 1<br>Spent: $351.99<br>Avg Review: nan",
          "Customer: cust_4df50bf4d6619790e8a0830a<br>Orders: 2<br>Spent: $1584.89<br>Avg Review: 3.7",
          "Customer: cust_4df75bd506c8576db19f2184<br>Orders: 1<br>Spent: $112.08<br>Avg Review: 5.0",
          "Customer: cust_4dfaf54fc11d2919cfea8c82<br>Orders: 2<br>Spent: $575.67<br>Avg Review: 4.0",
          "Customer: cust_4e09b37b19aace3ada5adb50<br>Orders: 1<br>Spent: $56.26<br>Avg Review: 5.0",
          "Customer: cust_4e1326fbaa4b8fd3df799bee<br>Orders: 1<br>Spent: $296.5<br>Avg Review: 5.0",
          "Customer: cust_4e194c62337ab0418f2dea54<br>Orders: 1<br>Spent: $588.15<br>Avg Review: 2.0",
          "Customer: cust_4e25f5415f6cf9c38abb30ee<br>Orders: 1<br>Spent: $602.77<br>Avg Review: 4.0",
          "Customer: cust_4e4e7aa6b621abbb10509285<br>Orders: 1<br>Spent: $1020.6<br>Avg Review: 4.0",
          "Customer: cust_4e70e54e947a5bfa31300140<br>Orders: 1<br>Spent: $492.64<br>Avg Review: 5.0",
          "Customer: cust_4e8419085c661f59ac5c1e54<br>Orders: 2<br>Spent: $1450.13<br>Avg Review: 5.0",
          "Customer: cust_4e9cfae6fa019771adba38d5<br>Orders: 2<br>Spent: $1410.47<br>Avg Review: 4.0",
          "Customer: cust_4edd7b77515f2ef666655061<br>Orders: 1<br>Spent: $1114.09<br>Avg Review: 5.0",
          "Customer: cust_4ee474464493686ed6aca031<br>Orders: 1<br>Spent: $2336.44<br>Avg Review: 5.0",
          "Customer: cust_4ef3db63435826deb3e36310<br>Orders: 1<br>Spent: $1013.81<br>Avg Review: 3.0",
          "Customer: cust_4efed57c4eb6aa7f64f001c7<br>Orders: 2<br>Spent: $3703.92<br>Avg Review: 3.9",
          "Customer: cust_4f0eb9427372ba94f03574ae<br>Orders: 1<br>Spent: $195.74<br>Avg Review: 4.0",
          "Customer: cust_4f1e23f3339050b12707db9a<br>Orders: 2<br>Spent: $3707.76<br>Avg Review: 3.4",
          "Customer: cust_4f2d824c4b37d274f9e3aabe<br>Orders: 1<br>Spent: $246.16<br>Avg Review: 4.0",
          "Customer: cust_4f3c13ca60618f672691abd4<br>Orders: 2<br>Spent: $427.8<br>Avg Review: nan",
          "Customer: cust_4f474f0850bf602aecac30d8<br>Orders: 1<br>Spent: $459.87<br>Avg Review: 3.0",
          "Customer: cust_4f67633eb9520585d47e80c7<br>Orders: 1<br>Spent: $577.79<br>Avg Review: 4.0",
          "Customer: cust_4f6e95a4eca2ee5c7f95b7ec<br>Orders: 1<br>Spent: $967.97<br>Avg Review: 1.0",
          "Customer: cust_4f83b7d81aa518927e81507b<br>Orders: 1<br>Spent: $233.37<br>Avg Review: nan",
          "Customer: cust_4f9aedef76189523c3762eea<br>Orders: 1<br>Spent: $411.76<br>Avg Review: nan",
          "Customer: cust_4fa0b72b7dfc24b1ac6c0224<br>Orders: 1<br>Spent: $1536.61<br>Avg Review: nan",
          "Customer: cust_4fa64ef5106d534a2ddf5ad9<br>Orders: 1<br>Spent: $574.9<br>Avg Review: 5.0",
          "Customer: cust_4fb1a48c86ce743f38bb1611<br>Orders: 1<br>Spent: $45.61<br>Avg Review: 4.0",
          "Customer: cust_4fc76e1d9488a90bb74cb4cc<br>Orders: 1<br>Spent: $421.08<br>Avg Review: 4.0",
          "Customer: cust_503dab2424cc4f1bb8162810<br>Orders: 2<br>Spent: $936.17<br>Avg Review: 2.0",
          "Customer: cust_5048547289a3f3bdb36113d7<br>Orders: 1<br>Spent: $1388.21<br>Avg Review: nan",
          "Customer: cust_50611710e0cdce1cb8ca755c<br>Orders: 1<br>Spent: $340.71<br>Avg Review: nan",
          "Customer: cust_5097db56f7b9a6732b08c67f<br>Orders: 1<br>Spent: $2069.38<br>Avg Review: 5.0",
          "Customer: cust_509be0f720342ef9f0a015bf<br>Orders: 1<br>Spent: $63.32<br>Avg Review: nan",
          "Customer: cust_50b8ee30a7d942458eb8022b<br>Orders: 2<br>Spent: $121.56<br>Avg Review: 3.0",
          "Customer: cust_50c7a2a99833f87d69a69bb7<br>Orders: 1<br>Spent: $1644.24<br>Avg Review: 5.0",
          "Customer: cust_50e2104f146f911f9ae74b8e<br>Orders: 1<br>Spent: $143.8<br>Avg Review: 5.0",
          "Customer: cust_50e7f5447cdc1ae416f026c0<br>Orders: 2<br>Spent: $878.35<br>Avg Review: 4.0",
          "Customer: cust_50febb6c560afdd175b4a325<br>Orders: 1<br>Spent: $398.55<br>Avg Review: 5.0",
          "Customer: cust_51285e34da8931d18addda02<br>Orders: 2<br>Spent: $584.67<br>Avg Review: 2.0",
          "Customer: cust_5152da2a0e5ac9e10bc0fa53<br>Orders: 1<br>Spent: $2256.44<br>Avg Review: 5.0",
          "Customer: cust_515c55323f1b5c728e440519<br>Orders: 3<br>Spent: $1657.54<br>Avg Review: 4.7",
          "Customer: cust_516a706eb60d803e588249a7<br>Orders: 3<br>Spent: $263.52<br>Avg Review: 5.0",
          "Customer: cust_51c8a5f28966cbbcb2632eb8<br>Orders: 1<br>Spent: $171.93<br>Avg Review: nan",
          "Customer: cust_51ca9c458dd5dd28bf6d3a7d<br>Orders: 1<br>Spent: $1702.01<br>Avg Review: nan",
          "Customer: cust_51fc0e8e4d1da08d30e84c4c<br>Orders: 1<br>Spent: $548.72<br>Avg Review: 5.0",
          "Customer: cust_51fea33c9c406ed682502b29<br>Orders: 4<br>Spent: $2622.52<br>Avg Review: 4.1",
          "Customer: cust_529af0f473d42a0720d7faf8<br>Orders: 1<br>Spent: $292.06<br>Avg Review: 3.0",
          "Customer: cust_52bb0e4f9be2c4ba7be76493<br>Orders: 1<br>Spent: $1597.45<br>Avg Review: 5.0",
          "Customer: cust_52c8545e1be1fd42d09356b1<br>Orders: 1<br>Spent: $138.65<br>Avg Review: 2.0",
          "Customer: cust_52fdfa0620bbf2e7dc716d3d<br>Orders: 1<br>Spent: $80.75<br>Avg Review: 5.0",
          "Customer: cust_5307094b38f3cd474b64ae4a<br>Orders: 3<br>Spent: $1061.5<br>Avg Review: 3.0",
          "Customer: cust_532d991e640056536f4f4252<br>Orders: 3<br>Spent: $1771.72<br>Avg Review: 3.5",
          "Customer: cust_537443e355deff0286fdf30f<br>Orders: 1<br>Spent: $1858.5<br>Avg Review: nan",
          "Customer: cust_537b13451e3dfd4b3ce60bdd<br>Orders: 3<br>Spent: $436.87<br>Avg Review: 5.0",
          "Customer: cust_53994eebd334d9ad48f84cc7<br>Orders: 1<br>Spent: $902.15<br>Avg Review: 4.0",
          "Customer: cust_53999f0b5237d5e6c8f424eb<br>Orders: 2<br>Spent: $1730.47<br>Avg Review: 3.6",
          "Customer: cust_53a2623c20b8dea29476d8cd<br>Orders: 1<br>Spent: $1418.34<br>Avg Review: 1.0",
          "Customer: cust_53e1d763db9940e048660260<br>Orders: 1<br>Spent: $32.17<br>Avg Review: 4.0",
          "Customer: cust_541de2cfd092d77e4434ff76<br>Orders: 2<br>Spent: $1559.07<br>Avg Review: 4.0",
          "Customer: cust_543a11dbe37a6dbc9f4d599f<br>Orders: 1<br>Spent: $696.27<br>Avg Review: 1.0",
          "Customer: cust_5451e3447b31549353318e8d<br>Orders: 3<br>Spent: $1491.66<br>Avg Review: 4.5",
          "Customer: cust_545373e6dedccd7bf9f962a0<br>Orders: 1<br>Spent: $916.43<br>Avg Review: 4.0",
          "Customer: cust_5464106d4f3d7a9dc83adbe4<br>Orders: 1<br>Spent: $36.92<br>Avg Review: 2.0",
          "Customer: cust_5469af865207bf154545dec7<br>Orders: 2<br>Spent: $239.3<br>Avg Review: 2.0",
          "Customer: cust_5471c8c2a7b2055247363d82<br>Orders: 1<br>Spent: $29.68<br>Avg Review: 4.0",
          "Customer: cust_54940a766111db72eb70f043<br>Orders: 1<br>Spent: $1551.78<br>Avg Review: 5.0",
          "Customer: cust_549e508f74818cacfaab1db7<br>Orders: 2<br>Spent: $306.79<br>Avg Review: 5.0",
          "Customer: cust_54b01bd963c846cfd96a33e3<br>Orders: 1<br>Spent: $2575.42<br>Avg Review: 4.0",
          "Customer: cust_54c687bd651238a13f5c7097<br>Orders: 1<br>Spent: $49.6<br>Avg Review: 4.0",
          "Customer: cust_54d8fc4869bd3ac8c2b63d1c<br>Orders: 2<br>Spent: $2001.68<br>Avg Review: 3.0",
          "Customer: cust_54e519ac073ce1ae8a58ddf9<br>Orders: 1<br>Spent: $233.64<br>Avg Review: nan",
          "Customer: cust_54f056e65a9cbb6ef9e80cee<br>Orders: 3<br>Spent: $4423.3<br>Avg Review: 3.4",
          "Customer: cust_551b340240d914afabca9891<br>Orders: 2<br>Spent: $876.15<br>Avg Review: 4.0",
          "Customer: cust_552bfaccf33a64afa2daa728<br>Orders: 1<br>Spent: $67.34<br>Avg Review: nan",
          "Customer: cust_5532ce4eb31c807e6799ef29<br>Orders: 3<br>Spent: $3404.39<br>Avg Review: 4.5",
          "Customer: cust_5533fe5efbc084485fde6703<br>Orders: 2<br>Spent: $2517.55<br>Avg Review: 4.0",
          "Customer: cust_553d8a55d662c5c1ddd3a6c6<br>Orders: 5<br>Spent: $3621.11<br>Avg Review: 4.0",
          "Customer: cust_5554592b4308bbb91fceb3e2<br>Orders: 2<br>Spent: $2345.64<br>Avg Review: 5.0",
          "Customer: cust_5562baca07a58c0f38719522<br>Orders: 1<br>Spent: $611.86<br>Avg Review: 5.0",
          "Customer: cust_557ee6122b9e5458eca14a5f<br>Orders: 2<br>Spent: $129.43<br>Avg Review: 5.0",
          "Customer: cust_558e94c721ac0fc4fcba549b<br>Orders: 1<br>Spent: $1157.88<br>Avg Review: 5.0",
          "Customer: cust_55a42d38938e6993b621f1cb<br>Orders: 1<br>Spent: $779.07<br>Avg Review: nan",
          "Customer: cust_55d1c066dd2414d47a51af20<br>Orders: 1<br>Spent: $251.96<br>Avg Review: nan",
          "Customer: cust_55db4a7a794c0c1c8ff11f6b<br>Orders: 2<br>Spent: $1737.73<br>Avg Review: 4.0",
          "Customer: cust_5603c6f3d0523a6b17e932f0<br>Orders: 1<br>Spent: $171.09<br>Avg Review: 5.0",
          "Customer: cust_56181b9a566b41c0e371a336<br>Orders: 1<br>Spent: $668.88<br>Avg Review: nan",
          "Customer: cust_56596fb5adf8aedde14518e2<br>Orders: 1<br>Spent: $344.48<br>Avg Review: 4.0",
          "Customer: cust_565dc90fdde89637b8b18c6c<br>Orders: 1<br>Spent: $296.23<br>Avg Review: 1.0",
          "Customer: cust_566716af86e4f3878a0767a0<br>Orders: 1<br>Spent: $224.5<br>Avg Review: nan",
          "Customer: cust_5677102e770f87ddc07fe2b2<br>Orders: 1<br>Spent: $362.29<br>Avg Review: 2.0",
          "Customer: cust_567b92cf68a65bd72ee773fb<br>Orders: 3<br>Spent: $2241.97<br>Avg Review: 2.5",
          "Customer: cust_569c65a3d0a3b3d3c73169b0<br>Orders: 1<br>Spent: $1318.99<br>Avg Review: nan",
          "Customer: cust_56be777848458536d0867bed<br>Orders: 1<br>Spent: $1069.39<br>Avg Review: 5.0",
          "Customer: cust_56beb6c53310000aaba31bc7<br>Orders: 1<br>Spent: $447.16<br>Avg Review: nan",
          "Customer: cust_56d823ac270da0cdac2b0ef8<br>Orders: 3<br>Spent: $2688.63<br>Avg Review: 4.5",
          "Customer: cust_56f2171fdabac84186190370<br>Orders: 2<br>Spent: $2926.19<br>Avg Review: nan",
          "Customer: cust_57191c7f0765ba793081e46c<br>Orders: 2<br>Spent: $861.78<br>Avg Review: 2.5",
          "Customer: cust_57352053371fbdffbc0f282b<br>Orders: 1<br>Spent: $23.49<br>Avg Review: nan",
          "Customer: cust_57477a9c2bdc175749e83d72<br>Orders: 2<br>Spent: $2312.28<br>Avg Review: 3.5",
          "Customer: cust_57517a374bd5d80a14eb1401<br>Orders: 1<br>Spent: $211.08<br>Avg Review: 5.0",
          "Customer: cust_576bd6de04527f3a0c5f0297<br>Orders: 1<br>Spent: $1644.23<br>Avg Review: nan",
          "Customer: cust_57731f8e073632fd4be464b6<br>Orders: 2<br>Spent: $462.12<br>Avg Review: 4.0",
          "Customer: cust_57772e1e3ff69b8634047453<br>Orders: 2<br>Spent: $2817.31<br>Avg Review: 4.6",
          "Customer: cust_5789b5d345efc60cb5bd204a<br>Orders: 1<br>Spent: $1292.26<br>Avg Review: nan",
          "Customer: cust_57bd25db28dbddd36e1ef3f7<br>Orders: 1<br>Spent: $75.53<br>Avg Review: nan",
          "Customer: cust_57bf6acb6187fdfc43b0562d<br>Orders: 1<br>Spent: $43.88<br>Avg Review: 3.0",
          "Customer: cust_57d9784f5f51e5660a8955cb<br>Orders: 1<br>Spent: $144.92<br>Avg Review: 2.0",
          "Customer: cust_5818a780a19a2523c0ba7ce6<br>Orders: 1<br>Spent: $99.17<br>Avg Review: 3.0",
          "Customer: cust_583441f0a4bd3bda6af9f852<br>Orders: 2<br>Spent: $1310.6<br>Avg Review: nan",
          "Customer: cust_5843df3dc694eb3695096557<br>Orders: 2<br>Spent: $1996.73<br>Avg Review: 4.0",
          "Customer: cust_5854e85b156b8b5d443b1a27<br>Orders: 1<br>Spent: $2189.15<br>Avg Review: 4.0",
          "Customer: cust_585b246bc8365dfb7a4b55c4<br>Orders: 1<br>Spent: $178.75<br>Avg Review: nan",
          "Customer: cust_586223013fcf84086bc5c177<br>Orders: 2<br>Spent: $1399.34<br>Avg Review: 4.0",
          "Customer: cust_586241411e579e8b17d5611f<br>Orders: 1<br>Spent: $1459.15<br>Avg Review: nan",
          "Customer: cust_586322a7f8e53602c622ada5<br>Orders: 1<br>Spent: $1142.5<br>Avg Review: 5.0",
          "Customer: cust_586451f5bdb6a30da44e2eaa<br>Orders: 2<br>Spent: $2180.21<br>Avg Review: 3.5",
          "Customer: cust_588a1d9b71e4765fa0a644e6<br>Orders: 1<br>Spent: $114.58<br>Avg Review: 5.0",
          "Customer: cust_588f991abfcb7a216a13d84f<br>Orders: 2<br>Spent: $803.43<br>Avg Review: 4.0",
          "Customer: cust_589708bf880a1e15d5058c4f<br>Orders: 1<br>Spent: $972.3<br>Avg Review: 2.0",
          "Customer: cust_58b4bb3a36e196a6083ab479<br>Orders: 1<br>Spent: $1573.15<br>Avg Review: nan",
          "Customer: cust_58cf5a0d993163f2c9134d82<br>Orders: 1<br>Spent: $59.76<br>Avg Review: 4.0",
          "Customer: cust_58e0a30c3b97779d212e190e<br>Orders: 1<br>Spent: $308.75<br>Avg Review: 1.0",
          "Customer: cust_58e87b845c83be1059a47516<br>Orders: 1<br>Spent: $617.41<br>Avg Review: 4.0",
          "Customer: cust_58ee56c0219dd78f9f4e761e<br>Orders: 1<br>Spent: $52.82<br>Avg Review: nan",
          "Customer: cust_590939b59593b81ef9be2b96<br>Orders: 1<br>Spent: $1005.62<br>Avg Review: 5.0",
          "Customer: cust_59134bc187089f8d61b543f7<br>Orders: 3<br>Spent: $2070.43<br>Avg Review: 5.0",
          "Customer: cust_5918b5895e1d84dd7d91250b<br>Orders: 3<br>Spent: $2377.27<br>Avg Review: 4.0",
          "Customer: cust_591be0144133cd0da2d0c549<br>Orders: 1<br>Spent: $118.19<br>Avg Review: nan",
          "Customer: cust_59226d9e9ca2a2d4a8110669<br>Orders: 1<br>Spent: $138.89<br>Avg Review: 5.0",
          "Customer: cust_593df7b1ca3677754016e50a<br>Orders: 1<br>Spent: $2220.32<br>Avg Review: nan",
          "Customer: cust_5943cf25476997f41a515e5b<br>Orders: 2<br>Spent: $138.81<br>Avg Review: 1.0",
          "Customer: cust_597d5fc52789b2ea0c927cc5<br>Orders: 1<br>Spent: $696.13<br>Avg Review: 2.0",
          "Customer: cust_5988b33e3867f552bf4c60ab<br>Orders: 1<br>Spent: $298.05<br>Avg Review: 5.0",
          "Customer: cust_5997497c38155cf3e19e05f7<br>Orders: 1<br>Spent: $282.48<br>Avg Review: 4.0",
          "Customer: cust_599ddc7e673cd9f40d6b39f2<br>Orders: 1<br>Spent: $250.37<br>Avg Review: 5.0",
          "Customer: cust_599f6f746eeaad6344f77308<br>Orders: 2<br>Spent: $1926.68<br>Avg Review: nan",
          "Customer: cust_59b07f87a3d767f8c1e2f72f<br>Orders: 1<br>Spent: $1106.31<br>Avg Review: 5.0",
          "Customer: cust_59bf4de2f543acdaa5dae869<br>Orders: 1<br>Spent: $874.52<br>Avg Review: nan",
          "Customer: cust_59d3624707b816bf0eb0ed24<br>Orders: 3<br>Spent: $425.79<br>Avg Review: 5.0",
          "Customer: cust_59d881478e5b25a7c6180e82<br>Orders: 2<br>Spent: $857.8<br>Avg Review: 5.0",
          "Customer: cust_59db55cbcd10883d4bffca28<br>Orders: 1<br>Spent: $1776.4<br>Avg Review: 4.0",
          "Customer: cust_59e6143f9172d89139f6d729<br>Orders: 1<br>Spent: $1221.87<br>Avg Review: 5.0",
          "Customer: cust_5a25a55797214ddff479f9b2<br>Orders: 1<br>Spent: $125.58<br>Avg Review: nan",
          "Customer: cust_5a2aba601f7a987292087a10<br>Orders: 1<br>Spent: $917.01<br>Avg Review: 4.0",
          "Customer: cust_5a3161cf416dc93e2b5b966e<br>Orders: 1<br>Spent: $1420.46<br>Avg Review: 5.0",
          "Customer: cust_5a3dfa2cc89172569b3e541c<br>Orders: 1<br>Spent: $2146.65<br>Avg Review: 5.0",
          "Customer: cust_5a653203fd78c4fada68da4e<br>Orders: 1<br>Spent: $272.67<br>Avg Review: nan",
          "Customer: cust_5aa8d4b3c19c5de59516745a<br>Orders: 1<br>Spent: $346.13<br>Avg Review: nan",
          "Customer: cust_5aab2232f18a8a67475bd8f6<br>Orders: 1<br>Spent: $45.26<br>Avg Review: 5.0",
          "Customer: cust_5aae63cd658e882cea4067cb<br>Orders: 1<br>Spent: $66.32<br>Avg Review: nan",
          "Customer: cust_5acafd57b0ab372d34bf764c<br>Orders: 4<br>Spent: $817.56<br>Avg Review: 3.7",
          "Customer: cust_5add5403dd5dcaeda26b7a23<br>Orders: 2<br>Spent: $149.69<br>Avg Review: 2.0",
          "Customer: cust_5af259982bb7a165284f493f<br>Orders: 1<br>Spent: $1030.15<br>Avg Review: 5.0",
          "Customer: cust_5af479d5478b73d866c19979<br>Orders: 1<br>Spent: $29.4<br>Avg Review: nan",
          "Customer: cust_5b33743b76bfdc9f165fccca<br>Orders: 2<br>Spent: $726.45<br>Avg Review: 5.0",
          "Customer: cust_5b3cde2d7d43aa7a894976dd<br>Orders: 1<br>Spent: $78.86<br>Avg Review: nan",
          "Customer: cust_5b5d5d49fdcc07946d332d79<br>Orders: 1<br>Spent: $877.72<br>Avg Review: 4.0",
          "Customer: cust_5b61e8376a518464a4c83ee1<br>Orders: 1<br>Spent: $87.7<br>Avg Review: 5.0",
          "Customer: cust_5b6437b533b34ebd3c7d553b<br>Orders: 1<br>Spent: $49.46<br>Avg Review: 5.0",
          "Customer: cust_5b9a7e1d4572ed20d7ad7ea9<br>Orders: 1<br>Spent: $730.48<br>Avg Review: nan",
          "Customer: cust_5b9ab3e5453f5a675a1595b3<br>Orders: 2<br>Spent: $2747.82<br>Avg Review: 2.2",
          "Customer: cust_5bc888bda9d983db0f7b7a09<br>Orders: 1<br>Spent: $190.31<br>Avg Review: 4.0",
          "Customer: cust_5bd3a5c2ff3d268c6f4fa1b6<br>Orders: 1<br>Spent: $567.37<br>Avg Review: nan",
          "Customer: cust_5bdef2ce3d144706f2bf401e<br>Orders: 1<br>Spent: $1932.49<br>Avg Review: 3.0",
          "Customer: cust_5bea259b3b302b01c3271a19<br>Orders: 1<br>Spent: $16.59<br>Avg Review: nan",
          "Customer: cust_5c0564a46ad2a8d3bab784ba<br>Orders: 1<br>Spent: $20.01<br>Avg Review: nan",
          "Customer: cust_5c0dc3da89802c6446ae646a<br>Orders: 2<br>Spent: $1014.54<br>Avg Review: 2.3",
          "Customer: cust_5c1c8a8dee5bdfe988f40ecb<br>Orders: 1<br>Spent: $2010.58<br>Avg Review: 5.0",
          "Customer: cust_5c2c21cf24b412135d81b58a<br>Orders: 1<br>Spent: $303.49<br>Avg Review: nan",
          "Customer: cust_5c33fb2c2adb66888af20076<br>Orders: 1<br>Spent: $992.94<br>Avg Review: 4.0",
          "Customer: cust_5c57f66e646fb697e88bfe41<br>Orders: 2<br>Spent: $1131.91<br>Avg Review: nan",
          "Customer: cust_5c6299c690d43bc65d8578e1<br>Orders: 1<br>Spent: $812.26<br>Avg Review: 5.0",
          "Customer: cust_5c7329534c415b323e347c20<br>Orders: 1<br>Spent: $663.12<br>Avg Review: 5.0",
          "Customer: cust_5c7a63d57a76b4a2b46e8175<br>Orders: 1<br>Spent: $255.87<br>Avg Review: nan",
          "Customer: cust_5c94de60a16847be3bc4a60d<br>Orders: 1<br>Spent: $698.06<br>Avg Review: 5.0",
          "Customer: cust_5c9750ebc7f87dd1349477b9<br>Orders: 1<br>Spent: $630.6<br>Avg Review: nan",
          "Customer: cust_5caefe29dd6a6fcc50bdfc78<br>Orders: 1<br>Spent: $673.82<br>Avg Review: nan",
          "Customer: cust_5cb61040a4724275ec21c410<br>Orders: 1<br>Spent: $476.76<br>Avg Review: 5.0",
          "Customer: cust_5cbe78884c5a9dfb0f063bef<br>Orders: 2<br>Spent: $2628.3<br>Avg Review: 4.0",
          "Customer: cust_5cbf4cfd6a416414ae2e95a1<br>Orders: 1<br>Spent: $272.4<br>Avg Review: 5.0",
          "Customer: cust_5cf27366d7e18ba4ce7088f3<br>Orders: 1<br>Spent: $336.23<br>Avg Review: 5.0",
          "Customer: cust_5cf88b8ae0d7c88c1e25301c<br>Orders: 2<br>Spent: $1078.04<br>Avg Review: 4.2",
          "Customer: cust_5d076b369e5d144180e39506<br>Orders: 1<br>Spent: $1185.92<br>Avg Review: 5.0",
          "Customer: cust_5d0956c982a9e08a3fe05dd0<br>Orders: 1<br>Spent: $197.2<br>Avg Review: nan",
          "Customer: cust_5d0b12196e373bbcf6f01d1a<br>Orders: 1<br>Spent: $10.31<br>Avg Review: 5.0",
          "Customer: cust_5d5cbd2968d4f51dbc23d849<br>Orders: 3<br>Spent: $2958.55<br>Avg Review: 3.0",
          "Customer: cust_5d6ca293eaaa5ee70c56f17a<br>Orders: 1<br>Spent: $1639.16<br>Avg Review: nan",
          "Customer: cust_5d8241efb698f0f002250101<br>Orders: 1<br>Spent: $476.91<br>Avg Review: 5.0",
          "Customer: cust_5da4336b1b956a2ba37b0c8f<br>Orders: 1<br>Spent: $635.53<br>Avg Review: 5.0",
          "Customer: cust_5dacff14f931a01f874b0645<br>Orders: 3<br>Spent: $548.38<br>Avg Review: 4.8",
          "Customer: cust_5dd66dd3f3a9eff2ac49974a<br>Orders: 1<br>Spent: $334.26<br>Avg Review: 3.0",
          "Customer: cust_5df461b362d97d149a5f1384<br>Orders: 1<br>Spent: $688.61<br>Avg Review: nan",
          "Customer: cust_5dfe3426bd6bd1b0056c691f<br>Orders: 1<br>Spent: $481.68<br>Avg Review: 3.0",
          "Customer: cust_5e12171ce1dfbba8e53dc07d<br>Orders: 2<br>Spent: $653.48<br>Avg Review: 3.0",
          "Customer: cust_5e1b0f1e993f8085e381d3a7<br>Orders: 3<br>Spent: $995.2<br>Avg Review: 3.3",
          "Customer: cust_5e2fcd54485c639004308a61<br>Orders: 2<br>Spent: $2788.09<br>Avg Review: 4.3",
          "Customer: cust_5e35a7527c4915de253d5db4<br>Orders: 1<br>Spent: $948.21<br>Avg Review: nan",
          "Customer: cust_5e6008d22cbc680275b91e8f<br>Orders: 1<br>Spent: $258.76<br>Avg Review: 3.0",
          "Customer: cust_5e65c390d20b05ba2e8276cb<br>Orders: 1<br>Spent: $209.73<br>Avg Review: 5.0",
          "Customer: cust_5e6807c71c4facb7cfda9e39<br>Orders: 2<br>Spent: $692.94<br>Avg Review: 5.0",
          "Customer: cust_5e764c9901e1819fe511379c<br>Orders: 1<br>Spent: $684.91<br>Avg Review: nan",
          "Customer: cust_5efa8fe48ad518829887b477<br>Orders: 2<br>Spent: $857.71<br>Avg Review: 4.0",
          "Customer: cust_5efeb8a25ac6cd145fc9dbd1<br>Orders: 1<br>Spent: $1417.37<br>Avg Review: 5.0",
          "Customer: cust_5f0e86c394f732c6fff496bc<br>Orders: 2<br>Spent: $194.24<br>Avg Review: 2.0",
          "Customer: cust_5f1ec2c0bf8885b01ad3f6e3<br>Orders: 1<br>Spent: $39.22<br>Avg Review: 5.0",
          "Customer: cust_5f8eab39cc8ee88403b424bf<br>Orders: 1<br>Spent: $142.18<br>Avg Review: nan",
          "Customer: cust_5fa1712f3927fb71228c6d6a<br>Orders: 3<br>Spent: $2257.84<br>Avg Review: 5.0",
          "Customer: cust_5fa91a5d7a33f84ec45f8d59<br>Orders: 2<br>Spent: $2202.12<br>Avg Review: 5.0",
          "Customer: cust_5fab1a0059c9ed7c948376ee<br>Orders: 1<br>Spent: $33.0<br>Avg Review: 5.0",
          "Customer: cust_5faf745766d536166f27bad4<br>Orders: 2<br>Spent: $657.46<br>Avg Review: 5.0",
          "Customer: cust_5fc680413717a4208503c01c<br>Orders: 1<br>Spent: $438.35<br>Avg Review: 2.0",
          "Customer: cust_601c835194ff00ae9366cb6f<br>Orders: 1<br>Spent: $830.97<br>Avg Review: 4.0",
          "Customer: cust_602c5f4b8d47741883d9e34b<br>Orders: 2<br>Spent: $168.71<br>Avg Review: 4.0",
          "Customer: cust_6031beb13467936773eb779e<br>Orders: 1<br>Spent: $187.22<br>Avg Review: 5.0",
          "Customer: cust_605e22c6f0ba93aa9f74cd49<br>Orders: 1<br>Spent: $32.35<br>Avg Review: nan",
          "Customer: cust_606adcd917e795289e39d723<br>Orders: 1<br>Spent: $265.2<br>Avg Review: 5.0",
          "Customer: cust_60850bb0420b7fd3ed88e31d<br>Orders: 2<br>Spent: $342.02<br>Avg Review: 3.7",
          "Customer: cust_60a57f0eff32c3123835f426<br>Orders: 1<br>Spent: $193.72<br>Avg Review: nan",
          "Customer: cust_60aa29405d85d2d954dfe12a<br>Orders: 1<br>Spent: $1636.08<br>Avg Review: 5.0",
          "Customer: cust_60b5cccadffb6cc5877bc013<br>Orders: 2<br>Spent: $1058.22<br>Avg Review: 5.0",
          "Customer: cust_60cf26fd6c6600778dcc1def<br>Orders: 1<br>Spent: $865.74<br>Avg Review: 3.0",
          "Customer: cust_60dd109982c872a07e28d8f1<br>Orders: 2<br>Spent: $1986.3<br>Avg Review: 5.0",
          "Customer: cust_611c0fa123f6d939a79d8c05<br>Orders: 1<br>Spent: $1129.11<br>Avg Review: nan",
          "Customer: cust_6138d5221a268d0e623ec5c1<br>Orders: 1<br>Spent: $417.63<br>Avg Review: 5.0",
          "Customer: cust_6177fe0f3e9f752f67562da9<br>Orders: 1<br>Spent: $77.63<br>Avg Review: 5.0",
          "Customer: cust_617b8dae7f09a6bb9e62c1d0<br>Orders: 1<br>Spent: $550.47<br>Avg Review: nan",
          "Customer: cust_6183cf5fdfc5f3267368ba8c<br>Orders: 2<br>Spent: $1253.4<br>Avg Review: 2.0",
          "Customer: cust_618ac7457714552b71e97d29<br>Orders: 1<br>Spent: $1009.43<br>Avg Review: 3.0",
          "Customer: cust_619242e4b9e4fefcc994d8ef<br>Orders: 1<br>Spent: $28.09<br>Avg Review: 5.0",
          "Customer: cust_61b3f2ed4ecd951a072ab3b6<br>Orders: 1<br>Spent: $239.2<br>Avg Review: nan",
          "Customer: cust_61c6ea878bf424217e7ac87a<br>Orders: 1<br>Spent: $61.36<br>Avg Review: nan",
          "Customer: cust_61d0acb2a01c2a08b0f0311b<br>Orders: 1<br>Spent: $752.84<br>Avg Review: 5.0",
          "Customer: cust_61e7ddb6c7603da8fab660a3<br>Orders: 1<br>Spent: $1817.31<br>Avg Review: nan",
          "Customer: cust_622301edb918e9850dc74f98<br>Orders: 2<br>Spent: $1892.87<br>Avg Review: 5.0",
          "Customer: cust_6256d5b515e49e3e3302d080<br>Orders: 1<br>Spent: $683.49<br>Avg Review: 5.0",
          "Customer: cust_627b0c4e432bdd5614f34efc<br>Orders: 1<br>Spent: $184.19<br>Avg Review: nan",
          "Customer: cust_628e50d143b076563ca03ec7<br>Orders: 2<br>Spent: $1642.31<br>Avg Review: 5.0",
          "Customer: cust_62967f1600611e66f4372f72<br>Orders: 1<br>Spent: $275.24<br>Avg Review: 3.0",
          "Customer: cust_62b7b2e25889dc9f2a11b428<br>Orders: 1<br>Spent: $1390.07<br>Avg Review: nan",
          "Customer: cust_62c21261644e391d93d4de1c<br>Orders: 1<br>Spent: $1036.66<br>Avg Review: 5.0",
          "Customer: cust_62c4dcf9e1c965448064bdb9<br>Orders: 1<br>Spent: $135.63<br>Avg Review: 4.0",
          "Customer: cust_62cb6819adca0f57b59ed4e3<br>Orders: 1<br>Spent: $577.34<br>Avg Review: 3.0",
          "Customer: cust_62ddce33b9474b81f80df96a<br>Orders: 1<br>Spent: $186.22<br>Avg Review: 5.0",
          "Customer: cust_62e81d0ac79fd96c615d365c<br>Orders: 1<br>Spent: $77.99<br>Avg Review: 5.0",
          "Customer: cust_62edbd3bcde02ad12a2b0f99<br>Orders: 1<br>Spent: $1961.02<br>Avg Review: nan",
          "Customer: cust_62ff91d50bbdd248e0daf3dc<br>Orders: 1<br>Spent: $346.88<br>Avg Review: 4.0",
          "Customer: cust_63061e293ef8d8ea37fc891e<br>Orders: 1<br>Spent: $1454.23<br>Avg Review: 4.0",
          "Customer: cust_63129b9e4b9795388379f86a<br>Orders: 1<br>Spent: $28.13<br>Avg Review: 4.0",
          "Customer: cust_6330dce5207cf25f81efc976<br>Orders: 1<br>Spent: $547.1<br>Avg Review: 2.0",
          "Customer: cust_634228f72132188092719cce<br>Orders: 1<br>Spent: $113.21<br>Avg Review: 4.0",
          "Customer: cust_6356d009c77a1f1471316c94<br>Orders: 1<br>Spent: $49.79<br>Avg Review: 2.0",
          "Customer: cust_6356d6832ca017272ed4cd89<br>Orders: 2<br>Spent: $250.8<br>Avg Review: 1.0",
          "Customer: cust_6374adc7a39dbc4ec6f12e2b<br>Orders: 1<br>Spent: $1036.18<br>Avg Review: nan",
          "Customer: cust_6378b364e3a164e8046bf8d3<br>Orders: 1<br>Spent: $76.17<br>Avg Review: 5.0",
          "Customer: cust_637b43687553b2e092c664c2<br>Orders: 2<br>Spent: $1443.94<br>Avg Review: 5.0",
          "Customer: cust_637fb3129d9c276c73481bf1<br>Orders: 1<br>Spent: $18.49<br>Avg Review: nan",
          "Customer: cust_639540a75507cfc41eb6b08f<br>Orders: 1<br>Spent: $1138.26<br>Avg Review: nan",
          "Customer: cust_63a3e7e68454cfe932e3e9d5<br>Orders: 2<br>Spent: $4307.71<br>Avg Review: 3.3",
          "Customer: cust_63acb06f2326e64db275af7a<br>Orders: 1<br>Spent: $1749.56<br>Avg Review: 4.0",
          "Customer: cust_63ae82fab8ec43c2ebe79bbb<br>Orders: 1<br>Spent: $440.17<br>Avg Review: nan",
          "Customer: cust_63b1246854091692c4cd45fc<br>Orders: 1<br>Spent: $31.4<br>Avg Review: 3.0",
          "Customer: cust_63d89eaae7b1ba97b04a9795<br>Orders: 1<br>Spent: $94.07<br>Avg Review: 3.0",
          "Customer: cust_63e70c80ab675eb1ee9b1980<br>Orders: 1<br>Spent: $224.76<br>Avg Review: 5.0",
          "Customer: cust_6412b5d60808ee256ecc930e<br>Orders: 2<br>Spent: $2872.29<br>Avg Review: 4.2",
          "Customer: cust_641cb354a86114ba761426ca<br>Orders: 1<br>Spent: $183.36<br>Avg Review: nan",
          "Customer: cust_64371bf13670bcdd8d071477<br>Orders: 2<br>Spent: $1767.56<br>Avg Review: 5.0",
          "Customer: cust_6467bb64f325689e0aae964d<br>Orders: 1<br>Spent: $941.68<br>Avg Review: nan",
          "Customer: cust_64696b3feba3b22fc49340d1<br>Orders: 1<br>Spent: $862.97<br>Avg Review: 5.0",
          "Customer: cust_6478c2a010a7308bff935eda<br>Orders: 1<br>Spent: $145.24<br>Avg Review: nan",
          "Customer: cust_647f82adae54a50610f6c531<br>Orders: 2<br>Spent: $1166.27<br>Avg Review: 5.0",
          "Customer: cust_64ab919bdbd01788286c7df7<br>Orders: 1<br>Spent: $1754.28<br>Avg Review: 5.0",
          "Customer: cust_64b732dacb87424a4b1f60f6<br>Orders: 2<br>Spent: $783.09<br>Avg Review: 4.2",
          "Customer: cust_64d031b9fd667e0f3cf08730<br>Orders: 1<br>Spent: $1146.63<br>Avg Review: 3.0",
          "Customer: cust_64fd7f0e15c83a6b468924e5<br>Orders: 1<br>Spent: $701.16<br>Avg Review: nan",
          "Customer: cust_65270e805a49dd65243e1a78<br>Orders: 1<br>Spent: $2061.96<br>Avg Review: 5.0",
          "Customer: cust_653c6fb5056e1f835c3e9bfe<br>Orders: 1<br>Spent: $953.11<br>Avg Review: nan",
          "Customer: cust_65776cd6cab6f0804583f98b<br>Orders: 1<br>Spent: $2054.68<br>Avg Review: nan",
          "Customer: cust_657db747e48020581d65ef97<br>Orders: 2<br>Spent: $843.1<br>Avg Review: 3.0",
          "Customer: cust_65972a420af878b361610abe<br>Orders: 1<br>Spent: $986.33<br>Avg Review: 5.0",
          "Customer: cust_65d7737e0001a33c26ada430<br>Orders: 1<br>Spent: $288.7<br>Avg Review: 5.0",
          "Customer: cust_65d7ed7e8f454ca07f64effd<br>Orders: 2<br>Spent: $2342.19<br>Avg Review: 3.0",
          "Customer: cust_65de36b80bbffccabc2b78d9<br>Orders: 1<br>Spent: $1013.13<br>Avg Review: 3.0",
          "Customer: cust_65e254653fcd18bdbf8187dc<br>Orders: 1<br>Spent: $298.09<br>Avg Review: nan",
          "Customer: cust_65f43f79d45a1db5252e13f3<br>Orders: 1<br>Spent: $2238.8<br>Avg Review: 4.0",
          "Customer: cust_66290e36edf005a5ee8ba979<br>Orders: 2<br>Spent: $1901.15<br>Avg Review: 3.0",
          "Customer: cust_6636175cc3cd3b7f493148ae<br>Orders: 1<br>Spent: $346.94<br>Avg Review: 5.0",
          "Customer: cust_66546fb8dbe6c9ccc93c46c4<br>Orders: 1<br>Spent: $107.12<br>Avg Review: 4.0",
          "Customer: cust_665ef2625a14194fcc4df314<br>Orders: 1<br>Spent: $1440.46<br>Avg Review: nan",
          "Customer: cust_667af8ed585dca6f2519344d<br>Orders: 1<br>Spent: $641.58<br>Avg Review: 4.0",
          "Customer: cust_6695bd7e18263394624b8433<br>Orders: 2<br>Spent: $3033.07<br>Avg Review: 5.0",
          "Customer: cust_669a58139e6fe59cfbe12734<br>Orders: 1<br>Spent: $18.88<br>Avg Review: 4.0",
          "Customer: cust_66a5cb8319e50ea44f8fc0ec<br>Orders: 2<br>Spent: $3063.79<br>Avg Review: 5.0",
          "Customer: cust_66b7cda72c37a4e2485b05b6<br>Orders: 2<br>Spent: $1355.89<br>Avg Review: 4.2",
          "Customer: cust_66c1cbf7cf2369f15bc8e048<br>Orders: 3<br>Spent: $816.76<br>Avg Review: 3.8",
          "Customer: cust_66d72c46bcb5992665047a57<br>Orders: 1<br>Spent: $311.96<br>Avg Review: nan",
          "Customer: cust_66f4569ca41de44cb4429a96<br>Orders: 1<br>Spent: $17.42<br>Avg Review: 4.0",
          "Customer: cust_6716dc179be18982d955d0d9<br>Orders: 1<br>Spent: $15.07<br>Avg Review: 5.0",
          "Customer: cust_6722f844772c8bf0480ec7fc<br>Orders: 1<br>Spent: $1821.97<br>Avg Review: nan",
          "Customer: cust_6740450fb6bbd7d80c11f52f<br>Orders: 1<br>Spent: $708.99<br>Avg Review: nan",
          "Customer: cust_676ed3a201f3c6c073a9300c<br>Orders: 1<br>Spent: $321.57<br>Avg Review: 4.0",
          "Customer: cust_67989be5e66628c7056fa168<br>Orders: 1<br>Spent: $480.36<br>Avg Review: nan",
          "Customer: cust_67ae287038a8b16127d90e02<br>Orders: 1<br>Spent: $1133.93<br>Avg Review: 5.0",
          "Customer: cust_67bf963fd83a9de59d510506<br>Orders: 1<br>Spent: $915.9<br>Avg Review: 3.0",
          "Customer: cust_67c12480cbbd6966085cce2d<br>Orders: 1<br>Spent: $76.59<br>Avg Review: nan",
          "Customer: cust_67c3a2a102a1146fd11c938c<br>Orders: 1<br>Spent: $138.31<br>Avg Review: nan",
          "Customer: cust_67d1f7f0528877f1dc20f1ce<br>Orders: 1<br>Spent: $491.25<br>Avg Review: nan",
          "Customer: cust_67e13be58d199db236a520b7<br>Orders: 1<br>Spent: $136.88<br>Avg Review: nan",
          "Customer: cust_67e866e329f31e4fe487bb75<br>Orders: 1<br>Spent: $1322.62<br>Avg Review: nan",
          "Customer: cust_67fab2015006165a4195dd66<br>Orders: 1<br>Spent: $1405.96<br>Avg Review: nan",
          "Customer: cust_681565e59c6644dde9d7a3ec<br>Orders: 2<br>Spent: $3252.1<br>Avg Review: nan",
          "Customer: cust_682ba70369273240a926a281<br>Orders: 1<br>Spent: $1028.69<br>Avg Review: 5.0",
          "Customer: cust_68382e86ee5618de8d13b16e<br>Orders: 1<br>Spent: $597.45<br>Avg Review: 5.0",
          "Customer: cust_684142b6c80f05b7ab714ea9<br>Orders: 1<br>Spent: $586.32<br>Avg Review: 5.0",
          "Customer: cust_684395aa5134176936e7fab0<br>Orders: 1<br>Spent: $1290.69<br>Avg Review: 3.0",
          "Customer: cust_685849f78a6fc6068daa59db<br>Orders: 2<br>Spent: $1935.81<br>Avg Review: 5.0",
          "Customer: cust_686921b7f9aff2661fd50365<br>Orders: 1<br>Spent: $265.31<br>Avg Review: 1.0",
          "Customer: cust_686c5da4e52afaddeeb62327<br>Orders: 1<br>Spent: $67.56<br>Avg Review: nan",
          "Customer: cust_68777ddc852263c803f1da80<br>Orders: 2<br>Spent: $2967.52<br>Avg Review: 5.0",
          "Customer: cust_6879e224306d7f50990e6661<br>Orders: 1<br>Spent: $1517.93<br>Avg Review: 5.0",
          "Customer: cust_688b3631b3aa699c470d7678<br>Orders: 1<br>Spent: $893.56<br>Avg Review: 4.0",
          "Customer: cust_6890fab71750cb77f18451fd<br>Orders: 1<br>Spent: $773.61<br>Avg Review: 5.0",
          "Customer: cust_689b50343410c7363f0d0e4c<br>Orders: 1<br>Spent: $3186.63<br>Avg Review: 5.0",
          "Customer: cust_68b82ffc854f0700fad99c70<br>Orders: 1<br>Spent: $1487.44<br>Avg Review: nan",
          "Customer: cust_68c459d5d8dad217e3f072ce<br>Orders: 2<br>Spent: $5006.1<br>Avg Review: 5.0",
          "Customer: cust_68e57dcb5c7a36078fe3215e<br>Orders: 1<br>Spent: $713.57<br>Avg Review: 5.0",
          "Customer: cust_68f0b80f9bde7563d13a764b<br>Orders: 1<br>Spent: $415.25<br>Avg Review: 3.0",
          "Customer: cust_68f76d3481169538511b68d7<br>Orders: 1<br>Spent: $117.95<br>Avg Review: 5.0",
          "Customer: cust_692b10446f36e595182002aa<br>Orders: 2<br>Spent: $3127.39<br>Avg Review: 4.0",
          "Customer: cust_69431a99daa984220dcc2c0a<br>Orders: 1<br>Spent: $1995.72<br>Avg Review: 5.0",
          "Customer: cust_6988ffc7858e8b7651bd5e32<br>Orders: 1<br>Spent: $129.82<br>Avg Review: nan",
          "Customer: cust_69c5c57ee837d75ae0ef1d04<br>Orders: 1<br>Spent: $567.98<br>Avg Review: 2.0",
          "Customer: cust_69e89d5bbd775c6b5de8eb2a<br>Orders: 2<br>Spent: $2772.45<br>Avg Review: 3.0",
          "Customer: cust_69f9a4ebd0fd4b4377b07aa6<br>Orders: 1<br>Spent: $1246.69<br>Avg Review: 3.0",
          "Customer: cust_6a27f638f009274d91ab50f9<br>Orders: 1<br>Spent: $9.18<br>Avg Review: nan",
          "Customer: cust_6a319e85d2502743684806cb<br>Orders: 1<br>Spent: $822.67<br>Avg Review: nan",
          "Customer: cust_6a7ccf9cd568b3773e874804<br>Orders: 1<br>Spent: $384.38<br>Avg Review: 4.0",
          "Customer: cust_6a7de7b03e68eb1032aee4ec<br>Orders: 2<br>Spent: $2695.4<br>Avg Review: 5.0",
          "Customer: cust_6a88abbf78a9c41b2f5b4530<br>Orders: 1<br>Spent: $91.22<br>Avg Review: 5.0",
          "Customer: cust_6a8fdcc16f7aeec84f325986<br>Orders: 2<br>Spent: $1538.57<br>Avg Review: 5.0",
          "Customer: cust_6aabf0852b4588b952c5b702<br>Orders: 2<br>Spent: $405.26<br>Avg Review: 4.0",
          "Customer: cust_6aef36ce7b0ebab6022ae730<br>Orders: 1<br>Spent: $1484.83<br>Avg Review: 5.0",
          "Customer: cust_6af73920d521e22e318375b4<br>Orders: 1<br>Spent: $177.42<br>Avg Review: nan",
          "Customer: cust_6af7a882f9512389f80342d5<br>Orders: 1<br>Spent: $696.48<br>Avg Review: 5.0",
          "Customer: cust_6b0279a39f08deb7fe2c7ecc<br>Orders: 1<br>Spent: $188.35<br>Avg Review: nan",
          "Customer: cust_6b15ba55b2dc84953a682eaf<br>Orders: 1<br>Spent: $687.69<br>Avg Review: 4.0",
          "Customer: cust_6b333a86b151c64e3c5a3df5<br>Orders: 1<br>Spent: $6.26<br>Avg Review: 4.0",
          "Customer: cust_6b3eccf57b67d221b8d104b7<br>Orders: 2<br>Spent: $1069.88<br>Avg Review: 3.7",
          "Customer: cust_6b42fd606f4e87645fe3ad45<br>Orders: 1<br>Spent: $489.98<br>Avg Review: 5.0",
          "Customer: cust_6b592e110575ee354e758629<br>Orders: 1<br>Spent: $1303.37<br>Avg Review: 5.0",
          "Customer: cust_6b6814a55934b685f7f00ea3<br>Orders: 1<br>Spent: $1172.39<br>Avg Review: nan",
          "Customer: cust_6b7329d5e26e2e9caf9896db<br>Orders: 1<br>Spent: $2355.57<br>Avg Review: nan",
          "Customer: cust_6b78f1a33ba9c988838c3fdf<br>Orders: 2<br>Spent: $134.51<br>Avg Review: 1.0",
          "Customer: cust_6b95adffed128ba256f6391a<br>Orders: 1<br>Spent: $616.15<br>Avg Review: 3.0",
          "Customer: cust_6b98ee8d25abf2887b72cb89<br>Orders: 1<br>Spent: $18.13<br>Avg Review: 5.0",
          "Customer: cust_6bb909a31fd0506f441a8129<br>Orders: 1<br>Spent: $363.93<br>Avg Review: nan",
          "Customer: cust_6bc9ada449dfd808155387e3<br>Orders: 1<br>Spent: $226.84<br>Avg Review: nan",
          "Customer: cust_6bcd3aab2dd46885096e14b2<br>Orders: 1<br>Spent: $603.8<br>Avg Review: 5.0",
          "Customer: cust_6bce5994e5cb87e5a0cf08b5<br>Orders: 2<br>Spent: $1271.25<br>Avg Review: 5.0",
          "Customer: cust_6be1326ba857ba71e7c0ca89<br>Orders: 1<br>Spent: $351.1<br>Avg Review: 3.0",
          "Customer: cust_6bea3b09b67774710f5bd0e3<br>Orders: 1<br>Spent: $355.17<br>Avg Review: 4.0",
          "Customer: cust_6c06f5d0e5dee046ae623e9a<br>Orders: 1<br>Spent: $747.8<br>Avg Review: nan",
          "Customer: cust_6c070302e37015524ccac995<br>Orders: 1<br>Spent: $337.2<br>Avg Review: 5.0",
          "Customer: cust_6c10a07baa2ea976cb3963ac<br>Orders: 1<br>Spent: $84.7<br>Avg Review: nan",
          "Customer: cust_6c2c9fa53d41e6da226a705e<br>Orders: 1<br>Spent: $1551.53<br>Avg Review: 5.0",
          "Customer: cust_6c6ce7ed0ef1a0be5af2ea78<br>Orders: 1<br>Spent: $1671.64<br>Avg Review: 3.0",
          "Customer: cust_6c728acba77ef7bcd8169e7d<br>Orders: 1<br>Spent: $1513.95<br>Avg Review: nan",
          "Customer: cust_6c7fd32d70a24cebc65d1cdf<br>Orders: 1<br>Spent: $292.79<br>Avg Review: 5.0",
          "Customer: cust_6c8637bf8d6830209ec59dc9<br>Orders: 2<br>Spent: $3694.65<br>Avg Review: 4.0",
          "Customer: cust_6c976ba22bd7ccbbb5e8c098<br>Orders: 1<br>Spent: $442.48<br>Avg Review: 5.0",
          "Customer: cust_6cafcdbd269c32e7f450146d<br>Orders: 1<br>Spent: $526.68<br>Avg Review: nan",
          "Customer: cust_6cebc7749cfc23ce1d6bd488<br>Orders: 1<br>Spent: $1170.16<br>Avg Review: nan",
          "Customer: cust_6cebea361effe6f3b8d8a881<br>Orders: 1<br>Spent: $646.78<br>Avg Review: 4.0",
          "Customer: cust_6cf455f3be4d453a15cd2442<br>Orders: 1<br>Spent: $928.38<br>Avg Review: 4.0",
          "Customer: cust_6d076ec6ad4e2d2f029fab05<br>Orders: 1<br>Spent: $37.86<br>Avg Review: 3.0",
          "Customer: cust_6d0959b89009b7641b98b137<br>Orders: 1<br>Spent: $132.45<br>Avg Review: nan",
          "Customer: cust_6d0f33a05e0bf6410b8fce0c<br>Orders: 1<br>Spent: $162.42<br>Avg Review: 4.0",
          "Customer: cust_6d1973eeef07b723bd84d323<br>Orders: 1<br>Spent: $2220.84<br>Avg Review: 4.0",
          "Customer: cust_6d1e305a893a7e7ce384fe6b<br>Orders: 1<br>Spent: $340.3<br>Avg Review: 5.0",
          "Customer: cust_6d3eeb968f1e970194b9f9ea<br>Orders: 1<br>Spent: $277.83<br>Avg Review: nan",
          "Customer: cust_6d96ea52f8254435cdd55973<br>Orders: 1<br>Spent: $3620.12<br>Avg Review: 5.0",
          "Customer: cust_6da3cc1cdc4fadb184f2d1f1<br>Orders: 2<br>Spent: $1665.98<br>Avg Review: 5.0",
          "Customer: cust_6dc4d603a74c8a543f5986cd<br>Orders: 1<br>Spent: $732.9<br>Avg Review: 5.0",
          "Customer: cust_6ddb3c097eeebb16e6c2fed9<br>Orders: 1<br>Spent: $67.46<br>Avg Review: nan",
          "Customer: cust_6de0f33cda8cfedae319835e<br>Orders: 3<br>Spent: $3393.68<br>Avg Review: 4.0",
          "Customer: cust_6dfb5eb0e55341c4ed7267d1<br>Orders: 2<br>Spent: $2218.47<br>Avg Review: nan",
          "Customer: cust_6e0f776c2b5918ac6cd7c656<br>Orders: 1<br>Spent: $601.32<br>Avg Review: 5.0",
          "Customer: cust_6e17f8b025c56bb6956a9319<br>Orders: 1<br>Spent: $50.45<br>Avg Review: nan",
          "Customer: cust_6e1f60c57b48a1843380cb41<br>Orders: 1<br>Spent: $517.34<br>Avg Review: nan",
          "Customer: cust_6e479311eb5ab524010ffd2f<br>Orders: 1<br>Spent: $1587.44<br>Avg Review: 5.0",
          "Customer: cust_6e5c7d4a3517562b0833ca77<br>Orders: 1<br>Spent: $1111.44<br>Avg Review: nan",
          "Customer: cust_6ea2d9aa6c9241aff36d4d10<br>Orders: 1<br>Spent: $60.95<br>Avg Review: nan",
          "Customer: cust_6efe52e2430b8d8a7dfe9846<br>Orders: 2<br>Spent: $205.16<br>Avg Review: 4.5",
          "Customer: cust_6f0d9f4c961ada8854c74b83<br>Orders: 1<br>Spent: $120.19<br>Avg Review: 5.0",
          "Customer: cust_6f33fcb3b78c39754443edf3<br>Orders: 1<br>Spent: $110.86<br>Avg Review: nan",
          "Customer: cust_6f45aa05638e316264e73f0e<br>Orders: 2<br>Spent: $379.59<br>Avg Review: 4.0",
          "Customer: cust_6f5158b5e6e18eb3bb52bfbe<br>Orders: 1<br>Spent: $358.87<br>Avg Review: nan",
          "Customer: cust_6f72841bc7df924846b79e1d<br>Orders: 2<br>Spent: $411.75<br>Avg Review: 5.0",
          "Customer: cust_6f86046f20a97d8c6946b6e6<br>Orders: 1<br>Spent: $300.14<br>Avg Review: nan",
          "Customer: cust_6f97e3c0fff8e4b0819a84c9<br>Orders: 1<br>Spent: $561.73<br>Avg Review: 5.0",
          "Customer: cust_6f9c8cccb6b45af8fe606c7d<br>Orders: 1<br>Spent: $329.1<br>Avg Review: nan",
          "Customer: cust_6fa21f8423fc1fc71502fc41<br>Orders: 1<br>Spent: $122.54<br>Avg Review: nan",
          "Customer: cust_6fa893685c68dfda3b4c6652<br>Orders: 1<br>Spent: $164.38<br>Avg Review: 4.0",
          "Customer: cust_6fda8a41be26d1a65cf91551<br>Orders: 1<br>Spent: $1676.96<br>Avg Review: 4.0",
          "Customer: cust_6fe07b1c54a623a2af54b3be<br>Orders: 2<br>Spent: $468.54<br>Avg Review: 5.0",
          "Customer: cust_6fe6d07adecff7d5eb857a1d<br>Orders: 1<br>Spent: $1217.62<br>Avg Review: 5.0",
          "Customer: cust_6fee77212232a7b3c09a2476<br>Orders: 1<br>Spent: $257.23<br>Avg Review: 5.0",
          "Customer: cust_6ff14e8fd3bf8d87de91147a<br>Orders: 1<br>Spent: $365.18<br>Avg Review: 2.0",
          "Customer: cust_7001e420643e866adf3ca5b5<br>Orders: 1<br>Spent: $777.23<br>Avg Review: 5.0",
          "Customer: cust_70034943d604961d05ce55df<br>Orders: 2<br>Spent: $1332.97<br>Avg Review: 5.0",
          "Customer: cust_7043e1be0bb3e737f04293f6<br>Orders: 3<br>Spent: $2108.16<br>Avg Review: 3.8",
          "Customer: cust_704468175636925400b1d5ed<br>Orders: 1<br>Spent: $652.75<br>Avg Review: 5.0",
          "Customer: cust_70876816e94299e497115e33<br>Orders: 2<br>Spent: $2360.2<br>Avg Review: 4.2",
          "Customer: cust_7087af303269e7a6d3e96a2b<br>Orders: 1<br>Spent: $774.39<br>Avg Review: 5.0",
          "Customer: cust_708a5b21e8c30c83ca8f209a<br>Orders: 1<br>Spent: $892.04<br>Avg Review: 5.0",
          "Customer: cust_7099bb62153e1532e21a1ba9<br>Orders: 1<br>Spent: $1271.04<br>Avg Review: 3.0",
          "Customer: cust_70a0c5c9e279215ebd95a458<br>Orders: 3<br>Spent: $3394.53<br>Avg Review: 3.7",
          "Customer: cust_70ae7aaf170420049998ff3a<br>Orders: 2<br>Spent: $1503.31<br>Avg Review: 4.5",
          "Customer: cust_70b669c14bf66b0d43a51ced<br>Orders: 3<br>Spent: $2229.83<br>Avg Review: 4.0",
          "Customer: cust_70bceaa20a95152305f9717f<br>Orders: 1<br>Spent: $480.77<br>Avg Review: 4.0",
          "Customer: cust_70c95927c19d45f91e81796a<br>Orders: 2<br>Spent: $3301.66<br>Avg Review: 5.0",
          "Customer: cust_70e191a958375464c4bbdd8a<br>Orders: 1<br>Spent: $1659.62<br>Avg Review: 2.0",
          "Customer: cust_70f39d9d0e059aa3ca96b640<br>Orders: 2<br>Spent: $1954.08<br>Avg Review: 3.8",
          "Customer: cust_70f80fb17103ba8b114697be<br>Orders: 1<br>Spent: $2570.11<br>Avg Review: nan",
          "Customer: cust_712907c4d1a5a7de8c39f5b9<br>Orders: 1<br>Spent: $80.41<br>Avg Review: nan",
          "Customer: cust_7139dadbd80810d68182095d<br>Orders: 3<br>Spent: $1073.57<br>Avg Review: 5.0",
          "Customer: cust_718d55e205f980565c07a029<br>Orders: 1<br>Spent: $112.47<br>Avg Review: 5.0",
          "Customer: cust_71bb8ee91e237034374cc2ff<br>Orders: 1<br>Spent: $204.53<br>Avg Review: 2.0",
          "Customer: cust_71c4d38e3156c4c4ec8765c2<br>Orders: 1<br>Spent: $1226.41<br>Avg Review: nan",
          "Customer: cust_71c599d83decc6ddfb372625<br>Orders: 2<br>Spent: $4237.49<br>Avg Review: 5.0",
          "Customer: cust_71e5244aa056c4ed613223fd<br>Orders: 2<br>Spent: $151.18<br>Avg Review: 5.0",
          "Customer: cust_71f4f1abe875929d4d25ab3a<br>Orders: 3<br>Spent: $3372.21<br>Avg Review: 5.0",
          "Customer: cust_71fc5d8db1c30114638d9126<br>Orders: 1<br>Spent: $157.13<br>Avg Review: 5.0",
          "Customer: cust_720dfd0c453803ae43bb11d6<br>Orders: 1<br>Spent: $303.7<br>Avg Review: nan",
          "Customer: cust_72132e909a9e5b3567cfb620<br>Orders: 2<br>Spent: $5405.95<br>Avg Review: 4.7",
          "Customer: cust_7222f83c997bfbf4f319c560<br>Orders: 2<br>Spent: $275.54<br>Avg Review: 4.0",
          "Customer: cust_724039a93698947879dea6e8<br>Orders: 1<br>Spent: $713.83<br>Avg Review: nan",
          "Customer: cust_7241227b9969845b89d96bfe<br>Orders: 2<br>Spent: $4185.27<br>Avg Review: 5.0",
          "Customer: cust_72503b26ccf9c1bd8e3a83ae<br>Orders: 2<br>Spent: $620.86<br>Avg Review: 5.0",
          "Customer: cust_7252a3ac2d2368ab92ecbba7<br>Orders: 1<br>Spent: $90.85<br>Avg Review: 5.0",
          "Customer: cust_7278fc8babde3a372d0ca6ac<br>Orders: 2<br>Spent: $347.03<br>Avg Review: 2.5",
          "Customer: cust_7284182689d2615965f03ce2<br>Orders: 1<br>Spent: $178.37<br>Avg Review: 4.0",
          "Customer: cust_7290e356ed1d0d2b9afea90b<br>Orders: 3<br>Spent: $2555.53<br>Avg Review: 3.7",
          "Customer: cust_729d1472429e70a3b2561a0c<br>Orders: 1<br>Spent: $307.64<br>Avg Review: 5.0",
          "Customer: cust_729ed1f2dd42f2abd3e5d949<br>Orders: 2<br>Spent: $882.28<br>Avg Review: 3.7",
          "Customer: cust_72b1e81d843fe90821f4fa1a<br>Orders: 1<br>Spent: $493.06<br>Avg Review: 5.0",
          "Customer: cust_72b55339574002a04bc2214c<br>Orders: 1<br>Spent: $314.52<br>Avg Review: 2.0",
          "Customer: cust_72c0e506ffec43dbe0f4e47c<br>Orders: 1<br>Spent: $1629.96<br>Avg Review: nan",
          "Customer: cust_72d40b38e505a76ae0548cdf<br>Orders: 1<br>Spent: $523.35<br>Avg Review: 1.0",
          "Customer: cust_72d6a8ae3e6c120b5c0232b3<br>Orders: 1<br>Spent: $312.43<br>Avg Review: 4.0",
          "Customer: cust_72d9ef46a94172682a7b41ec<br>Orders: 2<br>Spent: $4153.6<br>Avg Review: 4.5",
          "Customer: cust_72ddc516255cab8a30c4262f<br>Orders: 1<br>Spent: $248.67<br>Avg Review: nan",
          "Customer: cust_72f47dcaebb3347af5a7fb06<br>Orders: 2<br>Spent: $2576.93<br>Avg Review: 3.6",
          "Customer: cust_7310d34a3abbd73f9b2ec009<br>Orders: 2<br>Spent: $306.98<br>Avg Review: 4.5",
          "Customer: cust_7321481c4e4cba366ff5b6db<br>Orders: 2<br>Spent: $967.21<br>Avg Review: 3.0",
          "Customer: cust_7325fc5e975029fb5b06fd62<br>Orders: 3<br>Spent: $4895.36<br>Avg Review: 4.0",
          "Customer: cust_7335e39c6c32d36e53b5d486<br>Orders: 1<br>Spent: $1373.27<br>Avg Review: 4.0",
          "Customer: cust_73464495d7b13f4ab88b4dba<br>Orders: 2<br>Spent: $537.48<br>Avg Review: 4.0",
          "Customer: cust_73492dcafd25797dc666e86a<br>Orders: 1<br>Spent: $396.8<br>Avg Review: 5.0",
          "Customer: cust_7360c42bc5ff02ecaa501de6<br>Orders: 1<br>Spent: $274.72<br>Avg Review: 5.0",
          "Customer: cust_7363d54d74602ccf8f6dc8d7<br>Orders: 1<br>Spent: $468.9<br>Avg Review: nan",
          "Customer: cust_737a79cb1d15244723076b8a<br>Orders: 1<br>Spent: $125.53<br>Avg Review: nan",
          "Customer: cust_73901aa95472854f89fe2173<br>Orders: 1<br>Spent: $1002.73<br>Avg Review: 4.0",
          "Customer: cust_739240ce7f0027d3f6bd58a4<br>Orders: 1<br>Spent: $314.67<br>Avg Review: 5.0",
          "Customer: cust_739da700f712a622d4a69b32<br>Orders: 1<br>Spent: $211.0<br>Avg Review: nan",
          "Customer: cust_73a93f0be1b93ed8f6e91315<br>Orders: 2<br>Spent: $3283.47<br>Avg Review: 4.0",
          "Customer: cust_73c64d6c8a4db0f034acaeca<br>Orders: 2<br>Spent: $1869.83<br>Avg Review: 3.8",
          "Customer: cust_73c846df62fba568a35e09a3<br>Orders: 2<br>Spent: $468.72<br>Avg Review: 4.3",
          "Customer: cust_73cb3f4c4abaf679beebf167<br>Orders: 2<br>Spent: $817.42<br>Avg Review: 4.5",
          "Customer: cust_73dec8ba819f34b9236f2b99<br>Orders: 1<br>Spent: $79.87<br>Avg Review: nan",
          "Customer: cust_73e7c5f204164e9e1b1ce59b<br>Orders: 1<br>Spent: $283.83<br>Avg Review: nan",
          "Customer: cust_73edb5099cb0806f8710072d<br>Orders: 1<br>Spent: $726.72<br>Avg Review: 5.0",
          "Customer: cust_73fff0d8a0c2301af2ca0cb9<br>Orders: 1<br>Spent: $65.91<br>Avg Review: nan",
          "Customer: cust_740b0ab990e0f4bfe16cd205<br>Orders: 1<br>Spent: $732.48<br>Avg Review: 5.0",
          "Customer: cust_74427445633e176bddb5d299<br>Orders: 1<br>Spent: $92.48<br>Avg Review: 3.0",
          "Customer: cust_744e5006e3c7ae588335280d<br>Orders: 1<br>Spent: $94.68<br>Avg Review: 2.0",
          "Customer: cust_744e5f6b84dbde6be2a2af93<br>Orders: 1<br>Spent: $398.59<br>Avg Review: 4.0",
          "Customer: cust_74647ecc376fa170c8e069d3<br>Orders: 1<br>Spent: $1987.23<br>Avg Review: 4.0",
          "Customer: cust_7465cebe6f981147bd5dc3a8<br>Orders: 2<br>Spent: $379.82<br>Avg Review: 3.0",
          "Customer: cust_748b0f360bbd1aa7e0607f9d<br>Orders: 1<br>Spent: $1228.55<br>Avg Review: 5.0",
          "Customer: cust_749df3414d6d54588b28a2b8<br>Orders: 1<br>Spent: $1264.64<br>Avg Review: 4.0",
          "Customer: cust_74a49db30fc82c5c11819fe2<br>Orders: 1<br>Spent: $2945.38<br>Avg Review: 5.0",
          "Customer: cust_74b4841cfb52815740748da1<br>Orders: 1<br>Spent: $148.95<br>Avg Review: nan",
          "Customer: cust_74b6b7c44a71dd26c740720d<br>Orders: 1<br>Spent: $94.4<br>Avg Review: 5.0",
          "Customer: cust_74bf3c643af9579c117a8a8f<br>Orders: 1<br>Spent: $2130.92<br>Avg Review: 3.0",
          "Customer: cust_74c11f81191d60e453f70efa<br>Orders: 1<br>Spent: $668.34<br>Avg Review: nan",
          "Customer: cust_74dff3dd34498acbd14941d4<br>Orders: 2<br>Spent: $2875.46<br>Avg Review: 4.0",
          "Customer: cust_74fd376d2735454fed020987<br>Orders: 1<br>Spent: $778.07<br>Avg Review: 5.0",
          "Customer: cust_750508ee5f96b6b9fd85733b<br>Orders: 1<br>Spent: $748.49<br>Avg Review: 5.0",
          "Customer: cust_7518d20e0b199003cc20efcf<br>Orders: 1<br>Spent: $1040.73<br>Avg Review: nan",
          "Customer: cust_75596aed63e90b43fafed316<br>Orders: 1<br>Spent: $279.25<br>Avg Review: 4.0",
          "Customer: cust_755f2b416a79d2b92be46e3b<br>Orders: 4<br>Spent: $1170.01<br>Avg Review: 3.0",
          "Customer: cust_7568a4c45971522c411bfecc<br>Orders: 1<br>Spent: $148.63<br>Avg Review: nan",
          "Customer: cust_7570e5ae398164188ec9134d<br>Orders: 1<br>Spent: $1592.55<br>Avg Review: 2.0",
          "Customer: cust_75756af28ffef0ac67f3775e<br>Orders: 1<br>Spent: $968.33<br>Avg Review: nan",
          "Customer: cust_7583457851036091233e1c60<br>Orders: 2<br>Spent: $3104.26<br>Avg Review: 4.0",
          "Customer: cust_75844cf4a9c54b07e5520b94<br>Orders: 1<br>Spent: $60.94<br>Avg Review: 5.0",
          "Customer: cust_758a07ce295e610a94dec3fa<br>Orders: 1<br>Spent: $83.64<br>Avg Review: 4.0",
          "Customer: cust_75973dc4b0e3029a45ad9e30<br>Orders: 1<br>Spent: $55.34<br>Avg Review: 4.0",
          "Customer: cust_75c3e449bc8b18d4ea5797be<br>Orders: 1<br>Spent: $765.44<br>Avg Review: 4.0",
          "Customer: cust_75e7eb2d0217df0a069db33d<br>Orders: 1<br>Spent: $181.58<br>Avg Review: nan",
          "Customer: cust_761408eb1b431a3b8ed41a56<br>Orders: 1<br>Spent: $416.18<br>Avg Review: 3.0",
          "Customer: cust_76152cdaf964d5873ab3ecb1<br>Orders: 1<br>Spent: $58.53<br>Avg Review: nan",
          "Customer: cust_7628b31448937ac3454ee0ba<br>Orders: 1<br>Spent: $1032.99<br>Avg Review: 3.0",
          "Customer: cust_76358665d2a19a110a222cae<br>Orders: 1<br>Spent: $70.98<br>Avg Review: nan",
          "Customer: cust_763f35cdae15e86f660f2b79<br>Orders: 1<br>Spent: $1618.62<br>Avg Review: 4.0",
          "Customer: cust_7651b90ebaaa115d1f0cc564<br>Orders: 1<br>Spent: $332.43<br>Avg Review: 5.0",
          "Customer: cust_76616c1ea440decf709e9515<br>Orders: 1<br>Spent: $1739.59<br>Avg Review: 5.0",
          "Customer: cust_76865f1d8bd783102e416cf3<br>Orders: 2<br>Spent: $577.36<br>Avg Review: 2.0",
          "Customer: cust_76867118f50a898274f60c81<br>Orders: 1<br>Spent: $1701.05<br>Avg Review: nan",
          "Customer: cust_76b89c0a975fb49f168f7e49<br>Orders: 1<br>Spent: $578.62<br>Avg Review: 5.0",
          "Customer: cust_76e9ae6a59d7361d38b952f4<br>Orders: 1<br>Spent: $296.59<br>Avg Review: 5.0",
          "Customer: cust_76fe7013434d7ad2118a2f28<br>Orders: 1<br>Spent: $308.96<br>Avg Review: nan",
          "Customer: cust_7703185c1f46c0af10525fef<br>Orders: 1<br>Spent: $2041.85<br>Avg Review: 3.0",
          "Customer: cust_7708a833bb4377e5b64ae83e<br>Orders: 1<br>Spent: $1692.38<br>Avg Review: nan",
          "Customer: cust_77181e083bb725d67981ad59<br>Orders: 2<br>Spent: $465.6<br>Avg Review: 3.0",
          "Customer: cust_771c639e29cfd1eaf5b1e63e<br>Orders: 1<br>Spent: $523.39<br>Avg Review: 5.0",
          "Customer: cust_7730000edbb87e968a97e1e3<br>Orders: 2<br>Spent: $158.81<br>Avg Review: 2.0",
          "Customer: cust_773043163be442da41afe1ea<br>Orders: 1<br>Spent: $762.96<br>Avg Review: 2.0",
          "Customer: cust_773f6abedf06161d5451f9d0<br>Orders: 2<br>Spent: $2062.54<br>Avg Review: 4.3",
          "Customer: cust_7740ccf7722bfc0463d54e86<br>Orders: 1<br>Spent: $3149.69<br>Avg Review: 5.0",
          "Customer: cust_776c33e5fa2caaedf0b62829<br>Orders: 1<br>Spent: $57.51<br>Avg Review: 5.0",
          "Customer: cust_776f9971c68e381091102caf<br>Orders: 3<br>Spent: $783.76<br>Avg Review: 3.0",
          "Customer: cust_7777166c6194094dbf0e668b<br>Orders: 2<br>Spent: $721.86<br>Avg Review: 2.5",
          "Customer: cust_7780ad378bcbc6a2bc551339<br>Orders: 1<br>Spent: $1228.17<br>Avg Review: nan",
          "Customer: cust_778e852aa88fddfdfe25fec0<br>Orders: 2<br>Spent: $1159.22<br>Avg Review: nan",
          "Customer: cust_7795c0e45e743dda10e56ac9<br>Orders: 1<br>Spent: $109.66<br>Avg Review: 5.0",
          "Customer: cust_779bd9254ca56e7634f3bf22<br>Orders: 2<br>Spent: $172.56<br>Avg Review: 5.0",
          "Customer: cust_77a0e61520352bd42d80c434<br>Orders: 1<br>Spent: $947.15<br>Avg Review: nan",
          "Customer: cust_78046775f57efd4ee54725fe<br>Orders: 1<br>Spent: $163.37<br>Avg Review: nan",
          "Customer: cust_78287cc55515981e31ac9fb8<br>Orders: 1<br>Spent: $40.33<br>Avg Review: nan",
          "Customer: cust_783fd35af49d49879cd27743<br>Orders: 1<br>Spent: $1267.01<br>Avg Review: nan",
          "Customer: cust_7847b299459bfce3f220e3d6<br>Orders: 1<br>Spent: $1059.62<br>Avg Review: 3.0",
          "Customer: cust_784bcf76fa4dcd314ac823b0<br>Orders: 1<br>Spent: $110.18<br>Avg Review: nan",
          "Customer: cust_78773769ee16aacd2171125e<br>Orders: 1<br>Spent: $1459.52<br>Avg Review: 3.0",
          "Customer: cust_7885fb670385e03a16ed60f5<br>Orders: 1<br>Spent: $95.69<br>Avg Review: nan",
          "Customer: cust_78978f8fa6dfa72ecf8667ed<br>Orders: 1<br>Spent: $166.71<br>Avg Review: 4.0",
          "Customer: cust_78c526028205bdaf4adb1225<br>Orders: 2<br>Spent: $75.22<br>Avg Review: 5.0",
          "Customer: cust_78d4afd5f428d93998c8a1d9<br>Orders: 1<br>Spent: $1276.38<br>Avg Review: nan",
          "Customer: cust_78f39ed88f582e2bb1b2e9a5<br>Orders: 1<br>Spent: $229.41<br>Avg Review: 3.0",
          "Customer: cust_79194ae268998569848a7772<br>Orders: 1<br>Spent: $1978.38<br>Avg Review: 4.0",
          "Customer: cust_792d0d5fac02b809880e1efa<br>Orders: 1<br>Spent: $104.24<br>Avg Review: 5.0",
          "Customer: cust_793724fb64d852a674296f0a<br>Orders: 1<br>Spent: $768.28<br>Avg Review: 4.0",
          "Customer: cust_7956e9a0334e0dae2fcb7783<br>Orders: 1<br>Spent: $756.47<br>Avg Review: 5.0",
          "Customer: cust_797125f12d30cef9c8c8077d<br>Orders: 1<br>Spent: $292.75<br>Avg Review: 1.0",
          "Customer: cust_79739732ef073b19153f1582<br>Orders: 2<br>Spent: $1249.07<br>Avg Review: nan",
          "Customer: cust_797a9f0fe5437f9b51e94d6c<br>Orders: 2<br>Spent: $662.21<br>Avg Review: 4.0",
          "Customer: cust_7986595f2844313ab4fe0b88<br>Orders: 2<br>Spent: $1631.53<br>Avg Review: 3.0",
          "Customer: cust_7996445923adb624fedfbb14<br>Orders: 1<br>Spent: $202.24<br>Avg Review: 5.0",
          "Customer: cust_79990e9dac6e3caac59631c9<br>Orders: 2<br>Spent: $292.79<br>Avg Review: 4.0",
          "Customer: cust_79a3778c9677e78fbdaa99ea<br>Orders: 1<br>Spent: $961.56<br>Avg Review: 3.0",
          "Customer: cust_79d3971e80715546d7a7d757<br>Orders: 1<br>Spent: $453.13<br>Avg Review: 4.0",
          "Customer: cust_79d7f6e0f8fe027375702d54<br>Orders: 4<br>Spent: $2289.71<br>Avg Review: 4.0",
          "Customer: cust_79ee9dbc3534b35c5a851559<br>Orders: 2<br>Spent: $3875.08<br>Avg Review: 4.0",
          "Customer: cust_79fd445cc34307b41c883f42<br>Orders: 1<br>Spent: $273.69<br>Avg Review: 2.0",
          "Customer: cust_7a1615955ed912f30b368069<br>Orders: 2<br>Spent: $1249.73<br>Avg Review: 5.0",
          "Customer: cust_7a184171a59dec4ef3863533<br>Orders: 1<br>Spent: $77.16<br>Avg Review: 5.0",
          "Customer: cust_7a2a81d7e9b4095ec85e4b83<br>Orders: 1<br>Spent: $468.72<br>Avg Review: 5.0",
          "Customer: cust_7a3376ce1beb6c8908b1f7e2<br>Orders: 1<br>Spent: $71.64<br>Avg Review: nan",
          "Customer: cust_7a40b524589ab5ca6d0169b0<br>Orders: 1<br>Spent: $1288.5<br>Avg Review: 5.0",
          "Customer: cust_7a4b88bd3ac5b0cfcad8cca3<br>Orders: 1<br>Spent: $1387.56<br>Avg Review: 5.0",
          "Customer: cust_7a51c9abba4d917bbef402bd<br>Orders: 2<br>Spent: $2973.77<br>Avg Review: 5.0",
          "Customer: cust_7a6d96648f43cf22d091bd38<br>Orders: 2<br>Spent: $3065.99<br>Avg Review: 1.0",
          "Customer: cust_7a6fc901407009cc3c5d5f26<br>Orders: 2<br>Spent: $1153.6<br>Avg Review: 3.0",
          "Customer: cust_7a77f177ce4fdc8025766d2e<br>Orders: 1<br>Spent: $857.63<br>Avg Review: 5.0",
          "Customer: cust_7a79648a9481caebee8a38d3<br>Orders: 1<br>Spent: $1912.68<br>Avg Review: nan",
          "Customer: cust_7a86edf1293f169588261fa0<br>Orders: 1<br>Spent: $90.08<br>Avg Review: nan",
          "Customer: cust_7ab06a106380272fc0f11a69<br>Orders: 1<br>Spent: $732.98<br>Avg Review: 5.0",
          "Customer: cust_7abc426f5985563667137642<br>Orders: 4<br>Spent: $3702.03<br>Avg Review: 4.3",
          "Customer: cust_7accb7dbe376d4af5a9045a3<br>Orders: 1<br>Spent: $201.08<br>Avg Review: 5.0",
          "Customer: cust_7ae15014b3765c812737cb59<br>Orders: 1<br>Spent: $1358.25<br>Avg Review: 5.0",
          "Customer: cust_7afafbdf156205d69ef99d2c<br>Orders: 1<br>Spent: $2125.05<br>Avg Review: 5.0",
          "Customer: cust_7b2ada8dbf01c9ed3e3e92ca<br>Orders: 2<br>Spent: $432.62<br>Avg Review: 4.0",
          "Customer: cust_7b416e9bc790a24bd667c336<br>Orders: 1<br>Spent: $1202.84<br>Avg Review: 3.0",
          "Customer: cust_7b4e4dc527de9303bd4c9fed<br>Orders: 2<br>Spent: $2014.12<br>Avg Review: 3.7",
          "Customer: cust_7b91875a5877d445008b4882<br>Orders: 1<br>Spent: $768.55<br>Avg Review: nan",
          "Customer: cust_7bc2f4ae43f48f2501b192de<br>Orders: 1<br>Spent: $282.03<br>Avg Review: nan",
          "Customer: cust_7bd632e233951995314559af<br>Orders: 1<br>Spent: $170.0<br>Avg Review: nan",
          "Customer: cust_7beb28f58b689e68a505fbc3<br>Orders: 1<br>Spent: $354.07<br>Avg Review: 5.0",
          "Customer: cust_7bfadc1056f9fa8a9208afaf<br>Orders: 1<br>Spent: $239.91<br>Avg Review: nan",
          "Customer: cust_7c0753b94cfe5680ca58e96b<br>Orders: 1<br>Spent: $126.24<br>Avg Review: 5.0",
          "Customer: cust_7c128129e3eac1abbfd93ad5<br>Orders: 1<br>Spent: $3715.02<br>Avg Review: 5.0",
          "Customer: cust_7c1905db549735e09ad8937e<br>Orders: 1<br>Spent: $2125.63<br>Avg Review: 4.0",
          "Customer: cust_7c279d9e9fb465ae6875ed1d<br>Orders: 1<br>Spent: $21.88<br>Avg Review: 3.0",
          "Customer: cust_7c3306fe6ee207fd44faf254<br>Orders: 1<br>Spent: $907.52<br>Avg Review: 3.0",
          "Customer: cust_7c3efe1c88b3f94e92fe7f84<br>Orders: 2<br>Spent: $1427.6<br>Avg Review: 5.0",
          "Customer: cust_7c66689f18a2804008bd48cf<br>Orders: 1<br>Spent: $134.57<br>Avg Review: nan",
          "Customer: cust_7c6ab7c1fc0058f3dd7afe3c<br>Orders: 1<br>Spent: $283.93<br>Avg Review: 3.0",
          "Customer: cust_7c97ab26c9ec87c8f19ec384<br>Orders: 1<br>Spent: $332.84<br>Avg Review: nan",
          "Customer: cust_7cac1c1272019ef755cf2cfb<br>Orders: 2<br>Spent: $810.86<br>Avg Review: 5.0",
          "Customer: cust_7ccb3f97c745d7566e66f968<br>Orders: 1<br>Spent: $62.44<br>Avg Review: 4.0",
          "Customer: cust_7cd8eaaca99ad89916f9eb4b<br>Orders: 1<br>Spent: $736.59<br>Avg Review: 5.0",
          "Customer: cust_7cdc3058dd28f44c9b43cbbb<br>Orders: 1<br>Spent: $513.14<br>Avg Review: nan",
          "Customer: cust_7cfcb86a63a307da202633e1<br>Orders: 1<br>Spent: $400.4<br>Avg Review: 5.0",
          "Customer: cust_7d2364dd73a727541949082a<br>Orders: 1<br>Spent: $563.95<br>Avg Review: nan",
          "Customer: cust_7d2abbf35420c4f9f1aeafbc<br>Orders: 2<br>Spent: $2626.73<br>Avg Review: 3.0",
          "Customer: cust_7d2afdba82c8b883b074f3d7<br>Orders: 2<br>Spent: $838.75<br>Avg Review: 4.0",
          "Customer: cust_7d32981d588f87a049a75754<br>Orders: 1<br>Spent: $1465.03<br>Avg Review: 4.0",
          "Customer: cust_7d413f67e566f78c94e8ff16<br>Orders: 2<br>Spent: $2057.57<br>Avg Review: 2.0",
          "Customer: cust_7d5199f3b63dbfa503a5b17b<br>Orders: 1<br>Spent: $1526.49<br>Avg Review: 4.0",
          "Customer: cust_7d5f3991e5b8752172095b7f<br>Orders: 1<br>Spent: $857.21<br>Avg Review: 5.0",
          "Customer: cust_7d76c28e84c5f2e844cde7d4<br>Orders: 1<br>Spent: $233.26<br>Avg Review: 3.0",
          "Customer: cust_7d896175ce4f33a52c091bb6<br>Orders: 1<br>Spent: $522.11<br>Avg Review: 5.0",
          "Customer: cust_7d896e8d858569bc171c4566<br>Orders: 1<br>Spent: $688.69<br>Avg Review: nan",
          "Customer: cust_7d9a7634e832e6af39549bfd<br>Orders: 1<br>Spent: $323.7<br>Avg Review: 5.0",
          "Customer: cust_7db5efcd9b9b9890686e251a<br>Orders: 1<br>Spent: $81.92<br>Avg Review: 3.0",
          "Customer: cust_7dc19d4099226ba0a6fc3780<br>Orders: 1<br>Spent: $1121.61<br>Avg Review: nan",
          "Customer: cust_7dcf2fb7d5e482291e5ebc76<br>Orders: 1<br>Spent: $1962.03<br>Avg Review: nan",
          "Customer: cust_7de2162a0aada416812143ce<br>Orders: 1<br>Spent: $627.28<br>Avg Review: 5.0",
          "Customer: cust_7de8cdfb3dc5750c3e9d9c09<br>Orders: 1<br>Spent: $2495.92<br>Avg Review: nan",
          "Customer: cust_7dea35e55713435a6cfc5331<br>Orders: 1<br>Spent: $155.45<br>Avg Review: 5.0",
          "Customer: cust_7df3024b186f2e25662d5353<br>Orders: 1<br>Spent: $977.35<br>Avg Review: 4.0",
          "Customer: cust_7e103981e9da92b2b41ba188<br>Orders: 1<br>Spent: $359.17<br>Avg Review: 4.0",
          "Customer: cust_7e27860e7f527bcb5a836bc7<br>Orders: 1<br>Spent: $579.62<br>Avg Review: nan",
          "Customer: cust_7e2e58b67bb40d28b35ad032<br>Orders: 1<br>Spent: $21.91<br>Avg Review: 4.0",
          "Customer: cust_7e311fa741afec994171d4a8<br>Orders: 1<br>Spent: $149.93<br>Avg Review: 4.0",
          "Customer: cust_7e4ca6fbd12cc324c4d0d4ba<br>Orders: 1<br>Spent: $52.57<br>Avg Review: 4.0",
          "Customer: cust_7e594d6a3e4490c1fdeacf32<br>Orders: 1<br>Spent: $23.85<br>Avg Review: nan",
          "Customer: cust_7e63a3ae9e94076691da5f8f<br>Orders: 2<br>Spent: $1189.84<br>Avg Review: 3.0",
          "Customer: cust_7e69933d7b56d84e74c2309a<br>Orders: 1<br>Spent: $137.26<br>Avg Review: nan",
          "Customer: cust_7e71e1502c48da48579f3b5d<br>Orders: 1<br>Spent: $936.58<br>Avg Review: 5.0",
          "Customer: cust_7e7cbe5607a1cf67062049ff<br>Orders: 1<br>Spent: $750.19<br>Avg Review: 5.0",
          "Customer: cust_7e7f222c0580504c2eed9916<br>Orders: 1<br>Spent: $630.39<br>Avg Review: 1.0",
          "Customer: cust_7e8820a7f5c5a86940de03a4<br>Orders: 1<br>Spent: $139.48<br>Avg Review: 5.0",
          "Customer: cust_7eb955c82a176926a1c29c24<br>Orders: 1<br>Spent: $135.22<br>Avg Review: nan",
          "Customer: cust_7eba15976ebca16a47f0edcd<br>Orders: 1<br>Spent: $496.64<br>Avg Review: nan",
          "Customer: cust_7ed2fbfbbc364c063468e00d<br>Orders: 1<br>Spent: $218.23<br>Avg Review: 5.0",
          "Customer: cust_7eda7390fa6cd65e4d1344e9<br>Orders: 1<br>Spent: $1524.64<br>Avg Review: 2.0",
          "Customer: cust_7ee2bb096522e619c48522bc<br>Orders: 2<br>Spent: $957.37<br>Avg Review: 5.0",
          "Customer: cust_7eec07d4fbdc8a20d881a52d<br>Orders: 1<br>Spent: $87.22<br>Avg Review: 3.0",
          "Customer: cust_7eec4004c3fee4040deee579<br>Orders: 1<br>Spent: $36.31<br>Avg Review: nan",
          "Customer: cust_7f1437a9ae421ed61f4d4192<br>Orders: 1<br>Spent: $63.59<br>Avg Review: 5.0",
          "Customer: cust_7f1484672e47dbaaf25d0964<br>Orders: 1<br>Spent: $213.8<br>Avg Review: 5.0",
          "Customer: cust_7f2f58bcfc796677c69bb375<br>Orders: 1<br>Spent: $513.91<br>Avg Review: nan",
          "Customer: cust_7f5952c11315e2571fa69a80<br>Orders: 2<br>Spent: $3943.36<br>Avg Review: 5.0",
          "Customer: cust_7f60f1c084360221f4e6ec5c<br>Orders: 1<br>Spent: $856.06<br>Avg Review: 3.0",
          "Customer: cust_7f6ef0572094ae98d4f57456<br>Orders: 1<br>Spent: $1511.23<br>Avg Review: 5.0",
          "Customer: cust_7f7a0ccabb571cf4c9435570<br>Orders: 1<br>Spent: $1559.99<br>Avg Review: nan",
          "Customer: cust_7f85b59f4e02d1574c138feb<br>Orders: 1<br>Spent: $1746.11<br>Avg Review: nan",
          "Customer: cust_7f9752ac6d2acb144f53cbc9<br>Orders: 1<br>Spent: $55.51<br>Avg Review: nan",
          "Customer: cust_7fa1b91fa1a697432383831f<br>Orders: 1<br>Spent: $553.49<br>Avg Review: nan",
          "Customer: cust_7fa49208293d2b3b583a7ae8<br>Orders: 1<br>Spent: $1395.94<br>Avg Review: 3.0",
          "Customer: cust_7fdd22c01de1a400e6cd8824<br>Orders: 1<br>Spent: $111.82<br>Avg Review: 4.0",
          "Customer: cust_7fe3253404730e7258fcfbce<br>Orders: 1<br>Spent: $3194.77<br>Avg Review: 5.0",
          "Customer: cust_8002a75be3929a342f90d723<br>Orders: 2<br>Spent: $1159.24<br>Avg Review: 3.5",
          "Customer: cust_800838b02a60f379b7167e9d<br>Orders: 1<br>Spent: $209.27<br>Avg Review: nan",
          "Customer: cust_80190f889cec4183656cb869<br>Orders: 1<br>Spent: $315.82<br>Avg Review: 5.0",
          "Customer: cust_8023f7e8b5f83e3f715b3013<br>Orders: 1<br>Spent: $425.21<br>Avg Review: 5.0",
          "Customer: cust_802677284015996c52276056<br>Orders: 1<br>Spent: $1724.6<br>Avg Review: 3.0",
          "Customer: cust_8037584a74b5ef835d5c6fa1<br>Orders: 1<br>Spent: $41.18<br>Avg Review: 5.0",
          "Customer: cust_80900914e39f3225cb2f2743<br>Orders: 2<br>Spent: $219.63<br>Avg Review: 4.0",
          "Customer: cust_809076e2577977a532aeff5a<br>Orders: 1<br>Spent: $439.67<br>Avg Review: 5.0",
          "Customer: cust_8090ad9f309a53b7770b5e19<br>Orders: 1<br>Spent: $1397.58<br>Avg Review: 1.0",
          "Customer: cust_809a549cd81638f6ee2ce3f1<br>Orders: 1<br>Spent: $529.35<br>Avg Review: 4.0",
          "Customer: cust_80b937397ad919ad540dfe9f<br>Orders: 1<br>Spent: $1082.18<br>Avg Review: 5.0",
          "Customer: cust_80e7cc14e552984ea9a3a359<br>Orders: 1<br>Spent: $1728.52<br>Avg Review: 4.0",
          "Customer: cust_80e96be74b81ff61e8d6725a<br>Orders: 1<br>Spent: $460.1<br>Avg Review: 5.0",
          "Customer: cust_80ef2549f584d96adcce89b1<br>Orders: 1<br>Spent: $333.12<br>Avg Review: nan",
          "Customer: cust_80fda66fa6825079b0d81e83<br>Orders: 1<br>Spent: $1472.76<br>Avg Review: 2.0",
          "Customer: cust_8128b56e7f19a8e7147391f5<br>Orders: 1<br>Spent: $28.46<br>Avg Review: 5.0",
          "Customer: cust_81391535f00717d267e48c3e<br>Orders: 1<br>Spent: $818.98<br>Avg Review: 4.0",
          "Customer: cust_8152607bcd4d664e1f3b2a1f<br>Orders: 1<br>Spent: $645.94<br>Avg Review: 4.0",
          "Customer: cust_81628408640fcc95064a30c2<br>Orders: 3<br>Spent: $1533.81<br>Avg Review: nan",
          "Customer: cust_81669d19f5b259513a8f3d07<br>Orders: 2<br>Spent: $904.15<br>Avg Review: 4.8",
          "Customer: cust_8168c7610e174cbad9c73c94<br>Orders: 1<br>Spent: $384.01<br>Avg Review: 5.0",
          "Customer: cust_818dcf4c095c75f56a00e4b4<br>Orders: 2<br>Spent: $2812.66<br>Avg Review: 5.0",
          "Customer: cust_81d030664ebd2e6f025d03be<br>Orders: 1<br>Spent: $845.5<br>Avg Review: nan",
          "Customer: cust_81d15ff97fce02085b8939d3<br>Orders: 1<br>Spent: $1157.1<br>Avg Review: 4.0",
          "Customer: cust_81d5f83af71158cc3f43200b<br>Orders: 1<br>Spent: $1547.53<br>Avg Review: nan",
          "Customer: cust_81ecbadb3979b0e120db6203<br>Orders: 1<br>Spent: $1243.57<br>Avg Review: nan",
          "Customer: cust_81ef54581d14d57afd6b329f<br>Orders: 1<br>Spent: $372.79<br>Avg Review: 5.0",
          "Customer: cust_820665f25d8fe56bb3390b2f<br>Orders: 1<br>Spent: $1176.31<br>Avg Review: nan",
          "Customer: cust_8218a1a145f26c91c573be8a<br>Orders: 1<br>Spent: $373.53<br>Avg Review: 4.0",
          "Customer: cust_8224214b982cb2c0b15ab6d9<br>Orders: 2<br>Spent: $962.2<br>Avg Review: 3.0",
          "Customer: cust_823affd0f28ae56e930b12d1<br>Orders: 1<br>Spent: $1483.54<br>Avg Review: 4.0",
          "Customer: cust_82491a31d00f589bc4ab79e5<br>Orders: 1<br>Spent: $143.43<br>Avg Review: nan",
          "Customer: cust_8259bcef307c987f2109d0a4<br>Orders: 1<br>Spent: $163.53<br>Avg Review: nan",
          "Customer: cust_826067259a6e13c418ae6ee5<br>Orders: 2<br>Spent: $1873.02<br>Avg Review: 4.3",
          "Customer: cust_827568f94062965e758b7615<br>Orders: 1<br>Spent: $314.83<br>Avg Review: 5.0",
          "Customer: cust_827f05b0b1cfb6eeb89a41f7<br>Orders: 2<br>Spent: $1916.43<br>Avg Review: 4.0",
          "Customer: cust_82abd68793bfc90aa4129eb8<br>Orders: 1<br>Spent: $17.76<br>Avg Review: 3.0",
          "Customer: cust_82d235544f0973839f3bb940<br>Orders: 2<br>Spent: $337.79<br>Avg Review: 5.0",
          "Customer: cust_82ead9c2351f8d1c537edf27<br>Orders: 1<br>Spent: $292.94<br>Avg Review: 5.0",
          "Customer: cust_830910860f78899a734c92a6<br>Orders: 1<br>Spent: $145.72<br>Avg Review: 4.0",
          "Customer: cust_8319948fc0bd59e179b2d9aa<br>Orders: 1<br>Spent: $42.18<br>Avg Review: nan",
          "Customer: cust_8326c139aab578122028f3de<br>Orders: 1<br>Spent: $230.74<br>Avg Review: 4.0",
          "Customer: cust_8327d39f3813c57655a6a4b8<br>Orders: 2<br>Spent: $2018.94<br>Avg Review: 3.5",
          "Customer: cust_833409dd44aa144ecdfc29ac<br>Orders: 2<br>Spent: $770.74<br>Avg Review: 5.0",
          "Customer: cust_834b19582656a54e911ea583<br>Orders: 1<br>Spent: $79.74<br>Avg Review: nan",
          "Customer: cust_835a36660754ec4ace1e8203<br>Orders: 2<br>Spent: $185.87<br>Avg Review: 4.7",
          "Customer: cust_835e74abdd1ded8ceeff259e<br>Orders: 1<br>Spent: $1232.26<br>Avg Review: 5.0",
          "Customer: cust_838b6794c78f132c9c279b89<br>Orders: 1<br>Spent: $1359.86<br>Avg Review: 3.0",
          "Customer: cust_838c746104fb5d3f5fe3bc2e<br>Orders: 1<br>Spent: $1421.09<br>Avg Review: 5.0",
          "Customer: cust_8391409e647c6bc15b538b6b<br>Orders: 1<br>Spent: $54.39<br>Avg Review: 3.0",
          "Customer: cust_83aea0732d671b0da9ecff07<br>Orders: 1<br>Spent: $109.14<br>Avg Review: 5.0",
          "Customer: cust_83b53b290e1dab2106446108<br>Orders: 1<br>Spent: $2360.64<br>Avg Review: 5.0",
          "Customer: cust_83cccc73a9be7a6f9dbacf9b<br>Orders: 1<br>Spent: $50.19<br>Avg Review: nan",
          "Customer: cust_83ce4271fcb8de40f454340d<br>Orders: 1<br>Spent: $886.96<br>Avg Review: nan",
          "Customer: cust_83d23467941b216b47150757<br>Orders: 1<br>Spent: $307.09<br>Avg Review: 5.0",
          "Customer: cust_83d68206a04a9ca67084e966<br>Orders: 1<br>Spent: $242.88<br>Avg Review: nan",
          "Customer: cust_83e8456b5d47996db30d5944<br>Orders: 1<br>Spent: $637.45<br>Avg Review: nan",
          "Customer: cust_83ee04a255b7655f7cbe71b2<br>Orders: 1<br>Spent: $521.06<br>Avg Review: 4.0",
          "Customer: cust_83f5a78941d08e84955c519b<br>Orders: 1<br>Spent: $726.21<br>Avg Review: 4.0",
          "Customer: cust_8404ed62cab653d45b803c46<br>Orders: 1<br>Spent: $1075.51<br>Avg Review: 4.0",
          "Customer: cust_8407f9e990bf69ca2eb638e5<br>Orders: 2<br>Spent: $202.71<br>Avg Review: 2.7",
          "Customer: cust_8419250cdb557fb12d5513ae<br>Orders: 1<br>Spent: $1023.96<br>Avg Review: nan",
          "Customer: cust_841ed11fba55a4a3e1019b46<br>Orders: 1<br>Spent: $43.24<br>Avg Review: 5.0",
          "Customer: cust_84235a6f21ab9f4ae21c52c3<br>Orders: 1<br>Spent: $18.79<br>Avg Review: 3.0",
          "Customer: cust_842cfdc5db1ce50a62b28881<br>Orders: 1<br>Spent: $186.97<br>Avg Review: 5.0",
          "Customer: cust_843941c0fa9baa116dadea79<br>Orders: 1<br>Spent: $361.51<br>Avg Review: nan",
          "Customer: cust_8439814acc2aa41447365373<br>Orders: 1<br>Spent: $408.61<br>Avg Review: 2.0",
          "Customer: cust_843c7a2022f1b305a7ccebe8<br>Orders: 1<br>Spent: $858.43<br>Avg Review: 5.0",
          "Customer: cust_84475f70f232e3b6808d47e8<br>Orders: 1<br>Spent: $299.9<br>Avg Review: nan",
          "Customer: cust_845b0f5ded080d9029c4e340<br>Orders: 1<br>Spent: $746.04<br>Avg Review: 4.0",
          "Customer: cust_845db84248e61ffcf92a3656<br>Orders: 1<br>Spent: $581.61<br>Avg Review: 2.0",
          "Customer: cust_846b99185db12dec4b4ef787<br>Orders: 2<br>Spent: $1664.47<br>Avg Review: 1.0",
          "Customer: cust_847c64838405c9a9372d3d1e<br>Orders: 2<br>Spent: $1624.76<br>Avg Review: 3.0",
          "Customer: cust_84a6222461637b47e59c6a4b<br>Orders: 1<br>Spent: $132.95<br>Avg Review: 1.0",
          "Customer: cust_84b4bcd8fa47e5c5d18f5dab<br>Orders: 1<br>Spent: $12.22<br>Avg Review: nan",
          "Customer: cust_84da3d4b0681935dd1bdb6bf<br>Orders: 1<br>Spent: $51.64<br>Avg Review: 4.0",
          "Customer: cust_84ec63b8ff69db6bd3042f06<br>Orders: 1<br>Spent: $607.05<br>Avg Review: nan",
          "Customer: cust_84f7416ffa17cef8da5ab978<br>Orders: 1<br>Spent: $652.6<br>Avg Review: nan",
          "Customer: cust_84fa04348fc30bcd9ead7162<br>Orders: 1<br>Spent: $64.4<br>Avg Review: 5.0",
          "Customer: cust_84fc6fe0f9b1a38361539040<br>Orders: 1<br>Spent: $903.73<br>Avg Review: 5.0",
          "Customer: cust_851492df8a8fca550f1ecbb1<br>Orders: 1<br>Spent: $15.04<br>Avg Review: nan",
          "Customer: cust_8520e5b108f1f645ba3e4233<br>Orders: 1<br>Spent: $1069.88<br>Avg Review: 3.0",
          "Customer: cust_853a82e1c060d642a668fb57<br>Orders: 1<br>Spent: $795.16<br>Avg Review: 1.0",
          "Customer: cust_8542912c830b1e10846db0ca<br>Orders: 1<br>Spent: $431.84<br>Avg Review: 3.0",
          "Customer: cust_855239c089b0135ace13abfa<br>Orders: 1<br>Spent: $1939.27<br>Avg Review: 2.0",
          "Customer: cust_8601963d625eaf7e8fcf9f92<br>Orders: 3<br>Spent: $591.67<br>Avg Review: nan",
          "Customer: cust_860e653c8b576ce17a437588<br>Orders: 1<br>Spent: $87.53<br>Avg Review: 2.0",
          "Customer: cust_861a086f781a3d40cc021186<br>Orders: 1<br>Spent: $582.08<br>Avg Review: 4.0",
          "Customer: cust_861fa181580f4e13f1f60b37<br>Orders: 1<br>Spent: $2613.52<br>Avg Review: nan",
          "Customer: cust_8620c3f437ca406f27a4ee95<br>Orders: 1<br>Spent: $333.9<br>Avg Review: 4.0",
          "Customer: cust_864e9312e7577a0415622b07<br>Orders: 1<br>Spent: $302.36<br>Avg Review: 5.0",
          "Customer: cust_8653c21143ae5f6772d1a824<br>Orders: 2<br>Spent: $2194.2<br>Avg Review: 4.5",
          "Customer: cust_8666f55fb9edcfa3531750d3<br>Orders: 1<br>Spent: $1008.92<br>Avg Review: 4.0",
          "Customer: cust_8672850288b6d09e38329484<br>Orders: 1<br>Spent: $5.4<br>Avg Review: 4.0",
          "Customer: cust_86c3067bb4d5942c7db312e2<br>Orders: 1<br>Spent: $71.23<br>Avg Review: 5.0",
          "Customer: cust_86d10fc3bcd02f9cb890df30<br>Orders: 2<br>Spent: $834.1<br>Avg Review: 4.3",
          "Customer: cust_86e6d21b4b551702e573ad1b<br>Orders: 1<br>Spent: $337.94<br>Avg Review: 5.0",
          "Customer: cust_86f67db238f102e9550be222<br>Orders: 1<br>Spent: $25.09<br>Avg Review: 3.0",
          "Customer: cust_86fee6bdfb1897ef152327de<br>Orders: 1<br>Spent: $1439.8<br>Avg Review: 2.0",
          "Customer: cust_872d1c3f36b2a66894648a61<br>Orders: 1<br>Spent: $1533.22<br>Avg Review: 2.0",
          "Customer: cust_87513590979e5b0becba5098<br>Orders: 1<br>Spent: $351.92<br>Avg Review: nan",
          "Customer: cust_875598074c8b3f75966d3c60<br>Orders: 1<br>Spent: $792.45<br>Avg Review: 5.0",
          "Customer: cust_87731ac1eaf56ceba58deb10<br>Orders: 1<br>Spent: $1192.49<br>Avg Review: nan",
          "Customer: cust_8778b8526e8be36e5fd65d12<br>Orders: 1<br>Spent: $895.84<br>Avg Review: 5.0",
          "Customer: cust_8782937d8085af5c31b8f81d<br>Orders: 1<br>Spent: $169.01<br>Avg Review: 4.0",
          "Customer: cust_87a260923980636af3503e3a<br>Orders: 1<br>Spent: $382.64<br>Avg Review: 4.0",
          "Customer: cust_87a86b7d69d68e9a6d116c98<br>Orders: 1<br>Spent: $336.66<br>Avg Review: 3.0",
          "Customer: cust_87b8284855b5d4082e678756<br>Orders: 2<br>Spent: $149.63<br>Avg Review: 3.0",
          "Customer: cust_87c20a54b43e228d90ee62fa<br>Orders: 1<br>Spent: $67.98<br>Avg Review: 5.0",
          "Customer: cust_87c9ddbb5ecbf9435dc29cf7<br>Orders: 3<br>Spent: $1607.71<br>Avg Review: 3.0",
          "Customer: cust_87d5e1d450c7182323beabe9<br>Orders: 2<br>Spent: $3258.96<br>Avg Review: 4.0",
          "Customer: cust_87ed39b7591fb3d864025c8f<br>Orders: 1<br>Spent: $216.02<br>Avg Review: 5.0",
          "Customer: cust_883d9fad0a49b64976d7c8a3<br>Orders: 2<br>Spent: $2015.01<br>Avg Review: 5.0",
          "Customer: cust_883ed242ef0a264830287a2d<br>Orders: 1<br>Spent: $83.22<br>Avg Review: nan",
          "Customer: cust_885ee6f26e084ffabb367b07<br>Orders: 1<br>Spent: $1022.65<br>Avg Review: nan",
          "Customer: cust_88805a3cdaec33b1e5949ca4<br>Orders: 1<br>Spent: $76.27<br>Avg Review: 5.0",
          "Customer: cust_8883cbd99cec44f4828cd2c9<br>Orders: 1<br>Spent: $606.57<br>Avg Review: nan",
          "Customer: cust_88917faaab449b0d3993dda8<br>Orders: 1<br>Spent: $2705.85<br>Avg Review: 5.0",
          "Customer: cust_889d0bf6b600233348d9ed2c<br>Orders: 3<br>Spent: $1146.85<br>Avg Review: 3.4",
          "Customer: cust_88b398b02c4973f1138e2da2<br>Orders: 1<br>Spent: $267.96<br>Avg Review: 5.0",
          "Customer: cust_88b99b9e510c410bcdcc9eb1<br>Orders: 1<br>Spent: $1570.97<br>Avg Review: 5.0",
          "Customer: cust_89020b0b86a65257620caca5<br>Orders: 1<br>Spent: $60.79<br>Avg Review: nan",
          "Customer: cust_890b0c1ff4136b5594f361d5<br>Orders: 1<br>Spent: $1554.51<br>Avg Review: nan",
          "Customer: cust_891e1e4bd33f060ff55e773f<br>Orders: 1<br>Spent: $70.45<br>Avg Review: nan",
          "Customer: cust_892768041b68cbb2cc76a80c<br>Orders: 2<br>Spent: $551.96<br>Avg Review: 5.0",
          "Customer: cust_892e208963709ca570a84c32<br>Orders: 1<br>Spent: $17.74<br>Avg Review: 5.0",
          "Customer: cust_8971208c57771a50c4ba6824<br>Orders: 1<br>Spent: $76.51<br>Avg Review: 4.0",
          "Customer: cust_897bc7cb500233a97b05e577<br>Orders: 1<br>Spent: $39.48<br>Avg Review: 5.0",
          "Customer: cust_89865a5d8121eb8a57ed7458<br>Orders: 1<br>Spent: $840.47<br>Avg Review: 1.0",
          "Customer: cust_89ce61db641b9f68b6355540<br>Orders: 1<br>Spent: $131.11<br>Avg Review: 3.0",
          "Customer: cust_89d4cd2fccbaaf4815b4e74d<br>Orders: 1<br>Spent: $464.76<br>Avg Review: 5.0",
          "Customer: cust_89d63c6bb79954a810830026<br>Orders: 1<br>Spent: $879.16<br>Avg Review: 3.0",
          "Customer: cust_89d7327b5f72fba244c1850f<br>Orders: 1<br>Spent: $37.08<br>Avg Review: 4.0",
          "Customer: cust_89dd524a230aa5bd21e32c33<br>Orders: 1<br>Spent: $1309.22<br>Avg Review: 4.0",
          "Customer: cust_89f2451028a71fccca11a4e4<br>Orders: 1<br>Spent: $1382.54<br>Avg Review: 4.0",
          "Customer: cust_89f3c0a40d79c4c76eea3822<br>Orders: 2<br>Spent: $2417.06<br>Avg Review: 3.0",
          "Customer: cust_89fc419c0c0febd012571255<br>Orders: 1<br>Spent: $196.19<br>Avg Review: 5.0",
          "Customer: cust_8a117ed9c0f05ff3281b2351<br>Orders: 3<br>Spent: $1705.16<br>Avg Review: 4.0",
          "Customer: cust_8a1b5ec06acc8b9e243438af<br>Orders: 1<br>Spent: $828.27<br>Avg Review: 2.0",
          "Customer: cust_8a21bc5c457df14b0fb460c5<br>Orders: 1<br>Spent: $432.22<br>Avg Review: nan",
          "Customer: cust_8a2c9678ea9b56e0cf71d546<br>Orders: 2<br>Spent: $1847.21<br>Avg Review: 1.0",
          "Customer: cust_8a2f17fe09649efb69e04e55<br>Orders: 1<br>Spent: $187.46<br>Avg Review: 5.0",
          "Customer: cust_8a39eb8b3806d6168d3206a4<br>Orders: 1<br>Spent: $3950.55<br>Avg Review: 3.0",
          "Customer: cust_8a61d79d1608917ffdac82a0<br>Orders: 1<br>Spent: $162.85<br>Avg Review: 4.0",
          "Customer: cust_8a6edc805527c70e67ba2965<br>Orders: 1<br>Spent: $368.79<br>Avg Review: 5.0",
          "Customer: cust_8a78ee65237235e1aea18908<br>Orders: 1<br>Spent: $151.29<br>Avg Review: nan",
          "Customer: cust_8adf49f221842cdf5f392a62<br>Orders: 1<br>Spent: $694.04<br>Avg Review: 5.0",
          "Customer: cust_8ae448e42cdcb9b02710e87b<br>Orders: 1<br>Spent: $72.05<br>Avg Review: 5.0",
          "Customer: cust_8ae82d1c67804e6c403f610d<br>Orders: 1<br>Spent: $262.12<br>Avg Review: 3.0",
          "Customer: cust_8af03f1fd0671ac22191e705<br>Orders: 1<br>Spent: $867.96<br>Avg Review: 5.0",
          "Customer: cust_8b01fb92b8189fa139c787e8<br>Orders: 1<br>Spent: $302.36<br>Avg Review: 5.0",
          "Customer: cust_8b03da35d7004f439579f85a<br>Orders: 2<br>Spent: $283.95<br>Avg Review: 3.0",
          "Customer: cust_8b34715c30e3eb934cbdd726<br>Orders: 1<br>Spent: $812.82<br>Avg Review: 4.0",
          "Customer: cust_8b5b2d108481180331ee7ee9<br>Orders: 1<br>Spent: $392.94<br>Avg Review: 5.0",
          "Customer: cust_8b62570fedf536a403c10d1b<br>Orders: 5<br>Spent: $1652.06<br>Avg Review: 3.5",
          "Customer: cust_8b6effeb4d5926ce95badc8b<br>Orders: 1<br>Spent: $41.47<br>Avg Review: nan",
          "Customer: cust_8bb4d89ad11d67525b158f08<br>Orders: 1<br>Spent: $936.48<br>Avg Review: nan",
          "Customer: cust_8bc6eabfe3e8c939beed7049<br>Orders: 1<br>Spent: $287.87<br>Avg Review: 5.0",
          "Customer: cust_8bc9b45c2c944ca1f3bf2e1a<br>Orders: 1<br>Spent: $2020.39<br>Avg Review: 5.0",
          "Customer: cust_8bd1a807ac8cf85d5c02beea<br>Orders: 1<br>Spent: $302.44<br>Avg Review: 5.0",
          "Customer: cust_8be3875c28a200b3d9db2e7e<br>Orders: 1<br>Spent: $654.04<br>Avg Review: 2.0",
          "Customer: cust_8beb654f1505a9ec7a84e9da<br>Orders: 1<br>Spent: $742.24<br>Avg Review: 3.0",
          "Customer: cust_8bf128476b82c3245039420c<br>Orders: 2<br>Spent: $1888.94<br>Avg Review: 4.7",
          "Customer: cust_8bf1a2764c98df47b57e84b6<br>Orders: 1<br>Spent: $1238.16<br>Avg Review: nan",
          "Customer: cust_8bfda4be5db50355a8c15e04<br>Orders: 1<br>Spent: $314.95<br>Avg Review: nan",
          "Customer: cust_8c1d9acbbebe797676b89dca<br>Orders: 1<br>Spent: $192.9<br>Avg Review: nan",
          "Customer: cust_8c5e650d3f1b29903f5c6c60<br>Orders: 1<br>Spent: $113.79<br>Avg Review: 5.0",
          "Customer: cust_8c66632984746a39ba2665de<br>Orders: 2<br>Spent: $365.17<br>Avg Review: 5.0",
          "Customer: cust_8c708818aaaf499adb258991<br>Orders: 1<br>Spent: $118.29<br>Avg Review: 5.0",
          "Customer: cust_8c76a445125772e27a942d1f<br>Orders: 1<br>Spent: $767.06<br>Avg Review: 5.0",
          "Customer: cust_8cafe3acfc8e6550eae0874b<br>Orders: 1<br>Spent: $13.15<br>Avg Review: 5.0",
          "Customer: cust_8cb92824c5f48b8a03fb4e79<br>Orders: 1<br>Spent: $3227.94<br>Avg Review: 5.0",
          "Customer: cust_8ce40af60d37c8b3090785b5<br>Orders: 1<br>Spent: $2449.7<br>Avg Review: 4.0",
          "Customer: cust_8d013cc9178898f41156d953<br>Orders: 1<br>Spent: $171.61<br>Avg Review: nan",
          "Customer: cust_8d0415b9b2745a4e3894e2c0<br>Orders: 1<br>Spent: $736.46<br>Avg Review: 4.0",
          "Customer: cust_8d11a97b46737e0bb6f75525<br>Orders: 1<br>Spent: $767.32<br>Avg Review: nan",
          "Customer: cust_8d19a1e5e847816129d5ea97<br>Orders: 1<br>Spent: $111.21<br>Avg Review: nan",
          "Customer: cust_8d1f45a35b8dc83870c63c7c<br>Orders: 1<br>Spent: $1434.33<br>Avg Review: nan",
          "Customer: cust_8d2318062b731a61ac012e7b<br>Orders: 1<br>Spent: $142.71<br>Avg Review: 5.0",
          "Customer: cust_8d2aa11fed00bb8a0f201896<br>Orders: 1<br>Spent: $129.88<br>Avg Review: 2.0",
          "Customer: cust_8d2e9a6712aa044c5272da34<br>Orders: 2<br>Spent: $921.01<br>Avg Review: 5.0",
          "Customer: cust_8d2f4eca4d3b4463f93109b1<br>Orders: 2<br>Spent: $460.42<br>Avg Review: 5.0",
          "Customer: cust_8d313356fd3d7aa4c83e1f66<br>Orders: 1<br>Spent: $734.35<br>Avg Review: 1.0",
          "Customer: cust_8d32897007c30346f9d78e2e<br>Orders: 1<br>Spent: $161.35<br>Avg Review: nan",
          "Customer: cust_8d5af74b064b766c8ca4eaba<br>Orders: 1<br>Spent: $362.43<br>Avg Review: 5.0",
          "Customer: cust_8d6687d8c0d3c3aafb1d32e2<br>Orders: 2<br>Spent: $668.46<br>Avg Review: 5.0",
          "Customer: cust_8d81d5f4a6b9226540396b76<br>Orders: 1<br>Spent: $698.4<br>Avg Review: 4.0",
          "Customer: cust_8dde0a86c3cf8812d2ff01e7<br>Orders: 1<br>Spent: $166.53<br>Avg Review: 3.0",
          "Customer: cust_8df91de9be7422732aaf6292<br>Orders: 1<br>Spent: $146.28<br>Avg Review: 5.0",
          "Customer: cust_8e0b8091643d55eb078c1a95<br>Orders: 2<br>Spent: $3527.28<br>Avg Review: 4.7",
          "Customer: cust_8e0f86b9b8bc0f503bdfe2bf<br>Orders: 1<br>Spent: $3367.88<br>Avg Review: nan",
          "Customer: cust_8e224b95129be42fbe319e5e<br>Orders: 1<br>Spent: $88.95<br>Avg Review: 5.0",
          "Customer: cust_8e82352bd95f5581eb72b649<br>Orders: 1<br>Spent: $1921.33<br>Avg Review: 5.0",
          "Customer: cust_8e83493fa69d8d03b9435481<br>Orders: 2<br>Spent: $2190.57<br>Avg Review: 4.3",
          "Customer: cust_8e88fbb5a9aa10466a5a2994<br>Orders: 2<br>Spent: $1047.29<br>Avg Review: 4.5",
          "Customer: cust_8e8b6bf424cff2465567b5f1<br>Orders: 1<br>Spent: $1854.09<br>Avg Review: 5.0",
          "Customer: cust_8e8f53d39c1c6871efed41b6<br>Orders: 1<br>Spent: $411.61<br>Avg Review: nan",
          "Customer: cust_8ea0538564d50353b2c62aaf<br>Orders: 1<br>Spent: $1889.95<br>Avg Review: 5.0",
          "Customer: cust_8eabd1eea3e35608b2d22976<br>Orders: 2<br>Spent: $4299.91<br>Avg Review: 2.0",
          "Customer: cust_8eafcd4b340cf46ae922c57a<br>Orders: 1<br>Spent: $35.17<br>Avg Review: 5.0",
          "Customer: cust_8eb00d3781dd341a45b4633a<br>Orders: 2<br>Spent: $3379.22<br>Avg Review: 4.2",
          "Customer: cust_8ebbca4cd034f6fee91c363a<br>Orders: 2<br>Spent: $1092.62<br>Avg Review: 3.5",
          "Customer: cust_8ebc8ee00fa2cbfdd8ff1d20<br>Orders: 1<br>Spent: $171.48<br>Avg Review: 4.0",
          "Customer: cust_8ec821bb9091766b3c14d8a8<br>Orders: 2<br>Spent: $1074.05<br>Avg Review: nan",
          "Customer: cust_8ed11dbe1f69ce203411b17a<br>Orders: 2<br>Spent: $3799.51<br>Avg Review: 4.8",
          "Customer: cust_8edd3fa92f90e034e4863fdb<br>Orders: 1<br>Spent: $164.0<br>Avg Review: 4.0",
          "Customer: cust_8ee43eb47795e03dbe5b5967<br>Orders: 2<br>Spent: $602.76<br>Avg Review: 3.6",
          "Customer: cust_8f08bdf7385c7344ef04663e<br>Orders: 2<br>Spent: $1960.44<br>Avg Review: 3.0",
          "Customer: cust_8f29b48864bc9b4c5a68ac78<br>Orders: 1<br>Spent: $13.37<br>Avg Review: 5.0",
          "Customer: cust_8f35063d75301de6b976dcdb<br>Orders: 2<br>Spent: $1802.51<br>Avg Review: 3.3",
          "Customer: cust_8f97952ba37555ce147c52c1<br>Orders: 1<br>Spent: $2787.83<br>Avg Review: nan",
          "Customer: cust_8fa0f4d90bab6fa7d06c11cb<br>Orders: 2<br>Spent: $241.58<br>Avg Review: 5.0",
          "Customer: cust_8faaa6947c3d7d7198b03a85<br>Orders: 1<br>Spent: $21.34<br>Avg Review: 3.0",
          "Customer: cust_8fc58e4b640d4a1a5af8819e<br>Orders: 1<br>Spent: $1744.79<br>Avg Review: 3.0",
          "Customer: cust_8fd9f1983993232649bf6f3f<br>Orders: 2<br>Spent: $812.07<br>Avg Review: 4.0",
          "Customer: cust_8fdae8241aba7803a29da9e7<br>Orders: 3<br>Spent: $3727.16<br>Avg Review: 3.0",
          "Customer: cust_90003dae235a0534291fc360<br>Orders: 1<br>Spent: $1966.65<br>Avg Review: nan",
          "Customer: cust_902146f7ae1b560afe316e40<br>Orders: 2<br>Spent: $1255.94<br>Avg Review: 5.0",
          "Customer: cust_903df9ef94bffa109af1fae8<br>Orders: 1<br>Spent: $1165.18<br>Avg Review: 5.0",
          "Customer: cust_903e9641c7d3a183405290cf<br>Orders: 1<br>Spent: $1924.64<br>Avg Review: nan",
          "Customer: cust_9050975aae93480e842ae769<br>Orders: 1<br>Spent: $1874.91<br>Avg Review: 2.0",
          "Customer: cust_905fb6be25e51ae94e889f48<br>Orders: 1<br>Spent: $638.36<br>Avg Review: nan",
          "Customer: cust_908e8d01af64431a33cd9e45<br>Orders: 1<br>Spent: $1435.57<br>Avg Review: 3.0",
          "Customer: cust_909c5d5a19249eb5cb556f62<br>Orders: 1<br>Spent: $700.82<br>Avg Review: 1.0",
          "Customer: cust_90bc7df2b374b514a47eb1af<br>Orders: 1<br>Spent: $1677.21<br>Avg Review: nan",
          "Customer: cust_90beae6c7c9a8bc8195207f0<br>Orders: 2<br>Spent: $363.43<br>Avg Review: 4.5",
          "Customer: cust_90df16048a8d65d3affa6777<br>Orders: 2<br>Spent: $1019.93<br>Avg Review: 4.2",
          "Customer: cust_90eb0e3a463dda166c35c66f<br>Orders: 2<br>Spent: $973.41<br>Avg Review: 4.0",
          "Customer: cust_90f75bd08a1cf3c5f521a4f7<br>Orders: 1<br>Spent: $1812.14<br>Avg Review: 5.0",
          "Customer: cust_90fa78ea8e5a1df744bf1c59<br>Orders: 2<br>Spent: $2511.95<br>Avg Review: 4.2",
          "Customer: cust_910a5f9d379db0d2262d3e0f<br>Orders: 1<br>Spent: $787.26<br>Avg Review: 3.0",
          "Customer: cust_91141df7213170922b55c87e<br>Orders: 1<br>Spent: $51.46<br>Avg Review: nan",
          "Customer: cust_911e5da09c4a4026636611d8<br>Orders: 1<br>Spent: $928.72<br>Avg Review: 2.0",
          "Customer: cust_914c32d2215ffabb93ca8b01<br>Orders: 1<br>Spent: $344.54<br>Avg Review: nan",
          "Customer: cust_9157ad31bebe509ea596359d<br>Orders: 1<br>Spent: $1533.02<br>Avg Review: 5.0",
          "Customer: cust_917b2c6730ac82b59c538bf3<br>Orders: 1<br>Spent: $116.65<br>Avg Review: 5.0",
          "Customer: cust_9186218b31daadf1751470e2<br>Orders: 2<br>Spent: $1899.37<br>Avg Review: 5.0",
          "Customer: cust_9192e4ea929b73545a091ed9<br>Orders: 1<br>Spent: $197.72<br>Avg Review: 4.0",
          "Customer: cust_9199be25b768d522951cf530<br>Orders: 1<br>Spent: $594.01<br>Avg Review: 4.0",
          "Customer: cust_91a0eb55fbe0bdac8b7e6a70<br>Orders: 1<br>Spent: $3364.55<br>Avg Review: 4.0",
          "Customer: cust_91d15159823f0e3596b18a44<br>Orders: 1<br>Spent: $1468.09<br>Avg Review: 5.0",
          "Customer: cust_91d3f9745e0132c7e44ff43b<br>Orders: 2<br>Spent: $1571.39<br>Avg Review: 3.0",
          "Customer: cust_91d8bd982cc49b1d23ec20a4<br>Orders: 2<br>Spent: $531.12<br>Avg Review: 5.0",
          "Customer: cust_920ba12b8b6c4b3fa1fe7763<br>Orders: 1<br>Spent: $100.62<br>Avg Review: 5.0",
          "Customer: cust_92141442636baf3d3a676645<br>Orders: 1<br>Spent: $1816.37<br>Avg Review: 4.0",
          "Customer: cust_921435bcd541753f41d41d07<br>Orders: 1<br>Spent: $1332.91<br>Avg Review: 4.0",
          "Customer: cust_922adaf50e9a400499be0f4f<br>Orders: 1<br>Spent: $199.49<br>Avg Review: 4.0",
          "Customer: cust_923db7c0d1a56f4ef2baac88<br>Orders: 1<br>Spent: $117.79<br>Avg Review: nan",
          "Customer: cust_925d62f676c57f954a6542c6<br>Orders: 1<br>Spent: $548.35<br>Avg Review: 4.0",
          "Customer: cust_929ce700ccf29b3e615b50cb<br>Orders: 1<br>Spent: $175.91<br>Avg Review: 5.0",
          "Customer: cust_92c27c98ac6192e9b84bf196<br>Orders: 1<br>Spent: $1730.03<br>Avg Review: 3.0",
          "Customer: cust_92cfa07fe1093424189b39f5<br>Orders: 1<br>Spent: $1634.16<br>Avg Review: nan",
          "Customer: cust_92f1803d2317d58b8ac63b97<br>Orders: 2<br>Spent: $1008.56<br>Avg Review: 5.0",
          "Customer: cust_93073a1476ffab09f14aeb52<br>Orders: 2<br>Spent: $2147.12<br>Avg Review: 5.0",
          "Customer: cust_931b7d41f99462c0e11e6255<br>Orders: 2<br>Spent: $1801.75<br>Avg Review: 4.0",
          "Customer: cust_9362b47f6289676cc55d24f7<br>Orders: 1<br>Spent: $236.49<br>Avg Review: 5.0",
          "Customer: cust_9376465101a73e3d79c7c475<br>Orders: 1<br>Spent: $185.99<br>Avg Review: 5.0",
          "Customer: cust_93c4d5af08e33dc7e5f35a1a<br>Orders: 1<br>Spent: $50.68<br>Avg Review: 2.0",
          "Customer: cust_93c6232476344031443e9811<br>Orders: 1<br>Spent: $403.62<br>Avg Review: 5.0",
          "Customer: cust_93f93aebd3d07332826d971d<br>Orders: 1<br>Spent: $462.73<br>Avg Review: 5.0",
          "Customer: cust_941b975c236cdbf3c1939ccf<br>Orders: 1<br>Spent: $35.19<br>Avg Review: 4.0",
          "Customer: cust_944a9b8679fee69ed843bb65<br>Orders: 1<br>Spent: $837.38<br>Avg Review: nan",
          "Customer: cust_9459d05979f99611532a12f4<br>Orders: 2<br>Spent: $319.32<br>Avg Review: 5.0",
          "Customer: cust_945b8a25001dbf3461cfdacb<br>Orders: 2<br>Spent: $1481.15<br>Avg Review: 4.0",
          "Customer: cust_9462dbe1edf76696d7c9aa8b<br>Orders: 2<br>Spent: $1748.46<br>Avg Review: 5.0",
          "Customer: cust_94771f88da5dd4181c0d711a<br>Orders: 1<br>Spent: $1315.37<br>Avg Review: 4.0",
          "Customer: cust_9477e9855223c43b9eb575b9<br>Orders: 2<br>Spent: $1516.38<br>Avg Review: nan",
          "Customer: cust_947852864bd9a97f43903b07<br>Orders: 1<br>Spent: $56.73<br>Avg Review: 5.0",
          "Customer: cust_9481688176accdb65ee80072<br>Orders: 1<br>Spent: $1981.06<br>Avg Review: 5.0",
          "Customer: cust_9485cd01517a7797070ebd33<br>Orders: 1<br>Spent: $1024.66<br>Avg Review: 5.0",
          "Customer: cust_948e117d440fe3cf8be6bbde<br>Orders: 1<br>Spent: $35.83<br>Avg Review: nan",
          "Customer: cust_94a418f918b75136a96132d2<br>Orders: 1<br>Spent: $506.56<br>Avg Review: nan",
          "Customer: cust_94d84cd2d46819e7bd11c608<br>Orders: 2<br>Spent: $346.08<br>Avg Review: 4.0",
          "Customer: cust_94ea1e05641262f30c96a3c2<br>Orders: 2<br>Spent: $1176.34<br>Avg Review: 4.5",
          "Customer: cust_94ebd895dd7bcb748dd8c18d<br>Orders: 1<br>Spent: $1768.59<br>Avg Review: 5.0",
          "Customer: cust_95046521489be6b507095be3<br>Orders: 2<br>Spent: $1999.28<br>Avg Review: 2.0",
          "Customer: cust_95059c63804b6ea2102ac245<br>Orders: 1<br>Spent: $1297.27<br>Avg Review: nan",
          "Customer: cust_950b7fa1e9125ed62c1675f0<br>Orders: 2<br>Spent: $403.33<br>Avg Review: 2.0",
          "Customer: cust_950c79830234396b5db76e52<br>Orders: 2<br>Spent: $327.3<br>Avg Review: 4.0",
          "Customer: cust_950f1db57e743a0015e56fc7<br>Orders: 1<br>Spent: $766.94<br>Avg Review: 4.0",
          "Customer: cust_9511cd5783ad83d08650acae<br>Orders: 1<br>Spent: $665.58<br>Avg Review: 5.0",
          "Customer: cust_952d48726a583686304221ab<br>Orders: 2<br>Spent: $2822.95<br>Avg Review: 4.2",
          "Customer: cust_95314c2e6763a028f0d9a982<br>Orders: 2<br>Spent: $4329.16<br>Avg Review: 1.7",
          "Customer: cust_95427b14bf3890900a12b2d7<br>Orders: 3<br>Spent: $2910.76<br>Avg Review: 4.8",
          "Customer: cust_95657876c2b2a080cab1163f<br>Orders: 1<br>Spent: $13.31<br>Avg Review: 5.0",
          "Customer: cust_9568746c8d38aec169d24834<br>Orders: 2<br>Spent: $949.95<br>Avg Review: 2.0",
          "Customer: cust_956d3cd158393ecd0eec9b5b<br>Orders: 1<br>Spent: $140.98<br>Avg Review: nan",
          "Customer: cust_9583bcf00caa4ccd6703b5c3<br>Orders: 1<br>Spent: $253.28<br>Avg Review: 5.0",
          "Customer: cust_95d7c17de902488aeedbce8a<br>Orders: 1<br>Spent: $175.26<br>Avg Review: 5.0",
          "Customer: cust_95d938b3460b91c5c8418416<br>Orders: 2<br>Spent: $2953.13<br>Avg Review: 5.0",
          "Customer: cust_9627d812b5a879698fa79322<br>Orders: 1<br>Spent: $1179.54<br>Avg Review: 5.0",
          "Customer: cust_9634c00cc33616e77c4c4a88<br>Orders: 1<br>Spent: $11.89<br>Avg Review: 2.0",
          "Customer: cust_9635ce8058e67b38b8aa13bf<br>Orders: 2<br>Spent: $837.6<br>Avg Review: 5.0",
          "Customer: cust_964aa18d585e58e14c355e61<br>Orders: 1<br>Spent: $20.7<br>Avg Review: 4.0",
          "Customer: cust_96531a8c26d65dbab375620f<br>Orders: 1<br>Spent: $1051.51<br>Avg Review: nan",
          "Customer: cust_966070fedacf270ccd22755b<br>Orders: 1<br>Spent: $476.94<br>Avg Review: 4.0",
          "Customer: cust_96716aba0ad66ae1df0a8a1c<br>Orders: 1<br>Spent: $743.38<br>Avg Review: 1.0",
          "Customer: cust_9677d595141276fde0255713<br>Orders: 2<br>Spent: $448.23<br>Avg Review: 3.5",
          "Customer: cust_96824475256147d92f0cb047<br>Orders: 1<br>Spent: $55.05<br>Avg Review: 5.0",
          "Customer: cust_9690222a75959ab890f0a5e6<br>Orders: 1<br>Spent: $486.04<br>Avg Review: 5.0",
          "Customer: cust_96d2b7b321f1c8f8a2d697bd<br>Orders: 1<br>Spent: $241.33<br>Avg Review: 4.0",
          "Customer: cust_96dd2f255d85043bdb7f72b4<br>Orders: 1<br>Spent: $475.77<br>Avg Review: 3.0",
          "Customer: cust_96df3a2d3b012750ab2f2339<br>Orders: 1<br>Spent: $153.96<br>Avg Review: 4.0",
          "Customer: cust_96f6a6ba728eee119a72be8c<br>Orders: 1<br>Spent: $55.41<br>Avg Review: 5.0",
          "Customer: cust_972dc975253d589a046821c4<br>Orders: 1<br>Spent: $33.45<br>Avg Review: 4.0",
          "Customer: cust_973ca5ab2990b8c553ce1ba6<br>Orders: 2<br>Spent: $3361.76<br>Avg Review: 5.0",
          "Customer: cust_97456b299a1adab62da9d02d<br>Orders: 1<br>Spent: $179.49<br>Avg Review: 5.0",
          "Customer: cust_97498f9e62d1b72f40342804<br>Orders: 1<br>Spent: $810.09<br>Avg Review: 1.0",
          "Customer: cust_97534e2296a88efd0415a51b<br>Orders: 1<br>Spent: $1703.21<br>Avg Review: 2.0",
          "Customer: cust_977b11c83d4216b9f6f6aeb7<br>Orders: 1<br>Spent: $685.53<br>Avg Review: nan",
          "Customer: cust_978ade7f2d94b44219b690c2<br>Orders: 2<br>Spent: $2377.78<br>Avg Review: 4.0",
          "Customer: cust_979476ae44a7f77479a07520<br>Orders: 1<br>Spent: $824.03<br>Avg Review: 2.0",
          "Customer: cust_97a48772a3da3ca7833e2a8d<br>Orders: 3<br>Spent: $193.99<br>Avg Review: 4.0",
          "Customer: cust_97b9e073343907c0e8c1d9ef<br>Orders: 1<br>Spent: $817.57<br>Avg Review: 5.0",
          "Customer: cust_97e10b38842927f346fdf51c<br>Orders: 1<br>Spent: $163.86<br>Avg Review: 3.0",
          "Customer: cust_980125b2af63294bf00ed5c6<br>Orders: 1<br>Spent: $1590.46<br>Avg Review: 5.0",
          "Customer: cust_9804a3eedfa566b4f5bf4649<br>Orders: 1<br>Spent: $41.73<br>Avg Review: 5.0",
          "Customer: cust_9808fcea253ee36e9fbb4d49<br>Orders: 1<br>Spent: $249.89<br>Avg Review: 4.0",
          "Customer: cust_982532b6f0572f1cbc171508<br>Orders: 1<br>Spent: $211.96<br>Avg Review: 5.0",
          "Customer: cust_982667615879730666f93fe1<br>Orders: 1<br>Spent: $441.27<br>Avg Review: 5.0",
          "Customer: cust_9834cf8779fbfef8c169df35<br>Orders: 2<br>Spent: $872.62<br>Avg Review: 2.0",
          "Customer: cust_984b2c691f615f02c347280f<br>Orders: 3<br>Spent: $3118.35<br>Avg Review: 5.0",
          "Customer: cust_987325b0a735ae5b5178ffc0<br>Orders: 1<br>Spent: $635.22<br>Avg Review: nan",
          "Customer: cust_9884d533f719b7e4001929b6<br>Orders: 1<br>Spent: $66.9<br>Avg Review: 5.0",
          "Customer: cust_98954da9397efee4093c23c0<br>Orders: 1<br>Spent: $1533.45<br>Avg Review: 4.0",
          "Customer: cust_9895d0d0f8914d9b864e1c6c<br>Orders: 1<br>Spent: $100.24<br>Avg Review: 5.0",
          "Customer: cust_98abdd3bc9be66ae3b802eff<br>Orders: 1<br>Spent: $36.02<br>Avg Review: nan",
          "Customer: cust_98aea7e96a19a2413979fc93<br>Orders: 1<br>Spent: $548.17<br>Avg Review: 5.0",
          "Customer: cust_98b1f99a16d36690cb520637<br>Orders: 1<br>Spent: $1631.86<br>Avg Review: 4.0",
          "Customer: cust_98b990ac9fa4ba19ffe84a30<br>Orders: 1<br>Spent: $141.71<br>Avg Review: 5.0",
          "Customer: cust_98bb003759cd61a7018e8f7e<br>Orders: 1<br>Spent: $337.39<br>Avg Review: 2.0",
          "Customer: cust_98cde775e698b2696d459634<br>Orders: 1<br>Spent: $293.84<br>Avg Review: 5.0",
          "Customer: cust_98eaac10ba024089812ce338<br>Orders: 1<br>Spent: $1265.43<br>Avg Review: nan",
          "Customer: cust_98f9cf8e00eb77e3200d7d01<br>Orders: 3<br>Spent: $2174.01<br>Avg Review: 3.0",
          "Customer: cust_98fbc3e33a7661c7ad9f2800<br>Orders: 2<br>Spent: $1673.66<br>Avg Review: nan",
          "Customer: cust_98fd11e86e4a6b2ca2ab853d<br>Orders: 1<br>Spent: $1118.47<br>Avg Review: 1.0",
          "Customer: cust_9911a4e1e1fb07e6fd1a5940<br>Orders: 2<br>Spent: $3991.0<br>Avg Review: 3.0",
          "Customer: cust_9955339e7780a4b0a521a5aa<br>Orders: 1<br>Spent: $273.77<br>Avg Review: 4.0",
          "Customer: cust_996be958d67b8bcd643ad9ef<br>Orders: 3<br>Spent: $1613.88<br>Avg Review: nan",
          "Customer: cust_99797a01802abb222104de4d<br>Orders: 3<br>Spent: $3479.75<br>Avg Review: 4.8",
          "Customer: cust_99b1c786ae3957b9331c1790<br>Orders: 1<br>Spent: $1350.78<br>Avg Review: 4.0",
          "Customer: cust_99b8a7c9601be7caf4915e08<br>Orders: 3<br>Spent: $2639.98<br>Avg Review: 4.2",
          "Customer: cust_99bdefc026e6908f11fa2296<br>Orders: 2<br>Spent: $1322.83<br>Avg Review: 5.0",
          "Customer: cust_99e6946a6f530a9d8d79974f<br>Orders: 1<br>Spent: $1698.51<br>Avg Review: nan",
          "Customer: cust_9a06a42ce43560d71b78ef35<br>Orders: 1<br>Spent: $303.53<br>Avg Review: 5.0",
          "Customer: cust_9a0f12e6227d8d958bfc454d<br>Orders: 1<br>Spent: $498.27<br>Avg Review: 3.0",
          "Customer: cust_9a28fe838321506307a07d1f<br>Orders: 1<br>Spent: $1387.99<br>Avg Review: 5.0",
          "Customer: cust_9a2da0f53dc9cd1c5961ad72<br>Orders: 2<br>Spent: $4639.1<br>Avg Review: 5.0",
          "Customer: cust_9a510f554b5d96a42b517dc3<br>Orders: 2<br>Spent: $1174.04<br>Avg Review: 5.0",
          "Customer: cust_9a6438096cd7eea570aa8d33<br>Orders: 1<br>Spent: $104.23<br>Avg Review: 5.0",
          "Customer: cust_9a65e997f999b42fb9ec1960<br>Orders: 1<br>Spent: $231.23<br>Avg Review: nan",
          "Customer: cust_9a7259f4a18b088906f1b33a<br>Orders: 1<br>Spent: $1328.83<br>Avg Review: nan",
          "Customer: cust_9a7ae7b4b1d6674f1f47e80e<br>Orders: 1<br>Spent: $745.73<br>Avg Review: 5.0",
          "Customer: cust_9a899172b98f5fe96cfba9d4<br>Orders: 3<br>Spent: $2896.35<br>Avg Review: 3.0",
          "Customer: cust_9a8a413ba7c5098f4d99bb99<br>Orders: 3<br>Spent: $5588.07<br>Avg Review: 2.8",
          "Customer: cust_9a90b8e06df25cba950e1d92<br>Orders: 1<br>Spent: $1125.52<br>Avg Review: 5.0",
          "Customer: cust_9a991d2d14a270a87f4650e7<br>Orders: 1<br>Spent: $1870.12<br>Avg Review: 1.0",
          "Customer: cust_9aa3eb3ea26be16395d6afcb<br>Orders: 1<br>Spent: $68.58<br>Avg Review: 1.0",
          "Customer: cust_9aa457b999a129de9c95bab5<br>Orders: 1<br>Spent: $1478.8<br>Avg Review: 5.0",
          "Customer: cust_9ad2b89dfc857528d3023efa<br>Orders: 1<br>Spent: $448.07<br>Avg Review: 2.0",
          "Customer: cust_9ad6bcdd0ff38403e5f32bcb<br>Orders: 1<br>Spent: $1289.08<br>Avg Review: nan",
          "Customer: cust_9ae4a3e4465b71e9deb93390<br>Orders: 2<br>Spent: $480.79<br>Avg Review: 4.5",
          "Customer: cust_9af36896ace208b1e2813eaa<br>Orders: 1<br>Spent: $141.67<br>Avg Review: nan",
          "Customer: cust_9af444a7f810e4014412e940<br>Orders: 1<br>Spent: $707.14<br>Avg Review: 4.0",
          "Customer: cust_9aff97a08d4c18e4398f89f8<br>Orders: 1<br>Spent: $691.59<br>Avg Review: nan",
          "Customer: cust_9b29e9e4c4896d6e91f90b33<br>Orders: 1<br>Spent: $1692.13<br>Avg Review: 5.0",
          "Customer: cust_9b67737eca35da0182fb300b<br>Orders: 1<br>Spent: $1458.07<br>Avg Review: 4.0",
          "Customer: cust_9b6efbdb6f11530880e38ca7<br>Orders: 2<br>Spent: $1356.85<br>Avg Review: 3.0",
          "Customer: cust_9b7845330455733737e2dbd5<br>Orders: 2<br>Spent: $70.44<br>Avg Review: 4.0",
          "Customer: cust_9b9941ab47c5937a56fc2428<br>Orders: 3<br>Spent: $2541.99<br>Avg Review: 5.0",
          "Customer: cust_9babf60fe54c79d1738c4051<br>Orders: 1<br>Spent: $235.93<br>Avg Review: nan",
          "Customer: cust_9bcbdca3afa5bed7e0544758<br>Orders: 1<br>Spent: $963.99<br>Avg Review: 3.0",
          "Customer: cust_9bd7a26b1b43a9df2c349cf5<br>Orders: 1<br>Spent: $275.31<br>Avg Review: 5.0",
          "Customer: cust_9bd966c3f8e9644db7607f9b<br>Orders: 2<br>Spent: $1561.24<br>Avg Review: 5.0",
          "Customer: cust_9bf2f3916735eb900f2b151a<br>Orders: 1<br>Spent: $627.46<br>Avg Review: nan",
          "Customer: cust_9c15d5cf08b870057ba663a5<br>Orders: 1<br>Spent: $137.11<br>Avg Review: 5.0",
          "Customer: cust_9c18c355db6e032d564fa5a4<br>Orders: 1<br>Spent: $99.79<br>Avg Review: 4.0",
          "Customer: cust_9c19d29b4520e2b77717b0ce<br>Orders: 1<br>Spent: $1289.91<br>Avg Review: 5.0",
          "Customer: cust_9c2316c2cd3ac690fd4e3229<br>Orders: 1<br>Spent: $227.61<br>Avg Review: 1.0",
          "Customer: cust_9c248d40bd16eeb3a7a1711a<br>Orders: 1<br>Spent: $418.53<br>Avg Review: nan",
          "Customer: cust_9c271f004e26aa9b9f6ba83e<br>Orders: 1<br>Spent: $63.87<br>Avg Review: 5.0",
          "Customer: cust_9c617c3df02c724c141b1ae4<br>Orders: 1<br>Spent: $343.87<br>Avg Review: 5.0",
          "Customer: cust_9c8417b971549297b05b8218<br>Orders: 1<br>Spent: $185.45<br>Avg Review: 4.0",
          "Customer: cust_9cad3dd80db2cbb3333b657f<br>Orders: 3<br>Spent: $2079.24<br>Avg Review: 5.0",
          "Customer: cust_9cc513707a7c961060d0e34c<br>Orders: 3<br>Spent: $1720.96<br>Avg Review: 1.0",
          "Customer: cust_9cf1fcedbca4cb220b446881<br>Orders: 1<br>Spent: $2051.02<br>Avg Review: 5.0",
          "Customer: cust_9cfa4529ae6f7c079c2c9c02<br>Orders: 2<br>Spent: $2008.15<br>Avg Review: 3.5",
          "Customer: cust_9d3c8f551c3e142b597da3df<br>Orders: 1<br>Spent: $1080.88<br>Avg Review: 5.0",
          "Customer: cust_9d4935ffda2346e83bc18d82<br>Orders: 2<br>Spent: $2502.28<br>Avg Review: 5.0",
          "Customer: cust_9d6482ade847b20c1a973288<br>Orders: 1<br>Spent: $370.07<br>Avg Review: nan",
          "Customer: cust_9d70deba028d5477321ad5a3<br>Orders: 1<br>Spent: $1960.17<br>Avg Review: 4.0",
          "Customer: cust_9d7183592035d769d72b804c<br>Orders: 1<br>Spent: $414.57<br>Avg Review: 5.0",
          "Customer: cust_9d81ae62e6c03385ce488321<br>Orders: 2<br>Spent: $122.74<br>Avg Review: 3.0",
          "Customer: cust_9dbb9939c9614f2e783c9e02<br>Orders: 1<br>Spent: $266.49<br>Avg Review: 5.0",
          "Customer: cust_9dc2cb91da5e6e0541215943<br>Orders: 1<br>Spent: $68.91<br>Avg Review: 5.0",
          "Customer: cust_9dc79893e7f4728dcc159ca0<br>Orders: 1<br>Spent: $258.27<br>Avg Review: 5.0",
          "Customer: cust_9dc9460a27cdca863326729d<br>Orders: 1<br>Spent: $1169.93<br>Avg Review: 5.0",
          "Customer: cust_9dd07d9fe791ed9fbc91cd67<br>Orders: 1<br>Spent: $69.57<br>Avg Review: nan",
          "Customer: cust_9dd3d34fd48c519d42755448<br>Orders: 3<br>Spent: $1581.83<br>Avg Review: 5.0",
          "Customer: cust_9de1b919fe5563a57b2946de<br>Orders: 1<br>Spent: $145.34<br>Avg Review: 4.0",
          "Customer: cust_9df02e11814fe465a381d9ca<br>Orders: 1<br>Spent: $1507.83<br>Avg Review: 4.0",
          "Customer: cust_9df051cddd6c2b5600b24993<br>Orders: 1<br>Spent: $260.54<br>Avg Review: 4.0",
          "Customer: cust_9df3841334500cf261a57d01<br>Orders: 1<br>Spent: $722.34<br>Avg Review: 5.0",
          "Customer: cust_9df8e2fe206cab7bd73dcbce<br>Orders: 1<br>Spent: $340.53<br>Avg Review: nan",
          "Customer: cust_9e2319dd08d5df8fbd67b431<br>Orders: 1<br>Spent: $237.74<br>Avg Review: 5.0",
          "Customer: cust_9e37b7b5445b5c18642b1503<br>Orders: 2<br>Spent: $326.99<br>Avg Review: 5.0",
          "Customer: cust_9e3df29785c78aed0c2bf925<br>Orders: 1<br>Spent: $651.88<br>Avg Review: 5.0",
          "Customer: cust_9e4298848d7316a24f6a38ee<br>Orders: 1<br>Spent: $1542.87<br>Avg Review: 5.0",
          "Customer: cust_9e677c13d0ef397feec05512<br>Orders: 1<br>Spent: $548.26<br>Avg Review: 5.0",
          "Customer: cust_9e79f72c3eb3b6b56666ad8d<br>Orders: 1<br>Spent: $657.33<br>Avg Review: 5.0",
          "Customer: cust_9e8e15a3822f4b86f52e1cc1<br>Orders: 1<br>Spent: $553.92<br>Avg Review: 5.0",
          "Customer: cust_9ebc28e4a381552c4a6fdf05<br>Orders: 1<br>Spent: $467.61<br>Avg Review: nan",
          "Customer: cust_9ec213a7c254bc4eb5f33132<br>Orders: 1<br>Spent: $1015.63<br>Avg Review: 3.0",
          "Customer: cust_9eca53c698dd5f6782bb8865<br>Orders: 2<br>Spent: $438.73<br>Avg Review: 3.0",
          "Customer: cust_9ece1ccc6c9bb02e94bba14e<br>Orders: 1<br>Spent: $1272.98<br>Avg Review: 5.0",
          "Customer: cust_9eda92b7e98ca49d1b5a4a09<br>Orders: 1<br>Spent: $664.49<br>Avg Review: nan",
          "Customer: cust_9ee09e188ea4d7e67a295c6d<br>Orders: 1<br>Spent: $159.5<br>Avg Review: 4.0",
          "Customer: cust_9ef6c9cf8c98883ac8ad1b62<br>Orders: 1<br>Spent: $282.02<br>Avg Review: nan",
          "Customer: cust_9f1000dcf72c9dfd84e13166<br>Orders: 1<br>Spent: $977.14<br>Avg Review: 4.0",
          "Customer: cust_9f33595bc05f1c3fff45c2d0<br>Orders: 1<br>Spent: $74.26<br>Avg Review: nan",
          "Customer: cust_9f42f69ffa7b159df4a377c7<br>Orders: 1<br>Spent: $1272.04<br>Avg Review: 4.0",
          "Customer: cust_9f5fcfcfa3d5da0912a2d807<br>Orders: 1<br>Spent: $64.59<br>Avg Review: 5.0",
          "Customer: cust_9f6c2ea4ad53bff71d7fd965<br>Orders: 1<br>Spent: $90.64<br>Avg Review: nan",
          "Customer: cust_9f6c4de592e882b8c6142676<br>Orders: 1<br>Spent: $117.66<br>Avg Review: nan",
          "Customer: cust_9f84cef21b5838c6068ae9e2<br>Orders: 1<br>Spent: $1700.15<br>Avg Review: nan",
          "Customer: cust_9fb14470b2d8ff146ce3f5e4<br>Orders: 1<br>Spent: $723.09<br>Avg Review: 3.0",
          "Customer: cust_9fb35583a4de5c524baffba9<br>Orders: 1<br>Spent: $293.52<br>Avg Review: 5.0",
          "Customer: cust_9fb9c0ce250f67fa17a69691<br>Orders: 1<br>Spent: $266.38<br>Avg Review: 5.0",
          "Customer: cust_9fbd058e15051433de9702dc<br>Orders: 1<br>Spent: $535.74<br>Avg Review: nan",
          "Customer: cust_9fda1912768c8d6874ad66ab<br>Orders: 2<br>Spent: $3676.48<br>Avg Review: 5.0",
          "Customer: cust_9fe6653f544bfce276eab971<br>Orders: 1<br>Spent: $117.26<br>Avg Review: 4.0",
          "Customer: cust_9feafaf31f1d17eae33ddf76<br>Orders: 1<br>Spent: $280.15<br>Avg Review: 5.0",
          "Customer: cust_9ff4f016fb55a37e883e54ef<br>Orders: 1<br>Spent: $47.83<br>Avg Review: nan",
          "Customer: cust_9ff5fcb600e6ad0ebb646c13<br>Orders: 1<br>Spent: $44.55<br>Avg Review: 5.0",
          "Customer: cust_a0048acd0d5ae51096b8e86a<br>Orders: 1<br>Spent: $337.11<br>Avg Review: 4.0",
          "Customer: cust_a00e4d6684d00fb16982589c<br>Orders: 1<br>Spent: $84.81<br>Avg Review: nan",
          "Customer: cust_a01e31c291e5999ea680cfce<br>Orders: 1<br>Spent: $87.94<br>Avg Review: 3.0",
          "Customer: cust_a034e133633fa4a9ec8e7df8<br>Orders: 1<br>Spent: $132.49<br>Avg Review: 4.0",
          "Customer: cust_a03ca5ed853021397157e39a<br>Orders: 1<br>Spent: $451.37<br>Avg Review: 5.0",
          "Customer: cust_a0444489dfada34894d23c26<br>Orders: 1<br>Spent: $1515.25<br>Avg Review: 3.0",
          "Customer: cust_a04ba8a341466a6f83c70730<br>Orders: 1<br>Spent: $98.61<br>Avg Review: nan",
          "Customer: cust_a059cfe5ddad680cbd448a12<br>Orders: 1<br>Spent: $907.48<br>Avg Review: nan",
          "Customer: cust_a05a6b56fd065a217d49b455<br>Orders: 1<br>Spent: $283.24<br>Avg Review: 5.0",
          "Customer: cust_a0625220430873b438466cff<br>Orders: 1<br>Spent: $626.72<br>Avg Review: 5.0",
          "Customer: cust_a06d081ac003d0e0411affa8<br>Orders: 1<br>Spent: $1059.04<br>Avg Review: nan",
          "Customer: cust_a0702b5682460ea007ed8e48<br>Orders: 2<br>Spent: $4885.61<br>Avg Review: nan",
          "Customer: cust_a083fe4162a2644e85d79878<br>Orders: 1<br>Spent: $295.79<br>Avg Review: 5.0",
          "Customer: cust_a08c32c79ac757a5da0dff52<br>Orders: 2<br>Spent: $858.71<br>Avg Review: nan",
          "Customer: cust_a0992cd4a2d5d3f474dd1674<br>Orders: 2<br>Spent: $180.59<br>Avg Review: nan",
          "Customer: cust_a0aea3c17e701ebe57ae8dbf<br>Orders: 2<br>Spent: $1734.81<br>Avg Review: nan",
          "Customer: cust_a10e9cbb2e24254737ecc53f<br>Orders: 1<br>Spent: $194.37<br>Avg Review: nan",
          "Customer: cust_a1127ddb791dc0e03f795c17<br>Orders: 2<br>Spent: $734.26<br>Avg Review: 3.6",
          "Customer: cust_a11a20a12f21c375457ec01c<br>Orders: 1<br>Spent: $703.56<br>Avg Review: nan",
          "Customer: cust_a12e0a09d3fac34095c993d9<br>Orders: 2<br>Spent: $1706.25<br>Avg Review: 3.5",
          "Customer: cust_a141bfb4b1753c7deb8829e5<br>Orders: 1<br>Spent: $32.05<br>Avg Review: 5.0",
          "Customer: cust_a14fe1e1f83209a0741c736f<br>Orders: 1<br>Spent: $1217.43<br>Avg Review: 5.0",
          "Customer: cust_a157700ecffc3571a54c1979<br>Orders: 2<br>Spent: $109.51<br>Avg Review: 5.0",
          "Customer: cust_a17609884dd104731f434d8a<br>Orders: 1<br>Spent: $465.98<br>Avg Review: 1.0",
          "Customer: cust_a19a0d363eebbf614ad0e538<br>Orders: 1<br>Spent: $36.15<br>Avg Review: 4.0",
          "Customer: cust_a1a8355c76387f3bb88ccccb<br>Orders: 1<br>Spent: $669.76<br>Avg Review: 4.0",
          "Customer: cust_a1c2c9ce2400c47287914e2e<br>Orders: 1<br>Spent: $1058.18<br>Avg Review: 5.0",
          "Customer: cust_a1ce0e26587f8d25573f4859<br>Orders: 1<br>Spent: $226.1<br>Avg Review: nan",
          "Customer: cust_a1d891cedc7e9610b6e1a01e<br>Orders: 2<br>Spent: $544.49<br>Avg Review: 4.0",
          "Customer: cust_a20329424aa9cc840008c539<br>Orders: 1<br>Spent: $998.75<br>Avg Review: 4.0",
          "Customer: cust_a2264d827c7dae9b12388c50<br>Orders: 1<br>Spent: $1983.48<br>Avg Review: 5.0",
          "Customer: cust_a226e394b9f5a0e8734150d7<br>Orders: 1<br>Spent: $54.4<br>Avg Review: 3.0",
          "Customer: cust_a27bc16c63917f506baea299<br>Orders: 1<br>Spent: $1547.83<br>Avg Review: nan",
          "Customer: cust_a2855ba5d2a1f1bcc37d7e25<br>Orders: 1<br>Spent: $30.26<br>Avg Review: nan",
          "Customer: cust_a28dc78731fdaf8a3300827d<br>Orders: 1<br>Spent: $884.5<br>Avg Review: nan",
          "Customer: cust_a2945993a599093a9e50ffeb<br>Orders: 1<br>Spent: $40.22<br>Avg Review: nan",
          "Customer: cust_a2a0c16a594dd66593add277<br>Orders: 1<br>Spent: $580.23<br>Avg Review: 4.0",
          "Customer: cust_a2baef150d806ecb7f04cd22<br>Orders: 1<br>Spent: $524.13<br>Avg Review: 4.0",
          "Customer: cust_a2d30b2c40b534ae9e8926b4<br>Orders: 1<br>Spent: $1569.17<br>Avg Review: nan",
          "Customer: cust_a2d5e42fdca41640391513da<br>Orders: 1<br>Spent: $37.75<br>Avg Review: nan",
          "Customer: cust_a2e62e2f371228595d9c5b23<br>Orders: 1<br>Spent: $5.57<br>Avg Review: 5.0",
          "Customer: cust_a2fc443638c81d2b563168c4<br>Orders: 1<br>Spent: $525.29<br>Avg Review: 4.0",
          "Customer: cust_a30795cfca6e01a2a45f7788<br>Orders: 3<br>Spent: $719.2<br>Avg Review: 4.0",
          "Customer: cust_a315f4b3d8bb3f702563c52e<br>Orders: 2<br>Spent: $637.47<br>Avg Review: 5.0",
          "Customer: cust_a3227e60cd19fd10e90ff1e0<br>Orders: 1<br>Spent: $235.57<br>Avg Review: nan",
          "Customer: cust_a325151ec7feb8439d35be2c<br>Orders: 1<br>Spent: $3029.92<br>Avg Review: 3.0",
          "Customer: cust_a329f2cf70e651eb0cc471c0<br>Orders: 2<br>Spent: $685.37<br>Avg Review: 4.0",
          "Customer: cust_a335e8264074e6381768e4e5<br>Orders: 3<br>Spent: $3611.46<br>Avg Review: 3.0",
          "Customer: cust_a336cabbdd92e77aa6769991<br>Orders: 1<br>Spent: $434.08<br>Avg Review: 2.0",
          "Customer: cust_a365f4ee3b485ef8a2ab68ab<br>Orders: 1<br>Spent: $21.42<br>Avg Review: nan",
          "Customer: cust_a390ae9f38c35549ccb311c4<br>Orders: 1<br>Spent: $1973.35<br>Avg Review: 2.0",
          "Customer: cust_a39198f03c00670e9f272d52<br>Orders: 2<br>Spent: $264.12<br>Avg Review: 5.0",
          "Customer: cust_a395f11587f98f2882117f8b<br>Orders: 1<br>Spent: $175.94<br>Avg Review: nan",
          "Customer: cust_a3e1cf426207c328933c99c3<br>Orders: 1<br>Spent: $3215.13<br>Avg Review: 5.0",
          "Customer: cust_a4242288d0e12d6c713e8245<br>Orders: 3<br>Spent: $1926.3<br>Avg Review: 4.3",
          "Customer: cust_a453f61dc919e83071cbce81<br>Orders: 1<br>Spent: $560.35<br>Avg Review: nan",
          "Customer: cust_a455070079e63ac40a5827a2<br>Orders: 2<br>Spent: $1575.9<br>Avg Review: 4.7",
          "Customer: cust_a46242dccb8b9667d3d33b8e<br>Orders: 1<br>Spent: $1047.58<br>Avg Review: 5.0",
          "Customer: cust_a46f1d35d5daed6ea5026c15<br>Orders: 2<br>Spent: $748.9<br>Avg Review: nan",
          "Customer: cust_a48020621ddea53fd6a79a85<br>Orders: 2<br>Spent: $897.07<br>Avg Review: 5.0",
          "Customer: cust_a4867422eac76b889ac803ac<br>Orders: 1<br>Spent: $904.44<br>Avg Review: nan",
          "Customer: cust_a48a40f49866a0f540ecf87a<br>Orders: 1<br>Spent: $7.1<br>Avg Review: nan",
          "Customer: cust_a49e7604d1539333a4394a78<br>Orders: 1<br>Spent: $180.14<br>Avg Review: 5.0",
          "Customer: cust_a4a02474bb75ef8fa5b3bdd0<br>Orders: 1<br>Spent: $1152.73<br>Avg Review: nan",
          "Customer: cust_a4b11b307cd3af3c620743ea<br>Orders: 1<br>Spent: $385.79<br>Avg Review: 3.0",
          "Customer: cust_a4b504afa28ffcb4f568ee55<br>Orders: 1<br>Spent: $847.13<br>Avg Review: 3.0",
          "Customer: cust_a4c16208ebf497aa85102b57<br>Orders: 1<br>Spent: $60.2<br>Avg Review: 5.0",
          "Customer: cust_a4da71958d821ef05f455a29<br>Orders: 1<br>Spent: $511.97<br>Avg Review: nan",
          "Customer: cust_a4f3cbd7a0104a0710227177<br>Orders: 1<br>Spent: $609.33<br>Avg Review: 5.0",
          "Customer: cust_a4fbe9085837d5412d8762e4<br>Orders: 1<br>Spent: $24.4<br>Avg Review: nan",
          "Customer: cust_a4fdd718e9fd52cb207d15d3<br>Orders: 1<br>Spent: $2139.27<br>Avg Review: nan",
          "Customer: cust_a50badfbf5077fb59e521288<br>Orders: 1<br>Spent: $11.17<br>Avg Review: 5.0",
          "Customer: cust_a50ec3f89788473d3b37f25d<br>Orders: 1<br>Spent: $791.89<br>Avg Review: 5.0",
          "Customer: cust_a5179493ac454c9cbab205ec<br>Orders: 2<br>Spent: $3727.13<br>Avg Review: 4.0",
          "Customer: cust_a52da06ec04f430c7435cb33<br>Orders: 1<br>Spent: $3239.5<br>Avg Review: nan",
          "Customer: cust_a58079e5b8e5421f213fb032<br>Orders: 1<br>Spent: $92.44<br>Avg Review: nan",
          "Customer: cust_a5ae2465322d4084e86a5f38<br>Orders: 1<br>Spent: $1788.84<br>Avg Review: 2.0",
          "Customer: cust_a5aeeeb3198337154a061fdc<br>Orders: 1<br>Spent: $413.46<br>Avg Review: nan",
          "Customer: cust_a5f33534bba6481efe5e6e68<br>Orders: 1<br>Spent: $1175.06<br>Avg Review: nan",
          "Customer: cust_a6006151075b0249bef75f94<br>Orders: 2<br>Spent: $863.48<br>Avg Review: 5.0",
          "Customer: cust_a6138eaea834fa54e8735e58<br>Orders: 2<br>Spent: $88.07<br>Avg Review: 4.0",
          "Customer: cust_a631eada9f3f31aad550960d<br>Orders: 1<br>Spent: $26.11<br>Avg Review: nan",
          "Customer: cust_a63fe9b57b8ab661dfc1f94c<br>Orders: 1<br>Spent: $91.27<br>Avg Review: nan",
          "Customer: cust_a64399dd1aa4b00c5ac8e29d<br>Orders: 1<br>Spent: $23.25<br>Avg Review: 1.0",
          "Customer: cust_a649c7e9713e0574568b208d<br>Orders: 1<br>Spent: $1758.61<br>Avg Review: 5.0",
          "Customer: cust_a6502c3ae1f54663fd737502<br>Orders: 1<br>Spent: $598.74<br>Avg Review: 5.0",
          "Customer: cust_a6522971d779b862372a29f7<br>Orders: 2<br>Spent: $1568.12<br>Avg Review: nan",
          "Customer: cust_a679e6cea99088a3ec84a82c<br>Orders: 2<br>Spent: $1637.08<br>Avg Review: 3.0",
          "Customer: cust_a67f2ebdedb3cc2fcf80da7d<br>Orders: 1<br>Spent: $117.89<br>Avg Review: nan",
          "Customer: cust_a69e1f4eedb76928f2f476c2<br>Orders: 2<br>Spent: $2338.6<br>Avg Review: 5.0",
          "Customer: cust_a69f8251efc3fadb70b449cb<br>Orders: 1<br>Spent: $386.33<br>Avg Review: nan",
          "Customer: cust_a6a81a26ddf6023e0ca49a4f<br>Orders: 2<br>Spent: $920.32<br>Avg Review: 5.0",
          "Customer: cust_a6aece812f6287e9239ede6d<br>Orders: 1<br>Spent: $86.51<br>Avg Review: 5.0",
          "Customer: cust_a6b72b67b69024e224da4ba4<br>Orders: 1<br>Spent: $99.15<br>Avg Review: 5.0",
          "Customer: cust_a6bc717a9a18838355df31e7<br>Orders: 1<br>Spent: $142.17<br>Avg Review: nan",
          "Customer: cust_a6e7bdf6f29343e960e4aab3<br>Orders: 1<br>Spent: $109.33<br>Avg Review: nan",
          "Customer: cust_a6eacb702ad23c56d352f08d<br>Orders: 1<br>Spent: $816.71<br>Avg Review: 5.0",
          "Customer: cust_a6fc2fab5f658314168f9335<br>Orders: 1<br>Spent: $137.15<br>Avg Review: nan",
          "Customer: cust_a70665d5acfd14895df8a310<br>Orders: 1<br>Spent: $112.84<br>Avg Review: 4.0",
          "Customer: cust_a71d7315f9622486cd2badf1<br>Orders: 1<br>Spent: $120.55<br>Avg Review: 5.0",
          "Customer: cust_a72b57c81fe56b4acf04095c<br>Orders: 2<br>Spent: $1602.32<br>Avg Review: 4.7",
          "Customer: cust_a734a0839e250f9bc96126a3<br>Orders: 1<br>Spent: $2032.56<br>Avg Review: 4.0",
          "Customer: cust_a759d5cc30bffaac3d8d0c28<br>Orders: 1<br>Spent: $1042.41<br>Avg Review: 3.0",
          "Customer: cust_a766d28f288ded1895f835f0<br>Orders: 2<br>Spent: $2341.49<br>Avg Review: 4.3",
          "Customer: cust_a76de0eb1611f09ae764f364<br>Orders: 2<br>Spent: $1590.54<br>Avg Review: 4.0",
          "Customer: cust_a7847a192938df0e742a2ca1<br>Orders: 1<br>Spent: $437.41<br>Avg Review: nan",
          "Customer: cust_a79243e11024bcafbdb58368<br>Orders: 1<br>Spent: $245.86<br>Avg Review: 5.0",
          "Customer: cust_a7958eee230c913b000e919d<br>Orders: 4<br>Spent: $6308.18<br>Avg Review: 4.2",
          "Customer: cust_a7972502abb9120b00ab01b0<br>Orders: 1<br>Spent: $240.83<br>Avg Review: 5.0",
          "Customer: cust_a799356c322abfa5447b638d<br>Orders: 1<br>Spent: $565.42<br>Avg Review: 5.0",
          "Customer: cust_a7baf7f8b00c1fbd5ada1999<br>Orders: 1<br>Spent: $167.1<br>Avg Review: nan",
          "Customer: cust_a7bafdff2dce4f0d2a415343<br>Orders: 1<br>Spent: $89.28<br>Avg Review: 3.0",
          "Customer: cust_a7c4dad14afc453858994916<br>Orders: 1<br>Spent: $37.41<br>Avg Review: nan",
          "Customer: cust_a7c552b1d229cd8b52da7429<br>Orders: 1<br>Spent: $1140.03<br>Avg Review: 4.0",
          "Customer: cust_a7e01a4daa48b3085fa726ef<br>Orders: 1<br>Spent: $158.82<br>Avg Review: 3.0",
          "Customer: cust_a7f84531ebcd5e56986f2587<br>Orders: 3<br>Spent: $523.17<br>Avg Review: 4.3",
          "Customer: cust_a7fb3290e1a7627979a54380<br>Orders: 1<br>Spent: $1554.73<br>Avg Review: 5.0",
          "Customer: cust_a8174686aeffb12520208a7c<br>Orders: 1<br>Spent: $183.2<br>Avg Review: 3.0",
          "Customer: cust_a818c57b6c2e8963af378690<br>Orders: 1<br>Spent: $749.39<br>Avg Review: 4.0",
          "Customer: cust_a82c429087420e62d98e27aa<br>Orders: 4<br>Spent: $3114.81<br>Avg Review: 4.2",
          "Customer: cust_a870d207e64123a4dbdfcc5d<br>Orders: 1<br>Spent: $82.44<br>Avg Review: nan",
          "Customer: cust_a8767d8bbf97ad80db782323<br>Orders: 1<br>Spent: $1087.48<br>Avg Review: 5.0",
          "Customer: cust_a884f7529d96d8ece17f9856<br>Orders: 1<br>Spent: $2773.44<br>Avg Review: 3.0",
          "Customer: cust_a8bbf8053826b510d91a36c6<br>Orders: 1<br>Spent: $96.1<br>Avg Review: nan",
          "Customer: cust_a8cb08fb0d7e7c944c804578<br>Orders: 2<br>Spent: $85.55<br>Avg Review: 5.0",
          "Customer: cust_a8db40711ced63e99ecf49d1<br>Orders: 1<br>Spent: $81.05<br>Avg Review: 5.0",
          "Customer: cust_a8e81c8446fc12a735070d12<br>Orders: 2<br>Spent: $1112.33<br>Avg Review: 3.0",
          "Customer: cust_a8f1e1a6377283f895aac68d<br>Orders: 2<br>Spent: $750.78<br>Avg Review: 2.0",
          "Customer: cust_a939e47ffd46325c46da29ad<br>Orders: 1<br>Spent: $668.49<br>Avg Review: 5.0",
          "Customer: cust_a94512f6c5444b8279c95964<br>Orders: 1<br>Spent: $1393.28<br>Avg Review: 5.0",
          "Customer: cust_a962a1adfe6809050fc06347<br>Orders: 2<br>Spent: $2114.09<br>Avg Review: 5.0",
          "Customer: cust_a96697f1e8894b04dfcdce9b<br>Orders: 1<br>Spent: $121.18<br>Avg Review: 5.0",
          "Customer: cust_a96a703f0c8e0069cddb8201<br>Orders: 1<br>Spent: $1246.19<br>Avg Review: nan",
          "Customer: cust_a96cf14b9d5255fb7366a614<br>Orders: 2<br>Spent: $180.03<br>Avg Review: 3.5",
          "Customer: cust_a98cc4d08aeb6ed872012cff<br>Orders: 1<br>Spent: $114.0<br>Avg Review: nan",
          "Customer: cust_a9915e296c609111c404fc6d<br>Orders: 1<br>Spent: $1369.54<br>Avg Review: 3.0",
          "Customer: cust_a99b6eac7b3599b947c9e07d<br>Orders: 2<br>Spent: $1619.9<br>Avg Review: 5.0",
          "Customer: cust_a99c86f524e55c864e1c446d<br>Orders: 2<br>Spent: $844.41<br>Avg Review: 3.0",
          "Customer: cust_a9b52283fb4a07720834f8aa<br>Orders: 2<br>Spent: $317.01<br>Avg Review: nan",
          "Customer: cust_a9badeea193ecec327480962<br>Orders: 2<br>Spent: $2415.56<br>Avg Review: 5.0",
          "Customer: cust_aa071501cc6117798dd8980d<br>Orders: 1<br>Spent: $290.63<br>Avg Review: 5.0",
          "Customer: cust_aa0e2ed1b7b30edbbfd781ef<br>Orders: 1<br>Spent: $771.99<br>Avg Review: 5.0",
          "Customer: cust_aa1ee6864fa316fa84665a33<br>Orders: 1<br>Spent: $66.59<br>Avg Review: 4.0",
          "Customer: cust_aa39f9bda4f14840c14e630f<br>Orders: 3<br>Spent: $1104.27<br>Avg Review: 2.5",
          "Customer: cust_aa3fb860a8703e3e39a9d1d2<br>Orders: 1<br>Spent: $260.83<br>Avg Review: nan",
          "Customer: cust_aa49b4b0ef44646da8f03ffa<br>Orders: 1<br>Spent: $3301.92<br>Avg Review: 5.0",
          "Customer: cust_aa4d01c26024d2b8740456d4<br>Orders: 1<br>Spent: $1393.95<br>Avg Review: nan",
          "Customer: cust_aa58f1d85808d68fc579b9b6<br>Orders: 1<br>Spent: $1164.59<br>Avg Review: nan",
          "Customer: cust_aa5caa306e114fc8303b5eb0<br>Orders: 1<br>Spent: $1822.79<br>Avg Review: 4.0",
          "Customer: cust_aa88d13639760ee0172fcebe<br>Orders: 2<br>Spent: $578.17<br>Avg Review: 3.0",
          "Customer: cust_aac2970be42ed3bf59699922<br>Orders: 2<br>Spent: $2626.96<br>Avg Review: 2.5",
          "Customer: cust_aacf89286b52c1f3ea5b6a6f<br>Orders: 1<br>Spent: $50.18<br>Avg Review: 1.0",
          "Customer: cust_aad69469c3dad8240ffc6ab7<br>Orders: 1<br>Spent: $1465.45<br>Avg Review: nan",
          "Customer: cust_aadd5cb600dd6ece41244f6c<br>Orders: 1<br>Spent: $263.21<br>Avg Review: 3.0",
          "Customer: cust_aadee053cf611cd6a09cd15c<br>Orders: 1<br>Spent: $52.71<br>Avg Review: nan",
          "Customer: cust_aaec0dcb36f6629a1988135d<br>Orders: 1<br>Spent: $16.49<br>Avg Review: 5.0",
          "Customer: cust_aaee137c74cb04ec3b84270d<br>Orders: 2<br>Spent: $1205.33<br>Avg Review: 5.0",
          "Customer: cust_aaf3b1f1480a95f9f475d0eb<br>Orders: 1<br>Spent: $80.81<br>Avg Review: 5.0",
          "Customer: cust_ab0e13d649c44a1d49d9aa42<br>Orders: 1<br>Spent: $19.75<br>Avg Review: 4.0",
          "Customer: cust_ab3e4c2303c997ee44138c4f<br>Orders: 1<br>Spent: $403.05<br>Avg Review: 5.0",
          "Customer: cust_ab4759b9e965105b171de60f<br>Orders: 1<br>Spent: $3373.57<br>Avg Review: 4.0",
          "Customer: cust_ab54035eec44b0d9c93e49aa<br>Orders: 1<br>Spent: $160.37<br>Avg Review: 3.0",
          "Customer: cust_ab5d8c458a6c03a727547ea6<br>Orders: 1<br>Spent: $394.08<br>Avg Review: nan",
          "Customer: cust_ab6b08cb14544db6f0860210<br>Orders: 1<br>Spent: $2018.01<br>Avg Review: 5.0",
          "Customer: cust_ab736a2a506037231defb061<br>Orders: 1<br>Spent: $960.97<br>Avg Review: 4.0",
          "Customer: cust_ab765f58aeac941d2d598c6b<br>Orders: 1<br>Spent: $448.31<br>Avg Review: 5.0",
          "Customer: cust_ab80ac424fd9cd487826e76b<br>Orders: 2<br>Spent: $1595.89<br>Avg Review: 5.0",
          "Customer: cust_ab8a748e2151973c5179653e<br>Orders: 1<br>Spent: $44.68<br>Avg Review: nan",
          "Customer: cust_abaa5977618e481893e546f2<br>Orders: 1<br>Spent: $1528.9<br>Avg Review: 5.0",
          "Customer: cust_abef0bbedee76fc8990f5ae0<br>Orders: 1<br>Spent: $912.11<br>Avg Review: 5.0",
          "Customer: cust_abfbdf0ac4bf093c5d5381f4<br>Orders: 1<br>Spent: $592.44<br>Avg Review: 2.0",
          "Customer: cust_abfbf232100419b0b37425a5<br>Orders: 1<br>Spent: $106.64<br>Avg Review: nan",
          "Customer: cust_ac06f37523aca3662b42c7a9<br>Orders: 1<br>Spent: $1957.72<br>Avg Review: 3.0",
          "Customer: cust_ac09a94316402377f656940c<br>Orders: 1<br>Spent: $2071.65<br>Avg Review: 5.0",
          "Customer: cust_ac0d8a8b9812ff233178205b<br>Orders: 1<br>Spent: $56.19<br>Avg Review: 5.0",
          "Customer: cust_ac1b2a622570a49a01b65167<br>Orders: 2<br>Spent: $1077.38<br>Avg Review: 5.0",
          "Customer: cust_ac1c127af1604635defba216<br>Orders: 1<br>Spent: $645.03<br>Avg Review: 4.0",
          "Customer: cust_ac2eaf5d24dcbaca362ed121<br>Orders: 1<br>Spent: $586.96<br>Avg Review: 5.0",
          "Customer: cust_ac4bc269ba8cbd3ccf968b4f<br>Orders: 1<br>Spent: $391.16<br>Avg Review: nan",
          "Customer: cust_ac7299144cfea4eaf9cefd7d<br>Orders: 1<br>Spent: $90.25<br>Avg Review: 5.0",
          "Customer: cust_ac9d2d7fe3a677f05c38a475<br>Orders: 1<br>Spent: $434.39<br>Avg Review: 5.0",
          "Customer: cust_acc3fede106b9b740e3fbe80<br>Orders: 2<br>Spent: $112.02<br>Avg Review: 5.0",
          "Customer: cust_acd7a2409b49098a46f87066<br>Orders: 1<br>Spent: $955.77<br>Avg Review: 5.0",
          "Customer: cust_acdce7e64716670d11ce0367<br>Orders: 2<br>Spent: $258.97<br>Avg Review: 4.5",
          "Customer: cust_acf6f35e060931ee7f5bd6a4<br>Orders: 1<br>Spent: $426.47<br>Avg Review: 5.0",
          "Customer: cust_acf76470bb11b813121520c4<br>Orders: 2<br>Spent: $2984.99<br>Avg Review: 5.0",
          "Customer: cust_ad26574529b4ea15a5a3fbf8<br>Orders: 1<br>Spent: $45.53<br>Avg Review: 3.0",
          "Customer: cust_ad2cf8d83c1931701b0860be<br>Orders: 1<br>Spent: $1423.67<br>Avg Review: nan",
          "Customer: cust_ad37a144ecdb7a7083efa873<br>Orders: 1<br>Spent: $121.49<br>Avg Review: 5.0",
          "Customer: cust_ad3ca8043f81fc87f699c04e<br>Orders: 1<br>Spent: $93.4<br>Avg Review: 5.0",
          "Customer: cust_ad98a94d51e53ca7fbd581f3<br>Orders: 1<br>Spent: $1481.07<br>Avg Review: nan",
          "Customer: cust_ada2305b279ce9d1e7fc04f2<br>Orders: 1<br>Spent: $101.68<br>Avg Review: 4.0",
          "Customer: cust_adbb3d2064c3129af801bdd1<br>Orders: 1<br>Spent: $285.15<br>Avg Review: 5.0",
          "Customer: cust_adc4854274482593ab0283d6<br>Orders: 1<br>Spent: $823.13<br>Avg Review: 5.0",
          "Customer: cust_add2c144bb2f31a6dd4020aa<br>Orders: 2<br>Spent: $1471.3<br>Avg Review: 4.5",
          "Customer: cust_ade62047e6b0abf8a282de03<br>Orders: 1<br>Spent: $63.34<br>Avg Review: nan",
          "Customer: cust_adf41a9a16840ca4088640a3<br>Orders: 1<br>Spent: $66.24<br>Avg Review: nan",
          "Customer: cust_ae0be7849f49c2b8c6ad1adf<br>Orders: 1<br>Spent: $1314.81<br>Avg Review: 3.0",
          "Customer: cust_ae1e58e837a2f203b7c04d27<br>Orders: 3<br>Spent: $2159.66<br>Avg Review: 5.0",
          "Customer: cust_ae31dd105906e8f0751ad029<br>Orders: 1<br>Spent: $472.51<br>Avg Review: 5.0",
          "Customer: cust_ae49b4ab7de1c01e18b5a796<br>Orders: 4<br>Spent: $1464.48<br>Avg Review: 3.0",
          "Customer: cust_ae57885b6e443187eb87cff5<br>Orders: 2<br>Spent: $282.86<br>Avg Review: 4.0",
          "Customer: cust_ae5f088022f7c5e59944903e<br>Orders: 1<br>Spent: $185.21<br>Avg Review: nan",
          "Customer: cust_ae6af751fbbbe17a5f2ed9c3<br>Orders: 1<br>Spent: $365.69<br>Avg Review: nan",
          "Customer: cust_ae7a8ac52d32e8d15d735d80<br>Orders: 1<br>Spent: $165.59<br>Avg Review: 5.0",
          "Customer: cust_ae81356e7f1b06729f28d3f3<br>Orders: 1<br>Spent: $1457.44<br>Avg Review: 5.0",
          "Customer: cust_aea16d7024b154bed1de34e1<br>Orders: 2<br>Spent: $1535.06<br>Avg Review: 3.5",
          "Customer: cust_aeb22d8464c47d5adadb41cf<br>Orders: 1<br>Spent: $328.39<br>Avg Review: nan",
          "Customer: cust_aebefa7433a7172467b22b0c<br>Orders: 1<br>Spent: $989.71<br>Avg Review: 5.0",
          "Customer: cust_aeca0253856998d5616c0280<br>Orders: 1<br>Spent: $1255.39<br>Avg Review: 5.0",
          "Customer: cust_aee9a543d28179b67e05168b<br>Orders: 1<br>Spent: $1568.29<br>Avg Review: nan",
          "Customer: cust_af045530563253c4b8bf270c<br>Orders: 2<br>Spent: $2072.88<br>Avg Review: 4.0",
          "Customer: cust_af06408c364f83344a6e0912<br>Orders: 1<br>Spent: $143.44<br>Avg Review: nan",
          "Customer: cust_af128e593333bffd9250f10e<br>Orders: 1<br>Spent: $290.93<br>Avg Review: nan",
          "Customer: cust_af176f98af2c67811d1a2f6b<br>Orders: 1<br>Spent: $303.5<br>Avg Review: 5.0",
          "Customer: cust_af6806d419fb5ce8b2ac8507<br>Orders: 2<br>Spent: $145.75<br>Avg Review: 4.0",
          "Customer: cust_afa12404f6b2945adfebc54e<br>Orders: 1<br>Spent: $1805.03<br>Avg Review: nan",
          "Customer: cust_afa4dc2e4c0d5d7e7e682596<br>Orders: 1<br>Spent: $1042.54<br>Avg Review: 5.0",
          "Customer: cust_afa5ff704be82f3a5ee51b37<br>Orders: 1<br>Spent: $3067.04<br>Avg Review: 1.0",
          "Customer: cust_afb51008f3b3c2f7612ba4ff<br>Orders: 1<br>Spent: $998.2<br>Avg Review: nan",
          "Customer: cust_afb7e1ae3c558d8c3f598137<br>Orders: 1<br>Spent: $1399.65<br>Avg Review: nan",
          "Customer: cust_afce9ce4f50c38c018fb424e<br>Orders: 1<br>Spent: $123.05<br>Avg Review: 3.0",
          "Customer: cust_afcfccb6482c701f41e37789<br>Orders: 1<br>Spent: $158.04<br>Avg Review: nan",
          "Customer: cust_afd432d30e39e42f484dafd8<br>Orders: 2<br>Spent: $1129.11<br>Avg Review: 3.7",
          "Customer: cust_afd7cf6f155e711ef43a2b4e<br>Orders: 1<br>Spent: $162.56<br>Avg Review: 4.0",
          "Customer: cust_afe3117d7657d5388a07a3ad<br>Orders: 2<br>Spent: $700.98<br>Avg Review: 5.0",
          "Customer: cust_afea1b7a4453bb703529f03f<br>Orders: 1<br>Spent: $191.33<br>Avg Review: nan",
          "Customer: cust_affc584bce9bc902577d2c24<br>Orders: 1<br>Spent: $119.62<br>Avg Review: nan",
          "Customer: cust_affec144fb528052c196fa91<br>Orders: 1<br>Spent: $1956.33<br>Avg Review: 2.0",
          "Customer: cust_b01432ebe9501dadc85bfd11<br>Orders: 1<br>Spent: $2718.29<br>Avg Review: 5.0",
          "Customer: cust_b03d3f653a43dc5eb236431d<br>Orders: 1<br>Spent: $699.31<br>Avg Review: 3.0",
          "Customer: cust_b052fba065f079054a1c6c60<br>Orders: 2<br>Spent: $1964.26<br>Avg Review: nan",
          "Customer: cust_b058463149d5f9a44922d22d<br>Orders: 2<br>Spent: $459.43<br>Avg Review: 4.3",
          "Customer: cust_b0675fa554b59260af666810<br>Orders: 2<br>Spent: $804.38<br>Avg Review: 5.0",
          "Customer: cust_b07f3dcbda6fb8d2cdc78e6a<br>Orders: 1<br>Spent: $289.15<br>Avg Review: 5.0",
          "Customer: cust_b09135e94b5ee6dd69ccb9b0<br>Orders: 2<br>Spent: $1469.88<br>Avg Review: 4.5",
          "Customer: cust_b097a43003b3dc2f29c7b770<br>Orders: 1<br>Spent: $1744.08<br>Avg Review: 5.0",
          "Customer: cust_b0a2df5df129014d262fd010<br>Orders: 1<br>Spent: $12.99<br>Avg Review: nan",
          "Customer: cust_b0ba940b11d62069e3d5e748<br>Orders: 2<br>Spent: $122.26<br>Avg Review: nan",
          "Customer: cust_b0bcac85b4fc595a43e32713<br>Orders: 2<br>Spent: $1381.26<br>Avg Review: 3.0",
          "Customer: cust_b0bdd415ef6cae011fceb99f<br>Orders: 1<br>Spent: $162.01<br>Avg Review: 5.0",
          "Customer: cust_b0d54d8fa1fe17824e4c1960<br>Orders: 1<br>Spent: $1085.29<br>Avg Review: 5.0",
          "Customer: cust_b0d62b346ed937eae741de9a<br>Orders: 2<br>Spent: $203.71<br>Avg Review: 2.0",
          "Customer: cust_b0dc18abc2be613bd232b695<br>Orders: 2<br>Spent: $2600.39<br>Avg Review: nan",
          "Customer: cust_b0f41d5a56d063f3473496db<br>Orders: 2<br>Spent: $1869.81<br>Avg Review: 2.3",
          "Customer: cust_b0f791d5bffe296bd72c0a81<br>Orders: 2<br>Spent: $1843.87<br>Avg Review: 5.0",
          "Customer: cust_b10cf3aa1af2509b595d2730<br>Orders: 1<br>Spent: $825.74<br>Avg Review: 4.0",
          "Customer: cust_b10dd755117a3b295c9f8a1f<br>Orders: 1<br>Spent: $442.09<br>Avg Review: 5.0",
          "Customer: cust_b12696c32252bc2afddff1a9<br>Orders: 2<br>Spent: $336.16<br>Avg Review: 4.0",
          "Customer: cust_b146e63724eaf1325d79ae40<br>Orders: 1<br>Spent: $213.02<br>Avg Review: 1.0",
          "Customer: cust_b160155a3a839716d739ac54<br>Orders: 1<br>Spent: $223.82<br>Avg Review: 5.0",
          "Customer: cust_b174c5baf479ee4f8c388356<br>Orders: 1<br>Spent: $1707.4<br>Avg Review: 5.0",
          "Customer: cust_b17a4d1973c75fda78ba32e1<br>Orders: 2<br>Spent: $1504.85<br>Avg Review: 5.0",
          "Customer: cust_b1890929bf60eaf9cc19c80e<br>Orders: 2<br>Spent: $1230.01<br>Avg Review: 4.8",
          "Customer: cust_b189cc8d943aaa1d63bbe598<br>Orders: 1<br>Spent: $488.35<br>Avg Review: 4.0",
          "Customer: cust_b191f5c98a3c311cb4fc5e87<br>Orders: 2<br>Spent: $856.45<br>Avg Review: nan",
          "Customer: cust_b196228eb7d10e2bd8848360<br>Orders: 1<br>Spent: $918.73<br>Avg Review: 5.0",
          "Customer: cust_b19ef4f8abdaad444edf6f20<br>Orders: 1<br>Spent: $822.11<br>Avg Review: nan",
          "Customer: cust_b1a149deb9d2229256b664b4<br>Orders: 1<br>Spent: $1131.71<br>Avg Review: 5.0",
          "Customer: cust_b1ae1bbd1eb4aec63d60ccf4<br>Orders: 1<br>Spent: $956.77<br>Avg Review: 5.0",
          "Customer: cust_b1b630e7dcacf58196e16eaf<br>Orders: 3<br>Spent: $2298.82<br>Avg Review: 4.4",
          "Customer: cust_b1e8e7b727e40661e7cf65b7<br>Orders: 1<br>Spent: $55.73<br>Avg Review: 3.0",
          "Customer: cust_b1f0b9ac68b94049deba4122<br>Orders: 1<br>Spent: $460.12<br>Avg Review: 4.0",
          "Customer: cust_b1f97467521560cee0738d01<br>Orders: 1<br>Spent: $419.68<br>Avg Review: 5.0",
          "Customer: cust_b2020187284c31bf1e5ffc1a<br>Orders: 2<br>Spent: $1555.42<br>Avg Review: 4.0",
          "Customer: cust_b2026f7e4e867d02d22fb990<br>Orders: 2<br>Spent: $891.8<br>Avg Review: 4.5",
          "Customer: cust_b2042a6f2192dfd1bf9cb94b<br>Orders: 2<br>Spent: $736.26<br>Avg Review: nan",
          "Customer: cust_b20ae9db6a87d2a5abf2cddb<br>Orders: 1<br>Spent: $572.19<br>Avg Review: 5.0",
          "Customer: cust_b2394f9c7e27fc6d93d189da<br>Orders: 2<br>Spent: $429.64<br>Avg Review: 1.0",
          "Customer: cust_b25072f1dabec85a77294851<br>Orders: 1<br>Spent: $170.17<br>Avg Review: 4.0",
          "Customer: cust_b256ef84881b610d39683937<br>Orders: 2<br>Spent: $3581.49<br>Avg Review: 5.0",
          "Customer: cust_b263f5fa89e326072530f1f4<br>Orders: 1<br>Spent: $156.65<br>Avg Review: nan",
          "Customer: cust_b2863bf2909bbeda34fec52b<br>Orders: 2<br>Spent: $1731.65<br>Avg Review: 5.0",
          "Customer: cust_b2a12eee11ba75ec4838c6f6<br>Orders: 2<br>Spent: $1430.79<br>Avg Review: 5.0",
          "Customer: cust_b2b3dc7f9dbfbca00eaa7fb6<br>Orders: 1<br>Spent: $312.14<br>Avg Review: 3.0",
          "Customer: cust_b2cbfbfebe5a4750ed8e4994<br>Orders: 1<br>Spent: $61.43<br>Avg Review: nan",
          "Customer: cust_b2cc11935690849d77d38bd8<br>Orders: 1<br>Spent: $12.64<br>Avg Review: nan",
          "Customer: cust_b2cf889faddc571e8330559b<br>Orders: 1<br>Spent: $46.32<br>Avg Review: nan",
          "Customer: cust_b2e02254313722f62d551d26<br>Orders: 1<br>Spent: $1364.38<br>Avg Review: nan",
          "Customer: cust_b2e06564626e8d11a9df87a5<br>Orders: 1<br>Spent: $786.35<br>Avg Review: 4.0",
          "Customer: cust_b2e74edb602904ddbd853d9a<br>Orders: 2<br>Spent: $2866.69<br>Avg Review: 3.0",
          "Customer: cust_b2fe171391cbe12f2c722cef<br>Orders: 1<br>Spent: $306.45<br>Avg Review: 5.0",
          "Customer: cust_b35fa252bb7e2d822c4ce4d5<br>Orders: 2<br>Spent: $1623.49<br>Avg Review: 4.0",
          "Customer: cust_b36d6703924f2cc7645bd998<br>Orders: 2<br>Spent: $1500.35<br>Avg Review: 4.3",
          "Customer: cust_b36dc69dd53329b7ff0d1ff7<br>Orders: 1<br>Spent: $2779.72<br>Avg Review: 4.0",
          "Customer: cust_b37cb8cbf895ae67057040d6<br>Orders: 3<br>Spent: $1240.38<br>Avg Review: 5.0",
          "Customer: cust_b393cbcc22a3cc9313006927<br>Orders: 1<br>Spent: $2820.84<br>Avg Review: nan",
          "Customer: cust_b3948851524cabfb721361de<br>Orders: 1<br>Spent: $2615.18<br>Avg Review: nan",
          "Customer: cust_b3987f0f42e20f7cb13fbf75<br>Orders: 1<br>Spent: $13.97<br>Avg Review: nan",
          "Customer: cust_b3a2e36b65fed8bca49120b1<br>Orders: 1<br>Spent: $352.45<br>Avg Review: 5.0",
          "Customer: cust_b3c8f57a01ff3449845354dc<br>Orders: 2<br>Spent: $684.71<br>Avg Review: 2.0",
          "Customer: cust_b3d87dd221d83a0ccf411c13<br>Orders: 2<br>Spent: $1593.98<br>Avg Review: 5.0",
          "Customer: cust_b41f94241b038370ee894095<br>Orders: 1<br>Spent: $1642.25<br>Avg Review: 2.0",
          "Customer: cust_b436bfcf719714947598dcb3<br>Orders: 1<br>Spent: $134.81<br>Avg Review: 4.0",
          "Customer: cust_b440dc5003365da93b93e7ad<br>Orders: 1<br>Spent: $1501.22<br>Avg Review: 5.0",
          "Customer: cust_b44aab615614f24a6c4ce783<br>Orders: 3<br>Spent: $1380.24<br>Avg Review: 3.7",
          "Customer: cust_b45c077705bac695fae57ab4<br>Orders: 1<br>Spent: $2601.42<br>Avg Review: nan",
          "Customer: cust_b4a281ba5b5a27e3559024a7<br>Orders: 1<br>Spent: $14.2<br>Avg Review: 3.0",
          "Customer: cust_b4ac5cd2cb4eff53d3e4b720<br>Orders: 1<br>Spent: $187.74<br>Avg Review: nan",
          "Customer: cust_b4bb21472686e9578f23d81a<br>Orders: 1<br>Spent: $58.13<br>Avg Review: 5.0",
          "Customer: cust_b4bb93db3439d8fc787b456d<br>Orders: 1<br>Spent: $1128.08<br>Avg Review: 5.0",
          "Customer: cust_b4cfed8bfa5e118e7d0d2805<br>Orders: 1<br>Spent: $371.19<br>Avg Review: 2.0",
          "Customer: cust_b4e1e760493cbb8a6b26cc64<br>Orders: 1<br>Spent: $488.26<br>Avg Review: 5.0",
          "Customer: cust_b4f0a89cf78205ca3c43924c<br>Orders: 1<br>Spent: $222.38<br>Avg Review: 2.0",
          "Customer: cust_b5004d2cf733a33c4eb5392f<br>Orders: 1<br>Spent: $108.82<br>Avg Review: nan",
          "Customer: cust_b5009e6bc4a2e5e1b7566fb8<br>Orders: 1<br>Spent: $593.22<br>Avg Review: 5.0",
          "Customer: cust_b50e0afbee85f4198a8820f7<br>Orders: 1<br>Spent: $944.98<br>Avg Review: 5.0",
          "Customer: cust_b5122faf8b3c0151367321c2<br>Orders: 1<br>Spent: $29.92<br>Avg Review: 5.0",
          "Customer: cust_b519baa30968b00c3f0a9620<br>Orders: 2<br>Spent: $3146.51<br>Avg Review: 5.0",
          "Customer: cust_b52234e79ce53edf6f6c9dc2<br>Orders: 1<br>Spent: $756.06<br>Avg Review: 3.0",
          "Customer: cust_b52c82a64c7d832587551b7d<br>Orders: 1<br>Spent: $552.06<br>Avg Review: 5.0",
          "Customer: cust_b5425d8aad7fab85938c6938<br>Orders: 1<br>Spent: $86.26<br>Avg Review: 5.0",
          "Customer: cust_b543f8985917a22240d6214d<br>Orders: 1<br>Spent: $3613.71<br>Avg Review: 5.0",
          "Customer: cust_b5462129ba3a012e94528c6b<br>Orders: 1<br>Spent: $7.33<br>Avg Review: nan",
          "Customer: cust_b553cb53ce331df827c670c1<br>Orders: 1<br>Spent: $198.2<br>Avg Review: 3.0",
          "Customer: cust_b5665a16f00fc8a2debf7349<br>Orders: 2<br>Spent: $3000.1<br>Avg Review: 4.0",
          "Customer: cust_b586dbe0e50ac502088c1912<br>Orders: 1<br>Spent: $1115.34<br>Avg Review: 5.0",
          "Customer: cust_b592c6bf148a6aaacb29354f<br>Orders: 1<br>Spent: $1743.66<br>Avg Review: nan",
          "Customer: cust_b5ab61bf61f85b661c47b8e4<br>Orders: 1<br>Spent: $256.34<br>Avg Review: 5.0",
          "Customer: cust_b5b6fcf7fdd18ba86a8832c4<br>Orders: 1<br>Spent: $24.72<br>Avg Review: 4.0",
          "Customer: cust_b5c174774f6744138be41131<br>Orders: 1<br>Spent: $134.56<br>Avg Review: 4.0",
          "Customer: cust_b5d6bdc2a0496526e0e17365<br>Orders: 1<br>Spent: $42.68<br>Avg Review: 5.0",
          "Customer: cust_b5d8a4481a31d233a58375b3<br>Orders: 1<br>Spent: $1133.1<br>Avg Review: 4.0",
          "Customer: cust_b5da4348353d5a6a92e4cc19<br>Orders: 2<br>Spent: $259.27<br>Avg Review: 5.0",
          "Customer: cust_b5de95abe9b5a04856eefd7b<br>Orders: 1<br>Spent: $1608.09<br>Avg Review: 5.0",
          "Customer: cust_b5e362ee410ee9e2250c57cb<br>Orders: 2<br>Spent: $910.31<br>Avg Review: 3.7",
          "Customer: cust_b611622da3a203528e33fe27<br>Orders: 3<br>Spent: $5067.14<br>Avg Review: 4.8",
          "Customer: cust_b614e62746d84d2be22e73ff<br>Orders: 1<br>Spent: $187.98<br>Avg Review: 5.0",
          "Customer: cust_b626c6bfeed0b0cb30718f67<br>Orders: 1<br>Spent: $1780.77<br>Avg Review: nan",
          "Customer: cust_b629d8263a2d276e3a192edc<br>Orders: 1<br>Spent: $1417.3<br>Avg Review: 5.0",
          "Customer: cust_b639ad60a3d942349616a06f<br>Orders: 1<br>Spent: $1731.65<br>Avg Review: nan",
          "Customer: cust_b6434bc9db3a0ed97b49ce52<br>Orders: 1<br>Spent: $229.47<br>Avg Review: 4.0",
          "Customer: cust_b645ed9d3b5ba8ddfd5644ce<br>Orders: 1<br>Spent: $64.44<br>Avg Review: nan",
          "Customer: cust_b6549dfa5b48d5d3ed68bcad<br>Orders: 1<br>Spent: $110.91<br>Avg Review: nan",
          "Customer: cust_b66ec8e0429aa2a0838dd0d9<br>Orders: 2<br>Spent: $161.13<br>Avg Review: 3.5",
          "Customer: cust_b672ad679e618331ea77a4ba<br>Orders: 1<br>Spent: $631.02<br>Avg Review: 5.0",
          "Customer: cust_b678158f4a7e2cad4d0be04d<br>Orders: 1<br>Spent: $1463.34<br>Avg Review: 4.0",
          "Customer: cust_b67e4fb1e9e93dec0e6f32db<br>Orders: 1<br>Spent: $510.14<br>Avg Review: 5.0",
          "Customer: cust_b68b455d1e62bd4fdde1ff0b<br>Orders: 1<br>Spent: $199.94<br>Avg Review: 2.0",
          "Customer: cust_b6929419d38734867fe1d670<br>Orders: 1<br>Spent: $1738.88<br>Avg Review: 3.0",
          "Customer: cust_b6995762779f41f00412aa09<br>Orders: 1<br>Spent: $21.09<br>Avg Review: 5.0",
          "Customer: cust_b69d5b78f9242a2746e4c9d9<br>Orders: 1<br>Spent: $79.39<br>Avg Review: 3.0",
          "Customer: cust_b6cd067c88ffb2a1a512cf9a<br>Orders: 1<br>Spent: $916.6<br>Avg Review: nan",
          "Customer: cust_b6d139ec60ac2e9b8e40cf21<br>Orders: 1<br>Spent: $740.78<br>Avg Review: 4.0",
          "Customer: cust_b6e59fa9605d49c7cc5dce44<br>Orders: 1<br>Spent: $120.82<br>Avg Review: 5.0",
          "Customer: cust_b70a1ed26624c673d80c0e2a<br>Orders: 1<br>Spent: $837.39<br>Avg Review: nan",
          "Customer: cust_b70bc32265e05bb2479f906b<br>Orders: 1<br>Spent: $3845.44<br>Avg Review: nan",
          "Customer: cust_b715881f82ae94a64abc6be7<br>Orders: 1<br>Spent: $191.58<br>Avg Review: 5.0",
          "Customer: cust_b71bf8a72abadcc74dade1b0<br>Orders: 2<br>Spent: $118.75<br>Avg Review: 4.0",
          "Customer: cust_b73d5b125fa669774b7d43d5<br>Orders: 1<br>Spent: $12.69<br>Avg Review: 4.0",
          "Customer: cust_b74e4a6fc507a539bf019c75<br>Orders: 2<br>Spent: $200.18<br>Avg Review: 4.0",
          "Customer: cust_b75bc7a2d3f4c46f90462d3b<br>Orders: 2<br>Spent: $1138.2<br>Avg Review: 3.0",
          "Customer: cust_b763a045a311766dd26c099e<br>Orders: 1<br>Spent: $539.34<br>Avg Review: 3.0",
          "Customer: cust_b76ec6fc4b500b5c9962afee<br>Orders: 1<br>Spent: $1586.71<br>Avg Review: nan",
          "Customer: cust_b7a2bae7cac172c901722e6d<br>Orders: 1<br>Spent: $396.91<br>Avg Review: nan",
          "Customer: cust_b7a6ffd4fde53cfc8b4aee0d<br>Orders: 1<br>Spent: $269.74<br>Avg Review: 4.0",
          "Customer: cust_b7bc581b301d4dad5f78bfbb<br>Orders: 1<br>Spent: $2445.67<br>Avg Review: 5.0",
          "Customer: cust_b7cbb77f8a5f9514ec508b6d<br>Orders: 1<br>Spent: $36.79<br>Avg Review: nan",
          "Customer: cust_b7ee68f59bce5b0d34cdc12e<br>Orders: 2<br>Spent: $1872.9<br>Avg Review: 3.0",
          "Customer: cust_b7f03d2be11fa05c729c6d6c<br>Orders: 1<br>Spent: $63.1<br>Avg Review: 5.0",
          "Customer: cust_b7f3e33e2e627915b476a6e3<br>Orders: 1<br>Spent: $274.11<br>Avg Review: 5.0",
          "Customer: cust_b81d33d48a61e356c28ccd04<br>Orders: 1<br>Spent: $1423.93<br>Avg Review: 4.0",
          "Customer: cust_b844f663f339040b6c2fd98f<br>Orders: 1<br>Spent: $3054.46<br>Avg Review: 5.0",
          "Customer: cust_b853f1dc754efcb3c50b53fd<br>Orders: 1<br>Spent: $465.63<br>Avg Review: nan",
          "Customer: cust_b8b15fa6da1e7a9c7d7515ae<br>Orders: 2<br>Spent: $567.67<br>Avg Review: 2.0",
          "Customer: cust_b8ce0d800262d2994e102bff<br>Orders: 1<br>Spent: $268.24<br>Avg Review: 5.0",
          "Customer: cust_b8d9e2cab89cefbfc315a385<br>Orders: 1<br>Spent: $120.49<br>Avg Review: 5.0",
          "Customer: cust_b8e804c60f5fe65c43728b4e<br>Orders: 1<br>Spent: $874.2<br>Avg Review: 5.0",
          "Customer: cust_b8e9e7d6b3bf5cf1d531f135<br>Orders: 1<br>Spent: $2356.77<br>Avg Review: 4.0",
          "Customer: cust_b8ead981211aadf7e812bf59<br>Orders: 1<br>Spent: $23.56<br>Avg Review: 4.0",
          "Customer: cust_b8ef2c91a25cef92e9300d39<br>Orders: 1<br>Spent: $129.49<br>Avg Review: nan",
          "Customer: cust_b90957cd20ec14d4f42f4e69<br>Orders: 1<br>Spent: $25.81<br>Avg Review: 4.0",
          "Customer: cust_b912a689e46324758a2b2125<br>Orders: 1<br>Spent: $39.01<br>Avg Review: nan",
          "Customer: cust_b94f90296760638881ef06b4<br>Orders: 1<br>Spent: $1522.92<br>Avg Review: 3.0",
          "Customer: cust_b9517ee7c2247898a75673a5<br>Orders: 1<br>Spent: $1134.04<br>Avg Review: 4.0",
          "Customer: cust_b9754931af4ca62b20df5bcf<br>Orders: 2<br>Spent: $3877.09<br>Avg Review: 5.0",
          "Customer: cust_b977081fb37ee202f349c8d1<br>Orders: 1<br>Spent: $687.25<br>Avg Review: nan",
          "Customer: cust_b978aff4ed990ff0930375b9<br>Orders: 1<br>Spent: $3123.03<br>Avg Review: 5.0",
          "Customer: cust_b9b4f14f9e0f2cac73c7f322<br>Orders: 2<br>Spent: $1451.89<br>Avg Review: 2.5",
          "Customer: cust_b9b70d3d4b951d08c2273794<br>Orders: 2<br>Spent: $2194.64<br>Avg Review: 2.0",
          "Customer: cust_b9d7553983b1c31cc9c634a7<br>Orders: 1<br>Spent: $816.39<br>Avg Review: 5.0",
          "Customer: cust_b9e49001b87ad1e2c70198a1<br>Orders: 1<br>Spent: $863.25<br>Avg Review: 5.0",
          "Customer: cust_b9e565d21796a606cc0fba50<br>Orders: 1<br>Spent: $152.71<br>Avg Review: 5.0",
          "Customer: cust_b9f8cd32221fb414d07a7483<br>Orders: 1<br>Spent: $966.25<br>Avg Review: 5.0",
          "Customer: cust_ba000597d2c3c529a2ba8cbf<br>Orders: 2<br>Spent: $2588.98<br>Avg Review: 5.0",
          "Customer: cust_ba02bd8b138af53ef8b3d0ea<br>Orders: 1<br>Spent: $84.84<br>Avg Review: 4.0",
          "Customer: cust_ba058d09e4121454bc0c80fb<br>Orders: 1<br>Spent: $765.91<br>Avg Review: 5.0",
          "Customer: cust_ba0d07a3f56a95b13beae98a<br>Orders: 1<br>Spent: $1670.28<br>Avg Review: 5.0",
          "Customer: cust_ba0f0874daf97a86fc1c64f4<br>Orders: 2<br>Spent: $1787.85<br>Avg Review: 4.2",
          "Customer: cust_ba21d1cc9b8e04fd5cb4a924<br>Orders: 1<br>Spent: $954.47<br>Avg Review: 5.0",
          "Customer: cust_ba2c458241f0797aea5229d2<br>Orders: 2<br>Spent: $961.87<br>Avg Review: 4.0",
          "Customer: cust_ba2f6e3f79b3afb1f8f8b9c0<br>Orders: 1<br>Spent: $424.28<br>Avg Review: 3.0",
          "Customer: cust_ba47b589a22bf3006bc8a737<br>Orders: 1<br>Spent: $1506.15<br>Avg Review: nan",
          "Customer: cust_ba48d6a3717ec8b2ba364362<br>Orders: 1<br>Spent: $244.07<br>Avg Review: 3.0",
          "Customer: cust_ba4e43166f1a92b1ad6658c9<br>Orders: 1<br>Spent: $401.72<br>Avg Review: nan",
          "Customer: cust_ba83df8f4438203f43104e60<br>Orders: 1<br>Spent: $222.18<br>Avg Review: 4.0",
          "Customer: cust_ba88172551361515fdf88d90<br>Orders: 1<br>Spent: $1480.54<br>Avg Review: 5.0",
          "Customer: cust_ba9b30dc8c705278be5ae059<br>Orders: 1<br>Spent: $1000.51<br>Avg Review: nan",
          "Customer: cust_baa3c80772e5526d959d39a4<br>Orders: 2<br>Spent: $2122.16<br>Avg Review: 5.0",
          "Customer: cust_bab05ae7da1081b801a7167d<br>Orders: 1<br>Spent: $2799.53<br>Avg Review: 5.0",
          "Customer: cust_babd98f0c913d90cebf18fa0<br>Orders: 1<br>Spent: $887.17<br>Avg Review: 3.0",
          "Customer: cust_bac61a17adae948c6c0949d0<br>Orders: 1<br>Spent: $26.2<br>Avg Review: 5.0",
          "Customer: cust_bac9d3366a57df5a2bb23879<br>Orders: 1<br>Spent: $487.18<br>Avg Review: 5.0",
          "Customer: cust_bad45e24eee859c515ceb720<br>Orders: 1<br>Spent: $1879.64<br>Avg Review: 3.0",
          "Customer: cust_bafe763235bda1205561bcc7<br>Orders: 1<br>Spent: $822.04<br>Avg Review: 5.0",
          "Customer: cust_baff0f4b3758b095fb17947e<br>Orders: 1<br>Spent: $155.37<br>Avg Review: 4.0",
          "Customer: cust_bb01f39a34d799e597e4f53c<br>Orders: 1<br>Spent: $94.05<br>Avg Review: 3.0",
          "Customer: cust_bb16c44fa5a65b3f8966d473<br>Orders: 1<br>Spent: $271.69<br>Avg Review: 3.0",
          "Customer: cust_bb1fb79a4867a57063e44426<br>Orders: 1<br>Spent: $111.87<br>Avg Review: 3.0",
          "Customer: cust_bb38768c11c9b952b9fde391<br>Orders: 1<br>Spent: $1109.63<br>Avg Review: 3.0",
          "Customer: cust_bb3b81276b8937646fe468d2<br>Orders: 1<br>Spent: $568.06<br>Avg Review: 4.0",
          "Customer: cust_bb5186f4d0763fc3fd690a67<br>Orders: 2<br>Spent: $1084.53<br>Avg Review: 4.0",
          "Customer: cust_bb7f738afbbd2fcc518b0f72<br>Orders: 1<br>Spent: $84.92<br>Avg Review: 5.0",
          "Customer: cust_bb80c1d807c8fce4784fff3f<br>Orders: 1<br>Spent: $982.1<br>Avg Review: nan",
          "Customer: cust_bb89b91c8206c55ca23ddcd1<br>Orders: 1<br>Spent: $127.95<br>Avg Review: 5.0",
          "Customer: cust_bb922d4c8e3d1e243c83e767<br>Orders: 1<br>Spent: $125.48<br>Avg Review: nan",
          "Customer: cust_bbaa769191caa21316b62243<br>Orders: 1<br>Spent: $40.89<br>Avg Review: nan",
          "Customer: cust_bbb5d3fece1a76323670715b<br>Orders: 1<br>Spent: $385.83<br>Avg Review: 5.0",
          "Customer: cust_bbd153472359eeab4c0cb56b<br>Orders: 1<br>Spent: $768.92<br>Avg Review: 5.0",
          "Customer: cust_bbe889384996b7c98d766d57<br>Orders: 1<br>Spent: $139.89<br>Avg Review: 5.0",
          "Customer: cust_bbfc877ecd8cf964398ed27f<br>Orders: 1<br>Spent: $590.6<br>Avg Review: 5.0",
          "Customer: cust_bc3fc0c08ede1a1621310dbf<br>Orders: 1<br>Spent: $49.92<br>Avg Review: 5.0",
          "Customer: cust_bc4bf03cba67ecd65c699a53<br>Orders: 1<br>Spent: $364.15<br>Avg Review: 5.0",
          "Customer: cust_bc578dfca506b2e17d3f6d87<br>Orders: 1<br>Spent: $140.75<br>Avg Review: nan",
          "Customer: cust_bca2af40cb66d0cc38f3a98a<br>Orders: 1<br>Spent: $795.37<br>Avg Review: 5.0",
          "Customer: cust_bca84fbeec37792aaf17b0dc<br>Orders: 2<br>Spent: $3923.0<br>Avg Review: 5.0",
          "Customer: cust_bcca596d9a5302880f3b1442<br>Orders: 1<br>Spent: $273.67<br>Avg Review: 3.0",
          "Customer: cust_bcde4b7ac324b20ede1b4770<br>Orders: 1<br>Spent: $83.25<br>Avg Review: nan",
          "Customer: cust_bce027e20d151d7250407a77<br>Orders: 1<br>Spent: $74.46<br>Avg Review: nan",
          "Customer: cust_bce7edaa62645fff8ecbc3b0<br>Orders: 1<br>Spent: $567.62<br>Avg Review: 3.0",
          "Customer: cust_bd11436886e909bb718f56a2<br>Orders: 2<br>Spent: $2145.72<br>Avg Review: 5.0",
          "Customer: cust_bd1752a3d3e061b70499ac6a<br>Orders: 1<br>Spent: $1124.52<br>Avg Review: 5.0",
          "Customer: cust_bd21648bc4c95ae7aad6bda7<br>Orders: 1<br>Spent: $341.09<br>Avg Review: 4.0",
          "Customer: cust_bd36bec1a531ade215abf0e9<br>Orders: 1<br>Spent: $98.52<br>Avg Review: 2.0",
          "Customer: cust_bd50320ab6e3403f92323aaf<br>Orders: 1<br>Spent: $328.45<br>Avg Review: 5.0",
          "Customer: cust_bd51b4f89a1e07cc243b82bc<br>Orders: 1<br>Spent: $90.68<br>Avg Review: 3.0",
          "Customer: cust_bd69c30dc68825c155923adc<br>Orders: 2<br>Spent: $248.78<br>Avg Review: 4.0",
          "Customer: cust_bd7da819a033ecb699227c27<br>Orders: 1<br>Spent: $16.92<br>Avg Review: 4.0",
          "Customer: cust_bdb238160202ed25c443e711<br>Orders: 1<br>Spent: $134.34<br>Avg Review: 5.0",
          "Customer: cust_bdbbd996af0905340835351c<br>Orders: 4<br>Spent: $3855.87<br>Avg Review: 4.0",
          "Customer: cust_bdca183d324925a8a2bcb60d<br>Orders: 1<br>Spent: $157.52<br>Avg Review: 3.0",
          "Customer: cust_bddc8137f80ae0d486b4a5c8<br>Orders: 1<br>Spent: $88.06<br>Avg Review: nan",
          "Customer: cust_bde1f254623a24534957f9e0<br>Orders: 2<br>Spent: $1250.62<br>Avg Review: 5.0",
          "Customer: cust_bdefa61d98974e316ae26744<br>Orders: 2<br>Spent: $819.29<br>Avg Review: 3.0",
          "Customer: cust_bdf3630f0622cb5ff323026e<br>Orders: 1<br>Spent: $1939.94<br>Avg Review: 5.0",
          "Customer: cust_be02b7d6d4dc2ae9cab0bad2<br>Orders: 1<br>Spent: $365.22<br>Avg Review: nan",
          "Customer: cust_be04667636d53cc7d1e22eeb<br>Orders: 1<br>Spent: $123.11<br>Avg Review: 2.0",
          "Customer: cust_be09930a625525db24691dc0<br>Orders: 2<br>Spent: $1731.73<br>Avg Review: 5.0",
          "Customer: cust_be12e9f1b4afe1bf29acc7d0<br>Orders: 1<br>Spent: $70.38<br>Avg Review: nan",
          "Customer: cust_be3142f26eddfc4c5cc53d49<br>Orders: 1<br>Spent: $1482.14<br>Avg Review: nan",
          "Customer: cust_be4ca7df2540d590e4af1f17<br>Orders: 1<br>Spent: $1846.94<br>Avg Review: 3.0",
          "Customer: cust_be748c4cb284de10c64de80d<br>Orders: 1<br>Spent: $1399.04<br>Avg Review: 5.0",
          "Customer: cust_be7e56e88b0ddc57b1d2ef2b<br>Orders: 1<br>Spent: $160.21<br>Avg Review: 5.0",
          "Customer: cust_be9e7c1ffaefb9e2c8906df8<br>Orders: 1<br>Spent: $226.25<br>Avg Review: 5.0",
          "Customer: cust_beb23ac790ab2dabe9908a4f<br>Orders: 1<br>Spent: $103.21<br>Avg Review: 2.0",
          "Customer: cust_bebff7c77d18ccc9de6044ed<br>Orders: 1<br>Spent: $1531.07<br>Avg Review: 4.0",
          "Customer: cust_bec024a884f30d5a6d580868<br>Orders: 1<br>Spent: $691.9<br>Avg Review: 4.0",
          "Customer: cust_bf04a81f4527b7f4181112ff<br>Orders: 2<br>Spent: $1871.23<br>Avg Review: 5.0",
          "Customer: cust_bf04b486c93b2a3053252225<br>Orders: 3<br>Spent: $923.21<br>Avg Review: 4.8",
          "Customer: cust_bf092441a0c75734ed50baed<br>Orders: 1<br>Spent: $180.6<br>Avg Review: 5.0",
          "Customer: cust_bf0b9936c0536cb277abe93d<br>Orders: 1<br>Spent: $994.97<br>Avg Review: 3.0",
          "Customer: cust_bf246444c2514ec3403fda23<br>Orders: 1<br>Spent: $1020.17<br>Avg Review: 5.0",
          "Customer: cust_bf31b9cca625294e6138feb5<br>Orders: 1<br>Spent: $1510.38<br>Avg Review: 5.0",
          "Customer: cust_bf3855fc9ddf9acb017c5594<br>Orders: 2<br>Spent: $1433.5<br>Avg Review: nan",
          "Customer: cust_bf3e19cd5c46103fdfb0c494<br>Orders: 1<br>Spent: $1461.35<br>Avg Review: 3.0",
          "Customer: cust_bf5886cbfae99ad737f7e3fd<br>Orders: 3<br>Spent: $966.82<br>Avg Review: 3.8",
          "Customer: cust_bf611e5e415a9345b068de2f<br>Orders: 1<br>Spent: $271.89<br>Avg Review: 3.0",
          "Customer: cust_bf62410cc73b2bf28662b7ec<br>Orders: 3<br>Spent: $4396.67<br>Avg Review: 4.0",
          "Customer: cust_bf673a0aa3504b035d798e93<br>Orders: 1<br>Spent: $115.82<br>Avg Review: 1.0",
          "Customer: cust_bf82f0540457e05ee1356e73<br>Orders: 1<br>Spent: $940.54<br>Avg Review: nan",
          "Customer: cust_bf83d30ca505d0b81e90d9f1<br>Orders: 1<br>Spent: $383.37<br>Avg Review: 3.0",
          "Customer: cust_bf84eee801843e51d7a26ccc<br>Orders: 1<br>Spent: $148.22<br>Avg Review: 5.0",
          "Customer: cust_bf92a7abbbeaff0b4cf5c1c9<br>Orders: 2<br>Spent: $924.9<br>Avg Review: 2.6",
          "Customer: cust_bf9c3cd6cd9faea6eeda48f8<br>Orders: 2<br>Spent: $3064.41<br>Avg Review: 3.3",
          "Customer: cust_bf9f8f7b954d317ac08cbf20<br>Orders: 3<br>Spent: $3479.41<br>Avg Review: 2.6",
          "Customer: cust_bfa44e4d62e01180fe6287aa<br>Orders: 1<br>Spent: $85.23<br>Avg Review: nan",
          "Customer: cust_bfbc39f99c6b58bd6936a502<br>Orders: 2<br>Spent: $2075.5<br>Avg Review: 1.0",
          "Customer: cust_bfc6d1738cd0374d399bcc4b<br>Orders: 1<br>Spent: $293.04<br>Avg Review: 5.0",
          "Customer: cust_bfc9448e87516590d5928edb<br>Orders: 1<br>Spent: $80.66<br>Avg Review: nan",
          "Customer: cust_c07841c94afcdd382365671e<br>Orders: 1<br>Spent: $77.52<br>Avg Review: 4.0",
          "Customer: cust_c08d2dd356cc2eeaa30e1579<br>Orders: 1<br>Spent: $194.23<br>Avg Review: 3.0",
          "Customer: cust_c096d2c04730b4c8a9753bd8<br>Orders: 1<br>Spent: $245.52<br>Avg Review: 4.0",
          "Customer: cust_c0cb59fd443ec1ec3a12dc9d<br>Orders: 1<br>Spent: $1599.99<br>Avg Review: nan",
          "Customer: cust_c0dafa30069a62fb9a36fbb4<br>Orders: 1<br>Spent: $651.2<br>Avg Review: 4.0",
          "Customer: cust_c11427dc0573c88a5a8121cf<br>Orders: 3<br>Spent: $593.37<br>Avg Review: 3.0",
          "Customer: cust_c135158d5d044d049bb49db0<br>Orders: 2<br>Spent: $1458.39<br>Avg Review: 5.0",
          "Customer: cust_c1476ef7f6e2ddcba4cdc71b<br>Orders: 1<br>Spent: $994.1<br>Avg Review: nan",
          "Customer: cust_c14d01e59e241dd69c792c88<br>Orders: 1<br>Spent: $2518.85<br>Avg Review: 3.0",
          "Customer: cust_c15c3342306b151d1f1f0d0d<br>Orders: 1<br>Spent: $455.81<br>Avg Review: nan",
          "Customer: cust_c17754cb9ebbffdd51f72a4d<br>Orders: 1<br>Spent: $1923.72<br>Avg Review: 5.0",
          "Customer: cust_c17e5630f1539b4213bfe23c<br>Orders: 2<br>Spent: $1133.08<br>Avg Review: 5.0",
          "Customer: cust_c1a0ff7b595fc935fde81932<br>Orders: 1<br>Spent: $517.68<br>Avg Review: 5.0",
          "Customer: cust_c1a203d84629f82699bcf3d1<br>Orders: 1<br>Spent: $375.64<br>Avg Review: 5.0",
          "Customer: cust_c1bf23aec80835aecee8feea<br>Orders: 2<br>Spent: $2678.29<br>Avg Review: 4.8",
          "Customer: cust_c1ceed7a9c57b3b9f9bc35f6<br>Orders: 1<br>Spent: $872.62<br>Avg Review: 4.0",
          "Customer: cust_c20715abbae62f3eee77ea84<br>Orders: 1<br>Spent: $2198.82<br>Avg Review: 5.0",
          "Customer: cust_c21502b08908b288b408af2b<br>Orders: 1<br>Spent: $56.85<br>Avg Review: 5.0",
          "Customer: cust_c25b3f86abb918e9b91285d9<br>Orders: 1<br>Spent: $82.99<br>Avg Review: nan",
          "Customer: cust_c269ebcc8be7dec94c546868<br>Orders: 1<br>Spent: $175.25<br>Avg Review: 5.0",
          "Customer: cust_c28e422522e1b1bda91e82cd<br>Orders: 2<br>Spent: $2015.54<br>Avg Review: 5.0",
          "Customer: cust_c2b532569b868fa30f4c5973<br>Orders: 1<br>Spent: $189.62<br>Avg Review: 5.0",
          "Customer: cust_c2d297d654d247c92514ca13<br>Orders: 1<br>Spent: $635.63<br>Avg Review: 5.0",
          "Customer: cust_c2deb23218c152d0f9f5463b<br>Orders: 1<br>Spent: $247.08<br>Avg Review: 5.0",
          "Customer: cust_c306ae662db9dd3de6fd4876<br>Orders: 1<br>Spent: $697.14<br>Avg Review: 4.0",
          "Customer: cust_c30cd27839e19c9ce5529285<br>Orders: 1<br>Spent: $1099.42<br>Avg Review: 5.0",
          "Customer: cust_c31e69fa617ebf13abfdcbab<br>Orders: 1<br>Spent: $67.57<br>Avg Review: 5.0",
          "Customer: cust_c33eb82ac5d17d97be504930<br>Orders: 1<br>Spent: $137.03<br>Avg Review: nan",
          "Customer: cust_c34cb51837ad801ab891e6bf<br>Orders: 1<br>Spent: $725.23<br>Avg Review: 5.0",
          "Customer: cust_c35890bd9b9d0765860b0d70<br>Orders: 1<br>Spent: $2344.32<br>Avg Review: 2.0",
          "Customer: cust_c35fc0f4945e71bd3a36ceac<br>Orders: 1<br>Spent: $298.1<br>Avg Review: 5.0",
          "Customer: cust_c36a58e10bebf43abdf79bea<br>Orders: 1<br>Spent: $886.27<br>Avg Review: nan",
          "Customer: cust_c3756796a5fa4a196150d091<br>Orders: 2<br>Spent: $1220.02<br>Avg Review: nan",
          "Customer: cust_c37f5d3c0343faa699a37441<br>Orders: 1<br>Spent: $346.25<br>Avg Review: 5.0",
          "Customer: cust_c38794b815672aae166b11f7<br>Orders: 1<br>Spent: $293.09<br>Avg Review: 5.0",
          "Customer: cust_c38fa135eda350fca8ca4c6e<br>Orders: 1<br>Spent: $1160.28<br>Avg Review: nan",
          "Customer: cust_c3a24ad9cdea5708d595e67c<br>Orders: 1<br>Spent: $87.27<br>Avg Review: 5.0",
          "Customer: cust_c3ac0dae3e6cc923112e27cb<br>Orders: 1<br>Spent: $178.2<br>Avg Review: 4.0",
          "Customer: cust_c3af68a2d67e64bb8b2a2135<br>Orders: 1<br>Spent: $3521.55<br>Avg Review: 5.0",
          "Customer: cust_c3cf2ba93a661ac9ba10b47c<br>Orders: 1<br>Spent: $1195.1<br>Avg Review: nan",
          "Customer: cust_c3d057e6c51434714d315a1b<br>Orders: 1<br>Spent: $2760.12<br>Avg Review: nan",
          "Customer: cust_c3d42ce9dc1fefea8523f6bc<br>Orders: 2<br>Spent: $936.45<br>Avg Review: 5.0",
          "Customer: cust_c3d7b60c51524629a128f597<br>Orders: 1<br>Spent: $706.32<br>Avg Review: 3.0",
          "Customer: cust_c3e1d65c343dc5f0e3559206<br>Orders: 1<br>Spent: $11.34<br>Avg Review: nan",
          "Customer: cust_c3efcbc3a596c66b8d41424f<br>Orders: 1<br>Spent: $136.14<br>Avg Review: nan",
          "Customer: cust_c3f076c4ca9b829df4aca4b0<br>Orders: 1<br>Spent: $1690.99<br>Avg Review: 5.0",
          "Customer: cust_c3f690f250b5bed7cf6faad7<br>Orders: 1<br>Spent: $756.02<br>Avg Review: 5.0",
          "Customer: cust_c3feef340ac9c5820277eac4<br>Orders: 1<br>Spent: $169.25<br>Avg Review: 5.0",
          "Customer: cust_c414758e4d546e6c5d102f5e<br>Orders: 1<br>Spent: $613.82<br>Avg Review: 3.0",
          "Customer: cust_c4254fe15f7633fe50da894f<br>Orders: 1<br>Spent: $561.83<br>Avg Review: 5.0",
          "Customer: cust_c44b5eba34da91fc686059da<br>Orders: 1<br>Spent: $1626.95<br>Avg Review: nan",
          "Customer: cust_c462a09da57ae39e4ef5235e<br>Orders: 1<br>Spent: $2015.62<br>Avg Review: nan",
          "Customer: cust_c472ee8352a2c427d79cb145<br>Orders: 1<br>Spent: $2231.93<br>Avg Review: 5.0",
          "Customer: cust_c49484b3b457ec342f59ef06<br>Orders: 3<br>Spent: $2497.16<br>Avg Review: 5.0",
          "Customer: cust_c4ac4f5ede6e47ad3f2e9193<br>Orders: 2<br>Spent: $837.15<br>Avg Review: 1.0",
          "Customer: cust_c4ac80e7ae1dc19f4016a6d3<br>Orders: 3<br>Spent: $2110.03<br>Avg Review: 3.5",
          "Customer: cust_c4acfc9d67a39c705df5c9d5<br>Orders: 1<br>Spent: $137.92<br>Avg Review: 3.0",
          "Customer: cust_c4d4ebe35eb739b270192196<br>Orders: 1<br>Spent: $1508.71<br>Avg Review: 5.0",
          "Customer: cust_c4dba378e6f08b9d5f99677e<br>Orders: 2<br>Spent: $574.02<br>Avg Review: 3.0",
          "Customer: cust_c5115a36934c91d8e6cf7297<br>Orders: 1<br>Spent: $1164.67<br>Avg Review: nan",
          "Customer: cust_c5152f92cd157a90ad28a8c8<br>Orders: 1<br>Spent: $170.4<br>Avg Review: 5.0",
          "Customer: cust_c52fa3791d175730b1ccf8af<br>Orders: 2<br>Spent: $536.09<br>Avg Review: nan",
          "Customer: cust_c53b5959d180b6db19c5959c<br>Orders: 1<br>Spent: $105.13<br>Avg Review: nan",
          "Customer: cust_c542079170f7ddb33229ab6d<br>Orders: 1<br>Spent: $2083.69<br>Avg Review: 4.0",
          "Customer: cust_c5665b6b111858ebd1b3b913<br>Orders: 1<br>Spent: $1730.64<br>Avg Review: nan",
          "Customer: cust_c5703f4571d65b73dc53fd5a<br>Orders: 1<br>Spent: $119.16<br>Avg Review: 4.0",
          "Customer: cust_c583a65ba2475250ed0a753d<br>Orders: 1<br>Spent: $838.45<br>Avg Review: 4.0",
          "Customer: cust_c59f7b57a7144b204c5dc39e<br>Orders: 1<br>Spent: $220.49<br>Avg Review: nan",
          "Customer: cust_c5ae14cd5e7bb266bf88288f<br>Orders: 1<br>Spent: $1376.46<br>Avg Review: 3.0",
          "Customer: cust_c5b5b9f48bb1b035f1088dd3<br>Orders: 1<br>Spent: $1909.67<br>Avg Review: 5.0",
          "Customer: cust_c5b72e62b4b9cecb294cecd9<br>Orders: 1<br>Spent: $1467.12<br>Avg Review: 3.0",
          "Customer: cust_c5bfd2664c383d2d3a0b7b6e<br>Orders: 1<br>Spent: $173.25<br>Avg Review: 4.0",
          "Customer: cust_c5bfdb399f5b3eca83de3949<br>Orders: 1<br>Spent: $62.23<br>Avg Review: 5.0",
          "Customer: cust_c5ce2255f78ce6a56732667d<br>Orders: 3<br>Spent: $1811.58<br>Avg Review: 4.0",
          "Customer: cust_c5f965637ce06b376ffa95bb<br>Orders: 1<br>Spent: $632.86<br>Avg Review: nan",
          "Customer: cust_c6038e1ff1a681a1d77233ad<br>Orders: 1<br>Spent: $751.27<br>Avg Review: 5.0",
          "Customer: cust_c60c465bd35a61528e4421e5<br>Orders: 1<br>Spent: $825.02<br>Avg Review: nan",
          "Customer: cust_c621e03b99d186164f9164ea<br>Orders: 1<br>Spent: $35.71<br>Avg Review: 5.0",
          "Customer: cust_c62ac94fcbb99263e3e505b7<br>Orders: 1<br>Spent: $4141.83<br>Avg Review: 3.0",
          "Customer: cust_c6456d6db9a6e00f76769e80<br>Orders: 1<br>Spent: $1231.59<br>Avg Review: 5.0",
          "Customer: cust_c6470c152fef21b3eb2b3fee<br>Orders: 3<br>Spent: $2527.58<br>Avg Review: 3.2",
          "Customer: cust_c6497ca0fcc2c3f88ab85f3e<br>Orders: 2<br>Spent: $210.14<br>Avg Review: 3.3",
          "Customer: cust_c655ac88f0eccea054ed4d6f<br>Orders: 1<br>Spent: $658.43<br>Avg Review: 3.0",
          "Customer: cust_c670d19a19a5a8ad575bdf50<br>Orders: 2<br>Spent: $2140.44<br>Avg Review: 5.0",
          "Customer: cust_c68e66307b41d3226fb474a8<br>Orders: 1<br>Spent: $184.86<br>Avg Review: nan",
          "Customer: cust_c6cb4f51a1592d3e76d9e0d5<br>Orders: 1<br>Spent: $1091.86<br>Avg Review: 5.0",
          "Customer: cust_c6e889226339e3ee9f03988b<br>Orders: 2<br>Spent: $1191.97<br>Avg Review: 2.0",
          "Customer: cust_c6e8de02366989f01e12df3d<br>Orders: 1<br>Spent: $426.18<br>Avg Review: nan",
          "Customer: cust_c70136cb177f1bdd6b5b4ada<br>Orders: 2<br>Spent: $926.85<br>Avg Review: 4.0",
          "Customer: cust_c704142128557f0ba09c483a<br>Orders: 1<br>Spent: $331.98<br>Avg Review: 5.0",
          "Customer: cust_c716d278e8e7397e639ac3fd<br>Orders: 1<br>Spent: $1837.7<br>Avg Review: 4.0",
          "Customer: cust_c729faf578d018bc96d585c6<br>Orders: 1<br>Spent: $131.69<br>Avg Review: nan",
          "Customer: cust_c72fed1bc2adff55fb8443c3<br>Orders: 2<br>Spent: $1769.65<br>Avg Review: 5.0",
          "Customer: cust_c73a018cdd65b939ab707290<br>Orders: 1<br>Spent: $1137.42<br>Avg Review: 1.0",
          "Customer: cust_c74924648a4cea4a0337b82a<br>Orders: 1<br>Spent: $22.05<br>Avg Review: nan",
          "Customer: cust_c753c0d328e1297a08a8bcef<br>Orders: 2<br>Spent: $161.95<br>Avg Review: 4.5",
          "Customer: cust_c758bdd2e48dadbe9e9f491d<br>Orders: 1<br>Spent: $352.47<br>Avg Review: 1.0",
          "Customer: cust_c76d5b112d80504e61806a3d<br>Orders: 3<br>Spent: $1838.73<br>Avg Review: 3.7",
          "Customer: cust_c7728797b2a685f7d57976d4<br>Orders: 2<br>Spent: $435.51<br>Avg Review: 3.7",
          "Customer: cust_c77426c4e5d10b9760bdd17f<br>Orders: 1<br>Spent: $59.36<br>Avg Review: nan",
          "Customer: cust_c79c721f2aa91bd637791f87<br>Orders: 1<br>Spent: $3494.35<br>Avg Review: 5.0",
          "Customer: cust_c7a739d1bab33aa58b3ed3bf<br>Orders: 4<br>Spent: $4265.9<br>Avg Review: 4.8",
          "Customer: cust_c7b86ce09ca6de9cabf1ac60<br>Orders: 2<br>Spent: $962.86<br>Avg Review: 5.0",
          "Customer: cust_c7bb10cea0da55b4fd5d2b1a<br>Orders: 1<br>Spent: $70.99<br>Avg Review: 5.0",
          "Customer: cust_c7c8fc464e83fa10d479b695<br>Orders: 1<br>Spent: $992.98<br>Avg Review: nan",
          "Customer: cust_c7d257b871f98e56bfcca7bb<br>Orders: 1<br>Spent: $78.14<br>Avg Review: nan",
          "Customer: cust_c7ed228d92b0c1d158551c7d<br>Orders: 2<br>Spent: $1447.48<br>Avg Review: 5.0",
          "Customer: cust_c7fe7a0ad02676d555ba5ee8<br>Orders: 2<br>Spent: $368.79<br>Avg Review: 3.0",
          "Customer: cust_c81b8e5ef8349fc64994e180<br>Orders: 1<br>Spent: $343.68<br>Avg Review: 4.0",
          "Customer: cust_c846610eab86edfc5103150b<br>Orders: 1<br>Spent: $245.07<br>Avg Review: 5.0",
          "Customer: cust_c85c43cdf32d395635af621b<br>Orders: 1<br>Spent: $3043.55<br>Avg Review: nan",
          "Customer: cust_c85e124c3d07236463961997<br>Orders: 1<br>Spent: $421.79<br>Avg Review: 5.0",
          "Customer: cust_c86dee9d4a861d2b3eb96865<br>Orders: 3<br>Spent: $3903.85<br>Avg Review: 4.4",
          "Customer: cust_c8873f4df48ed077fe9bb327<br>Orders: 1<br>Spent: $185.67<br>Avg Review: nan",
          "Customer: cust_c8aa1f30f17362e5686d3320<br>Orders: 1<br>Spent: $332.38<br>Avg Review: 5.0",
          "Customer: cust_c8af7df3ac3df3e03e04a0b1<br>Orders: 2<br>Spent: $646.64<br>Avg Review: 5.0",
          "Customer: cust_c8ce43a9b8a0f92f9a1169e9<br>Orders: 2<br>Spent: $2174.26<br>Avg Review: 5.0",
          "Customer: cust_c8d9f355a0b74f15eaea77e6<br>Orders: 2<br>Spent: $1809.41<br>Avg Review: 2.0",
          "Customer: cust_c9024b7ff8d9df30dad116b1<br>Orders: 1<br>Spent: $1070.76<br>Avg Review: 4.0",
          "Customer: cust_c94a319568c6181adb866b14<br>Orders: 1<br>Spent: $862.8<br>Avg Review: 3.0",
          "Customer: cust_c9541f47586549b6d3c3193d<br>Orders: 1<br>Spent: $3440.19<br>Avg Review: 5.0",
          "Customer: cust_c954d971c2a85d4a99707d6d<br>Orders: 1<br>Spent: $2444.73<br>Avg Review: 4.0",
          "Customer: cust_c95519efb2c622c272b07c3e<br>Orders: 1<br>Spent: $662.29<br>Avg Review: nan",
          "Customer: cust_c957bea42b199e218cc6ef42<br>Orders: 1<br>Spent: $610.9<br>Avg Review: 2.0",
          "Customer: cust_c960ee674588548c2a32cd57<br>Orders: 2<br>Spent: $1980.79<br>Avg Review: 4.0",
          "Customer: cust_c9672e6f73f724ba06e230b1<br>Orders: 2<br>Spent: $3236.77<br>Avg Review: 2.8",
          "Customer: cust_c96c64b1510226a86c132a8d<br>Orders: 1<br>Spent: $1952.68<br>Avg Review: 4.0",
          "Customer: cust_c9819a7c6e4058ceda2320dd<br>Orders: 1<br>Spent: $1007.77<br>Avg Review: 5.0",
          "Customer: cust_c9acdd6d14a5ffe6692dbe2c<br>Orders: 1<br>Spent: $62.9<br>Avg Review: 4.0",
          "Customer: cust_c9bd6a345e20e201254d3e98<br>Orders: 1<br>Spent: $308.82<br>Avg Review: 5.0",
          "Customer: cust_c9d5616751c5a6a4c468d25d<br>Orders: 2<br>Spent: $885.87<br>Avg Review: 4.0",
          "Customer: cust_c9e051bdb239d76ec8fffa0d<br>Orders: 1<br>Spent: $154.43<br>Avg Review: 5.0",
          "Customer: cust_c9f89f4282cf057ce63e6c3d<br>Orders: 2<br>Spent: $3633.21<br>Avg Review: 4.6",
          "Customer: cust_ca04b3866cfd216631913f23<br>Orders: 1<br>Spent: $70.9<br>Avg Review: nan",
          "Customer: cust_ca04e05f52eb91a3249610a5<br>Orders: 1<br>Spent: $189.71<br>Avg Review: nan",
          "Customer: cust_ca279f19292c82d7e6b065e7<br>Orders: 1<br>Spent: $240.4<br>Avg Review: nan",
          "Customer: cust_ca626e049a5fbcad71417bac<br>Orders: 1<br>Spent: $43.71<br>Avg Review: 3.0",
          "Customer: cust_ca7f7831e5ef1d2700c190ec<br>Orders: 1<br>Spent: $36.32<br>Avg Review: 2.0",
          "Customer: cust_caa96dcffc172ffc96a4f6dc<br>Orders: 1<br>Spent: $889.44<br>Avg Review: 1.0",
          "Customer: cust_cab136be51a1e46236188a1b<br>Orders: 1<br>Spent: $25.34<br>Avg Review: nan",
          "Customer: cust_cabee7fcbcda89fc144e4a12<br>Orders: 1<br>Spent: $418.13<br>Avg Review: 5.0",
          "Customer: cust_cad5ab73728a2629376d807f<br>Orders: 1<br>Spent: $1002.75<br>Avg Review: 5.0",
          "Customer: cust_cae4a7fd9d792f8ff5920093<br>Orders: 1<br>Spent: $714.85<br>Avg Review: 5.0",
          "Customer: cust_cb0f173d68a016a59c768810<br>Orders: 1<br>Spent: $370.87<br>Avg Review: 4.0",
          "Customer: cust_cb1f5ac7b8bc9886a007739f<br>Orders: 1<br>Spent: $1149.98<br>Avg Review: 5.0",
          "Customer: cust_cb1fb04918d76108985cad62<br>Orders: 2<br>Spent: $273.97<br>Avg Review: 5.0",
          "Customer: cust_cb31df90f600f138ab4d05a8<br>Orders: 1<br>Spent: $341.23<br>Avg Review: 5.0",
          "Customer: cust_cb468890fcbb079bbab946c4<br>Orders: 1<br>Spent: $51.44<br>Avg Review: nan",
          "Customer: cust_cb58b6a9331e3d9d677f19b4<br>Orders: 2<br>Spent: $203.62<br>Avg Review: 5.0",
          "Customer: cust_cb60b225e451b70a46128e7f<br>Orders: 1<br>Spent: $1808.44<br>Avg Review: 5.0",
          "Customer: cust_cb68305d9db8a6dd2dc1963d<br>Orders: 1<br>Spent: $1698.5<br>Avg Review: 4.0",
          "Customer: cust_cbed42e43ad5a4de27d59c5a<br>Orders: 2<br>Spent: $1350.68<br>Avg Review: 5.0",
          "Customer: cust_cbf0d87edb6d46e2ff926883<br>Orders: 1<br>Spent: $224.28<br>Avg Review: 5.0",
          "Customer: cust_cc08642d4e28abc90599713d<br>Orders: 1<br>Spent: $65.5<br>Avg Review: 5.0",
          "Customer: cust_cc0c205c565bde45757f18d8<br>Orders: 1<br>Spent: $2307.92<br>Avg Review: nan",
          "Customer: cust_cc30e22e7de8178cd0ea5473<br>Orders: 1<br>Spent: $225.61<br>Avg Review: 4.0",
          "Customer: cust_cc61d5954aa9a7087da42e53<br>Orders: 1<br>Spent: $393.25<br>Avg Review: 4.0",
          "Customer: cust_cc97a24c656b87b2eee0fe44<br>Orders: 1<br>Spent: $22.74<br>Avg Review: 5.0",
          "Customer: cust_ccb8cdd643dd7576986cd6ab<br>Orders: 2<br>Spent: $1352.68<br>Avg Review: 3.7",
          "Customer: cust_ccbd6c687d8a2fa7c38ddbd0<br>Orders: 1<br>Spent: $92.35<br>Avg Review: 5.0",
          "Customer: cust_cccb89ba1721f3c09215b652<br>Orders: 1<br>Spent: $19.54<br>Avg Review: nan",
          "Customer: cust_cccdae7d16ab1bdcdba157a9<br>Orders: 2<br>Spent: $2041.24<br>Avg Review: 4.0",
          "Customer: cust_ccea2b73025a71a6af224024<br>Orders: 3<br>Spent: $2657.45<br>Avg Review: 5.0",
          "Customer: cust_cced1b731580ab76100310da<br>Orders: 1<br>Spent: $83.39<br>Avg Review: 4.0",
          "Customer: cust_ccf9b227c419ddd529ad5557<br>Orders: 1<br>Spent: $64.43<br>Avg Review: 3.0",
          "Customer: cust_cd056f5e5d38d1b429ae97e1<br>Orders: 1<br>Spent: $492.76<br>Avg Review: 3.0",
          "Customer: cust_cd0dc200a39db7ba90116391<br>Orders: 1<br>Spent: $203.03<br>Avg Review: 5.0",
          "Customer: cust_cd1b54719ce8bc7f163be567<br>Orders: 1<br>Spent: $125.31<br>Avg Review: nan",
          "Customer: cust_cd5e24074cb7b99b32d2b33b<br>Orders: 2<br>Spent: $286.12<br>Avg Review: 5.0",
          "Customer: cust_cd7cab6ed642f7c63bd41988<br>Orders: 3<br>Spent: $2641.14<br>Avg Review: 2.3",
          "Customer: cust_cd8bf16e12024fa6ee198893<br>Orders: 1<br>Spent: $451.18<br>Avg Review: 5.0",
          "Customer: cust_cd9514de92f0ad6a5e9a8568<br>Orders: 1<br>Spent: $341.7<br>Avg Review: nan",
          "Customer: cust_cda9ec4b220b626944ab72d5<br>Orders: 2<br>Spent: $103.26<br>Avg Review: 4.5",
          "Customer: cust_cdb5cd84c57d43f59e285a3d<br>Orders: 2<br>Spent: $883.77<br>Avg Review: 5.0",
          "Customer: cust_cdc26ad50ce6f0ab371ce6d3<br>Orders: 1<br>Spent: $1175.08<br>Avg Review: 1.0",
          "Customer: cust_cdc95063adeb11c87dcb378c<br>Orders: 1<br>Spent: $1057.67<br>Avg Review: 5.0",
          "Customer: cust_cdcb4bada491705994f175c6<br>Orders: 1<br>Spent: $43.13<br>Avg Review: 4.0",
          "Customer: cust_cdccf3c304aa68b9ac6ea53f<br>Orders: 3<br>Spent: $2103.28<br>Avg Review: 5.0",
          "Customer: cust_cdd0b17430b8d9b5dcfc448a<br>Orders: 1<br>Spent: $18.5<br>Avg Review: nan",
          "Customer: cust_cdd90dec8a17723adec43ef5<br>Orders: 1<br>Spent: $17.44<br>Avg Review: 3.0",
          "Customer: cust_cddcd5daaa9f0009ff5045c0<br>Orders: 1<br>Spent: $1304.9<br>Avg Review: nan",
          "Customer: cust_cde2352c41cb3d510c9fbc71<br>Orders: 2<br>Spent: $471.47<br>Avg Review: 5.0",
          "Customer: cust_cde290cbc98f8ad5cb65d315<br>Orders: 1<br>Spent: $143.3<br>Avg Review: 5.0",
          "Customer: cust_cdfb38e99e61c0a4a4f2fb98<br>Orders: 1<br>Spent: $43.53<br>Avg Review: nan",
          "Customer: cust_ce2efbcd362caae4fe60422f<br>Orders: 2<br>Spent: $1959.46<br>Avg Review: 5.0",
          "Customer: cust_ce35e6202d31a560ea412ced<br>Orders: 1<br>Spent: $396.38<br>Avg Review: 3.0",
          "Customer: cust_ce3b4121b7bce182a4876527<br>Orders: 1<br>Spent: $458.32<br>Avg Review: 4.0",
          "Customer: cust_ce47ae7ba00a5693b6c96044<br>Orders: 1<br>Spent: $350.56<br>Avg Review: 4.0",
          "Customer: cust_ce4cba47e643607bb0cb4016<br>Orders: 1<br>Spent: $1641.37<br>Avg Review: 4.0",
          "Customer: cust_ce56347b715624c92aeee955<br>Orders: 1<br>Spent: $306.28<br>Avg Review: nan",
          "Customer: cust_ce5882cacd307010994928f4<br>Orders: 3<br>Spent: $4501.87<br>Avg Review: 3.0",
          "Customer: cust_ce5af39c8c7e10b6791fa053<br>Orders: 1<br>Spent: $94.53<br>Avg Review: 5.0",
          "Customer: cust_ce75a7a774e6ce4b742b0630<br>Orders: 2<br>Spent: $1885.16<br>Avg Review: 5.0",
          "Customer: cust_ce772ad3aefaf6d0ee28c559<br>Orders: 1<br>Spent: $698.18<br>Avg Review: nan",
          "Customer: cust_ce8e1094a1e0e26858f844c9<br>Orders: 1<br>Spent: $63.83<br>Avg Review: 5.0",
          "Customer: cust_cea40db141790f9fa3f1a71c<br>Orders: 1<br>Spent: $632.64<br>Avg Review: 4.0",
          "Customer: cust_ceba96f2264c3ee3567ec5fb<br>Orders: 1<br>Spent: $1299.72<br>Avg Review: 4.0",
          "Customer: cust_cec093b783f67903cd6bbd15<br>Orders: 1<br>Spent: $309.37<br>Avg Review: 5.0",
          "Customer: cust_ced7560801c31812355a1cb7<br>Orders: 1<br>Spent: $112.28<br>Avg Review: nan",
          "Customer: cust_cf12b27c3a93360a1f529b06<br>Orders: 1<br>Spent: $622.57<br>Avg Review: 4.0",
          "Customer: cust_cf1907abfcff67e9d342d15f<br>Orders: 1<br>Spent: $930.96<br>Avg Review: nan",
          "Customer: cust_cf1bcdef77bd2cfca0402074<br>Orders: 1<br>Spent: $34.31<br>Avg Review: 3.0",
          "Customer: cust_cf2174fad5c10080d9f6e2a3<br>Orders: 1<br>Spent: $256.82<br>Avg Review: 5.0",
          "Customer: cust_cf3acf25bd642c6cd48e9ad9<br>Orders: 1<br>Spent: $23.18<br>Avg Review: 4.0",
          "Customer: cust_cf40f07bdec22b3a93b4ddec<br>Orders: 1<br>Spent: $243.32<br>Avg Review: 4.0",
          "Customer: cust_cf63de50b53fb4eea7fa9696<br>Orders: 1<br>Spent: $106.45<br>Avg Review: 5.0",
          "Customer: cust_cf73dd0e1cb2162cc5c7cd5e<br>Orders: 1<br>Spent: $14.38<br>Avg Review: 5.0",
          "Customer: cust_cf767dacd8cc7258491c214f<br>Orders: 2<br>Spent: $3705.62<br>Avg Review: 5.0",
          "Customer: cust_cf7d529d7fdd14be092a218f<br>Orders: 2<br>Spent: $3612.62<br>Avg Review: 4.0",
          "Customer: cust_cf94d8e008ec4494ec3f1d90<br>Orders: 1<br>Spent: $253.06<br>Avg Review: 5.0",
          "Customer: cust_cfa5deadb9acf9e66beda1ec<br>Orders: 1<br>Spent: $73.21<br>Avg Review: 2.0",
          "Customer: cust_cfab170cc38ddde8abb9472e<br>Orders: 1<br>Spent: $1936.63<br>Avg Review: nan",
          "Customer: cust_cfad8f1252b8f2ad39d2338e<br>Orders: 2<br>Spent: $1787.67<br>Avg Review: 5.0",
          "Customer: cust_cfb38152498df33bb9fd0748<br>Orders: 1<br>Spent: $112.58<br>Avg Review: 5.0",
          "Customer: cust_cff85e87ca5ae137712a4e83<br>Orders: 1<br>Spent: $48.64<br>Avg Review: 4.0",
          "Customer: cust_d00f12a759f1768bb5c9076b<br>Orders: 2<br>Spent: $1615.98<br>Avg Review: 4.5",
          "Customer: cust_d01670f26d06cb3ca509540b<br>Orders: 2<br>Spent: $995.28<br>Avg Review: 3.0",
          "Customer: cust_d016c2af004fb2880da9f696<br>Orders: 1<br>Spent: $26.82<br>Avg Review: 4.0",
          "Customer: cust_d01ab6bad08ec6ca76f63d81<br>Orders: 1<br>Spent: $577.84<br>Avg Review: 4.0",
          "Customer: cust_d02b851047082f592a143588<br>Orders: 1<br>Spent: $60.13<br>Avg Review: nan",
          "Customer: cust_d0403c8449541af64745e0cd<br>Orders: 1<br>Spent: $1314.32<br>Avg Review: 5.0",
          "Customer: cust_d05d741db413070dc9e565a2<br>Orders: 3<br>Spent: $2566.7<br>Avg Review: 3.8",
          "Customer: cust_d0730c0b2178338c05ef0741<br>Orders: 1<br>Spent: $43.63<br>Avg Review: 5.0",
          "Customer: cust_d087dedc587b3101b4e44fb9<br>Orders: 1<br>Spent: $911.36<br>Avg Review: 5.0",
          "Customer: cust_d0917407e19aecb898208c82<br>Orders: 1<br>Spent: $1497.55<br>Avg Review: nan",
          "Customer: cust_d0afca1829030eb253683716<br>Orders: 1<br>Spent: $270.0<br>Avg Review: 5.0",
          "Customer: cust_d0d28bdb941e731fc0c53da6<br>Orders: 1<br>Spent: $1434.02<br>Avg Review: 5.0",
          "Customer: cust_d0d61b29952cd7f288bed546<br>Orders: 1<br>Spent: $293.79<br>Avg Review: nan",
          "Customer: cust_d10b74390c0bb76e407b2dc0<br>Orders: 1<br>Spent: $3363.53<br>Avg Review: nan",
          "Customer: cust_d1114726746a9d9459d3140a<br>Orders: 1<br>Spent: $1367.33<br>Avg Review: nan",
          "Customer: cust_d12ff83b6e3909d29550a733<br>Orders: 1<br>Spent: $253.97<br>Avg Review: nan",
          "Customer: cust_d131a00a2baa2c796b0694a3<br>Orders: 1<br>Spent: $497.56<br>Avg Review: 3.0",
          "Customer: cust_d13b562e8f72c4b363dd2fae<br>Orders: 1<br>Spent: $308.1<br>Avg Review: 3.0",
          "Customer: cust_d141253be93a7f2fcec290c8<br>Orders: 1<br>Spent: $49.17<br>Avg Review: 5.0",
          "Customer: cust_d1471af1296cb3cbeaf00a6f<br>Orders: 1<br>Spent: $261.05<br>Avg Review: 5.0",
          "Customer: cust_d171ea5237150993d5a239c6<br>Orders: 1<br>Spent: $861.54<br>Avg Review: nan",
          "Customer: cust_d1a87f60bc7ce947fea64a3e<br>Orders: 1<br>Spent: $1667.31<br>Avg Review: 5.0",
          "Customer: cust_d1b24293d4882b7e08854fc2<br>Orders: 1<br>Spent: $139.83<br>Avg Review: nan",
          "Customer: cust_d1bc6c99202fcd3ff77c61c8<br>Orders: 1<br>Spent: $730.92<br>Avg Review: 4.0",
          "Customer: cust_d1c4eb57b2328d8d6a1e8c0f<br>Orders: 1<br>Spent: $86.71<br>Avg Review: 5.0",
          "Customer: cust_d1cd1723361984a7bdb68792<br>Orders: 1<br>Spent: $99.41<br>Avg Review: 3.0",
          "Customer: cust_d1d14015c996987cb45af9ab<br>Orders: 3<br>Spent: $3127.46<br>Avg Review: 2.7",
          "Customer: cust_d1f95095c11155796f65ed02<br>Orders: 2<br>Spent: $3118.72<br>Avg Review: 5.0",
          "Customer: cust_d2105536e248b2fc9f4bd646<br>Orders: 1<br>Spent: $156.32<br>Avg Review: 3.0",
          "Customer: cust_d232d172a0f88e97cbc0c6c3<br>Orders: 1<br>Spent: $1648.64<br>Avg Review: 5.0",
          "Customer: cust_d246f6b27442dcfaf110aab8<br>Orders: 2<br>Spent: $2549.15<br>Avg Review: 5.0",
          "Customer: cust_d2639fdffd290c4bb1497d88<br>Orders: 2<br>Spent: $2958.45<br>Avg Review: 4.5",
          "Customer: cust_d27822c9b6735d66dcd922b7<br>Orders: 2<br>Spent: $140.49<br>Avg Review: 5.0",
          "Customer: cust_d2828ce6fde015668a30dffa<br>Orders: 1<br>Spent: $817.48<br>Avg Review: 5.0",
          "Customer: cust_d282eb069fb8adbef502c3e2<br>Orders: 2<br>Spent: $1388.67<br>Avg Review: 5.0",
          "Customer: cust_d29fd210103955672a8985ab<br>Orders: 1<br>Spent: $145.43<br>Avg Review: 5.0",
          "Customer: cust_d2a1997b38816eaed14f2e31<br>Orders: 1<br>Spent: $20.08<br>Avg Review: nan",
          "Customer: cust_d2b86d40359eb0600b6f972d<br>Orders: 1<br>Spent: $123.36<br>Avg Review: nan",
          "Customer: cust_d2b922d7c4b48ce0afde0a47<br>Orders: 1<br>Spent: $513.96<br>Avg Review: 4.0",
          "Customer: cust_d2be1c788fba71862a397bf8<br>Orders: 2<br>Spent: $214.93<br>Avg Review: 4.0",
          "Customer: cust_d2c4a9e26aab1686e7a07af2<br>Orders: 1<br>Spent: $271.58<br>Avg Review: 3.0",
          "Customer: cust_d2c4ebedeb9e38edf2ce7d8a<br>Orders: 1<br>Spent: $314.6<br>Avg Review: 3.0",
          "Customer: cust_d2cd1c547e21e4d52b68049f<br>Orders: 1<br>Spent: $20.71<br>Avg Review: 4.0",
          "Customer: cust_d2d89741826172ac3d0c035a<br>Orders: 1<br>Spent: $1379.16<br>Avg Review: 4.0",
          "Customer: cust_d2def1c38311b046dbaed86d<br>Orders: 1<br>Spent: $647.59<br>Avg Review: 5.0",
          "Customer: cust_d2f1356ec1e4cd6b101250db<br>Orders: 1<br>Spent: $1345.59<br>Avg Review: 5.0",
          "Customer: cust_d2f18a2858632ea9def5c450<br>Orders: 1<br>Spent: $556.99<br>Avg Review: 1.0",
          "Customer: cust_d30d83ca1cd916f6964969c1<br>Orders: 1<br>Spent: $620.66<br>Avg Review: 5.0",
          "Customer: cust_d30efc8dd3275020d9524083<br>Orders: 1<br>Spent: $175.23<br>Avg Review: nan",
          "Customer: cust_d314ba5b5435273313c45e1f<br>Orders: 1<br>Spent: $1008.56<br>Avg Review: nan",
          "Customer: cust_d3158e5dfcb0f21aa8e2580f<br>Orders: 1<br>Spent: $189.2<br>Avg Review: 5.0",
          "Customer: cust_d324b3747cfcdd8198fd844c<br>Orders: 1<br>Spent: $123.99<br>Avg Review: nan",
          "Customer: cust_d33d55bac3d24d2f8ed3da4c<br>Orders: 1<br>Spent: $456.52<br>Avg Review: 3.0",
          "Customer: cust_d36421fac116d86e1f772fa5<br>Orders: 2<br>Spent: $1412.7<br>Avg Review: 4.0",
          "Customer: cust_d366b09e478c2f2ff4ad36d9<br>Orders: 1<br>Spent: $102.09<br>Avg Review: 5.0",
          "Customer: cust_d36a40548933d87ef703609a<br>Orders: 1<br>Spent: $58.93<br>Avg Review: nan",
          "Customer: cust_d36a660f97cfd301c3bd2131<br>Orders: 3<br>Spent: $4594.09<br>Avg Review: 3.7",
          "Customer: cust_d38c0d5f84de34e18a37ba95<br>Orders: 2<br>Spent: $1289.64<br>Avg Review: 5.0",
          "Customer: cust_d3a9a64e50cc417ce210d79c<br>Orders: 2<br>Spent: $1821.6<br>Avg Review: 2.0",
          "Customer: cust_d3c40ccae366a5c275fdfc82<br>Orders: 1<br>Spent: $927.34<br>Avg Review: nan",
          "Customer: cust_d3ce0ebcefb8c95c1aba721b<br>Orders: 1<br>Spent: $102.3<br>Avg Review: 5.0",
          "Customer: cust_d3d108007913eea9fb97de12<br>Orders: 1<br>Spent: $1487.59<br>Avg Review: 5.0",
          "Customer: cust_d3da6816a971248b95ff66ee<br>Orders: 1<br>Spent: $112.57<br>Avg Review: 4.0",
          "Customer: cust_d40761770499ef6d69e54133<br>Orders: 2<br>Spent: $2592.85<br>Avg Review: nan",
          "Customer: cust_d42b771ebb4bb65456dcca4b<br>Orders: 2<br>Spent: $1181.9<br>Avg Review: 3.5",
          "Customer: cust_d442ae5069d69bb27a501ab7<br>Orders: 1<br>Spent: $202.54<br>Avg Review: 5.0",
          "Customer: cust_d44da1556169caa80679356b<br>Orders: 1<br>Spent: $86.61<br>Avg Review: nan",
          "Customer: cust_d47521a7418ded51d872af82<br>Orders: 3<br>Spent: $5762.85<br>Avg Review: 3.8",
          "Customer: cust_d4764760b29f929d3d18190b<br>Orders: 1<br>Spent: $294.42<br>Avg Review: 4.0",
          "Customer: cust_d492ee16ef9178f83191edbd<br>Orders: 1<br>Spent: $44.07<br>Avg Review: 4.0",
          "Customer: cust_d499c76aa3be53334f0a3cd3<br>Orders: 2<br>Spent: $276.57<br>Avg Review: 3.5",
          "Customer: cust_d4a0882070381542ec12fcab<br>Orders: 1<br>Spent: $565.06<br>Avg Review: 4.0",
          "Customer: cust_d4b17fb21f5b9046249eaaaf<br>Orders: 2<br>Spent: $2221.75<br>Avg Review: 5.0",
          "Customer: cust_d4b8f716cb3eec7e6ea7fa3e<br>Orders: 2<br>Spent: $1383.5<br>Avg Review: 4.0",
          "Customer: cust_d4bbae6066003b096758c5a7<br>Orders: 1<br>Spent: $558.15<br>Avg Review: 5.0",
          "Customer: cust_d4cc3ba31ef00dd1a135603e<br>Orders: 1<br>Spent: $194.52<br>Avg Review: 5.0",
          "Customer: cust_d4de4508d63e57ddd2c93cbe<br>Orders: 3<br>Spent: $4432.35<br>Avg Review: 2.0",
          "Customer: cust_d4fb94ade96bc66864f66ed3<br>Orders: 2<br>Spent: $1204.9<br>Avg Review: 4.3",
          "Customer: cust_d50ef7773ee9070490c52eea<br>Orders: 1<br>Spent: $342.37<br>Avg Review: 4.0",
          "Customer: cust_d51adcd08c6f079a5397dff1<br>Orders: 2<br>Spent: $338.85<br>Avg Review: 3.0",
          "Customer: cust_d52aaa8f63a7725e6e3847ca<br>Orders: 1<br>Spent: $2650.11<br>Avg Review: 1.0",
          "Customer: cust_d532db201b79e8fb18b90bb6<br>Orders: 2<br>Spent: $983.53<br>Avg Review: nan",
          "Customer: cust_d540ad5dbd15f005fc6dc123<br>Orders: 1<br>Spent: $380.28<br>Avg Review: nan",
          "Customer: cust_d5639aa7dafc8269d48042cf<br>Orders: 2<br>Spent: $287.81<br>Avg Review: 5.0",
          "Customer: cust_d56abc60c91e8a0ee62d5f59<br>Orders: 1<br>Spent: $29.96<br>Avg Review: 2.0",
          "Customer: cust_d56ba368cec89836fb5596dc<br>Orders: 2<br>Spent: $2404.33<br>Avg Review: 4.0",
          "Customer: cust_d5a0d08700f64941b25181a2<br>Orders: 1<br>Spent: $779.17<br>Avg Review: 3.0",
          "Customer: cust_d5b75a4bb9f135cde6c328b1<br>Orders: 1<br>Spent: $475.75<br>Avg Review: 3.0",
          "Customer: cust_d5ce1f512657293a429e8f0d<br>Orders: 1<br>Spent: $42.29<br>Avg Review: nan",
          "Customer: cust_d5ce979bf3bf94107f696d8c<br>Orders: 1<br>Spent: $487.0<br>Avg Review: 3.0",
          "Customer: cust_d5e0587ddf02f67d9dcd2ac9<br>Orders: 1<br>Spent: $600.4<br>Avg Review: nan",
          "Customer: cust_d5f051800c733ec144bd4580<br>Orders: 1<br>Spent: $348.05<br>Avg Review: 4.0",
          "Customer: cust_d5f444e4d2b4de3d10e16600<br>Orders: 2<br>Spent: $1884.56<br>Avg Review: 5.0",
          "Customer: cust_d5f4f779a880fef99d14e918<br>Orders: 1<br>Spent: $100.09<br>Avg Review: 5.0",
          "Customer: cust_d6101adf540adf5fb2350ccc<br>Orders: 1<br>Spent: $1380.55<br>Avg Review: 4.0",
          "Customer: cust_d616061cdd925e25cd6cf852<br>Orders: 1<br>Spent: $453.74<br>Avg Review: 3.0",
          "Customer: cust_d61e03a913dbdcfad44638d8<br>Orders: 1<br>Spent: $2039.2<br>Avg Review: nan",
          "Customer: cust_d62bb5d0d2f0f7482ea62b30<br>Orders: 1<br>Spent: $88.77<br>Avg Review: nan",
          "Customer: cust_d639a11310154f47f4526ad7<br>Orders: 1<br>Spent: $208.15<br>Avg Review: 5.0",
          "Customer: cust_d66ed34f81fc6c4fdec180da<br>Orders: 1<br>Spent: $134.37<br>Avg Review: nan",
          "Customer: cust_d68394dbf74a776972b4b3ec<br>Orders: 1<br>Spent: $272.61<br>Avg Review: nan",
          "Customer: cust_d6990f1fd9b15958b83e54fe<br>Orders: 1<br>Spent: $1301.65<br>Avg Review: 5.0",
          "Customer: cust_d6c36a2f8828d97cca0c92cb<br>Orders: 2<br>Spent: $2187.78<br>Avg Review: 1.0",
          "Customer: cust_d6d43d9cf255d5fc99a6e634<br>Orders: 2<br>Spent: $1621.22<br>Avg Review: 5.0",
          "Customer: cust_d6e87701749d2c4bc6070bb2<br>Orders: 1<br>Spent: $59.03<br>Avg Review: 5.0",
          "Customer: cust_d6ec876eea63d04ced06e168<br>Orders: 2<br>Spent: $536.22<br>Avg Review: 4.0",
          "Customer: cust_d6ecba53282b5f8a8e293786<br>Orders: 1<br>Spent: $1173.38<br>Avg Review: nan",
          "Customer: cust_d704936f562f31dd2ce9b312<br>Orders: 1<br>Spent: $48.5<br>Avg Review: nan",
          "Customer: cust_d70b2451a5a1fdd77eac8753<br>Orders: 3<br>Spent: $594.82<br>Avg Review: 5.0",
          "Customer: cust_d71578eaceb93140d66441a1<br>Orders: 1<br>Spent: $590.84<br>Avg Review: nan",
          "Customer: cust_d7341c3827bd7514c847c227<br>Orders: 1<br>Spent: $104.41<br>Avg Review: 5.0",
          "Customer: cust_d750bcf47321f99b8df2b271<br>Orders: 2<br>Spent: $1079.41<br>Avg Review: 5.0",
          "Customer: cust_d76308274566bb2e3184946e<br>Orders: 1<br>Spent: $1035.67<br>Avg Review: nan",
          "Customer: cust_d76ac075a8f95c3f50cf4259<br>Orders: 2<br>Spent: $499.08<br>Avg Review: 3.0",
          "Customer: cust_d773e5c915c49c8e8ec20ddf<br>Orders: 1<br>Spent: $52.21<br>Avg Review: 5.0",
          "Customer: cust_d7762e8de0a251886f1cacc9<br>Orders: 1<br>Spent: $617.63<br>Avg Review: 5.0",
          "Customer: cust_d7a56790b010473c7d7abac4<br>Orders: 1<br>Spent: $271.14<br>Avg Review: nan",
          "Customer: cust_d7a746a92c36f0b8a7d2fedc<br>Orders: 1<br>Spent: $117.92<br>Avg Review: 5.0",
          "Customer: cust_d7ba7aeff8f66985a5475ccd<br>Orders: 1<br>Spent: $553.19<br>Avg Review: 5.0",
          "Customer: cust_d7bfe4d2cf26e5b9c8cb1124<br>Orders: 1<br>Spent: $469.97<br>Avg Review: nan",
          "Customer: cust_d7ce7f26330d0cb10e8ad364<br>Orders: 1<br>Spent: $602.99<br>Avg Review: nan",
          "Customer: cust_d7d6a0e9922c25e8623e92d8<br>Orders: 1<br>Spent: $798.38<br>Avg Review: 4.0",
          "Customer: cust_d7f22aa83632f5d8d6d3feb8<br>Orders: 2<br>Spent: $619.13<br>Avg Review: 5.0",
          "Customer: cust_d7ff1c8c4a974c822c7209cf<br>Orders: 1<br>Spent: $2039.78<br>Avg Review: 5.0",
          "Customer: cust_d807c68d4ccc0f9919906e19<br>Orders: 1<br>Spent: $2902.77<br>Avg Review: 4.0",
          "Customer: cust_d812e76e548e131ad81839fe<br>Orders: 1<br>Spent: $66.25<br>Avg Review: nan",
          "Customer: cust_d813079285fa42022fddf04b<br>Orders: 1<br>Spent: $492.61<br>Avg Review: 4.0",
          "Customer: cust_d843942fa4b08ef1dd123191<br>Orders: 1<br>Spent: $119.79<br>Avg Review: 5.0",
          "Customer: cust_d866d21344c30cef20b70cef<br>Orders: 1<br>Spent: $1405.27<br>Avg Review: 4.0",
          "Customer: cust_d874c12420beb1ab8dcbad39<br>Orders: 2<br>Spent: $501.89<br>Avg Review: 5.0",
          "Customer: cust_d8763ccec41d11f62457bcfd<br>Orders: 1<br>Spent: $110.91<br>Avg Review: 5.0",
          "Customer: cust_d88cb2d966d5c3f2e576abde<br>Orders: 2<br>Spent: $1286.43<br>Avg Review: 5.0",
          "Customer: cust_d8b8aa03d1a81a3a19508b61<br>Orders: 2<br>Spent: $884.94<br>Avg Review: 5.0",
          "Customer: cust_d8bddfee66c424dd13d53d33<br>Orders: 1<br>Spent: $861.83<br>Avg Review: 5.0",
          "Customer: cust_d8c731a6a93aae00070b1286<br>Orders: 1<br>Spent: $1624.09<br>Avg Review: nan",
          "Customer: cust_d8c802406b226e37d85b3b12<br>Orders: 1<br>Spent: $1756.91<br>Avg Review: 3.0",
          "Customer: cust_d8cd2a3f8a8c52af3b090c23<br>Orders: 1<br>Spent: $84.07<br>Avg Review: 5.0",
          "Customer: cust_d8d46b8b05d62da905d1f08b<br>Orders: 2<br>Spent: $1914.19<br>Avg Review: 3.8",
          "Customer: cust_d8f0d2c54a5e39e109c1d2ae<br>Orders: 1<br>Spent: $1686.2<br>Avg Review: 5.0",
          "Customer: cust_d8f9e9d148eb14286057293b<br>Orders: 1<br>Spent: $2665.26<br>Avg Review: nan",
          "Customer: cust_d9106f31bea47061c1684edf<br>Orders: 1<br>Spent: $1557.23<br>Avg Review: nan",
          "Customer: cust_d945e3b15b5c74680d618439<br>Orders: 2<br>Spent: $4173.37<br>Avg Review: nan",
          "Customer: cust_d94e92c399c5959bfc56e473<br>Orders: 1<br>Spent: $26.72<br>Avg Review: 5.0",
          "Customer: cust_d95c3635535dd32ddbf41e6b<br>Orders: 1<br>Spent: $15.85<br>Avg Review: nan",
          "Customer: cust_d97294c0e67e7b8a94f73479<br>Orders: 2<br>Spent: $866.89<br>Avg Review: 4.7",
          "Customer: cust_d989510b33d00127577ec23c<br>Orders: 1<br>Spent: $668.07<br>Avg Review: nan",
          "Customer: cust_d99d690e3282ef601f1afa8e<br>Orders: 1<br>Spent: $345.18<br>Avg Review: 4.0",
          "Customer: cust_d9a3e8f71b5fe08ce8300006<br>Orders: 1<br>Spent: $2108.35<br>Avg Review: 5.0",
          "Customer: cust_d9a4cceea0798af85961c457<br>Orders: 2<br>Spent: $603.14<br>Avg Review: 4.5",
          "Customer: cust_d9c5acf949bbacd0f3d6f526<br>Orders: 2<br>Spent: $2603.01<br>Avg Review: 4.0",
          "Customer: cust_d9d788aa71e4b1a047d35558<br>Orders: 2<br>Spent: $501.58<br>Avg Review: nan",
          "Customer: cust_d9ec74bbcf05398685787116<br>Orders: 1<br>Spent: $15.74<br>Avg Review: 4.0",
          "Customer: cust_d9f0750e8d8c303d61b92bcf<br>Orders: 1<br>Spent: $1438.89<br>Avg Review: 4.0",
          "Customer: cust_da0f4ba2d5d85219f963614c<br>Orders: 1<br>Spent: $545.75<br>Avg Review: 5.0",
          "Customer: cust_da13c9acb81c7348e460d364<br>Orders: 1<br>Spent: $738.15<br>Avg Review: nan",
          "Customer: cust_da41131a896a993268b7d7b1<br>Orders: 2<br>Spent: $3339.52<br>Avg Review: 4.7",
          "Customer: cust_da8e2e92cd696b663d2d99fe<br>Orders: 3<br>Spent: $3070.94<br>Avg Review: 3.5",
          "Customer: cust_dad664065e00a819d432be29<br>Orders: 3<br>Spent: $775.86<br>Avg Review: 5.0",
          "Customer: cust_dad86313ae22c57799e85f09<br>Orders: 1<br>Spent: $971.19<br>Avg Review: 4.0",
          "Customer: cust_daec94dc502fa29720ff7807<br>Orders: 1<br>Spent: $1293.18<br>Avg Review: 3.0",
          "Customer: cust_dafeb8128b0e4b776351502b<br>Orders: 1<br>Spent: $1460.41<br>Avg Review: 5.0",
          "Customer: cust_db1a0fc4fbfb2ce872ba3667<br>Orders: 1<br>Spent: $367.81<br>Avg Review: 5.0",
          "Customer: cust_db1d4eed1155eb1285075deb<br>Orders: 1<br>Spent: $1501.46<br>Avg Review: nan",
          "Customer: cust_db2c4736290b178209436283<br>Orders: 1<br>Spent: $251.05<br>Avg Review: 5.0",
          "Customer: cust_db5867bdee11bc52119d5391<br>Orders: 1<br>Spent: $344.7<br>Avg Review: 5.0",
          "Customer: cust_db7e21f3246c576d399a5d53<br>Orders: 1<br>Spent: $822.31<br>Avg Review: 3.0",
          "Customer: cust_db7fe3c9d57a73d07b547f05<br>Orders: 1<br>Spent: $66.72<br>Avg Review: nan",
          "Customer: cust_db8cecbeb9e7c8d66298bcc7<br>Orders: 1<br>Spent: $3241.18<br>Avg Review: 4.0",
          "Customer: cust_db944e002632968e308a526b<br>Orders: 3<br>Spent: $1632.56<br>Avg Review: 3.0",
          "Customer: cust_dbe094c1a2cf1b916fdca524<br>Orders: 1<br>Spent: $869.88<br>Avg Review: 5.0",
          "Customer: cust_dbe7ec4a46aea0538c95c91e<br>Orders: 3<br>Spent: $714.46<br>Avg Review: 5.0",
          "Customer: cust_dbe91c33a68cb21d923f16b7<br>Orders: 3<br>Spent: $3178.19<br>Avg Review: 4.5",
          "Customer: cust_dbee3caac00e211f4095a782<br>Orders: 2<br>Spent: $2216.58<br>Avg Review: 5.0",
          "Customer: cust_dc002c616f08237a4e01cad5<br>Orders: 1<br>Spent: $372.64<br>Avg Review: 5.0",
          "Customer: cust_dc21ab40c38d4c12171b09a0<br>Orders: 1<br>Spent: $36.42<br>Avg Review: 5.0",
          "Customer: cust_dc3be04fe23ba4c2c5b6e869<br>Orders: 1<br>Spent: $1081.8<br>Avg Review: nan",
          "Customer: cust_dc45b6a4819a5af299b4255e<br>Orders: 1<br>Spent: $1904.2<br>Avg Review: 2.0",
          "Customer: cust_dc5786b0fcc0bcc2476daf1c<br>Orders: 1<br>Spent: $1252.86<br>Avg Review: 3.0",
          "Customer: cust_dc68a5a32e3f3e694d86d2ae<br>Orders: 1<br>Spent: $21.87<br>Avg Review: 2.0",
          "Customer: cust_dcace2b42439282c7400f438<br>Orders: 1<br>Spent: $1351.93<br>Avg Review: 5.0",
          "Customer: cust_dcdf824a5634e12f3239f1f1<br>Orders: 1<br>Spent: $1024.23<br>Avg Review: 5.0",
          "Customer: cust_dce5622bc9a5a34acc11ae51<br>Orders: 1<br>Spent: $932.27<br>Avg Review: 2.0",
          "Customer: cust_dcee4ab7e4afe48559d93621<br>Orders: 3<br>Spent: $1174.95<br>Avg Review: 4.3",
          "Customer: cust_dcfc10874630ab68d2e93524<br>Orders: 1<br>Spent: $1206.33<br>Avg Review: 3.0",
          "Customer: cust_dd0282515781f55f8db2484e<br>Orders: 1<br>Spent: $337.42<br>Avg Review: 4.0",
          "Customer: cust_dd19b017e29119c94c120089<br>Orders: 1<br>Spent: $415.04<br>Avg Review: 4.0",
          "Customer: cust_dd19f641ed9ef843e9c9bd46<br>Orders: 1<br>Spent: $3544.78<br>Avg Review: nan",
          "Customer: cust_dd1c974903b3c453732f9e06<br>Orders: 1<br>Spent: $950.3<br>Avg Review: 1.0",
          "Customer: cust_dd3cd968f813b386884f7372<br>Orders: 2<br>Spent: $3104.83<br>Avg Review: 5.0",
          "Customer: cust_dd3f31a7e3dcc1b61f043715<br>Orders: 1<br>Spent: $155.37<br>Avg Review: 4.0",
          "Customer: cust_dd5818ed7acba547c998c7e4<br>Orders: 1<br>Spent: $1186.87<br>Avg Review: nan",
          "Customer: cust_dd7aca9fa130ba5a51418866<br>Orders: 1<br>Spent: $820.54<br>Avg Review: 3.0",
          "Customer: cust_dd8594161e9619f154019f5d<br>Orders: 1<br>Spent: $484.14<br>Avg Review: 5.0",
          "Customer: cust_dd9efa5084c71010e707b1a3<br>Orders: 1<br>Spent: $682.08<br>Avg Review: 4.0",
          "Customer: cust_ddb4cf61c2246523376d8314<br>Orders: 1<br>Spent: $663.26<br>Avg Review: 3.0",
          "Customer: cust_ddbdb0a2349f936f368546a3<br>Orders: 1<br>Spent: $561.65<br>Avg Review: nan",
          "Customer: cust_ddd3bbbcd6e41c446916efee<br>Orders: 1<br>Spent: $955.48<br>Avg Review: 4.0",
          "Customer: cust_ddd971e09ee9316841f1659c<br>Orders: 1<br>Spent: $360.51<br>Avg Review: 5.0",
          "Customer: cust_dde1778a0038f8cf7afc0272<br>Orders: 1<br>Spent: $776.28<br>Avg Review: 5.0",
          "Customer: cust_dde942da7e673e3dc00bbb8d<br>Orders: 1<br>Spent: $3023.49<br>Avg Review: 5.0",
          "Customer: cust_ddfd455f636780a895bf5c41<br>Orders: 1<br>Spent: $153.52<br>Avg Review: nan",
          "Customer: cust_de02cd02c179aa7391ef7c05<br>Orders: 2<br>Spent: $1493.38<br>Avg Review: 4.0",
          "Customer: cust_de1a0f580b0425cbe7d20420<br>Orders: 2<br>Spent: $710.69<br>Avg Review: 4.5",
          "Customer: cust_de1efece4485ebbb526d3f5b<br>Orders: 1<br>Spent: $1891.73<br>Avg Review: 5.0",
          "Customer: cust_de2fc8c56593320b26739a61<br>Orders: 1<br>Spent: $12.95<br>Avg Review: nan",
          "Customer: cust_de5c9917677fd88a945e166c<br>Orders: 1<br>Spent: $28.07<br>Avg Review: nan",
          "Customer: cust_de638478d76216995656f37f<br>Orders: 1<br>Spent: $143.07<br>Avg Review: 4.0",
          "Customer: cust_de71104861f32d7830f62fa4<br>Orders: 2<br>Spent: $3997.96<br>Avg Review: 4.8",
          "Customer: cust_de75b57dd500ec12f236ef33<br>Orders: 1<br>Spent: $163.05<br>Avg Review: nan",
          "Customer: cust_de79af97f9ebb595b91a1298<br>Orders: 2<br>Spent: $5444.48<br>Avg Review: 4.1",
          "Customer: cust_de82251ea92a98a8a581c2c7<br>Orders: 1<br>Spent: $551.42<br>Avg Review: 2.0",
          "Customer: cust_de944f65cae05a2c218d3627<br>Orders: 1<br>Spent: $2151.27<br>Avg Review: 3.0",
          "Customer: cust_de98aac7c6abd0c2fe349e8d<br>Orders: 1<br>Spent: $1442.29<br>Avg Review: 5.0",
          "Customer: cust_deaeda71dd1d05f8bd09b0f3<br>Orders: 2<br>Spent: $213.53<br>Avg Review: 4.0",
          "Customer: cust_ded7a60fe0973d7900964ba9<br>Orders: 1<br>Spent: $488.34<br>Avg Review: 5.0",
          "Customer: cust_deec5ec61bd39869531896b3<br>Orders: 2<br>Spent: $484.5<br>Avg Review: 4.7",
          "Customer: cust_def6cd98b30c5a48d074f113<br>Orders: 3<br>Spent: $3374.28<br>Avg Review: 3.8",
          "Customer: cust_df139790f2722445cbd3a642<br>Orders: 1<br>Spent: $492.61<br>Avg Review: nan",
          "Customer: cust_df1e519936bfd45db185cfd8<br>Orders: 1<br>Spent: $2081.61<br>Avg Review: 5.0",
          "Customer: cust_df4bafc685bf1cf9a554c43b<br>Orders: 1<br>Spent: $29.02<br>Avg Review: nan",
          "Customer: cust_df4eecdb6562c73a289be0cb<br>Orders: 1<br>Spent: $783.04<br>Avg Review: 5.0",
          "Customer: cust_df4feacc57ddade8e6247313<br>Orders: 1<br>Spent: $414.2<br>Avg Review: 5.0",
          "Customer: cust_df50671dcfc1ec7c6cb312a6<br>Orders: 1<br>Spent: $2217.39<br>Avg Review: 4.0",
          "Customer: cust_df6617b6e42af6419985cfac<br>Orders: 1<br>Spent: $585.63<br>Avg Review: 5.0",
          "Customer: cust_df7b0f5bd63e8341cc33fe6d<br>Orders: 1<br>Spent: $1452.57<br>Avg Review: 5.0",
          "Customer: cust_df8505472c2bb6437f847604<br>Orders: 1<br>Spent: $125.05<br>Avg Review: nan",
          "Customer: cust_dfa07695c065b21255c98976<br>Orders: 1<br>Spent: $1226.72<br>Avg Review: nan",
          "Customer: cust_dfe0a5bcb28e94b10d70081b<br>Orders: 1<br>Spent: $1410.22<br>Avg Review: 3.0",
          "Customer: cust_dfe883bae8930ea11bca881f<br>Orders: 1<br>Spent: $1316.8<br>Avg Review: 3.0",
          "Customer: cust_dfe9f53694398abd7a51ee54<br>Orders: 1<br>Spent: $2177.1<br>Avg Review: 4.0",
          "Customer: cust_dffd3a87fce9b3358fbc87ab<br>Orders: 1<br>Spent: $1857.3<br>Avg Review: 3.0",
          "Customer: cust_e003bf8ed1bb88b87ab196e6<br>Orders: 1<br>Spent: $45.64<br>Avg Review: 3.0",
          "Customer: cust_e0138d38b961633b3929c80b<br>Orders: 1<br>Spent: $514.22<br>Avg Review: 5.0",
          "Customer: cust_e013abd02516da1cd9274d24<br>Orders: 1<br>Spent: $560.07<br>Avg Review: 5.0",
          "Customer: cust_e019039d3be469bdbc17f350<br>Orders: 2<br>Spent: $355.18<br>Avg Review: nan",
          "Customer: cust_e01cb2f350d168a6977132a5<br>Orders: 2<br>Spent: $1515.35<br>Avg Review: nan",
          "Customer: cust_e023b317ae45a0fdd9beb14f<br>Orders: 1<br>Spent: $962.41<br>Avg Review: 1.0",
          "Customer: cust_e04032e1b07e0fa72daf199b<br>Orders: 1<br>Spent: $1061.56<br>Avg Review: 4.0",
          "Customer: cust_e0620d649b8d8208e0b5ff92<br>Orders: 2<br>Spent: $3550.3<br>Avg Review: 4.0",
          "Customer: cust_e06f36dd08015a1d8c587791<br>Orders: 1<br>Spent: $110.82<br>Avg Review: 5.0",
          "Customer: cust_e07a787d57d8aec8edc6d043<br>Orders: 1<br>Spent: $3590.26<br>Avg Review: 3.0",
          "Customer: cust_e092a83881966cee4ee46fe3<br>Orders: 1<br>Spent: $322.14<br>Avg Review: 5.0",
          "Customer: cust_e0a2b3e83dc768d8ce7b8e70<br>Orders: 2<br>Spent: $1273.0<br>Avg Review: 5.0",
          "Customer: cust_e0b2a6b8254de1233c87eaf2<br>Orders: 1<br>Spent: $2034.24<br>Avg Review: 4.0",
          "Customer: cust_e0de3c328f92668605922f5d<br>Orders: 2<br>Spent: $4113.93<br>Avg Review: nan",
          "Customer: cust_e0f3148175a3a9fd08f846c4<br>Orders: 2<br>Spent: $2103.23<br>Avg Review: 5.0",
          "Customer: cust_e11edb86205de267281b2c8d<br>Orders: 1<br>Spent: $1298.88<br>Avg Review: 5.0",
          "Customer: cust_e1721618a2fadf05dd560fb2<br>Orders: 1<br>Spent: $463.65<br>Avg Review: 5.0",
          "Customer: cust_e17294909b74e4cd0b1c9009<br>Orders: 1<br>Spent: $555.02<br>Avg Review: 5.0",
          "Customer: cust_e17b493d52cfdb7b71aaee7d<br>Orders: 1<br>Spent: $1206.83<br>Avg Review: 5.0",
          "Customer: cust_e1861be218d410ae1698f0d8<br>Orders: 1<br>Spent: $110.39<br>Avg Review: 3.0",
          "Customer: cust_e18fc6dd09b83ebf1d6f5fec<br>Orders: 1<br>Spent: $466.67<br>Avg Review: 5.0",
          "Customer: cust_e1a66f4bc04bbcfb731b4794<br>Orders: 1<br>Spent: $180.66<br>Avg Review: nan",
          "Customer: cust_e1d8101d1d3939e4ced34043<br>Orders: 1<br>Spent: $85.75<br>Avg Review: nan",
          "Customer: cust_e1dd288ef857484f02c4de3b<br>Orders: 1<br>Spent: $1529.07<br>Avg Review: 5.0",
          "Customer: cust_e1ee23ebb2e0fab681445ef6<br>Orders: 1<br>Spent: $110.0<br>Avg Review: 4.0",
          "Customer: cust_e1fa1cac85799ac89f2c5457<br>Orders: 1<br>Spent: $14.15<br>Avg Review: 5.0",
          "Customer: cust_e2172059788ff67182fe8ad9<br>Orders: 1<br>Spent: $48.09<br>Avg Review: 3.0",
          "Customer: cust_e26d7301f15d8392ca085d25<br>Orders: 1<br>Spent: $580.99<br>Avg Review: nan",
          "Customer: cust_e26edf8d88187528036571d2<br>Orders: 1<br>Spent: $471.41<br>Avg Review: nan",
          "Customer: cust_e2a491189959b1422cc52e45<br>Orders: 1<br>Spent: $199.26<br>Avg Review: nan",
          "Customer: cust_e2b6333af47dcce8c2d026e8<br>Orders: 2<br>Spent: $4188.84<br>Avg Review: 3.0",
          "Customer: cust_e2c7b2746097008eb8755277<br>Orders: 1<br>Spent: $456.04<br>Avg Review: 5.0",
          "Customer: cust_e2ce389cfaf6d0ac7c40f39e<br>Orders: 2<br>Spent: $1076.04<br>Avg Review: 4.5",
          "Customer: cust_e2ce3ad1df1f4f33be6bef85<br>Orders: 1<br>Spent: $89.24<br>Avg Review: 5.0",
          "Customer: cust_e2da553b5e2ad2874c109b5b<br>Orders: 3<br>Spent: $2004.48<br>Avg Review: 5.0",
          "Customer: cust_e2e5b630e227f9cd00580424<br>Orders: 2<br>Spent: $1622.48<br>Avg Review: 3.0",
          "Customer: cust_e3244ea630ca2cacf61809ac<br>Orders: 1<br>Spent: $2147.49<br>Avg Review: nan",
          "Customer: cust_e32b8ffb6c68dd8b24fa406f<br>Orders: 1<br>Spent: $825.89<br>Avg Review: nan",
          "Customer: cust_e3468ce927d03be50b3607bd<br>Orders: 1<br>Spent: $4007.15<br>Avg Review: nan",
          "Customer: cust_e34cb3085476c1cdf53505f6<br>Orders: 1<br>Spent: $210.03<br>Avg Review: 3.0",
          "Customer: cust_e34fcbd0a40d4bdd9b8a9e9e<br>Orders: 1<br>Spent: $73.75<br>Avg Review: 2.0",
          "Customer: cust_e35faa1d6eb160c99df5a777<br>Orders: 2<br>Spent: $1019.82<br>Avg Review: 3.5",
          "Customer: cust_e3630070539a0a96a2dd0e25<br>Orders: 1<br>Spent: $96.11<br>Avg Review: 5.0",
          "Customer: cust_e36994ebb34ffc90900d3216<br>Orders: 1<br>Spent: $328.37<br>Avg Review: 5.0",
          "Customer: cust_e379deb242c19f173101c367<br>Orders: 1<br>Spent: $209.36<br>Avg Review: 5.0",
          "Customer: cust_e3853a37e09e8c09691d72f3<br>Orders: 1<br>Spent: $306.43<br>Avg Review: 4.0",
          "Customer: cust_e3922cc098a9f46ac60245aa<br>Orders: 1<br>Spent: $2176.87<br>Avg Review: nan",
          "Customer: cust_e39887d69d12edf3ebadfe5f<br>Orders: 1<br>Spent: $307.09<br>Avg Review: nan",
          "Customer: cust_e39acdaed6b4e19e63e2089c<br>Orders: 1<br>Spent: $2020.28<br>Avg Review: nan",
          "Customer: cust_e3b1e3728d543dae679bf020<br>Orders: 1<br>Spent: $1307.98<br>Avg Review: 4.0",
          "Customer: cust_e3b58819b08644b7370749bd<br>Orders: 2<br>Spent: $612.94<br>Avg Review: 5.0",
          "Customer: cust_e3bda222dbb0f24b8440bc27<br>Orders: 1<br>Spent: $683.66<br>Avg Review: 5.0",
          "Customer: cust_e3cc2cd08ac9bf161630d3e1<br>Orders: 1<br>Spent: $90.36<br>Avg Review: 2.0",
          "Customer: cust_e3e8421f50c7f79381f1271c<br>Orders: 1<br>Spent: $279.79<br>Avg Review: 2.0",
          "Customer: cust_e3eec4ac06c1e49c27c432b9<br>Orders: 1<br>Spent: $339.15<br>Avg Review: nan",
          "Customer: cust_e3f412e64f7fdb4440e63e81<br>Orders: 1<br>Spent: $1342.47<br>Avg Review: 4.0",
          "Customer: cust_e3f66b880b91104f55030cf1<br>Orders: 1<br>Spent: $962.45<br>Avg Review: 5.0",
          "Customer: cust_e3f8237c8f458ef576c990df<br>Orders: 2<br>Spent: $3996.97<br>Avg Review: 4.0",
          "Customer: cust_e40d7ed35563ecf3d41be9b8<br>Orders: 1<br>Spent: $74.87<br>Avg Review: nan",
          "Customer: cust_e41472210548780422b12301<br>Orders: 1<br>Spent: $2357.46<br>Avg Review: 4.0",
          "Customer: cust_e424bb04fed91ed33c268f2a<br>Orders: 1<br>Spent: $164.64<br>Avg Review: 4.0",
          "Customer: cust_e440c9b150dabc3f6d8d8e17<br>Orders: 1<br>Spent: $1184.73<br>Avg Review: 4.0",
          "Customer: cust_e451490a3b1d628d42289c0c<br>Orders: 1<br>Spent: $213.65<br>Avg Review: 3.0",
          "Customer: cust_e483be865ff5be2bf6598cd7<br>Orders: 1<br>Spent: $243.87<br>Avg Review: nan",
          "Customer: cust_e497f6180b374bc4b16c6fb5<br>Orders: 1<br>Spent: $700.37<br>Avg Review: nan",
          "Customer: cust_e4b365a42cbbb13637318953<br>Orders: 2<br>Spent: $1337.44<br>Avg Review: 4.0",
          "Customer: cust_e4df2b09599c171da0ed507c<br>Orders: 2<br>Spent: $172.26<br>Avg Review: 5.0",
          "Customer: cust_e4e1c1f113785dcc02b57f7f<br>Orders: 1<br>Spent: $356.2<br>Avg Review: 3.0",
          "Customer: cust_e501a84abb4026a046e27add<br>Orders: 1<br>Spent: $999.86<br>Avg Review: nan",
          "Customer: cust_e503105416e9c80026e51dc9<br>Orders: 1<br>Spent: $158.8<br>Avg Review: nan",
          "Customer: cust_e5359e0d5516d702cc89c997<br>Orders: 1<br>Spent: $1432.67<br>Avg Review: 3.0",
          "Customer: cust_e54a3e232370d86179355925<br>Orders: 1<br>Spent: $328.39<br>Avg Review: 5.0",
          "Customer: cust_e5568065b8c0cd176c9b4b37<br>Orders: 2<br>Spent: $928.49<br>Avg Review: 2.3",
          "Customer: cust_e558d6477355a8510e13e193<br>Orders: 1<br>Spent: $397.4<br>Avg Review: 4.0",
          "Customer: cust_e5733d81fbba8fb56881a155<br>Orders: 2<br>Spent: $3216.95<br>Avg Review: 4.0",
          "Customer: cust_e5770a360ee583a6286d51b9<br>Orders: 1<br>Spent: $969.49<br>Avg Review: nan",
          "Customer: cust_e587a2add34ae2ae78cabb6e<br>Orders: 2<br>Spent: $1982.7<br>Avg Review: 4.8",
          "Customer: cust_e587bbaf65d4848768fb9c95<br>Orders: 3<br>Spent: $1203.55<br>Avg Review: 5.0",
          "Customer: cust_e593af0c4639d2ae4df2e488<br>Orders: 1<br>Spent: $46.25<br>Avg Review: 5.0",
          "Customer: cust_e5d1e8682c948491f6228fee<br>Orders: 1<br>Spent: $923.27<br>Avg Review: nan",
          "Customer: cust_e5d659d9276952d3c1573dc7<br>Orders: 1<br>Spent: $1928.84<br>Avg Review: 4.0",
          "Customer: cust_e6072a86e75eb5bbc94f7beb<br>Orders: 1<br>Spent: $364.94<br>Avg Review: 5.0",
          "Customer: cust_e61418fce578c4e244520afc<br>Orders: 1<br>Spent: $403.61<br>Avg Review: nan",
          "Customer: cust_e63acbc21a4ce81d4e03c687<br>Orders: 1<br>Spent: $819.18<br>Avg Review: nan",
          "Customer: cust_e64d98f7b2ba53f7d2b8949b<br>Orders: 1<br>Spent: $1183.55<br>Avg Review: 5.0",
          "Customer: cust_e65566fad74d1978a000788e<br>Orders: 1<br>Spent: $212.64<br>Avg Review: nan",
          "Customer: cust_e670ce607e4f6aa14935ece0<br>Orders: 1<br>Spent: $749.83<br>Avg Review: 5.0",
          "Customer: cust_e672e93df1a62fedc4557c8e<br>Orders: 3<br>Spent: $276.4<br>Avg Review: 4.7",
          "Customer: cust_e6814ab7bda6f391e57766d3<br>Orders: 3<br>Spent: $3305.64<br>Avg Review: 4.0",
          "Customer: cust_e6954232bbb1d6a19da055ce<br>Orders: 1<br>Spent: $59.96<br>Avg Review: 2.0",
          "Customer: cust_e6996923a5987e550beddcbd<br>Orders: 2<br>Spent: $1994.24<br>Avg Review: 5.0",
          "Customer: cust_e6bed242644c01c2674f552d<br>Orders: 2<br>Spent: $1648.0<br>Avg Review: 4.4",
          "Customer: cust_e6c79d8d8be7841d056bd169<br>Orders: 1<br>Spent: $1769.2<br>Avg Review: 3.0",
          "Customer: cust_e6dc1f031b4955d071038184<br>Orders: 1<br>Spent: $420.92<br>Avg Review: nan",
          "Customer: cust_e6ffae98044f31a2cd4dae1e<br>Orders: 1<br>Spent: $235.41<br>Avg Review: 4.0",
          "Customer: cust_e729c111a61622e000d4660d<br>Orders: 1<br>Spent: $329.34<br>Avg Review: 4.0",
          "Customer: cust_e7332aa6f15e3a02f950c9d4<br>Orders: 1<br>Spent: $249.17<br>Avg Review: 4.0",
          "Customer: cust_e73995dd13c4cf0c999e7562<br>Orders: 1<br>Spent: $265.03<br>Avg Review: 5.0",
          "Customer: cust_e73de19e8f118364465bf181<br>Orders: 1<br>Spent: $730.64<br>Avg Review: 4.0",
          "Customer: cust_e73e4a676889ec3da6311b48<br>Orders: 1<br>Spent: $821.14<br>Avg Review: nan",
          "Customer: cust_e7502ea5ba1a9fdc2e85f4c3<br>Orders: 1<br>Spent: $671.37<br>Avg Review: nan",
          "Customer: cust_e79e71e59eda5073486a833f<br>Orders: 1<br>Spent: $263.58<br>Avg Review: 4.0",
          "Customer: cust_e7a0d31efb3e2ca8e6d6a3c1<br>Orders: 1<br>Spent: $66.53<br>Avg Review: 4.0",
          "Customer: cust_e7b63b3987693a141c8cccc5<br>Orders: 1<br>Spent: $333.46<br>Avg Review: 5.0",
          "Customer: cust_e7c5cc73d61e28622a684b66<br>Orders: 1<br>Spent: $87.67<br>Avg Review: 4.0",
          "Customer: cust_e7e1f818e87a0f8a834871f5<br>Orders: 2<br>Spent: $679.04<br>Avg Review: 2.5",
          "Customer: cust_e81915d38ab7e2ac3a3ca0b0<br>Orders: 1<br>Spent: $1663.33<br>Avg Review: 5.0",
          "Customer: cust_e824d41d8c70415cfcad3fb9<br>Orders: 1<br>Spent: $1712.01<br>Avg Review: 3.0",
          "Customer: cust_e828ce4c8c546ba6c38d8ba1<br>Orders: 1<br>Spent: $720.41<br>Avg Review: 3.0",
          "Customer: cust_e829c68ec93eb54726b52cc2<br>Orders: 2<br>Spent: $4813.48<br>Avg Review: 4.0",
          "Customer: cust_e8431682f1ee9f567adac584<br>Orders: 2<br>Spent: $618.35<br>Avg Review: nan",
          "Customer: cust_e8502b1b5f1b3939ad7f26df<br>Orders: 1<br>Spent: $12.36<br>Avg Review: nan",
          "Customer: cust_e856f09dc97e93561083dc18<br>Orders: 1<br>Spent: $2184.78<br>Avg Review: 3.0",
          "Customer: cust_e865aeb0b8ec1074f4a9fc45<br>Orders: 2<br>Spent: $602.86<br>Avg Review: 2.0",
          "Customer: cust_e86e85a070456e406786173c<br>Orders: 1<br>Spent: $139.09<br>Avg Review: 3.0",
          "Customer: cust_e87411b9345ed10103aeb975<br>Orders: 1<br>Spent: $2393.04<br>Avg Review: 3.0",
          "Customer: cust_e894be06499eea1d59c9cca6<br>Orders: 2<br>Spent: $2032.58<br>Avg Review: 5.0",
          "Customer: cust_e89b89abf9f8193378bcc57e<br>Orders: 2<br>Spent: $560.4<br>Avg Review: nan",
          "Customer: cust_e8ad0db289654625c21baff3<br>Orders: 1<br>Spent: $1325.85<br>Avg Review: nan",
          "Customer: cust_e8b95fedcd0cbc43e4586c43<br>Orders: 1<br>Spent: $22.64<br>Avg Review: 3.0",
          "Customer: cust_e8c1efaba6dfcf6f25d61a09<br>Orders: 1<br>Spent: $1598.99<br>Avg Review: nan",
          "Customer: cust_e8cd17aced8ad63d65c66549<br>Orders: 1<br>Spent: $564.73<br>Avg Review: 3.0",
          "Customer: cust_e8cf3496dce1e5d526fa1158<br>Orders: 1<br>Spent: $606.43<br>Avg Review: 5.0",
          "Customer: cust_e8d1ee8369e6a04c7aa6f700<br>Orders: 3<br>Spent: $2118.22<br>Avg Review: 2.8",
          "Customer: cust_e8ed6fabdcb4f98a45a19346<br>Orders: 1<br>Spent: $35.25<br>Avg Review: 4.0",
          "Customer: cust_e8fda60a707ed159afe84f73<br>Orders: 2<br>Spent: $2004.21<br>Avg Review: 4.0",
          "Customer: cust_e90f1399b2d21c3b8d93ed6e<br>Orders: 2<br>Spent: $2032.09<br>Avg Review: 2.5",
          "Customer: cust_e918c3b78ee1632ff6680e1b<br>Orders: 1<br>Spent: $167.45<br>Avg Review: nan",
          "Customer: cust_e92400efcaf835227e770d5a<br>Orders: 1<br>Spent: $1072.7<br>Avg Review: 3.0",
          "Customer: cust_e93fc35b56f4c71f85f1849a<br>Orders: 2<br>Spent: $2499.72<br>Avg Review: 5.0",
          "Customer: cust_e95d386d9c3abb63e2ccaf57<br>Orders: 1<br>Spent: $396.32<br>Avg Review: 3.0",
          "Customer: cust_e960c67ae9b29c8e7bf3a174<br>Orders: 1<br>Spent: $87.89<br>Avg Review: 5.0",
          "Customer: cust_e9670b75bfd8be054dbfe040<br>Orders: 1<br>Spent: $181.28<br>Avg Review: 3.0",
          "Customer: cust_e97ee8e685f25aaf8dd1af77<br>Orders: 1<br>Spent: $1576.12<br>Avg Review: 5.0",
          "Customer: cust_e9af80b40d508070e079855d<br>Orders: 2<br>Spent: $1583.99<br>Avg Review: 5.0",
          "Customer: cust_e9c3ca445f48b2ccc982fcf3<br>Orders: 1<br>Spent: $923.91<br>Avg Review: nan",
          "Customer: cust_e9c3f7af1d2c4929ae0fb7a5<br>Orders: 1<br>Spent: $1422.63<br>Avg Review: nan",
          "Customer: cust_e9d2756621ed5cbf041f52c3<br>Orders: 1<br>Spent: $26.02<br>Avg Review: nan",
          "Customer: cust_e9d8062e143fc4dc805c8d41<br>Orders: 1<br>Spent: $2087.17<br>Avg Review: 4.0",
          "Customer: cust_e9e4b299a337a4b945f456ac<br>Orders: 1<br>Spent: $379.75<br>Avg Review: 2.0",
          "Customer: cust_e9f61f7e2ac93226ff4278f7<br>Orders: 3<br>Spent: $1483.41<br>Avg Review: 4.5",
          "Customer: cust_ea1c5a54619a19fbb47a742f<br>Orders: 2<br>Spent: $868.24<br>Avg Review: 5.0",
          "Customer: cust_ea2173bd6b75ff010c544a47<br>Orders: 1<br>Spent: $1733.35<br>Avg Review: 4.0",
          "Customer: cust_ea3b31aca290d97f71c36029<br>Orders: 1<br>Spent: $801.73<br>Avg Review: 4.0",
          "Customer: cust_ea49c3cdfe56b6dfef7267cb<br>Orders: 1<br>Spent: $232.21<br>Avg Review: 1.0",
          "Customer: cust_ea4f1c4f88a2f4dd9efd6049<br>Orders: 1<br>Spent: $51.8<br>Avg Review: 3.0",
          "Customer: cust_ea61b4b94a047c3e149fe9c1<br>Orders: 1<br>Spent: $1144.2<br>Avg Review: nan",
          "Customer: cust_ea67831792eda31f1a8c8b0c<br>Orders: 1<br>Spent: $488.36<br>Avg Review: 5.0",
          "Customer: cust_ea7886758755f61f64958536<br>Orders: 1<br>Spent: $173.33<br>Avg Review: 5.0",
          "Customer: cust_ea7d68e2525b184ae36a33b3<br>Orders: 1<br>Spent: $1693.99<br>Avg Review: 4.0",
          "Customer: cust_ea7ffed29e735d5089c56f3f<br>Orders: 2<br>Spent: $1355.57<br>Avg Review: 4.3",
          "Customer: cust_ea90c9df0e7f193d5c18b829<br>Orders: 2<br>Spent: $1297.71<br>Avg Review: 4.0",
          "Customer: cust_ea9437df14abcb9b34b40994<br>Orders: 1<br>Spent: $49.02<br>Avg Review: 5.0",
          "Customer: cust_eaa3a1430aa5cfed48d2a644<br>Orders: 1<br>Spent: $22.43<br>Avg Review: 5.0",
          "Customer: cust_eaaae0c52c3e8699a7dfc0f3<br>Orders: 1<br>Spent: $62.05<br>Avg Review: nan",
          "Customer: cust_eab45aa50372babe6468f17a<br>Orders: 1<br>Spent: $187.64<br>Avg Review: nan",
          "Customer: cust_eac16a295d53ffee0cf420b7<br>Orders: 2<br>Spent: $2341.85<br>Avg Review: 5.0",
          "Customer: cust_eaeb3c8f8d28e5041542b276<br>Orders: 1<br>Spent: $159.94<br>Avg Review: nan",
          "Customer: cust_eaf33c5f135dcd1d79a7f429<br>Orders: 1<br>Spent: $1470.06<br>Avg Review: 5.0",
          "Customer: cust_eb001647a777915e23b0f53e<br>Orders: 1<br>Spent: $271.65<br>Avg Review: 3.0",
          "Customer: cust_eb33e8c34eb02a1b13ea47de<br>Orders: 2<br>Spent: $2018.15<br>Avg Review: 4.3",
          "Customer: cust_eb341b75663288bec4c106e6<br>Orders: 2<br>Spent: $1806.49<br>Avg Review: 2.0",
          "Customer: cust_eb34568f22cffd248022e095<br>Orders: 1<br>Spent: $452.67<br>Avg Review: nan",
          "Customer: cust_eb3b9f29c2ee207a13a2c826<br>Orders: 2<br>Spent: $1874.17<br>Avg Review: nan",
          "Customer: cust_eb4a263aa5340757edb8b7b9<br>Orders: 1<br>Spent: $91.4<br>Avg Review: 4.0",
          "Customer: cust_eb4c4b646b70637ea6f50a84<br>Orders: 1<br>Spent: $388.21<br>Avg Review: 1.0",
          "Customer: cust_eb503bd35686077c1484e30b<br>Orders: 1<br>Spent: $1354.02<br>Avg Review: 5.0",
          "Customer: cust_eb5b67e20bbc34b8b36eabfa<br>Orders: 1<br>Spent: $476.25<br>Avg Review: nan",
          "Customer: cust_eb70b3f92553813c9d519a00<br>Orders: 1<br>Spent: $1412.11<br>Avg Review: 4.0",
          "Customer: cust_eb9c2b2ed56e2b1e8f95028a<br>Orders: 2<br>Spent: $585.22<br>Avg Review: 5.0",
          "Customer: cust_eb9fc064f93a001d8ae42d92<br>Orders: 1<br>Spent: $1546.83<br>Avg Review: 5.0",
          "Customer: cust_ebcfe14f6bab039ccb924450<br>Orders: 1<br>Spent: $765.88<br>Avg Review: 3.0",
          "Customer: cust_ebecdfd76f71ddd97e87d272<br>Orders: 2<br>Spent: $1354.88<br>Avg Review: 4.5",
          "Customer: cust_ec0d3517f06015cca87e65ac<br>Orders: 1<br>Spent: $530.02<br>Avg Review: 3.0",
          "Customer: cust_ec13949bb3089756951ba414<br>Orders: 1<br>Spent: $156.68<br>Avg Review: 5.0",
          "Customer: cust_ec25545fcc162432c4a861d7<br>Orders: 1<br>Spent: $12.02<br>Avg Review: 5.0",
          "Customer: cust_ec2cb961d1e0679251ecb07f<br>Orders: 1<br>Spent: $1733.54<br>Avg Review: 2.0",
          "Customer: cust_ec3740fcf671c7f07931fa15<br>Orders: 2<br>Spent: $510.37<br>Avg Review: 4.0",
          "Customer: cust_ec4cd610630d8aa4ba500d58<br>Orders: 2<br>Spent: $1351.55<br>Avg Review: 5.0",
          "Customer: cust_ec50cebcf09a26646e82fb33<br>Orders: 1<br>Spent: $318.25<br>Avg Review: 5.0",
          "Customer: cust_ec5911052b611b09ef2e9fec<br>Orders: 1<br>Spent: $1554.44<br>Avg Review: 5.0",
          "Customer: cust_ec96d9bcacbba2ed87450bf0<br>Orders: 1<br>Spent: $337.35<br>Avg Review: 5.0",
          "Customer: cust_eca398650f42f159e749c19b<br>Orders: 1<br>Spent: $1084.79<br>Avg Review: 5.0",
          "Customer: cust_eca44007334b8dc93d59210d<br>Orders: 3<br>Spent: $2126.2<br>Avg Review: 5.0",
          "Customer: cust_ecacf59725ef1c47f5c0aef3<br>Orders: 1<br>Spent: $114.38<br>Avg Review: nan",
          "Customer: cust_ecb56d5e374fcd86e7cd2add<br>Orders: 1<br>Spent: $45.12<br>Avg Review: 5.0",
          "Customer: cust_ecbd4d54133a4ac0b9ef879d<br>Orders: 2<br>Spent: $336.97<br>Avg Review: 5.0",
          "Customer: cust_eccb35e043e810acc47937a6<br>Orders: 1<br>Spent: $1029.29<br>Avg Review: 4.0",
          "Customer: cust_ece65b1692179ff8a65efb5b<br>Orders: 1<br>Spent: $1583.0<br>Avg Review: 5.0",
          "Customer: cust_ecf4ee17126d6af1a6241e38<br>Orders: 1<br>Spent: $603.64<br>Avg Review: nan",
          "Customer: cust_ed074c0bab24fa9c9018e46a<br>Orders: 1<br>Spent: $1482.61<br>Avg Review: nan",
          "Customer: cust_ed306661b3d1c85548949bbd<br>Orders: 2<br>Spent: $387.07<br>Avg Review: 4.5",
          "Customer: cust_ed331bb93e8c9366b6b2125d<br>Orders: 1<br>Spent: $152.32<br>Avg Review: 3.0",
          "Customer: cust_ed3585b88b0448e670015333<br>Orders: 1<br>Spent: $79.52<br>Avg Review: 2.0",
          "Customer: cust_ed39006fbe938639511da231<br>Orders: 1<br>Spent: $202.03<br>Avg Review: nan",
          "Customer: cust_ed464256026b9d4f75fe3356<br>Orders: 1<br>Spent: $365.42<br>Avg Review: 5.0",
          "Customer: cust_ed4d22b85cf39752d7e67407<br>Orders: 3<br>Spent: $3769.78<br>Avg Review: 4.5",
          "Customer: cust_ed6558114648832ab9d8709e<br>Orders: 1<br>Spent: $169.27<br>Avg Review: 1.0",
          "Customer: cust_ed811948465248ed675b1c51<br>Orders: 3<br>Spent: $1670.06<br>Avg Review: 4.0",
          "Customer: cust_ed8fa665a8d13db27aacbd6e<br>Orders: 1<br>Spent: $51.87<br>Avg Review: 4.0",
          "Customer: cust_ed99c2d049266480497057ca<br>Orders: 1<br>Spent: $25.42<br>Avg Review: 5.0",
          "Customer: cust_edc2d0164db2c97d9d3cd2bf<br>Orders: 1<br>Spent: $283.32<br>Avg Review: 4.0",
          "Customer: cust_edcadcedacd9d4248dc32fb3<br>Orders: 1<br>Spent: $1219.46<br>Avg Review: 5.0",
          "Customer: cust_edd3c052c97f99c8b1cf98dc<br>Orders: 1<br>Spent: $341.21<br>Avg Review: nan",
          "Customer: cust_ede52923b91dd3a8ee70f813<br>Orders: 1<br>Spent: $1311.85<br>Avg Review: 4.0",
          "Customer: cust_edf1f863d2aa7f89b804f868<br>Orders: 2<br>Spent: $1113.52<br>Avg Review: 4.0",
          "Customer: cust_edf745b5d82f3b6452f7f02a<br>Orders: 2<br>Spent: $672.9<br>Avg Review: 5.0",
          "Customer: cust_edfee3ad963ef0b0bb470124<br>Orders: 1<br>Spent: $2280.59<br>Avg Review: 2.0",
          "Customer: cust_ee16c6065804ba8fc6a06ed4<br>Orders: 1<br>Spent: $458.42<br>Avg Review: 3.0",
          "Customer: cust_ee29e5a5a1630aaf7e998fb9<br>Orders: 1<br>Spent: $1466.21<br>Avg Review: 3.0",
          "Customer: cust_ee2a4ade195c729cb797864e<br>Orders: 1<br>Spent: $1007.17<br>Avg Review: nan",
          "Customer: cust_ee934cd34b50a3a1ddb67d13<br>Orders: 1<br>Spent: $467.1<br>Avg Review: nan",
          "Customer: cust_ee99cc227f7e69c442a9af9a<br>Orders: 2<br>Spent: $267.43<br>Avg Review: 5.0",
          "Customer: cust_eeb2e25293dfecc6deadc19f<br>Orders: 1<br>Spent: $3630.43<br>Avg Review: 5.0",
          "Customer: cust_eeb44b43b3f031605981ec27<br>Orders: 2<br>Spent: $2567.15<br>Avg Review: 3.8",
          "Customer: cust_eeb51fbf4cd1be2f55105cc4<br>Orders: 1<br>Spent: $54.49<br>Avg Review: 2.0",
          "Customer: cust_eece6f85aced3c7d9352460c<br>Orders: 1<br>Spent: $181.51<br>Avg Review: 3.0",
          "Customer: cust_eed9216c3c58a9dfb1e92b8e<br>Orders: 1<br>Spent: $213.81<br>Avg Review: 5.0",
          "Customer: cust_eeda4fd1aa902bba8427c462<br>Orders: 1<br>Spent: $237.59<br>Avg Review: 5.0",
          "Customer: cust_ef0ed5d12e79d24722dacb77<br>Orders: 1<br>Spent: $1983.61<br>Avg Review: 4.0",
          "Customer: cust_ef12718bc60dfa359a38b026<br>Orders: 1<br>Spent: $696.44<br>Avg Review: nan",
          "Customer: cust_ef1fb6b48679d9d26659d8d0<br>Orders: 1<br>Spent: $1419.12<br>Avg Review: 4.0",
          "Customer: cust_ef5a50f89076dc9ab5ddf800<br>Orders: 1<br>Spent: $269.14<br>Avg Review: 4.0",
          "Customer: cust_ef6c0af9d97e291b163bc5ad<br>Orders: 1<br>Spent: $522.21<br>Avg Review: 5.0",
          "Customer: cust_efb1b72d5d4f944c5a97914c<br>Orders: 1<br>Spent: $2011.88<br>Avg Review: 5.0",
          "Customer: cust_efbe03c2b97a52edd4a1c7d6<br>Orders: 1<br>Spent: $1113.99<br>Avg Review: 5.0",
          "Customer: cust_efce3d8d67c6ff000f2af1ca<br>Orders: 1<br>Spent: $62.4<br>Avg Review: 5.0",
          "Customer: cust_efd02f176c85edaa77658b7c<br>Orders: 1<br>Spent: $206.99<br>Avg Review: 5.0",
          "Customer: cust_efd2415eb2975d217df1c2dd<br>Orders: 2<br>Spent: $1228.5<br>Avg Review: 4.0",
          "Customer: cust_eff2ffbb54c317886f5d2455<br>Orders: 1<br>Spent: $30.26<br>Avg Review: 5.0",
          "Customer: cust_f001f1dbcb41f007c64ba927<br>Orders: 1<br>Spent: $1243.96<br>Avg Review: 4.0",
          "Customer: cust_f0053f125deaa017262aaf34<br>Orders: 1<br>Spent: $147.57<br>Avg Review: nan",
          "Customer: cust_f00b49e3cb741d5548f7603d<br>Orders: 1<br>Spent: $94.09<br>Avg Review: 5.0",
          "Customer: cust_f023224b051a85d8e57e464c<br>Orders: 1<br>Spent: $1666.19<br>Avg Review: 5.0",
          "Customer: cust_f046c0c1a5b1782e6fd51db1<br>Orders: 1<br>Spent: $712.96<br>Avg Review: 5.0",
          "Customer: cust_f04d4b2d1cd2dfcb77445837<br>Orders: 1<br>Spent: $209.8<br>Avg Review: nan",
          "Customer: cust_f05d63d3edbdd5837ba72256<br>Orders: 2<br>Spent: $882.97<br>Avg Review: 2.0",
          "Customer: cust_f05ebaaa85930535ffd59b3b<br>Orders: 1<br>Spent: $729.17<br>Avg Review: 2.0",
          "Customer: cust_f086706cf3cc9bce697c1722<br>Orders: 1<br>Spent: $619.06<br>Avg Review: nan",
          "Customer: cust_f09a6642958d9231f3874b86<br>Orders: 1<br>Spent: $356.09<br>Avg Review: 5.0",
          "Customer: cust_f0a28ac62a5acff53e70e6ca<br>Orders: 1<br>Spent: $206.09<br>Avg Review: nan",
          "Customer: cust_f0a74fb0da727a4408a53438<br>Orders: 1<br>Spent: $1881.07<br>Avg Review: 4.0",
          "Customer: cust_f0b7cbe69adb7edb6ef8e9c7<br>Orders: 1<br>Spent: $1620.57<br>Avg Review: 5.0",
          "Customer: cust_f0b923af5bae0a990f178c3b<br>Orders: 2<br>Spent: $115.95<br>Avg Review: 5.0",
          "Customer: cust_f0bcb090bd8cfda4846326ab<br>Orders: 1<br>Spent: $51.0<br>Avg Review: 5.0",
          "Customer: cust_f0bf4b85522dbf56118aeb08<br>Orders: 1<br>Spent: $371.05<br>Avg Review: 3.0",
          "Customer: cust_f0ccd2ea3c20ebd649819c23<br>Orders: 1<br>Spent: $124.06<br>Avg Review: 4.0",
          "Customer: cust_f0e2347ea77fa2cac177ce19<br>Orders: 3<br>Spent: $780.22<br>Avg Review: 5.0",
          "Customer: cust_f0f1eff3fa0acc55989db2ae<br>Orders: 2<br>Spent: $2655.37<br>Avg Review: 5.0",
          "Customer: cust_f10159dba8b46f144afe599a<br>Orders: 1<br>Spent: $93.2<br>Avg Review: nan",
          "Customer: cust_f10b9106807c7f08d10552b2<br>Orders: 1<br>Spent: $78.64<br>Avg Review: 2.0",
          "Customer: cust_f11f49d0fb430147340bd423<br>Orders: 1<br>Spent: $926.97<br>Avg Review: nan",
          "Customer: cust_f130f88afb21a98498ba045f<br>Orders: 1<br>Spent: $653.25<br>Avg Review: 3.0",
          "Customer: cust_f1648da1ca6d72a54a29901d<br>Orders: 1<br>Spent: $297.89<br>Avg Review: 5.0",
          "Customer: cust_f16ef24c1089141a9f3b544f<br>Orders: 1<br>Spent: $68.7<br>Avg Review: 3.0",
          "Customer: cust_f178533b5e0c4b81603bc7b7<br>Orders: 1<br>Spent: $898.28<br>Avg Review: nan",
          "Customer: cust_f180899d1abeae4b517f24a0<br>Orders: 1<br>Spent: $1001.27<br>Avg Review: 5.0",
          "Customer: cust_f187f6ba007889cba5c127da<br>Orders: 1<br>Spent: $816.78<br>Avg Review: 4.0",
          "Customer: cust_f1a4e0e6e3ba51abab940a13<br>Orders: 1<br>Spent: $171.4<br>Avg Review: 5.0",
          "Customer: cust_f1bd0e1404816f713f33bc6e<br>Orders: 1<br>Spent: $3010.82<br>Avg Review: 4.0",
          "Customer: cust_f1c81008154b2a6ff46c7dd3<br>Orders: 1<br>Spent: $232.91<br>Avg Review: 4.0",
          "Customer: cust_f20b08472cdd3444417f4d12<br>Orders: 3<br>Spent: $288.59<br>Avg Review: 4.0",
          "Customer: cust_f229cb0659244540b457069c<br>Orders: 2<br>Spent: $2910.26<br>Avg Review: 5.0",
          "Customer: cust_f25ddd1fa2697bd1e2b49c14<br>Orders: 1<br>Spent: $1559.39<br>Avg Review: 5.0",
          "Customer: cust_f26aa2daa7d5dd6638677b60<br>Orders: 1<br>Spent: $238.36<br>Avg Review: 4.0",
          "Customer: cust_f26cf331bd82833cc1891076<br>Orders: 1<br>Spent: $91.24<br>Avg Review: 5.0",
          "Customer: cust_f273fe18fdfa84eac226ff90<br>Orders: 2<br>Spent: $829.73<br>Avg Review: 5.0",
          "Customer: cust_f286a8953dde257d37ec5498<br>Orders: 1<br>Spent: $594.85<br>Avg Review: nan",
          "Customer: cust_f2ccc908f6c7839d6fbb8b0a<br>Orders: 1<br>Spent: $200.11<br>Avg Review: 5.0",
          "Customer: cust_f2d48134bd3aa5154966849d<br>Orders: 1<br>Spent: $1331.91<br>Avg Review: 5.0",
          "Customer: cust_f2ea562c974c261b8af66c9a<br>Orders: 1<br>Spent: $1943.12<br>Avg Review: nan",
          "Customer: cust_f2ead79a974e2af1f4861b55<br>Orders: 1<br>Spent: $1170.4<br>Avg Review: 5.0",
          "Customer: cust_f2ffad5fa5967ae7c700621d<br>Orders: 1<br>Spent: $223.81<br>Avg Review: nan",
          "Customer: cust_f30eca85eab0f82e05b6814a<br>Orders: 1<br>Spent: $746.57<br>Avg Review: 4.0",
          "Customer: cust_f314b681e46f68b42d4299f9<br>Orders: 3<br>Spent: $1920.86<br>Avg Review: 4.5",
          "Customer: cust_f34c985a6f726c5e47440e20<br>Orders: 1<br>Spent: $2290.34<br>Avg Review: 5.0",
          "Customer: cust_f3732b18a6b0144120ae2d74<br>Orders: 2<br>Spent: $551.27<br>Avg Review: 5.0",
          "Customer: cust_f39042eb852a5e7afe391e73<br>Orders: 1<br>Spent: $77.43<br>Avg Review: 3.0",
          "Customer: cust_f3ac1662fd2e706b0af04794<br>Orders: 1<br>Spent: $684.32<br>Avg Review: 5.0",
          "Customer: cust_f3b93ac14722e933be2193ee<br>Orders: 2<br>Spent: $1753.85<br>Avg Review: 5.0",
          "Customer: cust_f3d30700e209788e6f814984<br>Orders: 1<br>Spent: $403.24<br>Avg Review: 5.0",
          "Customer: cust_f3d449128dca0c26ae244556<br>Orders: 1<br>Spent: $329.67<br>Avg Review: nan",
          "Customer: cust_f3d80294eefc867c46a99d15<br>Orders: 2<br>Spent: $273.45<br>Avg Review: 3.5",
          "Customer: cust_f3d9b345b9d49eef56be43bd<br>Orders: 1<br>Spent: $28.28<br>Avg Review: 3.0",
          "Customer: cust_f4015eee69b310e55d364ab4<br>Orders: 1<br>Spent: $152.37<br>Avg Review: 3.0",
          "Customer: cust_f413c6d4c632ac6ba48f92b0<br>Orders: 2<br>Spent: $1370.58<br>Avg Review: 1.8",
          "Customer: cust_f42284b4c001e666bc03b051<br>Orders: 2<br>Spent: $1390.7<br>Avg Review: 3.0",
          "Customer: cust_f43147a0ab029ce116e30ef3<br>Orders: 2<br>Spent: $386.06<br>Avg Review: nan",
          "Customer: cust_f4353e8f12cc8491fcfc34c6<br>Orders: 2<br>Spent: $249.5<br>Avg Review: 3.7",
          "Customer: cust_f44f64feac4a1cbb1732f006<br>Orders: 2<br>Spent: $781.69<br>Avg Review: 2.0",
          "Customer: cust_f46c40b1881eeff470471f5c<br>Orders: 1<br>Spent: $3498.13<br>Avg Review: 3.0",
          "Customer: cust_f49bf2ac0962bb06aac4c36f<br>Orders: 1<br>Spent: $1398.5<br>Avg Review: 3.0",
          "Customer: cust_f4e9925e2f8cec2177ea3943<br>Orders: 1<br>Spent: $873.15<br>Avg Review: nan",
          "Customer: cust_f507d11aa819a51598d518ce<br>Orders: 1<br>Spent: $294.58<br>Avg Review: 4.0",
          "Customer: cust_f51d3c41d185cf6707d92358<br>Orders: 1<br>Spent: $58.9<br>Avg Review: nan",
          "Customer: cust_f523ab4af7268e7141afee87<br>Orders: 1<br>Spent: $186.25<br>Avg Review: nan",
          "Customer: cust_f529e615e7dfd2a5c729f4b2<br>Orders: 2<br>Spent: $320.46<br>Avg Review: 2.0",
          "Customer: cust_f54978363fde3c559e822845<br>Orders: 1<br>Spent: $293.31<br>Avg Review: nan",
          "Customer: cust_f57269add36247e967fb1e00<br>Orders: 1<br>Spent: $1694.71<br>Avg Review: nan",
          "Customer: cust_f5be78cd6bd4e803f998cc09<br>Orders: 2<br>Spent: $65.56<br>Avg Review: 4.0",
          "Customer: cust_f5c72b084c8c46253904f5e5<br>Orders: 1<br>Spent: $436.91<br>Avg Review: 4.0",
          "Customer: cust_f5cdcd3f53bde64a17ff7f07<br>Orders: 1<br>Spent: $57.76<br>Avg Review: 5.0",
          "Customer: cust_f5d8c9f36b56d1b01a1894d0<br>Orders: 4<br>Spent: $3762.63<br>Avg Review: 5.0",
          "Customer: cust_f5d9f7d0744bf5fe602cb2c3<br>Orders: 1<br>Spent: $483.41<br>Avg Review: 3.0",
          "Customer: cust_f5fd4217231abc48eafd4d8f<br>Orders: 1<br>Spent: $626.67<br>Avg Review: 2.0",
          "Customer: cust_f6167d3b13969aa29848b5e0<br>Orders: 2<br>Spent: $1466.47<br>Avg Review: 5.0",
          "Customer: cust_f64566ba3258618d508c1fe0<br>Orders: 1<br>Spent: $1008.71<br>Avg Review: 3.0",
          "Customer: cust_f69321ed1e93a7dd8573d1f5<br>Orders: 1<br>Spent: $112.43<br>Avg Review: 4.0",
          "Customer: cust_f6a05055ada02703a454fadf<br>Orders: 1<br>Spent: $87.0<br>Avg Review: 5.0",
          "Customer: cust_f6a1fe56c09777839dce80a3<br>Orders: 2<br>Spent: $406.99<br>Avg Review: 4.5",
          "Customer: cust_f6ac5530adec77e782f698e0<br>Orders: 2<br>Spent: $1733.36<br>Avg Review: nan",
          "Customer: cust_f6c14fc314d0eb2b5ea1a18f<br>Orders: 1<br>Spent: $153.69<br>Avg Review: 5.0",
          "Customer: cust_f6cafb2d054520e08eb796b1<br>Orders: 2<br>Spent: $1419.5<br>Avg Review: 5.0",
          "Customer: cust_f6ccd4d8a54d29d3797b9dab<br>Orders: 1<br>Spent: $70.78<br>Avg Review: 4.0",
          "Customer: cust_f6e2e66c7c95aa046a7aef75<br>Orders: 1<br>Spent: $279.12<br>Avg Review: 4.0",
          "Customer: cust_f6e537b33036df316439f1b8<br>Orders: 2<br>Spent: $2810.38<br>Avg Review: 4.5",
          "Customer: cust_f6f4bf5108e6bdf1c0700dfe<br>Orders: 2<br>Spent: $982.31<br>Avg Review: 2.3",
          "Customer: cust_f6f5abcdd67a0e1c8a26e394<br>Orders: 2<br>Spent: $1245.55<br>Avg Review: nan",
          "Customer: cust_f72284feb7ee1b9d396e0aa1<br>Orders: 1<br>Spent: $1334.86<br>Avg Review: 5.0",
          "Customer: cust_f7546dddd01fd654050170d3<br>Orders: 1<br>Spent: $143.01<br>Avg Review: nan",
          "Customer: cust_f759293a4507d9a57d8c1de3<br>Orders: 1<br>Spent: $188.68<br>Avg Review: 5.0",
          "Customer: cust_f795f272bed8cf610927d6ef<br>Orders: 2<br>Spent: $722.5<br>Avg Review: 1.0",
          "Customer: cust_f7b5688d7424970fb0dbeb3e<br>Orders: 1<br>Spent: $476.21<br>Avg Review: nan",
          "Customer: cust_f7b8157212dd5d737518bf26<br>Orders: 1<br>Spent: $148.66<br>Avg Review: 4.0",
          "Customer: cust_f7ca87382963729d01d54995<br>Orders: 2<br>Spent: $2062.81<br>Avg Review: 2.0",
          "Customer: cust_f7cd5b85ec757a6098141579<br>Orders: 1<br>Spent: $120.32<br>Avg Review: 3.0",
          "Customer: cust_f7d5460d8e78f18efa411808<br>Orders: 1<br>Spent: $1121.91<br>Avg Review: 1.0",
          "Customer: cust_f7edb26d241a2cd691f1cf48<br>Orders: 1<br>Spent: $183.93<br>Avg Review: nan",
          "Customer: cust_f81211e1b7c03eb15b01cd01<br>Orders: 1<br>Spent: $749.15<br>Avg Review: 5.0",
          "Customer: cust_f817224b9e8e7859fdd34bcc<br>Orders: 1<br>Spent: $83.61<br>Avg Review: nan",
          "Customer: cust_f81bef617c84fb6a15e721c1<br>Orders: 1<br>Spent: $1073.05<br>Avg Review: nan",
          "Customer: cust_f81c566f1d1820aaa5f5e289<br>Orders: 1<br>Spent: $34.15<br>Avg Review: 5.0",
          "Customer: cust_f8246915f613ec92fcd9a413<br>Orders: 1<br>Spent: $733.9<br>Avg Review: nan",
          "Customer: cust_f839dc8feba9df6ebc868ad7<br>Orders: 1<br>Spent: $869.46<br>Avg Review: 5.0",
          "Customer: cust_f845b5ecd0e0e2bc75173584<br>Orders: 1<br>Spent: $553.56<br>Avg Review: 4.0",
          "Customer: cust_f85d7021922cff04dc5cc2e8<br>Orders: 1<br>Spent: $381.1<br>Avg Review: 5.0",
          "Customer: cust_f88702c5c7aa850f659cde45<br>Orders: 1<br>Spent: $388.25<br>Avg Review: nan",
          "Customer: cust_f8a30520551c4c59114353bb<br>Orders: 1<br>Spent: $1376.11<br>Avg Review: 1.0",
          "Customer: cust_f8a876aef62b8571367f34ae<br>Orders: 1<br>Spent: $576.29<br>Avg Review: nan",
          "Customer: cust_f8d07bba2302327905e5b986<br>Orders: 2<br>Spent: $2011.41<br>Avg Review: 5.0",
          "Customer: cust_f8f1bdb734c8350c38c5df73<br>Orders: 3<br>Spent: $1349.28<br>Avg Review: 4.5",
          "Customer: cust_f9019e3796558bb45a3c0639<br>Orders: 1<br>Spent: $278.83<br>Avg Review: 5.0",
          "Customer: cust_f9062111b875c8fced452c34<br>Orders: 2<br>Spent: $929.6<br>Avg Review: nan",
          "Customer: cust_f910e0592360f18d03567eca<br>Orders: 2<br>Spent: $3084.59<br>Avg Review: 3.0",
          "Customer: cust_f92a4dea61144dbe98bcdcf2<br>Orders: 1<br>Spent: $692.61<br>Avg Review: 3.0",
          "Customer: cust_f95d84e7dcb564f7a092ef83<br>Orders: 1<br>Spent: $659.15<br>Avg Review: 5.0",
          "Customer: cust_f96d6db981874416720ccaae<br>Orders: 1<br>Spent: $345.22<br>Avg Review: nan",
          "Customer: cust_f96e59c63aef49552da4feea<br>Orders: 1<br>Spent: $1055.21<br>Avg Review: 3.0",
          "Customer: cust_f975a17d50406035105bb220<br>Orders: 1<br>Spent: $1743.56<br>Avg Review: 5.0",
          "Customer: cust_f98fb8bb261722f99dfa3aac<br>Orders: 1<br>Spent: $635.0<br>Avg Review: nan",
          "Customer: cust_f992030b0b6dc1ae5f6882d8<br>Orders: 2<br>Spent: $646.96<br>Avg Review: 4.0",
          "Customer: cust_f9baaa68cc7f4815e6f2c3cb<br>Orders: 2<br>Spent: $1301.34<br>Avg Review: 5.0",
          "Customer: cust_f9bf0aa432894a095bfba903<br>Orders: 1<br>Spent: $884.0<br>Avg Review: 1.0",
          "Customer: cust_f9cb956f7968889a98d6a101<br>Orders: 1<br>Spent: $114.38<br>Avg Review: nan",
          "Customer: cust_f9ec547634f819cf4d3fc3fd<br>Orders: 1<br>Spent: $59.56<br>Avg Review: nan",
          "Customer: cust_f9ecbe084c95ce4108f6a99b<br>Orders: 1<br>Spent: $1640.29<br>Avg Review: 5.0",
          "Customer: cust_f9f9a0346e0813859ad78a3f<br>Orders: 1<br>Spent: $269.55<br>Avg Review: 5.0",
          "Customer: cust_f9fc7ef194ad69060be4711d<br>Orders: 2<br>Spent: $2149.21<br>Avg Review: 5.0",
          "Customer: cust_fa08d4a19ab4b4d2984f4d35<br>Orders: 2<br>Spent: $796.22<br>Avg Review: 3.3",
          "Customer: cust_fa193f9f3505c62b71769ee1<br>Orders: 2<br>Spent: $2166.65<br>Avg Review: 4.0",
          "Customer: cust_fa1e1d1917564fabb606637e<br>Orders: 1<br>Spent: $1552.05<br>Avg Review: 2.0",
          "Customer: cust_fa1fe7195a7fa4dfd4ca91ff<br>Orders: 2<br>Spent: $1350.42<br>Avg Review: 2.7",
          "Customer: cust_fa34d3f4345fee70e0b7a6d5<br>Orders: 1<br>Spent: $665.97<br>Avg Review: 2.0",
          "Customer: cust_fa49c5015b4bb7c1b0490d01<br>Orders: 1<br>Spent: $333.45<br>Avg Review: nan",
          "Customer: cust_fa4b28ddb573b171b1e93f4e<br>Orders: 1<br>Spent: $62.71<br>Avg Review: 5.0",
          "Customer: cust_fa4e10cffc16136407733fcd<br>Orders: 1<br>Spent: $457.9<br>Avg Review: 5.0",
          "Customer: cust_fa84d132694c187612df6c88<br>Orders: 1<br>Spent: $1751.46<br>Avg Review: 5.0",
          "Customer: cust_faab01fe33651820d761fe4f<br>Orders: 2<br>Spent: $477.9<br>Avg Review: 4.5",
          "Customer: cust_fae02384a57926030c79a93f<br>Orders: 1<br>Spent: $1480.28<br>Avg Review: 4.0",
          "Customer: cust_fae417e9a39bec95dc4af5b3<br>Orders: 2<br>Spent: $2264.71<br>Avg Review: 4.0",
          "Customer: cust_fae4d595fba72c3207f84ee6<br>Orders: 1<br>Spent: $137.98<br>Avg Review: nan",
          "Customer: cust_fae51455a21c8a3da141ad87<br>Orders: 1<br>Spent: $55.78<br>Avg Review: 3.0",
          "Customer: cust_fb0c59676393253dcba02c01<br>Orders: 1<br>Spent: $361.14<br>Avg Review: nan",
          "Customer: cust_fb145b6761d3fb586855b308<br>Orders: 1<br>Spent: $74.03<br>Avg Review: 5.0",
          "Customer: cust_fb2317d8096347aa328f7c2a<br>Orders: 1<br>Spent: $289.14<br>Avg Review: nan",
          "Customer: cust_fb270cff0052f03f08c66f23<br>Orders: 1<br>Spent: $120.87<br>Avg Review: 2.0",
          "Customer: cust_fb2b81ce5dbd44167bf8b701<br>Orders: 1<br>Spent: $467.23<br>Avg Review: 5.0",
          "Customer: cust_fb34e944fef3a6915fc23e75<br>Orders: 4<br>Spent: $2479.35<br>Avg Review: 3.4",
          "Customer: cust_fb4d27e70821b39921641ea1<br>Orders: 2<br>Spent: $786.58<br>Avg Review: 5.0",
          "Customer: cust_fb4dbaee6cdf40079491b808<br>Orders: 1<br>Spent: $429.76<br>Avg Review: nan",
          "Customer: cust_fb58abc0792b9c08dac3eb6c<br>Orders: 2<br>Spent: $1662.24<br>Avg Review: 5.0",
          "Customer: cust_fb660bba4d3db46969a499e4<br>Orders: 1<br>Spent: $44.07<br>Avg Review: 5.0",
          "Customer: cust_fb7e0302c5ab476760d3e538<br>Orders: 1<br>Spent: $432.19<br>Avg Review: 4.0",
          "Customer: cust_fb9ff00fc2d81856bf11fddb<br>Orders: 1<br>Spent: $1009.36<br>Avg Review: 2.0",
          "Customer: cust_fbc057e633b20fe47e28dab1<br>Orders: 1<br>Spent: $750.5<br>Avg Review: 3.0",
          "Customer: cust_fbe13ddd323851b32f0c7308<br>Orders: 2<br>Spent: $620.66<br>Avg Review: 4.3",
          "Customer: cust_fbe58de696222ed8876af958<br>Orders: 1<br>Spent: $812.53<br>Avg Review: nan",
          "Customer: cust_fbf79b53ec8c1d151ff7fb5f<br>Orders: 1<br>Spent: $90.77<br>Avg Review: 5.0",
          "Customer: cust_fbfee5d2b126b8e9d83ec496<br>Orders: 2<br>Spent: $1376.15<br>Avg Review: 2.5",
          "Customer: cust_fc0468d52ab812336939cedf<br>Orders: 1<br>Spent: $220.73<br>Avg Review: 4.0",
          "Customer: cust_fc22df84f2d43eed19e5e71c<br>Orders: 1<br>Spent: $596.25<br>Avg Review: 4.0",
          "Customer: cust_fc41f9643bd6818efecd2c77<br>Orders: 1<br>Spent: $1620.21<br>Avg Review: 3.0",
          "Customer: cust_fc52f5306fc17e6962d59930<br>Orders: 1<br>Spent: $113.71<br>Avg Review: 4.0",
          "Customer: cust_fc70f18510199b018a704ae0<br>Orders: 1<br>Spent: $336.03<br>Avg Review: 4.0",
          "Customer: cust_fc797e8cf63e951e002699ea<br>Orders: 1<br>Spent: $3377.29<br>Avg Review: 5.0",
          "Customer: cust_fc7c39175aaea091b199a473<br>Orders: 1<br>Spent: $619.53<br>Avg Review: 3.0",
          "Customer: cust_fc83ca953c600fe8f2f8a72b<br>Orders: 1<br>Spent: $606.08<br>Avg Review: 1.0",
          "Customer: cust_fc8832e204bd1fd5e74d18c1<br>Orders: 1<br>Spent: $1510.45<br>Avg Review: 2.0",
          "Customer: cust_fc8b528932de451f9a973843<br>Orders: 3<br>Spent: $3460.51<br>Avg Review: 3.5",
          "Customer: cust_fc96b42bb2994c1aab1debb3<br>Orders: 1<br>Spent: $338.22<br>Avg Review: nan",
          "Customer: cust_fc9ca23a64082fc598788e62<br>Orders: 1<br>Spent: $152.92<br>Avg Review: 3.0",
          "Customer: cust_fca0b653e069a4e041e1aeaa<br>Orders: 1<br>Spent: $1092.0<br>Avg Review: nan",
          "Customer: cust_fcab8a6000266f6307b9076e<br>Orders: 1<br>Spent: $1011.4<br>Avg Review: nan",
          "Customer: cust_fccbaafc02abdf13d895490f<br>Orders: 1<br>Spent: $67.16<br>Avg Review: nan",
          "Customer: cust_fcdd2f68ae134e6ed0011052<br>Orders: 2<br>Spent: $255.47<br>Avg Review: 4.0",
          "Customer: cust_fcf2b07e0d7479e624234964<br>Orders: 1<br>Spent: $243.62<br>Avg Review: 5.0",
          "Customer: cust_fcfad259d59d637ca667c9bf<br>Orders: 1<br>Spent: $484.94<br>Avg Review: 3.0",
          "Customer: cust_fd0762be2dfa9c9f33e51d21<br>Orders: 1<br>Spent: $1289.37<br>Avg Review: nan",
          "Customer: cust_fd1877a14bc519bbc8e4628d<br>Orders: 1<br>Spent: $156.11<br>Avg Review: 5.0",
          "Customer: cust_fd27f2e328f53100a7864444<br>Orders: 1<br>Spent: $704.68<br>Avg Review: 3.0",
          "Customer: cust_fd55053266d729407c2ba8dc<br>Orders: 1<br>Spent: $1269.37<br>Avg Review: 5.0",
          "Customer: cust_fd6b717ea02e4ecfe012f984<br>Orders: 1<br>Spent: $606.44<br>Avg Review: 4.0",
          "Customer: cust_fd6fdc8efa8cbb232b2c6ea3<br>Orders: 1<br>Spent: $619.36<br>Avg Review: nan",
          "Customer: cust_fd8fcd945a650b3d20debe28<br>Orders: 1<br>Spent: $293.53<br>Avg Review: 3.0",
          "Customer: cust_fda3e8639f7b098795077648<br>Orders: 1<br>Spent: $58.69<br>Avg Review: nan",
          "Customer: cust_fdb24f3460c86b8c4e1e6a3f<br>Orders: 1<br>Spent: $164.33<br>Avg Review: 5.0",
          "Customer: cust_fdc83a4eeb98359cb4972bfa<br>Orders: 2<br>Spent: $3199.77<br>Avg Review: 5.0",
          "Customer: cust_fdda63cbf14b554ca78afd27<br>Orders: 1<br>Spent: $951.36<br>Avg Review: 4.0",
          "Customer: cust_fdfb0c8b1ae56d9d47df4af3<br>Orders: 1<br>Spent: $1428.43<br>Avg Review: 5.0",
          "Customer: cust_fe16dc829cfd1f208a8e7085<br>Orders: 1<br>Spent: $22.43<br>Avg Review: nan",
          "Customer: cust_fe2c05b730819d12c9ccbab9<br>Orders: 1<br>Spent: $61.64<br>Avg Review: nan",
          "Customer: cust_fe449d1f4ae0c64a0aa9eb41<br>Orders: 1<br>Spent: $2258.41<br>Avg Review: nan",
          "Customer: cust_fe5c44c77e19d1a11f4a58b1<br>Orders: 1<br>Spent: $278.63<br>Avg Review: nan",
          "Customer: cust_fe8330f29c36a4c6d4b824d3<br>Orders: 1<br>Spent: $2255.37<br>Avg Review: 1.0",
          "Customer: cust_fe87f3016cc8e3445a25358e<br>Orders: 1<br>Spent: $342.39<br>Avg Review: nan",
          "Customer: cust_fe93de90eae188c70371a928<br>Orders: 1<br>Spent: $389.76<br>Avg Review: 5.0",
          "Customer: cust_fe98ea19fddfdd5515bda7b0<br>Orders: 1<br>Spent: $201.48<br>Avg Review: nan",
          "Customer: cust_feadaa0075ea623939feda59<br>Orders: 1<br>Spent: $348.83<br>Avg Review: 3.0",
          "Customer: cust_feb76a56ac8f99a90c750fc8<br>Orders: 1<br>Spent: $1816.72<br>Avg Review: 5.0",
          "Customer: cust_feb8eee5dfeedeb5179eb0d5<br>Orders: 1<br>Spent: $917.19<br>Avg Review: 5.0",
          "Customer: cust_fef7981bfcd213c7becda302<br>Orders: 1<br>Spent: $1442.71<br>Avg Review: 4.0",
          "Customer: cust_fefb917383c847f64d6044d0<br>Orders: 1<br>Spent: $1300.94<br>Avg Review: nan",
          "Customer: cust_ff021a5bd627bc2cc194fbb1<br>Orders: 2<br>Spent: $2360.35<br>Avg Review: 5.0",
          "Customer: cust_ff02c40d3ec902f650ac1082<br>Orders: 1<br>Spent: $762.98<br>Avg Review: 5.0",
          "Customer: cust_ff05f302bcc164ae28b5bfd1<br>Orders: 1<br>Spent: $95.56<br>Avg Review: 5.0",
          "Customer: cust_ff07bc59c57f3a2269213d63<br>Orders: 2<br>Spent: $1015.04<br>Avg Review: 5.0",
          "Customer: cust_ff259d8cff6756abdc8ee722<br>Orders: 2<br>Spent: $946.49<br>Avg Review: 5.0",
          "Customer: cust_ff4fc685cbd85d36becbacef<br>Orders: 2<br>Spent: $1373.52<br>Avg Review: 2.0",
          "Customer: cust_ff845d917d53ebbd1f565aba<br>Orders: 1<br>Spent: $564.97<br>Avg Review: 5.0",
          "Customer: cust_ff952baec419b2fa34fca4b9<br>Orders: 1<br>Spent: $343.4<br>Avg Review: 4.0",
          "Customer: cust_ffd62f129a7af249b627c44c<br>Orders: 1<br>Spent: $273.69<br>Avg Review: nan",
          "Customer: cust_ffe373405e664edbf9310070<br>Orders: 1<br>Spent: $175.8<br>Avg Review: 5.0",
          "Customer: cust_fffa2d7fb11487382c41fbae<br>Orders: 1<br>Spent: $2002.24<br>Avg Review: nan"
         ],
         "type": "scatter",
         "x": {
          "bdata": "AgEBAQEBAgEBAgEBAgEBAQIBAQEBAQECAwECAgIBAQEBAQIBAQEBAQECAQIBAQEBAQEBAgEBAgEBAwEBAgEBAgEBAgECAQEBAwEBAQEBAQICAQEBAgEBAQEBAQEBAQEBAgEBAgECAQEBAQIBAQEBAQECAgECAQEBAgEDAQICAQEBAQEBAgIBAgEBAQICAQEBAgICAgEBAQIBAQECAQEBAQEBAQEBAQICAQEBAQEBAQEBAQEBAQECAQIBAQEBAQIBAQICAQIBAQIBAQEBAQEBAQEBAQEBAQEBAgECAQEBAgEBAwEBAQEBAQEBAQIBAwECAQIBAQEBAQIBAQEBAQECAgIBAQECAQEBAQEBAQEBAgMBAQEBAQEBAQIBAgIBAQIBAQEBAQIBAQEBAQEBAQEDAgEBAQMCAQMCAgIBAQEBAgICAQIBAQIBAQEBAgIBAQEBAwMCAQEBAgEBAgEBAgEBAQICAQECAQECAQICAQEBAQEBAQEBAgEBAQIBAQIBAQECAQECAgEDAQEDAgEBAQMCAQEBAQECAwIEAwEBAQEBAQIBAQIBAQECAQEBAQEBAQEBAQEBAQIBAgEBAgEBAQEDAQEDAQMDAgEBAgIBAQECAQIBAQEBAQMBAQEBAQEBAQICAQIBAQMDAwEBAQIBAQEBAgIBAwEBAgEBAgIBAQEBAgIBAQECAQEBAQEBAgEBAQICAQEBAQEBAQEBAQEBAQEBAQIBAgEBAQEBAgEBAgEBAQEBBAECAQIBAgEBAQEBAgEBAQEBAQEBAQECAQEBAgECAgECAQEDAQEBAQIBAQIDAgICAwEBAQEBAQEBAgMBAgEBAQECAgEBAwIBAQECAQEBAQEEAQMDAQIEAgEBAQECAQEDAQICAQEDAgEBAQEBAgECAQECAQECAQEBAQEBAQECAgEBAgMBAQEBAQEBAQICAQEBAwIBAQIBAQEBAwIBAQEBAQEBAgEBAgEBAQIBAQEBAQECAQEBAQEBAQECAQEBAQEBAQMCAQEBAgEBAQECAwICAQIBAQIBAQECAQEDAQECAQEBAQIBAQICAQEBAQECAQEBAQEDAQEBAQEBAQEBAQEBAQICAQEBAQIBAQICAQEBAQEBAQEBAgEBAQECAgEBAgIBAQEBAQEBAQIBAQEBAQEBAQEBAQIBAQEBAQEBAQEBAQEBAQEBAQEDAQEBAwEBAQEBAQEBAQEBAQEBAQECAQEBAQEBAgEBAgEBAQEBBAEBAQEEAQICAQECAQEBAgEBAQEBAQEBAwICAQEBAQEBAQECAQECAgEBAQEBAQECAQEBAgEDAQEBAQECAQECAQEBAQECAQEBAQICAQEBAwEDAQEBAgIBAQECAQEBAQEBAQEBAgEBAQEBAQEBAQEBAQEBAQEBAQMDAQEBAgIBAgIDAQEDAQEBAgEBAQIBAQEBAQECAQEBAgEBAgEDAQEBAgECAQEBAgECAQEBAQEBAgIBAQECAQIBAgEBAQEBAQEBAQIBAQEBAgEBAgECAQMDAQEBBAEBAQEDAwEDAQIBAQIBAwEBAgEBAgEBAgEDAgEDAgUCAQIBAQECAQEBAQEBAwEBAQMCAgECAQECAgEBAQEBAgIBAQIBAQIBAgEBAQEBAQEDAwEBAQIBAQEBAgEBAwIBAQEBAQEBAQEBBAIBAQIBAQEBAQIBAQEBAQIBAQECAQEBAQEBAQIBAQIBAQEDAQEBAwEBAQIDAgEBAQIBAgECAQEDAgECAQECAQEBAgEBAgECAQEBAQIBAQEBAQECAQECAQEBAQEBAQEBAQEBAQECAQECAQECAQEBAQECAQIBAQECAQIBAQEBAQIBAQIBAQECAQEBAQIBAgIDAQEBAQEBAQEBAQEBAQEBAgEBAQECAQECAQEBAQECAQEBAgEBAQIBAQEBAgECAgEBAQEBAQIBAQEBAgEBAQEBAgEBAQEBAQEBAQIBAQEBAQEBAQEBAQECAQEDAgEBAQEBAQIBAQIBAgEBAQEBAQIBAQEBAgMBAgEBAQMCAwECAQIBAQMBAQECAgMBAQICAQICAQIBAwECAQEBAQECAQICAgMBAgEBAQEBAQECAgICAQEBAQEBAQEBAgEBAQEBAQECAQEBAQQBAQECAQEBAQEBAQEBAQEBAgEBAQEBAQIBAgECAQEDAgECAQIBAQEBAQEBAQECAQEBAQEBAQICAgECAQEEAgECAQEBAQECAgIBAQEBBAEBAQIBAgEBAQEBAQEBAQECAQEBAgEBAQEBAgIBAgEBAQEBAQEBAQEBAQEBAQEBAQECAQEBAQEBAQEBAgEBAQEBAgEBAQEBAQEBAQIBAQEBAQIBAQEBAQEBAQEBAQMCAQIBAQEBAQEBAgEBAQIBAgECAQEBAQICAQIBAQEBAQEBAQEBAQEBAQIBAQEBAQEBAQEBAgIBAQEBAQEBAQEBAQEDAQEBAQECAQEBAgEBAQEBAQEBAQEBAgEDAgECAQEBAQEDAQEBAQECAQEBAQEBAQEBAQIBAwEBAgEBAQEBAQEBAQECAQEFAQEBAQEBAQIBAQEBAgEBAQEBAQEBAQEBAQICAQEBAgEBAQIBAQECAgEBAQIBAgIBAgIBAgIBAgECAQECAwECAQEBAQEBAQICAgECAQEBAQEBAgEBAQECAgEBAQEBAQEBAQICAgEBAQEBAQECAgIBAgEBAQEBAgIBAgECAgEBAgIDAQIBAQECAQECAQEBAQIBAQEBAQEBAgEBAQECAQMBAQEBAQEBAgMBAQEBAQEBAQEBAQMCAQIBAwMBAwIBAQEBAgIBAQEBAwMBAQEBAQECAQEBAQECAgMBAQECAQEBAQEBAQEBAwMBAgECAQEBAgEBAQEBAwEBAQEBAQIBAQEBAQEBAgEBAQEBAQEBAQEBAQEBAQIBAQEBAQEBAQEBAQEBAQECAQICAgECAQIBAQIBAQEBAQIBAQEBAQEBAQEBAQEBAwIBAQIDAQEBAgEBAwECAQICAQEBAQEBAQEBAQEBAQIBAQEBAQICAQEBAQECAgECAQIBAQEBAQEBAQIBAQICAQEEAQEBAQEBAQMBAQEEAQEBAQIBAgIBAQIBAQIBAQICAgIBAQEDAQEBAQECAgEBAQEBAgEBAQEBAQEBAQIBAQEBAQEBAQIBAQEBAQIBAgECAQEBAQEBAQECAQEBAwEEAgEBAQECAQEBAQIBAQECAQEBAQEBAQIBAgEBAQEBAgICAQIBAQICAQECAgICAQECAQEBAgIBAgEBAQEDAQEBAgICAQIBAgECAgEBAQEBAQIBAgIBAwEBAQECAgEBAQMBAQEBAQEBAQEBAQECAQEBAQEBAgEBAQEBAQECAQIDAQEBAQEBAQIBAQEBAQEBAQEBAQEBAgECAgEBAQEBAQIBAQEBAQIBAQEBAQEBAQEBAgEBAgIBAQEBAgEBAQIBAgEBAQEBAQECAQEBAQEBAQEBAQEBAgEBAQEBAQEBAQEBAQECAQEBAQIBAQEBAQIBAQQBAQICAQEBAgEBAQEBAQEBAQIDAQEBAQIBAwEDAQEBAQICAwECAQEBAQEBAQMCAQEBAQIBAQIBAQEBAQIBAQEBAQEBAQEBAQIBAQEBAQEBAQIBAQEBAQEBAQEBAQMCAwEBAgEBAgEBAQEBAQEBAQEBAwEBAQEBAQMCAQIBAQIBAgEBAQIBAQIBAwIBAQQCAQEBAgIBAQEBAwEBAgICAQEBAQEBAgIBAQEBAgECAQEBAQEBAQEBAQEBAgEBAgEBAgEBAQEBAQIBAQIDAQEBAQECAwEBAgIBAQEDAQEBAgEBAgEBAQEBAwECAQEBAQEBAQEBAQEBAQECAgEBAQIBAQICAQEBAQMBAQEBAQEBAQEBAQEBAQEBAQEBAwIBAQICAgECAQEBAQIBAQEBAQEBAQEBAQEBAgEBAwICAQEBAQICAQEDAQECAQICAQEDAgECAQIBAgECAQEBAQEBAgEBAQEBAQEBAQICAQIBAQMBAQIBAgEBAQEBAQEBAgEBAQEBAQIBAgIBAQEBAgEBAQIBAQIBAQECAgIBAQEBAgMDAQEBAQEBAQEBAQMBAwMCAQEBAQEBAQEBAwEBAQEBAgEBAQEBAQEBAQEBAQICAQEBAQIBAgEBAQIBAgMBAQEBAQEBAQEBAQEBAQEBAQICAQECAQEBAgECAgEBAQEBAQEBAQEBAQEBAQIBAgEDAgEBAQEBAgEBAQEBAQEBAgEBAQEBAQIBAQEBAQEBAgIBAQEBAQIBAgECAwEBAQEBAQEBAQMDAQICAQEBAQEBAQEBAQEBAQIBAQECAgEBAgEBAgIBAQEBAQMBAgIBAQIBAQEBAgEBAQEBAwIBAQEBAQEBAQICAQEBAQIBAQECAgECAQEBAQECAQECAQEBAQICAQEBAQMBAQIBAQEBAgEBAQEDAQMBAQEBAQECAgEBAQEBAgECAQEBAQEBAQEBAQEBAQIBAQEBAQEBAgEBAQEBAQIBAQEDAgEBAQEBAQEBAQEBAQMCAQEBAgEBAQEBAQEDAQIBAQIBAQIBAQICAgICAQEBAQEBAgEBAgEBBAEBAgEBAQICAQIBAQICAgEBAQIBAQIBAQEBAQEBAQEBAQEBAQIDAQICAQEBAQEBAgIBAQEBAQICAgECAQEBAQECAQIBAQEBAQEBBAIBAgEBAQECAQECAQEBAQEBAQEBAwEBAQEBAgEBAQEBAQEBAQEBAgEBAQEBAQEBAQEBAQEBAQIBAQICAgEBAQEB",
          "dtype": "i1"
         },
         "xaxis": "x2",
         "y": {
          "bdata": "XI/C9Si7lECuR+F6FLCWQMP1KFyPUl9AKVyPwvXYVkAAAAAAAN6cQDMzMzMzMytAH4XrUThYsUCuR+F6FH5dQOxRuB6FpaFAcT0K1yP5oECkcD0K19SXQBSuR+F6TpFA9ihcj8Kgl0CamZmZmc1+QI/C9Shc6ZtAcT0K16OYZUA9CtejcMeIQJqZmZmZyplAMzMzMzPLdEBI4XoUrgmEQMP1KFyPAaFAMzMzMzOzWEAK16NwPQWcQK5H4XoUDZ1AUrgehesDgECamZmZmZlhQHsUrkfhXZhACtejcD3DmUDhehSuR719QB+F61G4lmJA4XoUrkdVdEBSuB6F636TQOF6FK5HfaNAj8L1KFyNgUDXo3A9Cs+tQNejcD0Kw3hACtejcD2ghkAzMzMzM+CXQK5H4XoUZnlAj8L1KFxvVkAK16NwPTyRQDMzMzMzjJZAzczMzMzwn0ApXI/C9dmkQAAAAAAAgGtASOF6FK5vY0DD9Shcj9JWQMP1KFyP9nBArkfhepQAoUAzMzMzM1qQQGZmZmZmKnBAuB6F61EMjUC4HoXrUQR0QPYoXI/CBWxAFK5H4XroekAfhetRuCSJQFyPwvUoIoJAKVyPwvVikEDD9Shcj6J5QNejcD0KK5NAexSuR+EijkAzMzMzM8NxQOF6FK5HxXhAH4XrUbgWgUDsUbgexbSxQI/C9ShcrqFA7FG4HoUXlEApXI/C9dKSQHsUrkfhCqdAexSuR+GKb0DhehSuR2EkQIXrUbgetWtAmpmZmZk/hEBI4XoUrr96QD0K16Nw04pAXI/C9ShcSUB7FK5H4dpHQGZmZmZms51ACtejcD38ikAUrkfheqyXQLgehetR/Z1AuB6F61Hym0C4HoXrURmiQD0K16NweJBAhetRuB4mlEB7FK5H4To9QHsUrkfhOqVAFK5H4Xp0UUAUrkfhejSWQDMzMzMzs2JA4XoUrkejgkAzMzMzMwNYQI/C9ShcJ3FAAAAAAAC+gkAUrkfhekRjQLgehetRrHpAH4XrUbiglECPwvUoXM9oQOF6FK5HgVFAj8L1KNxXrECuR+F6FA5lQHE9CtejgFlA7FG4HoUjckAUrkfheumYQMP1KFyPCm1Aw/UoXI++fEA9CtejcOWXQK5H4XoU1Z5AFK5H4XqdkkAzMzMzM/NmQHsUrkfhWohAhetRuB6NcUCkcD0K13NuQKRwPQrXWYlASOF6FK7FhUBxPQrXo/yDQB+F61G4NIRACtejcD0OhkDsUbgehYtZQClcj8L1mZFAZmZmZmaudECkcD0K1yNjQKRwPQrX4pxA9ihcj8IDk0CkcD0K1y6kQFK4HoXrgXxAAAAAAACUc0CPwvUoXH9dQNejcD0Kd09A9ihcj8K1SEApXI/C9dx3QNejcD0K63FAAAAAAICZrUAAAAAAAPBwQD0K16NwfThASOF6FK5rfUAfhetRuOJ3QB+F61G4SnpAH4XrUbj+TkDNzMzMTDGnQJqZmZmZ6J1AZmZmZmbuZkB7FK5H4TSVQJqZmZmZ24JAAAAAAACYfEA9CtejcAShQDMzMzMzwYVAFK5H4Xo0dkCuR+F6FI5pQOxRuB6FS1tAcT0K16PscUAzMzMzMxOGQFK4HoXroY5AuB6F61EoX0BmZmZmZsZWQClcj8L1EGxAH4XrUbhCjUCuR+F6FCCUQI/C9ShcLYNAhetRuB5FWkCuR+F6FCafQD0K16NwJ5RA16NwPYrTr0CamZmZmdmCQD0K16NwOZVAUrgehetBZUAfhetROCCoQHsUrkfh4IJApHA9Cte7cUB7FK5H4ZpWQMP1KFwPO6JAmpmZmZkZiEApXI/C9XyBQHE9CtejwpFA16NwPQqGm0BI4XoUrr9jQFyPwvUokIVAXI/C9Sg6hEDhehSuR0WNQFyPwvUoAIdA4XoUrkfhUEDsUbgehVtbQD0K16NwdpdA7FG4HoW7V0AfhetRuPaCQGZmZmZmJ5xAFK5H4Xozp0AK16NwPQpPQB+F61G4JmpAcT0K16OQUEApXI/C9Z+ZQNejcD0K64ZArkfhehReUEC4HoXrURCLQKRwPQqXobNA9ihcj8IjgkBmZmZm5pCjQPYoXI/CqplAuB6F61HpnUAAAAAAgAqgQPYoXI9CeaNAzczMzMzTmEAAAAAAAAx8QBSuR+F6N5hArkfhehTObkD2KFyPwqOeQHE9CtejcGpAFK5H4XoXokCuR+F6FJKDQAAAAAAA6oFArkfhehSWg0A9CtejcL1BQD0K16Nw/WVAPQrXo/C1pEA9CtejcJ1ZQK5H4XoUXnlApHA9CtcpnUBSuB6F622FQK5H4XoUlZZAexSuR+G6PkCamZmZmV13QPYoXI/CbXRAH4XrUbjea0DD9ShcjwSPQIXrUbge5J1AXI/C9aggoECamZmZmWqiQFK4HoXrwVdAZmZmZmYtlUAUrkfhejyCQOF6FK5HoTZAUrgeheuBaUBmZmZmZoZHQI/C9ShcN3ZAH4XrUTj4oEAfhetRuDukQOxRuB6FCYdASOF6FK6hqUCPwvUoXE9XQK5H4XoUOZdAUrgehevBZECPwvUoXDKbQFK4HoXrqWdAMzMzMzMrYUBcj8L1KGGUQOF6FK5HQWBAzczMzMyClEA9CtejcLSXQArXo3A9CZFACtejcD36oEB7FK5H4U5zQClcj8L1CHJACtejcD3yYUCPwvUoXOdhQOxRuB4FSKBAw/UoXI9tlUAfhetRuAGRQClcj8L1mHtAj8L1KFw/cEB7FK5H4dJuQClcj8L1QpZAcT0K16NUlkAK16NwPbpdQI/C9ShcQ3xAmpmZmZkJUkDD9Shcj4JHQBSuR+F6hZJACtejcD1KdkApXI/C9UhjQFyPwvUopIVApHA9CtdbckBmZmZm5nqnQD0K16NwqXJApHA9CtcrdUBxPQrXo4BpQIXrUbgeRUlAZmZmZmbmSEB7FK5H4ZpaQM3MzMxMfqVA9ihcj8JVakAzMzMzM2NgQEjhehSuN1ZAexSuR+Hkr0B7FK5H4aeVQGZmZmZmiZFAZmZmZmaYnkBmZmZmZvmSQKRwPQrXk4tAPQrXo3BNWEAzMzMzMw+NQOF6FK5HsV9A4XoUrkeok0CPwvUo3C6lQFyPwvUo7FJAKVyPwvWgbUCamZmZmW+DQClcj8L1oGJAhetRuB4NfkAUrkfhekRgQHE9CtejkEBASOF6FC6yoEAfhetRuJ4zQGZmZmZmp5FAMzMzMzM7okBmZmZmZniYQHE9CtejwHdAH4XrUbh+U0CPwvUoXFWlQNejcD2K2KJA9ihcj8LZhEBI4XoULmWmQHsUrkfhT59ACtejcL2ZokDsUbgehXqfQArXo3A9am1AexSuR+HyaEAzMzMzM2NzQKRwPQrXpJ5AmpmZmRkWqUAAAAAAAAR3QHsUrkdhTaBAZmZmZmaWY0BxPQrXo7KeQHE9CtejcDpAexSuR+FcgEDD9Shcj9aYQAAAAAAAtqBA9ihcj8LwkUDsUbgehQuaQB+F61G42ndAuB6F61EGgkAK16NwPcKVQI/C9Shcy5NAMzMzMzMXcUDsUbgehbtpQIXrUbge9XJACtejcL2GoUCF61G4Hl6dQKRwPQrXs3lACtejcD0GgEAzMzMzM1d6QB+F61G47pBAzczMzMyejkAK16NwPepiQB+F61G4PmZASOF6FK63p0CPwvUoXM9AQPYoXI/C1WVAhetRuB4DgUC4HoXrUXhXQLgehetRnIhAFK5H4Xq0hECkcD0K146gQOF6FK5HRY1AFK5H4XosiEDXo3A9inqgQClcj8J11qJAXI/C9Si2hECkcD0K1/CbQHE9CtejTZZApHA9CteDVECF61G4HgCYQGZmZmZmunJAcT0K16PAWEBcj8L1KNaGQDMzMzMzw3BAXI/C9SicNUCPwvUoXG9XQPYoXI9CzaNAuB6F61G8eUAUrkfhepxpQDMzMzMzd3lA16NwPQrnkkDXo3A9CguBQJqZmZmZOU5AhetRuB4GokC4HoXr0aigQFK4HoXrHXBAexSuR+GibEBI4XoUrn6WQFK4HoXreWJAj8L1KFyvf0Bcj8L1KEaCQLgehetR4GtAAAAAAABooUAUrkfherBxQDMzMzMzx3FAhetRuB6xnUBmZmZmZsmQQMP1KFyPtaxAH4XrUbgeO0AK16NwPQiGQFK4HoXr4JBApHA9CtcLkkCkcD0K1/NtQOF6FK5HCYBArkfhehR+YkAAAAAAgOSpQMP1KFyPEolAZmZmZmZ6oEB7FK5H4TyDQAAAAAAA5opAH4XrUbjnlEBxPQrXo4RwQFK4HoVry6RAMzMzMzN/k0D2KFyPwkmvQPYoXI/C5JFAzczMzMwTqUDhehSuR7inQOxRuB6Fw21AmpmZmZmel0CPwvUoXKyjQMP1KFyPsltA7FG4HoXYlECkcD0K18d1QAAAAAAAgG1ArkfhehRGYEBxPQrXo1qgQKRwPQrX95hA7FG4HoXrWEAAAAAAAEqCQD0K16PwZ6VAH4XrUbh+VECkcD0K112LQFK4HoXr45RAuB6F61EYcED2KFyPwoGTQDMzMzMzQpBAcT0K16MYYkCF61G4HkufQD0K16NwH5JAUrgehetRY0CamZmZmcKSQHE9CtejMFJApHA9CtfjUUCkcD0KlyKxQEjhehSud1FA4XoUrkfNnkBI4XoUrpeDQOxRuB6Fo3JA7FG4HoUIpUDhehSuRwFPQHE9CtejUFhA16NwPQpvc0B7FK5H4a+ZQEjhehSu8KlAPQrXo3DvjECPwvUoXC6bQFK4HoVrUKdAexSuR+E8kECPwvUoXF6WQOxRuB6F7phASOF6FK6hhEBxPQrXo3AlQFK4HoXrgpNAhetRuB6Pg0CuR+F6FHGdQClcj8L1woBA16NwPYoKokCamZmZmfWUQK5H4XoUvJ1A4XoUrkcBcECPwvUo3GSgQArXo3A9qkpAMzMzMzNjYUB7FK5H4dpSQD0K16NwfWZAcT0K16PkekBmZmZmZrCiQAAAAAAA6IVApHA9CtcHeUD2KFyPwnWNQHsUrkfhlZJA4XoUrkfFcUCkcD0K176bQIXrUbge1VxAj8L1KFxvZEAAAAAAAMh1QFyPwvWoBq5AuB6F61HHkUAfhetRuMJ0QLgehetRJpZAZmZmZmaAhkBxPQrX4x22QKRwPQpXDapAzczMzMwgjkCF61G4HqV1QNejcD0Kz3JAAAAAAADyhEBxPQrXo1egQDMzMzMzf3BA9ihcj8JlXEBSuB6F6+lnQLgehetRJIJAUrgehesUpkBSuB6F68F/QEjhehSuR2xAj8L1KFydn0CPwvUoXFdkQMP1KFyPxpBASOF6FK4EmkAUrkfherx+QNejcD0K10tAmpmZmZk4lECuR+F6FCZ8QM3MzMzMjFRAuB6F61GYSEDD9Shcj8GbQIXrUbge1VtAmpmZmZmAlEBSuB6F64F9QAAAAAAAhH9ACtejcD1+fEBmZmZmZiqQQI/C9SjcPalAmpmZmZmpg0DsUbgehfeKQFyPwvUojGdAH4XrUbjuWkCamZmZmdV1QNejcD0KSZRAPQrXo3CHgkBcj8L1KNxWQAAAAAAAeHxAAAAAAADQZEC4HoXr0S2nQOF6FK7HeaVAXI/C9ShcVkCuR+F6FH5XQI/C9ShcD2RAUrgehevBWEDD9ShcjzJ7QK5H4XoU7jhArkfhehR6h0CkcD0K1xNkQD0K16NwPSxAUrgehevLm0CF61G4Hm6UQArXo3A9hohAPQrXo3DNaEAK16NwPTpiQFK4HoXrvX9AZmZmZmZQi0DD9Shcj7yYQBSuR+F6G5hAAAAAAADmmkA9CtejcP15QIXrUbgerWhArkfhehSeaECF61G4HoqXQEjhehSudpNAKVyPwvXWi0AK16NwPfiCQClcj8L1qJNAmpmZmZlVk0AK16NwPapRQI/C9ShcM3lAexSuR+GOmECkcD0K1xt6QOxRuB6FepFAhetRuJ4hsECPwvUoXBt/QJqZmZmZ1JBAZmZmZmacnkCkcD0K1zWHQM3MzMzMLG1AUrgeheshckDhehSuR/qTQDMzMzMz05FAexSuR2EKoEAfhetRuH5yQFK4HoXrZ4VAzczMzMwNnEB7FK5H4RJwQLgehetRrHBAUrgeheuliEDhehSuRyluQJqZmZmZgWFAZmZmZma7oECuR+F6FK4xQK5H4XoUnmNAhetRuB5ooUApXI/C9cCFQKRwPQrXvaJAzczMzMxMMEDhehSuR7lhQBSuR+F6KHxA4XoUrkfem0C4HoXrUfhDQKRwPQrXRZBAKVyPwnUfqECuR+F6FO5dQPYoXI9CtqBAMzMzMzO7eUDhehSuR8FQQD0K16Nw9aNAH4XrUbhuVUBI4XoUrht+QMP1KFyPiIVAexSuR+FKfUBmZmZmZqqAQD0K16NwnUlApHA9CtcnlUDXo3A9CluZQKRwPQrX2YxAH4XrUbiWdUAfhetRuAKLQJqZmZkZwbFAAAAAAAAKikAUrkfhevRkQAAAAAAAHo5AMzMzMzOrbkDD9Shcj6JNQPYoXI/CNV1AMzMzMzPDVEAK16NwPSphQPYoXI/CMYtAj8L1KFwzgUAK16NwPViVQIXrUbgeOXlAmpmZmZmHqEAK16NwPbSQQDMzMzOzEalAKVyPwvV0mkCPwvUoXO9UQIXrUbgerJhA7FG4HoX+o0BmZmZmZmZjQMP1KFyPMn9AKVyPwvWzr0AzMzMzM8+aQI/C9Shc31ZApHA9CtcDRUD2KFyPwsV7QKRwPQrXC5BAZmZmZmbdkECamZmZmRmdQEjhehSuRKFAw/UoXI9KbECamZmZmVlVQKRwPQpXZqJAexSuR+HqWkCamZmZmUCiQMP1KFyP9KNA4XoUrkcxakDNzMzMzIGdQPYoXI/CN7VAuB6F61EEf0CF61G4HsU9QM3MzMzMzF9A9ihcj8IdZkB7FK5H4biHQB+F61E4Mq1AmpmZmZmdekBmZmZmZmZ6QHE9Cteji69A16NwPQrnW0DD9Shcj6psQLgehevRgaVAFK5H4XqjmUCPwvUoXHueQMP1KFyPeo9AFK5H4Xpim0DD9Shcj4JvQFK4HoXrwW5APQrXo3BAkED2KFyPwg2IQHE9Ctej8o5APQrXo3ASlkAAAAAAAL2SQArXo3C9ZqRAMzMzMzOzXEC4HoXr0QOhQArXo3C9zaNAAAAAAAD4nEBSuB6F61EzQArXo3A945FAj8L1KFyMmEBSuB6F60F0QNejcD0KQJNAFK5H4XqsZkDhehSuR+uiQEjhehSuE3JAuB6F61H4S0AAAAAAAAByQM3MzMxM06ZAw/UoXI8KjUCF61G4Hm1hQOF6FK5HSYxAH4XrUbhSk0AzMzMzM8itQNejcD0KE4BAexSuR+GchECPwvUo3IehQPYoXI/CVVhA4XoUrkcRZUAzMzMzM9dxQBSuR+F6+IpAhetRuB6VY0CkcD0K11qXQArXo3A99oNAj8L1KFy9ikApXI/C9bhtQNejcD0KV2pArkfhehR1lUB7FK5H4ZJnQGZmZmZmhlVA16NwPQoPhED2KFyPwsV2QAAAAAAAwGJApHA9CtflhUCamZmZmbl6QPYoXI/C/WFAZmZmZmZBkkC4HoXrUb+bQGZmZmZmWnVAPQrXo3AWnEAAAAAAACSJQFK4HoXr6ZRAj8L1KFwHZ0BSuB6F63GFQClcj8L10HhAuB6F61E2pUDsUbgehaNyQBSuR+F6FFFApHA9CtdYnEAfhetRuB5SQOF6FK5HIVNAAAAAAABgdkD2KFyPwj6aQK5H4XqUUaBAAAAAAADYa0BSuB6Fa7KlQClcj8L1MH5Aj8L1KFxHhUDsUbgehUtaQOF6FK5HFalAFK5H4Xr0SUB7FK5H4XoqQBSuR+F6HGdAw/UoXI8yn0C4HoXr0QejQGZmZmZmZlNApHA9CtdNjUBcj8L1KKiCQJqZmZmZhX5AAAAAAACAi0AAAAAAADB1QD0K16NwnWNAFK5H4Xpwd0A9CtejcP1oQOxRuB6FL3NAexSuR+H4nUB7FK5H4WClQPYoXI/C1YBAUrgehevhbED2KFyPwiVcQMP1KFyPz5FA7FG4HgXJoUAfhetRuP2ZQAAAAAAAkoBAH4XrUbhOeUAAAAAAAASbQIXrUbgeHXNA7FG4HoVMoUBmZmZmZhuaQIXrUbieN6JAhetRuB5hh0CPwvUoXCeRQArXo3A9cnBAw/UoXI+6bkBmZmZmZkSfQLgehetRiJNA16NwPQpveUBxPQrXo0BgQM3MzMzMWItA4XoUrkdfk0DNzMzMzNxkQArXo3C9T6hAAAAAAADAikDhehSuR1FaQLgehetRC5NAmpmZmZnnj0CamZmZmTODQI/C9Shcr3NAj8L1KFz7d0BxPQrXI0ChQEjhehSu841ASOF6FK7fZkCF61G4HjGNQOxRuB7FL7pAZmZmZmZ7kUAUrkfheqRoQBSuR+F64ZJASOF6FK5/gUDXo3A9CpaQQMP1KFyPYZZAhetRuB6lYkDD9Shcj6SMQAAAAAAAMFJAuB6F61FAikBcj8L1KIR5QIXrUbgekqBA9ihcj8I9j0CF61G4HiVJQAAAAAAAYFRAXI/C9Sjgf0C4HoXrUehRQHsUrkfhOmdAuB6F69FYq0BxPQrXo9hhQFyPwvUoTIZA16NwPQqxiED2KFyPwv2JQFyPwvUoWZBAAAAAAAAQU0AfhetROF2kQMP1KFyPgJZApHA9CtcYnUCkcD0K10GEQAAAAAAAKGVApHA9Cterd0BmZmZmZq6AQGZmZmZmEIFAPQrXo3AxdkBxPQrXoxajQD0K16Nw9WlAZmZmZmaudkAK16NwPTJoQB+F61G4FmFA7FG4HoUal0CF61G4HlVsQI/C9Shcj0xArkfhehS1kUCamZmZmcKfQD0K16Nw3UxAZmZmZmbQkUDhehSuR9WLQEjhehSu13xAUrgeheuZmUAAAAAAAAyEQKRwPQrX9Y5AKVyPwvUAcEAzMzMzMz+DQHE9Ctej0EJA9ihcj8JBlEBSuB6F68GFQI/C9ShcUYBArkfhehS2jkA9CtejcKaRQArXo3A9859AzczMzMzkiUDsUbgehSGGQFyPwvUobFxAexSuR+HOikCkcD0K1z2VQHsUrkfhbJdAXI/C9agPokBcj8L1KMxiQHE9CtejwFtAKVyPwvVIREAAAAAAAE6PQB+F61G4JpNA9ihcj8I1OkDXo3A9Cu9lQI/C9Shcv1FA16NwPQq3fUDhehSuR5miQOxRuB6Fj3VAmpmZmZlRZECF61G4HlVzQArXo3A9SIFAAAAAAABQWECF61G4HiVlQK5H4XoUB5lAPQrXo3DNYUCamZmZmQljQEjhehSun2NAXI/C9SicRkAK16NwPXpoQKRwPQrX40pAZmZmZmbGT0CF61G4HjybQKRwPQrXQYVAexSuR+E4gECPwvUoXD90QOF6FK5H3qRAFK5H4XrYe0DhehSuR+eOQClcj8L1MHRAhetRuB66nUCuR+F6FHWkQHsUrkfhumZApHA9CtcjKEBxPQrXo1iFQNejcD0KjYFAKVyPwvVIb0BSuB6F6+qZQB+F61G4nj9Aj8L1KFxvVEAfhetRuJpxQJqZmZmZ0WZA4XoUrkfZYkDNzMzMzAx+QMP1KFyPpnhAexSuR+E+h0BI4XoUrrGlQFK4HoXriYFA4XoUrkeSm0CF61G4Hl1hQMP1KFyPZnZA7FG4HoXIl0A9CtejcJGCQNejcD0Kn2tA16NwPQpFlECamZmZmTlcQOxRuB6Ft4RApHA9CtcvmEAfhetRuH5CQFK4HoXrEVRA7FG4HoULRkCuR+F6FCGXQNejcD0K91ZA7FG4HoWenkBcj8L1KHhzQGZmZmZmxmJA4XoUrkdhZ0CF61G4HqOMQB+F61F427NAFK5H4XokaUDNzMzMzAh3QArXo3A9sndAj8L1KFxCk0AK16NwPdZwQFyPwvWodqFAmpmZmZlXmEBmZmZmZjZXQClcj8L1aFJA4XoUrkcbkkCamZmZmQljQJqZmZmZ5JZAhetRuJ4vpECkcD0K13+cQAAAAAAAIF5AZmZmZmYeaEAAAAAAAH+XQI/C9ShcjzJAhetRuJ6Bq0BSuB6F6++KQK5H4XoU15FAH4XrUbjNl0D2KFyPwperQPYoXI/CipJApHA9CtdHnEBxPQrXo5CNQGZmZmZmllVAZmZmZmbGh0AfhetRuCqIQFyPwvUoB6FAMzMzMzOAkkDNzMzMzJxVQEjhehSu53VA4XoUrkcUpUCuR+F6FD5mQNejcD0KNYRACtejcD16g0AK16NwPaZ5QLgehetR2pFAH4XrUbiel0Bcj8L1KBRlQFyPwvUoHKtAFK5H4XqekEDXo3A9CkGFQGZmZmZmopJA9ihcj8JikkA9CtejcKVgQHE9CtejDKJAUrgehesBbEB7FK5H4UpXQLgehetRKFhAXI/C9Si0bEApXI/C9b6QQBSuR+F6eJNASOF6FK5vj0D2KFyPwn1+QFK4HoXrEXNAcT0K16PQVkBxPQrXo8SHQNejcD0Kb2VAZmZmZmZ6ikBxPQrXo/qKQEjhehSuX5dArkfhehQcjkCamZmZmemEQClcj8L1YGVAzczMzEyIr0CPwvUoXPdkQArXo3A9VIhA7FG4HoWLR0CF61G4HmVSQNejcD0KlZxAuB6F69FAp0DhehSuR7eVQAAAAAAAEoFA7FG4HoWNlUBmZmZmZnZiQFK4HoXr5pNAcT0K16MEe0B7FK5H4apZQDMzMzMzT3BAhetRuB4xekDNzMzMzPKEQD0K16Nwg49A4XoUrkc/n0BmZmZmZlZjQK5H4XoU3nJAFK5H4XoYeUCF61G4HoUyQMP1KFyP8ZJApHA9CteTWUCPwvUoXPSZQOF6FK5Hm4BACtejcD30l0CPwvUo3CmlQOF6FK5HoVRAhetRuB4hgUAUrkfhet6SQOxRuB6FFaBAzczMzMzqh0ApXI/C9ZhUQDMzMzMziYFAFK5H4XosekCamZmZmcFyQK5H4XoUgZVAZmZmZmZkhEA9CtejcImdQOxRuB6F/4JASOF6FK7rdkA9CtejcC1iQIXrUbgeZ4pAhetRuB5Zd0CF61G4Hg2kQOF6FK5HfZVA16NwPQoXmkCamZmZmUGVQHsUrkchD7FA4XoUrkd7l0ApXI/C9fqLQM3MzMzMNGNAXI/C9ajFpUD2KFyPwv2PQClcj8L1MI9A16NwPQqvYkB7FK5H4TOWQOxRuB6FaZJAMzMzMzO5lkApXI/C9TCAQKRwPQrXQ1hAKVyPwvVUk0B7FK5H4SWbQB+F61G4fk9AuB6F61E4L0BI4XoUrqWRQEjhehSuXpFA16NwPQpbeEDhehSuR6E1QHE9CtejoFdAFK5H4XpCgUDhehSuRwFPQNejcD0Kp3JAXI/C9ShEfEDNzMzMzKxpQNejcD0K72tArkfhehRmkkBSuB6F6+2SQGZmZmZmbmFACtejcD1khkBI4XoUrht8QDMzMzOziKZAPQrXo/DwqEBmZmZmZlShQM3MzMzMro5A4XoUrkeBqUBcj8L1KGKGQJqZmZmZRYlAUrgehesRgEBmZmZmZuZiQKRwPQrX/3VAw/UoXI/DmECF61G4HgVcQI/C9Shc/YFA4XoUrkchTEAAAAAAAIhyQDMzMzMzYYJAXI/C9SjWgkDNzMzMzOSPQArXo3A9yn5A7FG4HoWolkB7FK5H4QmWQI/C9ShcaJFAexSuR+FAokAUrkfheq6PQKRwPQrX76xASOF6FK53aEDsUbgehfesQIXrUbgexW5AzczMzMy8ekBSuB6F6718QLgehetRDoJA9ihcj8I/jkCkcD0K1yttQFyPwvUovHlAPQrXo3ACmEAzMzMzM/eBQK5H4XoUzkZA4XoUrkdRekCPwvUoXEGNQKRwPQrXsJVAj8L1KFxLdUD2KFyPwiqgQClcj8L1qE9ApHA9CtdjXkApXI/C9bCZQJqZmZmZ+WFAzczMzMxyi0DNzMzMzOh4QI/C9ShcRYJAexSuR+GgoUBcj8L1KOaZQLgehetReHBA9ihcj8J9ZUDXo3A9CpiaQPYoXI/CJYFA16NwPQp9pEApXI/C9UByQM3MzMzM9ZhAzczMzMxUYUAAAAAAADBUQAAAAAAAlpBAexSuR+Gum0AAAAAAAAqdQFK4HoXrTXtAMzMzMzMxjEB7FK5H4QmbQI/C9ShcKZZA9ihcj8IVQEDhehSuR1yYQFyPwvUowoVAcT0K16NOl0A9CtejcKOMQPYoXI/CdUJAmpmZmZnpbUCuR+F6FK49QIXrUbgeP5hAcT0K16Msc0CkcD0K1x6kQM3MzMzMzEhAH4XrUbhGn0AUrkfhejRtQM3MzMxMR7FAMzMzMzNhi0D2KFyPwtVQQOF6FK7HmKpAmpmZmRmro0AfhetROEqsQOF6FK5HU6JAexSuR+Eeg0D2KFyPwi1gQOxRuB6FF5JAw/UoXI9YiEAfhetRuH5vQFK4HoXrJptAexSuR+FiZUDXo3A9CueEQEjhehSuh3VASOF6FK6DckAAAAAAABBsQHE9CtejpHZAPQrXo/CDoUApXI/C9ZuUQMP1KFyPtZBAw/UoXI/ye0D2KFyPQgGlQHsUrkdh3KZACtejcD3uikA9CtejcH03QMP1KFyPEKJAw/UoXI9iakBSuB6F67CZQFK4HoXr4XxAhetRuJ4CpkDXo3A9CjGUQFK4HoXr4VJAcT0K16PwRUA9CtejcB1iQHsUrkfhylhAZmZmZmZ6lEBSuB6F6zKfQM3MzMxMGqFAAAAAAABYZkCPwvUoXN2VQJqZmZmZzJZAAAAAAADakUBSuB6FawihQIXrUbgepVxAPQrXo3AbiUBmZmZmZmKOQJqZmZmZlJhA4XoUrkfhTUAAAAAAAExzQOF6FK5HS4NAKVyPwvVoSkApXI/C9WyPQI/C9SjcLKBA16NwPYqSokBcj8L1KIxdQBSuR+F6XGFAcT0K16NYoUBSuB6F61lhQNejcD0KwYVAzczMzMygckBI4XoUrqdxQKRwPQrXS29AH4XrUbgankAK16NwPUmRQFyPwvUoVItAcT0K16OcekBmZmZmZs6KQJqZmZmZwZtAFK5H4XoXk0CF61G4HmVfQK5H4XoUqIxApHA9CtcxlkDNzMzMTMWgQB+F61G4CnFArkfhehSidUDhehSuR6FGQBSuR+F6lFBAFK5H4XqMiUCuR+F6FLZiQJqZmZmZGJBAZmZmZmZmPUCamZmZmbOGQNejcD0Kt1NA9ihcj8Jti0DNzMzMzOxVQHsUrkfhukhApHA9CtfThkBxPQrXo3elQFK4HoXryWdAKVyPwvW6gUApXI/C9TGeQNejcD0KlzBAw/UoXI8CNEC4HoXrUbSPQLgehetRap9ApHA9Ctf3ckDsUbgehQePQHE9Ctejr5FArkfhehRiiUApXI/C9biEQKRwPQrX+29AFK5H4XrQhUDNzMzMzLSDQMP1KFyPDoVAXI/C9SjMfUCamZmZmYikQGZmZmZmBnFASOF6FK4DdUBcj8L1KNiQQEjhehSuh5JAZmZmZmamaEAfhetRuJ4kQJqZmZkZHadAcT0K16OcmUDD9Shcj859QArXo3A93INA16NwPQojgUBcj8L1KOR0QHsUrkfhhIVAexSuR+EafkCkcD0K12uEQJqZmZmZGY9ASOF6FC7IpUBI4XoUrqGNQFyPwvUoLHBAj8L1KFw3akDsUbgehaeFQOF6FK5HZ4VASOF6FK7NikAUrkfheiWWQEjhehSuR2hAXI/C9SicQ0D2KFyPwsVhQEjhehSuo6FACtejcD00oUAAAAAAAIBAQEjhehSui4RAmpmZmZlle0D2KFyPwveJQB+F61G4FmVA16NwPQpnZ0DNzMzMzCxAQDMzMzMzk3BAuB6F61FgdUDXo3A9CjdoQLgehetRkJlAexSuR+GIkEBSuB6F6w2LQDMzMzMzCZ9APQrXo3CkkUCuR+F6FBp6QLgehetRaFNA9ihcj8IzgUCamZmZmZWTQD0K16Nwi49A16NwPQoXPEBmZmZmZuZtQK5H4XoUrk5AH4XrUbiGh0AK16NwPWWcQBSuR+F6k51AUrgehetbhUCuR+F6FAZnQArXo3A9qZlApHA9CtczcUDhehSuR7iVQHE9CtejMpBAXI/C9Sj0YEAfhetRuAqCQNejcD0KR2dAj8L1KFx/U0CuR+F6FKSeQK5H4XoUrnVAUrgeheu4lkDhehSuRyE8QM3MzMzMGIFAPQrXo3BNXECF61G4HuVIQJqZmZmZWW9AH4XrUbgwkEB7FK5H4QpTQPYoXI/Cj5ZAPQrXo3B9MkDXo3A9CsmRQClcj8K107BACtejcD1Wm0AfhetRuIJ7QGZmZmZmZj9AFK5H4XqEV0C4HoXrURhsQK5H4XqUcKZA7FG4HoXrZkAK16NwPZ6bQD0K16NwbY1A9ihcj8L3ikBI4XoUridiQK5H4XoUOZJAhetRuB5pm0AfhetRuHiIQOxRuB6F6pFA4XoUrkfphUBSuB6F6xugQHsUrkfhyI1Aj8L1KFwNoEDNzMzMzFiKQHE9Ctej0o5AMzMzMzMLckB7FK5HYUyiQNejcD0KqY9APQrXo3ChckCamZmZmX2hQJqZmZmZtJ1A16NwPQqvdUBI4XoUrsdaQKRwPQrXgZZAcT0K16MMhEBxPQrXI7KnQOF6FK5H4TJArkfhepTvp0DD9Shcjy+VQK5H4XoUholAj8L1KFx/c0DsUbgehWsxQKRwPQrXIy5AexSuR+F3nEBSuB6F6yeGQIXrUbgeGXRA9ihcj8IFfkAfhetRuLeRQDMzMzMzn4xA9ihcj8IlU0BSuB6F60lhQAAAAAAAtH5AXI/C9SgcYUAUrkfheqqUQKRwPQrX95VAMzMzMzNoqUD2KFyPwhKQQJqZmZmZq4JAw/UoXI9SgkD2KFyPwiqUQArXo3A9P55AKVyPwvWUcECkcD0K1+NQQNejcD0KL6dAH4XrUbi3l0AUrkfheuyLQHsUrkfhLIhA9ihcj0LlqED2KFyPwj2XQJqZmZkZjrNAw/UoXI9MhkAAAAAAAPR5QM3MzMzMfF1A4XoUrsduqEB7FK5H4S6fQArXo3A9OmBApHA9Cte/gUBmZmZm5qilQPYoXI/CepNAXI/C9ShcIkCPwvUoXLWJQK5H4XoUBnhAzczMzMwOpUCuR+F6FM5WQOF6FK5HCphAXI/C9ShUeUC4HoXrUTOXQD0K16NwLWZApHA9CtfDhUAzMzMzM4tnQOxRuB6FfYVACtejcD0KGUDsUbgehbeQQEjhehSun35AFK5H4XpdlEDD9Shcj1GSQHE9CtcjZ6JAuB6F61HQYEAzMzMzM0GDQOF6FK5HITJAexSuR+G+dkB7FK5H4VpsQGZmZmZm3oJAAAAAAADdk0CamZmZmfF1QB+F61G4MnZAZmZmZmZeh0AzMzMzMxN1QM3MzMzMLFVAhetRuB4+mEDD9Shcjx6aQM3MzMzMp5dAcT0K16NMckDNzMzMTN2sQEjhehSup3tAPQrXo3B1gEBxPQrXo0iSQArXo3A9NoRA16NwPQoDjUCuR+F6FO5CQGZmZmZmjmBAPQrXo3BNZEBI4XoUrlmhQM3MzMzMRHVA4XoUrkddcUAK16NwPUisQFK4HoXrB5pAMzMzMzPnhkA9CtejcN1QQI/C9Shcg6pAPQrXo/BUoUDD9Shcj8qCQJqZmZmZOUlAH4XrUbgqgED2KFyPws2YQPYoXI/CXZFAmpmZmZl5TkCF61G4HqVpQFyPwvUoDF5A16NwPQq3W0A9CtejcLl3QFK4HoXrbXZAAAAAAAC8eUAK16NwPcJyQKRwPQrXjYFAmpmZmZmRdEDD9Shcj6JeQFyPwvUojGRApHA9CtczmkBxPQrXo0h9QBSuR+F6BpNASOF6FK4TcEB7FK5H4dJ2QKRwPQrXSYhAexSuR+HTlEC4HoXrUXigQAAAAAAAZoRAZmZmZmZwokCF61G4HjOIQLgehetR4ItAXI/C9Sjck0DD9ShcD4WqQArXo3A9fZdAXI/C9ahroUC4HoXrUQx+QLgehetRy6lAFK5H4XrumUC4HoXrUYieQB+F61E4FKRACtejcD0aVEDhehSuR8aQQK5H4XoUHlxAKVyPwvWQaUBxPQrXoymTQArXo3B9jbBA9ihcj8LlYkBSuB6Fa1iqQFyPwvUopGNAMzMzMzP7ckAzMzMz8x21QHE9CtejOHFAcT0K16NOhkDsUbgeRVmwQHsUrkfhZoNAZmZmZma2VkAUrkfherB1QKRwPQrXS2ZAw/UoXA/3o0AK16NwPTpzQArXo3A9kotAKVyPwvXQfkC4HoXrUahzQKRwPQrXd5lAzczMzMxagEB7FK5H4YZzQJqZmZmZObBAPQrXo3AVb0CPwvUo3CGkQEjhehSuL3NASOF6FK45jkCPwvUoXB+zQK5H4XoUdZVApHA9CtfLgEDNzMzMzMx4QOxRuB6FK3FAZmZmZmZOfUBSuB6F62FfQKRwPQrXVY9AH4XrUbiqc0AAAAAAAGBqQD0K16PwpqlAuB6F61E3nUDsUbgehUt9QI/C9Shci4lASOF6FK73U0DhehSuR71xQPYoXI/CtYZACtejcD16UECkcD0K1+OGQB+F61G4HldA7FG4HoWrV0A9CtejcOl4QFK4HoXrDJ9AhetRuB69d0AzMzMzMzKTQMP1KFyPwpNA9ihcj8ICp0BmZmZmZp5iQJqZmZmZmVdApHA9CteloEAfhetRuOKEQFK4HoXrdqZAw/UoXI9QiEBSuB6F62OHQFK4HoXrQpBAAAAAAAB0cUDXo3A9CkiSQFyPwvUolGJAMzMzMzPimEBxPQrXo0KOQOxRuB6FQKhAuB6F61F4TkApXI/C9ehUQOxRuB6Fq0tA7FG4HoXrh0DD9Shcj7JmQHsUrkfhAnpApHA9CtdDTUApXI/C9SOQQB+F61G4vlFAFK5H4XpKmUB7FK5H4cZ0QI/C9ShcLptAexSuR+EKgkAzMzMzM5SaQClcj8L1FIJAPQrXo3CJckCPwvUoXE9zQGZmZmZm559A7FG4HoVxmkCamZmZmRl9QIXrUbgeW4BAUrgehevZY0BI4XoUrteHQK5H4XoUHaBAexSuR2GbqEDhehSuR8FMQK5H4XoUfohAexSuR+GOhkBI4XoUrjCTQHsUrkfhHJJACtejcD1qW0BSuB6F65FlQDMzMzMzmY1ApHA9CtdrZEAK16NwPSpEQNejcD0KzJNAFK5H4XqOkEDsUbgehYtbQK5H4XoUzpZAXI/C9SjsV0AfhetRuNZkQK5H4XoUzlJA7FG4HoXxk0CF61G4Hq1sQOxRuB6F6Z5Aj8L1KFwPWkAK16NwPQKIQPYoXI/Co4dAAAAAAABMckDhehSuR4STQEjhehSusYRAhetRuB5+mUBI4XoUrkdpQHE9CtejTHJAFK5H4XoMjkCuR+F6FFJ8QFK4HoVr46FAXI/C9ShGrkDXo3A9ChtxQFK4HoXrhpNACtejcD1KU0DsUbgehUt9QClcj8L16FFAAAAAAAAilEAK16NwPa6VQNejcD2KO6dAFK5H4frzp0BmZmZmZgaSQNejcD0KzYpAH4XrUbjinUCF61G4HoVWQKRwPQrX54ZAw/UoXA/srEDD9ShcjyJpQAAAAAAAOZVAmpmZmRmaoEBSuB6F6wl7QI/C9Shcy5JAFK5H4Xp4n0BmZmZmZgSIQBSuR+F6oHFAAAAAAABAZUCF61G4HiF2QIXrUbge/W1Aj8L1KFyPX0DXo3A9CgatQPYoXI9Cm6BA4XoUrkfhNUBcj8L1KFyMQGZmZmZmTpZACtejcD3SYEB7FK5H4b5xQD0K16NwzXRAexSuR+FWiUC4HoXrUThPQB+F61G4BIdAhetRuB4JgEBmZmZmZgZ5QJqZmZmZn4FAKVyPwnWFpEAAAAAAADaKQIXrUbge5JZAcT0K1yMToEApXI/C9dmXQEjhehSuyYpAuB6F61EobUB7FK5H4VCAQOxRuB6FhYVAMzMzMzM7dEB7FK5H4XpUQD0K16NwhpFAhetRuB6onkAK16NwPZqDQKRwPQrXf6NAZmZmZmZuY0DNzMzMzIqOQB+F61G4cnZAKVyPwvUcgkApXI/C9eg1QPYoXI/CvWJAKVyPwvVISkCamZmZmdk3QI/C9Shcl5JAuB6F61EoYUBxPQrXo0SNQOxRuB6FcYdAhetRuB6zg0CPwvUoXG9hQNejcD0K52BACtejcD0Kf0CPwvUoXEdrQMP1KFyP0pdAKVyPwvXqjUCuR+F6FM5VQEjhehSuJ0JA7FG4HoXLT0CamZmZmblqQOF6FK5HD4BAH4XrUbjOrkAUrkfhesCKQFK4HoXrnJdAKVyPwvVfmEA9CtejcEibQOF6FK5HwUtAUrgehetLgUD2KFyPws+VQBSuR+F69FtA16NwPYr1qEApXI/C9RySQHE9CtejKGpAhetRuB69c0CPwvUoXJN6QGZmZmZm8ppA16NwPQqXREBcj8L1KHRrQB+F61G4entAuB6F61HWlUDNzMzMzIqAQB+F61G46JBArkfhehQCm0CamZmZmcF8QFK4HoXr0XRA16NwPQoDl0D2KFyPwnU8QKRwPQrXl4lA7FG4HoUvhEAK16NwPfeXQDMzMzMzQYxAXI/C9SgAeEC4HoXrUfmlQAAAAAAAbIpAZmZmZmYUkkCF61G4Hi6YQOF6FK5HbpNAcT0K16NMd0AK16NwPWGSQBSuR+F6WHdAmpmZmZkRjkBcj8L1KC6XQPYoXI/C7WFAKVyPwvVwZECuR+F6FESdQOF6FK5HrXNAH4XrUbjxnUDD9Shcj8IxQHE9CtejHHVA16NwPQpPckDXo3A9CjdiQNejcD0KF0VASOF6FK7XbED2KFyPwoufQFK4HoXrFYhAj8L1KFzvU0CkcD0K1ztnQNejcD0KQZNAPQrXo3A/lUCPwvUoXDSWQFK4HoXrMUtAKVyPwvVIW0DhehSuR3GiQLgehetRGElASOF6FK63i0A9CtejcDFzQFyPwvUoXG5AmpmZmZnrg0AUrkfhekiAQEjhehSusYZA16NwPQrOkEAfhetRuFZpQEjhehSu/49AH4XrUbieRUAK16NwPcoyQNejcD0KX2dAXI/C9SiYdkD2KFyPwol5QD0K16Nw04pAZmZmZma+ckC4HoXrUVCHQHsUrkfhLIJAexSuR+EBmkDXo3A9CmOZQGZmZmZmnmBAcT0K16NwKEBSuB6F69FJQGZmZmZm+IJAzczMzMxkhECamZmZmRlQQKRwPQrXPYxAFK5H4XoULkDsUbgehbeQQOF6FK5H2YhAPQrXo3D9ekCuR+F6FE2eQI/C9ShcfYJAUrgehevhVUBxPQrXozCCQNejcD0Ka6RAZmZmZmbedED2KFyPwuVyQGZmZmZmJKFAj8L1KFyHj0CamZmZmZkVQB+F61G4zlFAzczMzMwQikDXo3A9Ch91QNejcD0KFzlAMzMzMzN/lkB7FK5H4fSXQB+F61G4/nVAmpmZmZnDiEApXI/C9aGSQB+F61G4/otAuB6F61EgZUAK16NwPep3QMP1KFyPCnVAXI/C9Si0YkAfhetRuP5QQKRwPQrXHplAUrgehet1qUBxPQrXowBrQNejcD0KfJ9ArkfhehTOVEAzMzMzM/WPQOF6FK5HEVNAw/UoXI/0gkAzMzMzsyOlQGZmZmZm65FAj8L1KFy/cEB7FK5H4YuYQIXrUbgeZU5A16NwPQpKmEDNzMzMzJxRQEjhehSuP4FAPQrXo3C9MUBxPQrXoyBTQD0K16NwvUNA9ihcj8JDikDsUbgehWNgQFyPwvUoDH1A4XoUrkd5i0AK16NwPYpCQHsUrkfhdJRAXI/C9SialUCF61G4HuKiQK5H4XoUhmhAcT0K16OkmkBcj8L1KOKJQOxRuB6FA3tApHA9CtfcnEAfhetRuG5nQJqZmZkZ3a5AMzMzMzNbZEBxPQrXowx3QOF6FK5H6WJAuB6F61GwhUAzMzMzMwNSQFK4HoXrYXBASOF6FK4fi0D2KFyPwuVyQDMzMzMzv3FAw/UoXI9miUDXo3A9Co94QArXo3A90JlAXI/C9Si8RECkcD0K10ONQFK4HoXr/XFAw/UoXI+Rn0DXo3A9CudyQLgehetRcIRAUrgehesxh0D2KFyPwoOdQHE9CtejWJNAMzMzMzOvc0DNzMzMzBxoQMP1KFyPclxAH4XrUbjSdkDD9Shcj5JdQBSuR+F6+IdAzczMzMxMKkB7FK5H4TepQGZmZmZmI6NA7FG4HoVzZUBI4XoUrgOHQMP1KFyP+odAPQrXo3DNW0C4HoXrUWmWQB+F61G41mFAXI/C9Sg8YECuR+F6FMiMQB+F61G4xnxAzczMzMzyhkAzMzMzMytkQHsUrkfhpnZASOF6FK7jhEAzMzMzM9OFQClcj8L10GRAKVyPwvVIYkDD9Shcj46rQPYoXI/CT6pAzczMzMw8VkC4HoXrUQWeQHE9CtcjHaFAXI/C9ShdkECPwvUoXPicQPYoXI/CuXlAzczMzMyHnUBcj8L16MuwQPYoXI/ClUFAPQrXo3BmqkAUrkfhehKRQI/C9Shcb2VAMzMzMzPIkEDsUbgeBa+tQAAAAAAAgGRArkfhehTWgkD2KFyPwqGeQD0K16NwvSpA16NwPQoqnEBcj8L1qMelQMP1KFyPMm5A16NwPQpXNUBcj8L1KEObQMP1KFyPYIlAuB6F61EerUCamZmZmbqeQPYoXI/Cn5NAH4XrUbg0kkDD9ShcjxKeQHE9CtejS51AexSuR+Hyg0DhehSuR26WQMP1KFyP5oVApHA9Ctc0mkB7FK5H4bZ2QD0K16Nw349A4XoUrkdrjkDD9Shcj1CcQGZmZmbmn6NArkfhehSaiEB7FK5H4bpJQPYoXI/CBY1AcT0K16OIdUCuR+F6FPSXQJqZmZmZKV1AFK5H4XqtnUDXo3A9CrdoQK5H4XoUkIJAmpmZmRlJqkCPwvUoXPCWQMP1KFyPjZhAKVyPwvWYgEBI4XoUridZQBSuR+F6YZxAcT0K16PTlEBI4XoUru9oQMP1KFyPcl1AzczMzMwigUCF61G4Hv1lQIXrUbgeCJtAcT0K16OImUAUrkfheoSPQArXo3A9xqBAAAAAAAAnnEBI4XoUro9tQEjhehSuP2dA16NwPQpXSUBSuB6F6zl5QEjhehSu63xAuB6F61GYQUDXo3A9CiuKQIXrUbge9XNAmpmZmZkkl0CkcD0K11GbQBSuR+F6jZRA7FG4HoWxl0A9CtejcF1MQArXo3A99J5AcT0K16MCkEAK16NwPepBQClcj8L1qH9A4XoUrkehdUCPwvUoXGGSQI/C9ShcoptAhetRuB49n0CuR+F6FEWUQOF6FK5HNXlAzczMzMx0dEDsUbgehfeHQHE9CtejzIRAZmZmZuYNpkBcj8L1KOmwQOxRuB6FvaZAH4XrUbieKkCamZmZma+NQI/C9Shcn2FAKVyPwvWob0C4HoXrUehlQPYoXI9CEqdAXI/C9ShukkBI4XoUrscnQM3MzMzMLIpAMzMzMzOzNEDXo3A9Cm6QQNejcD0Kz31A16NwPQo7h0BI4XoUrgN8QGZmZmZmhktAcT0K16NgfkDD9ShcjypuQLgehetRvH1AH4XrUbg+Y0AUrkfherRLQJqZmZmZuUBA7FG4HoVDqkBI4XoUrm9mQB+F61G4UIlApHA9CtecmkAK16NwPWyFQMP1KFyPk6JACtejcD3AiUBI4XoUrj9oQMP1KFyPjIlA7FG4HoV7ZECkcD0K19mYQD0K16Nw3URAFK5H4Xo8b0AfhetRuH5qQLgehetRlHtAKVyPwvVEi0AzMzMzs1yoQPYoXI/C2YNAmpmZmZm5UEDNzMzMzPWXQI/C9ShcD1lAw/UoXI8CQkCPwvUoXCGBQD0K16Nwf5lAH4XrUbi2YUAK16NwPRZ1QD0K16NwXXJAH4XrUbjFk0DsUbgeBfygQHE9CtejJppAexSuR+F5kUAAAAAAAC6vQLgehetRHHFA7FG4HoU3mUAAAAAAgC+rQIXrUbgeG5VAKVyPwvWfpEC4HoXrUauUQNejcD0KippAFK5H4Xr4ckC4HoXrUSR/QClcj8L1r5VAmpmZmRkfskBcj8L1KFiSQB+F61G4DlpAj8L1KFznbEC4HoXrUcOUQKRwPQrXTYdAMzMzM7OgpkC4HoXrEdS1QK5H4XoUlpFAFK5H4Xo4nUCF61G4HiVRQDMzMzMzG5dAhetRuB4BfEC4HoXrUSSUQHE9CtejDH5APQrXo3C1YUCF61G4HhmGQB+F61G4nIVA7FG4HoVwmkDhehSuR8iWQGZmZmZmM5VAXI/C9SicUUAUrkfh+tujQPYoXI/CfW1AUrgehesfjkApXI/C9TRxQClcj8L1ZJhASOF6FK6bg0DsUbgehSNhQMP1KFyP8lhAcT0K16MnlEDsUbgehXNsQBSuR+F6KHpAj8L1KFzvT0BSuB6F6311QGZmZmZmLmdAFK5H4Xo+oECkcD0K1+OaQNejcD0KBqBAmpmZmZlgn0DsUbgeheOQQMP1KFyPjKNAhetRuB4hd0BI4XoUrqCeQIXrUbge6XlAj8L1KFyvXkCkcD0K16dwQArXo3A9OlFAuB6F61EkcEAfhetRuEeSQBSuR+F6ZFFAuB6F61G3mEB7FK5H4SpiQLgehetRj5dAcT0K16NIcEAfhetRuJKGQBSuR+F6SHVASOF6FK63bUCkcD0K1290QNejcD0KX4RAFK5H4XobmECuR+F6FCKBQHE9CtejioRAj8L1KFxPgUD2KFyPwjl9QNejcD0KvY9ASOF6FK5re0BSuB6F6+OTQFK4HoXrw4RAAAAAAADwY0C4HoXrUaBxQIXrUbgeiY5AcT0K16OQUkBcj8L1KOCTQPYoXI/CJVBAKVyPwvWoVkAK16NwPWpdQJqZmZmZkJpAH4XrUbiYhkC4HoXrUVhyQK5H4XoUpnBAUrgeheu9gEApXI/C9bisQHE9CtejUF1AZmZmZmaCcUAK16NwPepHQGZmZmZmRkZA9ihcj8IRdUCkcD0K1zNVQFyPwvUo/FVASOF6FK6PYEBSuB6F6zV8QAAAAAAArZdA16NwPQqnWECkcD0K11uMQKRwPQrXs3FA9ihcj8KVg0Bcj8L1KIyQQI/C9SicFbNAcT0K16N8ckBI4XoUrtWKQHsUrkfhkmZACtejcD0bm0CkcD0K10toQK5H4XoU8oZAFK5H4Xr8hUAAAAAAAKmaQGZmZmZmBkBAH4XrUbgFk0BxPQrXo2BbQEjhehSuH31AMzMzMzMTQkCuR+F6FO6EQB+F61G4iJBAMzMzMzNDbEBSuB6F6wOBQAAAAAAANo9AUrgehev9nkAzMzMzMzNLQLgehetRL5hAw/UoXI9CPkAAAAAAAKSLQFyPwvUoHERApHA9CtchgkDXo3A9CmGAQEjhehSuhJhAAAAAAADgQkBI4XoUrkcWQLgehetRaoBAmpmZmZl5hkD2KFyPwuuDQArXo3A9cm1ApHA9Cterp0ApXI/C9WqFQFK4HoXrNqxA4XoUrkche0DsUbgehWs1QGZmZmZm1Z5AUrgeheuBcECuR+F6FP5lQPYoXI9CHqlAMzMzMzMZnkDNzMzMzIKBQJqZmZmZn5hAuB6F61FekEAzMzMzM2eHQMP1KFyPCIxA7FG4HoVDjEBmZmZmZmYcQBSuR+F6hGZAUrgehesCkkBxPQrXoxx4QNejcD0KeYpAmpmZmZkZTkDsUbgehf9/QHE9CtejCoNAZmZmZmZmOEDXo3A9iragQNejcD0KVyZAhetRuB6/iED2KFyPQh6tQAAAAAAAT6lAXI/C9SgcV0CPwvUoXPObQI/C9Shc13lACtejcD1ckkCkcD0K1/uKQBSuR+F6BFZAXI/C9SgcOkDhehSuR9FWQAAAAAAAQDdAPQrXo3B6m0BSuB6F67WCQBSuR+F6gJhAuB6F61GUmUApXI/C9XhdQDMzMzMzRaJA4XoUrkcleEDD9Shcj8KMQHE9CtejoFVAmpmZmZnJWEA9CtejcMVhQIXrUbgeVVtASOF6FK6FiUDNzMzMzCRhQPYoXI/CNVxAMzMzMzMjXkDhehSuRwmZQArXo3A9wp9AcT0K16NJkEAUrkfh+kqiQFyPwvUo2phAw/UoXI9We0DsUbgehbtuQEjhehQupLhAw/UoXI8abkCPwvUoXKuBQDMzMzMz42RAUrgehetRVkAUrkfherRCQIXrUbge0JFACtejcD3aY0CPwvUoXFmAQFK4HoXrSphAZmZmZmbmZkCF61G4HmuHQIXrUbieVahAXI/C9SicVEBSuB6F6/2QQHsUrkfhqqVAZmZmZmYGWEAzMzMzM2NVQDMzMzMzQ1RAuB6F61FhkUAK16NwPXaHQFK4HoXr44RAhetRuB7FlUBI4XoULoSgQOxRuB6FS15A9ihcj8J4k0ApXI/C9YBmQAAAAAAAgFxAXI/C9ShmlUCamZmZmU+ZQOF6FK5HY4pAXI/C9SjQc0CF61G4Ht+iQK5H4XoUKnJAUrgehesfiED2KFyPwqVQQK5H4XoUQZFA4XoUrkdNcECkcD0K18upQM3MzMzMx5VAj8L1KFwykkBcj8L1KHucQI/C9ShcEYJAUrgeheuFpEDXo3A9ChdJQM3MzMzM5ZZAj8L1KFxzcEB7FK5H4VpKQD0K16NwfTBAuB6F61HVkkCkcD0K1zNUQAAAAAAAwDNAzczMzMwweUBxPQrXI1uqQKRwPQrXC2RA4XoUrkeheEDXo3A9CoifQPYoXI/CB45AKVyPwvUEfEDD9Shcj++YQNejcD0KV0ZAmpmZmZnjl0B7FK5H4YCMQOxRuB6Fg4JAKVyPwvWoWkB7FK5H4ZaeQM3MzMxML6BAuB6F61EYTEDsUbgehdWQQArXo3A9KIRASOF6FK5XgkDD9Shcj3J4QAAAAAAAkFZACtejcD0me0DhehSuRwFcQFyPwvUo3o1A7FG4HoUvcEDsUbgehad6QBSuR+H6UadApHA9CtfDRkBI4XoUrj6WQI/C9ShcX15AmpmZmZlZV0DhehSuRySXQOxRuB6Fa1lAZmZmZmbScUDXo3A9CrmJQDMzMzMz/ZZA7FG4HoWrT0CPwvUoXI9QQArXo3A9i5RAuB6F61HfoEBcj8L1KIh9QFK4HoXr4ZZA9ihcj8KtcUAfhetRuCZnQNejcD0K23ZAexSuR+GyZED2KFyPwsWWQArXo3A9/JdACtejcD2GdEBI4XoUru2OQMP1KFyPnZNAXI/C9SiBmED2KFyPwjGgQK5H4XoU7mFAexSuR+EuckAAAAAAAPhyQAAAAAAAOGJAhetRuB40nEBcj8L1KEqQQK5H4XoU9qdAmpmZmZkxj0CamZmZmd6VQDMzMzMzw15A4XoUrkfBY0A9CtejcKSRQFK4HoXrUWRApHA9CtfnhUDD9Shcj+pnQEjhehSu511AuB6F61GRnkCuR+F6lDylQBSuR+F62oVA16NwPQqxnkB7FK5H4bZ8QNejcD0KI4lAZmZmZmYSckDsUbgehfeWQLgehetRQJtAexSuR+H6KUBxPQrXo5BeQNejcD0KlZVAuB6F61FAZEBcj8L1KPWQQB+F61G4dmlA4XoUrsdQpEAK16NwPTedQBSuR+F6z5xAUrgehevNiUA9CtejcKF7QMP1KFyPAnVAcT0K16OgakAK16NwPfprQJqZmZmZrZpAZmZmZmaDl0DXo3A9CjiTQJqZmZmZhX5AmpmZmZnDikCkcD0K17WMQHsUrkfhsIlApHA9CteukUBcj8L1KOaNQHE9Ctej9aFAPQrXo3DdS0BSuB6F68F8QHsUrkfhOnpASOF6FK5NmEBmZmZmZt6LQK5H4XoUAodA7FG4HoXhgUAK16NwPdp6QD0K16NwRWVAFK5H4fr6q0DNzMzMzJRjQJqZmZmZDptAXI/C9ShblkAK16NwPYJzQNejcD0Kt05ASOF6FK5HKUApXI/C9ShHQOxRuB6FUZVAzczMzMySiEB7FK5HYWWmQDMzMzMzJ3NAKVyPwvVdmUBmZmZmZnGXQD0K16Nwt6VA7FG4HoVhk0BI4XoUrgmmQI/C9ShcbqRAcT0K16PwK0AzMzMzMwd2QEjhehSuZYVAUrgehevnmEAAAAAAAKmZQFK4HoXr2WBAexSuR+F0l0ApXI/C9ZCVQKRwPQrXUqRAZmZmZmZmLEBI4XoUrndnQHE9CtejEE1AuB6F61GgkUDXo3A9CjN3QFyPwvUohH5AXI/C9SjMa0AUrkfhejRbQPYoXI/CiYJApHA9CteHjUDsUbgehes9QOxRuB4FlahAFK5H4Xqgh0AUrkfhekCBQHE9CtejkFVAUrgehWs7rEBSuB6F61EdQGZmZmZmxmhAMzMzMzNwp0CPwvUoXG2RQHE9CtejPptAPQrXo3AFcEC4HoXrUbg4QFK4HoXr0WBA16NwPQpXRUBmZmZmZrSRQLgehetRNHBAj8L1KFwgmUAUrkfhenKMQHE9Ctcjy7NAj8L1KFx/Z0CuR+F6FNObQDMzMzMzJZZAmpmZmZkOm0DXo3A9Cq9sQFyPwvUoHFBACtejcD26W0Bcj8L1KCRkQFyPwvUouINAj8L1KFzdlkAK16NwPeJ/QK5H4XoU/mhA7FG4HoUrm0DXo3A9Chc1QClcj8L12FNAzczMzMykjEAK16NwPSaHQBSuR+F6NF5AhetRuB4rikB7FK5H4QquQMP1KFyP8mdAAAAAAACwXUDhehSuR2EpQPYoXI/CBWlAzczMzMzIkUAfhetRuNqAQKRwPQrXyphAw/UoXI/OeECkcD0K19twQKRwPQpXG6NAhetRuB5lQkCamZmZmUOdQM3MzMzMjE9A9ihcj8IhcUAfhetRuD+WQFK4HoXr3KdArkfhehQafUCPwvUoXL2BQKRwPQrXw3BAj8L1KFwfXkCamZmZmVGLQNejcD2KaaJAj8L1KFyPN0BI4XoUri9gQI/C9ShczzlA4XoUrkeBQ0BI4XoUrsuXQFyPwvUouJFASOF6FC5KrkAAAAAAAHqFQMP1KFwPZqhAw/UoXI+vlkDhehSuRyWhQIXrUbgeg4lAAAAAAAD6ikAfhetRuBZjQAAAAAAAMo5AKVyPwvU5pED2KFyPwjVVQOF6FK5H74dAhetRuB4ZmkBmZmZmZu+bQPYoXI/C041AKVyPwvUOjkAUrkfheoR6QJqZmZmZiJdACtejcD2CbkDsUbgehRt5QPYoXI/CxWtAXI/C9Sgil0CuR+F6FESPQLgehetRlKBAw/UoXA/fpUCPwvUoXLmLQDMzMzMzMzpAexSuR+FyfkDD9Shcj16dQLgehetRsIlApHA9CtdrY0AzMzMzM4NXQNejcD0K+3BASOF6FK73W0DsUbgehVaRQBSuR+F6wIFAhetRuB7ykEB7FK5H4TpVQM3MzMzMsI5AzczMzMz8X0AfhetRuF5fQFK4HoXrcURA4XoUrkcdeECPwvUoXAeIQBSuR+F6fGFAzczMzMx0gkD2KFyPwvVIQGZmZmZmwnZAAAAAAACYYUApXI/C9dqIQAAAAAAApq5AH4XrUbgacUAAAAAAANBUQD0K16NwnVJAKVyPwvW8gUA9CtejcMOgQK5H4XoUkpFAPQrXo3BRdUDhehSuR6FYQDMzMzMzh3RA7FG4HoWrVkApXI/C9RhvQOxRuB6F6zBAexSuR+HKYEAK16NwvR+uQHE9CtejsGNApHA9CtcDVkAUrkfheoqTQLgehetRmolA9ihcj8JPnkDsUbgehdN2QNejcD0Kx15AUrgehesOm0C4HoXrUZhRQMP1KFyPKJdA9ihcj8LbnEBcj8L1KNyVQB+F61G4BmRAAAAAAABIbEA9CtejcM1ZQOF6FK5H7JdAMzMzMzOfhUBSuB6F6zydQEjhehSu2YxAMzMzMzOTZkD2KFyPwhePQI/C9Shc4Y9A7FG4HoWZl0AAAAAAAGaWQGZmZmZm1ZZAw/UoXI82jkAK16NwPf5wQFK4HoWrLLFAFK5H4Xr0XEC4HoXrUWSNQFK4HoXr9XdA16NwPQqHYkAzMzMzM+eMQLgehevR8KdAuB6F69Euq0AfhetRuE5VQAAAAAAAN6BAcT0K16NQckAK16NwPSpUQOF6FK5HYVNAj8L1KFxHaEBxPQrXo7BuQClcj8L1/5hAmpmZmZlZhEApXI/C9YqCQMP1KFyPyZZAzczMzMwQj0AzMzMzs62jQClcj8L1fHxAexSuR+EOnkC4HoXrUbSRQD0K16NwLYBACtejcD16d0CuR+F6lOykQClcj8L1RItAcT0K16MtoUDNzMzMzGxMQI/C9Shcv1RAAAAAAADoZUBcj8L1KH6fQKRwPQrXs2dA16NwPQrdg0DD9Shcj+JuQIXrUbgeyYVASOF6FK4tkUAUrkfheuRQQClcj8L1IGFApHA9CtephkBxPQrXo1CiQJqZmZmZoXJAXI/C9Siyi0CuR+F6FBCTQAAAAAAApHVAPQrXo3BRckCF61G4HiGSQOF6FK5H0VVAZmZmZmZGZkCamZmZGYOrQGZmZmZmrJJACtejcD2QpUCamZmZmUONQMP1KFyPEoZArkfhehSuJkAUrkfhegRhQClcj8L1a5pAXI/C9Sigh0AAAAAAAChlQMP1KFyPLoNAcT0K16OOgUDNzMzMzGuZQBSuR+F6fp9Aj8L1KNxvoUC4HoXrUYKjQDMzMzMzKYpAw/UoXA98oEA9CtejcD1hQKRwPQrXkpdAXI/C9SjwgUBI4XoUrjKSQM3MzMzMTGVAH4XrUbjAgEC4HoXrUUhaQHsUrkdhR6BAw/UoXI8Km0AK16NwPcpdQJqZmZmZM4pASOF6FK6Pa0CkcD0K14GVQEjhehSu1p1AFK5H4XrslkAAAAAAAKhlQD0K16NwHU9AuB6F61FOnEB7FK5H4caDQFyPwvUoeodAXI/C9SjIiUB7FK5H4dpBQK5H4XrULbBAj8L1KFw+k0Bcj8L1KL+jQBSuR+F6RGpAPQrXo3CThEB7FK5H4bigQOxRuB6FG2dAPQrXo3APkUB7FK5H4Z+SQHsUrkfhonpAzczMzMz2jEBI4XoUrr90QM3MzMzMtpxArkfhehR2YECamZmZmaabQEjhehSuxZFAzczMzMwMNkBmZmZmZj5kQOxRuB6FB3ZAUrgeheu6nEBcj8L1KDh7QK5H4XoUrk1AMzMzM7NMq0BmZmZm5qmwQHsUrkfhFo5Aj8L1KFy/UUCkcD0K1wePQClcj8L1iFNAUrgeheudlkBxPQrXowx3QHsUrkfhenVACtejcD2ibkCamZmZGcenQHE9CtejXHpAMzMzM7N/rkA9CtejcDVnQK5H4XoUxnRAhetRuB41hEDsUbgehfygQHE9CtejRZxA16NwPQq7kEBmZmZmZvaKQHsUrkdh4KpAKVyPwnUZo0C4HoXrUbKEQDMzMzMzF4NAXI/C9SjznkDXo3A9ikmpQB+F61G4gp5AXI/C9Sh+j0AzMzMzM3NPQIXrUbgeTXNAKVyPwvWui0D2KFyPwk1jQFK4HoVrYqxAmpmZmZm5UUAfhetRuLZnQM3MzMzMDG5AexSuR+HaRUApXI/C9ShCQOxRuB6Fy4tA16NwPQpXOUCuR+F6FCJ6QAAAAAAAVo9AzczMzMxWhkBSuB6F6y13QFK4HoXr95FA7FG4HoUfcUBI4XoUrlN1QLgehetRuElApHA9CtdzaUD2KFyPwkGcQAAAAAAAippAH4XrUbgalUApXI/C9QhsQAAAAAAAYFBApHA9CtcHokDsUbgehTNsQAAAAAAAlHhAPQrXo3C9NkAfhetRuCKVQGZmZmZmFldACtejcD2KM0ApXI/C9eSfQGZmZmbmwqRAKVyPwvXYVEDsUbgehRtQQFyPwvUozH5AKVyPwvVgaUCkcD0K11NfQFK4HoXr4XFA4XoUrkeipEB7FK5H4TJ8QDMzMzMzW3VAcT0K16PQWUBcj8L1KJ6LQLgehetRXJJASOF6FK6GkEBxPQrXo5BFQMP1KFyPbqBAAAAAAACAMkBxPQrXo3AxQJqZmZmZY5RA7FG4HoV3fUCamZmZmelhQKRwPQrXw0VApHA9CtednkCuR+F6FMZ4QIXrUbgepXxAKVyPwvXodUAUrkfheqWZQBSuR+F6JHNAhetRuN6VsUBSuB6F66FXQHE9CtejdJ1APQrXo3DRhUAK16NwPepPQIXrUbgexYNAexSuR+FOlEBSuB6F61VzQFK4HoXrEVxAw/UoXI90g0BI4XoUrheNQEjhehSuJ0FAhetRuB4NcECuR+F6FC43QArXo3A9am5AzczMzMycWkDD9Shcj8IsQArXo3A986xACtejcD05rEBSuB6F66FvQD0K16NwTVJA7FG4HoVCnkBI4XoUru6bQIXrUbgeJVxAUrgehetRSEBSuB6F6z+ZQArXo3A9Go9AUrgehevROkAfhetRuA6CQHE9CtejEE5A4XoUrkeJlEBmZmZmZg2kQHE9Ctej0EVAexSuR+F6jEAzMzMzM2aXQAAAAAAA4HBArkfhehRolkBxPQrXo1xyQMP1KFwPR6pAuB6F61FdlUDXo3A9Cr9vQClcj8L1GH9AmpmZmZlBc0D2KFyPwpVIQM3MzMzMUHBAuB6F61HsikAK16NwPQ2aQMP1KFyPemFAj8L1KFzXhkA9CtejcK1VQArXo3A92lhAUrgehetuqEA9CtejcF2oQArXo3A9imNAw/UoXI/CmUDNzMzMTOqjQGZmZmbmHKdASOF6FK6PYUCkcD0K14uJQEjhehSuspVA9ihcj8ItYkAUrkfhehQ0QNejcD0K115ASOF6FK4PgED2KFyPwt1qQOF6FK5H+XBAmpmZmZmpc0D2KFyPwrU0QHE9CtejjJVAH4XrUbg8hECPwvUoXAaVQFK4HoXrZ4FA4XoUrkdlg0CPwvUoXOdlQBSuR+F6hI9AZmZmZmamZ0CPwvUoXP9eQLgehetRiHxAzczMzMwSlkD2KFyPwoVZQNejcD0Kd01ApHA9ChfysUDD9ShcjyaUQGZmZmZmdpxAH4XrUbj6jEAzMzMzM5NZQI/C9ShcPpdAFK5H4XokXEAzMzMzs0GkQJqZmZmZd5JA4XoUrkdRaUDXo3A9CqdVQJqZmZnZgrZAH4XrUbhmckApXI/C9QhGQIXrUbgeSXFAFK5H4XqogUAAAAAAgFuhQAAAAAAAnpVAMzMzMzNxgUBxPQrXo1BoQJqZmZlZULFAmpmZmZnTkkBSuB6F62V1QJqZmZmZLXVAH4XrUTi0pEAK16NwPbyOQBSuR+F6xHdAKVyPwvX8cUD2KFyPwvU9QFyPwvWoyKJAj8L1KFxZiEAAAAAAALx9QIXrUbgeJUVAAAAAAABwfkAzMzMzM8OCQM3MzMzMwHVACtejcD1ynUD2KFyPwgVZQDMzMzMzkpVApHA9CtdbfEDNzMzMzNyfQOF6FK5HMVZAzczMzMwEakCkcD0K18tgQPYoXI/CCXFAmpmZmZlWlEDD9ShcjxehQHsUrkfhVJlApHA9CteDTUD2KFyPwsGAQOxRuB6FVZJAAAAAAABASEDD9Shcj5aCQB+F61G4doJACtejcD0aWkBxPQrXo92QQEjhehSuLpBA4XoUrkcxf0B7FK5H4RpKQNejcD0KTYNACtejcD3ycEB7FK5H4XpdQOxRuB6FSYFA7FG4HoVffUBSuB6F69eCQNejcD0K84hA16NwPQpZg0CF61G4Ht+fQNejcD2KraZAAAAAAACQUED2KFyPwsl+QMP1KFyP8l1ArkfhehT1lUAK16NwPV5/QArXo3A9ultAH4XrUbgZlEDsUbgehaeLQHE9Ctej7opAj8L1KFxgmUBxPQrXo3ObQBSuR+F6BFVA9ihcj8LonUDNzMzMzFiaQOxRuB6F0qRAUrgehetUmECF61G4Xk2wQLgehetRuDpAMzMzMzOzL0CF61G4HheLQMP1KFyP4IRAexSuR+GSdUAzMzMzs3igQIXrUbge2YJA7FG4HgVWpEDhehSuR1l/QHsUrkfhei9Aw/UoXI97lkAAAAAAAA6BQDMzMzMzEYdA16NwPQoXqkB7FK5H4f2nQHsUrkfhPohA7FG4HoVZjkAfhetRuDSUQHE9Ctej0ZZAKVyPwvX8dkCkcD0K13WXQJqZmZmZYW9AMzMzMzOLdUAUrkfherKJQK5H4XoUrlBAj8L1KFxSqUAK16NwPYKZQNejcD0KL4tASOF6FK5ThkB7FK5HYdSoQFyPwvUoUaFACtejcD1Kd0D2KFyPwjVCQDMzMzMz55BAzczMzMzAnUA9CtejcJOTQB+F61G43jVAH4XrUbgflUBSuB6F6wCQQFyPwvUoIo1AzczMzMxbkkC4HoXrUdmSQB+F61G4FnVAcT0K16PweUDD9Shcj7GrQGZmZmZmso1AXI/C9ahBqECkcD0K12tjQBSuR+F6i5JAuB6F61GkiUAK16NwPUJ+QHE9CtejUIVArkfhehS6hEAzMzMzM42BQKRwPQrX241AXI/C9SiIdkAK16NwPUKIQBSuR+H6nqdAcT0K16MwY0DsUbgehVWXQOxRuB6FNYZAUrgeheuOnUBmZmZmZuYpQFK4HoXrETxACtejcD3iYUBSuB6F6zuvQJqZmZmZYWRAFK5H4XpEtUCPwvUoXDuBQNejcD2KzqBAXI/C9SiJlkApXI/C9bBqQD0K16NwhX5AAAAAAABIfkDD9Shcj1yqQPYoXI/CyX5AH4XrUThDoECF61G4HgU9QLgehetReIhAMzMzMzPjeUDhehSux1KhQNejcD0KTYJA4XoUrkeylkAzMzMzM0NfQHsUrkfhKpNAexSuR+EIlkAzMzMzM5OUQDMzMzMzAqFAMzMzMzMFnUBSuB6F69FGQPYoXI/CEYBAw/UoXI+AgUB7FK5H4TJ2QGZmZmZmrZdA4XoUrkcTjkAK16NwPZaQQJqZmZmZvKtAFK5H4Xq0W0DsUbgehQysQArXo3A9InRAAAAAAADkk0ApXI/C9cifQEjhehTuEbBAKVyPwnVuoEDsUbgehUuUQGZmZmZm+nxAXI/C9ShYgUC4HoXrUduSQClcj8L1mFtAH4XrUbgqfUCF61G4HpVmQAAAAAAAcFVA4XoUrkfkl0AAAAAAAIBbQM3MzMzMTCxA7FG4HoULSEBSuB6F6yeCQMP1KFyPdn1AuB6F61HoaECkcD0K11ywQHE9CtejgHxAXI/C9SjQkECPwvUoXE9WQFK4HoXrUZ9AUrgehetZmUAUrkfh+sagQIXrUbgez4lAzczMzExOr0ApXI/C9UBqQAAAAAAAcFJAw/UoXI/ej0DXo3A9CgdYQFK4HoXrhXRA7FG4HoUrakB7FK5H4SZzQArXo3C9AaFAPQrXo3Axc0CF61G4HpGfQFK4HoXrb5RA7FG4HoUng0DhehSuR12FQNejcD0Kl1ZAcT0K16N8cUBmZmZmZjJ1QHsUrkfh+ZRAmpmZmZkTjkA9Ctej8DmvQEjhehSut1JAUrgehetqokAUrkfhepRkQFK4HoXrgpJAzczMzMy0akCkcD0K13tuQClcj8L14oVA9ihcj8LllEC4HoXrUYhlQDMzMzMzQ3ZAexSuR+E+j0CamZmZmdljQEjhehSuYpZACtejcD2GdEBSuB6F6wONQGZmZmZm1nhAZmZmZuYhqUBSuB6F60uOQM3MzMzM+p5AMzMzMzPOkkAAAAAAACBHQFyPwvUo2oxAj8L1KFwjnkDXo3A9Cs92QPYoXI/COXlAPQrXo3CZiUAzMzMzM36SQBSuR+F6lGpAcT0K16Nuh0BmZmZmZkZxQOF6FK5H06lAexSuR+H6TUApXI/C9SifQAAAAAAAwJlAzczMzMykm0AfhetRuE56QIXrUbgebW1APQrXo3CVdEA9CtejcCVvQBSuR+F6kHBAhetRuB7VhkCF61G4HqmJQClcj8L1+oRA4XoUrkd5cEBSuB6F66FQQI/C9Shc13RAexSuR+HqVUC4HoXrUTiFQLgehetR/ZlA16NwPQrAmkDhehSuR4OGQBSuR+F6zbJAzczMzMxSg0C4HoXrUbgoQMP1KFyPEaFAexSuR+HWgkB7FK5H4WJhQK5H4XoUsqJAuB6F61HCn0AzMzMzM4OBQGZmZmZmt5RApHA9CtejNkApXI/C9fuYQKRwPQrXpYFAPQrXo3DzgkA9CtejcIygQAAAAAAAoEFApHA9CtdQn0CPwvUoXMCfQGZmZmZm7mRAzczMzMzCkEA9CtejcIejQIXrUbgexXhAKVyPwvX4VUApXI/C9ahmQBSuR+F6oJhAKVyPwvW/mEDhehSuR9+MQOxRuB6FOpZAhetRuB4FOkCkcD0KV06gQAAAAAAAvHdAcT0K16Mtl0BSuB6F6yGLQGZmZmZmFZtApHA9CtcNiUAfhetRuAZtQGZmZmZm5klAzczMzMzgkUD2KFyPwoV+QMP1KFyPqmVAKVyPwvV3mkDhehSuRy6VQKRwPQrXRpRAw/UoXI+CSECuR+F6FG42QGZmZmZmBk9AFK5H4Xp0Z0AzMzMzs0uiQK5H4XoU/mNACtejcD34lkBmZmZmZvpwQJqZmZmZiJ9AKVyPwvU5nEAfhetRuEp8QEjhehSuSJ1AmpmZmZnZVkCPwvUoXEN4QK5H4XoUKJVAAAAAAADEfUA9CtejcBCWQPYoXI/CSYJAuB6F61ErmEDXo3A9Cu+HQOxRuB6FK5VAXI/C9SiQgED2KFyPwpVjQArXo3A9CihAXI/C9SgWm0BSuB6F6+V/QDMzMzMzHpVAAAAAAADkc0D2KFyPwkmYQJqZmZmZFXVAXI/C9SjzkEBmZmZmZpygQLgehetRmFxAj8L1KFyPRkDsUbgehQ91QFyPwvUoFZBAAAAAAAC8mECF61G4Ht2CQD0K16NwKpdAhetRuB4xeEAK16NwPQpjQOF6FK5H4VNAKVyPwvVAaUAfhetRuNZ2QMP1KFyPc61AcT0K16MoZUAK16NwPRiaQI/C9Shc70lA7FG4HoVrOUCF61G4HrVxQKRwPQrXDZNAj8L1KFxTdUBmZmZmZn+UQK5H4XoUZpFAMzMzMzMHhUBI4XoULtGhQB+F61G4pnxApHA9CtfolkCPwvUoXHmPQJqZmZmZMX1AexSuR+G2cECPwvUo3FysQM3MzMxMDqRAH4XrUbg+S0C4HoXrUbBmQFK4HoXruWpAexSuR+GybUA9CtejcP6eQOxRuB6Fw4VAFK5H4XoslkAK16NwPdJwQEjhehSuUYBA7FG4HoVvn0ApXI/C9WeRQDMzMzMzM09ASOF6FK7faUAAAAAAADKTQMP1KFyPQj5ApHA9Ctdvk0AK16NwPXJiQPYoXI/ChVdA9ihcj8IImkBI4XoUrkeGQJqZmZmZOWpA9ihcj8KXi0CPwvUoXMmGQBSuR+F6WINAPQrXo3BBdkB7FK5H4cJpQOF6FK5HZJ1A4XoUrkdSmUDNzMzMzPxcQAAAAAAAgElAzczMzMwwd0CkcD0K1wNfQPYoXI/CYYhACtejcL2+pEDNzMzMzExXQClcj8L1qFNA9ihcj8L3jEAAAAAAAGqEQArXo3A9nnJAzczMzMwsUUAK16NwPRKMQFyPwvUoSo9ACtejcD2GiUDNzMzMzGxlQHE9CtejhadAhetRuB4dbUA9CtejcAlyQOxRuB6FvKZAw/UoXI9dmEDsUbgehcttQI/C9Shcz1ZApHA9CtftiUDNzMzMzJaCQOxRuB6FA2lAcT0K16PPlEAUrkfhelyeQJqZmZmZSZJAUrgehev5a0DD9Shcj1SHQD0K16NwA55ASOF6FK7koUBcj8L1KDqBQOxRuB6FW1NAw/UoXI9ihUBmZmZmZmebQKRwPQrXM3lAH4XrUbiadEAzMzMzMxdxQEjhehSuRzxApHA9CtcLY0C4HoXrUWqVQM3MzMzMupVAKVyPwvUgeEAAAAAAADBvQOxRuB6FbYhA9ihcj0JUq0AAAAAAANqVQDMzMzMzSYtA4XoUrkdpckAzMzMzM3NNQAAAAAAASGdAj8L1KFwHdEApXI/C9VRyQKRwPQrXeppApHA9CtdjUEDD9Shcj057QOF6FK5H4UxA9ihcj0JlrUDD9ShcjzZ+QI/C9ShclYNAexSuR+HplkBI4XoUroWPQOxRuB6FG1xAAAAAAADAVUCkcD0K1295QD0K16NwFZtArkfhehQ2Y0AAAAAAAC6WQFK4HoXrsVFAUrgehetxcUD2KFyPwvSlQBSuR+F6so5AMzMzMzN2k0A9CtejcNuUQLgehetR4GFA9ihcj8KVZ0AAAAAAAJSGQI/C9Shcw31AhetRuB6VYkCF61G4nh2gQBSuR+F6FF5AcT0K16OHkUD2KFyPwv1mQDMzMzMzaYdA16NwPQrnVEAzMzMzM8SQQDMzMzMzE0FAMzMzMzPvhkBI4XoUriuLQBSuR+F6TIFAmpmZmZnRd0AAAAAAAER4QD0K16NwgJVAuB6F61ECgkBxPQrXo22fQIXrUbgeFZVA4XoUrkdtcUDNzMzMzAyNQEjhehQuGahAexSuR+GkhUAzMzMzM5mEQOxRuB6Fk3VApHA9Ctd8kEAK16NwPT6bQAAAAAAA2INASOF6FK43hECPwvUoXFWUQAAAAAAAoItAuB6F61GYXEBI4XoUrsdNQFyPwvUooZlAzczMzMzYcEBSuB6Fa8qgQPYoXI/C4YhAzczMzEztoEAzMzMzM0CYQEjhehSuGZVA9ihcj8LPhEAzMzMzM9d0QHsUrkfhWk9AZmZmZmaefECkcD0K112bQGZmZmZm3n1AhetRuB4hl0BSuB6Fa7GhQI/C9ShcP2FApHA9CtfjS0AK16NwPZJ2QFK4HoXrgVJACtejcD0SckBI4XoUrjdeQEjhehSuM31AMzMzM7Neo0BxPQrXo5SIQFyPwvUo3HpAKVyPwvX4mUApXI/C9QhGQNejcD0KA3tAexSuR+GKj0AAAAAAAHSHQOF6FK5HZYNACtejcD1kiUDhehSuR7FWQJqZmZmZgJVAj8L1KFyXa0AAAAAAAKKCQKRwPQrXUJlAPQrXo3BtXEAUrkfhegB1QK5H4XqUYqpACtejcD1cg0BxPQrXo/CCQM3MzMzMmZdA7FG4HgUJq0DsUbgehSN1QD0K16NwHWNAAAAAAAAQkUAzMzMzM5uPQArXo3A9ylBA16NwPQrvb0CkcD0K13NuQNejcD0KT35AFK5H4XollEDsUbgehYNjQD0K16NwBYZAFK5H4XrVk0DsUbgehfOCQHsUrkfhWoNAFK5H4XpYckC4HoXrUVhNQMP1KFyPimRA16NwPYr/qEB7FK5H4bqNQB+F61G4UZZArkfhehRuNkBSuB6F69FOQLgehevRpKFArkfhehRqcUAK16NwvZ6hQArXo3A9ZnVAXI/C9ShceECPwvUoXC9pQOF6FK5HzXVAexSuR+FinEDsUbgehamMQKRwPQrXipZA9ihcj8JTlEAzMzMzs3CiQKRwPQrX14dApHA9CtfjV0C4HoXrUbiPQFK4HoXrk41ArkfhehR2lUD2KFyPwqeBQGZmZmZmdnVA16NwPQobcUCamZmZmfllQClcj8L1SJ9A",
          "dtype": "f8"
         },
         "yaxis": "y2"
        },
        {
         "colorbar": {
          "title": {
           "text": "Customer Count"
          }
         },
         "colorscale": [
          [
           0,
           "rgb(247,251,255)"
          ],
          [
           0.125,
           "rgb(222,235,247)"
          ],
          [
           0.25,
           "rgb(198,219,239)"
          ],
          [
           0.375,
           "rgb(158,202,225)"
          ],
          [
           0.5,
           "rgb(107,174,214)"
          ],
          [
           0.625,
           "rgb(66,146,198)"
          ],
          [
           0.75,
           "rgb(33,113,181)"
          ],
          [
           0.875,
           "rgb(8,81,156)"
          ],
          [
           1,
           "rgb(8,48,107)"
          ]
         ],
         "showscale": true,
         "text": {
          "bdata": "IQxSAAYA+AA+AAsACgAHAAMA",
          "dtype": "i2",
          "shape": "3, 3"
         },
         "texttemplate": "%{text}",
         "type": "heatmap",
         "x": [
          "Infrequent",
          "Regular",
          "Frequent"
         ],
         "xaxis": "x3",
         "y": [
          "Low Spender",
          "Medium Spender",
          "High Spender"
         ],
         "yaxis": "y3",
         "z": {
          "bdata": "IQxSAAYA+AA+AAsACgAHAAMA",
          "dtype": "i2",
          "shape": "3, 3"
         }
        },
        {
         "marker": {
          "color": "#2ca02c"
         },
         "orientation": "h",
         "text": [
          "$6,704",
          "$6,308",
          "$5,763",
          "$5,662",
          "$5,588",
          "$5,444",
          "$5,432",
          "$5,406",
          "$5,083",
          "$5,067"
         ],
         "textposition": "outside",
         "type": "bar",
         "x": {
          "bdata": "7FG4HsUvukBI4XoULqS4QJqZmZnZgrZAcT0K1+MdtkC4HoXrEdS1QBSuR+F6RLVA9ihcj8I3tUAzMzMz8x21QB+F61F427NAcT0K1yPLs0A=",
          "dtype": "f8"
         },
         "xaxis": "x4",
         "y": [
          "Customer cust_370723dbff6303c13ed12fd0",
          "Customer cust_a7958eee230c913b000e919d",
          "Customer cust_d47521a7418ded51d872af82",
          "Customer cust_2042065a99cfd15473592b10",
          "Customer cust_9a8a413ba7c5098f4d99bb99",
          "Customer cust_de79af97f9ebb595b91a1298",
          "Customer cust_2bba0ed54cabfcbd946bf39f",
          "Customer cust_72132e909a9e5b3567cfb620",
          "Customer cust_41949d76b08ef85d63c355b4",
          "Customer cust_b611622da3a203528e33fe27"
         ],
         "yaxis": "y4"
        }
       ],
       "layout": {
        "annotations": [
         {
          "font": {
           "size": 16
          },
          "showarrow": false,
          "text": "Customer Spending Distribution",
          "x": 0.225,
          "xanchor": "center",
          "xref": "paper",
          "y": 1,
          "yanchor": "bottom",
          "yref": "paper"
         },
         {
          "font": {
           "size": 16
          },
          "showarrow": false,
          "text": "Purchase Frequency vs Spending",
          "x": 0.775,
          "xanchor": "center",
          "xref": "paper",
          "y": 1,
          "yanchor": "bottom",
          "yref": "paper"
         },
         {
          "font": {
           "size": 16
          },
          "showarrow": false,
          "text": "Customer Segments Heatmap",
          "x": 0.225,
          "xanchor": "center",
          "xref": "paper",
          "y": 0.375,
          "yanchor": "bottom",
          "yref": "paper"
         },
         {
          "font": {
           "size": 16
          },
          "showarrow": false,
          "text": "Top Customer Analysis",
          "x": 0.775,
          "xanchor": "center",
          "xref": "paper",
          "y": 0.375,
          "yanchor": "bottom",
          "yref": "paper"
         }
        ],
        "height": 700,
        "showlegend": false,
        "template": {
         "data": {
          "bar": [
           {
            "error_x": {
             "color": "#2a3f5f"
            },
            "error_y": {
             "color": "#2a3f5f"
            },
            "marker": {
             "line": {
              "color": "white",
              "width": 0.5
             },
             "pattern": {
              "fillmode": "overlay",
              "size": 10,
              "solidity": 0.2
             }
            },
            "type": "bar"
           }
          ],
          "barpolar": [
           {
            "marker": {
             "line": {
              "color": "white",
              "width": 0.5
             },
             "pattern": {
              "fillmode": "overlay",
              "size": 10,
              "solidity": 0.2
             }
            },
            "type": "barpolar"
           }
          ],
          "carpet": [
           {
            "aaxis": {
             "endlinecolor": "#2a3f5f",
             "gridcolor": "#C8D4E3",
             "linecolor": "#C8D4E3",
             "minorgridcolor": "#C8D4E3",
             "startlinecolor": "#2a3f5f"
            },
            "baxis": {
             "endlinecolor": "#2a3f5f",
             "gridcolor": "#C8D4E3",
             "linecolor": "#C8D4E3",
             "minorgridcolor": "#C8D4E3",
             "startlinecolor": "#2a3f5f"
            },
            "type": "carpet"
           }
          ],
          "choropleth": [
           {
            "colorbar": {
             "outlinewidth": 0,
             "ticks": ""
            },
            "type": "choropleth"
           }
          ],
          "contour": [
           {
            "colorbar": {
             "outlinewidth": 0,
             "ticks": ""
            },
            "colorscale": [
             [
              0,
              "#0d0887"
             ],
             [
              0.1111111111111111,
              "#46039f"
             ],
             [
              0.2222222222222222,
              "#7201a8"
             ],
             [
              0.3333333333333333,
              "#9c179e"
             ],
             [
              0.4444444444444444,
              "#bd3786"
             ],
             [
              0.5555555555555556,
              "#d8576b"
             ],
             [
              0.6666666666666666,
              "#ed7953"
             ],
             [
              0.7777777777777778,
              "#fb9f3a"
             ],
             [
              0.8888888888888888,
              "#fdca26"
             ],
             [
              1,
              "#f0f921"
             ]
            ],
            "type": "contour"
           }
          ],
          "contourcarpet": [
           {
            "colorbar": {
             "outlinewidth": 0,
             "ticks": ""
            },
            "type": "contourcarpet"
           }
          ],
          "heatmap": [
           {
            "colorbar": {
             "outlinewidth": 0,
             "ticks": ""
            },
            "colorscale": [
             [
              0,
              "#0d0887"
             ],
             [
              0.1111111111111111,
              "#46039f"
             ],
             [
              0.2222222222222222,
              "#7201a8"
             ],
             [
              0.3333333333333333,
              "#9c179e"
             ],
             [
              0.4444444444444444,
              "#bd3786"
             ],
             [
              0.5555555555555556,
              "#d8576b"
             ],
             [
              0.6666666666666666,
              "#ed7953"
             ],
             [
              0.7777777777777778,
              "#fb9f3a"
             ],
             [
              0.8888888888888888,
              "#fdca26"
             ],
             [
              1,
              "#f0f921"
             ]
            ],
            "type": "heatmap"
           }
          ],
          "histogram": [
           {
            "marker": {
             "pattern": {
              "fillmode": "overlay",
              "size": 10,
              "solidity": 0.2
             }
            },
            "type": "histogram"
           }
          ],
          "histogram2d": [
           {
            "colorbar": {
             "outlinewidth": 0,
             "ticks": ""
            },
            "colorscale": [
             [
              0,
              "#0d0887"
             ],
             [
              0.1111111111111111,
              "#46039f"
             ],
             [
              0.2222222222222222,
              "#7201a8"
             ],
             [
              0.3333333333333333,
              "#9c179e"
             ],
             [
              0.4444444444444444,
              "#bd3786"
             ],
             [
              0.5555555555555556,
              "#d8576b"
             ],
             [
              0.6666666666666666,
              "#ed7953"
             ],
             [
              0.7777777777777778,
              "#fb9f3a"
             ],
             [
              0.8888888888888888,
              "#fdca26"
             ],
             [
              1,
              "#f0f921"
             ]
            ],
            "type": "histogram2d"
           }
          ],
          "histogram2dcontour": [
           {
            "colorbar": {
             "outlinewidth": 0,
             "ticks": ""
            },
            "colorscale": [
             [
              0,
              "#0d0887"
             ],
             [
              0.1111111111111111,
              "#46039f"
             ],
             [
              0.2222222222222222,
              "#7201a8"
             ],
             [
              0.3333333333333333,
              "#9c179e"
             ],
             [
              0.4444444444444444,
              "#bd3786"
             ],
             [
              0.5555555555555556,
              "#d8576b"
             ],
             [
              0.6666666666666666,
              "#ed7953"
             ],
             [
              0.7777777777777778,
              "#fb9f3a"
             ],
             [
              0.8888888888888888,
              "#fdca26"
             ],
             [
              1,
              "#f0f921"
             ]
            ],
            "type": "histogram2dcontour"
           }
          ],
          "mesh3d": [
           {
            "colorbar": {
             "outlinewidth": 0,
             "ticks": ""
            },
            "type": "mesh3d"
           }
          ],
          "parcoords": [
           {
            "line": {
             "colorbar": {
              "outlinewidth": 0,
              "ticks": ""
             }
            },
            "type": "parcoords"
           }
          ],
          "pie": [
           {
            "automargin": true,
            "type": "pie"
           }
          ],
          "scatter": [
           {
            "fillpattern": {
             "fillmode": "overlay",
             "size": 10,
             "solidity": 0.2
            },
            "type": "scatter"
           }
          ],
          "scatter3d": [
           {
            "line": {
             "colorbar": {
              "outlinewidth": 0,
              "ticks": ""
             }
            },
            "marker": {
             "colorbar": {
              "outlinewidth": 0,
              "ticks": ""
             }
            },
            "type": "scatter3d"
           }
          ],
          "scattercarpet": [
           {
            "marker": {
             "colorbar": {
              "outlinewidth": 0,
              "ticks": ""
             }
            },
            "type": "scattercarpet"
           }
          ],
          "scattergeo": [
           {
            "marker": {
             "colorbar": {
              "outlinewidth": 0,
              "ticks": ""
             }
            },
            "type": "scattergeo"
           }
          ],
          "scattergl": [
           {
            "marker": {
             "colorbar": {
              "outlinewidth": 0,
              "ticks": ""
             }
            },
            "type": "scattergl"
           }
          ],
          "scattermap": [
           {
            "marker": {
             "colorbar": {
              "outlinewidth": 0,
              "ticks": ""
             }
            },
            "type": "scattermap"
           }
          ],
          "scattermapbox": [
           {
            "marker": {
             "colorbar": {
              "outlinewidth": 0,
              "ticks": ""
             }
            },
            "type": "scattermapbox"
           }
          ],
          "scatterpolar": [
           {
            "marker": {
             "colorbar": {
              "outlinewidth": 0,
              "ticks": ""
             }
            },
            "type": "scatterpolar"
           }
          ],
          "scatterpolargl": [
           {
            "marker": {
             "colorbar": {
              "outlinewidth": 0,
              "ticks": ""
             }
            },
            "type": "scatterpolargl"
           }
          ],
          "scatterternary": [
           {
            "marker": {
             "colorbar": {
              "outlinewidth": 0,
              "ticks": ""
             }
            },
            "type": "scatterternary"
           }
          ],
          "surface": [
           {
            "colorbar": {
             "outlinewidth": 0,
             "ticks": ""
            },
            "colorscale": [
             [
              0,
              "#0d0887"
             ],
             [
              0.1111111111111111,
              "#46039f"
             ],
             [
              0.2222222222222222,
              "#7201a8"
             ],
             [
              0.3333333333333333,
              "#9c179e"
             ],
             [
              0.4444444444444444,
              "#bd3786"
             ],
             [
              0.5555555555555556,
              "#d8576b"
             ],
             [
              0.6666666666666666,
              "#ed7953"
             ],
             [
              0.7777777777777778,
              "#fb9f3a"
             ],
             [
              0.8888888888888888,
              "#fdca26"
             ],
             [
              1,
              "#f0f921"
             ]
            ],
            "type": "surface"
           }
          ],
          "table": [
           {
            "cells": {
             "fill": {
              "color": "#EBF0F8"
             },
             "line": {
              "color": "white"
             }
            },
            "header": {
             "fill": {
              "color": "#C8D4E3"
             },
             "line": {
              "color": "white"
             }
            },
            "type": "table"
           }
          ]
         },
         "layout": {
          "annotationdefaults": {
           "arrowcolor": "#2a3f5f",
           "arrowhead": 0,
           "arrowwidth": 1
          },
          "autotypenumbers": "strict",
          "coloraxis": {
           "colorbar": {
            "outlinewidth": 0,
            "ticks": ""
           }
          },
          "colorscale": {
           "diverging": [
            [
             0,
             "#8e0152"
            ],
            [
             0.1,
             "#c51b7d"
            ],
            [
             0.2,
             "#de77ae"
            ],
            [
             0.3,
             "#f1b6da"
            ],
            [
             0.4,
             "#fde0ef"
            ],
            [
             0.5,
             "#f7f7f7"
            ],
            [
             0.6,
             "#e6f5d0"
            ],
            [
             0.7,
             "#b8e186"
            ],
            [
             0.8,
             "#7fbc41"
            ],
            [
             0.9,
             "#4d9221"
            ],
            [
             1,
             "#276419"
            ]
           ],
           "sequential": [
            [
             0,
             "#0d0887"
            ],
            [
             0.1111111111111111,
             "#46039f"
            ],
            [
             0.2222222222222222,
             "#7201a8"
            ],
            [
             0.3333333333333333,
             "#9c179e"
            ],
            [
             0.4444444444444444,
             "#bd3786"
            ],
            [
             0.5555555555555556,
             "#d8576b"
            ],
            [
             0.6666666666666666,
             "#ed7953"
            ],
            [
             0.7777777777777778,
             "#fb9f3a"
            ],
            [
             0.8888888888888888,
             "#fdca26"
            ],
            [
             1,
             "#f0f921"
            ]
           ],
           "sequentialminus": [
            [
             0,
             "#0d0887"
            ],
            [
             0.1111111111111111,
             "#46039f"
            ],
            [
             0.2222222222222222,
             "#7201a8"
            ],
            [
             0.3333333333333333,
             "#9c179e"
            ],
            [
             0.4444444444444444,
             "#bd3786"
            ],
            [
             0.5555555555555556,
             "#d8576b"
            ],
            [
             0.6666666666666666,
             "#ed7953"
            ],
            [
             0.7777777777777778,
             "#fb9f3a"
            ],
            [
             0.8888888888888888,
             "#fdca26"
            ],
            [
             1,
             "#f0f921"
            ]
           ]
          },
          "colorway": [
           "#636efa",
           "#EF553B",
           "#00cc96",
           "#ab63fa",
           "#FFA15A",
           "#19d3f3",
           "#FF6692",
           "#B6E880",
           "#FF97FF",
           "#FECB52"
          ],
          "font": {
           "color": "#2a3f5f"
          },
          "geo": {
           "bgcolor": "white",
           "lakecolor": "white",
           "landcolor": "white",
           "showlakes": true,
           "showland": true,
           "subunitcolor": "#C8D4E3"
          },
          "hoverlabel": {
           "align": "left"
          },
          "hovermode": "closest",
          "mapbox": {
           "style": "light"
          },
          "paper_bgcolor": "white",
          "plot_bgcolor": "white",
          "polar": {
           "angularaxis": {
            "gridcolor": "#EBF0F8",
            "linecolor": "#EBF0F8",
            "ticks": ""
           },
           "bgcolor": "white",
           "radialaxis": {
            "gridcolor": "#EBF0F8",
            "linecolor": "#EBF0F8",
            "ticks": ""
           }
          },
          "scene": {
           "xaxis": {
            "backgroundcolor": "white",
            "gridcolor": "#DFE8F3",
            "gridwidth": 2,
            "linecolor": "#EBF0F8",
            "showbackground": true,
            "ticks": "",
            "zerolinecolor": "#EBF0F8"
           },
           "yaxis": {
            "backgroundcolor": "white",
            "gridcolor": "#DFE8F3",
            "gridwidth": 2,
            "linecolor": "#EBF0F8",
            "showbackground": true,
            "ticks": "",
            "zerolinecolor": "#EBF0F8"
           },
           "zaxis": {
            "backgroundcolor": "white",
            "gridcolor": "#DFE8F3",
            "gridwidth": 2,
            "linecolor": "#EBF0F8",
            "showbackground": true,
            "ticks": "",
            "zerolinecolor": "#EBF0F8"
           }
          },
          "shapedefaults": {
           "line": {
            "color": "#2a3f5f"
           }
          },
          "ternary": {
           "aaxis": {
            "gridcolor": "#DFE8F3",
            "linecolor": "#A2B1C6",
            "ticks": ""
           },
           "baxis": {
            "gridcolor": "#DFE8F3",
            "linecolor": "#A2B1C6",
            "ticks": ""
           },
           "bgcolor": "white",
           "caxis": {
            "gridcolor": "#DFE8F3",
            "linecolor": "#A2B1C6",
            "ticks": ""
           }
          },
          "title": {
           "x": 0.05
          },
          "xaxis": {
           "automargin": true,
           "gridcolor": "#EBF0F8",
           "linecolor": "#EBF0F8",
           "ticks": "",
           "title": {
            "standoff": 15
           },
           "zerolinecolor": "#EBF0F8",
           "zerolinewidth": 2
          },
          "yaxis": {
           "automargin": true,
           "gridcolor": "#EBF0F8",
           "linecolor": "#EBF0F8",
           "ticks": "",
           "title": {
            "standoff": 15
           },
           "zerolinecolor": "#EBF0F8",
           "zerolinewidth": 2
          }
         }
        },
        "title": {
         "text": "Customer Segmentation Dashboard - 2023"
        },
        "xaxis": {
         "anchor": "y",
         "domain": [
          0,
          0.45
         ],
         "title": {
          "text": "Total Spent ($)"
         }
        },
        "xaxis2": {
         "anchor": "y2",
         "domain": [
          0.55,
          1
         ],
         "title": {
          "text": "Number of Orders"
         }
        },
        "xaxis3": {
         "anchor": "y3",
         "domain": [
          0,
          0.45
         ]
        },
        "xaxis4": {
         "anchor": "y4",
         "domain": [
          0.55,
          1
         ],
         "title": {
          "text": "Total Spent ($)"
         }
        },
        "yaxis": {
         "anchor": "x",
         "domain": [
          0.625,
          1
         ]
        },
        "yaxis2": {
         "anchor": "x2",
         "domain": [
          0.625,
          1
         ],
         "title": {
          "text": "Total Spent ($)"
         }
        },
        "yaxis3": {
         "anchor": "x3",
         "domain": [
          0,
          0.375
         ]
        },
        "yaxis4": {
         "anchor": "x4",
         "domain": [
          0,
          0.375
         ]
        }
       }
      }
     },
     "metadata": {},
     "output_type": "display_data"
    },
    {
     "name": "stdout",
     "output_type": "stream",
     "text": [
      "\n",
      "CUSTOMER SEGMENT INSIGHTS:\n",
      "==================================================\n",
      "✓ HIGH-VALUE: 20 customers (0.6%) generate 3.1% of revenue\n",
      "  • Average spend: $5194.83\n",
      "  • Average review: 4.21/5.0\n",
      "✓ LOYALTY: 20 frequent customers with avg 4.1 orders\n",
      "  • Avg satisfaction: 3.93/5.0\n",
      "→ OPPORTUNITY: 3,363 infrequent customers represent $5,928,286 retention potential\n",
      "\n",
      "SEGMENT SUMMARY:\n",
      "  • High Spender: 20 customers | $103,897 total | $5195 avg CLV\n",
      "  • Medium Spender: 321 customers | $970,781 total | $3024 avg CLV\n",
      "  • Low Spender: 3,193 customers | $2,285,617 total | $716 avg CLV\n"
     ]
    }
   ],
   "source": [
    "# Customer Segmentation Analysis\n",
    "print(\"CUSTOMER SEGMENTATION ANALYSIS\")\n",
    "print(\"=\" * 50)\n",
    "\n",
    "# Calculate customer segments\n",
    "customer_summary = current_period_df.groupby('customer_id').agg({\n",
    "    'price': ['sum', 'count', 'mean'],\n",
    "    'order_id': 'nunique',\n",
    "    'review_score': 'mean',\n",
    "    'delivery_days': 'mean'\n",
    "}).round(2)\n",
    "\n",
    "# Flatten column names\n",
    "customer_summary.columns = ['total_spent', 'items_purchased', 'avg_item_price', 'orders_placed', 'avg_review', 'avg_delivery_days']\n",
    "customer_summary = customer_summary.reset_index()\n",
    "\n",
    "# Create customer segments based on spending and frequency\n",
    "customer_summary['spending_segment'] = pd.cut(customer_summary['total_spent'], \n",
    "                                            bins=3, labels=['Low Spender', 'Medium Spender', 'High Spender'])\n",
    "customer_summary['frequency_segment'] = pd.cut(customer_summary['orders_placed'], \n",
    "                                             bins=3, labels=['Infrequent', 'Regular', 'Frequent'])\n",
    "\n",
    "# Calculate segment metrics\n",
    "segment_analysis = customer_summary.groupby(['spending_segment', 'frequency_segment']).agg({\n",
    "    'customer_id': 'count',\n",
    "    'total_spent': 'sum',\n",
    "    'avg_review': 'mean'\n",
    "}).reset_index()\n",
    "\n",
    "print(f\"Total Customers Analyzed: {len(customer_summary):,}\")\n",
    "print(f\"Customer Lifetime Value Range: ${customer_summary['total_spent'].min():.2f} - ${customer_summary['total_spent'].max():.2f}\")\n",
    "\n",
    "# Create customer segmentation dashboard\n",
    "fig = make_subplots(\n",
    "    rows=2, cols=2,\n",
    "    subplot_titles=('Customer Spending Distribution', 'Purchase Frequency vs Spending', \n",
    "                   'Customer Segments Heatmap', 'Top Customer Analysis'),\n",
    "    specs=[[{\"type\": \"histogram\"}, {\"type\": \"scatter\"}],\n",
    "           [{\"type\": \"heatmap\"}, {\"type\": \"bar\"}]]\n",
    ")\n",
    "\n",
    "# 1. Customer spending distribution\n",
    "fig.add_trace(go.Histogram(\n",
    "    x=customer_summary['total_spent'],\n",
    "    nbinsx=25,\n",
    "    marker_color=BUSINESS_COLORS['primary'],\n",
    "    opacity=0.7,\n",
    "    name='Customer Spending'\n",
    "), row=1, col=1)\n",
    "\n",
    "# 2. Purchase frequency vs spending scatter plot\n",
    "fig.add_trace(go.Scatter(\n",
    "    x=customer_summary['orders_placed'],\n",
    "    y=customer_summary['total_spent'],\n",
    "    mode='markers',\n",
    "    marker=dict(\n",
    "        size=8,\n",
    "        color=customer_summary['avg_review'],\n",
    "        colorscale='Viridis',\n",
    "        showscale=True,\n",
    "        colorbar=dict(title=\"Avg Review Score\")\n",
    "    ),\n",
    "    name='Customers',\n",
    "    text=[f'Customer: {cid}<br>Orders: {orders}<br>Spent: ${spent}<br>Avg Review: {review:.1f}' \n",
    "          for cid, orders, spent, review in zip(customer_summary['customer_id'], \n",
    "                                               customer_summary['orders_placed'],\n",
    "                                               customer_summary['total_spent'],\n",
    "                                               customer_summary['avg_review'])],\n",
    "    hovertemplate='%{text}<extra></extra>'\n",
    "), row=1, col=2)\n",
    "\n",
    "# 3. Customer segments heatmap\n",
    "segment_pivot = segment_analysis.pivot(index='spending_segment', columns='frequency_segment', values='customer_id')\n",
    "fig.add_trace(go.Heatmap(\n",
    "    z=segment_pivot.values,\n",
    "    x=segment_pivot.columns,\n",
    "    y=segment_pivot.index,\n",
    "    colorscale='Blues',\n",
    "    text=segment_pivot.values,\n",
    "    texttemplate='%{text}',\n",
    "    showscale=True,\n",
    "    colorbar=dict(title=\"Customer Count\")\n",
    "), row=2, col=1)\n",
    "\n",
    "# 4. Top customers by value\n",
    "top_customers = customer_summary.nlargest(10, 'total_spent')\n",
    "fig.add_trace(go.Bar(\n",
    "    x=top_customers['total_spent'],\n",
    "    y=[f'Customer {cid}' for cid in top_customers['customer_id']],\n",
    "    orientation='h',\n",
    "    marker_color=BUSINESS_COLORS['success'],\n",
    "    text=[f'${x:,.0f}' for x in top_customers['total_spent']],\n",
    "    textposition='outside'\n",
    "), row=2, col=2)\n",
    "\n",
    "# Update layout\n",
    "fig.update_layout(\n",
    "    title_text=f\"Customer Segmentation Dashboard - {ANALYSIS_CONFIG['current_year']}\",\n",
    "    template='plotly_white',\n",
    "    height=700,\n",
    "    showlegend=False\n",
    ")\n",
    "\n",
    "# Update axis labels\n",
    "fig.update_xaxes(title_text=\"Total Spent ($)\", row=1, col=1)\n",
    "fig.update_xaxes(title_text=\"Number of Orders\", row=1, col=2)\n",
    "fig.update_yaxes(title_text=\"Total Spent ($)\", row=1, col=2)\n",
    "fig.update_xaxes(title_text=\"Total Spent ($)\", row=2, col=2)\n",
    "\n",
    "fig.show()\n",
    "\n",
    "# Display customer segment insights\n",
    "print(\"\\nCUSTOMER SEGMENT INSIGHTS:\")\n",
    "print(\"=\" * 50)\n",
    "\n",
    "# High-value customer analysis\n",
    "high_value_customers = customer_summary[customer_summary['spending_segment'] == 'High Spender']\n",
    "if len(high_value_customers) > 0:\n",
    "    hvc_revenue_share = (high_value_customers['total_spent'].sum() / customer_summary['total_spent'].sum()) * 100\n",
    "    print(f\"✓ HIGH-VALUE: {len(high_value_customers):,} customers ({len(high_value_customers)/len(customer_summary)*100:.1f}%) generate {hvc_revenue_share:.1f}% of revenue\")\n",
    "    print(f\"  • Average spend: ${high_value_customers['total_spent'].mean():.2f}\")\n",
    "    print(f\"  • Average review: {high_value_customers['avg_review'].mean():.2f}/5.0\")\n",
    "\n",
    "# Frequent customer analysis\n",
    "frequent_customers = customer_summary[customer_summary['frequency_segment'] == 'Frequent']\n",
    "if len(frequent_customers) > 0:\n",
    "    print(f\"✓ LOYALTY: {len(frequent_customers):,} frequent customers with avg {frequent_customers['orders_placed'].mean():.1f} orders\")\n",
    "    print(f\"  • Avg satisfaction: {frequent_customers['avg_review'].mean():.2f}/5.0\")\n",
    "\n",
    "# Customer acquisition opportunity\n",
    "low_frequency = customer_summary[customer_summary['frequency_segment'] == 'Infrequent']\n",
    "if len(low_frequency) > 0:\n",
    "    retention_opportunity = (low_frequency['total_spent'] * 2).sum()  # Potential if doubled frequency\n",
    "    print(f\"→ OPPORTUNITY: {len(low_frequency):,} infrequent customers represent ${retention_opportunity:,.0f} retention potential\")\n",
    "\n",
    "# Customer satisfaction by segment\n",
    "for spending_seg in ['Low Spender', 'Medium Spender', 'High Spender']:\n",
    "    seg_data = customer_summary[customer_summary['spending_segment'] == spending_seg]\n",
    "    if len(seg_data) > 0:\n",
    "        avg_satisfaction = seg_data['avg_review'].mean()\n",
    "        if avg_satisfaction < 4.0:\n",
    "            print(f\"⚠ {spending_seg.upper()}: Below-average satisfaction ({avg_satisfaction:.2f}) needs attention\")\n",
    "\n",
    "print(f\"\\nSEGMENT SUMMARY:\")\n",
    "for spending_seg in ['High Spender', 'Medium Spender', 'Low Spender']:\n",
    "    seg_data = customer_summary[customer_summary['spending_segment'] == spending_seg]\n",
    "    if len(seg_data) > 0:\n",
    "        total_revenue = seg_data['total_spent'].sum()\n",
    "        avg_clv = seg_data['total_spent'].mean()\n",
    "        print(f\"  • {spending_seg}: {len(seg_data):,} customers | ${total_revenue:,.0f} total | ${avg_clv:.0f} avg CLV\")"
   ]
  },
  {
   "cell_type": "code",
   "execution_count": 18,
   "metadata": {},
   "outputs": [
    {
     "name": "stdout",
     "output_type": "stream",
     "text": [
      "REVIEW SCORES BY PRODUCT CATEGORY:\n",
      "==================================================\n",
      "Toys_Games                4.16/5.0 (315 reviews)\n",
      "Grocery_Gourmet_Food      4.13/5.0 (236 reviews)\n",
      "Clothing_Shoes_Jewelry    4.13/5.0 (617 reviews)\n",
      "Books_Media               4.12/5.0 (486 reviews)\n",
      "Automotive                4.12/5.0 (346 reviews)\n",
      "Sports_Outdoors           4.11/5.0 (478 reviews)\n",
      "Beauty_Personal_Care      4.08/5.0 (228 reviews)\n",
      "Electronics               4.08/5.0 (942 reviews)\n",
      "Home_Garden               4.08/5.0 (830 reviews)\n",
      "Health_Personal_Care      4.07/5.0 (436 reviews)\n"
     ]
    },
    {
     "data": {
      "application/vnd.plotly.v1+json": {
       "config": {
        "plotlyServerURL": "https://plot.ly"
       },
       "data": [
        {
         "marker": {
          "color": "#2ca02c"
         },
         "orientation": "h",
         "text": [
          "4.16",
          "4.13",
          "4.13",
          "4.12",
          "4.12",
          "4.11",
          "4.08",
          "4.08",
          "4.08",
          "4.07",
          "4.07",
          "4.01",
          "3.96"
         ],
         "textposition": "outside",
         "type": "bar",
         "x": {
          "bdata": "XcqlXMqlEEDvy2MrgoYQQJqsYH/FhBBAkTLwdGt+EEC9gG1OV3kQQAW1GZiucxBAVVVVVVVVEEBnjpYNcVAQQNgeclkxUBBAsgQ27SdLEECEIhShCEUQQN1ginzWDRBAUPqkT/qkD0A=",
          "dtype": "f8"
         },
         "y": [
          "Toys_Games",
          "Grocery_Gourmet_Food",
          "Clothing_Shoes_Jewelry",
          "Books_Media",
          "Automotive",
          "Sports_Outdoors",
          "Beauty_Personal_Care",
          "Electronics",
          "Home_Garden",
          "Health_Personal_Care",
          "Baby_Products",
          "Tools_Home_Improvement",
          "Pet_Supplies"
         ]
        }
       ],
       "layout": {
        "height": 400,
        "template": {
         "data": {
          "bar": [
           {
            "error_x": {
             "color": "#2a3f5f"
            },
            "error_y": {
             "color": "#2a3f5f"
            },
            "marker": {
             "line": {
              "color": "white",
              "width": 0.5
             },
             "pattern": {
              "fillmode": "overlay",
              "size": 10,
              "solidity": 0.2
             }
            },
            "type": "bar"
           }
          ],
          "barpolar": [
           {
            "marker": {
             "line": {
              "color": "white",
              "width": 0.5
             },
             "pattern": {
              "fillmode": "overlay",
              "size": 10,
              "solidity": 0.2
             }
            },
            "type": "barpolar"
           }
          ],
          "carpet": [
           {
            "aaxis": {
             "endlinecolor": "#2a3f5f",
             "gridcolor": "#C8D4E3",
             "linecolor": "#C8D4E3",
             "minorgridcolor": "#C8D4E3",
             "startlinecolor": "#2a3f5f"
            },
            "baxis": {
             "endlinecolor": "#2a3f5f",
             "gridcolor": "#C8D4E3",
             "linecolor": "#C8D4E3",
             "minorgridcolor": "#C8D4E3",
             "startlinecolor": "#2a3f5f"
            },
            "type": "carpet"
           }
          ],
          "choropleth": [
           {
            "colorbar": {
             "outlinewidth": 0,
             "ticks": ""
            },
            "type": "choropleth"
           }
          ],
          "contour": [
           {
            "colorbar": {
             "outlinewidth": 0,
             "ticks": ""
            },
            "colorscale": [
             [
              0,
              "#0d0887"
             ],
             [
              0.1111111111111111,
              "#46039f"
             ],
             [
              0.2222222222222222,
              "#7201a8"
             ],
             [
              0.3333333333333333,
              "#9c179e"
             ],
             [
              0.4444444444444444,
              "#bd3786"
             ],
             [
              0.5555555555555556,
              "#d8576b"
             ],
             [
              0.6666666666666666,
              "#ed7953"
             ],
             [
              0.7777777777777778,
              "#fb9f3a"
             ],
             [
              0.8888888888888888,
              "#fdca26"
             ],
             [
              1,
              "#f0f921"
             ]
            ],
            "type": "contour"
           }
          ],
          "contourcarpet": [
           {
            "colorbar": {
             "outlinewidth": 0,
             "ticks": ""
            },
            "type": "contourcarpet"
           }
          ],
          "heatmap": [
           {
            "colorbar": {
             "outlinewidth": 0,
             "ticks": ""
            },
            "colorscale": [
             [
              0,
              "#0d0887"
             ],
             [
              0.1111111111111111,
              "#46039f"
             ],
             [
              0.2222222222222222,
              "#7201a8"
             ],
             [
              0.3333333333333333,
              "#9c179e"
             ],
             [
              0.4444444444444444,
              "#bd3786"
             ],
             [
              0.5555555555555556,
              "#d8576b"
             ],
             [
              0.6666666666666666,
              "#ed7953"
             ],
             [
              0.7777777777777778,
              "#fb9f3a"
             ],
             [
              0.8888888888888888,
              "#fdca26"
             ],
             [
              1,
              "#f0f921"
             ]
            ],
            "type": "heatmap"
           }
          ],
          "histogram": [
           {
            "marker": {
             "pattern": {
              "fillmode": "overlay",
              "size": 10,
              "solidity": 0.2
             }
            },
            "type": "histogram"
           }
          ],
          "histogram2d": [
           {
            "colorbar": {
             "outlinewidth": 0,
             "ticks": ""
            },
            "colorscale": [
             [
              0,
              "#0d0887"
             ],
             [
              0.1111111111111111,
              "#46039f"
             ],
             [
              0.2222222222222222,
              "#7201a8"
             ],
             [
              0.3333333333333333,
              "#9c179e"
             ],
             [
              0.4444444444444444,
              "#bd3786"
             ],
             [
              0.5555555555555556,
              "#d8576b"
             ],
             [
              0.6666666666666666,
              "#ed7953"
             ],
             [
              0.7777777777777778,
              "#fb9f3a"
             ],
             [
              0.8888888888888888,
              "#fdca26"
             ],
             [
              1,
              "#f0f921"
             ]
            ],
            "type": "histogram2d"
           }
          ],
          "histogram2dcontour": [
           {
            "colorbar": {
             "outlinewidth": 0,
             "ticks": ""
            },
            "colorscale": [
             [
              0,
              "#0d0887"
             ],
             [
              0.1111111111111111,
              "#46039f"
             ],
             [
              0.2222222222222222,
              "#7201a8"
             ],
             [
              0.3333333333333333,
              "#9c179e"
             ],
             [
              0.4444444444444444,
              "#bd3786"
             ],
             [
              0.5555555555555556,
              "#d8576b"
             ],
             [
              0.6666666666666666,
              "#ed7953"
             ],
             [
              0.7777777777777778,
              "#fb9f3a"
             ],
             [
              0.8888888888888888,
              "#fdca26"
             ],
             [
              1,
              "#f0f921"
             ]
            ],
            "type": "histogram2dcontour"
           }
          ],
          "mesh3d": [
           {
            "colorbar": {
             "outlinewidth": 0,
             "ticks": ""
            },
            "type": "mesh3d"
           }
          ],
          "parcoords": [
           {
            "line": {
             "colorbar": {
              "outlinewidth": 0,
              "ticks": ""
             }
            },
            "type": "parcoords"
           }
          ],
          "pie": [
           {
            "automargin": true,
            "type": "pie"
           }
          ],
          "scatter": [
           {
            "fillpattern": {
             "fillmode": "overlay",
             "size": 10,
             "solidity": 0.2
            },
            "type": "scatter"
           }
          ],
          "scatter3d": [
           {
            "line": {
             "colorbar": {
              "outlinewidth": 0,
              "ticks": ""
             }
            },
            "marker": {
             "colorbar": {
              "outlinewidth": 0,
              "ticks": ""
             }
            },
            "type": "scatter3d"
           }
          ],
          "scattercarpet": [
           {
            "marker": {
             "colorbar": {
              "outlinewidth": 0,
              "ticks": ""
             }
            },
            "type": "scattercarpet"
           }
          ],
          "scattergeo": [
           {
            "marker": {
             "colorbar": {
              "outlinewidth": 0,
              "ticks": ""
             }
            },
            "type": "scattergeo"
           }
          ],
          "scattergl": [
           {
            "marker": {
             "colorbar": {
              "outlinewidth": 0,
              "ticks": ""
             }
            },
            "type": "scattergl"
           }
          ],
          "scattermap": [
           {
            "marker": {
             "colorbar": {
              "outlinewidth": 0,
              "ticks": ""
             }
            },
            "type": "scattermap"
           }
          ],
          "scattermapbox": [
           {
            "marker": {
             "colorbar": {
              "outlinewidth": 0,
              "ticks": ""
             }
            },
            "type": "scattermapbox"
           }
          ],
          "scatterpolar": [
           {
            "marker": {
             "colorbar": {
              "outlinewidth": 0,
              "ticks": ""
             }
            },
            "type": "scatterpolar"
           }
          ],
          "scatterpolargl": [
           {
            "marker": {
             "colorbar": {
              "outlinewidth": 0,
              "ticks": ""
             }
            },
            "type": "scatterpolargl"
           }
          ],
          "scatterternary": [
           {
            "marker": {
             "colorbar": {
              "outlinewidth": 0,
              "ticks": ""
             }
            },
            "type": "scatterternary"
           }
          ],
          "surface": [
           {
            "colorbar": {
             "outlinewidth": 0,
             "ticks": ""
            },
            "colorscale": [
             [
              0,
              "#0d0887"
             ],
             [
              0.1111111111111111,
              "#46039f"
             ],
             [
              0.2222222222222222,
              "#7201a8"
             ],
             [
              0.3333333333333333,
              "#9c179e"
             ],
             [
              0.4444444444444444,
              "#bd3786"
             ],
             [
              0.5555555555555556,
              "#d8576b"
             ],
             [
              0.6666666666666666,
              "#ed7953"
             ],
             [
              0.7777777777777778,
              "#fb9f3a"
             ],
             [
              0.8888888888888888,
              "#fdca26"
             ],
             [
              1,
              "#f0f921"
             ]
            ],
            "type": "surface"
           }
          ],
          "table": [
           {
            "cells": {
             "fill": {
              "color": "#EBF0F8"
             },
             "line": {
              "color": "white"
             }
            },
            "header": {
             "fill": {
              "color": "#C8D4E3"
             },
             "line": {
              "color": "white"
             }
            },
            "type": "table"
           }
          ]
         },
         "layout": {
          "annotationdefaults": {
           "arrowcolor": "#2a3f5f",
           "arrowhead": 0,
           "arrowwidth": 1
          },
          "autotypenumbers": "strict",
          "coloraxis": {
           "colorbar": {
            "outlinewidth": 0,
            "ticks": ""
           }
          },
          "colorscale": {
           "diverging": [
            [
             0,
             "#8e0152"
            ],
            [
             0.1,
             "#c51b7d"
            ],
            [
             0.2,
             "#de77ae"
            ],
            [
             0.3,
             "#f1b6da"
            ],
            [
             0.4,
             "#fde0ef"
            ],
            [
             0.5,
             "#f7f7f7"
            ],
            [
             0.6,
             "#e6f5d0"
            ],
            [
             0.7,
             "#b8e186"
            ],
            [
             0.8,
             "#7fbc41"
            ],
            [
             0.9,
             "#4d9221"
            ],
            [
             1,
             "#276419"
            ]
           ],
           "sequential": [
            [
             0,
             "#0d0887"
            ],
            [
             0.1111111111111111,
             "#46039f"
            ],
            [
             0.2222222222222222,
             "#7201a8"
            ],
            [
             0.3333333333333333,
             "#9c179e"
            ],
            [
             0.4444444444444444,
             "#bd3786"
            ],
            [
             0.5555555555555556,
             "#d8576b"
            ],
            [
             0.6666666666666666,
             "#ed7953"
            ],
            [
             0.7777777777777778,
             "#fb9f3a"
            ],
            [
             0.8888888888888888,
             "#fdca26"
            ],
            [
             1,
             "#f0f921"
            ]
           ],
           "sequentialminus": [
            [
             0,
             "#0d0887"
            ],
            [
             0.1111111111111111,
             "#46039f"
            ],
            [
             0.2222222222222222,
             "#7201a8"
            ],
            [
             0.3333333333333333,
             "#9c179e"
            ],
            [
             0.4444444444444444,
             "#bd3786"
            ],
            [
             0.5555555555555556,
             "#d8576b"
            ],
            [
             0.6666666666666666,
             "#ed7953"
            ],
            [
             0.7777777777777778,
             "#fb9f3a"
            ],
            [
             0.8888888888888888,
             "#fdca26"
            ],
            [
             1,
             "#f0f921"
            ]
           ]
          },
          "colorway": [
           "#636efa",
           "#EF553B",
           "#00cc96",
           "#ab63fa",
           "#FFA15A",
           "#19d3f3",
           "#FF6692",
           "#B6E880",
           "#FF97FF",
           "#FECB52"
          ],
          "font": {
           "color": "#2a3f5f"
          },
          "geo": {
           "bgcolor": "white",
           "lakecolor": "white",
           "landcolor": "white",
           "showlakes": true,
           "showland": true,
           "subunitcolor": "#C8D4E3"
          },
          "hoverlabel": {
           "align": "left"
          },
          "hovermode": "closest",
          "mapbox": {
           "style": "light"
          },
          "paper_bgcolor": "white",
          "plot_bgcolor": "white",
          "polar": {
           "angularaxis": {
            "gridcolor": "#EBF0F8",
            "linecolor": "#EBF0F8",
            "ticks": ""
           },
           "bgcolor": "white",
           "radialaxis": {
            "gridcolor": "#EBF0F8",
            "linecolor": "#EBF0F8",
            "ticks": ""
           }
          },
          "scene": {
           "xaxis": {
            "backgroundcolor": "white",
            "gridcolor": "#DFE8F3",
            "gridwidth": 2,
            "linecolor": "#EBF0F8",
            "showbackground": true,
            "ticks": "",
            "zerolinecolor": "#EBF0F8"
           },
           "yaxis": {
            "backgroundcolor": "white",
            "gridcolor": "#DFE8F3",
            "gridwidth": 2,
            "linecolor": "#EBF0F8",
            "showbackground": true,
            "ticks": "",
            "zerolinecolor": "#EBF0F8"
           },
           "zaxis": {
            "backgroundcolor": "white",
            "gridcolor": "#DFE8F3",
            "gridwidth": 2,
            "linecolor": "#EBF0F8",
            "showbackground": true,
            "ticks": "",
            "zerolinecolor": "#EBF0F8"
           }
          },
          "shapedefaults": {
           "line": {
            "color": "#2a3f5f"
           }
          },
          "ternary": {
           "aaxis": {
            "gridcolor": "#DFE8F3",
            "linecolor": "#A2B1C6",
            "ticks": ""
           },
           "baxis": {
            "gridcolor": "#DFE8F3",
            "linecolor": "#A2B1C6",
            "ticks": ""
           },
           "bgcolor": "white",
           "caxis": {
            "gridcolor": "#DFE8F3",
            "linecolor": "#A2B1C6",
            "ticks": ""
           }
          },
          "title": {
           "x": 0.05
          },
          "xaxis": {
           "automargin": true,
           "gridcolor": "#EBF0F8",
           "linecolor": "#EBF0F8",
           "ticks": "",
           "title": {
            "standoff": 15
           },
           "zerolinecolor": "#EBF0F8",
           "zerolinewidth": 2
          },
          "yaxis": {
           "automargin": true,
           "gridcolor": "#EBF0F8",
           "linecolor": "#EBF0F8",
           "ticks": "",
           "title": {
            "standoff": 15
           },
           "zerolinecolor": "#EBF0F8",
           "zerolinewidth": 2
          }
         }
        },
        "title": {
         "text": "Average Review Score by Product Category - 2023"
        },
        "xaxis": {
         "range": [
          0,
          5
         ],
         "title": {
          "text": "Average Review Score (1-5)"
         }
        },
        "yaxis": {
         "categoryorder": "total ascending",
         "title": {
          "text": "Product Category"
         }
        }
       }
      }
     },
     "metadata": {},
     "output_type": "display_data"
    }
   ],
   "source": [
    "# Detailed review score analysis\n",
    "review_data = current_period_df.dropna(subset=['review_score'])\n",
    "\n",
    "if not review_data.empty:\n",
    "    # Calculate review score by category\n",
    "    category_reviews = review_data.groupby('product_category_name')['review_score'].agg(['mean', 'count']).reset_index()\n",
    "    category_reviews = category_reviews[category_reviews['count'] >= 10]  # Filter for statistical significance\n",
    "    category_reviews = category_reviews.sort_values('mean', ascending=False)\n",
    "    \n",
    "    print(\"REVIEW SCORES BY PRODUCT CATEGORY:\")\n",
    "    print(\"=\" * 50)\n",
    "    for _, row in category_reviews.head(10).iterrows():\n",
    "        print(f\"{row['product_category_name'].title():25} {row['mean']:.2f}/5.0 ({int(row['count']):>3} reviews)\")\n",
    "    \n",
    "    # Create review score by category chart\n",
    "    fig = go.Figure(data=[\n",
    "        go.Bar(\n",
    "            y=category_reviews['product_category_name'].str.title(),\n",
    "            x=category_reviews['mean'],\n",
    "            orientation='h',\n",
    "            marker_color=BUSINESS_COLORS['success'],\n",
    "            text=[f'{x:.2f}' for x in category_reviews['mean']],\n",
    "            textposition='outside'\n",
    "        )\n",
    "    ])\n",
    "    \n",
    "    fig.update_layout(\n",
    "        title=f'Average Review Score by Product Category - {ANALYSIS_CONFIG[\"current_year\"]}',\n",
    "        xaxis_title='Average Review Score (1-5)',\n",
    "        yaxis_title='Product Category',\n",
    "        yaxis={'categoryorder': 'total ascending'},\n",
    "        template='plotly_white',\n",
    "        height=400,\n",
    "        xaxis_range=[0, 5]\n",
    "    )\n",
    "    \n",
    "    fig.show()\n",
    "else:\n",
    "    print(\"Review data not available for analysis\")"
   ]
  },
  {
   "cell_type": "code",
   "execution_count": 19,
   "metadata": {},
   "outputs": [
    {
     "name": "stdout",
     "output_type": "stream",
     "text": [
      "MARKET OPPORTUNITY ANALYSIS\n",
      "==================================================\n",
      "Identified 1 underperforming categories with high AOV potential\n",
      "Identified 0 geographic expansion opportunities\n"
     ]
    },
    {
     "name": "stderr",
     "output_type": "stream",
     "text": [
      "/var/folders/bx/r1d6g3hx7_5b_0_hswxy4hxc0000gn/T/ipykernel_96194/3440562108.py:103: FutureWarning:\n",
      "\n",
      "The default of observed=False is deprecated and will be changed to True in a future version of pandas. Pass observed=False to retain current behavior or observed=True to adopt the future default and silence this warning.\n",
      "\n"
     ]
    },
    {
     "data": {
      "application/vnd.plotly.v1+json": {
       "config": {
        "plotlyServerURL": "https://plot.ly"
       },
       "data": [
        {
         "marker": {
          "color": {
           "bdata": "LMRITeIo5D9ORN4b4wbkP9ivOjJQ2uI/SylUtC7B4z8VPdm3fHDjPz1z4cYyk+M/OO80uw7z4j8/Va+CP/vjPyCo8raWH+I/ea6+zn+Q4z9648aDKH/iPx160KkWgOE/nBho5fvg4z8=",
           "dtype": "f8"
          },
          "colorbar": {
           "title": {
            "text": "Growth Potential"
           }
          },
          "colorscale": [
           [
            0,
            "#440154"
           ],
           [
            0.1111111111111111,
            "#482878"
           ],
           [
            0.2222222222222222,
            "#3e4989"
           ],
           [
            0.3333333333333333,
            "#31688e"
           ],
           [
            0.4444444444444444,
            "#26828e"
           ],
           [
            0.5555555555555556,
            "#1f9e89"
           ],
           [
            0.6666666666666666,
            "#35b779"
           ],
           [
            0.7777777777777778,
            "#6ece58"
           ],
           [
            0.8888888888888888,
            "#b5de2b"
           ],
           [
            1,
            "#fde725"
           ]
          ],
          "showscale": true,
          "size": {
           "bdata": "zczMzMysTkAAAAAAACBKQAAAAAAAIEBAZmZmZmamN0AzMzMzM7NEQM3MzMzMDDdAZmZmZmamPkDNzMzMzEwlQGZmZmZm5i5AzczMzMwsQUDNzMzMzEwxQJqZmZmZmRlAZmZmZmZmCkA=",
           "dtype": "f8"
          }
         },
         "mode": "markers+text",
         "name": "Categories",
         "text": [
          "electronic",
          "home_garde",
          "sports_out",
          "automotive",
          "clothing_s",
          "toys_games",
          "health_per",
          "tools_home",
          "beauty_per",
          "books_medi",
          "grocery_go",
          "baby_produ",
          "pet_suppli"
         ],
         "textposition": "top center",
         "type": "scatter",
         "x": {
          "bdata": "mpmZmZnZREDsUbgehas5QJqZmZmZmSBAexSuR+F6HUC4HoXrUbgbQLgehetRuABAMzMzMzMz/z/sUbgehev5P1yPwvUoXPc/ZmZmZmZm8j+amZmZmZnpPwAAAAAAAOg/4XoUrkfhyj8=",
          "dtype": "f8"
         },
         "xaxis": "x",
         "y": {
          "bdata": "ZmZmZmbYkUCuR+F6FMyJQIXrUbgeBXtA7FG4HoVdgEA9CtejcJFxQGZmZmZmBmNAKVyPwvWoWkB7FK5H4dpvQHE9Ctej6GNAcT0K16MQTEDsUbgehXtTQPYoXI/CtWhAMzMzMzMDW0A=",
          "dtype": "f8"
         },
         "yaxis": "y"
        },
        {
         "line": {
          "color": "#1f77b4",
          "width": 3
         },
         "marker": {
          "size": 10
         },
         "mode": "lines+markers",
         "name": "Monthly Revenue",
         "type": "scatter",
         "x": {
          "bdata": "AQAAAAIAAAADAAAABAAAAAUAAAAGAAAABwAAAAgAAAAJAAAACgAAAAsAAAAMAAAA",
          "dtype": "i4"
         },
         "xaxis": "x3",
         "y": {
          "bdata": "uB6F691iEUGPwvUoWuQQQUjhehTLbhFBXI/C9RT7DkFxPQrXj2QSQRSuR+GapRFB9ihcj0UUEkFmZmZm1n4RQZqZmZnEihJBMzMzM5G5D0EK16Nw960PQYXrUbg9CRBB",
          "dtype": "f8"
         },
         "yaxis": "y3"
        },
        {
         "line": {
          "color": "#2ca02c",
          "dash": "dash",
          "width": 2
         },
         "marker": {
          "size": 8
         },
         "mode": "lines+markers",
         "name": "Revenue per Order",
         "type": "scatter",
         "x": {
          "bdata": "AQAAAAIAAAADAAAABAAAAAUAAAAGAAAABwAAAAgAAAAJAAAACgAAAAsAAAAMAAAA",
          "dtype": "i4"
         },
         "xaxis": "x3",
         "y": {
          "bdata": "oNMGOn0uh0C/WPKLzYWGQFJ126pdp4ZARVythHNvhUC2Zl1r1seHQOiUqAYUQYZAxJh97xadh0Cu240rG+OHQCMiIiIGuYhAaPuN085thUBcj8L1pB6FQNcXES45N4VA",
          "dtype": "f8"
         },
         "yaxis": "y3"
        },
        {
         "marker": {
          "color": [
           "#d62728",
           "#ff7f0e",
           "#2ca02c"
          ]
         },
         "text": {
          "bdata": "AAAAAADyqEAAAAAAABB0QAAAAAAAADRA",
          "dtype": "f8"
         },
         "textposition": "outside",
         "type": "bar",
         "x": [
          "Low Spender",
          "Medium Spender",
          "High Spender"
         ],
         "xaxis": "x4",
         "y": {
          "bdata": "eQxBARQA",
          "dtype": "i2"
         },
         "yaxis": "y4"
        }
       ],
       "layout": {
        "annotations": [
         {
          "font": {
           "size": 16
          },
          "showarrow": false,
          "text": "Category Growth Opportunities",
          "x": 0.225,
          "xanchor": "center",
          "xref": "paper",
          "y": 1,
          "yanchor": "bottom",
          "yref": "paper"
         },
         {
          "font": {
           "size": 16
          },
          "showarrow": false,
          "text": "Geographic Expansion Potential",
          "x": 0.775,
          "xanchor": "center",
          "xref": "paper",
          "y": 1,
          "yanchor": "bottom",
          "yref": "paper"
         },
         {
          "font": {
           "size": 16
          },
          "showarrow": false,
          "text": "Seasonal Revenue Patterns",
          "x": 0.225,
          "xanchor": "center",
          "xref": "paper",
          "y": 0.375,
          "yanchor": "bottom",
          "yref": "paper"
         },
         {
          "font": {
           "size": 16
          },
          "showarrow": false,
          "text": "Market Penetration Analysis",
          "x": 0.775,
          "xanchor": "center",
          "xref": "paper",
          "y": 0.375,
          "yanchor": "bottom",
          "yref": "paper"
         }
        ],
        "height": 700,
        "showlegend": false,
        "template": {
         "data": {
          "bar": [
           {
            "error_x": {
             "color": "#2a3f5f"
            },
            "error_y": {
             "color": "#2a3f5f"
            },
            "marker": {
             "line": {
              "color": "white",
              "width": 0.5
             },
             "pattern": {
              "fillmode": "overlay",
              "size": 10,
              "solidity": 0.2
             }
            },
            "type": "bar"
           }
          ],
          "barpolar": [
           {
            "marker": {
             "line": {
              "color": "white",
              "width": 0.5
             },
             "pattern": {
              "fillmode": "overlay",
              "size": 10,
              "solidity": 0.2
             }
            },
            "type": "barpolar"
           }
          ],
          "carpet": [
           {
            "aaxis": {
             "endlinecolor": "#2a3f5f",
             "gridcolor": "#C8D4E3",
             "linecolor": "#C8D4E3",
             "minorgridcolor": "#C8D4E3",
             "startlinecolor": "#2a3f5f"
            },
            "baxis": {
             "endlinecolor": "#2a3f5f",
             "gridcolor": "#C8D4E3",
             "linecolor": "#C8D4E3",
             "minorgridcolor": "#C8D4E3",
             "startlinecolor": "#2a3f5f"
            },
            "type": "carpet"
           }
          ],
          "choropleth": [
           {
            "colorbar": {
             "outlinewidth": 0,
             "ticks": ""
            },
            "type": "choropleth"
           }
          ],
          "contour": [
           {
            "colorbar": {
             "outlinewidth": 0,
             "ticks": ""
            },
            "colorscale": [
             [
              0,
              "#0d0887"
             ],
             [
              0.1111111111111111,
              "#46039f"
             ],
             [
              0.2222222222222222,
              "#7201a8"
             ],
             [
              0.3333333333333333,
              "#9c179e"
             ],
             [
              0.4444444444444444,
              "#bd3786"
             ],
             [
              0.5555555555555556,
              "#d8576b"
             ],
             [
              0.6666666666666666,
              "#ed7953"
             ],
             [
              0.7777777777777778,
              "#fb9f3a"
             ],
             [
              0.8888888888888888,
              "#fdca26"
             ],
             [
              1,
              "#f0f921"
             ]
            ],
            "type": "contour"
           }
          ],
          "contourcarpet": [
           {
            "colorbar": {
             "outlinewidth": 0,
             "ticks": ""
            },
            "type": "contourcarpet"
           }
          ],
          "heatmap": [
           {
            "colorbar": {
             "outlinewidth": 0,
             "ticks": ""
            },
            "colorscale": [
             [
              0,
              "#0d0887"
             ],
             [
              0.1111111111111111,
              "#46039f"
             ],
             [
              0.2222222222222222,
              "#7201a8"
             ],
             [
              0.3333333333333333,
              "#9c179e"
             ],
             [
              0.4444444444444444,
              "#bd3786"
             ],
             [
              0.5555555555555556,
              "#d8576b"
             ],
             [
              0.6666666666666666,
              "#ed7953"
             ],
             [
              0.7777777777777778,
              "#fb9f3a"
             ],
             [
              0.8888888888888888,
              "#fdca26"
             ],
             [
              1,
              "#f0f921"
             ]
            ],
            "type": "heatmap"
           }
          ],
          "histogram": [
           {
            "marker": {
             "pattern": {
              "fillmode": "overlay",
              "size": 10,
              "solidity": 0.2
             }
            },
            "type": "histogram"
           }
          ],
          "histogram2d": [
           {
            "colorbar": {
             "outlinewidth": 0,
             "ticks": ""
            },
            "colorscale": [
             [
              0,
              "#0d0887"
             ],
             [
              0.1111111111111111,
              "#46039f"
             ],
             [
              0.2222222222222222,
              "#7201a8"
             ],
             [
              0.3333333333333333,
              "#9c179e"
             ],
             [
              0.4444444444444444,
              "#bd3786"
             ],
             [
              0.5555555555555556,
              "#d8576b"
             ],
             [
              0.6666666666666666,
              "#ed7953"
             ],
             [
              0.7777777777777778,
              "#fb9f3a"
             ],
             [
              0.8888888888888888,
              "#fdca26"
             ],
             [
              1,
              "#f0f921"
             ]
            ],
            "type": "histogram2d"
           }
          ],
          "histogram2dcontour": [
           {
            "colorbar": {
             "outlinewidth": 0,
             "ticks": ""
            },
            "colorscale": [
             [
              0,
              "#0d0887"
             ],
             [
              0.1111111111111111,
              "#46039f"
             ],
             [
              0.2222222222222222,
              "#7201a8"
             ],
             [
              0.3333333333333333,
              "#9c179e"
             ],
             [
              0.4444444444444444,
              "#bd3786"
             ],
             [
              0.5555555555555556,
              "#d8576b"
             ],
             [
              0.6666666666666666,
              "#ed7953"
             ],
             [
              0.7777777777777778,
              "#fb9f3a"
             ],
             [
              0.8888888888888888,
              "#fdca26"
             ],
             [
              1,
              "#f0f921"
             ]
            ],
            "type": "histogram2dcontour"
           }
          ],
          "mesh3d": [
           {
            "colorbar": {
             "outlinewidth": 0,
             "ticks": ""
            },
            "type": "mesh3d"
           }
          ],
          "parcoords": [
           {
            "line": {
             "colorbar": {
              "outlinewidth": 0,
              "ticks": ""
             }
            },
            "type": "parcoords"
           }
          ],
          "pie": [
           {
            "automargin": true,
            "type": "pie"
           }
          ],
          "scatter": [
           {
            "fillpattern": {
             "fillmode": "overlay",
             "size": 10,
             "solidity": 0.2
            },
            "type": "scatter"
           }
          ],
          "scatter3d": [
           {
            "line": {
             "colorbar": {
              "outlinewidth": 0,
              "ticks": ""
             }
            },
            "marker": {
             "colorbar": {
              "outlinewidth": 0,
              "ticks": ""
             }
            },
            "type": "scatter3d"
           }
          ],
          "scattercarpet": [
           {
            "marker": {
             "colorbar": {
              "outlinewidth": 0,
              "ticks": ""
             }
            },
            "type": "scattercarpet"
           }
          ],
          "scattergeo": [
           {
            "marker": {
             "colorbar": {
              "outlinewidth": 0,
              "ticks": ""
             }
            },
            "type": "scattergeo"
           }
          ],
          "scattergl": [
           {
            "marker": {
             "colorbar": {
              "outlinewidth": 0,
              "ticks": ""
             }
            },
            "type": "scattergl"
           }
          ],
          "scattermap": [
           {
            "marker": {
             "colorbar": {
              "outlinewidth": 0,
              "ticks": ""
             }
            },
            "type": "scattermap"
           }
          ],
          "scattermapbox": [
           {
            "marker": {
             "colorbar": {
              "outlinewidth": 0,
              "ticks": ""
             }
            },
            "type": "scattermapbox"
           }
          ],
          "scatterpolar": [
           {
            "marker": {
             "colorbar": {
              "outlinewidth": 0,
              "ticks": ""
             }
            },
            "type": "scatterpolar"
           }
          ],
          "scatterpolargl": [
           {
            "marker": {
             "colorbar": {
              "outlinewidth": 0,
              "ticks": ""
             }
            },
            "type": "scatterpolargl"
           }
          ],
          "scatterternary": [
           {
            "marker": {
             "colorbar": {
              "outlinewidth": 0,
              "ticks": ""
             }
            },
            "type": "scatterternary"
           }
          ],
          "surface": [
           {
            "colorbar": {
             "outlinewidth": 0,
             "ticks": ""
            },
            "colorscale": [
             [
              0,
              "#0d0887"
             ],
             [
              0.1111111111111111,
              "#46039f"
             ],
             [
              0.2222222222222222,
              "#7201a8"
             ],
             [
              0.3333333333333333,
              "#9c179e"
             ],
             [
              0.4444444444444444,
              "#bd3786"
             ],
             [
              0.5555555555555556,
              "#d8576b"
             ],
             [
              0.6666666666666666,
              "#ed7953"
             ],
             [
              0.7777777777777778,
              "#fb9f3a"
             ],
             [
              0.8888888888888888,
              "#fdca26"
             ],
             [
              1,
              "#f0f921"
             ]
            ],
            "type": "surface"
           }
          ],
          "table": [
           {
            "cells": {
             "fill": {
              "color": "#EBF0F8"
             },
             "line": {
              "color": "white"
             }
            },
            "header": {
             "fill": {
              "color": "#C8D4E3"
             },
             "line": {
              "color": "white"
             }
            },
            "type": "table"
           }
          ]
         },
         "layout": {
          "annotationdefaults": {
           "arrowcolor": "#2a3f5f",
           "arrowhead": 0,
           "arrowwidth": 1
          },
          "autotypenumbers": "strict",
          "coloraxis": {
           "colorbar": {
            "outlinewidth": 0,
            "ticks": ""
           }
          },
          "colorscale": {
           "diverging": [
            [
             0,
             "#8e0152"
            ],
            [
             0.1,
             "#c51b7d"
            ],
            [
             0.2,
             "#de77ae"
            ],
            [
             0.3,
             "#f1b6da"
            ],
            [
             0.4,
             "#fde0ef"
            ],
            [
             0.5,
             "#f7f7f7"
            ],
            [
             0.6,
             "#e6f5d0"
            ],
            [
             0.7,
             "#b8e186"
            ],
            [
             0.8,
             "#7fbc41"
            ],
            [
             0.9,
             "#4d9221"
            ],
            [
             1,
             "#276419"
            ]
           ],
           "sequential": [
            [
             0,
             "#0d0887"
            ],
            [
             0.1111111111111111,
             "#46039f"
            ],
            [
             0.2222222222222222,
             "#7201a8"
            ],
            [
             0.3333333333333333,
             "#9c179e"
            ],
            [
             0.4444444444444444,
             "#bd3786"
            ],
            [
             0.5555555555555556,
             "#d8576b"
            ],
            [
             0.6666666666666666,
             "#ed7953"
            ],
            [
             0.7777777777777778,
             "#fb9f3a"
            ],
            [
             0.8888888888888888,
             "#fdca26"
            ],
            [
             1,
             "#f0f921"
            ]
           ],
           "sequentialminus": [
            [
             0,
             "#0d0887"
            ],
            [
             0.1111111111111111,
             "#46039f"
            ],
            [
             0.2222222222222222,
             "#7201a8"
            ],
            [
             0.3333333333333333,
             "#9c179e"
            ],
            [
             0.4444444444444444,
             "#bd3786"
            ],
            [
             0.5555555555555556,
             "#d8576b"
            ],
            [
             0.6666666666666666,
             "#ed7953"
            ],
            [
             0.7777777777777778,
             "#fb9f3a"
            ],
            [
             0.8888888888888888,
             "#fdca26"
            ],
            [
             1,
             "#f0f921"
            ]
           ]
          },
          "colorway": [
           "#636efa",
           "#EF553B",
           "#00cc96",
           "#ab63fa",
           "#FFA15A",
           "#19d3f3",
           "#FF6692",
           "#B6E880",
           "#FF97FF",
           "#FECB52"
          ],
          "font": {
           "color": "#2a3f5f"
          },
          "geo": {
           "bgcolor": "white",
           "lakecolor": "white",
           "landcolor": "white",
           "showlakes": true,
           "showland": true,
           "subunitcolor": "#C8D4E3"
          },
          "hoverlabel": {
           "align": "left"
          },
          "hovermode": "closest",
          "mapbox": {
           "style": "light"
          },
          "paper_bgcolor": "white",
          "plot_bgcolor": "white",
          "polar": {
           "angularaxis": {
            "gridcolor": "#EBF0F8",
            "linecolor": "#EBF0F8",
            "ticks": ""
           },
           "bgcolor": "white",
           "radialaxis": {
            "gridcolor": "#EBF0F8",
            "linecolor": "#EBF0F8",
            "ticks": ""
           }
          },
          "scene": {
           "xaxis": {
            "backgroundcolor": "white",
            "gridcolor": "#DFE8F3",
            "gridwidth": 2,
            "linecolor": "#EBF0F8",
            "showbackground": true,
            "ticks": "",
            "zerolinecolor": "#EBF0F8"
           },
           "yaxis": {
            "backgroundcolor": "white",
            "gridcolor": "#DFE8F3",
            "gridwidth": 2,
            "linecolor": "#EBF0F8",
            "showbackground": true,
            "ticks": "",
            "zerolinecolor": "#EBF0F8"
           },
           "zaxis": {
            "backgroundcolor": "white",
            "gridcolor": "#DFE8F3",
            "gridwidth": 2,
            "linecolor": "#EBF0F8",
            "showbackground": true,
            "ticks": "",
            "zerolinecolor": "#EBF0F8"
           }
          },
          "shapedefaults": {
           "line": {
            "color": "#2a3f5f"
           }
          },
          "ternary": {
           "aaxis": {
            "gridcolor": "#DFE8F3",
            "linecolor": "#A2B1C6",
            "ticks": ""
           },
           "baxis": {
            "gridcolor": "#DFE8F3",
            "linecolor": "#A2B1C6",
            "ticks": ""
           },
           "bgcolor": "white",
           "caxis": {
            "gridcolor": "#DFE8F3",
            "linecolor": "#A2B1C6",
            "ticks": ""
           }
          },
          "title": {
           "x": 0.05
          },
          "xaxis": {
           "automargin": true,
           "gridcolor": "#EBF0F8",
           "linecolor": "#EBF0F8",
           "ticks": "",
           "title": {
            "standoff": 15
           },
           "zerolinecolor": "#EBF0F8",
           "zerolinewidth": 2
          },
          "yaxis": {
           "automargin": true,
           "gridcolor": "#EBF0F8",
           "linecolor": "#EBF0F8",
           "ticks": "",
           "title": {
            "standoff": 15
           },
           "zerolinecolor": "#EBF0F8",
           "zerolinewidth": 2
          }
         }
        },
        "title": {
         "text": "Market Opportunity Dashboard - 2023"
        },
        "xaxis": {
         "anchor": "y",
         "domain": [
          0,
          0.45
         ],
         "title": {
          "text": "Revenue Share (%)"
         }
        },
        "xaxis2": {
         "anchor": "y2",
         "domain": [
          0.55,
          1
         ],
         "title": {
          "text": "Revenue per Customer ($)"
         }
        },
        "xaxis3": {
         "anchor": "y3",
         "domain": [
          0,
          0.45
         ],
         "title": {
          "text": "Month"
         }
        },
        "xaxis4": {
         "anchor": "y4",
         "domain": [
          0.55,
          1
         ],
         "title": {
          "text": "Customer Segment"
         }
        },
        "yaxis": {
         "anchor": "x",
         "domain": [
          0.625,
          1
         ],
         "title": {
          "text": "Average Order Value ($)"
         }
        },
        "yaxis2": {
         "anchor": "x2",
         "domain": [
          0.625,
          1
         ]
        },
        "yaxis3": {
         "anchor": "x3",
         "domain": [
          0,
          0.375
         ],
         "title": {
          "text": "Revenue ($)"
         }
        },
        "yaxis4": {
         "anchor": "x4",
         "domain": [
          0,
          0.375
         ],
         "title": {
          "text": "Customer Count"
         }
        }
       }
      }
     },
     "metadata": {},
     "output_type": "display_data"
    },
    {
     "name": "stdout",
     "output_type": "stream",
     "text": [
      "\n",
      "MARKET OPPORTUNITY INSIGHTS:\n",
      "==================================================\n",
      "🎯 CATEGORY OPPORTUNITIES:\n",
      "  • Tools_Home_Improvement: High AOV ($255) with $338,937 potential\n",
      "\n",
      "📊 SEASONAL PATTERNS:\n",
      "  • Peak month: 9 ($303,793)\n",
      "  • Low month: 4 ($253,795)\n",
      "  ✓ Stable seasonality (1.2x variation)\n",
      "\n",
      "💰 CUSTOMER UPGRADE OPPORTUNITY:\n",
      "  • 3,193 low spenders could generate $-256,865 additional revenue\n",
      "  • Target: Increase average spend from $716 to $635\n",
      "\n",
      "🎯 PRIORITY RECOMMENDATIONS:\n",
      "==================================================\n",
      "1. Focus marketing on underperforming high-AOV categories\n",
      "2. Expand into high-value geographic markets with low penetration\n",
      "3. Develop off-season promotional campaigns\n",
      "4. Implement customer upgrade programs for low spenders\n",
      "5. Leverage seasonal peaks for inventory and marketing planning\n"
     ]
    }
   ],
   "source": [
    "# Market Opportunity Analysis\n",
    "print(\"MARKET OPPORTUNITY ANALYSIS\")\n",
    "print(\"=\" * 50)\n",
    "\n",
    "# Identify underperforming categories with growth potential\n",
    "if not category_metrics.empty:\n",
    "    # Calculate opportunity metrics\n",
    "    category_metrics['growth_potential'] = (category_metrics['avg_order_value'] * category_metrics['unique_products']) / category_metrics['total_revenue']\n",
    "    category_metrics['customer_penetration'] = category_metrics['total_orders'] / current_period_df['customer_id'].nunique()\n",
    "    \n",
    "    # Identify opportunities\n",
    "    underperforming_categories = category_metrics[\n",
    "        (category_metrics['revenue_share_pct'] < 5) & \n",
    "        (category_metrics['avg_order_value'] > category_metrics['avg_order_value'].median())\n",
    "    ].head(5)\n",
    "    \n",
    "    print(f\"Identified {len(underperforming_categories)} underperforming categories with high AOV potential\")\n",
    "\n",
    "# Geographic opportunity analysis\n",
    "if not state_metrics.empty:\n",
    "    # Calculate geographic opportunities\n",
    "    state_metrics['revenue_per_customer'] = state_metrics['total_revenue'] / state_metrics['unique_customers']\n",
    "    state_metrics['market_density'] = state_metrics['unique_customers'] / state_metrics['total_revenue'] * 1000\n",
    "    \n",
    "    # Identify expansion opportunities (states with high revenue per customer but low market share)\n",
    "    expansion_opportunities = state_metrics[\n",
    "        (state_metrics['revenue_per_customer'] > state_metrics['revenue_per_customer'].median()) &\n",
    "        (state_metrics['revenue_share_pct'] < 2)\n",
    "    ].head(5)\n",
    "    \n",
    "    print(f\"Identified {len(expansion_opportunities)} geographic expansion opportunities\")\n",
    "\n",
    "# Seasonal opportunity analysis\n",
    "seasonal_data = current_period_df.groupby(current_period_df['order_purchase_timestamp'].dt.month).agg({\n",
    "    'price': 'sum',\n",
    "    'order_id': 'nunique',\n",
    "    'product_id': 'nunique'\n",
    "}).reset_index()\n",
    "seasonal_data.columns = ['month', 'revenue', 'orders', 'products']\n",
    "seasonal_data['revenue_per_order'] = seasonal_data['revenue'] / seasonal_data['orders']\n",
    "\n",
    "# Create market opportunity dashboard\n",
    "fig = make_subplots(\n",
    "    rows=2, cols=2,\n",
    "    subplot_titles=('Category Growth Opportunities', 'Geographic Expansion Potential', \n",
    "                   'Seasonal Revenue Patterns', 'Market Penetration Analysis'),\n",
    "    specs=[[{\"type\": \"scatter\"}, {\"type\": \"bar\"}],\n",
    "           [{\"type\": \"scatter\"}, {\"type\": \"bar\"}]]\n",
    ")\n",
    "\n",
    "# 1. Category opportunities scatter plot (Revenue Share vs AOV)\n",
    "if not category_metrics.empty:\n",
    "    fig.add_trace(go.Scatter(\n",
    "        x=category_metrics['revenue_share_pct'],\n",
    "        y=category_metrics['avg_order_value'],\n",
    "        mode='markers+text',\n",
    "        marker=dict(\n",
    "            size=category_metrics['total_orders']/20,  # Size by order volume\n",
    "            color=category_metrics['growth_potential'],\n",
    "            colorscale='Viridis',\n",
    "            showscale=True,\n",
    "            colorbar=dict(title=\"Growth Potential\")\n",
    "        ),\n",
    "        text=category_metrics['product_category_name'].str[:10],  # Abbreviated names\n",
    "        textposition='top center',\n",
    "        name='Categories'\n",
    "    ), row=1, col=1)\n",
    "\n",
    "# 2. Geographic expansion opportunities\n",
    "if not state_metrics.empty and len(expansion_opportunities) > 0:\n",
    "    fig.add_trace(go.Bar(\n",
    "        x=expansion_opportunities['revenue_per_customer'],\n",
    "        y=expansion_opportunities['customer_state'],\n",
    "        orientation='h',\n",
    "        marker_color=BUSINESS_COLORS['warning'],\n",
    "        text=[f'${x:,.0f}' for x in expansion_opportunities['revenue_per_customer']],\n",
    "        textposition='outside'\n",
    "    ), row=1, col=2)\n",
    "\n",
    "# 3. Seasonal revenue patterns\n",
    "fig.add_trace(go.Scatter(\n",
    "    x=seasonal_data['month'],\n",
    "    y=seasonal_data['revenue'],\n",
    "    mode='lines+markers',\n",
    "    line=dict(color=BUSINESS_COLORS['primary'], width=3),\n",
    "    marker=dict(size=10),\n",
    "    name='Monthly Revenue'\n",
    "), row=2, col=1)\n",
    "\n",
    "# Add secondary y-axis for revenue per order\n",
    "fig.add_trace(go.Scatter(\n",
    "    x=seasonal_data['month'],\n",
    "    y=seasonal_data['revenue_per_order'],\n",
    "    mode='lines+markers',\n",
    "    line=dict(color=BUSINESS_COLORS['success'], width=2, dash='dash'),\n",
    "    marker=dict(size=8),\n",
    "    name='Revenue per Order',\n",
    "    yaxis='y4'\n",
    "), row=2, col=1)\n",
    "\n",
    "# 4. Market penetration by customer segment\n",
    "if 'customer_summary' in locals():\n",
    "    penetration_analysis = customer_summary.groupby('spending_segment').agg({\n",
    "        'customer_id': 'count',\n",
    "        'total_spent': 'sum'\n",
    "    }).reset_index()\n",
    "    \n",
    "    fig.add_trace(go.Bar(\n",
    "        x=penetration_analysis['spending_segment'],\n",
    "        y=penetration_analysis['customer_id'],\n",
    "        marker_color=[BUSINESS_COLORS['danger'], BUSINESS_COLORS['warning'], BUSINESS_COLORS['success']],\n",
    "        text=penetration_analysis['customer_id'],\n",
    "        textposition='outside'\n",
    "    ), row=2, col=2)\n",
    "\n",
    "# Update layout\n",
    "fig.update_layout(\n",
    "    title_text=f\"Market Opportunity Dashboard - {ANALYSIS_CONFIG['current_year']}\",\n",
    "    template='plotly_white',\n",
    "    height=700,\n",
    "    showlegend=False\n",
    ")\n",
    "\n",
    "# Update axis labels\n",
    "fig.update_xaxes(title_text=\"Revenue Share (%)\", row=1, col=1)\n",
    "fig.update_yaxes(title_text=\"Average Order Value ($)\", row=1, col=1)\n",
    "fig.update_xaxes(title_text=\"Revenue per Customer ($)\", row=1, col=2)\n",
    "fig.update_xaxes(title_text=\"Month\", row=2, col=1)\n",
    "fig.update_yaxes(title_text=\"Revenue ($)\", row=2, col=1)\n",
    "fig.update_xaxes(title_text=\"Customer Segment\", row=2, col=2)\n",
    "fig.update_yaxes(title_text=\"Customer Count\", row=2, col=2)\n",
    "\n",
    "fig.show()\n",
    "\n",
    "# Market opportunity insights\n",
    "print(\"\\nMARKET OPPORTUNITY INSIGHTS:\")\n",
    "print(\"=\" * 50)\n",
    "\n",
    "# Category opportunities\n",
    "if not category_metrics.empty and len(underperforming_categories) > 0:\n",
    "    print(\"🎯 CATEGORY OPPORTUNITIES:\")\n",
    "    for _, cat in underperforming_categories.iterrows():\n",
    "        potential_revenue = cat['avg_order_value'] * cat['unique_products'] * 10  # Assuming 10x potential\n",
    "        print(f\"  • {cat['product_category_name'].title()}: High AOV (${cat['avg_order_value']:.0f}) with ${potential_revenue:,.0f} potential\")\n",
    "\n",
    "# Geographic opportunities  \n",
    "if not state_metrics.empty and len(expansion_opportunities) > 0:\n",
    "    print(\"\\n🗺️ GEOGRAPHIC EXPANSION:\")\n",
    "    for _, state in expansion_opportunities.iterrows():\n",
    "        market_potential = state['revenue_per_customer'] * state['unique_customers'] * 5  # 5x customer growth potential\n",
    "        print(f\"  • {state['customer_state']}: ${state['revenue_per_customer']:.0f} per customer, ${market_potential:,.0f} expansion potential\")\n",
    "\n",
    "# Seasonal opportunities\n",
    "peak_month = seasonal_data.loc[seasonal_data['revenue'].idxmax(), 'month']\n",
    "low_month = seasonal_data.loc[seasonal_data['revenue'].idxmin(), 'month']\n",
    "seasonality_ratio = seasonal_data['revenue'].max() / seasonal_data['revenue'].min()\n",
    "\n",
    "print(f\"\\n📊 SEASONAL PATTERNS:\")\n",
    "print(f\"  • Peak month: {peak_month} (${seasonal_data.loc[seasonal_data['month']==peak_month, 'revenue'].iloc[0]:,.0f})\")\n",
    "print(f\"  • Low month: {low_month} (${seasonal_data.loc[seasonal_data['month']==low_month, 'revenue'].iloc[0]:,.0f})\")\n",
    "if seasonality_ratio > 1.5:\n",
    "    print(f\"  ⚠ High seasonality ({seasonality_ratio:.1f}x variation) - opportunity for off-season promotions\")\n",
    "else:\n",
    "    print(f\"  ✓ Stable seasonality ({seasonality_ratio:.1f}x variation)\")\n",
    "\n",
    "# Customer segment opportunities\n",
    "if 'customer_summary' in locals():\n",
    "    low_spenders = customer_summary[customer_summary['spending_segment'] == 'Low Spender']\n",
    "    if len(low_spenders) > 0:\n",
    "        upgrade_potential = len(low_spenders) * (customer_summary['total_spent'].median() - low_spenders['total_spent'].mean())\n",
    "        print(f\"\\n💰 CUSTOMER UPGRADE OPPORTUNITY:\")\n",
    "        print(f\"  • {len(low_spenders):,} low spenders could generate ${upgrade_potential:,.0f} additional revenue\")\n",
    "        print(f\"  • Target: Increase average spend from ${low_spenders['total_spent'].mean():.0f} to ${customer_summary['total_spent'].median():.0f}\")\n",
    "\n",
    "print(\"\\n🎯 PRIORITY RECOMMENDATIONS:\")\n",
    "print(\"=\" * 50)\n",
    "print(\"1. Focus marketing on underperforming high-AOV categories\")\n",
    "print(\"2. Expand into high-value geographic markets with low penetration\") \n",
    "print(\"3. Develop off-season promotional campaigns\")\n",
    "print(\"4. Implement customer upgrade programs for low spenders\")\n",
    "print(\"5. Leverage seasonal peaks for inventory and marketing planning\")"
   ]
  },
  {
   "cell_type": "markdown",
   "metadata": {},
   "source": [
    "## Operational Performance\n",
    "\n",
    "### Order Fulfillment Metrics"
   ]
  },
  {
   "cell_type": "code",
   "execution_count": 20,
   "metadata": {},
   "outputs": [
    {
     "name": "stdout",
     "output_type": "stream",
     "text": [
      "Product category already exists in sales data, using existing categories\n",
      "Geographic data already exists in sales data, using existing data\n",
      "Review score already exists in sales data, using existing data\n",
      "EXECUTIVE SUMMARY\n",
      "============================================================\n",
      "Analysis Period: 2023\n",
      "Data Coverage: January 2023 - December 2023\n",
      "\n",
      "FINANCIAL PERFORMANCE:\n",
      "  • Total Revenue: $3,360,294.74\n",
      "  • Revenue Growth: -2.5% YoY\n",
      "  • Average Order Value: $724.98\n",
      "  • Total Orders: 4,635\n",
      "\n",
      "PRODUCT PERFORMANCE:\n",
      "  • Top Category: Electronics\n",
      "  • Top Category Revenue: $1,401,359.21 (41.7%)\n",
      "  • Categories Analyzed: 13\n",
      "\n",
      "CUSTOMER EXPERIENCE:\n",
      "  • Average Review Score: 4.10/5.0\n",
      "  • Customer Satisfaction: 74.1%\n",
      "  • Average Delivery Time: 8.0 days\n",
      "  • Fast Delivery Rate: 7.2%\n",
      "\n",
      "OPERATIONAL EXCELLENCE:\n",
      "  • Delivery Success Rate: 93.9%\n",
      "  • Order Fulfillment Rate: 96.9%\n",
      "  • Cancellation Rate: 1.4%\n",
      "\n",
      "MARKET REACH:\n",
      "  • States Served: 20\n",
      "  • Top State: CA ($537,880.74)\n",
      "  • Geographic Concentration: Top 5 states = 50.3% of revenue\n",
      "\n",
      "KEY INSIGHTS & RECOMMENDATIONS:\n",
      "============================================================\n",
      "⚠ ATTENTION: Negative revenue growth requires strategic review\n",
      "✓ SATISFACTION: High customer satisfaction scores support retention\n",
      "→ EFFICIENCY: Consider optimizing delivery operations\n",
      "✓ PORTFOLIO: Well-diversified product categories reduce risk\n",
      "\n",
      "============================================================\n",
      "Analysis completed successfully\n",
      "Report generated: 2025-08-11 23:18:29\n"
     ]
    }
   ],
   "source": [
    "# Generate comprehensive summary\n",
    "summary = generate_metrics_summary(\n",
    "    current_period_df, products_df, orders_df, customers_df, reviews_df,\n",
    "    f\"{ANALYSIS_CONFIG['current_year']} Analysis\"\n",
    ")\n",
    "\n",
    "# Create executive summary\n",
    "print(\"EXECUTIVE SUMMARY\")\n",
    "print(\"=\" * 60)\n",
    "print(f\"Analysis Period: {ANALYSIS_CONFIG['current_year']}\")\n",
    "print(f\"Data Coverage: {current_period_df['order_purchase_timestamp'].min().strftime('%B %Y')} - {current_period_df['order_purchase_timestamp'].max().strftime('%B %Y')}\")\n",
    "print()\n",
    "\n",
    "# Financial Performance\n",
    "print(\"FINANCIAL PERFORMANCE:\")\n",
    "rev_metrics = summary.get('revenue', {})\n",
    "print(f\"  • Total Revenue: ${rev_metrics.get('total_revenue', 0):,.2f}\")\n",
    "print(f\"  • Revenue Growth: {growth_metrics.get('revenue_growth_pct', 0):+.1f}% YoY\")\n",
    "print(f\"  • Average Order Value: ${rev_metrics.get('avg_order_value', 0):,.2f}\")\n",
    "print(f\"  • Total Orders: {rev_metrics.get('total_orders', 0):,}\")\n",
    "print()\n",
    "\n",
    "# Product Performance\n",
    "print(\"PRODUCT PERFORMANCE:\")\n",
    "if not category_metrics.empty and len(category_metrics) > 0:\n",
    "    top_category = category_metrics.iloc[0]\n",
    "    print(f\"  • Top Category: {top_category['product_category_name'].title()}\")\n",
    "    print(f\"  • Top Category Revenue: ${top_category['total_revenue']:,.2f} ({top_category['revenue_share_pct']:.1f}%)\")\n",
    "    print(f\"  • Categories Analyzed: {len(category_metrics)}\")\n",
    "else:\n",
    "    print(\"  • Product category data not available for analysis\")\n",
    "    print(f\"  • Total Products Sold: {current_period_df['product_id'].nunique():,}\")\n",
    "print()\n",
    "\n",
    "# Customer Experience\n",
    "print(\"CUSTOMER EXPERIENCE:\")\n",
    "cx = summary.get('customer_experience', {})\n",
    "if 'avg_review_score' in cx:\n",
    "    print(f\"  • Average Review Score: {cx['avg_review_score']:.2f}/5.0\")\n",
    "    print(f\"  • Customer Satisfaction: {cx.get('satisfaction_rate_pct', 0):.1f}%\")\n",
    "if 'avg_delivery_days' in cx:\n",
    "    print(f\"  • Average Delivery Time: {cx['avg_delivery_days']:.1f} days\")\n",
    "    print(f\"  • Fast Delivery Rate: {cx.get('fast_delivery_rate_pct', 0):.1f}%\")\n",
    "print()\n",
    "\n",
    "# Operational Excellence\n",
    "print(\"OPERATIONAL EXCELLENCE:\")\n",
    "ops = summary.get('operations', {})\n",
    "if 'delivery_rate_pct' in ops:\n",
    "    print(f\"  • Delivery Success Rate: {ops['delivery_rate_pct']:.1f}%\")\n",
    "    print(f\"  • Order Fulfillment Rate: {ops.get('fulfillment_rate_pct', 0):.1f}%\")\n",
    "    print(f\"  • Cancellation Rate: {ops.get('cancellation_rate_pct', 0):.1f}%\")\n",
    "print()\n",
    "\n",
    "# Geographic Reach\n",
    "print(\"MARKET REACH:\")\n",
    "if 'state_metrics' in locals() and not state_metrics.empty:\n",
    "    print(f\"  • States Served: {len(state_metrics)}\")\n",
    "    top_state = state_metrics.iloc[0]\n",
    "    print(f\"  • Top State: {top_state['customer_state']} (${top_state['total_revenue']:,.2f})\")\n",
    "    print(f\"  • Geographic Concentration: Top 5 states = {state_metrics.head(5)['revenue_share_pct'].sum():.1f}% of revenue\")\n",
    "else:\n",
    "    print(\"  • Geographic analysis not available\")\n",
    "print()\n",
    "\n",
    "print(\"KEY INSIGHTS & RECOMMENDATIONS:\")\n",
    "print(\"=\" * 60)\n",
    "\n",
    "# Growth insights\n",
    "if growth_metrics.get('revenue_growth_pct', 0) > 0:\n",
    "    print(\"✓ GROWTH: Positive revenue growth indicates healthy business expansion\")\n",
    "else:\n",
    "    print(\"⚠ ATTENTION: Negative revenue growth requires strategic review\")\n",
    "\n",
    "# Customer satisfaction insights\n",
    "avg_score = cx.get('avg_review_score', 0)\n",
    "if avg_score >= 4.0:\n",
    "    print(\"✓ SATISFACTION: High customer satisfaction scores support retention\")\n",
    "elif avg_score >= 3.5:\n",
    "    print(\"→ OPPORTUNITY: Moderate satisfaction - focus on service improvements\")\n",
    "else:\n",
    "    print(\"⚠ PRIORITY: Low satisfaction requires immediate attention\")\n",
    "\n",
    "# Delivery performance insights\n",
    "avg_delivery = cx.get('avg_delivery_days', 0)\n",
    "if avg_delivery <= 5:\n",
    "    print(\"✓ LOGISTICS: Fast delivery times enhance customer experience\")\n",
    "elif avg_delivery <= 10:\n",
    "    print(\"→ EFFICIENCY: Consider optimizing delivery operations\")\n",
    "else:\n",
    "    print(\"⚠ LOGISTICS: Extended delivery times may impact satisfaction\")\n",
    "\n",
    "# Product diversity insights\n",
    "if not category_metrics.empty and len(category_metrics) > 0:\n",
    "    top_category_share = category_metrics.iloc[0]['revenue_share_pct']\n",
    "    if top_category_share > 50:\n",
    "        print(\"→ DIVERSIFICATION: High category concentration - consider portfolio expansion\")\n",
    "    else:\n",
    "        print(\"✓ PORTFOLIO: Well-diversified product categories reduce risk\")\n",
    "\n",
    "print(\"\\n\" + \"=\" * 60)\n",
    "print(\"Analysis completed successfully\")\n",
    "print(f\"Report generated: {pd.Timestamp.now().strftime('%Y-%m-%d %H:%M:%S')}\")"
   ]
  },
  {
   "cell_type": "markdown",
   "metadata": {},
   "source": [
    "## Summary & Key Insights\n",
    "\n",
    "### Executive Summary Dashboard"
   ]
  },
  {
   "cell_type": "code",
   "execution_count": 21,
   "metadata": {},
   "outputs": [
    {
     "name": "stdout",
     "output_type": "stream",
     "text": [
      "Product category already exists in sales data, using existing categories\n",
      "Geographic data already exists in sales data, using existing data\n",
      "Review score already exists in sales data, using existing data\n",
      "EXECUTIVE SUMMARY\n",
      "============================================================\n",
      "Analysis Period: 2023\n",
      "Data Coverage: January 2023 - December 2023\n",
      "\n",
      "FINANCIAL PERFORMANCE:\n",
      "  • Total Revenue: $3,360,294.74\n",
      "  • Revenue Growth: -2.5% YoY\n",
      "  • Average Order Value: $724.98\n",
      "  • Total Orders: 4,635\n",
      "\n",
      "PRODUCT PERFORMANCE:\n",
      "  • Top Category: Electronics\n",
      "  • Top Category Revenue: $1,401,359.21 (41.7%)\n",
      "  • Categories Analyzed: 13\n",
      "\n",
      "CUSTOMER EXPERIENCE:\n",
      "  • Average Review Score: 4.10/5.0\n",
      "  • Customer Satisfaction: 74.1%\n",
      "  • Average Delivery Time: 8.0 days\n",
      "  • Fast Delivery Rate: 7.2%\n",
      "\n",
      "OPERATIONAL EXCELLENCE:\n",
      "  • Delivery Success Rate: 93.9%\n",
      "  • Order Fulfillment Rate: 96.9%\n",
      "  • Cancellation Rate: 1.4%\n",
      "\n",
      "MARKET REACH:\n",
      "  • States Served: 20\n",
      "  • Top State: CA ($537,880.74)\n",
      "  • Geographic Concentration: Top 5 states = 50.3% of revenue\n",
      "\n",
      "KEY INSIGHTS & RECOMMENDATIONS:\n",
      "============================================================\n",
      "⚠ ATTENTION: Negative revenue growth requires strategic review\n",
      "✓ SATISFACTION: High customer satisfaction scores support retention\n",
      "→ EFFICIENCY: Consider optimizing delivery operations\n",
      "✓ PORTFOLIO: Well-diversified product categories reduce risk\n",
      "\n",
      "============================================================\n",
      "Analysis completed successfully\n",
      "Report generated: 2025-08-11 23:18:29\n"
     ]
    }
   ],
   "source": [
    "# Generate comprehensive summary\n",
    "summary = generate_metrics_summary(\n",
    "    current_period_df, products_df, orders_df, customers_df, reviews_df,\n",
    "    f\"{ANALYSIS_CONFIG['current_year']} Analysis\"\n",
    ")\n",
    "\n",
    "# Create executive summary\n",
    "print(\"EXECUTIVE SUMMARY\")\n",
    "print(\"=\" * 60)\n",
    "print(f\"Analysis Period: {ANALYSIS_CONFIG['current_year']}\")\n",
    "print(f\"Data Coverage: {current_period_df['order_purchase_timestamp'].min().strftime('%B %Y')} - {current_period_df['order_purchase_timestamp'].max().strftime('%B %Y')}\")\n",
    "print()\n",
    "\n",
    "# Financial Performance\n",
    "print(\"FINANCIAL PERFORMANCE:\")\n",
    "rev_metrics = summary.get('revenue', {})\n",
    "print(f\"  • Total Revenue: ${rev_metrics.get('total_revenue', 0):,.2f}\")\n",
    "print(f\"  • Revenue Growth: {growth_metrics.get('revenue_growth_pct', 0):+.1f}% YoY\")\n",
    "print(f\"  • Average Order Value: ${rev_metrics.get('avg_order_value', 0):,.2f}\")\n",
    "print(f\"  • Total Orders: {rev_metrics.get('total_orders', 0):,}\")\n",
    "print()\n",
    "\n",
    "# Product Performance\n",
    "print(\"PRODUCT PERFORMANCE:\")\n",
    "if not category_metrics.empty:\n",
    "    top_category = category_metrics.iloc[0]\n",
    "    print(f\"  • Top Category: {top_category['product_category_name'].title()}\")\n",
    "    print(f\"  • Top Category Revenue: ${top_category['total_revenue']:,.2f} ({top_category['revenue_share_pct']:.1f}%)\")\n",
    "    print(f\"  • Categories Analyzed: {len(category_metrics)}\")\n",
    "print()\n",
    "\n",
    "# Customer Experience\n",
    "print(\"CUSTOMER EXPERIENCE:\")\n",
    "cx = summary.get('customer_experience', {})\n",
    "if 'avg_review_score' in cx:\n",
    "    print(f\"  • Average Review Score: {cx['avg_review_score']:.2f}/5.0\")\n",
    "    print(f\"  • Customer Satisfaction: {cx.get('satisfaction_rate_pct', 0):.1f}%\")\n",
    "if 'avg_delivery_days' in cx:\n",
    "    print(f\"  • Average Delivery Time: {cx['avg_delivery_days']:.1f} days\")\n",
    "    print(f\"  • Fast Delivery Rate: {cx.get('fast_delivery_rate_pct', 0):.1f}%\")\n",
    "print()\n",
    "\n",
    "# Operational Excellence\n",
    "print(\"OPERATIONAL EXCELLENCE:\")\n",
    "ops = summary.get('operations', {})\n",
    "if 'delivery_rate_pct' in ops:\n",
    "    print(f\"  • Delivery Success Rate: {ops['delivery_rate_pct']:.1f}%\")\n",
    "    print(f\"  • Order Fulfillment Rate: {ops.get('fulfillment_rate_pct', 0):.1f}%\")\n",
    "    print(f\"  • Cancellation Rate: {ops.get('cancellation_rate_pct', 0):.1f}%\")\n",
    "print()\n",
    "\n",
    "# Geographic Reach\n",
    "print(\"MARKET REACH:\")\n",
    "if not state_metrics.empty:\n",
    "    print(f\"  • States Served: {len(state_metrics)}\")\n",
    "    top_state = state_metrics.iloc[0]\n",
    "    print(f\"  • Top State: {top_state['customer_state']} (${top_state['total_revenue']:,.2f})\")\n",
    "    print(f\"  • Geographic Concentration: Top 5 states = {state_metrics.head(5)['revenue_share_pct'].sum():.1f}% of revenue\")\n",
    "print()\n",
    "\n",
    "print(\"KEY INSIGHTS & RECOMMENDATIONS:\")\n",
    "print(\"=\" * 60)\n",
    "\n",
    "# Growth insights\n",
    "if growth_metrics.get('revenue_growth_pct', 0) > 0:\n",
    "    print(\"✓ GROWTH: Positive revenue growth indicates healthy business expansion\")\n",
    "else:\n",
    "    print(\"⚠ ATTENTION: Negative revenue growth requires strategic review\")\n",
    "\n",
    "# Customer satisfaction insights\n",
    "avg_score = cx.get('avg_review_score', 0)\n",
    "if avg_score >= 4.0:\n",
    "    print(\"✓ SATISFACTION: High customer satisfaction scores support retention\")\n",
    "elif avg_score >= 3.5:\n",
    "    print(\"→ OPPORTUNITY: Moderate satisfaction - focus on service improvements\")\n",
    "else:\n",
    "    print(\"⚠ PRIORITY: Low satisfaction requires immediate attention\")\n",
    "\n",
    "# Delivery performance insights\n",
    "avg_delivery = cx.get('avg_delivery_days', 0)\n",
    "if avg_delivery <= 5:\n",
    "    print(\"✓ LOGISTICS: Fast delivery times enhance customer experience\")\n",
    "elif avg_delivery <= 10:\n",
    "    print(\"→ EFFICIENCY: Consider optimizing delivery operations\")\n",
    "else:\n",
    "    print(\"⚠ LOGISTICS: Extended delivery times may impact satisfaction\")\n",
    "\n",
    "# Product diversity insights\n",
    "if not category_metrics.empty:\n",
    "    top_category_share = category_metrics.iloc[0]['revenue_share_pct']\n",
    "    if top_category_share > 50:\n",
    "        print(\"→ DIVERSIFICATION: High category concentration - consider portfolio expansion\")\n",
    "    else:\n",
    "        print(\"✓ PORTFOLIO: Well-diversified product categories reduce risk\")\n",
    "\n",
    "print(\"\\n\" + \"=\" * 60)\n",
    "print(\"Analysis completed successfully\")\n",
    "print(f\"Report generated: {pd.Timestamp.now().strftime('%Y-%m-%d %H:%M:%S')}\")"
   ]
  }
 ],
 "metadata": {
  "kernelspec": {
   "display_name": "Python 3",
   "language": "python",
   "name": "python3"
  },
  "language_info": {
   "codemirror_mode": {
    "name": "ipython",
    "version": 3
   },
   "file_extension": ".py",
   "mimetype": "text/x-python",
   "name": "python",
   "nbconvert_exporter": "python",
   "pygments_lexer": "ipython3",
   "version": "3.8.5"
  }
 },
 "nbformat": 4,
 "nbformat_minor": 4
}
